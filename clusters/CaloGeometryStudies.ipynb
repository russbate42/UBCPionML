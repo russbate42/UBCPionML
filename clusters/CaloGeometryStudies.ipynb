{
 "cells": [
  {
   "cell_type": "markdown",
   "id": "50ae4a4c-8907-4646-b813-28b4f354aa2e",
   "metadata": {},
   "source": [
    "# Cell Geometry Studies\n",
    "The purpose of this notebook is to use the cell geometry root file to\n",
    "perform investigations on average locations of cells in the calorimeter\n",
    "layers. This is for the purpose of track projections for now. For \n",
    "calorimeter layers *parallel* to the beam line, we seek a common\n",
    "*'fixed rPerp'*. For layers *perpendicular* to the beam line we seek a\n",
    "common *'fixed z'*.\n",
    "\n",
    "\n",
    "**Contributors:**\n",
    "\n",
    "Russell Bate - \n",
    "russellbate@phas.ubc.ca"
   ]
  },
  {
   "cell_type": "markdown",
   "id": "3c190273-55af-466b-b46c-c86cceab7f08",
   "metadata": {},
   "source": [
    "#### Packages"
   ]
  },
  {
   "cell_type": "code",
   "execution_count": 1,
   "id": "eb1e300a-68d2-4a85-9fbb-fd65c2b7642b",
   "metadata": {},
   "outputs": [
    {
     "name": "stdout",
     "output_type": "stream",
     "text": [
      "Awkward version: 1.5.1\n",
      "Uproot version: 4.1.8\n"
     ]
    }
   ],
   "source": [
    "import numpy as np\n",
    "import matplotlib.pyplot as plt\n",
    "import uproot as ur\n",
    "import awkward as ak\n",
    "import time as t\n",
    "from time import perf_counter as cput\n",
    "\n",
    "print(\"Awkward version: \"+str(ak.__version__))\n",
    "print(\"Uproot version: \"+str(ur.__version__))\n",
    "\n",
    "geo_rootfile_loc = '/fast_scratch/atlas_images/v01-45/cell_geo.root'"
   ]
  },
  {
   "cell_type": "markdown",
   "id": "b6c1397a-b20a-4927-a8e3-6f8693d02c74",
   "metadata": {},
   "source": [
    "#### Data and Branches"
   ]
  },
  {
   "cell_type": "code",
   "execution_count": 2,
   "id": "d5ad66c2-6ac4-4a48-9055-bd208f72555a",
   "metadata": {},
   "outputs": [
    {
     "name": "stdout",
     "output_type": "stream",
     "text": [
      "(1, 'EMB1')\n",
      "(2, 'EMB2')\n",
      "(3, 'EMB3')\n",
      "(5, 'EME1')\n",
      "(6, 'EME2')\n",
      "(7, 'EME3')\n",
      "(8, 'HEC0')\n",
      "(9, 'HEC1')\n",
      "(10, 'HEC2')\n",
      "(11, 'HEC3')\n",
      "(12, 'TileBar0')\n",
      "(13, 'TileBar1')\n",
      "(14, 'TileBar2')\n",
      "(15, 'TileGap1')\n",
      "(16, 'TileGap2')\n",
      "(17, 'TileGap3')\n",
      "(18, 'TileExt0')\n",
      "(19, 'TileExt1')\n",
      "(20, 'TileExt2')\n"
     ]
    }
   ],
   "source": [
    "track_branches = ['trackEta_EMB1', 'trackPhi_EMB1', 'trackEta_EMB2', 'trackPhi_EMB2', 'trackEta_EMB3', 'trackPhi_EMB3',\n",
    "                  'trackEta_TileBar0', 'trackPhi_TileBar0', 'trackEta_TileBar1', 'trackPhi_TileBar1',\n",
    "                  'trackEta_TileBar2', 'trackPhi_TileBar2']\n",
    "\n",
    "geo_branches = [\"cell_geo_ID\", \"cell_geo_eta\", \"cell_geo_phi\", \"cell_geo_rPerp\", \"cell_geo_sampling\"]\n",
    "\n",
    "\n",
    "calo_layers = ['EMB1', 'EMB2', 'EMB3', 'EME1', 'EME2', 'EME3', 'HEC0', 'HEC1',\n",
    "    'HEC2', 'HEC3', 'TileBar0', 'TileBar1', 'TileBar2', 'TileGap1', 'TileGap2',\n",
    "    'TileGap3', 'TileExt0', 'TileExt1', 'TileExt2']\n",
    "calo_numbers = set([1,2,3,5,6,7,8,9,10,11,12,13,14,15,16,17,18,19,20])\n",
    "\n",
    "fixed_z_layers = ['EME1', 'EME2', 'EME3', 'HEC0', 'HEC1', 'HEC2', 'HEC3',\n",
    "    'HEC0', 'HEC1', 'HEC2', 'HEC3']\n",
    "fixed_z_numbers = set([5,6,7,8,9,10,11])\n",
    "\n",
    "fixed_r_layers = ['EMB1', 'EMB2', 'EMB3', 'EME1', 'EME2', 'EME3', 'TileBar0',\n",
    "    'TileBar1', 'TileBar2', 'TileGap1', 'TileGap2', 'TileGap3', 'TileExt0',\n",
    "    'TileExt1', 'TileExt2']\n",
    "fixed_r_numbers = set([1,2,3,12,13,14,15,16,17,18,19,20])\n",
    "\n",
    "\n",
    "calo_dict = dict(zip(calo_numbers, calo_layers))\n",
    "\n",
    "for item in calo_dict.items():\n",
    "    print(item)"
   ]
  },
  {
   "cell_type": "markdown",
   "id": "a0537bd8-edbe-499e-90de-ae9da4289e80",
   "metadata": {},
   "source": [
    "## Load Geometry Tree"
   ]
  },
  {
   "cell_type": "code",
   "execution_count": 3,
   "id": "4c859f5c-df38-48d3-9ed3-aa2f0303f63b",
   "metadata": {},
   "outputs": [
    {
     "name": "stdout",
     "output_type": "stream",
     "text": [
      "name                      | typename                 | interpretation                \n",
      "--------------------------+--------------------------+-------------------------------\n",
      "cell_geo_ID               | std::vector<uint64_t>    | AsJagged(AsDtype('>u8'), he...\n",
      "cell_geo_sampling         | std::vector<uint16_t>    | AsJagged(AsDtype('>u2'), he...\n",
      "cell_geo_eta              | std::vector<float>       | AsJagged(AsDtype('>f4'), he...\n",
      "cell_geo_phi              | std::vector<float>       | AsJagged(AsDtype('>f4'), he...\n",
      "cell_geo_rPerp            | std::vector<float>       | AsJagged(AsDtype('>f4'), he...\n",
      "cell_geo_deta             | std::vector<float>       | AsJagged(AsDtype('>f4'), he...\n",
      "cell_geo_dphi             | std::vector<float>       | AsJagged(AsDtype('>f4'), he...\n",
      "cell_geo_volume           | std::vector<float>       | AsJagged(AsDtype('>f4'), he...\n",
      "cell_geo_sigma            | std::vector<float>       | AsJagged(AsDtype('>f4'), he...\n",
      "cell_geo_prevInPhi        | std::vector<int32_t>     | AsJagged(AsDtype('>i4'), he...\n",
      "cell_geo_nextInPhi        | std::vector<int32_t>     | AsJagged(AsDtype('>i4'), he...\n",
      "cell_geo_prevInEta        | std::vector<int32_t>     | AsJagged(AsDtype('>i4'), he...\n",
      "cell_geo_nextInEta        | std::vector<int32_t>     | AsJagged(AsDtype('>i4'), he...\n",
      "cell_geo_prevInSamp       | std::vector<int32_t>     | AsJagged(AsDtype('>i4'), he...\n",
      "cell_geo_nextInSamp       | std::vector<int32_t>     | AsJagged(AsDtype('>i4'), he...\n",
      "cell_geo_prevSubDet       | std::vector<int32_t>     | AsJagged(AsDtype('>i4'), he...\n",
      "cell_geo_nextSubDet       | std::vector<int32_t>     | AsJagged(AsDtype('>i4'), he...\n",
      "cell_geo_prevSuperCalo    | std::vector<int32_t>     | AsJagged(AsDtype('>i4'), he...\n",
      "cell_geo_nextSuperCalo    | std::vector<int32_t>     | AsJagged(AsDtype('>i4'), he...\n"
     ]
    }
   ],
   "source": [
    "geo_file = ur.open(geo_rootfile_loc)\n",
    "CellGeo_tree = geo_file[\"CellGeo\"]\n",
    "CellGeo_tree.show(interpretation_width=30, name_width=25)"
   ]
  },
  {
   "cell_type": "code",
   "execution_count": 4,
   "id": "4db6d85f-10a2-4570-9a92-2524828ab7f5",
   "metadata": {},
   "outputs": [
    {
     "name": "stdout",
     "output_type": "stream",
     "text": [
      "(187650,)\n",
      "[6 6 6 6 6 6 6 6 6 6]\n"
     ]
    }
   ],
   "source": [
    "cell_geo_sampling = CellGeo_tree.arrays(filter_name='cell_geo_sampling')\\\n",
    "    ['cell_geo_sampling'].to_numpy().flatten()\n",
    "print(cell_geo_sampling.shape)\n",
    "print(cell_geo_sampling[:10])"
   ]
  },
  {
   "cell_type": "markdown",
   "id": "d08c2678-96b7-4112-b66a-3a330272e010",
   "metadata": {},
   "source": [
    "### Load Events"
   ]
  },
  {
   "cell_type": "code",
   "execution_count": 5,
   "id": "3b4e707b-df53-47b2-910e-41d56c58a2b5",
   "metadata": {},
   "outputs": [],
   "source": [
    "CGS = CellGeo_tree.arrays(filter_name='cell_geo_sampling')\\\n",
    "    ['cell_geo_sampling'].to_numpy().flatten()\n",
    "CGE = CellGeo_tree.arrays(filter_name='cell_geo_eta')\\\n",
    "    ['cell_geo_eta'].to_numpy().flatten()\n",
    "CGP = CellGeo_tree.arrays(filter_name='cell_geo_phi')\\\n",
    "    ['cell_geo_phi'].to_numpy().flatten()\n",
    "CGRp = CellGeo_tree.arrays(filter_name='cell_geo_rPerp')\\\n",
    "    ['cell_geo_rPerp'].to_numpy().flatten()"
   ]
  },
  {
   "cell_type": "markdown",
   "id": "e2924a71-cf4c-4e01-ae05-c37116f1b6cd",
   "metadata": {},
   "source": [
    "### Find X, Y, Z"
   ]
  },
  {
   "cell_type": "code",
   "execution_count": 6,
   "id": "39d8122a-7b79-4e57-a11b-26c6bebe3be9",
   "metadata": {},
   "outputs": [],
   "source": [
    "def xyz(eta, phi, rperp):\n",
    "    theta = 2*np.arctan( np.exp(-eta) )\n",
    "\n",
    "    cell_x = rperp*np.cos(phi)\n",
    "    cell_y = rperp*np.sin(phi)\n",
    "    cell_z = rperp/np.tan(theta)\n",
    "    \n",
    "    return cell_x, cell_y, cell_z"
   ]
  },
  {
   "cell_type": "code",
   "execution_count": 7,
   "id": "fbac6329-804e-470c-9394-ddf41fac763d",
   "metadata": {},
   "outputs": [],
   "source": [
    "X, Y, Z = xyz(eta=CGE, phi=CGP, rperp=CGRp)\n",
    "\n",
    "# this is because of symmetry in the calo geometry of course\n",
    "Z = np.abs(Z)"
   ]
  },
  {
   "cell_type": "markdown",
   "id": "eed9bd06-3dc9-4100-9ec5-56b9bbac6a44",
   "metadata": {},
   "source": [
    "### Use Masks to Find Averages"
   ]
  },
  {
   "cell_type": "code",
   "execution_count": 8,
   "id": "39b98553-3ff9-4384-9b3b-f567cba0d7c5",
   "metadata": {},
   "outputs": [
    {
     "name": "stdout",
     "output_type": "stream",
     "text": [
      "-- Fixed Z values --\n",
      "5 : 3790.032471  --  EME1\n",
      "6 : 3983.684326  --  EME2\n",
      "7 : 4195.843750  --  EME3\n",
      "8 : 4461.250000  --  HEC0\n",
      "9 : 4869.500000  --  HEC1\n",
      "10 : 5424.500000  --  HEC2\n",
      "11 : 5905.000977  --  HEC3\n",
      "\n",
      "-- Fixed rPerp values --\n",
      "1 : 1532.177246 --  EMB1\n",
      "2 : 1723.890869 --  EMB2\n",
      "3 : 1923.020996 --  EMB3\n",
      "12 : 2450.000000 --  TileBar0\n",
      "13 : 2995.000000 --  TileBar1\n",
      "14 : 3630.000000 --  TileBar2\n",
      "15 : 3215.000000 --  TileGap1\n",
      "16 : 3630.000000 --  TileGap2\n",
      "17 : 2246.500000 --  TileGap3\n",
      "18 : 2450.000000 --  TileExt0\n",
      "19 : 2870.000000 --  TileExt1\n",
      "20 : 3480.000000 --  TileExt2\n"
     ]
    }
   ],
   "source": [
    "z_av_dict = dict()\n",
    "r_av_dict = dict()\n",
    "\n",
    "for num in fixed_z_numbers:\n",
    "    mask = CGS == num\n",
    "    mean = np.mean(Z[mask])\n",
    "    z_av_dict[str(num)] = mean\n",
    "    \n",
    "for num in fixed_r_numbers:\n",
    "    mask = CGS == num\n",
    "    mean = np.mean(CGRp[mask])\n",
    "    r_av_dict[str(num)] = mean\n",
    "\n",
    "print('-- Fixed Z values --')\n",
    "for i, (key, value) in enumerate(z_av_dict.items()):\n",
    "    print('{} : {:f}  --  {:s}'.format(key, value, calo_dict[int(key)]))\n",
    "\n",
    "print()\n",
    "print('-- Fixed rPerp values --')\n",
    "for i, (key, value) in enumerate(r_av_dict.items()):\n",
    "    print('{} : {:f} --  {:s}'.format(key, value, calo_dict[int(key)]))"
   ]
  },
  {
   "cell_type": "code",
   "execution_count": null,
   "id": "6137824f-aa28-4b3a-97ed-2dfd60aba0e2",
   "metadata": {},
   "outputs": [],
   "source": []
  }
 ],
 "metadata": {
  "kernelspec": {
   "display_name": "Python 3 (ipykernel)",
   "language": "python",
   "name": "python3"
  },
  "language_info": {
   "codemirror_mode": {
    "name": "ipython",
    "version": 3
   },
   "file_extension": ".py",
   "mimetype": "text/x-python",
   "name": "python",
   "nbconvert_exporter": "python",
   "pygments_lexer": "ipython3",
   "version": "3.8.10"
  }
 },
 "nbformat": 4,
 "nbformat_minor": 5
}
