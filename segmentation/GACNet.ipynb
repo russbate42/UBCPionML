{
 "cells": [
  {
   "cell_type": "markdown",
   "id": "1bf7bdab-e2b1-457d-b9a7-39ae264e576f",
   "metadata": {},
   "source": [
    "# Graph Attention Convolution\n",
    "## for Semantic Segmentation"
   ]
  },
  {
   "cell_type": "markdown",
   "id": "d65e1f9f-7d85-482b-98b8-401a445d7ee4",
   "metadata": {},
   "source": [
    "### Load Models for GACNet"
   ]
  },
  {
   "cell_type": "code",
   "execution_count": null,
   "id": "60e1d046-8117-4c35-8d65-3e15177eb4cb",
   "metadata": {},
   "outputs": [],
   "source": []
  },
  {
   "cell_type": "markdown",
   "id": "1810df29-bb58-4f1a-8a37-f233d4aac40c",
   "metadata": {},
   "source": [
    "## Load Data"
   ]
  },
  {
   "cell_type": "code",
   "execution_count": null,
   "id": "0240aff5-024c-4189-9ccc-89f5d404d4c9",
   "metadata": {},
   "outputs": [],
   "source": []
  }
 ],
 "metadata": {
  "kernelspec": {
   "display_name": "Python 3 (ipykernel)",
   "language": "python",
   "name": "python3"
  },
  "language_info": {
   "codemirror_mode": {
    "name": "ipython",
    "version": 3
   },
   "file_extension": ".py",
   "mimetype": "text/x-python",
   "name": "python",
   "nbconvert_exporter": "python",
   "pygments_lexer": "ipython3",
   "version": "3.8.10"
  }
 },
 "nbformat": 4,
 "nbformat_minor": 5
}
