{
 "cells": [
  {
   "cell_type": "markdown",
   "id": "20029ce6",
   "metadata": {},
   "source": [
    "# Particle Flow Notebook\n",
    "### Goal:\n",
    "The goal of this notebook is to simply set up the pflow code such that we can copy out data into the same format and run a simple model\n",
    "### Implementation: \n",
    "For now just pull charged pion data, we have yet to add the neutral pion and shuffle them\n",
    "#### To Do:\n",
    "- Add neutral pion data in the same manner as charged pion and shuffle them\n",
    "\n",
    "- No idea as of yet how to incorporate the tracking information. Speculation is that this will be a separate network, and we will concatenate the results.\n",
    "  - Update on this: For now, try adding the track as just an extra point in the point cloud"
   ]
  },
  {
   "cell_type": "code",
   "execution_count": 1,
   "id": "32c45e88",
   "metadata": {},
   "outputs": [
    {
     "name": "stdout",
     "output_type": "stream",
     "text": [
      "Awkward Array Version: 1.2.2\n",
      "Uproot Version: 4.0.7\n"
     ]
    }
   ],
   "source": [
    "import numpy as np\n",
    "import matplotlib.pyplot as plt\n",
    "from matplotlib import cm\n",
    "from matplotlib.colors import Normalize\n",
    "import uproot as ur\n",
    "import awkward as ak\n",
    "import time as t\n",
    "import copy\n",
    "print(\"Awkward Array Version: \"+str(ak.__version__))\n",
    "print(\"Uproot Version: \"+str(ur.__version__))\n",
    "\n",
    "import energyflow as ef\n",
    "from energyflow.archs import EFN\n",
    "from energyflow.archs import PFN\n",
    "# from energyflow.datasets import qg_jets\n",
    "from energyflow.utils import data_split, to_categorical\n",
    "\n",
    "from sklearn.metrics import roc_auc_score, roc_curve"
   ]
  },
  {
   "cell_type": "code",
   "execution_count": 2,
   "id": "bc46237e",
   "metadata": {},
   "outputs": [],
   "source": [
    "import sys\n",
    "sys.path.append('/home/russbate/MLPionCollaboration/LCStudies')\n",
    "from util import graph_util as gu"
   ]
  },
  {
   "cell_type": "code",
   "execution_count": 3,
   "id": "cfc64727",
   "metadata": {},
   "outputs": [],
   "source": [
    "def find_sampling_events(_ak_cluster_cell_ID, _cellGeoID, _cellGeoSampling, _filter):\n",
    "    ''' Inputs:\n",
    "    _ak_cluster_cell_ID: awkward array with nested arrays of all the cell geometry IDs\n",
    "    _cellGeoID: list of the cell IDs to find the index from, expects numpy format\n",
    "    _cellGeoSampling: same as _cellGeoID but the sampling layer\n",
    "    _filter: the numbered index of calorimetry layers\n",
    "    Returns:\n",
    "    an array of event indices with clusters containing barrel events\n",
    "    '''\n",
    "\n",
    "    # create unique list of sampling layers for every event\n",
    "    _event_layers = []\n",
    "    # list of event indices with one or more clusters in EMB1-3 or TileBar0-2\n",
    "    _barrel_events = []\n",
    "    \n",
    "    for _evt_idx in range(len(_ak_cluster_cell_ID)):\n",
    "        _cluster_cell_ID = ak_cluster_cell_ID[\"cluster_cell_ID\"][_evt_idx]\n",
    "\n",
    "        # create unique list of sampling layers for every cluster\n",
    "        _event_layers = []\n",
    "\n",
    "        for j in range(len(_cluster_cell_ID)):\n",
    "            ''' loop through each cluster of the event '''\n",
    "\n",
    "            for l in range(len(_cluster_cell_ID[j])):\n",
    "                ''' loop through the cluster elements searching for new layer numbers'''\n",
    "                # grab the first cell_geo_ID, l-th element of the j-th cluster\n",
    "                _cellGeoTag = _cluster_cell_ID[j][l]\n",
    "\n",
    "                # find the index of the cell_geo_ID, use [0][0] becuase of np.where return\n",
    "                _cellGeo_idx = np.argwhere(np.asarray(_cellGeoID == _cellGeoTag))\n",
    "\n",
    "                # find the sampling layer based on the index\n",
    "                _this_layer = _cellGeoSampling[_cellGeo_idx]\n",
    "\n",
    "                if not np.isin(_this_layer, _event_layers):\n",
    "                    _event_layers.append(_this_layer)      \n",
    "\n",
    "        # add event to list if one is in the barrel layer\n",
    "        if np.any(np.isin(_event_layers, _filter)):\n",
    "            _barrel_events.append(_evt_idx)\n",
    "\n",
    "    return np.array(_barrel_events)\n",
    "\n",
    "\n",
    "def center_cluster():\n",
    "    ''' Expects a single cluster with a single cluster center '''\n",
    "    return None\n",
    "\n",
    "def center_clusters():\n",
    "    ''' Expects multiple clusters and creates an imshow using the average of the cluster centers'''\n",
    "    return None\n",
    "\n",
    "def cluster_to_imshow():\n",
    "    ''' Takes a cluster and converts to a python imshow '''\n",
    "    return None"
   ]
  },
  {
   "cell_type": "markdown",
   "id": "d2c8dcf6",
   "metadata": {},
   "source": [
    "#### Events"
   ]
  },
  {
   "cell_type": "code",
   "execution_count": 4,
   "id": "3e089c1d",
   "metadata": {},
   "outputs": [],
   "source": [
    "cPionEvents = '/fast_scratch/atlas_images/v01-45/pipm/'\n",
    "nPionEvents = '/fast_scratch/atlas_images/v01-45/pi0/'"
   ]
  },
  {
   "cell_type": "code",
   "execution_count": 5,
   "id": "e01451ee",
   "metadata": {},
   "outputs": [],
   "source": [
    "cPion_502 = ur.open(cPionEvents+'user.angerami.24559744.OutputStream._000502.root')\n",
    "nPion_502 = ur.open(nPionEvents+'user.angerami.24559740.OutputStream._000502.root')"
   ]
  },
  {
   "cell_type": "code",
   "execution_count": 6,
   "id": "b9a36967",
   "metadata": {},
   "outputs": [],
   "source": [
    "cPionEvents = cPion_502[\"EventTree\"]\n",
    "nPionEvents = nPion_502[\"EventTree\"]"
   ]
  },
  {
   "cell_type": "markdown",
   "id": "5ee5ca92",
   "metadata": {},
   "source": [
    "#### Cell Geometry"
   ]
  },
  {
   "cell_type": "code",
   "execution_count": 7,
   "id": "bc70c8f4",
   "metadata": {},
   "outputs": [],
   "source": [
    "cellGeoTree = cPion_502[\"CellGeo\"]"
   ]
  },
  {
   "cell_type": "markdown",
   "id": "92e8205a",
   "metadata": {},
   "source": [
    "### Load & Show Trees"
   ]
  },
  {
   "cell_type": "code",
   "execution_count": 8,
   "id": "34a93d6e",
   "metadata": {
    "scrolled": true,
    "tags": []
   },
   "outputs": [
    {
     "name": "stdout",
     "output_type": "stream",
     "text": [
      "name                                       | typename                 | interpretation                                              \n",
      "-------------------------------------------+--------------------------+-------------------------------------------------------------\n",
      "runNumber                                  | int32_t                  | AsDtype('>i4')\n",
      "eventNumber                                | int64_t                  | AsDtype('>i8')\n",
      "lumiBlock                                  | int32_t                  | AsDtype('>i4')\n",
      "coreFlags                                  | uint32_t                 | AsDtype('>u4')\n",
      "mcEventNumber                              | int32_t                  | AsDtype('>i4')\n",
      "mcChannelNumber                            | int32_t                  | AsDtype('>i4')\n",
      "mcEventWeight                              | float                    | AsDtype('>f4')\n",
      "nTruthPart                                 | int32_t                  | AsDtype('>i4')\n",
      "G4PreCalo_n_EM                             | int32_t                  | AsDtype('>i4')\n",
      "G4PreCalo_E_EM                             | float                    | AsDtype('>f4')\n",
      "G4PreCalo_n_Had                            | int32_t                  | AsDtype('>i4')\n",
      "G4PreCalo_E_Had                            | float                    | AsDtype('>f4')\n",
      "truthVertexX                               | float                    | AsDtype('>f4')\n",
      "truthVertexY                               | float                    | AsDtype('>f4')\n",
      "truthVertexZ                               | float                    | AsDtype('>f4')\n",
      "truthPartPdgId                             | std::vector<int32_t>     | AsJagged(AsDtype('>i4'), header_bytes=10)\n",
      "truthPartStatus                            | std::vector<int32_t>     | AsJagged(AsDtype('>i4'), header_bytes=10)\n",
      "truthPartBarcode                           | std::vector<int32_t>     | AsJagged(AsDtype('>i4'), header_bytes=10)\n",
      "truthPartPt                                | std::vector<float>       | AsJagged(AsDtype('>f4'), header_bytes=10)\n",
      "truthPartE                                 | std::vector<float>       | AsJagged(AsDtype('>f4'), header_bytes=10)\n",
      "truthPartMass                              | std::vector<float>       | AsJagged(AsDtype('>f4'), header_bytes=10)\n",
      "truthPartEta                               | std::vector<float>       | AsJagged(AsDtype('>f4'), header_bytes=10)\n",
      "truthPartPhi                               | std::vector<float>       | AsJagged(AsDtype('>f4'), header_bytes=10)\n",
      "nTrack                                     | int32_t                  | AsDtype('>i4')\n",
      "trackPt                                    | std::vector<float>       | AsJagged(AsDtype('>f4'), header_bytes=10)\n",
      "trackP                                     | std::vector<float>       | AsJagged(AsDtype('>f4'), header_bytes=10)\n",
      "trackMass                                  | std::vector<float>       | AsJagged(AsDtype('>f4'), header_bytes=10)\n",
      "trackEta                                   | std::vector<float>       | AsJagged(AsDtype('>f4'), header_bytes=10)\n",
      "trackPhi                                   | std::vector<float>       | AsJagged(AsDtype('>f4'), header_bytes=10)\n",
      "trackNumberOfPixelHits                     | std::vector<int32_t>     | AsJagged(AsDtype('>i4'), header_bytes=10)\n",
      "trackNumberOfSCTHits                       | std::vector<int32_t>     | AsJagged(AsDtype('>i4'), header_bytes=10)\n",
      "trackNumberOfPixelDeadSensors              | std::vector<int32_t>     | AsJagged(AsDtype('>i4'), header_bytes=10)\n",
      "trackNumberOfSCTDeadSensors                | std::vector<int32_t>     | AsJagged(AsDtype('>i4'), header_bytes=10)\n",
      "trackNumberOfPixelSharedHits               | std::vector<int32_t>     | AsJagged(AsDtype('>i4'), header_bytes=10)\n",
      "trackNumberOfSCTSharedHits                 | std::vector<int32_t>     | AsJagged(AsDtype('>i4'), header_bytes=10)\n",
      "trackNumberOfPixelHoles                    | std::vector<int32_t>     | AsJagged(AsDtype('>i4'), header_bytes=10)\n",
      "trackNumberOfSCTHoles                      | std::vector<int32_t>     | AsJagged(AsDtype('>i4'), header_bytes=10)\n",
      "trackNumberOfInnermostPixelLayerHits       | std::vector<int32_t>     | AsJagged(AsDtype('>i4'), header_bytes=10)\n",
      "trackNumberOfNextToInnermostPixelLayerHits | std::vector<int32_t>     | AsJagged(AsDtype('>i4'), header_bytes=10)\n",
      "trackExpectInnermostPixelLayerHit          | std::vector<int32_t>     | AsJagged(AsDtype('>i4'), header_bytes=10)\n",
      "trackExpectNextToInnermostPixelLayerHit    | std::vector<int32_t>     | AsJagged(AsDtype('>i4'), header_bytes=10)\n",
      "trackNumberOfTRTHits                       | std::vector<int32_t>     | AsJagged(AsDtype('>i4'), header_bytes=10)\n",
      "trackNumberOfTRTOutliers                   | std::vector<int32_t>     | AsJagged(AsDtype('>i4'), header_bytes=10)\n",
      "trackChiSquared                            | std::vector<float>       | AsJagged(AsDtype('>f4'), header_bytes=10)\n",
      "trackNumberDOF                             | std::vector<int32_t>     | AsJagged(AsDtype('>i4'), header_bytes=10)\n",
      "trackD0                                    | std::vector<float>       | AsJagged(AsDtype('>f4'), header_bytes=10)\n",
      "trackZ0                                    | std::vector<float>       | AsJagged(AsDtype('>f4'), header_bytes=10)\n",
      "trackEta_PreSamplerB                       | std::vector<float>       | AsJagged(AsDtype('>f4'), header_bytes=10)\n",
      "trackPhi_PreSamplerB                       | std::vector<float>       | AsJagged(AsDtype('>f4'), header_bytes=10)\n",
      "trackEta_PreSamplerE                       | std::vector<float>       | AsJagged(AsDtype('>f4'), header_bytes=10)\n",
      "trackPhi_PreSamplerE                       | std::vector<float>       | AsJagged(AsDtype('>f4'), header_bytes=10)\n",
      "trackEta_EMB1                              | std::vector<float>       | AsJagged(AsDtype('>f4'), header_bytes=10)\n",
      "trackPhi_EMB1                              | std::vector<float>       | AsJagged(AsDtype('>f4'), header_bytes=10)\n",
      "trackEta_EMB2                              | std::vector<float>       | AsJagged(AsDtype('>f4'), header_bytes=10)\n",
      "trackPhi_EMB2                              | std::vector<float>       | AsJagged(AsDtype('>f4'), header_bytes=10)\n",
      "trackEta_EMB3                              | std::vector<float>       | AsJagged(AsDtype('>f4'), header_bytes=10)\n",
      "trackPhi_EMB3                              | std::vector<float>       | AsJagged(AsDtype('>f4'), header_bytes=10)\n",
      "trackEta_EME1                              | std::vector<float>       | AsJagged(AsDtype('>f4'), header_bytes=10)\n",
      "trackPhi_EME1                              | std::vector<float>       | AsJagged(AsDtype('>f4'), header_bytes=10)\n",
      "trackEta_EME2                              | std::vector<float>       | AsJagged(AsDtype('>f4'), header_bytes=10)\n",
      "trackPhi_EME2                              | std::vector<float>       | AsJagged(AsDtype('>f4'), header_bytes=10)\n",
      "trackEta_EME3                              | std::vector<float>       | AsJagged(AsDtype('>f4'), header_bytes=10)\n",
      "trackPhi_EME3                              | std::vector<float>       | AsJagged(AsDtype('>f4'), header_bytes=10)\n",
      "trackEta_HEC0                              | std::vector<float>       | AsJagged(AsDtype('>f4'), header_bytes=10)\n",
      "trackPhi_HEC0                              | std::vector<float>       | AsJagged(AsDtype('>f4'), header_bytes=10)\n",
      "trackEta_HEC1                              | std::vector<float>       | AsJagged(AsDtype('>f4'), header_bytes=10)\n",
      "trackPhi_HEC1                              | std::vector<float>       | AsJagged(AsDtype('>f4'), header_bytes=10)\n",
      "trackEta_HEC2                              | std::vector<float>       | AsJagged(AsDtype('>f4'), header_bytes=10)\n",
      "trackPhi_HEC2                              | std::vector<float>       | AsJagged(AsDtype('>f4'), header_bytes=10)\n",
      "trackEta_HEC3                              | std::vector<float>       | AsJagged(AsDtype('>f4'), header_bytes=10)\n",
      "trackPhi_HEC3                              | std::vector<float>       | AsJagged(AsDtype('>f4'), header_bytes=10)\n",
      "trackEta_TileBar0                          | std::vector<float>       | AsJagged(AsDtype('>f4'), header_bytes=10)\n",
      "trackPhi_TileBar0                          | std::vector<float>       | AsJagged(AsDtype('>f4'), header_bytes=10)\n",
      "trackEta_TileBar1                          | std::vector<float>       | AsJagged(AsDtype('>f4'), header_bytes=10)\n",
      "trackPhi_TileBar1                          | std::vector<float>       | AsJagged(AsDtype('>f4'), header_bytes=10)\n",
      "trackEta_TileBar2                          | std::vector<float>       | AsJagged(AsDtype('>f4'), header_bytes=10)\n",
      "trackPhi_TileBar2                          | std::vector<float>       | AsJagged(AsDtype('>f4'), header_bytes=10)\n",
      "trackEta_TileGap1                          | std::vector<float>       | AsJagged(AsDtype('>f4'), header_bytes=10)\n",
      "trackPhi_TileGap1                          | std::vector<float>       | AsJagged(AsDtype('>f4'), header_bytes=10)\n",
      "trackEta_TileGap2                          | std::vector<float>       | AsJagged(AsDtype('>f4'), header_bytes=10)\n",
      "trackPhi_TileGap2                          | std::vector<float>       | AsJagged(AsDtype('>f4'), header_bytes=10)\n",
      "trackEta_TileGap3                          | std::vector<float>       | AsJagged(AsDtype('>f4'), header_bytes=10)\n",
      "trackPhi_TileGap3                          | std::vector<float>       | AsJagged(AsDtype('>f4'), header_bytes=10)\n",
      "trackEta_TileExt0                          | std::vector<float>       | AsJagged(AsDtype('>f4'), header_bytes=10)\n",
      "trackPhi_TileExt0                          | std::vector<float>       | AsJagged(AsDtype('>f4'), header_bytes=10)\n",
      "trackEta_TileExt1                          | std::vector<float>       | AsJagged(AsDtype('>f4'), header_bytes=10)\n",
      "trackPhi_TileExt1                          | std::vector<float>       | AsJagged(AsDtype('>f4'), header_bytes=10)\n",
      "trackEta_TileExt2                          | std::vector<float>       | AsJagged(AsDtype('>f4'), header_bytes=10)\n",
      "trackPhi_TileExt2                          | std::vector<float>       | AsJagged(AsDtype('>f4'), header_bytes=10)\n",
      "AntiKt4EMTopoJetsPt                        | std::vector<float>       | AsJagged(AsDtype('>f4'), header_bytes=10)\n",
      "AntiKt4EMTopoJetsEta                       | std::vector<float>       | AsJagged(AsDtype('>f4'), header_bytes=10)\n",
      "AntiKt4EMTopoJetsPhi                       | std::vector<float>       | AsJagged(AsDtype('>f4'), header_bytes=10)\n",
      "AntiKt4EMTopoJetsE                         | std::vector<float>       | AsJagged(AsDtype('>f4'), header_bytes=10)\n",
      "AntiKt4LCTopoJetsPt                        | std::vector<float>       | AsJagged(AsDtype('>f4'), header_bytes=10)\n",
      "AntiKt4LCTopoJetsEta                       | std::vector<float>       | AsJagged(AsDtype('>f4'), header_bytes=10)\n",
      "AntiKt4LCTopoJetsPhi                       | std::vector<float>       | AsJagged(AsDtype('>f4'), header_bytes=10)\n",
      "AntiKt4LCTopoJetsE                         | std::vector<float>       | AsJagged(AsDtype('>f4'), header_bytes=10)\n",
      "AntiKt4TruthJetsPt                         | std::vector<float>       | AsJagged(AsDtype('>f4'), header_bytes=10)\n",
      "AntiKt4TruthJetsEta                        | std::vector<float>       | AsJagged(AsDtype('>f4'), header_bytes=10)\n",
      "AntiKt4TruthJetsPhi                        | std::vector<float>       | AsJagged(AsDtype('>f4'), header_bytes=10)\n",
      "AntiKt4TruthJetsE                          | std::vector<float>       | AsJagged(AsDtype('>f4'), header_bytes=10)\n",
      "AntiKt4TruthJetsFlavor                     | std::vector<int32_t>     | AsJagged(AsDtype('>i4'), header_bytes=10)\n",
      "nCluster                                   | int32_t                  | AsDtype('>i4')\n",
      "cluster_E                                  | std::vector<float>       | AsJagged(AsDtype('>f4'), header_bytes=10)\n",
      "cluster_E_LCCalib                          | std::vector<float>       | AsJagged(AsDtype('>f4'), header_bytes=10)\n",
      "cluster_Pt                                 | std::vector<float>       | AsJagged(AsDtype('>f4'), header_bytes=10)\n",
      "cluster_Eta                                | std::vector<float>       | AsJagged(AsDtype('>f4'), header_bytes=10)\n",
      "cluster_Phi                                | std::vector<float>       | AsJagged(AsDtype('>f4'), header_bytes=10)\n",
      "cluster_nCells                             | std::vector<int32_t>     | AsJagged(AsDtype('>i4'), header_bytes=10)\n",
      "cluster_ENG_CALIB_TOT                      | std::vector<float>       | AsJagged(AsDtype('>f4'), header_bytes=10)\n",
      "cluster_ENG_CALIB_OUT_T                    | std::vector<float>       | AsJagged(AsDtype('>f4'), header_bytes=10)\n",
      "cluster_ENG_CALIB_DEAD_TOT                 | std::vector<float>       | AsJagged(AsDtype('>f4'), header_bytes=10)\n",
      "cluster_EM_PROBABILITY                     | std::vector<float>       | AsJagged(AsDtype('>f4'), header_bytes=10)\n",
      "cluster_HAD_WEIGHT                         | std::vector<float>       | AsJagged(AsDtype('>f4'), header_bytes=10)\n",
      "cluster_OOC_WEIGHT                         | std::vector<float>       | AsJagged(AsDtype('>f4'), header_bytes=10)\n",
      "cluster_DM_WEIGHT                          | std::vector<float>       | AsJagged(AsDtype('>f4'), header_bytes=10)\n",
      "cluster_CENTER_MAG                         | std::vector<float>       | AsJagged(AsDtype('>f4'), header_bytes=10)\n",
      "cluster_FIRST_ENG_DENS                     | std::vector<float>       | AsJagged(AsDtype('>f4'), header_bytes=10)\n",
      "cluster_CENTER_LAMBDA                      | std::vector<float>       | AsJagged(AsDtype('>f4'), header_bytes=10)\n",
      "cluster_ISOLATION                          | std::vector<float>       | AsJagged(AsDtype('>f4'), header_bytes=10)\n",
      "cluster_ENERGY_DigiHSTruth                 | std::vector<float>       | AsJagged(AsDtype('>f4'), header_bytes=10)\n",
      "cluster_cell_ID                            | std::vector<std::vect... | AsObjects(AsVector(True, AsVector(False, dtype('>u8'))))\n",
      "cluster_cell_E                             | std::vector<std::vect... | AsObjects(AsVector(True, AsVector(False, dtype('>f4'))))\n",
      "cluster_hitsTruthIndex                     | std::vector<std::vect... | AsObjects(AsVector(True, AsVector(False, dtype('>i4'))))\n",
      "cluster_hitsTruthE                         | std::vector<std::vect... | AsObjects(AsVector(True, AsVector(False, dtype('>f4'))))\n"
     ]
    }
   ],
   "source": [
    "# Show keys\n",
    "cPionEvents.show(name_width=42,\n",
    "                interpretation_width=60)\n",
    "\n",
    "## Event information\n",
    "## Charged Pions\n",
    "ak_cluster_nCells = cPionEvents.arrays(filter_name=\"cluster_nCells\")\n",
    "ak_cluster_cell_ID = cPionEvents.arrays(filter_name=\"cluster_cell_ID\")\n",
    "ak_cluster_cell_E = cPionEvents.arrays(filter_name=\"cluster_cell_E\")\n",
    "nCluster = cPionEvents.arrays(library='np')[\"nCluster\"]\n",
    "eventNumber = cPionEvents.arrays(library='np')[\"eventNumber\"]\n",
    "nTrack = cPionEvents.arrays(library='np')[\"nTrack\"]\n",
    "cPionPart = cPionEvents.arrays(library='np')[\"nTruthPart\"]\n",
    "cPionId = cPionEvents.arrays(library='np')[\"truthPartPdgId\"]\n",
    "ak_cluster_Eta = cPionEvents.arrays(filter_name=\"cluster_Eta\")\n",
    "ak_cluster_Phi = cPionEvents.arrays(filter_name=\"cluster_Phi\")"
   ]
  },
  {
   "cell_type": "markdown",
   "id": "f59d14f9-be3f-4c22-bbff-42783297a118",
   "metadata": {},
   "source": [
    "#### Events - Print particle ID for reference"
   ]
  },
  {
   "cell_type": "code",
   "execution_count": 12,
   "id": "f63dfb0e",
   "metadata": {
    "scrolled": true,
    "tags": []
   },
   "outputs": [
    {
     "name": "stdout",
     "output_type": "stream",
     "text": [
      "If single particle gun, then this should all be ones\n",
      "Charged Pions: \n",
      "[1 1 1 1 1 1 1 1 1 1 1 1 1 1 1 1 1 1 1 1 1 1 1 1 1 1 1 1 1 1 1 1 1 1 1 1 1\n",
      " 1 1 1 1 1 1 1 1 1 1 1 1 1]\n",
      "Neutral Pions: \n",
      "[3 3 3 3 3 3 3 3 3 4 3 3 3 3 3 3 3 3 3 3 3 3 3 3 3 3 3 3 3 3 3 3 3 3 3 3 3\n",
      " 3 3 3 3 3 3 3 3 3 3 3 3 3]\n",
      ".. pew pew ..\n",
      "\n",
      "Check for particle data group identification of pi plus or pi minus\n",
      "[array([-211], dtype=int32) array([211], dtype=int32)\n",
      " array([211], dtype=int32) array([211], dtype=int32)\n",
      " array([-211], dtype=int32)]\n",
      "\n",
      "Check for particle data group identification of pi0\n",
      "[array([111,  22,  22], dtype=int32) array([111,  22,  22], dtype=int32)\n",
      " array([111,  22,  22], dtype=int32) array([111,  22,  22], dtype=int32)\n",
      " array([111,  22,  22], dtype=int32)]\n"
     ]
    }
   ],
   "source": [
    "## Neutral Pions\n",
    "nPionPart = nPionEvents.arrays(library='np')[\"nTruthPart\"]\n",
    "nPionId = nPionEvents.arrays(library='np')[\"truthPartPdgId\"]\n",
    "\n",
    "print(\"If single particle gun, then this should all be ones\")\n",
    "print(\"Charged Pions: \")\n",
    "print(cPionPart[0:50])\n",
    "print(\"Neutral Pions: \")\n",
    "print(nPionPart[0:50]);print('.. pew pew ..'); print()\n",
    "\n",
    "print(\"Check for particle data group identification of pi plus or pi minus\")\n",
    "print(cPionId[0:5]);print()\n",
    "print(\"Check for particle data group identification of pi0\")\n",
    "print(nPionId[0:5])"
   ]
  },
  {
   "cell_type": "markdown",
   "id": "7a766e5d",
   "metadata": {},
   "source": [
    "Notes: We need to be careful here about matching clusters with particles as the pions are decaying to two electrons\n",
    "\n",
    "$\\pi^0 = 111$\n",
    "\n",
    "$\\pi^{\\pm} = \\pm 211$\n",
    "\n",
    "$e^{\\pm} = \\pm 22$"
   ]
  },
  {
   "cell_type": "markdown",
   "id": "deda8532",
   "metadata": {},
   "source": [
    "#### Cell Geometry"
   ]
  },
  {
   "cell_type": "code",
   "execution_count": 13,
   "id": "730f77f1",
   "metadata": {},
   "outputs": [
    {
     "name": "stdout",
     "output_type": "stream",
     "text": [
      "name                                       | typename                 | interpretation                                    \n",
      "-------------------------------------------+--------------------------+---------------------------------------------------\n",
      "cell_geo_ID                                | std::vector<uint64_t>    | AsJagged(AsDtype('>u8'), header_bytes=10)\n",
      "cell_geo_sampling                          | std::vector<uint16_t>    | AsJagged(AsDtype('>u2'), header_bytes=10)\n",
      "cell_geo_eta                               | std::vector<float>       | AsJagged(AsDtype('>f4'), header_bytes=10)\n",
      "cell_geo_phi                               | std::vector<float>       | AsJagged(AsDtype('>f4'), header_bytes=10)\n",
      "cell_geo_rPerp                             | std::vector<float>       | AsJagged(AsDtype('>f4'), header_bytes=10)\n",
      "cell_geo_deta                              | std::vector<float>       | AsJagged(AsDtype('>f4'), header_bytes=10)\n",
      "cell_geo_dphi                              | std::vector<float>       | AsJagged(AsDtype('>f4'), header_bytes=10)\n",
      "cell_geo_volume                            | std::vector<float>       | AsJagged(AsDtype('>f4'), header_bytes=10)\n",
      "cell_geo_sigma                             | std::vector<float>       | AsJagged(AsDtype('>f4'), header_bytes=10)\n"
     ]
    }
   ],
   "source": [
    "cellGeoTree.show(name_width=42,\n",
    "                interpretation_width=50)"
   ]
  },
  {
   "cell_type": "code",
   "execution_count": 14,
   "id": "8bb4f4ca",
   "metadata": {},
   "outputs": [],
   "source": [
    "# Geometry information\n",
    "cell_geo_ID = cellGeoTree.arrays(filter_name='cell_geo_ID')[0][\"cell_geo_ID\"].to_numpy()\n",
    "cell_geo_eta = cellGeoTree.arrays(filter_name='cell_geo_eta')[0][\"cell_geo_eta\"].to_numpy()\n",
    "cell_geo_phi = cellGeoTree.arrays(filter_name='cell_geo_phi')[0][\"cell_geo_phi\"].to_numpy()\n",
    "cell_geo_rPerp = cellGeoTree.arrays(filter_name='cell_geo_rPerp')[0][\"cell_geo_rPerp\"].to_numpy()\n",
    "cell_geo_deta = cellGeoTree.arrays(filter_name='cell_geo_deta')[0][\"cell_geo_deta\"].to_numpy()\n",
    "cell_geo_dphi = cellGeoTree.arrays(filter_name='cell_geo_dphi')[0][\"cell_geo_dphi\"].to_numpy()\n",
    "cell_geo_sampling = cellGeoTree.arrays(filter_name='cell_geo_sampling')[0][\"cell_geo_sampling\"].to_numpy()"
   ]
  },
  {
   "cell_type": "markdown",
   "id": "4791fca9",
   "metadata": {},
   "source": [
    "### Find Barrel Events"
   ]
  },
  {
   "cell_type": "code",
   "execution_count": 15,
   "id": "389a8275",
   "metadata": {},
   "outputs": [
    {
     "name": "stdout",
     "output_type": "stream",
     "text": [
      "[ 0  2  3  6  7 11 14 20 22 26]\n"
     ]
    }
   ],
   "source": [
    "## Find these events for neutral pions\n",
    "barrel_filter = np.array([1,2,3,12,13,14])\n",
    "\n",
    "barrel_events = find_sampling_events(_ak_cluster_cell_ID = ak_cluster_cell_ID,\n",
    "                                     _cellGeoID = cell_geo_ID, _cellGeoSampling = cell_geo_sampling,\n",
    "                                     _filter = barrel_filter)\n",
    "print(barrel_events[0:10])"
   ]
  },
  {
   "cell_type": "markdown",
   "id": "9a69990c-93e3-47aa-8973-85e7ffd7f2da",
   "metadata": {},
   "source": [
    "### Set Up Clusters in Particle Flow format"
   ]
  },
  {
   "cell_type": "markdown",
   "id": "77c806f0-b569-466d-aa70-c56247f969e2",
   "metadata": {},
   "source": [
    "#### Find maximum cluster size"
   ]
  },
  {
   "cell_type": "code",
   "execution_count": 16,
   "id": "67054247-5340-422f-bd49-1b3ec00861d2",
   "metadata": {},
   "outputs": [
    {
     "name": "stdout",
     "output_type": "stream",
     "text": [
      "10% complete in 0.12103104591369629 (s)\n",
      "\n",
      "Maximum number of cells in a cluster: 726\n"
     ]
    }
   ],
   "source": [
    "max_cluster_num = 0\n",
    "\n",
    "total_events = len(barrel_events)\n",
    "my_event = 0\n",
    "print_progress = False\n",
    "ts = t.time()\n",
    "\n",
    "# search through all the barrel events\n",
    "for _evt in barrel_events:\n",
    "    _clusters = ak_cluster_cell_ID[\"cluster_cell_ID\"][_evt]\n",
    "    \n",
    "    my_event += 1\n",
    "    _completion = my_event/total_events\n",
    "    if print_progress == False and _completion >= .1:\n",
    "        print_progress = True\n",
    "        t_10 = t.time()\n",
    "        print(\"10% complete in \"+str(t_10 - ts)+\" (s)\"); print()\n",
    "    \n",
    "    for _clust_idx in range(nCluster[_evt]):\n",
    "        _num_in_clust = len(_clusters[_clust_idx])\n",
    "        if _num_in_clust > max_cluster_num:\n",
    "            max_cluster_num = _num_in_clust\n",
    "\n",
    "print('Maximum number of cells in a cluster: '+str(max_cluster_num))"
   ]
  },
  {
   "cell_type": "markdown",
   "id": "92c0cf1f-b5a8-4e35-a2ee-435466cb621b",
   "metadata": {},
   "source": [
    "### Find number of central clusters"
   ]
  },
  {
   "cell_type": "code",
   "execution_count": 23,
   "id": "cf2faa9c-043e-43fd-917c-1a81ac7d448e",
   "metadata": {},
   "outputs": [
    {
     "name": "stdout",
     "output_type": "stream",
     "text": [
      "8909\n"
     ]
    }
   ],
   "source": [
    "num_central_clusters = 0\n",
    "\n",
    "for _evt in barrel_events:\n",
    "    \n",
    "    for _clust_idx in range(nCluster[_evt]):\n",
    "        _clust_Eta = ak_cluster_Eta[\"cluster_Eta\"][_evt][_clust_idx]\n",
    "        \n",
    "        if np.abs(_clust_Eta) < .7:\n",
    "            num_central_clusters += 1\n",
    "        \n",
    "print(num_central_clusters)"
   ]
  },
  {
   "cell_type": "markdown",
   "id": "3dcfbb87-932b-4249-8927-739defe27a0c",
   "metadata": {},
   "source": [
    "### Create dataset"
   ]
  },
  {
   "cell_type": "code",
   "execution_count": 24,
   "id": "c58bce0d-a7ff-45e8-a906-98adc893ebf6",
   "metadata": {},
   "outputs": [],
   "source": [
    "## Just as in the Pflow example we have a three dimensional numpy arrays with\n",
    "## empty values set as a flag\n",
    "X = np.zeros( (num_central_clusters, max_cluster_num, 4) )"
   ]
  },
  {
   "cell_type": "code",
   "execution_count": 25,
   "id": "a360e5fc-22de-4e58-b12a-1dd1fc2ad946",
   "metadata": {},
   "outputs": [
    {
     "name": "stdout",
     "output_type": "stream",
     "text": [
      "[(0, 0), (2, 0), (3, 0), (6, 0), (7, 0), (11, 0), (14, 0), (20, 0), (22, 0), (26, 0)]\n"
     ]
    }
   ],
   "source": [
    "def find_central_clusters(_numClusters, _ak_cluster_Eta, _events):\n",
    "    ''' Goal: return an array of indices for awkward array where cells have cluster centers \n",
    "    with an eta < .7\n",
    "    Inputs:\n",
    "    _numClusters: a numpy array with the number of clusters in event order\n",
    "    _ak_cluster_Eta: an awkward array holding the cluster eta information\n",
    "    _events: a refined list of events to search though (can be all events)\n",
    "    Returns:\n",
    "    _central_clusters: a list of tuples containing the awkward array coordinates of central\n",
    "        clusters\n",
    "    '''\n",
    "    \n",
    "    # Empty list to concatenate array coordinates to as tuples\n",
    "    _central_clusters = []\n",
    "    \n",
    "    for _evt_idx in _events:\n",
    "        for _clust_idx in range(_numClusters[_evt]):\n",
    "#             print(\"event \"+str(_evt_idx))\n",
    "#             print(\"number of clusters: \"+str(_numClusters[_evt]))\n",
    "            \n",
    "            _clust_Eta = _ak_cluster_Eta[\"cluster_Eta\"][_evt][_clust_idx]\n",
    "            \n",
    "            if _clust_Eta > -.7 and _clust_Eta < .7:\n",
    "                _central_clusters.append((_evt_idx, _clust_idx))\n",
    "\n",
    "    return _central_clusters\n",
    "\n",
    "central_clusters = find_central_clusters(_numClusters=nCluster, _ak_cluster_Eta=ak_cluster_Eta,\n",
    "                                         _events=barrel_events)\n",
    "print(central_clusters[0:10])"
   ]
  },
  {
   "cell_type": "markdown",
   "id": "a9cc185b-cfee-4b7e-aade-da24228b921a",
   "metadata": {},
   "source": [
    "#### TO DO: Seems strange that seemingly none of the barrel events have multiple central clusters with abs(eta) < .7\n",
    "investigate this further"
   ]
  },
  {
   "cell_type": "code",
   "execution_count": 26,
   "id": "8b7918f1-5bf5-4c85-94a6-979b6d3f275d",
   "metadata": {},
   "outputs": [],
   "source": [
    "## Still working on taking values from events and slicing them into X :-(\n",
    "for i in range(len(central_clusters)):\n",
    "    # unpack variables for n'th event m'th cluster\n",
    "    n, m = central_clusters[i]\n",
    "    _cluster_cell_ID = ak_cluster_cell_ID[\"cluster_cell_ID\"][n][m]\n",
    "    \n",
    "    for j in range(len(_cluster_cell_ID)):\n",
    "        # j'th element of the m'th cluster\n",
    "        _cellGeoTag = _cluster_cell_ID[j]\n",
    "\n",
    "        # find the index of the cell_geo_ID, use [0][0] becuase of np.where return\n",
    "        _cellGeo_idx = np.argwhere(np.asarray(cell_geo_ID == _cellGeoTag))\n",
    "        _Eta = cell_geo_eta[_cellGeo_idx][0][0]\n",
    "        _Phi = cell_geo_phi[_cellGeo_idx][0][0]\n",
    "        _E = ak_cluster_cell_E[\"cluster_cell_E\"][n][m][j]\n",
    "        PID = 1 ## Fix this to proper PDGID\n",
    "        \n",
    "        _array_vals = np.array([_Eta, _Phi, _E, PID])\n",
    "        \n",
    "        X[i,j,:] = _array_vals"
   ]
  },
  {
   "cell_type": "code",
   "execution_count": 27,
   "id": "b2afd4fb-f9b0-4802-9fb1-ca2ff1f3c96a",
   "metadata": {},
   "outputs": [
    {
     "name": "stdout",
     "output_type": "stream",
     "text": [
      "[[-1.46141696 -2.92829227  0.19028817  1.        ]\n",
      " [-1.4614526  -2.95282793  0.00604178  1.        ]\n",
      " [-1.43639922 -2.92829227  0.02199198  1.        ]\n",
      " [-1.43643463 -2.95282793  0.02094988  1.        ]\n",
      " [-1.46131432 -2.89142489  0.13298044  1.        ]]\n"
     ]
    }
   ],
   "source": [
    "print(X[0,0:5,:])"
   ]
  },
  {
   "cell_type": "markdown",
   "id": "a3a4fc1f",
   "metadata": {},
   "source": [
    "### Shuffle data points"
   ]
  },
  {
   "cell_type": "code",
   "execution_count": null,
   "id": "c9da6587",
   "metadata": {},
   "outputs": [],
   "source": []
  },
  {
   "cell_type": "markdown",
   "id": "2aa56846-db53-4ea7-83cd-045fdb06ff7a",
   "metadata": {},
   "source": [
    "# Max Example"
   ]
  },
  {
   "cell_type": "code",
   "execution_count": null,
   "id": "df9fdb75-277e-45a8-a894-fc8ddb94b89c",
   "metadata": {},
   "outputs": [],
   "source": [
    "# import os\n",
    "# os.environ['CUDA_VISIBLE_DEVICES'] = \"7\"\n",
    "# os.environ['TF_FORCE_GPU_ALLOW_GROWTH'] = 'true'"
   ]
  },
  {
   "cell_type": "code",
   "execution_count": null,
   "id": "89f3e2f0-ef70-413a-a99e-f196f2f871f1",
   "metadata": {
    "tags": []
   },
   "outputs": [],
   "source": [
    "# import tensorflow as tf"
   ]
  },
  {
   "cell_type": "markdown",
   "id": "c08db72c-0b1a-4e3d-8b98-16572dd7789b",
   "metadata": {},
   "source": [
    "#### Find Available GPUS"
   ]
  },
  {
   "cell_type": "code",
   "execution_count": 33,
   "id": "240f5056-442b-4068-bfe8-a69409d81e25",
   "metadata": {},
   "outputs": [
    {
     "name": "stdout",
     "output_type": "stream",
     "text": [
      "TensorFlow version: 2.4.0\n",
      "Name: /physical_device:GPU:0   Type: GPU\n",
      "Name: /physical_device:GPU:1   Type: GPU\n",
      "Name: /physical_device:GPU:2   Type: GPU\n",
      "Name: /physical_device:GPU:3   Type: GPU\n",
      "Name: /physical_device:GPU:4   Type: GPU\n",
      "Name: /physical_device:GPU:5   Type: GPU\n",
      "Name: /physical_device:GPU:6   Type: GPU\n",
      "Name: /physical_device:GPU:7   Type: GPU\n"
     ]
    }
   ],
   "source": [
    "print('TensorFlow version: '+str(tf.__version__));print()\n",
    "gpus = tf.config.list_physical_devices('GPU')\n",
    "for gpu in gpus:\n",
    "    print(\"Name:\", gpu.name, \"  Type:\", gpu.device_type)"
   ]
  },
  {
   "cell_type": "markdown",
   "id": "a87d4218-3620-4a98-8658-4de471b7d4bb",
   "metadata": {},
   "source": [
    "### Grab GPU -- DONT FORGET TO CHECK WHICH ARE IN USE!!!!!!"
   ]
  },
  {
   "cell_type": "code",
   "execution_count": 34,
   "id": "5df49f83-e05a-4373-8f50-4f593f700668",
   "metadata": {},
   "outputs": [
    {
     "name": "stdout",
     "output_type": "stream",
     "text": [
      "INFO:tensorflow:Using MirroredStrategy with devices ('/job:localhost/replica:0/task:0/device:GPU:4',)\n",
      "Number of devices: 1\n"
     ]
    }
   ],
   "source": [
    "gpu_list = [\"/gpu:4\"]\n",
    "strategy = tf.distribute.MirroredStrategy(devices=gpu_list)\n",
    "ngpu = strategy.num_replicas_in_sync\n",
    "print ('Number of devices: {}'.format(ngpu))"
   ]
  },
  {
   "cell_type": "code",
   "execution_count": 35,
   "id": "184e8600-9017-4dc4-a265-a90f2c11ec14",
   "metadata": {},
   "outputs": [],
   "source": [
    "# %load_ext autoreload\n",
    "# %autoreload 2\n",
    "\n",
    "data_path = '/fast_scratch/atlas_images/v01-45/'\n",
    "X = np.load(data_path+'X_4.npy')"
   ]
  },
  {
   "cell_type": "code",
   "execution_count": 43,
   "id": "4b7d762c-c4fc-4918-a9fe-1522f50f9e05",
   "metadata": {},
   "outputs": [
    {
     "name": "stdout",
     "output_type": "stream",
     "text": [
      "(180000, 2)\n",
      "[[0. 1.]\n",
      " [0. 1.]\n",
      " [1. 0.]\n",
      " [1. 0.]]\n"
     ]
    }
   ],
   "source": [
    "Y = tf.keras.utils.to_categorical(np.concatenate((np.ones(90000), np.zeros(90000))))\n",
    "print(np.shape(Y))\n",
    "print(Y[89998:90002,:])"
   ]
  },
  {
   "cell_type": "markdown",
   "id": "c0cd9100-338c-4d6c-b8fe-aab0c142c0f9",
   "metadata": {},
   "source": [
    "#### GNN Network Params\n",
    "Define the mapping from observable quantities to latent space with $\\Phi$\n",
    "\n",
    "Define the mapping fomt the latent space to a general function with F"
   ]
  },
  {
   "cell_type": "code",
   "execution_count": 44,
   "id": "12b50ab9-44a7-48a4-9bc5-c02a71a4af85",
   "metadata": {},
   "outputs": [],
   "source": [
    "Phi_sizes, F_sizes = (100, 100, 128), (100, 100, 100)"
   ]
  },
  {
   "cell_type": "code",
   "execution_count": 45,
   "id": "d7060a42-7653-407d-ad4c-1d882be9a04c",
   "metadata": {},
   "outputs": [
    {
     "name": "stdout",
     "output_type": "stream",
     "text": [
      "Done train/val/test split\n"
     ]
    }
   ],
   "source": [
    "from energyflow.utils import data_split\n",
    "\n",
    "# do train/val/test split \n",
    "(X_train, X_val, X_test,\n",
    " Y_train, Y_val, Y_test) = data_split(X, Y, val=10000, test=40000)\n",
    "\n",
    "print('Done train/val/test split')"
   ]
  },
  {
   "cell_type": "code",
   "execution_count": 48,
   "id": "9bb75e1a-8274-4ee5-8dd4-fa9e7aa06fa0",
   "metadata": {},
   "outputs": [
    {
     "name": "stdout",
     "output_type": "stream",
     "text": [
      "Model: \"model\"\n",
      "__________________________________________________________________________________________________\n",
      "Layer (type)                    Output Shape         Param #     Connected to                     \n",
      "==================================================================================================\n",
      "input (InputLayer)              [(None, None, 4)]    0                                            \n",
      "__________________________________________________________________________________________________\n",
      "tdist_0 (TimeDistributed)       (None, None, 100)    500         input[0][0]                      \n",
      "__________________________________________________________________________________________________\n",
      "activation (Activation)         (None, None, 100)    0           tdist_0[0][0]                    \n",
      "__________________________________________________________________________________________________\n",
      "tdist_1 (TimeDistributed)       (None, None, 100)    10100       activation[0][0]                 \n",
      "__________________________________________________________________________________________________\n",
      "activation_1 (Activation)       (None, None, 100)    0           tdist_1[0][0]                    \n",
      "__________________________________________________________________________________________________\n",
      "tdist_2 (TimeDistributed)       (None, None, 128)    12928       activation_1[0][0]               \n",
      "__________________________________________________________________________________________________\n",
      "mask (Lambda)                   (None, None)         0           input[0][0]                      \n",
      "__________________________________________________________________________________________________\n",
      "activation_2 (Activation)       (None, None, 128)    0           tdist_2[0][0]                    \n",
      "__________________________________________________________________________________________________\n",
      "sum (Dot)                       (None, 128)          0           mask[0][0]                       \n",
      "                                                                 activation_2[0][0]               \n",
      "__________________________________________________________________________________________________\n",
      "dense_0 (Dense)                 (None, 100)          12900       sum[0][0]                        \n",
      "__________________________________________________________________________________________________\n",
      "activation_3 (Activation)       (None, 100)          0           dense_0[0][0]                    \n",
      "__________________________________________________________________________________________________\n",
      "dense_1 (Dense)                 (None, 100)          10100       activation_3[0][0]               \n",
      "__________________________________________________________________________________________________\n",
      "activation_4 (Activation)       (None, 100)          0           dense_1[0][0]                    \n",
      "__________________________________________________________________________________________________\n",
      "dense_2 (Dense)                 (None, 100)          10100       activation_4[0][0]               \n",
      "__________________________________________________________________________________________________\n",
      "activation_5 (Activation)       (None, 100)          0           dense_2[0][0]                    \n",
      "__________________________________________________________________________________________________\n",
      "output (Dense)                  (None, 2)            202         activation_5[0][0]               \n",
      "__________________________________________________________________________________________________\n",
      "activation_6 (Activation)       (None, 2)            0           output[0][0]                     \n",
      "==================================================================================================\n",
      "Total params: 56,830\n",
      "Trainable params: 56,830\n",
      "Non-trainable params: 0\n",
      "__________________________________________________________________________________________________\n"
     ]
    }
   ],
   "source": [
    "pfn = PFN(input_dim=X.shape[-1], Phi_sizes=Phi_sizes, F_sizes=F_sizes)"
   ]
  },
  {
   "cell_type": "code",
   "execution_count": 49,
   "id": "06ae890d-7cc5-4d52-aa0d-62a4bc349271",
   "metadata": {
    "scrolled": true,
    "tags": []
   },
   "outputs": [
    {
     "name": "stdout",
     "output_type": "stream",
     "text": [
      "Epoch 1/100\n",
      "260/260 [==============================] - 18s 57ms/step - loss: 10.5579 - acc: 0.6715 - val_loss: 0.6474 - val_acc: 0.8149\n",
      "Epoch 2/100\n",
      "260/260 [==============================] - 16s 61ms/step - loss: 0.9694 - acc: 0.7467 - val_loss: 0.5169 - val_acc: 0.7027\n",
      "Epoch 3/100\n",
      "260/260 [==============================] - 15s 60ms/step - loss: 0.6999 - acc: 0.7509 - val_loss: 0.4505 - val_acc: 0.7548\n",
      "Epoch 4/100\n",
      "260/260 [==============================] - 16s 60ms/step - loss: 0.5006 - acc: 0.7661 - val_loss: 0.5210 - val_acc: 0.7537\n",
      "Epoch 5/100\n",
      "260/260 [==============================] - 15s 59ms/step - loss: 0.5058 - acc: 0.7605 - val_loss: 0.4061 - val_acc: 0.8030\n",
      "Epoch 6/100\n",
      "260/260 [==============================] - 16s 60ms/step - loss: 0.4446 - acc: 0.7708 - val_loss: 0.3955 - val_acc: 0.8060\n",
      "Epoch 7/100\n",
      "260/260 [==============================] - 15s 59ms/step - loss: 0.4418 - acc: 0.7844 - val_loss: 0.3899 - val_acc: 0.8223\n",
      "Epoch 8/100\n",
      "260/260 [==============================] - 15s 59ms/step - loss: 0.5317 - acc: 0.7707 - val_loss: 0.3942 - val_acc: 0.8120\n",
      "Epoch 9/100\n",
      "260/260 [==============================] - 15s 58ms/step - loss: 0.3718 - acc: 0.8318 - val_loss: 0.3227 - val_acc: 0.8539\n",
      "Epoch 10/100\n",
      "260/260 [==============================] - 15s 59ms/step - loss: 0.3449 - acc: 0.8525 - val_loss: 0.3237 - val_acc: 0.8700\n",
      "Epoch 11/100\n",
      "260/260 [==============================] - 15s 58ms/step - loss: 0.4939 - acc: 0.8353 - val_loss: 0.3816 - val_acc: 0.8043\n",
      "Epoch 12/100\n",
      "260/260 [==============================] - 16s 60ms/step - loss: 0.3774 - acc: 0.8208 - val_loss: 0.3316 - val_acc: 0.8605\n",
      "Epoch 13/100\n",
      "260/260 [==============================] - 15s 56ms/step - loss: 0.3300 - acc: 0.8606 - val_loss: 0.2831 - val_acc: 0.8885\n",
      "Epoch 14/100\n",
      "260/260 [==============================] - 15s 56ms/step - loss: 0.3123 - acc: 0.8712 - val_loss: 0.3004 - val_acc: 0.8842\n",
      "Epoch 15/100\n",
      "260/260 [==============================] - 15s 59ms/step - loss: 0.2964 - acc: 0.8832 - val_loss: 0.2507 - val_acc: 0.9026\n",
      "Epoch 16/100\n",
      "260/260 [==============================] - 15s 58ms/step - loss: 0.2580 - acc: 0.9010 - val_loss: 0.2552 - val_acc: 0.9026\n",
      "Epoch 17/100\n",
      "260/260 [==============================] - 15s 59ms/step - loss: 0.2532 - acc: 0.9035 - val_loss: 0.2390 - val_acc: 0.9106\n",
      "Epoch 18/100\n",
      "260/260 [==============================] - 15s 56ms/step - loss: 0.2471 - acc: 0.9055 - val_loss: 0.2345 - val_acc: 0.9080\n",
      "Epoch 19/100\n",
      "260/260 [==============================] - 15s 56ms/step - loss: 0.2540 - acc: 0.9026 - val_loss: 0.2193 - val_acc: 0.9154\n",
      "Epoch 20/100\n",
      "260/260 [==============================] - 15s 57ms/step - loss: 0.2405 - acc: 0.9089 - val_loss: 0.2190 - val_acc: 0.9144\n",
      "Epoch 21/100\n",
      "260/260 [==============================] - 15s 58ms/step - loss: 0.2370 - acc: 0.9101 - val_loss: 0.2533 - val_acc: 0.8976\n",
      "Epoch 22/100\n",
      "260/260 [==============================] - 15s 59ms/step - loss: 0.2367 - acc: 0.9104 - val_loss: 0.2206 - val_acc: 0.9119\n",
      "Epoch 23/100\n",
      "260/260 [==============================] - 15s 57ms/step - loss: 0.2262 - acc: 0.9131 - val_loss: 0.2267 - val_acc: 0.9133\n",
      "Epoch 24/100\n",
      "260/260 [==============================] - 14s 56ms/step - loss: 0.2309 - acc: 0.9130 - val_loss: 0.2148 - val_acc: 0.9191\n",
      "Epoch 25/100\n",
      "260/260 [==============================] - 15s 57ms/step - loss: 0.2340 - acc: 0.9114 - val_loss: 0.2142 - val_acc: 0.9159\n",
      "Epoch 26/100\n",
      "260/260 [==============================] - 15s 57ms/step - loss: 0.2269 - acc: 0.9134 - val_loss: 0.2217 - val_acc: 0.9161\n",
      "Epoch 27/100\n",
      "260/260 [==============================] - 15s 56ms/step - loss: 0.2214 - acc: 0.9163 - val_loss: 0.2072 - val_acc: 0.9200\n",
      "Epoch 28/100\n",
      "260/260 [==============================] - 14s 56ms/step - loss: 0.2187 - acc: 0.9175 - val_loss: 0.2083 - val_acc: 0.9205\n",
      "Epoch 29/100\n",
      "260/260 [==============================] - 15s 58ms/step - loss: 0.2190 - acc: 0.9163 - val_loss: 0.2076 - val_acc: 0.9233\n",
      "Epoch 30/100\n",
      "260/260 [==============================] - 15s 56ms/step - loss: 0.2178 - acc: 0.9179 - val_loss: 0.2022 - val_acc: 0.9215\n",
      "Epoch 31/100\n",
      "260/260 [==============================] - 15s 56ms/step - loss: 0.2205 - acc: 0.9145 - val_loss: 0.1994 - val_acc: 0.9243\n",
      "Epoch 32/100\n",
      "260/260 [==============================] - 15s 56ms/step - loss: 0.2184 - acc: 0.9170 - val_loss: 0.2012 - val_acc: 0.9228\n",
      "Epoch 33/100\n",
      "260/260 [==============================] - 15s 56ms/step - loss: 0.2159 - acc: 0.9186 - val_loss: 0.1997 - val_acc: 0.9253\n",
      "Epoch 34/100\n",
      "260/260 [==============================] - 15s 56ms/step - loss: 0.2133 - acc: 0.9195 - val_loss: 0.2047 - val_acc: 0.9235\n",
      "Epoch 35/100\n",
      "260/260 [==============================] - 15s 56ms/step - loss: 0.2161 - acc: 0.9178 - val_loss: 0.2072 - val_acc: 0.9215\n",
      "Epoch 36/100\n",
      "260/260 [==============================] - 15s 56ms/step - loss: 0.2150 - acc: 0.9178 - val_loss: 0.2002 - val_acc: 0.9250\n",
      "Epoch 37/100\n",
      "260/260 [==============================] - 15s 56ms/step - loss: 0.2145 - acc: 0.9181 - val_loss: 0.1933 - val_acc: 0.9283\n",
      "Epoch 38/100\n",
      "260/260 [==============================] - 15s 56ms/step - loss: 0.2153 - acc: 0.9185 - val_loss: 0.1988 - val_acc: 0.9245\n",
      "Epoch 39/100\n",
      "260/260 [==============================] - 15s 56ms/step - loss: 0.2126 - acc: 0.9188 - val_loss: 0.1931 - val_acc: 0.9283\n",
      "Epoch 40/100\n",
      "260/260 [==============================] - 15s 56ms/step - loss: 0.2107 - acc: 0.9201 - val_loss: 0.1926 - val_acc: 0.9277\n",
      "Epoch 41/100\n",
      "260/260 [==============================] - 15s 56ms/step - loss: 0.2095 - acc: 0.9205 - val_loss: 0.1977 - val_acc: 0.9248\n",
      "Epoch 42/100\n",
      "260/260 [==============================] - 15s 57ms/step - loss: 0.2116 - acc: 0.9197 - val_loss: 0.1945 - val_acc: 0.9269\n",
      "Epoch 43/100\n",
      "260/260 [==============================] - 15s 56ms/step - loss: 0.2123 - acc: 0.9197 - val_loss: 0.1959 - val_acc: 0.9262\n",
      "Epoch 44/100\n",
      "260/260 [==============================] - 15s 56ms/step - loss: 0.2098 - acc: 0.9208 - val_loss: 0.1895 - val_acc: 0.9277\n",
      "Epoch 45/100\n",
      "260/260 [==============================] - 15s 56ms/step - loss: 0.2063 - acc: 0.9218 - val_loss: 0.1932 - val_acc: 0.9273\n",
      "Epoch 46/100\n",
      "260/260 [==============================] - 15s 56ms/step - loss: 0.2050 - acc: 0.9221 - val_loss: 0.1980 - val_acc: 0.9279\n",
      "Epoch 47/100\n",
      "260/260 [==============================] - 15s 56ms/step - loss: 0.2105 - acc: 0.9200 - val_loss: 0.2137 - val_acc: 0.9201\n",
      "Epoch 48/100\n",
      "260/260 [==============================] - 15s 56ms/step - loss: 0.2067 - acc: 0.9212 - val_loss: 0.1900 - val_acc: 0.9288\n",
      "Epoch 49/100\n",
      "260/260 [==============================] - 15s 56ms/step - loss: 0.2047 - acc: 0.9219 - val_loss: 0.1956 - val_acc: 0.9273\n",
      "Epoch 50/100\n",
      "260/260 [==============================] - 15s 56ms/step - loss: 0.2027 - acc: 0.9229 - val_loss: 0.1899 - val_acc: 0.9287\n",
      "Epoch 51/100\n",
      "260/260 [==============================] - 15s 56ms/step - loss: 0.2018 - acc: 0.9235 - val_loss: 0.1988 - val_acc: 0.9274\n",
      "Epoch 52/100\n",
      "260/260 [==============================] - 14s 56ms/step - loss: 0.2055 - acc: 0.9225 - val_loss: 0.2045 - val_acc: 0.9263\n",
      "Epoch 53/100\n",
      "260/260 [==============================] - 15s 56ms/step - loss: 0.2033 - acc: 0.9236 - val_loss: 0.1889 - val_acc: 0.9319\n",
      "Epoch 54/100\n",
      "260/260 [==============================] - 15s 56ms/step - loss: 0.2003 - acc: 0.9249 - val_loss: 0.1900 - val_acc: 0.9300\n",
      "Epoch 55/100\n",
      "260/260 [==============================] - 14s 56ms/step - loss: 0.2014 - acc: 0.9234 - val_loss: 0.1855 - val_acc: 0.9328\n",
      "Epoch 56/100\n",
      "260/260 [==============================] - 15s 56ms/step - loss: 0.1987 - acc: 0.9255 - val_loss: 0.1856 - val_acc: 0.9317\n",
      "Epoch 57/100\n",
      "260/260 [==============================] - 15s 56ms/step - loss: 0.2008 - acc: 0.9252 - val_loss: 0.1866 - val_acc: 0.9294\n",
      "Epoch 58/100\n",
      "260/260 [==============================] - 15s 56ms/step - loss: 0.1950 - acc: 0.9268 - val_loss: 0.1852 - val_acc: 0.9320\n",
      "Epoch 59/100\n",
      "260/260 [==============================] - 15s 56ms/step - loss: 0.1956 - acc: 0.9272 - val_loss: 0.1840 - val_acc: 0.9318\n",
      "Epoch 60/100\n",
      "260/260 [==============================] - 15s 56ms/step - loss: 0.1958 - acc: 0.9255 - val_loss: 0.1823 - val_acc: 0.9335\n",
      "Epoch 61/100\n",
      "260/260 [==============================] - 15s 56ms/step - loss: 0.1927 - acc: 0.9274 - val_loss: 0.1838 - val_acc: 0.9320\n",
      "Epoch 62/100\n",
      "260/260 [==============================] - 15s 56ms/step - loss: 0.1933 - acc: 0.9275 - val_loss: 0.1877 - val_acc: 0.9305\n",
      "Epoch 63/100\n",
      "260/260 [==============================] - 15s 56ms/step - loss: 0.1906 - acc: 0.9294 - val_loss: 0.1837 - val_acc: 0.9322\n",
      "Epoch 64/100\n",
      "260/260 [==============================] - 15s 57ms/step - loss: 0.1913 - acc: 0.9285 - val_loss: 0.1844 - val_acc: 0.9326\n",
      "Epoch 65/100\n",
      "260/260 [==============================] - 15s 56ms/step - loss: 0.1895 - acc: 0.9295 - val_loss: 0.1842 - val_acc: 0.9340\n",
      "Epoch 66/100\n",
      "260/260 [==============================] - 14s 56ms/step - loss: 0.1895 - acc: 0.9289 - val_loss: 0.1804 - val_acc: 0.9340\n",
      "Epoch 67/100\n",
      "260/260 [==============================] - 15s 56ms/step - loss: 0.1906 - acc: 0.9290 - val_loss: 0.1860 - val_acc: 0.9317\n",
      "Epoch 68/100\n",
      "260/260 [==============================] - 15s 56ms/step - loss: 0.1872 - acc: 0.9303 - val_loss: 0.1814 - val_acc: 0.9335\n",
      "Epoch 69/100\n",
      "260/260 [==============================] - 15s 56ms/step - loss: 0.1890 - acc: 0.9295 - val_loss: 0.1905 - val_acc: 0.9276\n",
      "Epoch 70/100\n",
      "260/260 [==============================] - 15s 56ms/step - loss: 0.1899 - acc: 0.9287 - val_loss: 0.1806 - val_acc: 0.9345\n",
      "Epoch 71/100\n",
      "260/260 [==============================] - 15s 56ms/step - loss: 0.1856 - acc: 0.9309 - val_loss: 0.1766 - val_acc: 0.9358\n",
      "Epoch 72/100\n",
      "260/260 [==============================] - 15s 56ms/step - loss: 0.1843 - acc: 0.9310 - val_loss: 0.1780 - val_acc: 0.9360\n",
      "Epoch 73/100\n",
      "260/260 [==============================] - 14s 56ms/step - loss: 0.1889 - acc: 0.9293 - val_loss: 0.1779 - val_acc: 0.9347\n",
      "Epoch 74/100\n",
      "260/260 [==============================] - 15s 56ms/step - loss: 0.1835 - acc: 0.9317 - val_loss: 0.1832 - val_acc: 0.9328\n",
      "Epoch 75/100\n",
      "260/260 [==============================] - 14s 56ms/step - loss: 0.1877 - acc: 0.9304 - val_loss: 0.1854 - val_acc: 0.9314\n",
      "Epoch 76/100\n",
      "260/260 [==============================] - 15s 56ms/step - loss: 0.1831 - acc: 0.9318 - val_loss: 0.1822 - val_acc: 0.9343\n",
      "Epoch 77/100\n",
      "260/260 [==============================] - 14s 56ms/step - loss: 0.1810 - acc: 0.9331 - val_loss: 0.1775 - val_acc: 0.9363\n",
      "Epoch 78/100\n",
      "260/260 [==============================] - 15s 56ms/step - loss: 0.1853 - acc: 0.9308 - val_loss: 0.1825 - val_acc: 0.9341\n",
      "Epoch 79/100\n",
      "260/260 [==============================] - 15s 56ms/step - loss: 0.1839 - acc: 0.9310 - val_loss: 0.1787 - val_acc: 0.9334\n",
      "Epoch 80/100\n",
      "260/260 [==============================] - 15s 56ms/step - loss: 0.1824 - acc: 0.9330 - val_loss: 0.1836 - val_acc: 0.9345\n",
      "Epoch 81/100\n",
      "260/260 [==============================] - 15s 56ms/step - loss: 0.1813 - acc: 0.9324 - val_loss: 0.1786 - val_acc: 0.9346\n",
      "Epoch 82/100\n",
      "260/260 [==============================] - 15s 56ms/step - loss: 0.1830 - acc: 0.9315 - val_loss: 0.1906 - val_acc: 0.9274\n",
      "Epoch 83/100\n",
      "260/260 [==============================] - 15s 56ms/step - loss: 0.1804 - acc: 0.9331 - val_loss: 0.1777 - val_acc: 0.9349\n",
      "Epoch 84/100\n",
      "260/260 [==============================] - 15s 56ms/step - loss: 0.1818 - acc: 0.9322 - val_loss: 0.1827 - val_acc: 0.9325\n",
      "Epoch 85/100\n",
      "260/260 [==============================] - 15s 56ms/step - loss: 0.1831 - acc: 0.9323 - val_loss: 0.1768 - val_acc: 0.9358\n",
      "Epoch 86/100\n",
      "260/260 [==============================] - 15s 56ms/step - loss: 0.1788 - acc: 0.9335 - val_loss: 0.1749 - val_acc: 0.9351\n",
      "Epoch 87/100\n",
      "260/260 [==============================] - 15s 56ms/step - loss: 0.1762 - acc: 0.9342 - val_loss: 0.1751 - val_acc: 0.9354\n",
      "Epoch 88/100\n",
      "260/260 [==============================] - 15s 56ms/step - loss: 0.1793 - acc: 0.9337 - val_loss: 0.1769 - val_acc: 0.9355\n",
      "Epoch 89/100\n",
      "260/260 [==============================] - 15s 56ms/step - loss: 0.1809 - acc: 0.9322 - val_loss: 0.1831 - val_acc: 0.9333\n",
      "Epoch 90/100\n",
      "260/260 [==============================] - 15s 56ms/step - loss: 0.1783 - acc: 0.9337 - val_loss: 0.1782 - val_acc: 0.9355\n",
      "Epoch 91/100\n",
      "260/260 [==============================] - 15s 56ms/step - loss: 0.1794 - acc: 0.9328 - val_loss: 0.1769 - val_acc: 0.9352\n",
      "Epoch 92/100\n",
      "260/260 [==============================] - 15s 56ms/step - loss: 0.1764 - acc: 0.9351 - val_loss: 0.1776 - val_acc: 0.9357\n",
      "Epoch 93/100\n",
      "260/260 [==============================] - 15s 56ms/step - loss: 0.1798 - acc: 0.9328 - val_loss: 0.1759 - val_acc: 0.9369\n",
      "Epoch 94/100\n",
      "260/260 [==============================] - 14s 56ms/step - loss: 0.1772 - acc: 0.9331 - val_loss: 0.1742 - val_acc: 0.9372\n",
      "Epoch 95/100\n",
      "260/260 [==============================] - 14s 55ms/step - loss: 0.1781 - acc: 0.9336 - val_loss: 0.1793 - val_acc: 0.9345\n",
      "Epoch 96/100\n",
      "260/260 [==============================] - 15s 56ms/step - loss: 0.1771 - acc: 0.9335 - val_loss: 0.1762 - val_acc: 0.9366\n",
      "Epoch 97/100\n",
      "260/260 [==============================] - 15s 56ms/step - loss: 0.1763 - acc: 0.9342 - val_loss: 0.1727 - val_acc: 0.9369\n",
      "Epoch 98/100\n",
      "260/260 [==============================] - 15s 56ms/step - loss: 0.1748 - acc: 0.9356 - val_loss: 0.1724 - val_acc: 0.9381\n",
      "Epoch 99/100\n",
      "260/260 [==============================] - 15s 56ms/step - loss: 0.1744 - acc: 0.9352 - val_loss: 0.1887 - val_acc: 0.9289\n",
      "Epoch 100/100\n",
      "260/260 [==============================] - 14s 56ms/step - loss: 0.1783 - acc: 0.9331 - val_loss: 0.1777 - val_acc: 0.9358\n"
     ]
    }
   ],
   "source": [
    "# train model\n",
    "history = pfn.fit(X_train, Y_train,\n",
    "        epochs=100,\n",
    "        batch_size=500,\n",
    "        validation_data=(X_val, Y_val),\n",
    "        verbose=1)"
   ]
  },
  {
   "cell_type": "code",
   "execution_count": 50,
   "id": "85767659-e4f7-475c-ac3b-9660702593de",
   "metadata": {},
   "outputs": [],
   "source": [
    "preds = pfn.predict(X_test, batch_size=1000)"
   ]
  },
  {
   "cell_type": "code",
   "execution_count": 51,
   "id": "60e3c616-3463-43e5-8d9e-d3583c8ab7b4",
   "metadata": {},
   "outputs": [],
   "source": [
    "pfn_fp, pfn_tp, threshs = roc_curve(Y_test[:,1], preds[:,1])"
   ]
  },
  {
   "cell_type": "code",
   "execution_count": 54,
   "id": "82f0437d-e661-4de6-9e1c-9fdfcf663e81",
   "metadata": {},
   "outputs": [
    {
     "name": "stdout",
     "output_type": "stream",
     "text": [
      "PFN AUC: 0.978839045620148\n"
     ]
    }
   ],
   "source": [
    "# get area under the ROC curve\n",
    "auc = roc_auc_score(Y_test[:,1], preds[:,1])\n",
    "print('PFN AUC:', auc)"
   ]
  },
  {
   "cell_type": "markdown",
   "id": "94048545-b454-410c-9c80-82883c088186",
   "metadata": {},
   "source": [
    "## Plot Results of Training"
   ]
  },
  {
   "cell_type": "code",
   "execution_count": 61,
   "id": "da7a1469-2352-4953-b961-55895793fb4c",
   "metadata": {},
   "outputs": [
    {
     "data": {
      "text/plain": [
       "<Figure size 432x288 with 0 Axes>"
      ]
     },
     "metadata": {},
     "output_type": "display_data"
    },
    {
     "data": {
      "image/png": "[encoded data removed]",
      "text/plain": [
       "<Figure size 432x288 with 1 Axes>"
      ]
     },
     "metadata": {},
     "output_type": "display_data"
    },
    {
     "data": {
      "image/png": "[encoded data removed]",
      "text/plain": [
       "<Figure size 432x288 with 1 Axes>"
      ]
     },
     "metadata": {},
     "output_type": "display_data"
    }
   ],
   "source": [
    "plt.cla(); plt.clf()\n",
    "fig = plt.figure()\n",
    "fig.patch.set_facecolor('white')\n",
    "\n",
    "line1, = plt.plot(history.history['acc'], label='Accuracy')\n",
    "line2, = plt.plot(history.history['val_acc'], label='Validation Accuracy')\n",
    "plt.title('Baseline PFN Network Accuracy', fontsize=14)\n",
    "plt.ylabel('Accuracy', fontsize=12)\n",
    "plt.xlabel('Epoch', fontsize=12)\n",
    "plt.legend(handles=[line1, line2], prop={'size':12}, loc='lower right')\n",
    "plt.xlim(0,100)\n",
    "plt.ylim(.6,1)\n",
    "# plt.savefig('Plots/accuracy_' + layer + '.pdf')\n",
    "plt.show()\n",
    "\n",
    "# summarize history for loss\n",
    "fig = plt.figure()\n",
    "fig.patch.set_facecolor('white')\n",
    "line1, = plt.plot(history.history['loss'], label=\"Loss\")\n",
    "line2, = plt.plot(history.history['val_loss'], label=\"Validation Loss\")\n",
    "plt.title('Baseline PFN Network Loss', fontsize=14)\n",
    "plt.ylabel('Loss', fontsize=12)\n",
    "plt.xlabel('Epoch', fontsize=12)\n",
    "plt.yscale('log')\n",
    "plt.xlim(0,100)\n",
    "plt.ylim(.1,1)\n",
    "plt.legend(handles=[line1,line2], prop={'size':12}, loc='upper right')\n",
    "# plt.savefig(plotpath + 'loss_' + layer + '.pdf')\n",
    "plt.show()"
   ]
  },
  {
   "cell_type": "markdown",
   "id": "d60e7af4-b401-435d-acd3-37b0c1ec32f1",
   "metadata": {},
   "source": [
    "# PFN Example Code"
   ]
  },
  {
   "cell_type": "code",
   "execution_count": 15,
   "id": "59c93f13-0a8f-4dc0-b150-e56f06847308",
   "metadata": {},
   "outputs": [],
   "source": [
    "## Import additionals that were not above\n",
    "from __future__ import absolute_import, division, print_function\n",
    "\n",
    "# energyflow imports\n",
    "import energyflow as ef\n",
    "from energyflow.archs import PFN\n",
    "from energyflow.datasets import qg_jets\n",
    "from energyflow.utils import data_split, remap_pids, to_categorical\n",
    "\n",
    "from sklearn.metrics import roc_auc_score, roc_curve\n",
    "import matplotlib.pyplot as plt"
   ]
  },
  {
   "cell_type": "code",
   "execution_count": 16,
   "id": "2b50dc6b-ba8d-4ee4-93a0-0c6e7984c7be",
   "metadata": {},
   "outputs": [],
   "source": [
    "################################### SETTINGS ###################################\n",
    "# the commented values correspond to those in 1810.05165\n",
    "###############################################################################\n",
    "\n",
    "# data controls, can go up to 2000000 for full dataset\n",
    "train, val, test = 75000, 10000, 15000\n",
    "# train, val, test = 1000000, 200000, 200000\n",
    "use_pids = True\n",
    "\n",
    "# network architecture parameters\n",
    "Phi_sizes, F_sizes = (100, 100, 128), (100, 100, 100)\n",
    "\n",
    "# network training parameters\n",
    "num_epoch = 5\n",
    "batch_size = 500"
   ]
  },
  {
   "cell_type": "code",
   "execution_count": 18,
   "id": "727b396f-2a38-4e43-a4e8-92afde16b918",
   "metadata": {},
   "outputs": [
    {
     "name": "stdout",
     "output_type": "stream",
     "text": [
      "Loaded quark and gluon jets\n"
     ]
    }
   ],
   "source": [
    "# load data\n",
    "X, y = qg_jets.load(train + val + test)\n",
    "\n",
    "# convert labels to categorical\n",
    "Y = to_categorical(y, num_classes=2)\n",
    "\n",
    "print('Loaded quark and gluon jets')"
   ]
  },
  {
   "cell_type": "code",
   "execution_count": 20,
   "id": "44740f1a-3b0c-43c2-a04d-a15e3af8c71e",
   "metadata": {},
   "outputs": [
    {
     "name": "stdout",
     "output_type": "stream",
     "text": [
      "done for loop\n"
     ]
    },
    {
     "ename": "KeyError",
     "evalue": "0",
     "output_type": "error",
     "traceback": [
      "\u001b[0;31m---------------------------------------------------------------------------\u001b[0m",
      "\u001b[0;31mKeyError\u001b[0m                                  Traceback (most recent call last)",
      "\u001b[0;32m<ipython-input-20-47f03bbd7060>\u001b[0m in \u001b[0;36m<module>\u001b[0;34m\u001b[0m\n\u001b[1;32m      9\u001b[0m \u001b[0;31m# handle particle id channel\u001b[0m\u001b[0;34m\u001b[0m\u001b[0;34m\u001b[0m\u001b[0;34m\u001b[0m\u001b[0m\n\u001b[1;32m     10\u001b[0m \u001b[0;32mif\u001b[0m \u001b[0muse_pids\u001b[0m\u001b[0;34m:\u001b[0m\u001b[0;34m\u001b[0m\u001b[0;34m\u001b[0m\u001b[0m\n\u001b[0;32m---> 11\u001b[0;31m     \u001b[0mremap_pids\u001b[0m\u001b[0;34m(\u001b[0m\u001b[0mX\u001b[0m\u001b[0;34m,\u001b[0m \u001b[0mpid_i\u001b[0m\u001b[0;34m=\u001b[0m\u001b[0;36m3\u001b[0m\u001b[0;34m)\u001b[0m\u001b[0;34m\u001b[0m\u001b[0;34m\u001b[0m\u001b[0m\n\u001b[0m\u001b[1;32m     12\u001b[0m \u001b[0;32melse\u001b[0m\u001b[0;34m:\u001b[0m\u001b[0;34m\u001b[0m\u001b[0;34m\u001b[0m\u001b[0m\n\u001b[1;32m     13\u001b[0m     \u001b[0mX\u001b[0m \u001b[0;34m=\u001b[0m \u001b[0mX\u001b[0m\u001b[0;34m[\u001b[0m\u001b[0;34m:\u001b[0m\u001b[0;34m,\u001b[0m\u001b[0;34m:\u001b[0m\u001b[0;34m,\u001b[0m\u001b[0;34m:\u001b[0m\u001b[0;36m3\u001b[0m\u001b[0;34m]\u001b[0m\u001b[0;34m\u001b[0m\u001b[0;34m\u001b[0m\u001b[0m\n",
      "\u001b[0;32m/usr/local/lib/python3.8/dist-packages/energyflow/utils/data_utils.py\u001b[0m in \u001b[0;36mremap_pids\u001b[0;34m(events, pid_i, error_on_unknown)\u001b[0m\n\u001b[1;32m    213\u001b[0m         \u001b[0mpids\u001b[0m \u001b[0;34m=\u001b[0m \u001b[0mevents\u001b[0m\u001b[0;34m[\u001b[0m\u001b[0;34m:\u001b[0m\u001b[0;34m,\u001b[0m\u001b[0;34m:\u001b[0m\u001b[0;34m,\u001b[0m\u001b[0mpid_i\u001b[0m\u001b[0;34m]\u001b[0m\u001b[0;34m.\u001b[0m\u001b[0mastype\u001b[0m\u001b[0;34m(\u001b[0m\u001b[0mint\u001b[0m\u001b[0;34m)\u001b[0m\u001b[0;34m.\u001b[0m\u001b[0mreshape\u001b[0m\u001b[0;34m(\u001b[0m\u001b[0;34m(\u001b[0m\u001b[0mevents\u001b[0m\u001b[0;34m.\u001b[0m\u001b[0mshape\u001b[0m\u001b[0;34m[\u001b[0m\u001b[0;36m0\u001b[0m\u001b[0;34m]\u001b[0m\u001b[0;34m*\u001b[0m\u001b[0mevents\u001b[0m\u001b[0;34m.\u001b[0m\u001b[0mshape\u001b[0m\u001b[0;34m[\u001b[0m\u001b[0;36m1\u001b[0m\u001b[0;34m]\u001b[0m\u001b[0;34m)\u001b[0m\u001b[0;34m)\u001b[0m\u001b[0;34m\u001b[0m\u001b[0;34m\u001b[0m\u001b[0m\n\u001b[1;32m    214\u001b[0m         \u001b[0;32mif\u001b[0m \u001b[0merror_on_unknown\u001b[0m\u001b[0;34m:\u001b[0m\u001b[0;34m\u001b[0m\u001b[0;34m\u001b[0m\u001b[0m\n\u001b[0;32m--> 215\u001b[0;31m             events[:,:,pid_i] = np.asarray([PID2FLOAT_MAP[pid]\n\u001b[0m\u001b[1;32m    216\u001b[0m                                             for pid in pids]).reshape(events.shape[:2])\n\u001b[1;32m    217\u001b[0m         \u001b[0;32melse\u001b[0m\u001b[0;34m:\u001b[0m\u001b[0;34m\u001b[0m\u001b[0;34m\u001b[0m\u001b[0m\n",
      "\u001b[0;32m/usr/local/lib/python3.8/dist-packages/energyflow/utils/data_utils.py\u001b[0m in \u001b[0;36m<listcomp>\u001b[0;34m(.0)\u001b[0m\n\u001b[1;32m    213\u001b[0m         \u001b[0mpids\u001b[0m \u001b[0;34m=\u001b[0m \u001b[0mevents\u001b[0m\u001b[0;34m[\u001b[0m\u001b[0;34m:\u001b[0m\u001b[0;34m,\u001b[0m\u001b[0;34m:\u001b[0m\u001b[0;34m,\u001b[0m\u001b[0mpid_i\u001b[0m\u001b[0;34m]\u001b[0m\u001b[0;34m.\u001b[0m\u001b[0mastype\u001b[0m\u001b[0;34m(\u001b[0m\u001b[0mint\u001b[0m\u001b[0;34m)\u001b[0m\u001b[0;34m.\u001b[0m\u001b[0mreshape\u001b[0m\u001b[0;34m(\u001b[0m\u001b[0;34m(\u001b[0m\u001b[0mevents\u001b[0m\u001b[0;34m.\u001b[0m\u001b[0mshape\u001b[0m\u001b[0;34m[\u001b[0m\u001b[0;36m0\u001b[0m\u001b[0;34m]\u001b[0m\u001b[0;34m*\u001b[0m\u001b[0mevents\u001b[0m\u001b[0;34m.\u001b[0m\u001b[0mshape\u001b[0m\u001b[0;34m[\u001b[0m\u001b[0;36m1\u001b[0m\u001b[0;34m]\u001b[0m\u001b[0;34m)\u001b[0m\u001b[0;34m)\u001b[0m\u001b[0;34m\u001b[0m\u001b[0;34m\u001b[0m\u001b[0m\n\u001b[1;32m    214\u001b[0m         \u001b[0;32mif\u001b[0m \u001b[0merror_on_unknown\u001b[0m\u001b[0;34m:\u001b[0m\u001b[0;34m\u001b[0m\u001b[0;34m\u001b[0m\u001b[0m\n\u001b[0;32m--> 215\u001b[0;31m             events[:,:,pid_i] = np.asarray([PID2FLOAT_MAP[pid]\n\u001b[0m\u001b[1;32m    216\u001b[0m                                             for pid in pids]).reshape(events.shape[:2])\n\u001b[1;32m    217\u001b[0m         \u001b[0;32melse\u001b[0m\u001b[0;34m:\u001b[0m\u001b[0;34m\u001b[0m\u001b[0;34m\u001b[0m\u001b[0m\n",
      "\u001b[0;31mKeyError\u001b[0m: 0"
     ]
    }
   ],
   "source": [
    "# preprocess by centering jets and normalizing pts\n",
    "for x in X:\n",
    "    mask = x[:,0] > 0\n",
    "    yphi_avg = np.average(x[mask,1:3], weights=x[mask,0], axis=0)\n",
    "    x[mask,1:3] -= yphi_avg\n",
    "    x[mask,0] /= x[:,0].sum()\n",
    "\n",
    "print('done for loop')\n",
    "# handle particle id channel\n",
    "if use_pids:\n",
    "    remap_pids(X, pid_i=3)\n",
    "else:\n",
    "    X = X[:,:,:3]\n",
    "\n",
    "print('Finished preprocessing')"
   ]
  },
  {
   "cell_type": "code",
   "execution_count": null,
   "id": "366b2607-f8b0-4af7-a98f-c8071b57c796",
   "metadata": {},
   "outputs": [],
   "source": [
    "# do train/val/test split \n",
    "(X_train, X_val, X_test,\n",
    " Y_train, Y_val, Y_test) = data_split(X, Y, val=val, test=test)\n",
    "\n",
    "print('Done train/val/test split')\n",
    "print('Model summary:')\n",
    "\n",
    "# build architecture\n",
    "pfn = PFN(input_dim=X.shape[-1], Phi_sizes=Phi_sizes, F_sizes=F_sizes)\n",
    "\n",
    "# train model\n",
    "pfn.fit(X_train, Y_train,\n",
    "        epochs=num_epoch,\n",
    "        batch_size=batch_size,\n",
    "        validation_data=(X_val, Y_val),\n",
    "        verbose=1)\n",
    "\n",
    "# get predictions on test data\n",
    "preds = pfn.predict(X_test, batch_size=1000)\n",
    "\n",
    "# get ROC curve\n",
    "pfn_fp, pfn_tp, threshs = roc_curve(Y_test[:,1], preds[:,1])\n",
    "\n",
    "# get area under the ROC curve\n",
    "auc = roc_auc_score(Y_test[:,1], preds[:,1])\n",
    "print()\n",
    "print('PFN AUC:', auc)\n",
    "print()\n",
    "\n",
    "# get multiplicity and mass for comparison\n",
    "masses = np.asarray([ef.ms_from_p4s(ef.p4s_from_ptyphims(x).sum(axis=0)) for x in X])\n",
    "mults = np.asarray([np.count_nonzero(x[:,0]) for x in X])\n",
    "mass_fp, mass_tp, threshs = roc_curve(Y[:,1], -masses)\n",
    "mult_fp, mult_tp, threshs = roc_curve(Y[:,1], -mults)\n",
    "\n",
    "# some nicer plot settings \n",
    "plt.rcParams['figure.figsize'] = (4,4)\n",
    "plt.rcParams['font.family'] = 'serif'\n",
    "plt.rcParams['figure.autolayout'] = True\n",
    "\n",
    "# plot the ROC curves\n",
    "plt.plot(pfn_tp, 1-pfn_fp, '-', color='black', label='PFN')\n",
    "plt.plot(mass_tp, 1-mass_fp, '-', color='blue', label='Jet Mass')\n",
    "plt.plot(mult_tp, 1-mult_fp, '-', color='red', label='Multiplicity')\n",
    "\n",
    "# axes labels\n",
    "plt.xlabel('Quark Jet Efficiency')\n",
    "plt.ylabel('Gluon Jet Rejection')\n",
    "\n",
    "# axes limits\n",
    "plt.xlim(0, 1)\n",
    "plt.ylim(0, 1)\n",
    "\n",
    "# make legend and show plot\n",
    "plt.legend(loc='lower left', frameon=False)\n",
    "plt.show()"
   ]
  },
  {
   "cell_type": "code",
   "execution_count": null,
   "id": "a4b45066-c34d-4f9c-8e66-7718da4a5da8",
   "metadata": {},
   "outputs": [],
   "source": []
  }
 ],
 "metadata": {
  "kernelspec": {
   "display_name": "Python 3",
   "language": "python",
   "name": "python3"
  },
  "language_info": {
   "codemirror_mode": {
    "name": "ipython",
    "version": 3
   },
   "file_extension": ".py",
   "mimetype": "text/x-python",
   "name": "python",
   "nbconvert_exporter": "python",
   "pygments_lexer": "ipython3",
   "version": "3.8.5"
  }
 },
 "nbformat": 4,
 "nbformat_minor": 5
}
