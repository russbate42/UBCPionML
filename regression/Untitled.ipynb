{
 "cells": [
  {
   "cell_type": "markdown",
   "id": "bc8579d6-00d8-41b3-baad-a67fcd0e029b",
   "metadata": {},
   "source": [
    "# Test Model"
   ]
  },
  {
   "cell_type": "code",
   "execution_count": 13,
   "id": "d32c3ee8-d582-4e83-ac47-12f644da0e9e",
   "metadata": {},
   "outputs": [],
   "source": [
    "'''\n",
    "##=============================##\n",
    "## Train Particle Flow Network ##\n",
    "##=============================##\n",
    "\n",
    "author: Russell Bate\n",
    "russellbate@phas.ubc.ca\n",
    "'''\n",
    "\n",
    "## META-DATA ##\n",
    "datapath_prefix = '/fast_scratch/atlas/'\n",
    "module_path = '/home/russbate/MLPionCollaboration/LCStudies/util/'\n",
    "herepath = '/home/russbate/MLPionCollaboration/LCStudies/regression/'\n",
    "BATCH_SIZE=100\n",
    "LEARNING_RATE=1e-3\n",
    "EPOCHS=10\n",
    "MODEL='PFN_wTNet'\n",
    "GPU=\"7\"\n",
    "NEVENTS=int(2e4)"
   ]
  },
  {
   "cell_type": "code",
   "execution_count": 14,
   "id": "cdf50d63-ba6c-4955-b50f-0e36b5afac7c",
   "metadata": {},
   "outputs": [
    {
     "name": "stdout",
     "output_type": "stream",
     "text": [
      "\n"
     ]
    }
   ],
   "source": [
    "## General Python Imports\n",
    "#======================================\n",
    "import numpy as np\n",
    "import pickle\n",
    "import time as t\n",
    "import sys\n",
    "from time import perf_counter as cput\n",
    "import argparse\n",
    "from datetime import datetime\n",
    "DATE = datetime.today().strftime('%Y-%m-%d')\n",
    "print()\n",
    "\n",
    "## Local ML Packages\n",
    "#======================================\n",
    "sys.path.append(module_path)\n",
    "sys.path.append(herepath)\n",
    "import deep_set_util as dsu\n",
    "import pfn_models\n",
    "from pfn_models import PFN_base, PFN_wDropout, PFN_wTNet"
   ]
  },
  {
   "cell_type": "markdown",
   "id": "d9b7757d-3b12-4b56-a32d-7ad54f4e14fe",
   "metadata": {},
   "source": [
    "## TF environment"
   ]
  },
  {
   "cell_type": "code",
   "execution_count": 21,
   "id": "08644284-d5ad-41b0-9d15-bf081f04cd5f",
   "metadata": {},
   "outputs": [],
   "source": [
    "import tensorflow as tf\n",
    "from tensorflow import keras\n",
    "from keras import layers\n",
    "from keras import backend as K\n",
    "import os\n",
    "os.environ['CUDA_VISIBLE_DEVICES'] = GPU\n",
    "# os.environ['TF_GPU_ALLOCATOR'] = 'cuda_malloc_async'\n",
    "os.environ['TF_FORCE_GPU_ALLOW_GROWTH'] = 'true'"
   ]
  },
  {
   "cell_type": "markdown",
   "id": "54da02a6-9c76-4e8d-a21d-960b6c719387",
   "metadata": {},
   "source": [
    "### Turn off eager"
   ]
  },
  {
   "cell_type": "code",
   "execution_count": 28,
   "id": "502418e1-c24f-4ea5-9388-548554ca2743",
   "metadata": {},
   "outputs": [],
   "source": [
    "from tensorflow.python.framework.ops import disable_eager_execution\n",
    "disable_eager_execution()"
   ]
  },
  {
   "cell_type": "code",
   "execution_count": 29,
   "id": "77db73e7-5c25-4290-86ee-9d131433f183",
   "metadata": {},
   "outputs": [],
   "source": [
    "X = np.load(datapath_prefix+'X_STMC_full_norm.npy', mmap_mode='r+')[:NEVENTS,:,:]\n",
    "Y = np.load(datapath_prefix+'Y_STMC_full_norm.npy', mmap_mode='r+')[:NEVENTS]"
   ]
  },
  {
   "cell_type": "code",
   "execution_count": 30,
   "id": "1e216019-0bed-4213-9e00-2c7e65deee0c",
   "metadata": {},
   "outputs": [],
   "source": [
    "train_num, val_num, test_num = dsu.tvt_num(X, tvt=(70,15,15))\n",
    "\n",
    "X_train = X[:train_num,:,:]\n",
    "Y_train = Y[:train_num].reshape((train_num,1))\n",
    "\n",
    "X_val = X[train_num:train_num+val_num,:,:]\n",
    "Y_val = Y[train_num:train_num+val_num].reshape((val_num,1))\n",
    "\n",
    "X_test = X[train_num+val_num:,:,:]\n",
    "Y_test = Y[train_num+val_num:]"
   ]
  },
  {
   "cell_type": "markdown",
   "id": "2938638f-f276-47f6-a306-2545cf4f939b",
   "metadata": {},
   "source": [
    "## Models"
   ]
  },
  {
   "cell_type": "code",
   "execution_count": 31,
   "id": "1fab4123-b3da-4958-a54e-9e886a5d8296",
   "metadata": {},
   "outputs": [],
   "source": [
    "def point_mask_fn(X, mask_val=0.):\n",
    "    return K.cast(K.any(K.not_equal(X, mask_val), axis=-1), K.dtype(X))\n",
    "\n",
    "def tdist_block(x, mask, size: int, number: str):\n",
    "    dense = layers.Dense(size)\n",
    "    x = layers.TimeDistributed(dense, name='t_dist_'+number)(x, mask=mask)\n",
    "    x = layers.Activation('relu', name='activation_'+number)(x)\n",
    "    return x\n",
    "\n",
    "def multiply(tensor1, tensor2):\n",
    "    return K.dot(tensor1,tensor2)\n",
    "\n",
    "def mat_mul(tensors):\n",
    "    x, y = tensors\n",
    "    return tf.linalg.matmul(x,y)\n",
    "\n",
    "def cast_to_zero(tensors):\n",
    "    ''' casts all cvalues that should be zero to zero in the modified tensor '''\n",
    "    mod_input, input_tens = tensors\n",
    "    full_mask = tf.logical_not(tf.math.equal(input_tens, 0.))\n",
    "    reduced_mask = tf.experimental.numpy.any(full_mask, axis=-1)\n",
    "    reduced_mask = tf.cast(reduced_mask, dtype=tf.float32)\n",
    "    reduced_mask = tf.expand_dims(reduced_mask, axis=-1)\n",
    "    return_tens = tf.math.multiply(mod_input, reduced_mask)\n",
    "    return return_tens"
   ]
  },
  {
   "cell_type": "code",
   "execution_count": 32,
   "id": "2ce731e7-d751-4136-870f-6519266bc78e",
   "metadata": {},
   "outputs": [],
   "source": [
    "def PFN_wTNet(num_points, num_features, name=\"PFN_wTNet\"):\n",
    "    \n",
    "    inputs = keras.Input(shape=(num_points, num_features), name='input')\n",
    "\n",
    "    #============== Masking for TNet =========================================#\n",
    "    mask_tens = layers.Masking(mask_value=0.0, input_shape=(num_points,\n",
    "                                num_features))(inputs)\n",
    "    keras_mask = mask_tens._keras_mask\n",
    "    #=========================================================================#\n",
    "\n",
    "    #============== TNet =====================================================#\n",
    "    block_0 = tdist_block(inputs, mask=keras_mask, size=50, number='0')\n",
    "    block_1 = tdist_block(block_0, mask=keras_mask, size=100, number='1')\n",
    "    block_2 = tdist_block(block_1, mask=keras_mask, size=100, number='2')\n",
    "    \n",
    "    block_2_masked = layers.Lambda(cast_to_zero, name='block_2_masked')(\n",
    "        [block_2, inputs])\n",
    "    \n",
    "    max_pool = layers.MaxPool1D(pool_size=100, padding='valid',\n",
    "                                name='tnet_0_MaxPool', strides=num_points)(\n",
    "        block_2_masked)\n",
    "    \n",
    "    tnet_0_block_0 = layers.Dense(100, activation='relu',\n",
    "                                  name='tnet_0_dense_0')(max_pool)\n",
    "    \n",
    "    tnet_0_block_1 = layers.Dense(50, activation='relu',\n",
    "                                  name='tnet_0_dense_1')(tnet_0_block_0)\n",
    "    \n",
    "    vector_dense = layers.Dense(\n",
    "        num_features**2,\n",
    "        kernel_initializer='zeros',\n",
    "        bias_initializer=keras.initializers.Constant(\n",
    "            np.eye(num_features).flatten()),\n",
    "        name='pre_matrix_0'\n",
    "    )(tnet_0_block_1)\n",
    "    \n",
    "    mat_layer = layers.Reshape((num_features, num_features),\n",
    "                               name='matrix_0')(vector_dense)\n",
    "\n",
    "    mod_inputs = layers.Lambda(mat_mul, name='matrix_multiply_0')(\n",
    "        [inputs, mat_layer])\n",
    "    #=========================================================================#\n",
    "    \n",
    "    #============== T_Dist Phi Block =========================================#\n",
    "    dense_0 = layers.Dense(100)\n",
    "    t_dist_0 = layers.TimeDistributed(dense_0, name='t_dist_3')(mod_inputs)\n",
    "    activation_0 = layers.Activation('relu', name=\"activation_3\")(t_dist_0)\n",
    "    \n",
    "    dense_1 = layers.Dense(100)\n",
    "    t_dist_1 = layers.TimeDistributed(dense_1, name='t_dist_4')(activation_0)\n",
    "    activation_1 = layers.Activation('relu', name='activation_4')(t_dist_1)\n",
    "    \n",
    "    dense_2 = layers.Dense(128)\n",
    "    t_dist_2 = layers.TimeDistributed(dense_2, name='t_dist_5')(activation_1)\n",
    "    activation_2 = layers.Activation('relu', name='activation_5')(t_dist_2)\n",
    "    #=========================================================================#\n",
    "    \n",
    "    #============== Aggregation Function (Summation) =========================#\n",
    "    \n",
    "    # This is important as it produces a layer tensor of 1s and 0s\n",
    "    # to be dotted with the output of the activation\n",
    "    lambda_layer = layers.Lambda(point_mask_fn,\n",
    "                                name='mask')(inputs)\n",
    "\n",
    "    sum_layer = layers.Dot(axes=(1,1), name='sum')(\n",
    "        [lambda_layer, activation_2])\n",
    "    #=========================================================================#\n",
    "\n",
    "    #============== F Block ==================================================#\n",
    "    dense_3 = layers.Dense(100, name='dense_6')(sum_layer)\n",
    "    activation_3 = layers.Activation('relu', name=\"activation_6\")(dense_3)\n",
    "    \n",
    "    dense_4 = layers.Dense(100, name='dense_7')(activation_3)\n",
    "    activation_4 = layers.Activation('relu', name=\"activation_7\")(dense_4)\n",
    "    \n",
    "    dense_5 = layers.Dense(100, name='dense_8')(activation_4)\n",
    "    activation_5 = layers.Activation('relu', name=\"activation_8\")(dense_5)\n",
    "    \n",
    "    dense_6 = layers.Dense(1, name='output')(activation_5)\n",
    "    activation_6 = layers.Activation('linear', name=\"activation_9\")(dense_6)\n",
    "    #=========================================================================#\n",
    "    \n",
    "    return keras.Model(inputs=inputs, outputs=activation_6, name=name)"
   ]
  },
  {
   "cell_type": "code",
   "execution_count": 33,
   "id": "50e4909c-f92c-47c3-8fef-c141964e3998",
   "metadata": {},
   "outputs": [
    {
     "name": "stdout",
     "output_type": "stream",
     "text": [
      "Model: \"PFN_wTNet\"\n",
      "__________________________________________________________________________________________________\n",
      "Layer (type)                    Output Shape         Param #     Connected to                     \n",
      "==================================================================================================\n",
      "input (InputLayer)              [(None, 1086, 5)]    0                                            \n",
      "__________________________________________________________________________________________________\n",
      "t_dist_0 (TimeDistributed)      (None, 1086, 50)     300         input[0][0]                      \n",
      "__________________________________________________________________________________________________\n",
      "activation_0 (Activation)       (None, 1086, 50)     0           t_dist_0[0][0]                   \n",
      "__________________________________________________________________________________________________\n",
      "t_dist_1 (TimeDistributed)      (None, 1086, 100)    5100        activation_0[0][0]               \n",
      "__________________________________________________________________________________________________\n",
      "activation_1 (Activation)       (None, 1086, 100)    0           t_dist_1[0][0]                   \n",
      "__________________________________________________________________________________________________\n",
      "t_dist_2 (TimeDistributed)      (None, 1086, 100)    10100       activation_1[0][0]               \n",
      "__________________________________________________________________________________________________\n",
      "activation_2 (Activation)       (None, 1086, 100)    0           t_dist_2[0][0]                   \n",
      "__________________________________________________________________________________________________\n",
      "block_2_masked (Lambda)         (None, 1086, 100)    0           activation_2[0][0]               \n",
      "                                                                 input[0][0]                      \n",
      "__________________________________________________________________________________________________\n",
      "tnet_0_MaxPool (MaxPooling1D)   (None, 1, 100)       0           block_2_masked[0][0]             \n",
      "__________________________________________________________________________________________________\n",
      "tnet_0_dense_0 (Dense)          (None, 1, 100)       10100       tnet_0_MaxPool[0][0]             \n",
      "__________________________________________________________________________________________________\n",
      "tnet_0_dense_1 (Dense)          (None, 1, 50)        5050        tnet_0_dense_0[0][0]             \n",
      "__________________________________________________________________________________________________\n",
      "pre_matrix_0 (Dense)            (None, 1, 25)        1275        tnet_0_dense_1[0][0]             \n",
      "__________________________________________________________________________________________________\n",
      "matrix_0 (Reshape)              (None, 5, 5)         0           pre_matrix_0[0][0]               \n",
      "__________________________________________________________________________________________________\n",
      "matrix_multiply_0 (Lambda)      (None, 1086, 5)      0           input[0][0]                      \n",
      "                                                                 matrix_0[0][0]                   \n",
      "__________________________________________________________________________________________________\n",
      "t_dist_3 (TimeDistributed)      (None, 1086, 100)    600         matrix_multiply_0[0][0]          \n",
      "__________________________________________________________________________________________________\n",
      "activation_3 (Activation)       (None, 1086, 100)    0           t_dist_3[0][0]                   \n",
      "__________________________________________________________________________________________________\n",
      "t_dist_4 (TimeDistributed)      (None, 1086, 100)    10100       activation_3[0][0]               \n",
      "__________________________________________________________________________________________________\n",
      "activation_4 (Activation)       (None, 1086, 100)    0           t_dist_4[0][0]                   \n",
      "__________________________________________________________________________________________________\n",
      "t_dist_5 (TimeDistributed)      (None, 1086, 128)    12928       activation_4[0][0]               \n",
      "__________________________________________________________________________________________________\n",
      "mask (Lambda)                   (None, 1086)         0           input[0][0]                      \n",
      "__________________________________________________________________________________________________\n",
      "activation_5 (Activation)       (None, 1086, 128)    0           t_dist_5[0][0]                   \n",
      "__________________________________________________________________________________________________\n",
      "sum (Dot)                       (None, 128)          0           mask[0][0]                       \n",
      "                                                                 activation_5[0][0]               \n",
      "__________________________________________________________________________________________________\n",
      "dense_6 (Dense)                 (None, 100)          12900       sum[0][0]                        \n",
      "__________________________________________________________________________________________________\n",
      "activation_6 (Activation)       (None, 100)          0           dense_6[0][0]                    \n",
      "__________________________________________________________________________________________________\n",
      "dense_7 (Dense)                 (None, 100)          10100       activation_6[0][0]               \n",
      "__________________________________________________________________________________________________\n",
      "activation_7 (Activation)       (None, 100)          0           dense_7[0][0]                    \n",
      "__________________________________________________________________________________________________\n",
      "dense_8 (Dense)                 (None, 100)          10100       activation_7[0][0]               \n",
      "__________________________________________________________________________________________________\n",
      "activation_8 (Activation)       (None, 100)          0           dense_8[0][0]                    \n",
      "__________________________________________________________________________________________________\n",
      "output (Dense)                  (None, 1)            101         activation_8[0][0]               \n",
      "__________________________________________________________________________________________________\n",
      "activation_9 (Activation)       (None, 1)            0           output[0][0]                     \n",
      "==================================================================================================\n",
      "Total params: 88,754\n",
      "Trainable params: 88,754\n",
      "Non-trainable params: 0\n",
      "__________________________________________________________________________________________________\n"
     ]
    }
   ],
   "source": [
    "model = PFN_wTNet(num_points=X.shape[1], num_features=X.shape[2],\n",
    "                     name=MODEL)\n",
    "model.compile(loss='mse', optimizer=keras.optimizers.Adam(\n",
    "    learning_rate=LEARNING_RATE))\n",
    "model.summary()"
   ]
  },
  {
   "cell_type": "markdown",
   "id": "cd3f7527-e96b-4acb-8d85-2dfe8ea92f4c",
   "metadata": {},
   "source": [
    "## Train Model"
   ]
  },
  {
   "cell_type": "code",
   "execution_count": 34,
   "id": "03174816-1fc9-458c-a850-9e777f1c2746",
   "metadata": {},
   "outputs": [
    {
     "name": "stdout",
     "output_type": "stream",
     "text": [
      "Train on 14000 samples, validate on 3000 samples\n",
      "Epoch 1/10\n"
     ]
    },
    {
     "name": "stderr",
     "output_type": "stream",
     "text": [
      "2022-02-13 21:35:18.606120: I tensorflow/core/common_runtime/gpu/gpu_device.cc:1510] Created device /job:localhost/replica:0/task:0/device:GPU:0 with 9672 MB memory:  -> device: 0, name: NVIDIA GeForce RTX 2080 Ti, pci bus id: 0000:b2:00.0, compute capability: 7.5\n",
      "2022-02-13 21:35:24.999804: I tensorflow/stream_executor/cuda/cuda_dnn.cc:381] Loaded cuDNN version 8204\n"
     ]
    },
    {
     "name": "stdout",
     "output_type": "stream",
     "text": [
      "13900/14000 [============================>.] - ETA: 0s - loss: 3.7387"
     ]
    },
    {
     "name": "stderr",
     "output_type": "stream",
     "text": [
      "/usr/local/lib/python3.8/dist-packages/keras/engine/training.py:2470: UserWarning: `Model.state_updates` will be removed in a future version. This property should not be used in TensorFlow 2.0, as `updates` are applied automatically.\n",
      "  warnings.warn('`Model.state_updates` will be removed in a future version. '\n"
     ]
    },
    {
     "name": "stdout",
     "output_type": "stream",
     "text": [
      "14000/14000 [==============================] - 10s 734us/sample - loss: 3.7189 - val_loss: 0.9116\n",
      "Epoch 2/10\n",
      "14000/14000 [==============================] - 3s 215us/sample - loss: 0.6263 - val_loss: 0.3360\n",
      "Epoch 3/10\n",
      "14000/14000 [==============================] - 3s 216us/sample - loss: 0.3739 - val_loss: 0.2294\n",
      "Epoch 4/10\n",
      "14000/14000 [==============================] - 4s 269us/sample - loss: 0.2007 - val_loss: 0.1200\n",
      "Epoch 5/10\n",
      "14000/14000 [==============================] - 3s 247us/sample - loss: 0.1295 - val_loss: 0.0871\n",
      "Epoch 6/10\n",
      "14000/14000 [==============================] - 3s 210us/sample - loss: 0.0897 - val_loss: 0.1182\n",
      "Epoch 7/10\n",
      "14000/14000 [==============================] - 3s 213us/sample - loss: 0.0667 - val_loss: 0.0579\n",
      "Epoch 8/10\n",
      "14000/14000 [==============================] - 3s 210us/sample - loss: 0.0621 - val_loss: 0.0430\n",
      "Epoch 9/10\n",
      "14000/14000 [==============================] - 3s 212us/sample - loss: 0.0472 - val_loss: 0.0400\n",
      "Epoch 10/10\n",
      "14000/14000 [==============================] - 3s 212us/sample - loss: 0.0432 - val_loss: 0.0311\n"
     ]
    }
   ],
   "source": [
    "history = model.fit(X_train,\n",
    "                  Y_train,\n",
    "                  batch_size=BATCH_SIZE,\n",
    "                  validation_data=(X_val, Y_val),\n",
    "                  epochs=EPOCHS,\n",
    "                  verbose=1\n",
    "                  )"
   ]
  },
  {
   "cell_type": "code",
   "execution_count": null,
   "id": "ee3cd3de-df8d-42ff-ae0c-f0a7dec1109f",
   "metadata": {},
   "outputs": [],
   "source": []
  }
 ],
 "metadata": {
  "kernelspec": {
   "display_name": "Python 3 (ipykernel)",
   "language": "python",
   "name": "python3"
  },
  "language_info": {
   "codemirror_mode": {
    "name": "ipython",
    "version": 3
   },
   "file_extension": ".py",
   "mimetype": "text/x-python",
   "name": "python",
   "nbconvert_exporter": "python",
   "pygments_lexer": "ipython3",
   "version": "3.8.10"
  }
 },
 "nbformat": 4,
 "nbformat_minor": 5
}
