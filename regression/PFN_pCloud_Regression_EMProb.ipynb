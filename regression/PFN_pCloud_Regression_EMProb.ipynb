{
 "cells": [
  {
   "cell_type": "markdown",
   "id": "d78c75ad-aea3-4b3c-9138-f5f71346584e",
   "metadata": {},
   "source": [
    "# Regression with EMProb for $\\pi \\pm$ with EM Info"
   ]
  },
  {
   "cell_type": "code",
   "execution_count": 1,
   "id": "37a5b07e-7fe3-410d-80fc-69d017ad5cca",
   "metadata": {},
   "outputs": [],
   "source": [
    "import numpy as np\n",
    "import matplotlib.pyplot as plt\n",
    "from matplotlib import cm\n",
    "from matplotlib.colors import Normalize\n",
    "from matplotlib.colors import LogNorm\n",
    "import time as t\n",
    "from time import process_time as cput\n",
    "import scipy.constants as spc\n",
    "\n",
    "import sys\n",
    "sys.path.append('/home/russbate/MLPionCollaboration/LCStudies/')\n",
    "from util import resolution_util as ru\n",
    "from util import plot_util as pu\n",
    "from util import deep_set_util as dsu"
   ]
  },
  {
   "cell_type": "markdown",
   "id": "44728a45-5432-4424-933e-7e86dd628b64",
   "metadata": {},
   "source": [
    "## Declare GPUs Import TensorFlow"
   ]
  },
  {
   "cell_type": "code",
   "execution_count": 2,
   "id": "aa466bf6-9c50-4212-9e04-a31384a9e3d6",
   "metadata": {},
   "outputs": [],
   "source": [
    "import os\n",
    "os.environ['CUDA_VISIBLE_DEVICES'] = \"6\"\n",
    "os.environ['TF_FORCE_GPU_ALLOW_GROWTH'] = 'true'\n",
    "\n",
    "import tensorflow as tf\n",
    "from tensorflow import keras\n",
    "from keras import layers\n",
    "from keras import backend as K"
   ]
  },
  {
   "cell_type": "markdown",
   "id": "6cbbfccd-c9ab-4a0a-b2aa-3d8002715060",
   "metadata": {},
   "source": [
    "## Load Data\n",
    "Data does not include tracks\n",
    "\n",
    "X = [Energy, Eta, Phi, rPerp, calo_layer]\n",
    "\n",
    "Y = [EnergyEM, EnergyNonEM]\n",
    "\n",
    "Yt = [truthPartE, all_cluster_ENG_CALIB_TOT]"
   ]
  },
  {
   "cell_type": "code",
   "execution_count": 3,
   "id": "6d8ef3bb-648c-4317-8ca1-b8a58339967e",
   "metadata": {},
   "outputs": [
    {
     "name": "stdout",
     "output_type": "stream",
     "text": [
      "(100000, 1380, 5)\n",
      "(100000, 1380, 2)\n",
      "(100000, 2)\n",
      "(100000, 1380)\n",
      "17089117\n",
      "(100000, 1380)\n",
      "Time to load memory mapped data: 67.508690038 (s)\n"
     ]
    }
   ],
   "source": [
    "t0 = cput()\n",
    "Xraw = np.load('/data/atlas/rbate/PIPM_X_35_files.npy', mmap_mode='r')[:100000,:,:]\n",
    "Yseg = np.load('/data/atlas/rbate/PIPM_Y_segm_35_files.npy', mmap_mode='r')[:100000,:,:]\n",
    "Yreg = np.load('/data/atlas/rbate/PIPM_Y_regr_35_files.npy', mmap_mode='r')[:100000,:]\n",
    "print(Xraw.shape)\n",
    "print(Yseg.shape)\n",
    "print(Yreg.shape)\n",
    "\n",
    "X = np.lib.format.open_memmap('/data/atlas/rbate/X_PPM_EM_notebook.npy',\n",
    "                             mode='w+', dtype=np.float64, shape=(Xraw.shape[0], Xraw.shape[1], 5))\n",
    "\n",
    "Yem = np.lib.format.open_memmap('/data/atlas/rbate/Y_PPM_EM_notebook.npy',\n",
    "                             mode='w+', dtype=np.float64, shape=Yseg.shape)\n",
    "np.copyto(dst=Yem, src=Yseg, casting='same_kind', where=True)\n",
    "\n",
    "# Energy_EM = np.ndarray.copy(Yraw[:,:,0])\n",
    "# Energy_nonEM = np.ndarray.copy(Yraw[:,:,1])\n",
    "nz_mask = Yseg[:,:,0] + Yseg[:,:,1] != 0 \n",
    "print(np.shape(nz_mask))\n",
    "print(np.count_nonzero(nz_mask.flatten()))\n",
    "\n",
    "ratio = np.zeros((X.shape[0], X.shape[1]))\n",
    "ratio[nz_mask] = Yem[nz_mask,0]/(Yem[nz_mask,0] + Yem[nz_mask,1])\n",
    "ratio = ratio*2 - 1\n",
    "print(ratio.shape)\n",
    "\n",
    "X[nz_mask,:4] = np.ndarray.copy(Xraw[nz_mask,:4])\n",
    "X[nz_mask,4] = np.ndarray.copy(ratio[nz_mask])\n",
    "# np.copyto(dst=X[:,:,:4], src=Xraw[:,:,:4], casting='same_kind', where=nz_mask)\n",
    "# np.copyto(dst=X[:,:,4], src=ratio, casting='same_kind', where=nz_mask)\n",
    "# Make sure that non-zero elements are copied as zeros due to mis-match\n",
    "X[np.invert(nz_mask),:] = 0\n",
    "\n",
    "t1 = cput()\n",
    "\n",
    "print('Time to load memory mapped data: {} (s)'.format(t1-t0))"
   ]
  },
  {
   "cell_type": "code",
   "execution_count": 4,
   "id": "b3ff77bd-17be-4ddc-aef6-b9a13602c59d",
   "metadata": {},
   "outputs": [
    {
     "name": "stdout",
     "output_type": "stream",
     "text": [
      "17089117\n",
      "138000000\n",
      "Ratio of points in cloud per event: 0.12\n"
     ]
    }
   ],
   "source": [
    "active_points = np.count_nonzero(nz_mask)\n",
    "print(active_points)\n",
    "total_points = X.shape[0]*X.shape[1]\n",
    "print(total_points)\n",
    "print('Ratio of points in cloud per event: {:3.2f}'.format(active_points/total_points))"
   ]
  },
  {
   "cell_type": "markdown",
   "id": "ba1f9844-248a-4742-abc1-0e9cadc9fb07",
   "metadata": {},
   "source": [
    "#### Normalize Target"
   ]
  },
  {
   "cell_type": "code",
   "execution_count": 5,
   "id": "1f70cdff-4206-46de-9003-d0b8fb5efc14",
   "metadata": {},
   "outputs": [],
   "source": [
    "## REGRESSION TARGET ##\n",
    "Y = np.ndarray.copy(np.log(Yreg[:,0]))"
   ]
  },
  {
   "cell_type": "markdown",
   "id": "ad0a4fff-4a9c-4a60-8952-8df466f15279",
   "metadata": {},
   "source": [
    "#### Show Targets"
   ]
  },
  {
   "cell_type": "code",
   "execution_count": 6,
   "id": "d762b8a2-6a85-493c-bc20-71979a5d610b",
   "metadata": {},
   "outputs": [
    {
     "name": "stderr",
     "output_type": "stream",
     "text": [
      "findfont: Font family ['sans-serif'] not found. Falling back to DejaVu Sans.\n",
      "findfont: Generic family 'sans-serif' not found because none of the following families were found: Tex Gyre Heros, Helvetica, Nimbus Sans, FreeSans, Arial\n",
      "findfont: Font family ['sans-serif'] not found. Falling back to DejaVu Sans.\n",
      "findfont: Generic family 'sans-serif' not found because none of the following families were found: Tex Gyre Heros, Helvetica, Nimbus Sans, FreeSans, Arial\n",
      "findfont: Font family ['sans-serif'] not found. Falling back to DejaVu Sans.\n",
      "findfont: Generic family 'sans-serif' not found because none of the following families were found: Tex Gyre Heros, Helvetica, Nimbus Sans, FreeSans, Arial\n"
     ]
    },
    {
     "data": {
      "image/png": "[encoded data removed]",
      "text/plain": [
       "<Figure size 432x432 with 1 Axes>"
      ]
     },
     "metadata": {},
     "output_type": "display_data"
    },
    {
     "data": {
      "image/png": "[encoded data removed]",
      "text/plain": [
       "<Figure size 432x432 with 1 Axes>"
      ]
     },
     "metadata": {},
     "output_type": "display_data"
    }
   ],
   "source": [
    "## RAW DATA ##\n",
    "#=================================================================\n",
    "fig = plt.figure(figsize=(6,6))\n",
    "bins=np.linspace(0,2000,50,endpoint=True)\n",
    "plt.hist(Yreg[:,0], color='orange', bins=bins, density=True, alpha=.5, edgecolor='black',\n",
    "        label='Particle Truth Energy')\n",
    "plt.title('Truth Particle Energy', fontsize=16)\n",
    "plt.xlabel('E [GeV]', fontsize=14)\n",
    "plt.xlim(np.min(bins),np.max(bins))\n",
    "plt.yscale('log')\n",
    "plt.ylim(.0001,.0025)\n",
    "plt.xticks(fontsize=13)\n",
    "plt.yticks(fontsize=13)\n",
    "plt.tight_layout()\n",
    "# plt.savefig('Regression_Plots/November21/EnergyTargets_PIPMnoEM_log_2021-11-22.png', format='png')\n",
    "plt.show()\n",
    "\n",
    "## NORMALIZED DATA ##\n",
    "#=================================================================\n",
    "fig = plt.figure(figsize=(6,6))\n",
    "bins=np.linspace(np.log(np.exp(2)), np.log(2000), 50, endpoint=True)\n",
    "plt.hist(Y, color='forestgreen', bins=bins, density=True, alpha=.5, edgecolor='black',\n",
    "        label='log')\n",
    "plt.title('Regression Targets', fontsize=16)\n",
    "plt.xlabel('Log(E) [GeV]', fontsize=14)\n",
    "plt.xlim(np.min(bins),np.max(bins))\n",
    "plt.ylim(0,.4)\n",
    "plt.xticks(fontsize=13)\n",
    "plt.yticks(fontsize=13)\n",
    "plt.tight_layout()\n",
    "# plt.savefig('Regression_Plots/November21/EnergyTargets_PIPMnoEM_log_2021-11-22.png', format='png')\n",
    "plt.show()"
   ]
  },
  {
   "cell_type": "markdown",
   "id": "9eef74ff-9d43-4660-a3cc-07b0fb2f2a21",
   "metadata": {},
   "source": [
    "### Normalize Inputs"
   ]
  },
  {
   "cell_type": "code",
   "execution_count": 7,
   "id": "a30623a9-e9db-4139-8025-00536d4245b7",
   "metadata": {},
   "outputs": [
    {
     "name": "stdout",
     "output_type": "stream",
     "text": [
      "Time to Normalize: 0.2785473299333333 (m)\n"
     ]
    }
   ],
   "source": [
    "t0 = cput()\n",
    "## Normalize rPerp to 1/3630\n",
    "# rPerp_mask = X[nz_mask,3] != 0\n",
    "X[nz_mask,3] = X[nz_mask,3]/3630.\n",
    "\n",
    "## Energy Values that are not zero! This should coincide with the EM vals...\n",
    "X[nz_mask,0] = np.log(X[nz_mask,0])\n",
    "cellE_mean = np.mean(X[nz_mask,0])\n",
    "cellE_std = np.std(X[nz_mask,0])\n",
    "X[nz_mask,0] = (X[nz_mask,0] - cellE_mean)/cellE_std\n",
    "\n",
    "## Eta and Phi\n",
    "# eta_mask = X[:,:,1] != 0\n",
    "X[nz_mask,1] = X[nz_mask,1]/.7\n",
    "\n",
    "# phi_mask = X[:,:,2] != 0\n",
    "cellPhi_std = np.std(X[nz_mask,2])\n",
    "X[nz_mask,2] = X[nz_mask,2]/cellPhi_std\n",
    "t1 = cput()\n",
    "\n",
    "print('Time to Normalize: {} (m)'.format((t1-t0)/60))"
   ]
  },
  {
   "cell_type": "markdown",
   "id": "94f41773-46ad-4891-b53d-3a66fbd4eb5a",
   "metadata": {},
   "source": [
    "#### Plot Inputs"
   ]
  },
  {
   "cell_type": "code",
   "execution_count": 8,
   "id": "cc505240-540f-4d21-987d-be6a519f31d4",
   "metadata": {},
   "outputs": [
    {
     "data": {
      "text/plain": [
       "<Figure size 799.992x599.976 with 0 Axes>"
      ]
     },
     "metadata": {},
     "output_type": "display_data"
    },
    {
     "data": {
      "image/png": "[encoded data removed]",
      "text/plain": [
       "<Figure size 432x432 with 1 Axes>"
      ]
     },
     "metadata": {},
     "output_type": "display_data"
    },
    {
     "data": {
      "text/plain": [
       "<Figure size 799.992x599.976 with 0 Axes>"
      ]
     },
     "metadata": {},
     "output_type": "display_data"
    },
    {
     "data": {
      "image/png": "[encoded data removed]",
      "text/plain": [
       "<Figure size 432x432 with 1 Axes>"
      ]
     },
     "metadata": {},
     "output_type": "display_data"
    },
    {
     "data": {
      "text/plain": [
       "<Figure size 799.992x599.976 with 0 Axes>"
      ]
     },
     "metadata": {},
     "output_type": "display_data"
    },
    {
     "data": {
      "image/png": "[encoded data removed]",
      "text/plain": [
       "<Figure size 432x432 with 1 Axes>"
      ]
     },
     "metadata": {},
     "output_type": "display_data"
    },
    {
     "data": {
      "text/plain": [
       "<Figure size 799.992x599.976 with 0 Axes>"
      ]
     },
     "metadata": {},
     "output_type": "display_data"
    },
    {
     "data": {
      "image/png": "[encoded data removed]",
      "text/plain": [
       "<Figure size 432x432 with 1 Axes>"
      ]
     },
     "metadata": {},
     "output_type": "display_data"
    },
    {
     "data": {
      "text/plain": [
       "<Figure size 799.992x599.976 with 0 Axes>"
      ]
     },
     "metadata": {},
     "output_type": "display_data"
    },
    {
     "data": {
      "image/png": "[encoded data removed]",
      "text/plain": [
       "<Figure size 432x432 with 1 Axes>"
      ]
     },
     "metadata": {},
     "output_type": "display_data"
    }
   ],
   "source": [
    "############\n",
    "## ENERGY ##\n",
    "############\n",
    "plt.cla(); plt.clf()\n",
    "fig = plt.figure(figsize=(6,6))\n",
    "ebins = np.linspace(-6,7, 50, endpoint=True)\n",
    "plt.hist(X[nz_mask,0], color='plum', bins=ebins, density=True, alpha=.5, edgecolor='black')\n",
    "plt.title('Cluster Cell Energy Inputs', fontsize=16)\n",
    "plt.xlabel('Log(E [GeV])', fontsize=14)\n",
    "plt.xlim(np.min(ebins),np.max(ebins))\n",
    "plt.ylim(0,.55)\n",
    "plt.xticks(fontsize=13)\n",
    "plt.yticks(fontsize=13)\n",
    "plt.tight_layout()\n",
    "# plt.savefig('Regression_Plots/July/X_STMC_E_2021-07-26.png', format='png')\n",
    "plt.show()\n",
    "\n",
    "#########\n",
    "## ETA ##\n",
    "#########\n",
    "plt.cla(); plt.clf()\n",
    "fig = plt.figure(figsize=(6,6))\n",
    "etabins = np.linspace(-1.1,1.1,50, endpoint=True)\n",
    "plt.hist(X[nz_mask,1], color='chocolate', bins=etabins, density=True, alpha=.5, edgecolor='black')\n",
    "plt.title('Cluster Cell Eta Inputs', fontsize=16)\n",
    "plt.xlabel('Eta', fontsize=14)\n",
    "plt.xlim(np.min(etabins),np.max(etabins))\n",
    "plt.ylim(0,4.5)\n",
    "plt.xticks(fontsize=13)\n",
    "plt.yticks(fontsize=13)\n",
    "plt.tight_layout()\n",
    "# plt.savefig('Regression_Plots/July/X_STMC_Eta_2021-07-26.png', format='png')\n",
    "plt.show()\n",
    "\n",
    "#########\n",
    "## PHI ##\n",
    "#########\n",
    "plt.cla(); plt.clf()\n",
    "fig = plt.figure(figsize=(6,6))\n",
    "phibins = np.linspace(-np.pi/4,np.pi/4,50, endpoint=True)\n",
    "plt.hist(X[nz_mask,2], color='olive', bins=phibins, density=True, alpha=.5, edgecolor='black')\n",
    "plt.title('Cluster Cell Phi Inputs Flattened', fontsize=16)\n",
    "plt.xlabel('Phi', fontsize=14)\n",
    "plt.xlim(np.min(phibins),np.max(phibins))\n",
    "plt.ylim(0,5)\n",
    "plt.xticks(fontsize=13)\n",
    "plt.yticks(fontsize=13)\n",
    "plt.tight_layout()\n",
    "# plt.savefig('Regression_Plots/July/X_STMC_Phi_2021-07-26.png', format='png')\n",
    "plt.show()\n",
    "\n",
    "###########\n",
    "## RPERP ##\n",
    "###########\n",
    "plt.cla(); plt.clf()\n",
    "fig = plt.figure(figsize=(6,6))\n",
    "Rbins = np.linspace(-0,1.2,50, endpoint=True)\n",
    "plt.hist(X[nz_mask,3], color='gold', bins=Rbins, density=True, alpha=.5, edgecolor='black')\n",
    "plt.title('Cluster Cell rPerp Inputs Flattened', fontsize=16)\n",
    "plt.xlabel('rPerp', fontsize=14)\n",
    "plt.xlim(np.min(Rbins),np.max(Rbins))\n",
    "plt.ylim(0,10)\n",
    "plt.xticks(fontsize=13)\n",
    "plt.yticks(fontsize=13)\n",
    "plt.tight_layout()\n",
    "# plt.savefig('Regression_Plots/July/X_STMC_rPerp_2021-07-26.png', format='png')\n",
    "plt.show()\n",
    "\n",
    "##############################\n",
    "## HADRONIC VS NON HADRONIC ##\n",
    "##############################\n",
    "plt.cla(); plt.clf()\n",
    "fig = plt.figure(figsize=(6,6))\n",
    "EMbins = np.linspace(-1,1,50, endpoint=True)\n",
    "plt.hist(X[nz_mask,4], color='gold', bins=EMbins, density=True, alpha=.5, edgecolor='black')\n",
    "plt.title('nonEM versus EM', fontsize=16)\n",
    "plt.xlabel('1 is all EM', fontsize=14)\n",
    "plt.xlim(-1,1)\n",
    "plt.ylim(0,10)\n",
    "plt.xticks(fontsize=13)\n",
    "plt.yticks(fontsize=13)\n",
    "plt.tight_layout()\n",
    "# plt.savefig('Regression_Plots/July/X_STMC_rPerp_2021-07-26.png', format='png')\n",
    "plt.show()"
   ]
  },
  {
   "cell_type": "markdown",
   "id": "9ba461f1-ee3d-4ebe-b14f-6486c4d33d2f",
   "metadata": {},
   "source": [
    "## Build Model"
   ]
  },
  {
   "cell_type": "code",
   "execution_count": 19,
   "id": "232d3dab-3620-40a7-a356-78e6f72b43f2",
   "metadata": {},
   "outputs": [],
   "source": [
    "def point_mask_fn(X, mask_val=0.):\n",
    "    return K.cast(K.any(K.not_equal(X, mask_val), axis=-1), K.dtype(X))\n",
    "\n",
    "def ParticleFlow_base(num_points, num_features, name=\"Russell Flow Network\"):\n",
    "    \n",
    "    inputs = keras.Input(shape=(num_points, num_features), name='input')\n",
    "\n",
    "    dense_0 = layers.Dense(100)\n",
    "    t_dist_0 = layers.TimeDistributed(dense_0, name='t_dist_0')(inputs)\n",
    "    activation_0 = layers.Activation('relu', name=\"activation_0\")(t_dist_0)\n",
    "    \n",
    "    dense_1 = layers.Dense(100)\n",
    "    t_dist_1 = layers.TimeDistributed(dense_1, name='t_dist_1')(activation_0)\n",
    "    activation_1 = layers.Activation('relu', name='activation_1')(t_dist_1)\n",
    "    \n",
    "    dense_2 = layers.Dense(128)\n",
    "    t_dist_2 = layers.TimeDistributed(dense_2, name='t_dist_2')(activation_1)\n",
    "    activation_2 = layers.Activation('relu', name='activation_2')(t_dist_2)\n",
    "    \n",
    "    lambda_layer = layers.Lambda(point_mask_fn,\n",
    "                                name='mask')(inputs)\n",
    "\n",
    "    sum_layer = layers.Dot(axes=(1,1), name='sum')([lambda_layer, activation_2])\n",
    "    \n",
    "    dense_3 = layers.Dense(100, name='dense_0')(sum_layer)\n",
    "    activation_3 = layers.Activation('relu', name=\"activation_3\")(dense_3)\n",
    "    \n",
    "    dense_4 = layers.Dense(100, name='dense_1')(activation_3)\n",
    "    activation_4 = layers.Activation('relu', name=\"activation_4\")(dense_4)\n",
    "    \n",
    "    dense_5 = layers.Dense(100, name='dense_2')(activation_4)\n",
    "    activation_5 = layers.Activation('relu', name=\"activation_5\")(dense_5)\n",
    "    \n",
    "    dense_6 = layers.Dense(1, name='output')(activation_5)\n",
    "    activation_6 = layers.Activation('linear', name=\"activation_6\")(dense_6)\n",
    "    \n",
    "    return keras.Model(inputs=inputs, outputs=activation_6, name=name)"
   ]
  },
  {
   "cell_type": "code",
   "execution_count": 20,
   "id": "1149ed99-bfb6-43fe-9f3a-682e2e55fe65",
   "metadata": {},
   "outputs": [
    {
     "name": "stdout",
     "output_type": "stream",
     "text": [
      "Model: \"Base_PFN\"\n",
      "__________________________________________________________________________________________________\n",
      "Layer (type)                    Output Shape         Param #     Connected to                     \n",
      "==================================================================================================\n",
      "input (InputLayer)              [(None, 1380, 5)]    0                                            \n",
      "__________________________________________________________________________________________________\n",
      "t_dist_0 (TimeDistributed)      (None, 1380, 100)    600         input[0][0]                      \n",
      "__________________________________________________________________________________________________\n",
      "activation_0 (Activation)       (None, 1380, 100)    0           t_dist_0[0][0]                   \n",
      "__________________________________________________________________________________________________\n",
      "t_dist_1 (TimeDistributed)      (None, 1380, 100)    10100       activation_0[0][0]               \n",
      "__________________________________________________________________________________________________\n",
      "activation_1 (Activation)       (None, 1380, 100)    0           t_dist_1[0][0]                   \n",
      "__________________________________________________________________________________________________\n",
      "t_dist_2 (TimeDistributed)      (None, 1380, 128)    12928       activation_1[0][0]               \n",
      "__________________________________________________________________________________________________\n",
      "mask (Lambda)                   (None, 1380)         0           input[0][0]                      \n",
      "__________________________________________________________________________________________________\n",
      "activation_2 (Activation)       (None, 1380, 128)    0           t_dist_2[0][0]                   \n",
      "__________________________________________________________________________________________________\n",
      "sum (Dot)                       (None, 128)          0           mask[0][0]                       \n",
      "                                                                 activation_2[0][0]               \n",
      "__________________________________________________________________________________________________\n",
      "dense_0 (Dense)                 (None, 100)          12900       sum[0][0]                        \n",
      "__________________________________________________________________________________________________\n",
      "activation_3 (Activation)       (None, 100)          0           dense_0[0][0]                    \n",
      "__________________________________________________________________________________________________\n",
      "dense_1 (Dense)                 (None, 100)          10100       activation_3[0][0]               \n",
      "__________________________________________________________________________________________________\n",
      "activation_4 (Activation)       (None, 100)          0           dense_1[0][0]                    \n",
      "__________________________________________________________________________________________________\n",
      "dense_2 (Dense)                 (None, 100)          10100       activation_4[0][0]               \n",
      "__________________________________________________________________________________________________\n",
      "activation_5 (Activation)       (None, 100)          0           dense_2[0][0]                    \n",
      "__________________________________________________________________________________________________\n",
      "output (Dense)                  (None, 1)            101         activation_5[0][0]               \n",
      "__________________________________________________________________________________________________\n",
      "activation_6 (Activation)       (None, 1)            0           output[0][0]                     \n",
      "==================================================================================================\n",
      "Total params: 56,829\n",
      "Trainable params: 56,829\n",
      "Non-trainable params: 0\n",
      "__________________________________________________________________________________________________\n"
     ]
    }
   ],
   "source": [
    "base_model = ParticleFlow_base(num_features=5, num_points=X.shape[1],\n",
    "                               name='Base_PFN')\n",
    "base_model.compile(loss='mse', optimizer=keras.optimizers.Adam(learning_rate=0.001))\n",
    "base_model.summary()"
   ]
  },
  {
   "cell_type": "markdown",
   "id": "f5740eaf-edf3-4568-bc8e-cda90ce7045f",
   "metadata": {},
   "source": [
    "## Data Handling"
   ]
  },
  {
   "cell_type": "code",
   "execution_count": 21,
   "id": "33b6a508-9049-4fa3-8a81-3abc4b01603a",
   "metadata": {},
   "outputs": [
    {
     "name": "stdout",
     "output_type": "stream",
     "text": [
      "train -- val -- test\n",
      "70000 -- 15000 -- 15000\n"
     ]
    }
   ],
   "source": [
    "# EFN regression example uses 75/10/15 split for 100,000 samples\n",
    "train, val, test = dsu.tvt_num(X, tvt=(70, 15, 15))\n",
    "print('train -- val -- test')\n",
    "print('{} -- {} -- {}'.format(train, val, test))"
   ]
  },
  {
   "cell_type": "markdown",
   "id": "69300324-d59f-414f-9cc0-df56e3e93a20",
   "metadata": {},
   "source": [
    "## Data Handling"
   ]
  },
  {
   "cell_type": "markdown",
   "id": "cf57db8f-ab65-41c9-bf50-f4a06b236d92",
   "metadata": {},
   "source": [
    "### Shuffle Data"
   ]
  },
  {
   "cell_type": "code",
   "execution_count": 22,
   "id": "7c46206d-768d-4ddb-af0f-54e524066d8a",
   "metadata": {},
   "outputs": [],
   "source": [
    "# indices = np.arange(X.shape[0], dtype=int)\n",
    "# np.random.shuffle(indices)\n",
    "# X = X[indices,:,:]\n",
    "# Y = Y[indices]"
   ]
  },
  {
   "cell_type": "code",
   "execution_count": 23,
   "id": "af4e294a-3be7-42f1-aaa9-fe9ac717cab1",
   "metadata": {},
   "outputs": [],
   "source": [
    "# DataSet = tf.data.Dataset.from_tensor_slices((X,Y))"
   ]
  },
  {
   "cell_type": "code",
   "execution_count": 24,
   "id": "39365079-a06d-4fbf-b0e7-b315c5e44e6e",
   "metadata": {},
   "outputs": [],
   "source": [
    "# ds_train = DataSet.skip(val+test)\n",
    "# ds_test = DataSet.take(test+val)\n",
    "# ds_val = ds_test.skip(test)\n",
    "# ds_test = ds_test.take(test)\n",
    "# print(ds_train.cardinality())\n",
    "# print(ds_val.cardinality())\n",
    "# print(ds_test.cardinality())"
   ]
  },
  {
   "cell_type": "markdown",
   "id": "19a4fcda-b81d-406a-a2a9-c40e8f488646",
   "metadata": {},
   "source": [
    "### Train/Val/Test Split"
   ]
  },
  {
   "cell_type": "code",
   "execution_count": 25,
   "id": "7d4892e4-7a78-4293-9e96-300cfe954be3",
   "metadata": {},
   "outputs": [
    {
     "name": "stdout",
     "output_type": "stream",
     "text": [
      "(70000, 1380, 5)\n",
      "(70000, 1)\n"
     ]
    }
   ],
   "source": [
    "X_train = X[:train,:,:]\n",
    "Y_train = Y[:train]\n",
    "\n",
    "X_val = X[train:train+val,:,:]\n",
    "Y_val = Y[train:train+val]\n",
    "\n",
    "X_test = X[train+val:,:,:]\n",
    "Y_test = Y[train+val:]\n",
    "\n",
    "# Print out tensor shapes\n",
    "Y_train = np.reshape(Y_train, (Y_train.shape[0], 1))\n",
    "print(np.shape(X_train))\n",
    "print(np.shape(Y_train))"
   ]
  },
  {
   "cell_type": "markdown",
   "id": "5f7837ff-7be9-4159-9413-81d16f78bcdb",
   "metadata": {},
   "source": [
    "## Train Model"
   ]
  },
  {
   "cell_type": "code",
   "execution_count": 26,
   "id": "65165c28-3512-4902-9ea2-24e01147a831",
   "metadata": {},
   "outputs": [],
   "source": [
    "num_epoch = 100\n",
    "batch_size = 1000"
   ]
  },
  {
   "cell_type": "code",
   "execution_count": 27,
   "id": "e7f54350-462a-4785-b6bc-24b77a740d46",
   "metadata": {},
   "outputs": [],
   "source": [
    "# NBatches = int(train/batch_size)\n",
    "# print('Number of batches: {}'.format(NBatches))\n",
    "\n",
    "# ds_train = ds_train.batch(NBatches, drop_remainder=True)\n",
    "# ds_val = ds_val.batch(NBatches, drop_remainder=True)\n",
    "# ds_test = ds_test.batch(NBatches, drop_remainder=True)"
   ]
  },
  {
   "cell_type": "code",
   "execution_count": 28,
   "id": "67907142-9b11-43de-a02c-539160104e63",
   "metadata": {},
   "outputs": [],
   "source": [
    "# tf.config.run_functions_eagerly(True)"
   ]
  },
  {
   "cell_type": "code",
   "execution_count": 29,
   "id": "ec3836c5-5465-4579-bb5a-b57bed4f92d3",
   "metadata": {
    "scrolled": true,
    "tags": []
   },
   "outputs": [],
   "source": [
    "# t0 = cput()\n",
    "# history_base = base_model.fit(ds_train,\n",
    "#         epochs=num_epoch,\n",
    "#         validation_data=ds_val,\n",
    "#         verbose=1)\n",
    "# t1 = cput()"
   ]
  },
  {
   "cell_type": "code",
   "execution_count": 30,
   "id": "3cf6a872-80ba-4fc4-90cc-0074f616f877",
   "metadata": {},
   "outputs": [
    {
     "name": "stderr",
     "output_type": "stream",
     "text": [
      "2022-02-09 23:01:01.140826: W tensorflow/core/framework/cpu_allocator_impl.cc:80] Allocation of 1932000000 exceeds 10% of free system memory.\n",
      "2022-02-09 23:01:04.021316: W tensorflow/core/framework/cpu_allocator_impl.cc:80] Allocation of 1932000000 exceeds 10% of free system memory.\n"
     ]
    },
    {
     "name": "stdout",
     "output_type": "stream",
     "text": [
      "Epoch 1/100\n",
      "70/70 [==============================] - 9s 113ms/step - loss: 8.6647 - val_loss: 3.5108\n",
      "Epoch 2/100\n",
      "70/70 [==============================] - 6s 82ms/step - loss: 1.6840 - val_loss: 0.7881\n",
      "Epoch 3/100\n",
      "70/70 [==============================] - 6s 84ms/step - loss: 0.5511 - val_loss: 0.4856\n",
      "Epoch 4/100\n",
      "70/70 [==============================] - 6s 92ms/step - loss: 0.4901 - val_loss: 0.3786\n",
      "Epoch 5/100\n",
      "70/70 [==============================] - 6s 86ms/step - loss: 0.3242 - val_loss: 0.2642\n",
      "Epoch 6/100\n",
      "70/70 [==============================] - 6s 84ms/step - loss: 0.3177 - val_loss: 0.2276\n",
      "Epoch 7/100\n",
      "70/70 [==============================] - 6s 91ms/step - loss: 0.2387 - val_loss: 0.1987\n",
      "Epoch 8/100\n",
      "70/70 [==============================] - 6s 92ms/step - loss: 0.2472 - val_loss: 0.1995\n",
      "Epoch 9/100\n",
      "70/70 [==============================] - 6s 89ms/step - loss: 0.2189 - val_loss: 0.1744\n",
      "Epoch 10/100\n",
      "70/70 [==============================] - 6s 91ms/step - loss: 0.2021 - val_loss: 0.1609\n",
      "Epoch 11/100\n",
      "70/70 [==============================] - 6s 88ms/step - loss: 0.1498 - val_loss: 0.1534\n",
      "Epoch 12/100\n",
      "70/70 [==============================] - 6s 88ms/step - loss: 0.1588 - val_loss: 0.1328\n",
      "Epoch 13/100\n",
      "70/70 [==============================] - 6s 88ms/step - loss: 0.1441 - val_loss: 0.1330\n",
      "Epoch 14/100\n",
      "70/70 [==============================] - 6s 91ms/step - loss: 0.1648 - val_loss: 0.3755\n",
      "Epoch 15/100\n",
      "70/70 [==============================] - 6s 86ms/step - loss: 0.2096 - val_loss: 0.1253\n",
      "Epoch 16/100\n",
      "70/70 [==============================] - 6s 88ms/step - loss: 0.1412 - val_loss: 0.1196\n",
      "Epoch 17/100\n",
      "70/70 [==============================] - 6s 88ms/step - loss: 0.1142 - val_loss: 0.1394\n",
      "Epoch 18/100\n",
      "70/70 [==============================] - 6s 91ms/step - loss: 0.1122 - val_loss: 0.1106\n",
      "Epoch 19/100\n",
      "70/70 [==============================] - 6s 85ms/step - loss: 0.1094 - val_loss: 0.1056\n",
      "Epoch 20/100\n",
      "70/70 [==============================] - 6s 86ms/step - loss: 0.1006 - val_loss: 0.1160\n",
      "Epoch 21/100\n",
      "70/70 [==============================] - 6s 85ms/step - loss: 0.1062 - val_loss: 0.0908\n",
      "Epoch 22/100\n",
      "70/70 [==============================] - 6s 83ms/step - loss: 0.1360 - val_loss: 0.1006\n",
      "Epoch 23/100\n",
      "70/70 [==============================] - 6s 83ms/step - loss: 0.0942 - val_loss: 0.1034\n",
      "Epoch 24/100\n",
      "70/70 [==============================] - 6s 85ms/step - loss: 0.0970 - val_loss: 0.0984\n",
      "Epoch 25/100\n",
      "70/70 [==============================] - 6s 88ms/step - loss: 0.0876 - val_loss: 0.0769\n",
      "Epoch 26/100\n",
      "70/70 [==============================] - 6s 88ms/step - loss: 0.0907 - val_loss: 0.0797\n",
      "Epoch 27/100\n",
      "70/70 [==============================] - 6s 88ms/step - loss: 0.0775 - val_loss: 0.0746\n",
      "Epoch 28/100\n",
      "70/70 [==============================] - 6s 88ms/step - loss: 0.0798 - val_loss: 0.0695\n",
      "Epoch 29/100\n",
      "70/70 [==============================] - 6s 92ms/step - loss: 0.0713 - val_loss: 0.0669\n",
      "Epoch 30/100\n",
      "70/70 [==============================] - 6s 84ms/step - loss: 0.0700 - val_loss: 0.0638\n",
      "Epoch 31/100\n",
      "70/70 [==============================] - 6s 89ms/step - loss: 0.0645 - val_loss: 0.0636\n",
      "Epoch 32/100\n",
      "70/70 [==============================] - 6s 87ms/step - loss: 0.0669 - val_loss: 0.0924\n",
      "Epoch 33/100\n",
      "70/70 [==============================] - 6s 86ms/step - loss: 0.0690 - val_loss: 0.0661\n",
      "Epoch 34/100\n",
      "70/70 [==============================] - 6s 86ms/step - loss: 0.0639 - val_loss: 0.0570\n",
      "Epoch 35/100\n",
      "70/70 [==============================] - 7s 94ms/step - loss: 0.0686 - val_loss: 0.0590\n",
      "Epoch 36/100\n",
      "70/70 [==============================] - 6s 84ms/step - loss: 0.0561 - val_loss: 0.0556\n",
      "Epoch 37/100\n",
      "70/70 [==============================] - 6s 88ms/step - loss: 0.0570 - val_loss: 0.0522\n",
      "Epoch 38/100\n",
      "70/70 [==============================] - 6s 86ms/step - loss: 0.0519 - val_loss: 0.0576\n",
      "Epoch 39/100\n",
      "70/70 [==============================] - 6s 85ms/step - loss: 0.0539 - val_loss: 0.0476\n",
      "Epoch 40/100\n",
      "70/70 [==============================] - 6s 90ms/step - loss: 0.0627 - val_loss: 0.0610\n",
      "Epoch 41/100\n",
      "70/70 [==============================] - 6s 85ms/step - loss: 0.0574 - val_loss: 0.0523\n",
      "Epoch 42/100\n",
      "70/70 [==============================] - 6s 85ms/step - loss: 0.0472 - val_loss: 0.0480\n",
      "Epoch 43/100\n",
      "70/70 [==============================] - 6s 90ms/step - loss: 0.0440 - val_loss: 0.0460\n",
      "Epoch 44/100\n",
      "70/70 [==============================] - 6s 89ms/step - loss: 0.0472 - val_loss: 0.0534\n",
      "Epoch 45/100\n",
      "70/70 [==============================] - 6s 85ms/step - loss: 0.0451 - val_loss: 0.0432\n",
      "Epoch 46/100\n",
      "70/70 [==============================] - 6s 85ms/step - loss: 0.0425 - val_loss: 0.0414\n",
      "Epoch 47/100\n",
      "70/70 [==============================] - 6s 85ms/step - loss: 0.0423 - val_loss: 0.0438\n",
      "Epoch 48/100\n",
      "70/70 [==============================] - 6s 88ms/step - loss: 0.0426 - val_loss: 0.0411\n",
      "Epoch 49/100\n",
      "70/70 [==============================] - 6s 88ms/step - loss: 0.0444 - val_loss: 0.0382\n",
      "Epoch 50/100\n",
      "70/70 [==============================] - 6s 85ms/step - loss: 0.0392 - val_loss: 0.0444\n",
      "Epoch 51/100\n",
      "70/70 [==============================] - 6s 85ms/step - loss: 0.0408 - val_loss: 0.0558\n",
      "Epoch 52/100\n",
      "70/70 [==============================] - 6s 85ms/step - loss: 0.0398 - val_loss: 0.0401\n",
      "Epoch 53/100\n",
      "70/70 [==============================] - 6s 84ms/step - loss: 0.0402 - val_loss: 0.0450\n",
      "Epoch 54/100\n",
      "70/70 [==============================] - 6s 86ms/step - loss: 0.0377 - val_loss: 0.0353\n",
      "Epoch 55/100\n",
      "70/70 [==============================] - 6s 90ms/step - loss: 0.0363 - val_loss: 0.0383\n",
      "Epoch 56/100\n",
      "70/70 [==============================] - 6s 85ms/step - loss: 0.0354 - val_loss: 0.0403\n",
      "Epoch 57/100\n",
      "70/70 [==============================] - 6s 85ms/step - loss: 0.0382 - val_loss: 0.0410\n",
      "Epoch 58/100\n",
      "70/70 [==============================] - 6s 86ms/step - loss: 0.0356 - val_loss: 0.0327\n",
      "Epoch 59/100\n",
      "70/70 [==============================] - 6s 85ms/step - loss: 0.0341 - val_loss: 0.0385\n",
      "Epoch 60/100\n",
      "70/70 [==============================] - 6s 85ms/step - loss: 0.0338 - val_loss: 0.0338\n",
      "Epoch 61/100\n",
      "70/70 [==============================] - 6s 89ms/step - loss: 0.0336 - val_loss: 0.0371\n",
      "Epoch 62/100\n",
      "70/70 [==============================] - 6s 86ms/step - loss: 0.0324 - val_loss: 0.0613\n",
      "Epoch 63/100\n",
      "70/70 [==============================] - 6s 83ms/step - loss: 0.0363 - val_loss: 0.0328\n",
      "Epoch 64/100\n",
      "70/70 [==============================] - 6s 84ms/step - loss: 0.0335 - val_loss: 0.0306\n",
      "Epoch 65/100\n",
      "70/70 [==============================] - 6s 90ms/step - loss: 0.0301 - val_loss: 0.0322\n",
      "Epoch 66/100\n",
      "70/70 [==============================] - 6s 86ms/step - loss: 0.0301 - val_loss: 0.0339\n",
      "Epoch 67/100\n",
      "70/70 [==============================] - 6s 84ms/step - loss: 0.0309 - val_loss: 0.0322\n",
      "Epoch 68/100\n",
      "70/70 [==============================] - 6s 84ms/step - loss: 0.0317 - val_loss: 0.0310\n",
      "Epoch 69/100\n",
      "70/70 [==============================] - 6s 85ms/step - loss: 0.0300 - val_loss: 0.0318\n",
      "Epoch 70/100\n",
      "70/70 [==============================] - 6s 85ms/step - loss: 0.0288 - val_loss: 0.0289\n",
      "Epoch 71/100\n",
      "70/70 [==============================] - 6s 85ms/step - loss: 0.0300 - val_loss: 0.0340\n",
      "Epoch 72/100\n",
      "70/70 [==============================] - 6s 84ms/step - loss: 0.0280 - val_loss: 0.0275\n",
      "Epoch 73/100\n",
      "70/70 [==============================] - 6s 86ms/step - loss: 0.0441 - val_loss: 0.1060\n",
      "Epoch 74/100\n",
      "70/70 [==============================] - 6s 84ms/step - loss: 0.0944 - val_loss: 0.0504\n",
      "Epoch 75/100\n",
      "70/70 [==============================] - 6s 84ms/step - loss: 0.0348 - val_loss: 0.0328\n",
      "Epoch 76/100\n",
      "70/70 [==============================] - 6s 85ms/step - loss: 0.0302 - val_loss: 0.0297\n",
      "Epoch 77/100\n",
      "70/70 [==============================] - 6s 91ms/step - loss: 0.0274 - val_loss: 0.0282\n",
      "Epoch 78/100\n",
      "70/70 [==============================] - 6s 84ms/step - loss: 0.0264 - val_loss: 0.0273\n",
      "Epoch 79/100\n",
      "70/70 [==============================] - 6s 86ms/step - loss: 0.0262 - val_loss: 0.0270\n",
      "Epoch 80/100\n",
      "70/70 [==============================] - 6s 84ms/step - loss: 0.0257 - val_loss: 0.0347\n",
      "Epoch 81/100\n",
      "70/70 [==============================] - 6s 86ms/step - loss: 0.0261 - val_loss: 0.0259\n",
      "Epoch 82/100\n",
      "70/70 [==============================] - 6s 88ms/step - loss: 0.0239 - val_loss: 0.0257\n",
      "Epoch 83/100\n",
      "70/70 [==============================] - 6s 87ms/step - loss: 0.0234 - val_loss: 0.0243\n",
      "Epoch 84/100\n",
      "70/70 [==============================] - 6s 84ms/step - loss: 0.0238 - val_loss: 0.0251\n",
      "Epoch 85/100\n",
      "70/70 [==============================] - 6s 87ms/step - loss: 0.0238 - val_loss: 0.0244\n",
      "Epoch 86/100\n",
      "70/70 [==============================] - 6s 89ms/step - loss: 0.0235 - val_loss: 0.0236\n",
      "Epoch 87/100\n",
      "70/70 [==============================] - 6s 85ms/step - loss: 0.0241 - val_loss: 0.0237\n",
      "Epoch 88/100\n",
      "70/70 [==============================] - 6s 84ms/step - loss: 0.0233 - val_loss: 0.0253\n",
      "Epoch 89/100\n",
      "70/70 [==============================] - 6s 87ms/step - loss: 0.0227 - val_loss: 0.0236\n",
      "Epoch 90/100\n",
      "70/70 [==============================] - 6s 88ms/step - loss: 0.0229 - val_loss: 0.0235\n",
      "Epoch 91/100\n",
      "70/70 [==============================] - 6s 88ms/step - loss: 0.0223 - val_loss: 0.0260\n",
      "Epoch 92/100\n",
      "70/70 [==============================] - 6s 86ms/step - loss: 0.0217 - val_loss: 0.0228\n",
      "Epoch 93/100\n",
      "70/70 [==============================] - 6s 84ms/step - loss: 0.0227 - val_loss: 0.0232\n",
      "Epoch 94/100\n",
      "70/70 [==============================] - 6s 85ms/step - loss: 0.0223 - val_loss: 0.0217\n",
      "Epoch 95/100\n",
      "70/70 [==============================] - 6s 84ms/step - loss: 0.0217 - val_loss: 0.0228\n",
      "Epoch 96/100\n",
      "70/70 [==============================] - 6s 87ms/step - loss: 0.0213 - val_loss: 0.0227\n",
      "Epoch 97/100\n",
      "70/70 [==============================] - 6s 84ms/step - loss: 0.0200 - val_loss: 0.0222\n",
      "Epoch 98/100\n",
      "70/70 [==============================] - 6s 87ms/step - loss: 0.0208 - val_loss: 0.0246\n",
      "Epoch 99/100\n",
      "70/70 [==============================] - 6s 86ms/step - loss: 0.0214 - val_loss: 0.0230\n",
      "Epoch 100/100\n",
      "70/70 [==============================] - 6s 86ms/step - loss: 0.0202 - val_loss: 0.0215\n"
     ]
    }
   ],
   "source": [
    "t0 = cput()\n",
    "history_base = base_model.fit(X_train,\n",
    "        Y_train,\n",
    "        epochs=num_epoch,\n",
    "        batch_size=batch_size,\n",
    "        validation_data=(X_val, Y_val),\n",
    "        verbose=1)\n",
    "t1 = cput()"
   ]
  },
  {
   "cell_type": "code",
   "execution_count": 31,
   "id": "8dbc4c21-ca50-450c-9003-99b8acc88689",
   "metadata": {},
   "outputs": [
    {
     "name": "stdout",
     "output_type": "stream",
     "text": [
      "Time to train: 827.963739953 (s)\n",
      "13.799395665883333 (min)\n",
      "0.2299899277647222 (hour)\n"
     ]
    }
   ],
   "source": [
    "print('Time to train: {} (s)'.format(t1-t0))\n",
    "print('{} (min)'.format((t1-t0)/60))\n",
    "print('{} (hour)'.format((t1-t0)/3600))"
   ]
  },
  {
   "cell_type": "markdown",
   "id": "ee0a531f-6697-4263-84fe-f4f7742063b1",
   "metadata": {},
   "source": [
    "### Loss Curves"
   ]
  },
  {
   "cell_type": "code",
   "execution_count": null,
   "id": "4b26f066-9aef-4f77-987c-426bd5ffde45",
   "metadata": {},
   "outputs": [],
   "source": [
    "fig = plt.figure(figsize=(6,6))\n",
    "plt.plot(history_base.history['val_loss'], label=\"Validation\")\n",
    "plt.plot(history_base.history['loss'], label=\"Training\")\n",
    "plt.yscale('log')\n",
    "# plt.ylim(.001,10)\n",
    "plt.yticks(fontsize=13)\n",
    "plt.xlim(0,len(history_base.history['loss'])-1)\n",
    "plt.xticks(fontsize=13)\n",
    "plt.xlabel('Epochs', fontsize=14)\n",
    "plt.ylabel('Loss', fontsize=14)\n",
    "plt.legend(loc='upper right', ncol=1)\n",
    "# plt.text(1000, 1.5, 'LR=1e-3', fontsize=13)\n",
    "# plt.text(1000, 1, 'Batch: 3000', fontsize=13)\n",
    "plt.tight_layout()\n",
    "# plt.savefig('Regression_Plots/November21/pipmNoEM_lossCurves_3000batch_LR1e-3_2021-11-29.png', format='png')\n",
    "plt.show()"
   ]
  },
  {
   "cell_type": "markdown",
   "id": "08bcf1da-4296-4a5d-bea9-ee32f57889e0",
   "metadata": {},
   "source": [
    "### Predictions"
   ]
  },
  {
   "cell_type": "code",
   "execution_count": 18,
   "id": "f2f10080-9195-4c40-9c0e-8728ad1f1272",
   "metadata": {},
   "outputs": [
    {
     "name": "stdout",
     "output_type": "stream",
     "text": [
      "(41885,)\n"
     ]
    }
   ],
   "source": [
    "base_preds = base_model.predict(X_test, batch_size=batch_size).flatten()\n",
    "print(base_preds.shape)"
   ]
  },
  {
   "cell_type": "markdown",
   "id": "782a3ac1-2cce-4744-bebc-5ee08bb8fa90",
   "metadata": {},
   "source": [
    "### Histogram of Predictions"
   ]
  },
  {
   "cell_type": "code",
   "execution_count": 19,
   "id": "41ede553-13a7-4ae5-b12e-ecce99912760",
   "metadata": {},
   "outputs": [
    {
     "data": {
      "image/png": "[encoded data removed]",
      "text/plain": [
       "<Figure size 432x432 with 1 Axes>"
      ]
     },
     "metadata": {},
     "output_type": "display_data"
    }
   ],
   "source": [
    "## PREDICTIONS AND TRUTH ##\n",
    "bins = np.linspace(2,np.log(2000),50, endpoint=True)\n",
    "fig = plt.figure(figsize=(6,6))\n",
    "plt.hist(Y_test, color='steelblue', bins=bins, density=True, alpha=.5, edgecolor='black', label='target')\n",
    "plt.hist(base_preds, color='coral', bins=bins, density=True, alpha=.5, edgecolor='black', label='network')\n",
    "plt.title('Regression Output and Target', fontsize=16)\n",
    "plt.xlabel('Log(E /[GeV])', fontsize=14)\n",
    "plt.xlim(2,np.log(2000))\n",
    "plt.xticks(fontsize=13)\n",
    "plt.yticks(fontsize=13)\n",
    "plt.legend(loc='upper left')\n",
    "plt.tight_layout()\n",
    "# plt.savefig('Regression_Plots/November21/NoEMtargetPreds_3000batch_LR1e-3_2021-11-29.png', format='png')\n",
    "plt.show()"
   ]
  },
  {
   "cell_type": "markdown",
   "id": "94f3995d-3271-469e-b0fc-518390c0a95e",
   "metadata": {},
   "source": [
    "### Analytics"
   ]
  },
  {
   "cell_type": "markdown",
   "id": "b2cf0e98-ac37-43bf-b658-c3c3806661b1",
   "metadata": {},
   "source": [
    "#### Response Plot"
   ]
  },
  {
   "cell_type": "code",
   "execution_count": 22,
   "id": "ae0e5ecc-81c6-4b6d-b3d5-b733c8f096f7",
   "metadata": {},
   "outputs": [
    {
     "data": {
      "text/plain": [
       "<Figure size 799.992x599.976 with 0 Axes>"
      ]
     },
     "metadata": {},
     "output_type": "display_data"
    },
    {
     "data": {
      "image/png": "[encoded data removed]",
      "text/plain": [
       "<Figure size 799.992x599.976 with 2 Axes>"
      ]
     },
     "metadata": {},
     "output_type": "display_data"
    }
   ],
   "source": [
    "resplot = ru.responsePlot(x=np.exp(Y_test), y=np.exp(base_preds)/np.exp(Y_test),\n",
    "                figfile='',\n",
    "                statistic='median', xlabel='Particle Truth Energy', ylabel='Predicted Energy / Particle Truth Energy',\n",
    "                atlas_x=.05, atlas_y=.96, simulation=True, cblabel='',\n",
    "                textlist=[])\n",
    "\n",
    "# Regression_Plots/November21/ResponsePlotNoEM_3000batch_LR1e-3_2021-11-29.png"
   ]
  },
  {
   "cell_type": "markdown",
   "id": "0e8d337e-ec5c-4344-a988-0e8c454908ea",
   "metadata": {},
   "source": [
    "#### Resolution Plot"
   ]
  },
  {
   "cell_type": "code",
   "execution_count": 30,
   "id": "8ebd5ab7-0673-4fe7-9128-574717e80816",
   "metadata": {},
   "outputs": [
    {
     "data": {
      "text/plain": [
       "<Figure size 799.992x599.976 with 0 Axes>"
      ]
     },
     "metadata": {},
     "output_type": "display_data"
    },
    {
     "data": {
      "image/png": "[encoded data removed]",
      "text/plain": [
       "<Figure size 799.992x599.976 with 1 Axes>"
      ]
     },
     "metadata": {},
     "output_type": "display_data"
    }
   ],
   "source": [
    "resp_plot = ru.resolutionPlot(x=np.exp(Y_test), y=10*base_preds/np.exp(Y_test),\n",
    "                    figfile='Regression_Plots/November21/ResolutionPlotNoEM_3000batch_LR1e-3_2021-11-29.png',\n",
    "                    statistic='std', xlabel='Particle Truth Energy', ylabel='Energy IQR over Median',\n",
    "                    atlas_x=.05, atlas_y=.96, simulation=True,\n",
    "                    textlist=[])"
   ]
  },
  {
   "cell_type": "code",
   "execution_count": null,
   "id": "a25387c4-0b6e-41a6-a9c3-3e3e1a6f72d8",
   "metadata": {},
   "outputs": [],
   "source": []
  }
 ],
 "metadata": {
  "kernelspec": {
   "display_name": "Python 3 (ipykernel)",
   "language": "python",
   "name": "python3"
  },
  "language_info": {
   "codemirror_mode": {
    "name": "ipython",
    "version": 3
   },
   "file_extension": ".py",
   "mimetype": "text/x-python",
   "name": "python",
   "nbconvert_exporter": "python",
   "pygments_lexer": "ipython3",
   "version": "3.8.10"
  }
 },
 "nbformat": 4,
 "nbformat_minor": 5
}
