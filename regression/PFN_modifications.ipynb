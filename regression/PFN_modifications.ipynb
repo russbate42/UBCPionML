{
 "cells": [
  {
   "cell_type": "markdown",
   "id": "1b5a4293-5d78-49bd-a979-cc4717d3ebe5",
   "metadata": {},
   "source": [
    "# Changes to Particle Flow Network for Deep Sets"
   ]
  },
  {
   "cell_type": "markdown",
   "id": "5c8f0fb4-644a-4a42-8fc1-aefbca50d003",
   "metadata": {},
   "source": [
    "## Goals\n",
    "(In Order)\n",
    " - [ ] Experiment with adding TNet to Inputs\n",
    " - [ ] Add dropout layers in latent space network\n",
    " - [ ] Add Attention Layers\n",
    " - [ ] Build Model which handles Tracks Separately"
   ]
  },
  {
   "cell_type": "code",
   "execution_count": 3,
   "id": "bc8cc706-cb13-44bb-bf6e-16d7f1f4cc34",
   "metadata": {},
   "outputs": [],
   "source": [
    "import numpy as np\n",
    "import matplotlib.pyplot as plt\n",
    "from matplotlib import cm\n",
    "from matplotlib.colors import Normalize\n",
    "from matplotlib.colors import LogNorm\n",
    "import time as t\n",
    "from time import perf_counter as cput\n",
    "import scipy.constants as spc\n",
    "import matplotlib.ticker as ticker\n",
    "\n",
    "import sys\n",
    "sys.path.append('/home/russbate/MLPionCollaboration/LCStudies/')\n",
    "from util import resolution_util as ru\n",
    "from util import plot_util as pu\n",
    "from util import deep_set_util as dsu"
   ]
  },
  {
   "cell_type": "markdown",
   "id": "9dda5a4a-547b-4fd8-a365-a0f89c90d5b7",
   "metadata": {},
   "source": [
    "## Declare GPUs and Import TensorFlow"
   ]
  },
  {
   "cell_type": "code",
   "execution_count": 2,
   "id": "ef6d8ed5-7aa5-47d6-9c48-b7c4636886b0",
   "metadata": {},
   "outputs": [
    {
     "name": "stdout",
     "output_type": "stream",
     "text": [
      "2.6.0\n"
     ]
    }
   ],
   "source": [
    "import os\n",
    "os.environ['CUDA_VISIBLE_DEVICES'] = \"3\"\n",
    "os.environ['TF_FORCE_GPU_ALLOW_GROWTH'] = 'true'\n",
    "# os.environ['TF_GPU_ALLOCATOR']='cuda_malloc_async'\n",
    "\n",
    "import tensorflow as tf\n",
    "from tensorflow import keras\n",
    "from tensorflow.keras import layers\n",
    "\n",
    "## IMPORTANT ## ====== ## DISABLE EAGER EXECUTION WITH TensorFlow!! ##\n",
    "from tensorflow.python.framework.ops import disable_eager_execution\n",
    "disable_eager_execution()\n",
    "\n",
    "print(tf.__version__)"
   ]
  },
  {
   "cell_type": "markdown",
   "id": "1f20253f-5723-411c-8591-87d3c911bba9",
   "metadata": {},
   "source": [
    "## Load Data\n",
    "### Data Including Tracks\n",
    "### X = [Energy, Eta, Phi, rPerp, Track Flag, Layer]\n",
    "### Y = [truthPartE, truthTrackPt, cluster_ENG_CALIB_TOT]"
   ]
  },
  {
   "cell_type": "code",
   "execution_count": null,
   "id": "70923728-5814-417a-bd35-c2b4d2d061ae",
   "metadata": {},
   "outputs": [],
   "source": [
    "t0 = t.time()\n",
    "Xraw = np.load('/data/rbate/X_STMC_502_files.npy', mmap_mode='r')[:175000,:,:]\n",
    "Yraw = np.load('/data/rbate/Y_STMC_502_files.npy', mmap_mode='r')[:175000,:]\n",
    "\n",
    "X = np.lib.format.open_memmap('/data/rbate/X_STMC_notebook.npy',\n",
    "                             mode='w+', dtype=np.float64, shape=(Xraw.shape[0], Xraw.shape[1], 5))\n",
    "np.copyto(dst=X, src=Xraw[:,:,:5], casting='same_kind', where=True)\n",
    "\n",
    "Y = np.lib.format.open_memmap('/data/rbate/Y_STMC_notebook.npy',\n",
    "                             mode='w+', dtype=np.float64, shape=(Yraw.shape[0]))\n",
    "np.copyto(dst=Y, src=Yraw[:,0], casting='same_kind', where=True)\n",
    "\n",
    "t1 = t.time()\n",
    "print('Time to load memory mapped data: '+str(t1-t0)+' (s)')"
   ]
  },
  {
   "cell_type": "code",
   "execution_count": null,
   "id": "db7f77af-9fb7-411a-be99-cac880addb8d",
   "metadata": {},
   "outputs": [],
   "source": []
  },
  {
   "cell_type": "code",
   "execution_count": null,
   "id": "07f2aa4b-8146-4838-a162-43681247d870",
   "metadata": {},
   "outputs": [],
   "source": []
  },
  {
   "cell_type": "code",
   "execution_count": null,
   "id": "d2d1023f-9354-46df-8c3a-1dfd62ce485c",
   "metadata": {},
   "outputs": [],
   "source": []
  },
  {
   "cell_type": "code",
   "execution_count": null,
   "id": "4f84efdc-b46c-456f-965e-0a1515eabba5",
   "metadata": {},
   "outputs": [],
   "source": []
  },
  {
   "cell_type": "markdown",
   "id": "52a2db35-3560-4111-a220-dc583f7fac33",
   "metadata": {},
   "source": [
    "# Models"
   ]
  },
  {
   "cell_type": "code",
   "execution_count": null,
   "id": "9e9c1ec2-ba0c-40c5-bd4b-cb0067bcd4e9",
   "metadata": {},
   "outputs": [],
   "source": [
    "def ParticleFlow_base(num_points, num_features, name=\"Russell Flow Network\"):\n",
    "    \n",
    "    inputs = keras.Input(shape=(num_points, num_features), name='input')\n",
    "\n",
    "    dense_0 = layers.Dense(100)\n",
    "    t_dist_0 = layers.TimeDistributed(dense_0, name='t_dist_0')(inputs)\n",
    "    activation_0 = layers.Activation('relu', name=\"activation_0\")(t_dist_0)\n",
    "    \n",
    "    dense_1 = layers.Dense(100)\n",
    "    t_dist_1 = layers.TimeDistributed(dense_1, name='t_dist_1')(activation_0)\n",
    "    activation_1 = layers.Activation('relu', name='activation_1')(t_dist_1)\n",
    "    \n",
    "    dense_2 = layers.Dense(128)\n",
    "    t_dist_2 = layers.TimeDistributed(dense_2, name='t_dist_2')(activation_1)\n",
    "    activation_2 = layers.Activation('relu', name='activation_2')(t_dist_2)\n",
    "    \n",
    "    masking_layer = layers.Masking(mask_value=0.0)\n",
    "    \n",
    "    lambda_layer = layers.Lambda(point_mask_fn, output_shape=(None, None),\n",
    "                                mask=None,\n",
    "                                name='mask')(inputs)\n",
    "\n",
    "    sum_layer = layers.Dot(axes=(1,1), name='sum')([lambda_layer, activation_2])\n",
    "    \n",
    "    dense_3 = layers.Dense(100, name='dense_0')(sum_layer)\n",
    "    activation_3 = layers.Activation('relu', name=\"activation_3\")(dense_3)\n",
    "    \n",
    "    dense_4 = layers.Dense(100, name='dense_1')(activation_3)\n",
    "    activation_4 = layers.Activation('relu', name=\"activation_4\")(dense_4)\n",
    "    \n",
    "    dense_5 = layers.Dense(100, name='dense_2')(activation_4)\n",
    "    activation_5 = layers.Activation('relu', name=\"activation_5\")(dense_5)\n",
    "    \n",
    "    dense_6 = layers.Dense(1, name='output')(activation_5)\n",
    "    activation_6 = layers.Activation('relu', name=\"activation_6\")(dense_6)\n",
    "    \n",
    "    return keras.Model(inputs=inputs, outputs=activation_6, name=name)"
   ]
  },
  {
   "cell_type": "code",
   "execution_count": null,
   "id": "dacaad91-7177-479d-ab28-0e9d5e5e1643",
   "metadata": {},
   "outputs": [],
   "source": [
    "muh_modle = ParticleFlow_base(num_points=100, num_features=4)\n",
    "muh_modle.summary()"
   ]
  }
 ],
 "metadata": {
  "kernelspec": {
   "display_name": "Python 3 (ipykernel)",
   "language": "python",
   "name": "python3"
  },
  "language_info": {
   "codemirror_mode": {
    "name": "ipython",
    "version": 3
   },
   "file_extension": ".py",
   "mimetype": "text/x-python",
   "name": "python",
   "nbconvert_exporter": "python",
   "pygments_lexer": "ipython3",
   "version": "3.8.10"
  }
 },
 "nbformat": 4,
 "nbformat_minor": 5
}
