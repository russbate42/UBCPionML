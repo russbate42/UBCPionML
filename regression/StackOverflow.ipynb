{
 "cells": [
  {
   "cell_type": "markdown",
   "id": "e6b9fbaf-1c65-4bc5-81b0-ab41b82e66a5",
   "metadata": {},
   "source": [
    "# Fitting keras functional API model with tf.data.DataSet"
   ]
  },
  {
   "cell_type": "markdown",
   "id": "850eb1dc-b662-4835-8320-c38a449cc2a8",
   "metadata": {},
   "source": [
    "### Imports"
   ]
  },
  {
   "cell_type": "code",
   "execution_count": 1,
   "id": "44e69897-1572-4cd5-91b2-664c9a6855df",
   "metadata": {},
   "outputs": [
    {
     "name": "stdout",
     "output_type": "stream",
     "text": [
      "numpy version: 1.21.4\n",
      "keras version: 2.6.0\n",
      "tensorflow version: 2.6.0\n"
     ]
    }
   ],
   "source": [
    "import numpy as np\n",
    "import tensorflow as tf\n",
    "from tensorflow import keras\n",
    "from keras import layers\n",
    "\n",
    "print('numpy version: {}'.format(np.__version__))\n",
    "print('keras version: {}'.format(keras.__version__))\n",
    "print('tensorflow version: {}'.format(tf.__version__))"
   ]
  },
  {
   "cell_type": "markdown",
   "id": "336873d9-d7cc-4534-8714-939abebcde9e",
   "metadata": {},
   "source": [
    "### GPU and Environment"
   ]
  },
  {
   "cell_type": "code",
   "execution_count": 2,
   "id": "12e01df7-57d3-472d-bb65-59cf758ccb05",
   "metadata": {},
   "outputs": [],
   "source": [
    "import os\n",
    "os.environ['CUDA_VISIBLE_DEVICES'] = \"1\"\n",
    "os.environ['TF_GPU_ALLOCATOR'] = 'cuda_malloc_async'"
   ]
  },
  {
   "cell_type": "markdown",
   "id": "85d4bbe6-9af8-427a-977d-67ad9472ac5d",
   "metadata": {},
   "source": [
    "### Psuedo Data"
   ]
  },
  {
   "cell_type": "code",
   "execution_count": 11,
   "id": "813eb018-ae9b-4910-b3e4-aa5a39d11029",
   "metadata": {},
   "outputs": [
    {
     "name": "stdout",
     "output_type": "stream",
     "text": [
      "1000\n"
     ]
    }
   ],
   "source": [
    "X = np.random.uniform(size=(1000, 75))\n",
    "Y = np.random.uniform(size=(1000, 1))\n",
    "\n",
    "data = tf.data.Dataset.from_tensor_slices((X, Y))\n",
    "print(data.cardinality().numpy())"
   ]
  },
  {
   "cell_type": "markdown",
   "id": "623d36b2-e022-41cb-b0dc-0ffb8b36b907",
   "metadata": {},
   "source": [
    "### Not Working"
   ]
  },
  {
   "cell_type": "code",
   "execution_count": 8,
   "id": "f4f3a89f-c17e-4ca6-97ab-a83eeb31b504",
   "metadata": {},
   "outputs": [
    {
     "data": {
      "text/plain": [
       "<BatchDataset shapes: ((100, 75), (100, 1)), types: (tf.float64, tf.float64)>"
      ]
     },
     "execution_count": 8,
     "metadata": {},
     "output_type": "execute_result"
    }
   ],
   "source": [
    "data.batch(batch_size=100, drop_remainder=True)"
   ]
  },
  {
   "cell_type": "markdown",
   "id": "c701f39c-77b0-428c-868c-abbd6ba54a28",
   "metadata": {},
   "source": [
    "## Solution"
   ]
  },
  {
   "cell_type": "code",
   "execution_count": 12,
   "id": "50c8efe8-8e99-44d8-b4b3-e0cbd9552ee2",
   "metadata": {},
   "outputs": [],
   "source": [
    "data = data.batch(batch_size=100, drop_remainder=True)"
   ]
  },
  {
   "cell_type": "markdown",
   "id": "b621d15e-0b52-41e3-b39c-b62d42f2f3df",
   "metadata": {},
   "source": [
    "### Make Model"
   ]
  },
  {
   "cell_type": "code",
   "execution_count": 15,
   "id": "8fea023b-74dd-4944-b2e2-054ed363a241",
   "metadata": {},
   "outputs": [
    {
     "name": "stdout",
     "output_type": "stream",
     "text": [
      "Model: \"test_model\"\n",
      "_________________________________________________________________\n",
      "Layer (type)                 Output Shape              Param #   \n",
      "=================================================================\n",
      "input_4 (InputLayer)         [(None, 75)]              0         \n",
      "_________________________________________________________________\n",
      "dense_3 (Dense)              (None, 1)                 76        \n",
      "_________________________________________________________________\n",
      "activation_3 (Activation)    (None, 1)                 0         \n",
      "=================================================================\n",
      "Total params: 76\n",
      "Trainable params: 76\n",
      "Non-trainable params: 0\n",
      "_________________________________________________________________\n"
     ]
    }
   ],
   "source": [
    "def API_Model(input_shape, name=\"test_model\"):\n",
    "    \n",
    "    inputs = layers.Input(shape=input_shape)\n",
    "    x = layers.Dense(1)(inputs)\n",
    "    outputs = layers.Activation('relu')(x)\n",
    "    \n",
    "    return keras.Model(inputs=inputs, outputs=outputs, name=name)\n",
    "\n",
    "api_model = API_Model(input_shape=(X.shape[1],))\n",
    "api_model.compile(loss='mse')\n",
    "api_model.summary()"
   ]
  },
  {
   "cell_type": "code",
   "execution_count": 16,
   "id": "60700192-d7bb-4c36-8c9d-f88f9efc6886",
   "metadata": {},
   "outputs": [
    {
     "name": "stdout",
     "output_type": "stream",
     "text": [
      "Epoch 1/10\n"
     ]
    },
    {
     "name": "stderr",
     "output_type": "stream",
     "text": [
      "2022-02-24 23:51:13.444247: I tensorflow/compiler/mlir/mlir_graph_optimization_pass.cc:185] None of the MLIR Optimization Passes are enabled (registered 2)\n"
     ]
    },
    {
     "name": "stdout",
     "output_type": "stream",
     "text": [
      "10/10 [==============================] - 7s 3ms/step - loss: 0.2481\n",
      "Epoch 2/10\n",
      "10/10 [==============================] - 0s 5ms/step - loss: 0.2179\n",
      "Epoch 3/10\n",
      "10/10 [==============================] - 0s 3ms/step - loss: 0.2145\n",
      "Epoch 4/10\n",
      "10/10 [==============================] - 0s 3ms/step - loss: 0.2113\n",
      "Epoch 5/10\n",
      "10/10 [==============================] - 0s 4ms/step - loss: 0.2077\n",
      "Epoch 6/10\n",
      "10/10 [==============================] - 0s 4ms/step - loss: 0.2040\n",
      "Epoch 7/10\n",
      "10/10 [==============================] - 0s 4ms/step - loss: 0.2002\n",
      "Epoch 8/10\n",
      "10/10 [==============================] - 0s 3ms/step - loss: 0.1965\n",
      "Epoch 9/10\n",
      "10/10 [==============================] - 0s 4ms/step - loss: 0.1929\n",
      "Epoch 10/10\n",
      "10/10 [==============================] - 0s 4ms/step - loss: 0.1892\n"
     ]
    },
    {
     "data": {
      "text/plain": [
       "<keras.callbacks.History at 0x7f429879d7f0>"
      ]
     },
     "execution_count": 16,
     "metadata": {},
     "output_type": "execute_result"
    }
   ],
   "source": [
    "api_model.fit(data, epochs=10)"
   ]
  },
  {
   "cell_type": "markdown",
   "id": "d30b1eb0-71ce-4c88-b245-5e61304bed14",
   "metadata": {},
   "source": [
    "# Protobuf Error and Placeholders"
   ]
  },
  {
   "cell_type": "code",
   "execution_count": null,
   "id": "1a02f516-4ac0-4011-b0f3-f90f80808676",
   "metadata": {},
   "outputs": [],
   "source": []
  },
  {
   "cell_type": "markdown",
   "id": "2e30a407-2c18-46e1-8ceb-542beaac90c4",
   "metadata": {},
   "source": [
    "# Custom Layers and Eager Execution"
   ]
  },
  {
   "cell_type": "code",
   "execution_count": null,
   "id": "8b23fbf0-ca74-401b-ad01-11080fe47e67",
   "metadata": {},
   "outputs": [],
   "source": []
  }
 ],
 "metadata": {
  "kernelspec": {
   "display_name": "Python 3 (ipykernel)",
   "language": "python",
   "name": "python3"
  },
  "language_info": {
   "codemirror_mode": {
    "name": "ipython",
    "version": 3
   },
   "file_extension": ".py",
   "mimetype": "text/x-python",
   "name": "python",
   "nbconvert_exporter": "python",
   "pygments_lexer": "ipython3",
   "version": "3.8.10"
  }
 },
 "nbformat": 4,
 "nbformat_minor": 5
}
