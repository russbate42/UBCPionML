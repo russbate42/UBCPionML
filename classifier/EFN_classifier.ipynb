{
 "cells": [
  {
   "cell_type": "markdown",
   "id": "1ae6d5d5-6063-4d54-b722-a12c03d8f433",
   "metadata": {},
   "source": [
    "# Can Dilia finally run a EFN?"
   ]
  },
  {
   "cell_type": "code",
   "execution_count": 1,
   "id": "935a0065-0fe4-4410-baea-617df8e80bd4",
   "metadata": {},
   "outputs": [],
   "source": [
    "import uproot as ur\n",
    "import awkward as ak\n",
    "import numpy as np"
   ]
  },
  {
   "cell_type": "markdown",
   "id": "f688a515-46df-4a64-aa4a-70c87eb3e749",
   "metadata": {},
   "source": [
    "## Read dataset trees for pi0 and pipm"
   ]
  },
  {
   "cell_type": "code",
   "execution_count": 2,
   "id": "2b404f51-5d48-4119-b85e-fe75196b5a5b",
   "metadata": {
    "scrolled": true,
    "tags": []
   },
   "outputs": [
    {
     "name": "stdout",
     "output_type": "stream",
     "text": [
      ".\t\t\t\t      rho_medium.root\n",
      "..\t\t\t\t      w6_pfn1\n",
      "X.npy\t\t\t\t      w6_pfn4\n",
      "XY_clust_tracks_med.npz\t\t      w6_pfn4.hdf5\n",
      "XY_clustersOnly_med.npz\t\t      w6_pfn_bigtest.hdf5\n",
      "XY_tracksOnly_Pt_distributed_med.npz  w6_pfn_noglob.hdf5\n",
      "XY_tracks_multipleClusters_med.npz    w7_pfn_global.hdf5\n",
      "XY_tracks_small.npz\t\t      w7_pfn_global_etaE.hdf5\n",
      "X_4.npy\t\t\t\t      w7_pfn_global_etalogE.hdf5\n",
      "X_added_standarscaled.npy\t      w7_pfn_global_etalogE_bigF.hdf5\n",
      "cell_geo.root\t\t\t      w7_pfn_global_etalogE_bigF300.hdf5\n",
      "delta\t\t\t\t      w7_pfn_global_etalogE_bigF400.hdf5\n",
      "delta_medium.root\t\t      w7_pfn_global_etalogpt.hdf5\n",
      "nn_closestcluster.npz\t\t      w7_pfn_global_etapt.hdf5\n",
      "nn_closestcluster_del0pi-.npz\t      w8_modelmetrics2plot.npz\n",
      "nn_closestcluster_del0pi0.npz\t      w8_pfn_globeta_1.hdf5\n",
      "nn_closestcluster_pi0.npz\t      w8_pfn_globeta_2.hdf5\n",
      "nn_delta2224_DR.npz\t\t      w8_pfn_globeta_3.hdf5\n",
      "pfn_globphi_bigp_w8.hdf5\t      w8_pfn_globeta_4.hdf5\n",
      "pfn_globphi_w8.hdf5\t\t      w8_pfn_globeta_5.hdf5\n",
      "pfnmodel_b0715.h5\t\t      w8_pfn_globeta_s1.hdf5\n",
      "pfnmodel_b1425.h5\t\t      w8_pfn_globeta_s2.hdf5\n",
      "pfnmodel_b2531.h5\t\t      w8_pfn_globeta_s3.hdf5\n",
      "pfnmodel_g15.h5\t\t\t      w8_pfn_globeta_s4.hdf5\n",
      "pfnmodel_gall.h5\t\t      w8_pfn_globeta_s5.hdf5\n",
      "pfnmodel_l05.h5\t\t\t      w8_pfn_noID.hdf5\n",
      "pfnmodel_l07.h5\t\t\t      w8_pfn_noglob_1.hdf5\n",
      "pfnmodel_l1.h5\t\t\t      w8_pfn_noglob_2.hdf5\n",
      "pfnmodel_l15.h5\t\t\t      w8_pfn_noglob_3.hdf5\n",
      "pi0\t\t\t\t      w8_pfn_noglob_4.hdf5\n",
      "pi0_medium.root\t\t\t      w8_pfn_noglob_5.hdf5\n",
      "pi0_small.root\t\t\t      w8_pfn_noglob_s1.hdf5\n",
      "pipm\t\t\t\t      w8_pfn_noglob_s2.hdf5\n",
      "pipm_medium.root\t\t      w8_pfn_noglob_s3.hdf5\n",
      "pipm_small.root\t\t\t      w8_pfn_noglob_s4.hdf5\n",
      "rho\t\t\t\t      w8_pfn_noglob_s5.hdf5\n",
      "rho_medium.npz\t\t\t      w9_pfn_noid_nog.hdf5\n"
     ]
    }
   ],
   "source": [
    "data_path = '/fast_scratch/atlas_images/v01-45/'\n",
    "!ls -a /fast_scratch/atlas_images/v01-45/\n",
    "#X_4.npy is a 180k long array of clusters; first 90k are Pi+ and last 90k are pi0"
   ]
  },
  {
   "cell_type": "code",
   "execution_count": 3,
   "id": "9ca7b51a-2905-4e13-a001-ca020071608b",
   "metadata": {},
   "outputs": [],
   "source": [
    "path_pipm = data_path + 'pipm_medium.root'\n",
    "path_pi0  = data_path + 'pi0_medium.root'"
   ]
  },
  {
   "cell_type": "code",
   "execution_count": 4,
   "id": "08e61961-b4fe-4f5d-a8c6-c247de78745f",
   "metadata": {},
   "outputs": [],
   "source": [
    "tree_pipm = ur.open(path_pipm)['EventTree']\n",
    "tree_pi0  = ur.open(path_pi0)['EventTree']"
   ]
  },
  {
   "cell_type": "code",
   "execution_count": 5,
   "id": "9daa69df-2384-4ada-9be7-48fb774bd295",
   "metadata": {},
   "outputs": [],
   "source": [
    "geoDict_tree_pipm = ur.open(path_pipm)['CellGeo']\n",
    "geoDict_tree_pi0  = ur.open(path_pi0)[\"CellGeo\"]"
   ]
  },
  {
   "cell_type": "markdown",
   "id": "c1cbbba3-a07d-40a4-9e27-0383f81b23c8",
   "metadata": {},
   "source": [
    "## Import useful functions"
   ]
  },
  {
   "cell_type": "code",
   "execution_count": 9,
   "id": "f43902fe-f11e-4d6f-9cc5-96162bc5c7be",
   "metadata": {},
   "outputs": [],
   "source": [
    "# my worspace and directories\n",
    "path_prefix = '/home/russbate/MLPionCollaboration/LCStudies/'\n",
    "plotpath = path_prefix+'classifier/Plots_EFN/'\n",
    "modelpath = path_prefix+'classifier/Models_EFN/'"
   ]
  },
  {
   "cell_type": "code",
   "execution_count": 10,
   "id": "5a5f02f5-7c57-4c79-b7af-bec506e9ce35",
   "metadata": {},
   "outputs": [],
   "source": [
    "# import graph utilities\n",
    "import sys\n",
    "sys.path.append(path_prefix)\n",
    "from util import graph_util as gu\n",
    "from util import plot_util as pu"
   ]
  },
  {
   "cell_type": "markdown",
   "id": "d2e1d3b9-ca6a-414a-80b6-a79e84d3ffa4",
   "metadata": {},
   "source": [
    "## Process the inputs "
   ]
  },
  {
   "cell_type": "markdown",
   "id": "e0c757f7-3a6e-4b32-b5a5-a8527ed35dba",
   "metadata": {},
   "source": [
    "* loadArrayBranchFlat(branchName, tree, padLength): Gives a flat list of clusters padded with equal number of cells\n",
    "\n",
    "ak.flatten: flatten the event index, to generate a list of clusters\n",
    "\n",
    "pad_none: pad the cell axis to the specified length of padLength"
   ]
  },
  {
   "cell_type": "code",
   "execution_count": 11,
   "id": "c30d8515-eeb5-465b-8e5b-e19713cfd162",
   "metadata": {},
   "outputs": [],
   "source": [
    "#pipm\n",
    "cell_id_pipm = gu.loadArrayBranchFlat('cluster_cell_ID', tree_pipm, 2000)\n",
    "cell_e_pipm = gu.loadArrayBranchFlat('cluster_cell_E', tree_pipm, 2000)"
   ]
  },
  {
   "cell_type": "code",
   "execution_count": 12,
   "id": "3da2a89c-2113-4df5-a55e-0af49c791f98",
   "metadata": {},
   "outputs": [],
   "source": [
    "#pi0\n",
    "cell_id_pi0 = gu.loadArrayBranchFlat('cluster_cell_ID', tree_pi0, 2000)\n",
    "cell_e_pi0 = gu.loadArrayBranchFlat('cluster_cell_E', tree_pi0, 2000)"
   ]
  },
  {
   "cell_type": "code",
   "execution_count": 13,
   "id": "9b8b67de-de41-48f9-8584-b83b4c2a9d5a",
   "metadata": {},
   "outputs": [
    {
     "name": "stdout",
     "output_type": "stream",
     "text": [
      "Number of pipm clusters: 672281\n",
      "Number of pi0 clusters: 421481\n",
      "Number of padded cells has to be equal to padLength: 2000\n"
     ]
    }
   ],
   "source": [
    "print(\"Number of pipm clusters:\", len(cell_e_pipm)) \n",
    "print(\"Number of pi0 clusters:\", len(cell_e_pi0)) \n",
    "print(\"Number of padded cells has to be equal to padLength:\", len(cell_e_pipm[0])) "
   ]
  },
  {
   "cell_type": "markdown",
   "id": "d9b55ab5-b545-4e3a-958b-68689ffad4b8",
   "metadata": {},
   "source": [
    "* loadGraphDictionary(tree): converting the geoTree into a dictionary for each branch that has each one cell_geo_ID as key \n",
    "\n",
    "? I dont understand the \"mask\" part :S"
   ]
  },
  {
   "cell_type": "code",
   "execution_count": 14,
   "id": "c3b768bf-8448-4e8a-b133-681e9876d173",
   "metadata": {},
   "outputs": [],
   "source": [
    "#load dictionaries \n",
    "geoDict_pipm = gu.loadGraphDictionary(geoDict_tree_pipm)\n",
    "geoDict_pi0  = gu.loadGraphDictionary(geoDict_tree_pi0)"
   ]
  },
  {
   "cell_type": "code",
   "execution_count": 15,
   "id": "f928fda8-d447-4791-afa7-a2bf8818b82d",
   "metadata": {},
   "outputs": [
    {
     "name": "stdout",
     "output_type": "stream",
     "text": [
      "Sampling ID of the cell with ID 740294656: 6\n"
     ]
    }
   ],
   "source": [
    "print(\"Sampling ID of the cell with ID 740294656:\",geoDict_pipm['cell_geo_sampling'][740294656])"
   ]
  },
  {
   "cell_type": "markdown",
   "id": "35fa8126-5316-4f87-96ba-7bcc422ad3af",
   "metadata": {},
   "source": [
    "* convertIDToGeo(cellID, geoString, globalDict)\n",
    "\n",
    "Connects the cell ID from the event tree (cellID) that has all the cells in order with the cell ID on the geo tree (cluster_cell_ID) for a cell variable using the global dictionary\n",
    "\n",
    "\n",
    "[Translate every element in numpy array according to key](https://stackoverflow.com/questions/16992713/translate-every-element-in-numpy-array-according-to-key)\n",
    "\n",
    "np.vectorize(my_dict.get)(array)"
   ]
  },
  {
   "cell_type": "code",
   "execution_count": 16,
   "id": "e55fd690-0f32-4169-90d5-50d10193b305",
   "metadata": {},
   "outputs": [],
   "source": [
    "cell_phi_pipm = gu.convertIDToGeo(cell_id_pipm, 'cell_geo_phi', geoDict_pipm)\n",
    "cell_eta_pipm = gu.convertIDToGeo(cell_id_pipm, 'cell_geo_eta', geoDict_pipm)\n",
    "\n",
    "cell_phi_pi0 = gu.convertIDToGeo(cell_id_pi0, 'cell_geo_phi', geoDict_pi0)\n",
    "cell_eta_pi0 = gu.convertIDToGeo(cell_id_pi0, 'cell_geo_eta', geoDict_pi0)"
   ]
  },
  {
   "cell_type": "markdown",
   "id": "a327b687-bfe3-4890-a67c-4b2e297f0a28",
   "metadata": {},
   "source": [
    "* loadVectorBranchFlat(branchName, tree): \n",
    "\n",
    " converts to numpy a flatten array for the desired branch (no event index). But in this case is not padded"
   ]
  },
  {
   "cell_type": "code",
   "execution_count": 17,
   "id": "0030a009-4217-47f0-9b66-a1ea1c55a035",
   "metadata": {},
   "outputs": [],
   "source": [
    "clus_eta_pipm = gu.loadVectorBranchFlat('cluster_Eta', tree_pipm)\n",
    "clus_E_pipm = gu.loadVectorBranchFlat('cluster_E', tree_pipm)\n",
    "clus_phi_pipm = gu.loadVectorBranchFlat('cluster_Phi', tree_pipm)\n",
    "\n",
    "clus_eta_pi0 = gu.loadVectorBranchFlat('cluster_Eta', tree_pi0)\n",
    "clus_E_pi0 = gu.loadVectorBranchFlat('cluster_E', tree_pi0)\n",
    "clus_phi_pi0  = gu.loadVectorBranchFlat('cluster_Phi', tree_pi0)"
   ]
  },
  {
   "cell_type": "markdown",
   "id": "6ba842f0-94a6-4a50-a395-72fce4b0e605",
   "metadata": {},
   "source": [
    "* Filter Events"
   ]
  },
  {
   "cell_type": "code",
   "execution_count": 18,
   "id": "a5a7cc8b-d53e-4a6a-8fbc-783dadad538f",
   "metadata": {},
   "outputs": [],
   "source": [
    "#Central Clusters\n",
    "eta_mask_pipm = abs(clus_eta_pipm) < 0.7\n",
    "eta_mask_pi0  = abs(clus_eta_pi0) < 0.7\n",
    "\n",
    "#High energy clusters\n",
    "energy_mask_pipm = clus_E_pipm > 0.5\n",
    "energy_mask_pi0 = clus_E_pi0 > 0.5"
   ]
  },
  {
   "cell_type": "code",
   "execution_count": 19,
   "id": "df70d971-f655-4bba-83cb-49bf7d55f940",
   "metadata": {},
   "outputs": [],
   "source": [
    "selection_pipm = eta_mask_pipm & energy_mask_pipm\n",
    "selection_pi0 = eta_mask_pi0 & energy_mask_pi0"
   ]
  },
  {
   "cell_type": "markdown",
   "id": "3bc8f730-7f08-4435-9e7b-c3605d4d4cca",
   "metadata": {},
   "source": [
    "* Normalise eta, phi  ???"
   ]
  },
  {
   "cell_type": "code",
   "execution_count": 20,
   "id": "6b7edaaf-a4af-48e4-a811-e71dff423465",
   "metadata": {},
   "outputs": [],
   "source": [
    "cell_eta_norm_pipm = np.nan_to_num(cell_eta_pipm - clus_eta_pipm[:, None])\n",
    "cell_eta_norm_pi0 = np.nan_to_num(cell_eta_pi0 - clus_eta_pi0[:, None])\n",
    "cell_phi_norm_pipm = np.nan_to_num(cell_phi_pipm - clus_phi_pipm[:, None])\n",
    "cell_phi_norm_pi0 = np.nan_to_num(cell_phi_pi0 - clus_phi_pi0[:, None])"
   ]
  },
  {
   "cell_type": "markdown",
   "id": "0ae2caa1-0873-47f0-b8fe-c7a3422b42a3",
   "metadata": {},
   "source": [
    "* Log(Energy)"
   ]
  },
  {
   "cell_type": "code",
   "execution_count": 21,
   "id": "c0cc273d-2d0a-42ca-95a4-d493fbb0fcaf",
   "metadata": {},
   "outputs": [
    {
     "name": "stderr",
     "output_type": "stream",
     "text": [
      "/tmp/ipykernel_25522/2366602303.py:1: RuntimeWarning: divide by zero encountered in log\n",
      "  cell_e_norm_pipm = np.nan_to_num(np.log(cell_e_pipm), posinf = 0, neginf=0)\n",
      "/tmp/ipykernel_25522/2366602303.py:2: RuntimeWarning: divide by zero encountered in log\n",
      "  cell_e_norm_pi0 = np.nan_to_num(np.log(cell_e_pi0), posinf = 0, neginf=0)\n"
     ]
    }
   ],
   "source": [
    "cell_e_norm_pipm = np.nan_to_num(np.log(cell_e_pipm), posinf = 0, neginf=0)\n",
    "cell_e_norm_pi0 = np.nan_to_num(np.log(cell_e_pi0), posinf = 0, neginf=0)"
   ]
  },
  {
   "cell_type": "markdown",
   "id": "9ea33073-c171-4640-83b5-ec3eb27d7b45",
   "metadata": {},
   "source": [
    "* Normalise sampling ID ?"
   ]
  },
  {
   "cell_type": "code",
   "execution_count": 22,
   "id": "71860f0d-df18-4464-b717-59b78156e07d",
   "metadata": {},
   "outputs": [
    {
     "ename": "MemoryError",
     "evalue": "Unable to allocate 10.0 GiB for an array with shape (672281, 2000) and data type object",
     "output_type": "error",
     "traceback": [
      "\u001b[0;31m---------------------------------------------------------------------------\u001b[0m",
      "\u001b[0;31mMemoryError\u001b[0m                               Traceback (most recent call last)",
      "\u001b[0;32m/tmp/ipykernel_25522/3340581580.py\u001b[0m in \u001b[0;36m<module>\u001b[0;34m\u001b[0m\n\u001b[0;32m----> 1\u001b[0;31m \u001b[0mcell_samp_pipm\u001b[0m \u001b[0;34m=\u001b[0m \u001b[0mgu\u001b[0m\u001b[0;34m.\u001b[0m\u001b[0mconvertIDToGeo\u001b[0m\u001b[0;34m(\u001b[0m\u001b[0mcell_id_pipm\u001b[0m\u001b[0;34m,\u001b[0m \u001b[0;34m'cell_geo_sampling'\u001b[0m\u001b[0;34m,\u001b[0m \u001b[0mgeoDict_pipm\u001b[0m\u001b[0;34m)\u001b[0m\u001b[0;34m\u001b[0m\u001b[0;34m\u001b[0m\u001b[0m\n\u001b[0m\u001b[1;32m      2\u001b[0m \u001b[0mcell_samp_pi0\u001b[0m \u001b[0;34m=\u001b[0m \u001b[0mgu\u001b[0m\u001b[0;34m.\u001b[0m\u001b[0mconvertIDToGeo\u001b[0m\u001b[0;34m(\u001b[0m\u001b[0mcell_id_pi0\u001b[0m\u001b[0;34m,\u001b[0m \u001b[0;34m'cell_geo_sampling'\u001b[0m\u001b[0;34m,\u001b[0m \u001b[0mgeoDict_pi0\u001b[0m\u001b[0;34m)\u001b[0m\u001b[0;34m\u001b[0m\u001b[0;34m\u001b[0m\u001b[0m\n",
      "\u001b[0;32m~/MLPionCollaboration/LCStudies/util/graph_util.py\u001b[0m in \u001b[0;36mconvertIDToGeo\u001b[0;34m(cellID, geoString, globalDict)\u001b[0m\n\u001b[1;32m     66\u001b[0m \u001b[0;32mdef\u001b[0m \u001b[0mconvertIDToGeo\u001b[0m\u001b[0;34m(\u001b[0m\u001b[0mcellID\u001b[0m\u001b[0;34m,\u001b[0m \u001b[0mgeoString\u001b[0m\u001b[0;34m,\u001b[0m \u001b[0mglobalDict\u001b[0m\u001b[0;34m)\u001b[0m\u001b[0;34m:\u001b[0m\u001b[0;34m\u001b[0m\u001b[0;34m\u001b[0m\u001b[0m\n\u001b[1;32m     67\u001b[0m     \u001b[0;31m# MAGIC https://stackoverflow.com/questions/16992713/translate-every-element-in-numpy-array-according-to-key\u001b[0m\u001b[0;34m\u001b[0m\u001b[0;34m\u001b[0m\u001b[0;34m\u001b[0m\u001b[0m\n\u001b[0;32m---> 68\u001b[0;31m     \u001b[0;32mreturn\u001b[0m \u001b[0mnp\u001b[0m\u001b[0;34m.\u001b[0m\u001b[0mvectorize\u001b[0m\u001b[0;34m(\u001b[0m\u001b[0mglobalDict\u001b[0m\u001b[0;34m[\u001b[0m\u001b[0mgeoString\u001b[0m\u001b[0;34m]\u001b[0m\u001b[0;34m.\u001b[0m\u001b[0mget\u001b[0m\u001b[0;34m)\u001b[0m\u001b[0;34m(\u001b[0m\u001b[0mnp\u001b[0m\u001b[0;34m.\u001b[0m\u001b[0mnan_to_num\u001b[0m\u001b[0;34m(\u001b[0m\u001b[0mcellID\u001b[0m\u001b[0;34m)\u001b[0m\u001b[0;34m)\u001b[0m\u001b[0;34m\u001b[0m\u001b[0;34m\u001b[0m\u001b[0m\n\u001b[0m",
      "\u001b[0;32m/usr/local/lib/python3.8/dist-packages/numpy/lib/function_base.py\u001b[0m in \u001b[0;36m__call__\u001b[0;34m(self, *args, **kwargs)\u001b[0m\n\u001b[1;32m   2161\u001b[0m             \u001b[0mvargs\u001b[0m\u001b[0;34m.\u001b[0m\u001b[0mextend\u001b[0m\u001b[0;34m(\u001b[0m\u001b[0;34m[\u001b[0m\u001b[0mkwargs\u001b[0m\u001b[0;34m[\u001b[0m\u001b[0m_n\u001b[0m\u001b[0;34m]\u001b[0m \u001b[0;32mfor\u001b[0m \u001b[0m_n\u001b[0m \u001b[0;32min\u001b[0m \u001b[0mnames\u001b[0m\u001b[0;34m]\u001b[0m\u001b[0;34m)\u001b[0m\u001b[0;34m\u001b[0m\u001b[0;34m\u001b[0m\u001b[0m\n\u001b[1;32m   2162\u001b[0m \u001b[0;34m\u001b[0m\u001b[0m\n\u001b[0;32m-> 2163\u001b[0;31m         \u001b[0;32mreturn\u001b[0m \u001b[0mself\u001b[0m\u001b[0;34m.\u001b[0m\u001b[0m_vectorize_call\u001b[0m\u001b[0;34m(\u001b[0m\u001b[0mfunc\u001b[0m\u001b[0;34m=\u001b[0m\u001b[0mfunc\u001b[0m\u001b[0;34m,\u001b[0m \u001b[0margs\u001b[0m\u001b[0;34m=\u001b[0m\u001b[0mvargs\u001b[0m\u001b[0;34m)\u001b[0m\u001b[0;34m\u001b[0m\u001b[0;34m\u001b[0m\u001b[0m\n\u001b[0m\u001b[1;32m   2164\u001b[0m \u001b[0;34m\u001b[0m\u001b[0m\n\u001b[1;32m   2165\u001b[0m     \u001b[0;32mdef\u001b[0m \u001b[0m_get_ufunc_and_otypes\u001b[0m\u001b[0;34m(\u001b[0m\u001b[0mself\u001b[0m\u001b[0;34m,\u001b[0m \u001b[0mfunc\u001b[0m\u001b[0;34m,\u001b[0m \u001b[0margs\u001b[0m\u001b[0;34m)\u001b[0m\u001b[0;34m:\u001b[0m\u001b[0;34m\u001b[0m\u001b[0;34m\u001b[0m\u001b[0m\n",
      "\u001b[0;32m/usr/local/lib/python3.8/dist-packages/numpy/lib/function_base.py\u001b[0m in \u001b[0;36m_vectorize_call\u001b[0;34m(self, func, args)\u001b[0m\n\u001b[1;32m   2244\u001b[0m             \u001b[0minputs\u001b[0m \u001b[0;34m=\u001b[0m \u001b[0;34m[\u001b[0m\u001b[0masanyarray\u001b[0m\u001b[0;34m(\u001b[0m\u001b[0ma\u001b[0m\u001b[0;34m,\u001b[0m \u001b[0mdtype\u001b[0m\u001b[0;34m=\u001b[0m\u001b[0mobject\u001b[0m\u001b[0;34m)\u001b[0m \u001b[0;32mfor\u001b[0m \u001b[0ma\u001b[0m \u001b[0;32min\u001b[0m \u001b[0margs\u001b[0m\u001b[0;34m]\u001b[0m\u001b[0;34m\u001b[0m\u001b[0;34m\u001b[0m\u001b[0m\n\u001b[1;32m   2245\u001b[0m \u001b[0;34m\u001b[0m\u001b[0m\n\u001b[0;32m-> 2246\u001b[0;31m             \u001b[0moutputs\u001b[0m \u001b[0;34m=\u001b[0m \u001b[0mufunc\u001b[0m\u001b[0;34m(\u001b[0m\u001b[0;34m*\u001b[0m\u001b[0minputs\u001b[0m\u001b[0;34m)\u001b[0m\u001b[0;34m\u001b[0m\u001b[0;34m\u001b[0m\u001b[0m\n\u001b[0m\u001b[1;32m   2247\u001b[0m \u001b[0;34m\u001b[0m\u001b[0m\n\u001b[1;32m   2248\u001b[0m             \u001b[0;32mif\u001b[0m \u001b[0mufunc\u001b[0m\u001b[0;34m.\u001b[0m\u001b[0mnout\u001b[0m \u001b[0;34m==\u001b[0m \u001b[0;36m1\u001b[0m\u001b[0;34m:\u001b[0m\u001b[0;34m\u001b[0m\u001b[0;34m\u001b[0m\u001b[0m\n",
      "\u001b[0;31mMemoryError\u001b[0m: Unable to allocate 10.0 GiB for an array with shape (672281, 2000) and data type object"
     ]
    }
   ],
   "source": [
    "cell_samp_pipm = gu.convertIDToGeo(cell_id_pipm, 'cell_geo_sampling', geoDict_pipm)\n",
    "cell_samp_pi0 = gu.convertIDToGeo(cell_id_pi0, 'cell_geo_sampling', geoDict_pi0)"
   ]
  },
  {
   "cell_type": "code",
   "execution_count": null,
   "id": "42712895-b8bc-404b-8d60-6490cd739bba",
   "metadata": {},
   "outputs": [],
   "source": [
    "#normalize to a lower value fairly arbitrarily\n",
    "cell_samp_norm_pipm = cell_samp_pipm * 0.1\n",
    "cell_samp_norm_pi0 = cell_samp_pi0 * 0.1"
   ]
  },
  {
   "cell_type": "markdown",
   "id": "94fe7931-0a48-4913-8f89-a82056a2984a",
   "metadata": {},
   "source": [
    "## Energy Flow inputs "
   ]
  },
  {
   "cell_type": "markdown",
   "id": "7f843739-d0ad-4ccc-9b94-1c31eedabfc0",
   "metadata": {},
   "source": [
    "Inputs consists of two components:\n",
    "- `X` : has X_pipm first and then X_pi0. It has shape `(num_clusters,max_num_cells,4)`  The cells are given as `(log(E),eta,phi,samplerID)` values\n",
    "- `Y` : a numpy array of quark/gluon jet labels (pipm=`1` and pi0=`0`). "
   ]
  },
  {
   "cell_type": "code",
   "execution_count": null,
   "id": "d60e6197-0838-47cc-9dce-43857b0e5021",
   "metadata": {},
   "outputs": [],
   "source": [
    "X_pipm = np.stack((cell_e_norm_pipm[selection_pipm], cell_eta_norm_pipm[selection_pipm], cell_phi_norm_pipm[selection_pipm], cell_samp_norm_pipm[selection_pipm]), axis = 2)\n",
    "X_pi0  = np.stack((cell_e_norm_pi0[selection_pi0], cell_eta_norm_pi0[selection_pi0], cell_phi_norm_pi0[selection_pi0], cell_samp_norm_pi0[selection_pi0]), axis = 2)"
   ]
  },
  {
   "cell_type": "code",
   "execution_count": null,
   "id": "968042f8-e542-42cb-b92e-4ac3c3bf89ce",
   "metadata": {},
   "outputs": [],
   "source": [
    "X = np.concatenate((X_pipm[:90000], X_pi0[:90000]))"
   ]
  },
  {
   "cell_type": "code",
   "execution_count": null,
   "id": "45c7778f-a625-4205-9e85-32fc26a637d2",
   "metadata": {},
   "outputs": [],
   "source": [
    "np.save(path_prefix+'X_Russ.npy', X)"
   ]
  },
  {
   "cell_type": "code",
   "execution_count": null,
   "id": "731e5bc0-7b6a-4c46-a848-d5221d907282",
   "metadata": {},
   "outputs": [],
   "source": [
    "#import matplotlib.pyplot as plt\n",
    "#plt.cla()\n",
    "#plt.clf()\n",
    "#fig = plt.figure()\n",
    "#fig.patch.set_facecolor('white')\n",
    "#plt.hist(clus_E_pipm, alpha = 0.5, label = 'pi plus')\n",
    "#plt.hist(clus_E_pi0, alpha = 0.5, label = 'pi 0')\n",
    "#plt.legend()\n",
    "##plt.yscale('log')\n",
    "#plt.show()"
   ]
  },
  {
   "cell_type": "markdown",
   "id": "33411938-11ca-4453-b93f-4ae4ffb873db",
   "metadata": {},
   "source": [
    "? To categorical?"
   ]
  },
  {
   "cell_type": "code",
   "execution_count": 1,
   "id": "732917eb-d7ef-4647-9b85-22f9c0cb47b2",
   "metadata": {},
   "outputs": [
    {
     "ename": "NameError",
     "evalue": "name 'tf' is not defined",
     "output_type": "error",
     "traceback": [
      "\u001b[0;31m---------------------------------------------------------------------------\u001b[0m",
      "\u001b[0;31mNameError\u001b[0m                                 Traceback (most recent call last)",
      "\u001b[0;32m/tmp/ipykernel_61153/119514066.py\u001b[0m in \u001b[0;36m<module>\u001b[0;34m\u001b[0m\n\u001b[1;32m      1\u001b[0m \u001b[0;31m# pipm -> 1. , pi0 -> 0\u001b[0m\u001b[0;34m\u001b[0m\u001b[0;34m\u001b[0m\u001b[0;34m\u001b[0m\u001b[0m\n\u001b[0;32m----> 2\u001b[0;31m \u001b[0mY\u001b[0m \u001b[0;34m=\u001b[0m \u001b[0mtf\u001b[0m\u001b[0;34m.\u001b[0m\u001b[0mkeras\u001b[0m\u001b[0;34m.\u001b[0m\u001b[0mutils\u001b[0m\u001b[0;34m.\u001b[0m\u001b[0mto_categorical\u001b[0m\u001b[0;34m(\u001b[0m\u001b[0mnp\u001b[0m\u001b[0;34m.\u001b[0m\u001b[0mconcatenate\u001b[0m\u001b[0;34m(\u001b[0m\u001b[0;34m(\u001b[0m\u001b[0mnp\u001b[0m\u001b[0;34m.\u001b[0m\u001b[0mones\u001b[0m\u001b[0;34m(\u001b[0m\u001b[0;36m90000\u001b[0m\u001b[0;34m)\u001b[0m\u001b[0;34m,\u001b[0m \u001b[0mnp\u001b[0m\u001b[0;34m.\u001b[0m\u001b[0mzeros\u001b[0m\u001b[0;34m(\u001b[0m\u001b[0;36m90000\u001b[0m\u001b[0;34m)\u001b[0m\u001b[0;34m)\u001b[0m\u001b[0;34m)\u001b[0m\u001b[0;34m)\u001b[0m\u001b[0;34m\u001b[0m\u001b[0;34m\u001b[0m\u001b[0m\n\u001b[0m",
      "\u001b[0;31mNameError\u001b[0m: name 'tf' is not defined"
     ]
    }
   ],
   "source": [
    "# pipm -> 1. , pi0 -> 0\n",
    "Y = tf.keras.utils.to_categorical(np.concatenate((np.ones(90000), np.zeros(90000))))"
   ]
  },
  {
   "cell_type": "markdown",
   "id": "2cbeccf7-a75c-4407-aafe-cb348ad6aac9",
   "metadata": {},
   "source": [
    "## Imports of EFN and PFN"
   ]
  },
  {
   "cell_type": "code",
   "execution_count": 2,
   "id": "52fdf713-6ab7-4d40-bd66-e32d01ec57b4",
   "metadata": {},
   "outputs": [],
   "source": [
    "import os\n",
    "os.environ['CUDA_VISIBLE_DEVICES'] = \"4\"\n",
    "os.environ['TF_FORCE_GPU_ALLOW_GROWTH'] = 'true'"
   ]
  },
  {
   "cell_type": "code",
   "execution_count": 3,
   "id": "62ef9658-0848-4526-afb6-3abffd2cea67",
   "metadata": {},
   "outputs": [
    {
     "name": "stderr",
     "output_type": "stream",
     "text": [
      "2021-07-28 08:30:06.004409: I tensorflow/stream_executor/platform/default/dso_loader.cc:49] Successfully opened dynamic library libcudart.so.11.0\n"
     ]
    }
   ],
   "source": [
    "\n",
    "import tensorflow as tf\n",
    "\n",
    "# energyflow imports\n",
    "import energyflow as ef\n",
    "from energyflow.archs import PFN\n",
    "from energyflow.archs import EFN\n",
    "\n",
    "from sklearn.metrics import roc_auc_score, roc_curve\n",
    "import matplotlib.pyplot as plt\n",
    "\n",
    "from energyflow.utils import data_split"
   ]
  },
  {
   "cell_type": "markdown",
   "id": "a0ec45a4-6413-499f-b450-629a15e14e0e",
   "metadata": {},
   "source": [
    "# PARTICLE Flo Network Classification  "
   ]
  },
  {
   "cell_type": "markdown",
   "id": "422c03fc-4a20-4de5-9a75-2247fdf45716",
   "metadata": {
    "tags": []
   },
   "source": [
    "* input_dim : The number of features for each particle.\n",
    "* Phi_sizes : The sizes of the dense layers in the per-particle frontend module $\\Phi$. The last element will be the number of latent observables that the model defines. Larger latent space dimensions correspond roughly to higher resolution images.\n",
    "* F_sizes : The sizes of the dense layers in the backend module $F$."
   ]
  },
  {
   "cell_type": "code",
   "execution_count": 4,
   "id": "55fdc759-3fec-4f24-873d-04fff7e0914e",
   "metadata": {},
   "outputs": [],
   "source": [
    "Phi_sizes, F_sizes = (100, 100, 128), (100, 100, 100)"
   ]
  },
  {
   "cell_type": "code",
   "execution_count": null,
   "id": "1a38ea87-0b88-4c2a-82cd-70c32863467a",
   "metadata": {},
   "outputs": [],
   "source": [
    "# do train/val/test split \n",
    "(X_train, X_val, X_test,\n",
    " Y_train, Y_val, Y_test) = data_split(X, Y, val=10000, test=40000)"
   ]
  },
  {
   "cell_type": "code",
   "execution_count": null,
   "id": "7626bc2b-845e-42bd-b4fb-088b72ce6b02",
   "metadata": {},
   "outputs": [],
   "source": [
    "pfn = PFN(input_dim=X.shape[-1], Phi_sizes=Phi_sizes, F_sizes=F_sizes)"
   ]
  },
  {
   "cell_type": "code",
   "execution_count": 66,
   "id": "9a22810c-6d57-456a-a86f-5bc17946d7ba",
   "metadata": {
    "scrolled": true,
    "tags": []
   },
   "outputs": [
    {
     "name": "stdout",
     "output_type": "stream",
     "text": [
      "Epoch 1/100\n",
      "260/260 [==============================] - 18s 56ms/step - loss: 7.0947 - acc: 0.6989 - val_loss: 0.6542 - val_acc: 0.7905\n",
      "Epoch 2/100\n",
      "260/260 [==============================] - 15s 57ms/step - loss: 0.8455 - acc: 0.7468 - val_loss: 0.4757 - val_acc: 0.7897\n",
      "Epoch 3/100\n",
      "260/260 [==============================] - 15s 57ms/step - loss: 0.5137 - acc: 0.7644 - val_loss: 0.4414 - val_acc: 0.7945\n",
      "Epoch 4/100\n",
      "260/260 [==============================] - 15s 56ms/step - loss: 0.4736 - acc: 0.7680 - val_loss: 0.4284 - val_acc: 0.7913\n",
      "Epoch 5/100\n",
      "260/260 [==============================] - 14s 54ms/step - loss: 0.5200 - acc: 0.7601 - val_loss: 0.4540 - val_acc: 0.7864\n",
      "Epoch 6/100\n",
      "260/260 [==============================] - 15s 57ms/step - loss: 0.4324 - acc: 0.7767 - val_loss: 0.3919 - val_acc: 0.8016\n",
      "Epoch 7/100\n",
      "260/260 [==============================] - 14s 56ms/step - loss: 0.4043 - acc: 0.7952 - val_loss: 0.3729 - val_acc: 0.8143\n",
      "Epoch 8/100\n",
      "260/260 [==============================] - 14s 55ms/step - loss: 0.3986 - acc: 0.8029 - val_loss: 0.3829 - val_acc: 0.8218\n",
      "Epoch 9/100\n",
      "260/260 [==============================] - 15s 59ms/step - loss: 0.3731 - acc: 0.8249 - val_loss: 0.3454 - val_acc: 0.8595\n",
      "Epoch 10/100\n",
      "260/260 [==============================] - 15s 57ms/step - loss: 0.3364 - acc: 0.8536 - val_loss: 0.2829 - val_acc: 0.8988\n",
      "Epoch 11/100\n",
      "260/260 [==============================] - 15s 56ms/step - loss: 0.2892 - acc: 0.8886 - val_loss: 0.2867 - val_acc: 0.8918\n",
      "Epoch 12/100\n",
      "260/260 [==============================] - 15s 58ms/step - loss: 0.2801 - acc: 0.8938 - val_loss: 0.2696 - val_acc: 0.8991\n",
      "Epoch 13/100\n",
      "260/260 [==============================] - 15s 56ms/step - loss: 0.2722 - acc: 0.8959 - val_loss: 0.2445 - val_acc: 0.9109\n",
      "Epoch 14/100\n",
      "260/260 [==============================] - 15s 58ms/step - loss: 0.2590 - acc: 0.9015 - val_loss: 0.2459 - val_acc: 0.9102\n",
      "Epoch 15/100\n",
      "260/260 [==============================] - 15s 57ms/step - loss: 0.2511 - acc: 0.9046 - val_loss: 0.2293 - val_acc: 0.9153\n",
      "Epoch 16/100\n",
      "260/260 [==============================] - 15s 58ms/step - loss: 0.2456 - acc: 0.9061 - val_loss: 0.3435 - val_acc: 0.8694\n",
      "Epoch 17/100\n",
      "260/260 [==============================] - 15s 57ms/step - loss: 0.2638 - acc: 0.8986 - val_loss: 0.2488 - val_acc: 0.9103\n",
      "Epoch 18/100\n",
      "260/260 [==============================] - 15s 59ms/step - loss: 0.2398 - acc: 0.9081 - val_loss: 0.4561 - val_acc: 0.8643\n",
      "Epoch 19/100\n",
      "260/260 [==============================] - 15s 57ms/step - loss: 1.5397 - acc: 0.7813 - val_loss: 0.3002 - val_acc: 0.8786\n",
      "Epoch 20/100\n",
      "260/260 [==============================] - 15s 57ms/step - loss: 0.2938 - acc: 0.8889 - val_loss: 0.2753 - val_acc: 0.9018\n",
      "Epoch 21/100\n",
      "260/260 [==============================] - 14s 55ms/step - loss: 0.2795 - acc: 0.8953 - val_loss: 0.2451 - val_acc: 0.9104\n",
      "Epoch 22/100\n",
      "260/260 [==============================] - 14s 55ms/step - loss: 0.2619 - acc: 0.8999 - val_loss: 0.2450 - val_acc: 0.9114\n",
      "Epoch 23/100\n",
      "260/260 [==============================] - 15s 58ms/step - loss: 0.2435 - acc: 0.9063 - val_loss: 0.2369 - val_acc: 0.9122\n",
      "Epoch 24/100\n",
      "260/260 [==============================] - 15s 57ms/step - loss: 0.2413 - acc: 0.9065 - val_loss: 0.2523 - val_acc: 0.9074\n",
      "Epoch 25/100\n",
      "260/260 [==============================] - 15s 57ms/step - loss: 0.2408 - acc: 0.9073 - val_loss: 0.2348 - val_acc: 0.9118\n",
      "Epoch 26/100\n",
      "260/260 [==============================] - 15s 57ms/step - loss: 0.2320 - acc: 0.9096 - val_loss: 0.2268 - val_acc: 0.9125\n",
      "Epoch 27/100\n",
      "260/260 [==============================] - 15s 56ms/step - loss: 0.2313 - acc: 0.9110 - val_loss: 0.2282 - val_acc: 0.9143\n",
      "Epoch 28/100\n",
      "260/260 [==============================] - 15s 58ms/step - loss: 0.2250 - acc: 0.9139 - val_loss: 0.2155 - val_acc: 0.9195\n",
      "Epoch 29/100\n",
      "260/260 [==============================] - 15s 56ms/step - loss: 0.2252 - acc: 0.9143 - val_loss: 0.2150 - val_acc: 0.9203\n",
      "Epoch 30/100\n",
      "260/260 [==============================] - 14s 55ms/step - loss: 0.2257 - acc: 0.9132 - val_loss: 0.2265 - val_acc: 0.9131\n",
      "Epoch 31/100\n",
      "260/260 [==============================] - 14s 55ms/step - loss: 0.2228 - acc: 0.9139 - val_loss: 0.2376 - val_acc: 0.9107\n",
      "Epoch 32/100\n",
      "260/260 [==============================] - 15s 57ms/step - loss: 0.2255 - acc: 0.9137 - val_loss: 0.2179 - val_acc: 0.9185\n",
      "Epoch 33/100\n",
      "260/260 [==============================] - 15s 57ms/step - loss: 0.2184 - acc: 0.9165 - val_loss: 0.2114 - val_acc: 0.9203\n",
      "Epoch 34/100\n",
      "260/260 [==============================] - 15s 58ms/step - loss: 0.2169 - acc: 0.9173 - val_loss: 0.2138 - val_acc: 0.9222\n",
      "Epoch 35/100\n",
      "260/260 [==============================] - 15s 57ms/step - loss: 0.2153 - acc: 0.9182 - val_loss: 0.2152 - val_acc: 0.9192\n",
      "Epoch 36/100\n",
      "260/260 [==============================] - 14s 55ms/step - loss: 0.2152 - acc: 0.9175 - val_loss: 0.2133 - val_acc: 0.9207\n",
      "Epoch 37/100\n",
      "260/260 [==============================] - 15s 58ms/step - loss: 0.2127 - acc: 0.9193 - val_loss: 0.2314 - val_acc: 0.9153\n",
      "Epoch 38/100\n",
      "260/260 [==============================] - 15s 56ms/step - loss: 0.2137 - acc: 0.9192 - val_loss: 0.2127 - val_acc: 0.9206\n",
      "Epoch 39/100\n",
      "260/260 [==============================] - 15s 57ms/step - loss: 0.2120 - acc: 0.9203 - val_loss: 0.2123 - val_acc: 0.9189\n",
      "Epoch 40/100\n",
      "260/260 [==============================] - 15s 57ms/step - loss: 0.2109 - acc: 0.9194 - val_loss: 0.2192 - val_acc: 0.9177\n",
      "Epoch 41/100\n",
      "260/260 [==============================] - 14s 55ms/step - loss: 0.2112 - acc: 0.9197 - val_loss: 0.2146 - val_acc: 0.9218\n",
      "Epoch 42/100\n",
      "260/260 [==============================] - 15s 56ms/step - loss: 0.2116 - acc: 0.9200 - val_loss: 0.2098 - val_acc: 0.9228\n",
      "Epoch 43/100\n",
      "260/260 [==============================] - 15s 57ms/step - loss: 0.2070 - acc: 0.9207 - val_loss: 0.2056 - val_acc: 0.9246\n",
      "Epoch 44/100\n",
      "260/260 [==============================] - 14s 56ms/step - loss: 0.2081 - acc: 0.9215 - val_loss: 0.2027 - val_acc: 0.9253\n",
      "Epoch 45/100\n",
      "260/260 [==============================] - 15s 56ms/step - loss: 0.2060 - acc: 0.9218 - val_loss: 0.2080 - val_acc: 0.9235\n",
      "Epoch 46/100\n",
      "260/260 [==============================] - 14s 56ms/step - loss: 0.2084 - acc: 0.9213 - val_loss: 0.2047 - val_acc: 0.9265\n",
      "Epoch 47/100\n",
      "260/260 [==============================] - 15s 57ms/step - loss: 0.2022 - acc: 0.9227 - val_loss: 0.1999 - val_acc: 0.9273\n",
      "Epoch 48/100\n",
      "260/260 [==============================] - 14s 55ms/step - loss: 0.1997 - acc: 0.9248 - val_loss: 0.2044 - val_acc: 0.9272\n",
      "Epoch 49/100\n",
      "260/260 [==============================] - 14s 55ms/step - loss: 0.2008 - acc: 0.9244 - val_loss: 0.2028 - val_acc: 0.9273\n",
      "Epoch 50/100\n",
      "260/260 [==============================] - 14s 55ms/step - loss: 0.2033 - acc: 0.9232 - val_loss: 0.2160 - val_acc: 0.9176\n",
      "Epoch 51/100\n",
      "260/260 [==============================] - 14s 56ms/step - loss: 0.1985 - acc: 0.9256 - val_loss: 0.2067 - val_acc: 0.9232\n",
      "Epoch 52/100\n",
      "260/260 [==============================] - 15s 57ms/step - loss: 0.1956 - acc: 0.9265 - val_loss: 0.2007 - val_acc: 0.9272\n",
      "Epoch 53/100\n",
      "260/260 [==============================] - 14s 55ms/step - loss: 0.1971 - acc: 0.9258 - val_loss: 0.2035 - val_acc: 0.9255\n",
      "Epoch 54/100\n",
      "260/260 [==============================] - 14s 55ms/step - loss: 0.1976 - acc: 0.9262 - val_loss: 0.2056 - val_acc: 0.9261\n",
      "Epoch 55/100\n",
      "260/260 [==============================] - 15s 56ms/step - loss: 0.1970 - acc: 0.9267 - val_loss: 0.2031 - val_acc: 0.9271\n",
      "Epoch 56/100\n",
      "260/260 [==============================] - 15s 57ms/step - loss: 0.1972 - acc: 0.9264 - val_loss: 0.2015 - val_acc: 0.9282\n",
      "Epoch 57/100\n",
      "260/260 [==============================] - 14s 55ms/step - loss: 0.1987 - acc: 0.9265 - val_loss: 0.1993 - val_acc: 0.9280\n",
      "Epoch 58/100\n",
      "260/260 [==============================] - 15s 57ms/step - loss: 0.1954 - acc: 0.9271 - val_loss: 0.1973 - val_acc: 0.9294\n",
      "Epoch 59/100\n",
      "260/260 [==============================] - 14s 56ms/step - loss: 0.1927 - acc: 0.9280 - val_loss: 0.1991 - val_acc: 0.9277\n",
      "Epoch 60/100\n",
      "260/260 [==============================] - 14s 55ms/step - loss: 0.1923 - acc: 0.9282 - val_loss: 0.2003 - val_acc: 0.9290\n",
      "Epoch 61/100\n",
      "260/260 [==============================] - 14s 55ms/step - loss: 0.1951 - acc: 0.9276 - val_loss: 0.2048 - val_acc: 0.9287\n",
      "Epoch 62/100\n",
      "260/260 [==============================] - 14s 55ms/step - loss: 0.1922 - acc: 0.9289 - val_loss: 0.1965 - val_acc: 0.9293\n",
      "Epoch 63/100\n",
      "260/260 [==============================] - 14s 55ms/step - loss: 0.1887 - acc: 0.9301 - val_loss: 0.2002 - val_acc: 0.9261\n",
      "Epoch 64/100\n",
      "260/260 [==============================] - 14s 56ms/step - loss: 0.1893 - acc: 0.9295 - val_loss: 0.1966 - val_acc: 0.9286\n",
      "Epoch 65/100\n",
      "260/260 [==============================] - 15s 56ms/step - loss: 0.1893 - acc: 0.9295 - val_loss: 0.1966 - val_acc: 0.9305\n",
      "Epoch 66/100\n",
      "260/260 [==============================] - 14s 55ms/step - loss: 0.1882 - acc: 0.9307 - val_loss: 0.2023 - val_acc: 0.9267\n",
      "Epoch 67/100\n",
      "260/260 [==============================] - 15s 56ms/step - loss: 0.1907 - acc: 0.9292 - val_loss: 0.1931 - val_acc: 0.9293\n",
      "Epoch 68/100\n",
      "260/260 [==============================] - 14s 55ms/step - loss: 0.1883 - acc: 0.9303 - val_loss: 0.2001 - val_acc: 0.9272\n",
      "Epoch 69/100\n",
      "260/260 [==============================] - 14s 55ms/step - loss: 0.1870 - acc: 0.9305 - val_loss: 0.1979 - val_acc: 0.9276\n",
      "Epoch 70/100\n",
      "260/260 [==============================] - 14s 55ms/step - loss: 0.1909 - acc: 0.9289 - val_loss: 0.1977 - val_acc: 0.9272\n",
      "Epoch 71/100\n",
      "260/260 [==============================] - 14s 55ms/step - loss: 0.1883 - acc: 0.9310 - val_loss: 0.1986 - val_acc: 0.9287\n",
      "Epoch 72/100\n",
      "260/260 [==============================] - 14s 55ms/step - loss: 0.1847 - acc: 0.9312 - val_loss: 0.1945 - val_acc: 0.9295\n",
      "Epoch 73/100\n",
      "260/260 [==============================] - 14s 55ms/step - loss: 0.1852 - acc: 0.9319 - val_loss: 0.1987 - val_acc: 0.9280\n",
      "Epoch 74/100\n",
      "260/260 [==============================] - 14s 55ms/step - loss: 0.1851 - acc: 0.9311 - val_loss: 0.1907 - val_acc: 0.9301\n",
      "Epoch 75/100\n",
      "260/260 [==============================] - 14s 55ms/step - loss: 0.1850 - acc: 0.9316 - val_loss: 0.1921 - val_acc: 0.9299\n",
      "Epoch 76/100\n",
      "260/260 [==============================] - 14s 55ms/step - loss: 0.1840 - acc: 0.9316 - val_loss: 0.1928 - val_acc: 0.9301\n",
      "Epoch 77/100\n",
      "260/260 [==============================] - 14s 55ms/step - loss: 0.1848 - acc: 0.9316 - val_loss: 0.1940 - val_acc: 0.9300\n",
      "Epoch 78/100\n",
      "260/260 [==============================] - 14s 55ms/step - loss: 0.1824 - acc: 0.9326 - val_loss: 0.1939 - val_acc: 0.9297\n",
      "Epoch 79/100\n",
      "260/260 [==============================] - 15s 56ms/step - loss: 0.1823 - acc: 0.9324 - val_loss: 0.1938 - val_acc: 0.9306\n",
      "Epoch 80/100\n",
      "260/260 [==============================] - 14s 56ms/step - loss: 0.1829 - acc: 0.9316 - val_loss: 0.1874 - val_acc: 0.9335\n",
      "Epoch 81/100\n",
      "260/260 [==============================] - 14s 55ms/step - loss: 0.1828 - acc: 0.9326 - val_loss: 0.1900 - val_acc: 0.9333\n",
      "Epoch 82/100\n",
      "260/260 [==============================] - 14s 55ms/step - loss: 0.1811 - acc: 0.9331 - val_loss: 0.1932 - val_acc: 0.9302\n",
      "Epoch 83/100\n",
      "260/260 [==============================] - 14s 55ms/step - loss: 0.1843 - acc: 0.9314 - val_loss: 0.1944 - val_acc: 0.9309\n",
      "Epoch 84/100\n",
      "260/260 [==============================] - 14s 55ms/step - loss: 0.1802 - acc: 0.9333 - val_loss: 0.1940 - val_acc: 0.9316\n",
      "Epoch 85/100\n",
      "260/260 [==============================] - 14s 55ms/step - loss: 0.1782 - acc: 0.9336 - val_loss: 0.1933 - val_acc: 0.9312\n",
      "Epoch 86/100\n",
      "260/260 [==============================] - 14s 55ms/step - loss: 0.1795 - acc: 0.9344 - val_loss: 0.1916 - val_acc: 0.9307\n",
      "Epoch 87/100\n",
      "260/260 [==============================] - 14s 56ms/step - loss: 0.1793 - acc: 0.9330 - val_loss: 0.1969 - val_acc: 0.9310\n",
      "Epoch 88/100\n",
      "260/260 [==============================] - 14s 55ms/step - loss: 0.1820 - acc: 0.9333 - val_loss: 0.1910 - val_acc: 0.9304\n",
      "Epoch 89/100\n",
      "260/260 [==============================] - 14s 55ms/step - loss: 0.1777 - acc: 0.9338 - val_loss: 0.1923 - val_acc: 0.9325\n",
      "Epoch 90/100\n",
      "260/260 [==============================] - 14s 55ms/step - loss: 0.1798 - acc: 0.9334 - val_loss: 0.1905 - val_acc: 0.9334\n",
      "Epoch 91/100\n",
      "260/260 [==============================] - 14s 55ms/step - loss: 0.1798 - acc: 0.9337 - val_loss: 0.1885 - val_acc: 0.9343\n",
      "Epoch 92/100\n",
      "260/260 [==============================] - 14s 55ms/step - loss: 0.1777 - acc: 0.9346 - val_loss: 0.1956 - val_acc: 0.9314\n",
      "Epoch 93/100\n",
      "260/260 [==============================] - 14s 55ms/step - loss: 0.1766 - acc: 0.9352 - val_loss: 0.1931 - val_acc: 0.9325\n",
      "Epoch 94/100\n",
      "260/260 [==============================] - 14s 55ms/step - loss: 0.1756 - acc: 0.9352 - val_loss: 0.1884 - val_acc: 0.9346\n",
      "Epoch 95/100\n",
      "260/260 [==============================] - 14s 55ms/step - loss: 0.1772 - acc: 0.9348 - val_loss: 0.1909 - val_acc: 0.9322\n",
      "Epoch 96/100\n",
      "260/260 [==============================] - 14s 55ms/step - loss: 0.1743 - acc: 0.9355 - val_loss: 0.1936 - val_acc: 0.9330\n",
      "Epoch 97/100\n",
      "260/260 [==============================] - 14s 55ms/step - loss: 0.1736 - acc: 0.9349 - val_loss: 0.1882 - val_acc: 0.9334\n",
      "Epoch 98/100\n",
      "260/260 [==============================] - 14s 55ms/step - loss: 0.1747 - acc: 0.9359 - val_loss: 0.1881 - val_acc: 0.9341\n",
      "Epoch 99/100\n",
      "260/260 [==============================] - 14s 55ms/step - loss: 0.1737 - acc: 0.9358 - val_loss: 0.1889 - val_acc: 0.9324\n",
      "Epoch 100/100\n",
      "260/260 [==============================] - 14s 56ms/step - loss: 0.1758 - acc: 0.9350 - val_loss: 0.1921 - val_acc: 0.9300\n"
     ]
    }
   ],
   "source": [
    "# train model\n",
    "history = pfn.fit(X_train, Y_train,\n",
    "        epochs=100,\n",
    "        batch_size=500,\n",
    "        validation_data=(X_val, Y_val),\n",
    "        verbose=1)"
   ]
  },
  {
   "cell_type": "code",
   "execution_count": 67,
   "id": "073951a5-eb2e-48a6-ad2a-ccdbb24fb1c3",
   "metadata": {},
   "outputs": [],
   "source": [
    "pfn.save(modelpath+'pfn_v1.h5')"
   ]
  },
  {
   "cell_type": "code",
   "execution_count": 68,
   "id": "2471d329-14ba-4454-9f57-5d29368ab2ee",
   "metadata": {},
   "outputs": [],
   "source": [
    "preds = pfn.predict(X_test, batch_size=1000)"
   ]
  },
  {
   "cell_type": "code",
   "execution_count": 69,
   "id": "da670328-9e40-4fbd-9bcb-9eb10e825041",
   "metadata": {},
   "outputs": [],
   "source": [
    "pfn_fp, pfn_tp, threshs = roc_curve(Y_test[:,1], preds[:,1])"
   ]
  },
  {
   "cell_type": "code",
   "execution_count": 72,
   "id": "5e7e6b08-4e7d-4604-87cd-2eea41986aae",
   "metadata": {},
   "outputs": [
    {
     "name": "stdout",
     "output_type": "stream",
     "text": [
      "\n",
      "PFN AUC: 0.9781312281488028\n",
      "\n"
     ]
    }
   ],
   "source": [
    "# get area under the ROC curve\n",
    "auc = roc_auc_score(Y_test[:,1], preds[:,1])\n",
    "print()\n",
    "print('PFN AUC:', auc)\n",
    "print()"
   ]
  },
  {
   "cell_type": "markdown",
   "id": "c01dbd57-e86d-413d-8829-f28f7544269a",
   "metadata": {},
   "source": [
    "# ENERGY FLOW NETWORK"
   ]
  },
  {
   "cell_type": "markdown",
   "id": "f14f1dd7-22f6-412b-9590-3feacbcc6a11",
   "metadata": {},
   "source": [
    "Each dataset consists of two components:\n",
    "- `X` : has X_pipm first and then X_pi0. It has shape `(num_clusters,max_num_cells,4)`  The cells are given as `(log(E),eta,phi,samplerID)` values\n",
    "- `Y` : a numpy array of quark/gluon jet labels (pipm=`1` and pi0=`0`). "
   ]
  },
  {
   "cell_type": "code",
   "execution_count": 63,
   "id": "32981dd8-6d09-401e-bca2-4b0ff1643cfc",
   "metadata": {},
   "outputs": [],
   "source": [
    "#Phi_sizes, F_sizes = (100, 100, 128), (100, 100, 100)"
   ]
  },
  {
   "cell_type": "code",
   "execution_count": 115,
   "id": "6ebfaeec-27b6-4e7a-8ee4-1005ba50c4c6",
   "metadata": {},
   "outputs": [],
   "source": [
    "##### For the EFN\n",
    "#(X_train, X_val, X_test,\n",
    "# Y_train, Y_val, Y_test) = data_split(X, Y, val=10000, test=40000)\n",
    "#pfn = PFN(input_dim=X.shape[-1], Phi_sizes=Phi_sizes, F_sizes=F_sizes)"
   ]
  },
  {
   "cell_type": "code",
   "execution_count": 133,
   "id": "a27f371f-5cab-4448-a9e3-3162b9d62c24",
   "metadata": {},
   "outputs": [],
   "source": [
    "# do train/val/test split \n",
    "(z_train, z_val, z_test, \n",
    " p_train, p_val, p_test,\n",
    " Y_train, Y_val, Y_test) = data_split(X[:,:,0], X[:,:,1:], Y, val=10000, test=40000)"
   ]
  },
  {
   "cell_type": "code",
   "execution_count": 137,
   "id": "cb536cb5-a088-4e1a-80ad-ff136bdba6a7",
   "metadata": {
    "collapsed": true,
    "jupyter": {
     "outputs_hidden": true
    },
    "tags": []
   },
   "outputs": [
    {
     "name": "stdout",
     "output_type": "stream",
     "text": [
      "Model: \"model_1\"\n",
      "__________________________________________________________________________________________________\n",
      "Layer (type)                    Output Shape         Param #     Connected to                     \n",
      "==================================================================================================\n",
      "phats_input (InputLayer)        [(None, None, 3)]    0                                            \n",
      "__________________________________________________________________________________________________\n",
      "tdist_0 (TimeDistributed)       (None, None, 100)    400         phats_input[0][0]                \n",
      "__________________________________________________________________________________________________\n",
      "activation_7 (Activation)       (None, None, 100)    0           tdist_0[0][0]                    \n",
      "__________________________________________________________________________________________________\n",
      "tdist_1 (TimeDistributed)       (None, None, 100)    10100       activation_7[0][0]               \n",
      "__________________________________________________________________________________________________\n",
      "activation_8 (Activation)       (None, None, 100)    0           tdist_1[0][0]                    \n",
      "__________________________________________________________________________________________________\n",
      "zs_input (InputLayer)           [(None, None)]       0                                            \n",
      "__________________________________________________________________________________________________\n",
      "tdist_2 (TimeDistributed)       (None, None, 128)    12928       activation_8[0][0]               \n",
      "__________________________________________________________________________________________________\n",
      "mask (Lambda)                   (None, None)         0           zs_input[0][0]                   \n",
      "__________________________________________________________________________________________________\n",
      "activation_9 (Activation)       (None, None, 128)    0           tdist_2[0][0]                    \n",
      "__________________________________________________________________________________________________\n",
      "sum (Dot)                       (None, 128)          0           mask[0][0]                       \n",
      "                                                                 activation_9[0][0]               \n",
      "__________________________________________________________________________________________________\n",
      "dense_0 (Dense)                 (None, 100)          12900       sum[0][0]                        \n",
      "__________________________________________________________________________________________________\n",
      "activation_10 (Activation)      (None, 100)          0           dense_0[0][0]                    \n",
      "__________________________________________________________________________________________________\n",
      "dense_1 (Dense)                 (None, 100)          10100       activation_10[0][0]              \n",
      "__________________________________________________________________________________________________\n",
      "activation_11 (Activation)      (None, 100)          0           dense_1[0][0]                    \n",
      "__________________________________________________________________________________________________\n",
      "dense_2 (Dense)                 (None, 100)          10100       activation_11[0][0]              \n",
      "__________________________________________________________________________________________________\n",
      "activation_12 (Activation)      (None, 100)          0           dense_2[0][0]                    \n",
      "__________________________________________________________________________________________________\n",
      "output (Dense)                  (None, 2)            202         activation_12[0][0]              \n",
      "__________________________________________________________________________________________________\n",
      "activation_13 (Activation)      (None, 2)            0           output[0][0]                     \n",
      "==================================================================================================\n",
      "Total params: 56,730\n",
      "Trainable params: 56,730\n",
      "Non-trainable params: 0\n",
      "__________________________________________________________________________________________________\n"
     ]
    }
   ],
   "source": [
    "# build architecture\n",
    "efn = EFN(input_dim=(X.shape[-1]-1), Phi_sizes=Phi_sizes, F_sizes=F_sizes)"
   ]
  },
  {
   "cell_type": "code",
   "execution_count": 138,
   "id": "52d0e770-00d7-48ce-a713-52bb9666a6ec",
   "metadata": {},
   "outputs": [],
   "source": [
    "# train model\n",
    "#history = pfn.fit(X_train, Y_train,\n",
    "#        epochs=100,\n",
    "#        batch_size=500,\n",
    "#        validation_data=(X_val, Y_val),\n",
    "#        verbose=1)"
   ]
  },
  {
   "cell_type": "code",
   "execution_count": 140,
   "id": "ac6e38a1-0464-4af5-aed8-47e7d4424bcb",
   "metadata": {
    "collapsed": true,
    "jupyter": {
     "outputs_hidden": true
    },
    "tags": []
   },
   "outputs": [
    {
     "name": "stdout",
     "output_type": "stream",
     "text": [
      "Epoch 1/100\n",
      "260/260 [==============================] - 14s 54ms/step - loss: 0.4575 - acc: 0.8343 - val_loss: 0.3764 - val_acc: 0.8502\n",
      "Epoch 2/100\n",
      "260/260 [==============================] - 14s 53ms/step - loss: 0.4282 - acc: 0.8440 - val_loss: 0.4077 - val_acc: 0.8494\n",
      "Epoch 3/100\n",
      "260/260 [==============================] - 14s 53ms/step - loss: 0.3917 - acc: 0.8483 - val_loss: 0.3677 - val_acc: 0.8559\n",
      "Epoch 4/100\n",
      "260/260 [==============================] - 14s 53ms/step - loss: 0.3692 - acc: 0.8562 - val_loss: 0.3551 - val_acc: 0.8579\n",
      "Epoch 5/100\n",
      "260/260 [==============================] - 14s 53ms/step - loss: 0.3768 - acc: 0.8571 - val_loss: 0.3780 - val_acc: 0.8479\n",
      "Epoch 6/100\n",
      "260/260 [==============================] - 14s 53ms/step - loss: 0.3535 - acc: 0.8617 - val_loss: 0.3746 - val_acc: 0.8408\n",
      "Epoch 7/100\n",
      "260/260 [==============================] - 14s 53ms/step - loss: 0.3534 - acc: 0.8645 - val_loss: 0.3469 - val_acc: 0.8701\n",
      "Epoch 8/100\n",
      "260/260 [==============================] - 14s 53ms/step - loss: 0.3150 - acc: 0.8743 - val_loss: 0.2971 - val_acc: 0.8776\n",
      "Epoch 9/100\n",
      "260/260 [==============================] - 14s 55ms/step - loss: 0.3058 - acc: 0.8768 - val_loss: 0.3077 - val_acc: 0.8751\n",
      "Epoch 10/100\n",
      "260/260 [==============================] - 14s 54ms/step - loss: 0.3133 - acc: 0.8775 - val_loss: 0.2908 - val_acc: 0.8787\n",
      "Epoch 11/100\n",
      "260/260 [==============================] - 14s 54ms/step - loss: 0.2925 - acc: 0.8812 - val_loss: 0.2875 - val_acc: 0.8790\n",
      "Epoch 12/100\n",
      "260/260 [==============================] - 14s 54ms/step - loss: 0.2894 - acc: 0.8828 - val_loss: 0.3299 - val_acc: 0.8696\n",
      "Epoch 13/100\n",
      "260/260 [==============================] - 14s 54ms/step - loss: 0.2865 - acc: 0.8845 - val_loss: 0.2920 - val_acc: 0.8781\n",
      "Epoch 14/100\n",
      "260/260 [==============================] - 14s 54ms/step - loss: 0.2941 - acc: 0.8829 - val_loss: 0.2896 - val_acc: 0.8841\n",
      "Epoch 15/100\n",
      "260/260 [==============================] - 14s 54ms/step - loss: 0.2872 - acc: 0.8851 - val_loss: 0.2703 - val_acc: 0.8875\n",
      "Epoch 16/100\n",
      "260/260 [==============================] - 14s 54ms/step - loss: 0.2758 - acc: 0.8873 - val_loss: 0.2939 - val_acc: 0.8826\n",
      "Epoch 17/100\n",
      "260/260 [==============================] - 14s 54ms/step - loss: 0.2716 - acc: 0.8890 - val_loss: 0.2714 - val_acc: 0.8865\n",
      "Epoch 18/100\n",
      "260/260 [==============================] - 14s 55ms/step - loss: 0.2660 - acc: 0.8900 - val_loss: 0.2824 - val_acc: 0.8850\n",
      "Epoch 19/100\n",
      "260/260 [==============================] - 14s 54ms/step - loss: 0.2632 - acc: 0.8908 - val_loss: 0.2698 - val_acc: 0.8868\n",
      "Epoch 20/100\n",
      "260/260 [==============================] - 14s 54ms/step - loss: 0.2641 - acc: 0.8913 - val_loss: 0.2680 - val_acc: 0.8877\n",
      "Epoch 21/100\n",
      "260/260 [==============================] - 14s 54ms/step - loss: 0.2598 - acc: 0.8924 - val_loss: 0.2780 - val_acc: 0.8839\n",
      "Epoch 22/100\n",
      "260/260 [==============================] - 14s 54ms/step - loss: 0.2591 - acc: 0.8930 - val_loss: 0.2661 - val_acc: 0.8861\n",
      "Epoch 23/100\n",
      "260/260 [==============================] - 14s 55ms/step - loss: 0.2601 - acc: 0.8934 - val_loss: 0.2619 - val_acc: 0.8899\n",
      "Epoch 24/100\n",
      "260/260 [==============================] - 14s 55ms/step - loss: 0.2554 - acc: 0.8950 - val_loss: 0.2589 - val_acc: 0.8934\n",
      "Epoch 25/100\n",
      "260/260 [==============================] - 14s 54ms/step - loss: 0.2528 - acc: 0.8959 - val_loss: 0.2655 - val_acc: 0.8890\n",
      "Epoch 26/100\n",
      "260/260 [==============================] - 14s 54ms/step - loss: 0.2530 - acc: 0.8961 - val_loss: 0.2586 - val_acc: 0.8939\n",
      "Epoch 27/100\n",
      "260/260 [==============================] - 14s 54ms/step - loss: 0.2488 - acc: 0.8980 - val_loss: 0.2600 - val_acc: 0.8932\n",
      "Epoch 28/100\n",
      "260/260 [==============================] - 14s 54ms/step - loss: 0.2485 - acc: 0.8984 - val_loss: 0.2663 - val_acc: 0.8924\n",
      "Epoch 29/100\n",
      "260/260 [==============================] - 14s 54ms/step - loss: 0.2470 - acc: 0.8989 - val_loss: 0.2576 - val_acc: 0.8950\n",
      "Epoch 30/100\n",
      "260/260 [==============================] - 14s 54ms/step - loss: 0.2452 - acc: 0.9004 - val_loss: 0.2508 - val_acc: 0.8962\n",
      "Epoch 31/100\n",
      "260/260 [==============================] - 14s 54ms/step - loss: 0.2443 - acc: 0.8996 - val_loss: 0.2505 - val_acc: 0.8957\n",
      "Epoch 32/100\n",
      "260/260 [==============================] - 14s 54ms/step - loss: 0.2450 - acc: 0.8994 - val_loss: 0.2606 - val_acc: 0.8947\n",
      "Epoch 33/100\n",
      "260/260 [==============================] - 14s 54ms/step - loss: 0.2438 - acc: 0.9006 - val_loss: 0.2534 - val_acc: 0.8962\n",
      "Epoch 34/100\n",
      "260/260 [==============================] - 14s 55ms/step - loss: 0.2408 - acc: 0.9021 - val_loss: 0.2530 - val_acc: 0.8946\n",
      "Epoch 35/100\n",
      "260/260 [==============================] - 14s 55ms/step - loss: 0.2411 - acc: 0.9010 - val_loss: 0.2445 - val_acc: 0.8990\n",
      "Epoch 36/100\n",
      "260/260 [==============================] - 14s 54ms/step - loss: 0.2372 - acc: 0.9035 - val_loss: 0.2463 - val_acc: 0.8971\n",
      "Epoch 37/100\n",
      "260/260 [==============================] - 14s 54ms/step - loss: 0.2378 - acc: 0.9027 - val_loss: 0.2505 - val_acc: 0.8971\n",
      "Epoch 38/100\n",
      "260/260 [==============================] - 14s 54ms/step - loss: 0.2353 - acc: 0.9044 - val_loss: 0.2490 - val_acc: 0.8957\n",
      "Epoch 39/100\n",
      "260/260 [==============================] - 14s 54ms/step - loss: 0.2359 - acc: 0.9040 - val_loss: 0.2575 - val_acc: 0.8966\n",
      "Epoch 40/100\n",
      "260/260 [==============================] - 14s 54ms/step - loss: 0.2332 - acc: 0.9058 - val_loss: 0.2514 - val_acc: 0.8941\n",
      "Epoch 41/100\n",
      "260/260 [==============================] - 14s 54ms/step - loss: 0.2338 - acc: 0.9046 - val_loss: 0.2446 - val_acc: 0.8988\n",
      "Epoch 42/100\n",
      "260/260 [==============================] - 14s 54ms/step - loss: 0.2332 - acc: 0.9054 - val_loss: 0.2431 - val_acc: 0.8996\n",
      "Epoch 43/100\n",
      "260/260 [==============================] - 14s 54ms/step - loss: 0.2283 - acc: 0.9072 - val_loss: 0.2426 - val_acc: 0.8996\n",
      "Epoch 44/100\n",
      "260/260 [==============================] - 14s 54ms/step - loss: 0.2291 - acc: 0.9070 - val_loss: 0.2413 - val_acc: 0.8995\n",
      "Epoch 45/100\n",
      "260/260 [==============================] - 14s 54ms/step - loss: 0.2282 - acc: 0.9073 - val_loss: 0.2396 - val_acc: 0.9019\n",
      "Epoch 46/100\n",
      "260/260 [==============================] - 14s 54ms/step - loss: 0.2270 - acc: 0.9077 - val_loss: 0.2400 - val_acc: 0.9018\n",
      "Epoch 47/100\n",
      "260/260 [==============================] - 14s 54ms/step - loss: 0.2267 - acc: 0.9079 - val_loss: 0.2411 - val_acc: 0.9023\n",
      "Epoch 48/100\n",
      "260/260 [==============================] - 14s 54ms/step - loss: 0.2241 - acc: 0.9090 - val_loss: 0.2416 - val_acc: 0.9010\n",
      "Epoch 49/100\n",
      "260/260 [==============================] - 14s 54ms/step - loss: 0.2237 - acc: 0.9098 - val_loss: 0.2411 - val_acc: 0.9037\n",
      "Epoch 50/100\n",
      "260/260 [==============================] - 14s 55ms/step - loss: 0.2228 - acc: 0.9101 - val_loss: 0.2519 - val_acc: 0.8959\n",
      "Epoch 51/100\n",
      "260/260 [==============================] - 14s 54ms/step - loss: 0.2222 - acc: 0.9105 - val_loss: 0.2388 - val_acc: 0.9031\n",
      "Epoch 52/100\n",
      "260/260 [==============================] - 14s 55ms/step - loss: 0.2221 - acc: 0.9097 - val_loss: 0.2383 - val_acc: 0.9042\n",
      "Epoch 53/100\n",
      "260/260 [==============================] - 14s 55ms/step - loss: 0.2202 - acc: 0.9110 - val_loss: 0.2351 - val_acc: 0.9037\n",
      "Epoch 54/100\n",
      "260/260 [==============================] - 14s 54ms/step - loss: 0.2199 - acc: 0.9116 - val_loss: 0.2402 - val_acc: 0.9007\n",
      "Epoch 55/100\n",
      "260/260 [==============================] - 14s 55ms/step - loss: 0.2189 - acc: 0.9114 - val_loss: 0.2428 - val_acc: 0.9024\n",
      "Epoch 56/100\n",
      "260/260 [==============================] - 14s 55ms/step - loss: 0.2188 - acc: 0.9115 - val_loss: 0.2516 - val_acc: 0.9019\n",
      "Epoch 57/100\n",
      "260/260 [==============================] - 14s 54ms/step - loss: 0.2161 - acc: 0.9120 - val_loss: 0.2408 - val_acc: 0.9019\n",
      "Epoch 58/100\n",
      "260/260 [==============================] - 14s 55ms/step - loss: 0.2157 - acc: 0.9130 - val_loss: 0.2387 - val_acc: 0.9033\n",
      "Epoch 59/100\n",
      "260/260 [==============================] - 14s 54ms/step - loss: 0.2161 - acc: 0.9128 - val_loss: 0.2368 - val_acc: 0.9038\n",
      "Epoch 60/100\n",
      "260/260 [==============================] - 14s 54ms/step - loss: 0.2140 - acc: 0.9137 - val_loss: 0.2407 - val_acc: 0.9025\n",
      "Epoch 61/100\n",
      "260/260 [==============================] - 14s 54ms/step - loss: 0.2126 - acc: 0.9138 - val_loss: 0.2436 - val_acc: 0.9013\n",
      "Epoch 62/100\n",
      "260/260 [==============================] - 14s 54ms/step - loss: 0.2130 - acc: 0.9142 - val_loss: 0.2369 - val_acc: 0.9070\n",
      "Epoch 63/100\n",
      "260/260 [==============================] - 14s 54ms/step - loss: 0.2110 - acc: 0.9148 - val_loss: 0.2353 - val_acc: 0.9045\n",
      "Epoch 64/100\n",
      "260/260 [==============================] - 14s 54ms/step - loss: 0.2128 - acc: 0.9147 - val_loss: 0.2349 - val_acc: 0.9048\n",
      "Epoch 65/100\n",
      "260/260 [==============================] - 14s 54ms/step - loss: 0.2111 - acc: 0.9148 - val_loss: 0.2314 - val_acc: 0.9087\n",
      "Epoch 66/100\n",
      "260/260 [==============================] - 14s 54ms/step - loss: 0.2097 - acc: 0.9154 - val_loss: 0.2341 - val_acc: 0.9059\n",
      "Epoch 67/100\n",
      "260/260 [==============================] - 14s 54ms/step - loss: 0.2081 - acc: 0.9160 - val_loss: 0.2366 - val_acc: 0.9064\n",
      "Epoch 68/100\n",
      "260/260 [==============================] - 14s 54ms/step - loss: 0.2074 - acc: 0.9166 - val_loss: 0.2337 - val_acc: 0.9060\n",
      "Epoch 69/100\n",
      "260/260 [==============================] - 14s 55ms/step - loss: 0.2071 - acc: 0.9166 - val_loss: 0.2345 - val_acc: 0.9065\n",
      "Epoch 70/100\n",
      "260/260 [==============================] - 14s 54ms/step - loss: 0.2084 - acc: 0.9164 - val_loss: 0.2382 - val_acc: 0.9078\n",
      "Epoch 71/100\n",
      "260/260 [==============================] - 14s 54ms/step - loss: 0.2057 - acc: 0.9169 - val_loss: 0.2360 - val_acc: 0.9070\n",
      "Epoch 72/100\n",
      "260/260 [==============================] - 14s 54ms/step - loss: 0.2049 - acc: 0.9175 - val_loss: 0.2354 - val_acc: 0.9060\n",
      "Epoch 73/100\n",
      "260/260 [==============================] - 14s 54ms/step - loss: 0.2037 - acc: 0.9181 - val_loss: 0.2334 - val_acc: 0.9060\n",
      "Epoch 74/100\n",
      "260/260 [==============================] - 14s 54ms/step - loss: 0.2027 - acc: 0.9185 - val_loss: 0.2294 - val_acc: 0.9082\n",
      "Epoch 75/100\n",
      "260/260 [==============================] - 14s 54ms/step - loss: 0.2016 - acc: 0.9187 - val_loss: 0.2356 - val_acc: 0.9053\n",
      "Epoch 76/100\n",
      "260/260 [==============================] - 14s 54ms/step - loss: 0.2010 - acc: 0.9195 - val_loss: 0.2366 - val_acc: 0.9093\n",
      "Epoch 77/100\n",
      "260/260 [==============================] - 14s 55ms/step - loss: 0.2006 - acc: 0.9189 - val_loss: 0.2384 - val_acc: 0.9053\n",
      "Epoch 78/100\n",
      "260/260 [==============================] - 14s 54ms/step - loss: 0.1997 - acc: 0.9201 - val_loss: 0.2349 - val_acc: 0.9073\n",
      "Epoch 79/100\n",
      "260/260 [==============================] - 14s 54ms/step - loss: 0.1990 - acc: 0.9200 - val_loss: 0.2356 - val_acc: 0.9076\n",
      "Epoch 80/100\n",
      "260/260 [==============================] - 14s 54ms/step - loss: 0.1980 - acc: 0.9201 - val_loss: 0.2388 - val_acc: 0.9062\n",
      "Epoch 81/100\n",
      "260/260 [==============================] - 14s 54ms/step - loss: 0.1972 - acc: 0.9206 - val_loss: 0.2425 - val_acc: 0.9045\n",
      "Epoch 82/100\n",
      "260/260 [==============================] - 14s 54ms/step - loss: 0.1962 - acc: 0.9210 - val_loss: 0.2394 - val_acc: 0.9046\n",
      "Epoch 83/100\n",
      "260/260 [==============================] - 14s 54ms/step - loss: 0.1965 - acc: 0.9213 - val_loss: 0.2394 - val_acc: 0.9061\n",
      "Epoch 84/100\n",
      "260/260 [==============================] - 14s 54ms/step - loss: 0.1956 - acc: 0.9210 - val_loss: 0.2380 - val_acc: 0.9076\n",
      "Epoch 85/100\n",
      "260/260 [==============================] - 14s 54ms/step - loss: 0.1956 - acc: 0.9210 - val_loss: 0.2415 - val_acc: 0.9050\n",
      "Epoch 86/100\n",
      "260/260 [==============================] - 14s 54ms/step - loss: 0.1950 - acc: 0.9217 - val_loss: 0.2374 - val_acc: 0.9070\n",
      "Epoch 87/100\n",
      "260/260 [==============================] - 14s 54ms/step - loss: 0.1927 - acc: 0.9223 - val_loss: 0.2381 - val_acc: 0.9072\n",
      "Epoch 88/100\n",
      "260/260 [==============================] - 14s 54ms/step - loss: 0.1924 - acc: 0.9230 - val_loss: 0.2421 - val_acc: 0.9069\n",
      "Epoch 89/100\n",
      "260/260 [==============================] - 14s 54ms/step - loss: 0.1927 - acc: 0.9224 - val_loss: 0.2435 - val_acc: 0.9040\n",
      "Epoch 90/100\n",
      "260/260 [==============================] - 14s 54ms/step - loss: 0.1903 - acc: 0.9236 - val_loss: 0.2367 - val_acc: 0.9090\n",
      "Epoch 91/100\n",
      "260/260 [==============================] - 14s 54ms/step - loss: 0.1919 - acc: 0.9225 - val_loss: 0.2420 - val_acc: 0.9094\n",
      "Epoch 92/100\n",
      "260/260 [==============================] - 14s 54ms/step - loss: 0.1887 - acc: 0.9242 - val_loss: 0.2470 - val_acc: 0.9062\n",
      "Epoch 93/100\n",
      "260/260 [==============================] - 14s 55ms/step - loss: 0.1887 - acc: 0.9241 - val_loss: 0.2439 - val_acc: 0.9049\n",
      "Epoch 94/100\n",
      "260/260 [==============================] - 14s 54ms/step - loss: 0.1889 - acc: 0.9238 - val_loss: 0.2440 - val_acc: 0.9081\n",
      "Epoch 95/100\n",
      "260/260 [==============================] - 14s 54ms/step - loss: 0.1888 - acc: 0.9242 - val_loss: 0.2399 - val_acc: 0.9078\n",
      "Epoch 96/100\n",
      "260/260 [==============================] - 14s 54ms/step - loss: 0.1869 - acc: 0.9245 - val_loss: 0.2467 - val_acc: 0.9074\n",
      "Epoch 97/100\n",
      "260/260 [==============================] - 14s 54ms/step - loss: 0.1863 - acc: 0.9250 - val_loss: 0.2432 - val_acc: 0.9076\n",
      "Epoch 98/100\n",
      "260/260 [==============================] - 14s 54ms/step - loss: 0.1843 - acc: 0.9258 - val_loss: 0.2551 - val_acc: 0.9014\n",
      "Epoch 99/100\n",
      "260/260 [==============================] - 14s 54ms/step - loss: 0.1831 - acc: 0.9259 - val_loss: 0.2494 - val_acc: 0.9035\n",
      "Epoch 100/100\n",
      "260/260 [==============================] - 14s 54ms/step - loss: 0.1840 - acc: 0.9263 - val_loss: 0.2501 - val_acc: 0.9055\n"
     ]
    }
   ],
   "source": [
    "# train EFN model\n",
    "history_EFN_trial = efn.fit([z_train, p_train], Y_train,\n",
    "                  epochs=100,\n",
    "                  batch_size=500,\n",
    "                  validation_data=([z_val, p_val], Y_val),\n",
    "                  verbose=1)"
   ]
  },
  {
   "cell_type": "code",
   "execution_count": 67,
   "id": "0279cd99-5df9-4dff-85ac-61c708005785",
   "metadata": {},
   "outputs": [],
   "source": [
    "#pfn.save(modelpath+'pfn_v1.h5')\n",
    "#preds = pfn.predict(X_test, batch_size=1000)\n",
    "#pfn_fp, pfn_tp, threshs = roc_curve(Y_test[:,1], preds[:,1])\n",
    "# # get area under the ROC curve\n",
    "#auc = roc_auc_score(Y_test[:,1], preds[:,1])\n",
    "#print()\n",
    "#print('PFN AUC:', auc)\n",
    "#print()"
   ]
  },
  {
   "cell_type": "code",
   "execution_count": 141,
   "id": "5359f700-7eff-4716-b2b0-9241fdf79782",
   "metadata": {},
   "outputs": [],
   "source": [
    "efn.save(modelpath+'efn_v1.h5')"
   ]
  },
  {
   "cell_type": "code",
   "execution_count": 142,
   "id": "549238c9-edf3-4eb4-ae5b-6d5736f355a3",
   "metadata": {},
   "outputs": [],
   "source": [
    "preds_efn = efn.predict([z_test, p_test], batch_size=1000)"
   ]
  },
  {
   "cell_type": "code",
   "execution_count": 146,
   "id": "57c78d0d-475a-41ff-9944-81101a891476",
   "metadata": {},
   "outputs": [],
   "source": [
    "# get ROC curve\n",
    "efn_fp, efn_tp, threshs_efn = roc_curve(Y_test[:,1], preds_efn[:,1])"
   ]
  },
  {
   "cell_type": "code",
   "execution_count": 144,
   "id": "de280562-872d-498f-ac14-a274b7a3d3ab",
   "metadata": {},
   "outputs": [
    {
     "name": "stdout",
     "output_type": "stream",
     "text": [
      "\n",
      "EFN AUC: 0.9651934433745599\n",
      "\n"
     ]
    }
   ],
   "source": [
    "# # get area under the ROC curve\n",
    "auc_efn = roc_auc_score(Y_test[:,1], preds_efn[:,1])\n",
    "print()\n",
    "print('EFN AUC:', auc_efn)\n",
    "print()"
   ]
  },
  {
   "cell_type": "markdown",
   "id": "59b43ec4-0a1a-4791-98a3-fd76478ace6f",
   "metadata": {},
   "source": [
    "# PLOT"
   ]
  },
  {
   "cell_type": "code",
   "execution_count": 149,
   "id": "ad133214-6164-408a-b2b1-183d652f8f98",
   "metadata": {},
   "outputs": [
    {
     "data": {
      "image/png": "[encoded data removed]",
      "text/plain": [
       "<Figure size 360x360 with 1 Axes>"
      ]
     },
     "metadata": {},
     "output_type": "display_data"
    }
   ],
   "source": [
    "# some nicer plot settings \n",
    "plt.rcParams['font.family'] = 'serif'\n",
    "plt.rcParams['figure.autolayout'] = True\n",
    "\n",
    "fig, axes = plt.subplots(1, 1, figsize=(5,5))\n",
    "\n",
    "######################### ROC Curve Plot #########################\n",
    "\n",
    "\n",
    "# plot the ROC curves\n",
    "axes.plot(pfn_tp, 1-pfn_fp, '-', color='black', label='PFN')\n",
    "axes.plot(efn_tp, 1-efn_fp, '-', color='blue', label='EFN')\n",
    "\n",
    "# axes labels\n",
    "axes.set_xlabel('$\\pi^{+}$ Efficiency')\n",
    "axes.set_ylabel('$\\pi^{0}$ Rejection')\n",
    "\n",
    "# axes limits\n",
    "axes.set_xlim(0.5, 1)\n",
    "axes.set_ylim(0.5, 1)\n",
    "\n",
    "# make legend and show plot\n",
    "axes.legend(loc='lower left', frameon=False)\n",
    "\n",
    "plt.show()"
   ]
  },
  {
   "cell_type": "markdown",
   "id": "376cb29a-dd6c-43f0-824c-845bf74be923",
   "metadata": {},
   "source": [
    "## EMProb"
   ]
  },
  {
   "cell_type": "code",
   "execution_count": 51,
   "id": "07f4e244-64f2-44eb-af86-35705b221700",
   "metadata": {},
   "outputs": [],
   "source": [
    "X_pipm = np.stack((cell_e_norm_pipm[selection_pipm], cell_eta_norm_pipm[selection_pipm], cell_phi_norm_pipm[selection_pipm], cell_samp_norm_pipm[selection_pipm]), axis = 2)\n",
    "X_pi0  = np.stack((cell_e_norm_pi0[selection_pi0], cell_eta_norm_pi0[selection_pi0], cell_phi_norm_pi0[selection_pi0], cell_samp_norm_pi0[selection_pi0]), axis = 2)"
   ]
  },
  {
   "cell_type": "code",
   "execution_count": 53,
   "id": "317a3fef-905b-4923-96ea-ce438b66807e",
   "metadata": {},
   "outputs": [],
   "source": [
    "X = np.concatenate((X_pipm[:90000], X_pi0[:90000]))"
   ]
  },
  {
   "cell_type": "code",
   "execution_count": 152,
   "id": "f948fafc-f831-4422-8b4e-5b4235e6f0c8",
   "metadata": {},
   "outputs": [
    {
     "data": {
      "text/plain": [
       "['cluster_E',\n",
       " 'cluster_E_LCCalib',\n",
       " 'cluster_Pt',\n",
       " 'cluster_Eta',\n",
       " 'cluster_Phi',\n",
       " 'cluster_nCells',\n",
       " 'cluster_ENG_CALIB_TOT',\n",
       " 'cluster_ENG_CALIB_OUT_T',\n",
       " 'cluster_ENG_CALIB_DEAD_TOT',\n",
       " 'cluster_EM_PROBABILITY',\n",
       " 'cluster_HAD_WEIGHT',\n",
       " 'cluster_OOC_WEIGHT',\n",
       " 'cluster_DM_WEIGHT',\n",
       " 'cluster_CENTER_MAG',\n",
       " 'cluster_FIRST_ENG_DENS',\n",
       " 'cluster_CENTER_LAMBDA',\n",
       " 'cluster_ISOLATION',\n",
       " 'cluster_ENERGY_DigiHSTruth',\n",
       " 'cluster_cell_ID',\n",
       " 'cluster_cell_E',\n",
       " 'cluster_hitsTruthIndex',\n",
       " 'cluster_hitsTruthE']"
      ]
     },
     "execution_count": 152,
     "metadata": {},
     "output_type": "execute_result"
    }
   ],
   "source": [
    "tree_pipm.keys(filter_name=\"*cluster*\")"
   ]
  },
  {
   "cell_type": "markdown",
   "id": "341eebab-cff7-441b-89e9-c78d767c1381",
   "metadata": {},
   "source": [
    "* loadVectorBranchFlat(branchName, tree): \n",
    "\n",
    " converts to numpy a flatten array for the desired branch (no event index). But in this case is not padded"
   ]
  },
  {
   "cell_type": "code",
   "execution_count": 153,
   "id": "f28a53d6-6840-4833-972b-5e929abc8b40",
   "metadata": {},
   "outputs": [],
   "source": [
    "clus_EMProb_pipm = gu.loadVectorBranchFlat('cluster_EM_PROBABILITY', tree_pipm)\n",
    "\n",
    "clus_EMProb_pi0 = gu.loadVectorBranchFlat('cluster_EM_PROBABILITY', tree_pi0)"
   ]
  },
  {
   "cell_type": "code",
   "execution_count": 158,
   "id": "530b8874-0ea6-417a-925e-02715ee27eaa",
   "metadata": {},
   "outputs": [
    {
     "name": "stdout",
     "output_type": "stream",
     "text": [
      "number of pi0 clusters:  421481\n"
     ]
    }
   ],
   "source": [
    "print(\"number of pi0 clusters: \",len(clus_EMProb_pi0))"
   ]
  },
  {
   "cell_type": "code",
   "execution_count": 160,
   "id": "d558a879-6d2a-4661-95f9-f1621885ca39",
   "metadata": {},
   "outputs": [],
   "source": [
    "clus_EMProb_pipm_sel = clus_EMProb_pipm[selection_pipm]\n",
    "clus_EMProb_pi0_sel = clus_EMProb_pi0[selection_pi0]"
   ]
  },
  {
   "cell_type": "code",
   "execution_count": 161,
   "id": "df9d08d6-6738-4fc7-85c9-e1e15a5d350c",
   "metadata": {},
   "outputs": [],
   "source": [
    "scores_EM_PROBABILITY = np.concatenate((clus_EMProb_pipm_sel[:90000],clus_EMProb_pi0_sel[:90000]))"
   ]
  },
  {
   "cell_type": "code",
   "execution_count": 166,
   "id": "3a12f9e4-5c66-4861-9ad0-14fdfadd2936",
   "metadata": {},
   "outputs": [
    {
     "data": {
      "text/plain": [
       "180000"
      ]
     },
     "execution_count": 166,
     "metadata": {},
     "output_type": "execute_result"
    }
   ],
   "source": [
    "len(scores_EM_PROBABILITY)\n",
    "# len(X) == len(Y)"
   ]
  },
  {
   "cell_type": "code",
   "execution_count": 167,
   "id": "ca53362f-097c-43de-883b-4177b5dc5ffc",
   "metadata": {},
   "outputs": [
    {
     "data": {
      "image/png": "[encoded data removed]",
      "text/plain": [
       "<Figure size 360x360 with 1 Axes>"
      ]
     },
     "metadata": {},
     "output_type": "display_data"
    }
   ],
   "source": [
    "# some nicer plot settings \n",
    "plt.rcParams['font.family'] = 'serif'\n",
    "plt.rcParams['figure.autolayout'] = True\n",
    "\n",
    "fig, axes = plt.subplots(1, 1, figsize=(5,5))\n",
    "\n",
    "######################### ROC Curve Plot #########################\n",
    "\n",
    "\n",
    "# plot the ROC curves\n",
    "axes.plot(pfn_tp, 1-pfn_fp, '-', color='black', label='PFN')\n",
    "axes.plot(efn_tp, 1-efn_fp, '-', color='blue', label='EFN')\n",
    "\n",
    "# axes labels\n",
    "axes.set_xlabel('$\\pi^{+}$ Efficiency')\n",
    "axes.set_ylabel('$\\pi^{0}$ Rejection')\n",
    "\n",
    "# axes limits\n",
    "axes.set_xlim(0.5, 1)\n",
    "axes.set_ylim(0.5, 1)\n",
    "\n",
    "# make legend and show plot\n",
    "axes.legend(loc='lower left', frameon=False)\n",
    "\n",
    "plt.show()"
   ]
  },
  {
   "cell_type": "markdown",
   "id": "cb7bb1f7-2a37-4ed9-9fee-629eaf50a330",
   "metadata": {},
   "source": [
    "## Playing"
   ]
  },
  {
   "cell_type": "code",
   "execution_count": 118,
   "id": "ed9e76cd-4c22-41f4-b869-b444f426763d",
   "metadata": {},
   "outputs": [
    {
     "data": {
      "text/plain": [
       "array([[ 4.53063501e+00,  4.29472327e-03, -1.81615353e-03,\n",
       "         2.00000000e-01],\n",
       "       [ 1.74413206e+00,  4.29523364e-03, -2.63937712e-02,\n",
       "         2.00000000e-01],\n",
       "       [ 3.16158280e+00,  4.29426134e-03,  2.27617025e-02,\n",
       "         2.00000000e-01],\n",
       "       ...,\n",
       "       [ 0.00000000e+00,  0.00000000e+00,  0.00000000e+00,\n",
       "         0.00000000e+00],\n",
       "       [ 0.00000000e+00,  0.00000000e+00,  0.00000000e+00,\n",
       "         0.00000000e+00],\n",
       "       [ 0.00000000e+00,  0.00000000e+00,  0.00000000e+00,\n",
       "         0.00000000e+00]])"
      ]
     },
     "execution_count": 118,
     "metadata": {},
     "output_type": "execute_result"
    }
   ],
   "source": [
    "X[0]"
   ]
  },
  {
   "cell_type": "code",
   "execution_count": 121,
   "id": "b00e47b9-57dc-44fd-a3e2-7973159e3364",
   "metadata": {},
   "outputs": [
    {
     "data": {
      "text/plain": [
       "(180000, 2000, 4)"
      ]
     },
     "execution_count": 121,
     "metadata": {},
     "output_type": "execute_result"
    }
   ],
   "source": [
    "X.shape"
   ]
  },
  {
   "cell_type": "code",
   "execution_count": 129,
   "id": "5f1cf55d-0c7a-4a2f-b779-1ce6133b12d1",
   "metadata": {},
   "outputs": [
    {
     "data": {
      "text/plain": [
       "(180000, 2000)"
      ]
     },
     "execution_count": 129,
     "metadata": {},
     "output_type": "execute_result"
    }
   ],
   "source": [
    "# The energy part\n",
    "# [:,:,0] -> [firstrow:lastrow cluster,firstrow:lastrow cells,0 column]\n",
    "X[:,:,0].shape"
   ]
  },
  {
   "cell_type": "code",
   "execution_count": 130,
   "id": "13b1b01f-0dd1-491e-96e7-3f32cb0da3e6",
   "metadata": {},
   "outputs": [
    {
     "data": {
      "text/plain": [
       "0.0"
      ]
     },
     "execution_count": 130,
     "metadata": {},
     "output_type": "execute_result"
    }
   ],
   "source": [
    "#last Element of the energies\n",
    "X[179999,1999,0]"
   ]
  },
  {
   "cell_type": "code",
   "execution_count": 132,
   "id": "0be7422c-3040-4417-8c79-b70518bb51ba",
   "metadata": {},
   "outputs": [
    {
     "data": {
      "text/plain": [
       "array([[[ 4.29472327e-03, -1.81615353e-03,  2.00000000e-01],\n",
       "        [ 4.29523364e-03, -2.63937712e-02,  2.00000000e-01],\n",
       "        [ 4.29426134e-03,  2.27617025e-02,  2.00000000e-01],\n",
       "        ...,\n",
       "        [ 0.00000000e+00,  0.00000000e+00,  0.00000000e+00],\n",
       "        [ 0.00000000e+00,  0.00000000e+00,  0.00000000e+00],\n",
       "        [ 0.00000000e+00,  0.00000000e+00,  0.00000000e+00]],\n",
       "\n",
       "       [[ 1.01725679e-01, -1.66788459e-01,  1.20000000e+00],\n",
       "        [ 1.01725679e-01, -2.64963150e-01,  1.20000000e+00],\n",
       "        [ 1.01725679e-01, -6.86136484e-02,  1.20000000e+00],\n",
       "        ...,\n",
       "        [ 0.00000000e+00,  0.00000000e+00,  0.00000000e+00],\n",
       "        [ 0.00000000e+00,  0.00000000e+00,  0.00000000e+00],\n",
       "        [ 0.00000000e+00,  0.00000000e+00,  0.00000000e+00]],\n",
       "\n",
       "       [[-5.15173003e-02,  1.66359782e-01,  1.20000000e+00],\n",
       "        [-5.15173003e-02,  6.81849718e-02,  1.20000000e+00],\n",
       "        [-5.15173003e-02,  2.64534593e-01,  1.20000000e+00],\n",
       "        ...,\n",
       "        [ 0.00000000e+00,  0.00000000e+00,  0.00000000e+00],\n",
       "        [ 0.00000000e+00,  0.00000000e+00,  0.00000000e+00],\n",
       "        [ 0.00000000e+00,  0.00000000e+00,  0.00000000e+00]],\n",
       "\n",
       "       ...,\n",
       "\n",
       "       [[ 1.77291036e-03, -1.00340843e-02,  2.00000000e-01],\n",
       "        [ 1.77794695e-03, -3.45640182e-02,  2.00000000e-01],\n",
       "        [ 1.76791102e-03,  1.44941807e-02,  2.00000000e-01],\n",
       "        ...,\n",
       "        [ 0.00000000e+00,  0.00000000e+00,  0.00000000e+00],\n",
       "        [ 0.00000000e+00,  0.00000000e+00,  0.00000000e+00],\n",
       "        [ 0.00000000e+00,  0.00000000e+00,  0.00000000e+00]],\n",
       "\n",
       "       [[ 4.76050377e-03, -4.33915854e-03,  2.00000000e-01],\n",
       "        [ 4.74658608e-03, -2.89298296e-02,  2.00000000e-01],\n",
       "        [ 4.77400422e-03,  2.02523470e-02,  2.00000000e-01],\n",
       "        ...,\n",
       "        [ 0.00000000e+00,  0.00000000e+00,  0.00000000e+00],\n",
       "        [ 0.00000000e+00,  0.00000000e+00,  0.00000000e+00],\n",
       "        [ 0.00000000e+00,  0.00000000e+00,  0.00000000e+00]],\n",
       "\n",
       "       [[-1.02344900e-04,  3.79610062e-03,  2.00000000e-01],\n",
       "        [-1.02655962e-04, -2.07674503e-02,  2.00000000e-01],\n",
       "        [-1.02029182e-04,  2.83591747e-02,  2.00000000e-01],\n",
       "        ...,\n",
       "        [ 0.00000000e+00,  0.00000000e+00,  0.00000000e+00],\n",
       "        [ 0.00000000e+00,  0.00000000e+00,  0.00000000e+00],\n",
       "        [ 0.00000000e+00,  0.00000000e+00,  0.00000000e+00]]])"
      ]
     },
     "execution_count": 132,
     "metadata": {},
     "output_type": "execute_result"
    }
   ],
   "source": [
    "# The angular part + sampling ID\n",
    "# 1: -> From entry 1 on\n",
    "X[:,:,1:]"
   ]
  },
  {
   "cell_type": "code",
   "execution_count": null,
   "id": "0ab9db64-3915-41e1-8493-792e1f986bf2",
   "metadata": {},
   "outputs": [],
   "source": []
  }
 ],
 "metadata": {
  "kernelspec": {
   "display_name": "Python 3 (ipykernel)",
   "language": "python",
   "name": "python3"
  },
  "language_info": {
   "codemirror_mode": {
    "name": "ipython",
    "version": 3
   },
   "file_extension": ".py",
   "mimetype": "text/x-python",
   "name": "python",
   "nbconvert_exporter": "python",
   "pygments_lexer": "ipython3",
   "version": "3.8.10"
  }
 },
 "nbformat": 4,
 "nbformat_minor": 5
}
