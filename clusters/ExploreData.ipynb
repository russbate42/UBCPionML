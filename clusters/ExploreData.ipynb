{
 "cells": [
  {
   "cell_type": "code",
   "execution_count": 2,
   "id": "0a470d06",
   "metadata": {},
   "outputs": [
    {
     "name": "stdout",
     "output_type": "stream",
     "text": [
      "1.5.1\n"
     ]
    }
   ],
   "source": [
    "import numpy as np\n",
    "import matplotlib.pyplot as plt\n",
    "from matplotlib import cm\n",
    "from matplotlib.colors import Normalize\n",
    "import uproot as ur\n",
    "import awkward as ak\n",
    "import time as t\n",
    "import copy\n",
    "print(ak.__version__)"
   ]
  },
  {
   "cell_type": "code",
   "execution_count": 3,
   "id": "9cb6426d",
   "metadata": {},
   "outputs": [],
   "source": [
    "cell_meta = {\n",
    "    'EMB1': {\n",
    "        'cell_size_phi': 0.098,\n",
    "        'cell_size_eta': 0.003125,\n",
    "        'len_phi': 4,\n",
    "        'len_eta': 128\n",
    "    },\n",
    "    'EMB2': {\n",
    "        'cell_size_phi': 0.0245,\n",
    "        'cell_size_eta': 0.025,\n",
    "        'len_phi': 16,\n",
    "        'len_eta': 16\n",
    "    },\n",
    "    'EMB3': {\n",
    "        'cell_size_phi': 0.0245,\n",
    "        'cell_size_eta': 0.05,\n",
    "        'len_phi': 16,\n",
    "        'len_eta': 8\n",
    "    },\n",
    "    'TileBar0': {\n",
    "        'cell_size_phi': 0.1,\n",
    "        'cell_size_eta': 0.1,\n",
    "        'len_phi': 4,\n",
    "        'len_eta': 4\n",
    "    },\n",
    "    'TileBar1': {\n",
    "        'cell_size_phi': 0.1,\n",
    "        'cell_size_eta': 0.1,\n",
    "        'len_phi': 4,\n",
    "        'len_eta': 4\n",
    "    },\n",
    "    'TileBar2': {\n",
    "        'cell_size_phi': 0.1,\n",
    "        'cell_size_eta': 0.2,\n",
    "        'len_phi': 4,\n",
    "        'len_eta': 2\n",
    "    },\n",
    "}\n",
    "\n",
    "# note since TileBar2 does not fit nicely in eta granularity to <.7, we use up to .8\n",
    "cell_granularity = {\n",
    "    'EMB1': {\n",
    "        'cell_size_phi': 0.098,\n",
    "        'cell_size_eta': 0.003125,\n",
    "        'nPhi': 32,\n",
    "        'nEta': 448\n",
    "    },\n",
    "    'EMB2': {\n",
    "        'cell_size_phi': 0.0245,\n",
    "        'cell_size_eta': 0.025,\n",
    "        'nPhi': 128,\n",
    "        'nEta': 56\n",
    "    },\n",
    "    'EMB3': {\n",
    "        'cell_size_phi': 0.0245,\n",
    "        'cell_size_eta': 0.05,\n",
    "        'nPhi': 128,\n",
    "        'nEta': 28\n",
    "    },\n",
    "    'TileBar0': {\n",
    "        'cell_size_phi': 0.1,\n",
    "        'cell_size_eta': 0.1,\n",
    "        'nPhi': 32,\n",
    "        'nEta': 14\n",
    "    },\n",
    "    'TileBar1': {\n",
    "        'cell_size_phi': 0.1,\n",
    "        'cell_size_eta': 0.1,\n",
    "        'nPhi': 32,\n",
    "        'nEta': 14\n",
    "    },\n",
    "    'TileBar2': {\n",
    "        'cell_size_phi': 0.1,\n",
    "        'cell_size_eta': 0.2,\n",
    "        'nPhi': 32,\n",
    "        'nEta': 8\n",
    "    }, \n",
    "}"
   ]
  },
  {
   "cell_type": "code",
   "execution_count": 4,
   "id": "39dcb469",
   "metadata": {},
   "outputs": [],
   "source": [
    "def ak_to_np(_ak_arr):\n",
    "    ''' Takes a nested array where some of the arrays are empty and returns\n",
    "    a 1-D array with zeros where there are empty arrays. '''\n",
    "    _np_arr = np.zeros(len(_ak_arr))\n",
    "    for i in range(len(_ak_arr)):\n",
    "        if _ak_arr[i].size > 0:\n",
    "            _np_arr[i] = _ak_arr[i][0]\n",
    "    return _np_arr\n",
    "\n",
    "def empty_to_flag(_rawArr, _flag):\n",
    "    ''' Takes a nested array where some of the arrays are empty and returns\n",
    "    a 1-D array with _flag where there are empty arrays. '''\n",
    "    retArr = np.empty(len(_rawArr))\n",
    "    for i in range(len(_rawArr)):\n",
    "        if _rawArr[i].size > 0:\n",
    "            retArr[i] = _rawArr[i][0]\n",
    "        else:\n",
    "            retArr[i] = _flag\n",
    "    return retArr\n",
    "\n",
    "def DeltaR(_coord1, _coord2):\n",
    "    _eta1,_phi1 = _coord1\n",
    "    _eta2, _phi2 = _coord2\n",
    "    return np.sqrt((_eta1-_eta2)**2 + (_phi1-_phi2)**2)\n",
    "\n",
    "def find_unique(_arr):\n",
    "    ''' finds all the unique elements in a 1-D array '''\n",
    "    _unique = []\n",
    "    for x in _arr:\n",
    "        if not np.isin(x, _unique):\n",
    "            _unique.append(x)\n",
    "    return np.array(_unique)\n",
    "\n",
    "def concat_array_list(_list):\n",
    "    if _list:\n",
    "        _N = len(_list)\n",
    "        _n = len(_list[0])\n",
    "        ret_arr = np.empty((_N,_n))\n",
    "        for i in range(_N):\n",
    "            ret_arr[i,:] = _list[i]\n",
    "    else:\n",
    "        ret_arr = np.array([])\n",
    "    return ret_arr\n",
    "\n",
    "def track_coords(_idx):\n",
    "    ''' Returns a list of numpy arrays which contain the track information in the order of EMB1->TileBar2 '''\n",
    "    \n",
    "    _num_tracks = nTrack[_idx]\n",
    "    \n",
    "    # populate list of numpy arrays with track information in a block \n",
    "    _track_list = []\n",
    "    for i in range(_num_tracks):\n",
    "        \n",
    "        _coords = np.empty((6,2))\n",
    "\n",
    "        _coords[0,0] = ak_trackEta_EMB1[_idx][\"trackEta_EMB1\"][i]\n",
    "        _coords[0,1] = ak_trackPhi_EMB1[_idx][\"trackPhi_EMB1\"][i]\n",
    "        _coords[1,0] = ak_trackEta_EMB2[_idx][\"trackEta_EMB2\"][i]\n",
    "        _coords[1,1] = ak_trackPhi_EMB2[_idx][\"trackPhi_EMB2\"][i]\n",
    "        _coords[2,0] = ak_trackEta_EMB3[_idx][\"trackEta_EMB3\"][i]\n",
    "        _coords[2,1] = ak_trackPhi_EMB3[_idx][\"trackPhi_EMB3\"][i]\n",
    "    \n",
    "        _coords[3,0] = ak_trackEta_TileBar0[_idx][\"trackEta_TileBar0\"][i]\n",
    "        _coords[3,1] = ak_trackPhi_TileBar0[_idx][\"trackPhi_TileBar0\"][i]\n",
    "        _coords[4,0] = ak_trackEta_TileBar1[_idx][\"trackEta_TileBar1\"][i]\n",
    "        _coords[4,1] = ak_trackPhi_TileBar1[_idx][\"trackPhi_TileBar1\"][i]\n",
    "        _coords[5,0] = ak_trackEta_TileBar2[_idx][\"trackEta_TileBar2\"][i]\n",
    "        _coords[5,1] = ak_trackPhi_TileBar2[_idx][\"trackPhi_TileBar2\"][i]\n",
    "        \n",
    "        _track_list.append(_coords)\n",
    "    \n",
    "    return _track_list\n",
    "\n",
    "def track_av(_arr):\n",
    "    ''' Expects a (6,2) np array for the barrel layers in order of eta, phi '''\n",
    "    _av_Eta = np.sum(_arr[:,0])/6\n",
    "    _av_Phi = np.sum(_arr[:,1])/6\n",
    "    return np.array([_av_Eta, _av_Phi])\n",
    "\n",
    "def find_sampling_events_vectorized(_event_dict, _geo_dict, _filter):\n",
    "    ''' Inputs:\n",
    "    _ak_cluster_cell_ID: awkward array with nested arrays of all the cell geometry IDs\n",
    "    _cellGeoID: list of the cell IDs to find the index from, expects numpy format\n",
    "    _cellGeoSampling: same as _cellGeoID but the sampling layer\n",
    "    _filter: the numbered index of calorimetry layers\n",
    "    Returns:\n",
    "    an array of event indices with clusters containing barrel events\n",
    "    '''\n",
    "\n",
    "    # list of event indices with one or more clusters in EMB1-3 or TileBar0-2\n",
    "    _barrel_events = []\n",
    "    \n",
    "    _ak_cluster_cell_ID = _event_dict['cluster_cell_ID']\n",
    "    _cell_geo_ID = _geo_dict['cell_geo_ID']\n",
    "    _geo_sampling = _geo_dict['cell_geo_sampling']\n",
    "    \n",
    "    for _evt_idx in range(len(_ak_cluster_cell_ID)):\n",
    "        _cluster_cell_IDs = _ak_cluster_cell_ID[_evt_idx]\n",
    "\n",
    "        for j in range(len(_cluster_cell_IDs)):\n",
    "            _geo_idx = find_index_1D(_cluster_cell_IDs[j].to_numpy(), _cell_geo_ID)\n",
    "            _sampling_layers = _geo_sampling[_geo_idx]\n",
    "            \n",
    "            # if any of these are in the filter\n",
    "            if np.any(np.isin(_filter, _sampling_layers)):\n",
    "                _barrel_events.append(_evt_idx)\n",
    "                # break to next event\n",
    "                break\n",
    "\n",
    "    return np.array(_barrel_events)"
   ]
  },
  {
   "cell_type": "markdown",
   "id": "18f5f213",
   "metadata": {},
   "source": [
    "#### Working with function to get the x,y,z coordinates from eta phi rPerp"
   ]
  },
  {
   "cell_type": "markdown",
   "id": "f654c528",
   "metadata": {},
   "source": [
    "#### x,y,z cell position\n",
    "cell_x = rperp*np.cos(cell_phi)\n",
    "cell_y = rperp*np.sin(cell_phi)\n",
    "cell_z = rperp/np.tan(cell_theta)\n",
    "\n",
    "cell_positions = np.column_stack([cell_x,cell_y,cell_z])"
   ]
  },
  {
   "cell_type": "code",
   "execution_count": 5,
   "id": "99490d52",
   "metadata": {},
   "outputs": [],
   "source": [
    "events = '/fast_scratch/atlas_images/v01-45/pipm/'"
   ]
  },
  {
   "cell_type": "code",
   "execution_count": 6,
   "id": "d9be53e3",
   "metadata": {
    "scrolled": true
   },
   "outputs": [
    {
     "data": {
      "text/plain": [
       "['EventTree;1', 'CellGeo;1']"
      ]
     },
     "execution_count": 6,
     "metadata": {},
     "output_type": "execute_result"
    }
   ],
   "source": [
    "event_502 = ur.open(events+'user.angerami.24559744.OutputStream._000502.root')\n",
    "my_event=event_502\n",
    "event_502.keys()"
   ]
  },
  {
   "cell_type": "markdown",
   "id": "f23196ba",
   "metadata": {},
   "source": [
    "## Event Tree"
   ]
  },
  {
   "cell_type": "code",
   "execution_count": 7,
   "id": "d36c331f",
   "metadata": {
    "scrolled": true,
    "tags": []
   },
   "outputs": [
    {
     "name": "stdout",
     "output_type": "stream",
     "text": [
      "name                 | typename                 | interpretation                                              \n",
      "---------------------+--------------------------+-------------------------------------------------------------\n",
      "runNumber            | int32_t                  | AsDtype('>i4')\n",
      "eventNumber          | int64_t                  | AsDtype('>i8')\n",
      "lumiBlock            | int32_t                  | AsDtype('>i4')\n",
      "coreFlags            | uint32_t                 | AsDtype('>u4')\n",
      "mcEventNumber        | int32_t                  | AsDtype('>i4')\n",
      "mcChannelNumber      | int32_t                  | AsDtype('>i4')\n",
      "mcEventWeight        | float                    | AsDtype('>f4')\n",
      "nTruthPart           | int32_t                  | AsDtype('>i4')\n",
      "G4PreCalo_n_EM       | int32_t                  | AsDtype('>i4')\n",
      "G4PreCalo_E_EM       | float                    | AsDtype('>f4')\n",
      "G4PreCalo_n_Had      | int32_t                  | AsDtype('>i4')\n",
      "G4PreCalo_E_Had      | float                    | AsDtype('>f4')\n",
      "truthVertexX         | float                    | AsDtype('>f4')\n",
      "truthVertexY         | float                    | AsDtype('>f4')\n",
      "truthVertexZ         | float                    | AsDtype('>f4')\n",
      "truthPartPdgId       | std::vector<int32_t>     | AsJagged(AsDtype('>i4'), header_bytes=10)\n",
      "truthPartStatus      | std::vector<int32_t>     | AsJagged(AsDtype('>i4'), header_bytes=10)\n",
      "truthPartBarcode     | std::vector<int32_t>     | AsJagged(AsDtype('>i4'), header_bytes=10)\n",
      "truthPartPt          | std::vector<float>       | AsJagged(AsDtype('>f4'), header_bytes=10)\n",
      "truthPartE           | std::vector<float>       | AsJagged(AsDtype('>f4'), header_bytes=10)\n",
      "truthPartMass        | std::vector<float>       | AsJagged(AsDtype('>f4'), header_bytes=10)\n",
      "truthPartEta         | std::vector<float>       | AsJagged(AsDtype('>f4'), header_bytes=10)\n",
      "truthPartPhi         | std::vector<float>       | AsJagged(AsDtype('>f4'), header_bytes=10)\n",
      "nTrack               | int32_t                  | AsDtype('>i4')\n",
      "trackPt              | std::vector<float>       | AsJagged(AsDtype('>f4'), header_bytes=10)\n",
      "trackP               | std::vector<float>       | AsJagged(AsDtype('>f4'), header_bytes=10)\n",
      "trackMass            | std::vector<float>       | AsJagged(AsDtype('>f4'), header_bytes=10)\n",
      "trackEta             | std::vector<float>       | AsJagged(AsDtype('>f4'), header_bytes=10)\n",
      "trackPhi             | std::vector<float>       | AsJagged(AsDtype('>f4'), header_bytes=10)\n",
      "trackNumberOfPixe... | std::vector<int32_t>     | AsJagged(AsDtype('>i4'), header_bytes=10)\n",
      "trackNumberOfSCTHits | std::vector<int32_t>     | AsJagged(AsDtype('>i4'), header_bytes=10)\n",
      "trackNumberOfPixe... | std::vector<int32_t>     | AsJagged(AsDtype('>i4'), header_bytes=10)\n",
      "trackNumberOfSCTD... | std::vector<int32_t>     | AsJagged(AsDtype('>i4'), header_bytes=10)\n",
      "trackNumberOfPixe... | std::vector<int32_t>     | AsJagged(AsDtype('>i4'), header_bytes=10)\n",
      "trackNumberOfSCTS... | std::vector<int32_t>     | AsJagged(AsDtype('>i4'), header_bytes=10)\n",
      "trackNumberOfPixe... | std::vector<int32_t>     | AsJagged(AsDtype('>i4'), header_bytes=10)\n",
      "trackNumberOfSCTH... | std::vector<int32_t>     | AsJagged(AsDtype('>i4'), header_bytes=10)\n",
      "trackNumberOfInne... | std::vector<int32_t>     | AsJagged(AsDtype('>i4'), header_bytes=10)\n",
      "trackNumberOfNext... | std::vector<int32_t>     | AsJagged(AsDtype('>i4'), header_bytes=10)\n",
      "trackExpectInnerm... | std::vector<int32_t>     | AsJagged(AsDtype('>i4'), header_bytes=10)\n",
      "trackExpectNextTo... | std::vector<int32_t>     | AsJagged(AsDtype('>i4'), header_bytes=10)\n",
      "trackNumberOfTRTHits | std::vector<int32_t>     | AsJagged(AsDtype('>i4'), header_bytes=10)\n",
      "trackNumberOfTRTO... | std::vector<int32_t>     | AsJagged(AsDtype('>i4'), header_bytes=10)\n",
      "trackChiSquared      | std::vector<float>       | AsJagged(AsDtype('>f4'), header_bytes=10)\n",
      "trackNumberDOF       | std::vector<int32_t>     | AsJagged(AsDtype('>i4'), header_bytes=10)\n",
      "trackD0              | std::vector<float>       | AsJagged(AsDtype('>f4'), header_bytes=10)\n",
      "trackZ0              | std::vector<float>       | AsJagged(AsDtype('>f4'), header_bytes=10)\n",
      "trackEta_PreSamplerB | std::vector<float>       | AsJagged(AsDtype('>f4'), header_bytes=10)\n",
      "trackPhi_PreSamplerB | std::vector<float>       | AsJagged(AsDtype('>f4'), header_bytes=10)\n",
      "trackEta_PreSamplerE | std::vector<float>       | AsJagged(AsDtype('>f4'), header_bytes=10)\n",
      "trackPhi_PreSamplerE | std::vector<float>       | AsJagged(AsDtype('>f4'), header_bytes=10)\n",
      "trackEta_EMB1        | std::vector<float>       | AsJagged(AsDtype('>f4'), header_bytes=10)\n",
      "trackPhi_EMB1        | std::vector<float>       | AsJagged(AsDtype('>f4'), header_bytes=10)\n",
      "trackEta_EMB2        | std::vector<float>       | AsJagged(AsDtype('>f4'), header_bytes=10)\n",
      "trackPhi_EMB2        | std::vector<float>       | AsJagged(AsDtype('>f4'), header_bytes=10)\n",
      "trackEta_EMB3        | std::vector<float>       | AsJagged(AsDtype('>f4'), header_bytes=10)\n",
      "trackPhi_EMB3        | std::vector<float>       | AsJagged(AsDtype('>f4'), header_bytes=10)\n",
      "trackEta_EME1        | std::vector<float>       | AsJagged(AsDtype('>f4'), header_bytes=10)\n",
      "trackPhi_EME1        | std::vector<float>       | AsJagged(AsDtype('>f4'), header_bytes=10)\n",
      "trackEta_EME2        | std::vector<float>       | AsJagged(AsDtype('>f4'), header_bytes=10)\n",
      "trackPhi_EME2        | std::vector<float>       | AsJagged(AsDtype('>f4'), header_bytes=10)\n",
      "trackEta_EME3        | std::vector<float>       | AsJagged(AsDtype('>f4'), header_bytes=10)\n",
      "trackPhi_EME3        | std::vector<float>       | AsJagged(AsDtype('>f4'), header_bytes=10)\n",
      "trackEta_HEC0        | std::vector<float>       | AsJagged(AsDtype('>f4'), header_bytes=10)\n",
      "trackPhi_HEC0        | std::vector<float>       | AsJagged(AsDtype('>f4'), header_bytes=10)\n",
      "trackEta_HEC1        | std::vector<float>       | AsJagged(AsDtype('>f4'), header_bytes=10)\n",
      "trackPhi_HEC1        | std::vector<float>       | AsJagged(AsDtype('>f4'), header_bytes=10)\n",
      "trackEta_HEC2        | std::vector<float>       | AsJagged(AsDtype('>f4'), header_bytes=10)\n",
      "trackPhi_HEC2        | std::vector<float>       | AsJagged(AsDtype('>f4'), header_bytes=10)\n",
      "trackEta_HEC3        | std::vector<float>       | AsJagged(AsDtype('>f4'), header_bytes=10)\n",
      "trackPhi_HEC3        | std::vector<float>       | AsJagged(AsDtype('>f4'), header_bytes=10)\n",
      "trackEta_TileBar0    | std::vector<float>       | AsJagged(AsDtype('>f4'), header_bytes=10)\n",
      "trackPhi_TileBar0    | std::vector<float>       | AsJagged(AsDtype('>f4'), header_bytes=10)\n",
      "trackEta_TileBar1    | std::vector<float>       | AsJagged(AsDtype('>f4'), header_bytes=10)\n",
      "trackPhi_TileBar1    | std::vector<float>       | AsJagged(AsDtype('>f4'), header_bytes=10)\n",
      "trackEta_TileBar2    | std::vector<float>       | AsJagged(AsDtype('>f4'), header_bytes=10)\n",
      "trackPhi_TileBar2    | std::vector<float>       | AsJagged(AsDtype('>f4'), header_bytes=10)\n",
      "trackEta_TileGap1    | std::vector<float>       | AsJagged(AsDtype('>f4'), header_bytes=10)\n",
      "trackPhi_TileGap1    | std::vector<float>       | AsJagged(AsDtype('>f4'), header_bytes=10)\n",
      "trackEta_TileGap2    | std::vector<float>       | AsJagged(AsDtype('>f4'), header_bytes=10)\n",
      "trackPhi_TileGap2    | std::vector<float>       | AsJagged(AsDtype('>f4'), header_bytes=10)\n",
      "trackEta_TileGap3    | std::vector<float>       | AsJagged(AsDtype('>f4'), header_bytes=10)\n",
      "trackPhi_TileGap3    | std::vector<float>       | AsJagged(AsDtype('>f4'), header_bytes=10)\n",
      "trackEta_TileExt0    | std::vector<float>       | AsJagged(AsDtype('>f4'), header_bytes=10)\n",
      "trackPhi_TileExt0    | std::vector<float>       | AsJagged(AsDtype('>f4'), header_bytes=10)\n",
      "trackEta_TileExt1    | std::vector<float>       | AsJagged(AsDtype('>f4'), header_bytes=10)\n",
      "trackPhi_TileExt1    | std::vector<float>       | AsJagged(AsDtype('>f4'), header_bytes=10)\n",
      "trackEta_TileExt2    | std::vector<float>       | AsJagged(AsDtype('>f4'), header_bytes=10)\n",
      "trackPhi_TileExt2    | std::vector<float>       | AsJagged(AsDtype('>f4'), header_bytes=10)\n",
      "AntiKt4EMTopoJetsPt  | std::vector<float>       | AsJagged(AsDtype('>f4'), header_bytes=10)\n",
      "AntiKt4EMTopoJetsEta | std::vector<float>       | AsJagged(AsDtype('>f4'), header_bytes=10)\n",
      "AntiKt4EMTopoJetsPhi | std::vector<float>       | AsJagged(AsDtype('>f4'), header_bytes=10)\n",
      "AntiKt4EMTopoJetsE   | std::vector<float>       | AsJagged(AsDtype('>f4'), header_bytes=10)\n",
      "AntiKt4LCTopoJetsPt  | std::vector<float>       | AsJagged(AsDtype('>f4'), header_bytes=10)\n",
      "AntiKt4LCTopoJetsEta | std::vector<float>       | AsJagged(AsDtype('>f4'), header_bytes=10)\n",
      "AntiKt4LCTopoJetsPhi | std::vector<float>       | AsJagged(AsDtype('>f4'), header_bytes=10)\n",
      "AntiKt4LCTopoJetsE   | std::vector<float>       | AsJagged(AsDtype('>f4'), header_bytes=10)\n",
      "AntiKt4TruthJetsPt   | std::vector<float>       | AsJagged(AsDtype('>f4'), header_bytes=10)\n",
      "AntiKt4TruthJetsEta  | std::vector<float>       | AsJagged(AsDtype('>f4'), header_bytes=10)\n",
      "AntiKt4TruthJetsPhi  | std::vector<float>       | AsJagged(AsDtype('>f4'), header_bytes=10)\n",
      "AntiKt4TruthJetsE    | std::vector<float>       | AsJagged(AsDtype('>f4'), header_bytes=10)\n",
      "AntiKt4TruthJetsF... | std::vector<int32_t>     | AsJagged(AsDtype('>i4'), header_bytes=10)\n",
      "nCluster             | int32_t                  | AsDtype('>i4')\n",
      "cluster_E            | std::vector<float>       | AsJagged(AsDtype('>f4'), header_bytes=10)\n",
      "cluster_E_LCCalib    | std::vector<float>       | AsJagged(AsDtype('>f4'), header_bytes=10)\n",
      "cluster_Pt           | std::vector<float>       | AsJagged(AsDtype('>f4'), header_bytes=10)\n",
      "cluster_Eta          | std::vector<float>       | AsJagged(AsDtype('>f4'), header_bytes=10)\n",
      "cluster_Phi          | std::vector<float>       | AsJagged(AsDtype('>f4'), header_bytes=10)\n",
      "cluster_nCells       | std::vector<int32_t>     | AsJagged(AsDtype('>i4'), header_bytes=10)\n",
      "cluster_ENG_CALIB... | std::vector<float>       | AsJagged(AsDtype('>f4'), header_bytes=10)\n",
      "cluster_ENG_CALIB... | std::vector<float>       | AsJagged(AsDtype('>f4'), header_bytes=10)\n",
      "cluster_ENG_CALIB... | std::vector<float>       | AsJagged(AsDtype('>f4'), header_bytes=10)\n",
      "cluster_EM_PROBAB... | std::vector<float>       | AsJagged(AsDtype('>f4'), header_bytes=10)\n",
      "cluster_HAD_WEIGHT   | std::vector<float>       | AsJagged(AsDtype('>f4'), header_bytes=10)\n",
      "cluster_OOC_WEIGHT   | std::vector<float>       | AsJagged(AsDtype('>f4'), header_bytes=10)\n",
      "cluster_DM_WEIGHT    | std::vector<float>       | AsJagged(AsDtype('>f4'), header_bytes=10)\n",
      "cluster_CENTER_MAG   | std::vector<float>       | AsJagged(AsDtype('>f4'), header_bytes=10)\n",
      "cluster_FIRST_ENG... | std::vector<float>       | AsJagged(AsDtype('>f4'), header_bytes=10)\n",
      "cluster_CENTER_LA... | std::vector<float>       | AsJagged(AsDtype('>f4'), header_bytes=10)\n",
      "cluster_ISOLATION    | std::vector<float>       | AsJagged(AsDtype('>f4'), header_bytes=10)\n",
      "cluster_ENERGY_Di... | std::vector<float>       | AsJagged(AsDtype('>f4'), header_bytes=10)\n",
      "cluster_cell_ID      | std::vector<std::vect... | AsObjects(AsVector(True, AsVector(False, dtype('>u8'))))\n",
      "cluster_cell_E       | std::vector<std::vect... | AsObjects(AsVector(True, AsVector(False, dtype('>f4'))))\n",
      "cluster_hitsTruth... | std::vector<std::vect... | AsObjects(AsVector(True, AsVector(False, dtype('>i4'))))\n",
      "cluster_hitsTruthE   | std::vector<std::vect... | AsObjects(AsVector(True, AsVector(False, dtype('>f4'))))\n"
     ]
    }
   ],
   "source": [
    "event_tree = my_event[\"EventTree\"]\n",
    "event_tree.show(name_width=20,\n",
    "                interpretation_width=60)"
   ]
  },
  {
   "cell_type": "markdown",
   "id": "744ac020",
   "metadata": {},
   "source": [
    "## Cell Geometry Tree"
   ]
  },
  {
   "cell_type": "code",
   "execution_count": 8,
   "id": "45b402cc",
   "metadata": {
    "scrolled": true
   },
   "outputs": [
    {
     "name": "stdout",
     "output_type": "stream",
     "text": [
      "name                 | typename                 | interpretation                                              \n",
      "---------------------+--------------------------+-------------------------------------------------------------\n",
      "cell_geo_ID          | std::vector<uint64_t>    | AsJagged(AsDtype('>u8'), header_bytes=10)\n",
      "cell_geo_sampling    | std::vector<uint16_t>    | AsJagged(AsDtype('>u2'), header_bytes=10)\n",
      "cell_geo_eta         | std::vector<float>       | AsJagged(AsDtype('>f4'), header_bytes=10)\n",
      "cell_geo_phi         | std::vector<float>       | AsJagged(AsDtype('>f4'), header_bytes=10)\n",
      "cell_geo_rPerp       | std::vector<float>       | AsJagged(AsDtype('>f4'), header_bytes=10)\n",
      "cell_geo_deta        | std::vector<float>       | AsJagged(AsDtype('>f4'), header_bytes=10)\n",
      "cell_geo_dphi        | std::vector<float>       | AsJagged(AsDtype('>f4'), header_bytes=10)\n",
      "cell_geo_volume      | std::vector<float>       | AsJagged(AsDtype('>f4'), header_bytes=10)\n",
      "cell_geo_sigma       | std::vector<float>       | AsJagged(AsDtype('>f4'), header_bytes=10)\n"
     ]
    }
   ],
   "source": [
    "CellGeo_tree = my_event[\"CellGeo\"]\n",
    "CellGeo_tree.show(interpretation_width=60)"
   ]
  },
  {
   "cell_type": "markdown",
   "id": "c46ba1f0",
   "metadata": {},
   "source": [
    "## Cluster ID and Geometry Information"
   ]
  },
  {
   "cell_type": "code",
   "execution_count": 10,
   "id": "1b8e1e78",
   "metadata": {},
   "outputs": [
    {
     "data": {
      "text/plain": [
       "' Notes: -seems as though there are multiple clusters for each event, but sometimes none. Seems reasonable...'"
      ]
     },
     "execution_count": 10,
     "metadata": {},
     "output_type": "execute_result"
    }
   ],
   "source": [
    "# Geometry information\n",
    "cell_geo_ID = CellGeo_tree.arrays(filter_name='cell_geo_ID')[0][\"cell_geo_ID\"].to_numpy()\n",
    "cell_geo_eta = CellGeo_tree.arrays(filter_name='cell_geo_eta')[0][\"cell_geo_eta\"].to_numpy()\n",
    "cell_geo_phi = CellGeo_tree.arrays(filter_name='cell_geo_phi')[0][\"cell_geo_phi\"].to_numpy()\n",
    "cell_geo_rPerp = CellGeo_tree.arrays(filter_name='cell_geo_rPerp')[0][\"cell_geo_rPerp\"].to_numpy()\n",
    "cell_geo_deta = CellGeo_tree.arrays(filter_name='cell_geo_deta')[0][\"cell_geo_deta\"].to_numpy()\n",
    "cell_geo_dphi = CellGeo_tree.arrays(filter_name='cell_geo_dphi')[0][\"cell_geo_dphi\"].to_numpy()\n",
    "cell_geo_sampling = CellGeo_tree.arrays(filter_name='cell_geo_sampling')[0][\"cell_geo_sampling\"].to_numpy()\n",
    "\n",
    "''' Notes: -because the geometry information is stored differently in cell_geo we can simply extract the np\n",
    "arrays by referencing the zeroth element of the awkward arrays. This is because the cell geos are a single\n",
    "nested ak array (it seems so far anyways) '''\n",
    "\n",
    "# Event information\n",
    "ak_cluster_nCells = event_tree.arrays(filter_name=\"cluster_nCells\")\n",
    "ak_cluster_cell_ID = event_tree.arrays(filter_name=\"cluster_cell_ID\")\n",
    "ak_cluster_cell_E = event_tree.arrays(filter_name=\"cluster_cell_E\")\n",
    "nCluster = event_tree.arrays(library='np')[\"nCluster\"]\n",
    "eventNumber = event_tree.arrays(library='np')[\"eventNumber\"]\n",
    "nTrack = event_tree.arrays(library='np')[\"nTrack\"]\n",
    "ak_cluster_Eta = event_tree.arrays(filter_name=\"cluster_Eta\")\n",
    "ak_cluster_Phi = event_tree.arrays(filter_name=\"cluster_Phi\")\n",
    "ak_cluster_CENTER_MAG = event_tree.arrays(filter_name=\"cluster_Eta\")\n",
    "ak_cluster_CENTER_LAMBDA = event_tree.arrays(filter_name=\"cluster_Phi\")"
   ]
  },
  {
   "cell_type": "markdown",
   "id": "0f1fe228",
   "metadata": {},
   "source": [
    "#### Load Track Information"
   ]
  },
  {
   "cell_type": "code",
   "execution_count": 11,
   "id": "df3e80f2",
   "metadata": {},
   "outputs": [],
   "source": [
    "ak_trackEta_EMB1 = event_tree.arrays(filter_name=\"trackEta_EMB1\")\n",
    "ak_trackEta_EMB2 = event_tree.arrays(filter_name=\"trackEta_EMB2\")\n",
    "ak_trackEta_EMB3 = event_tree.arrays(filter_name=\"trackEta_EMB3\")\n",
    "ak_trackPhi_EMB1 = event_tree.arrays(filter_name=\"trackPhi_EMB1\")\n",
    "ak_trackPhi_EMB2 = event_tree.arrays(filter_name=\"trackPhi_EMB2\")\n",
    "ak_trackPhi_EMB3 = event_tree.arrays(filter_name=\"trackPhi_EMB3\")\n",
    "\n",
    "ak_trackEta_TileBar0 = event_tree.arrays(filter_name=\"trackEta_TileBar0\")\n",
    "ak_trackEta_TileBar1 = event_tree.arrays(filter_name=\"trackEta_TileBar1\")\n",
    "ak_trackEta_TileBar2 = event_tree.arrays(filter_name=\"trackEta_TileBar2\")\n",
    "ak_trackPhi_TileBar0 = event_tree.arrays(filter_name=\"trackPhi_TileBar0\")\n",
    "ak_trackPhi_TileBar1 = event_tree.arrays(filter_name=\"trackPhi_TileBar1\")\n",
    "ak_trackPhi_TileBar2 = event_tree.arrays(filter_name=\"trackPhi_TileBar2\")\n",
    "\n",
    "ak_trackPt = event_tree.arrays(filter_name='trackPt')['trackPt']\n",
    "nTrack = event_tree.arrays(filter_name='nTrack')['nTrack'].to_numpy()\n",
    "ak_trackNumberOfPixelHits = event_tree.arrays(filter_name='trackNumberOfPixelHits')['trackNumberOfPixelHits']\n",
    "ak_trackNumberOfSCTHits = event_tree[\"trackNumberOfSCTHits\"].arrays(library=\"np\")['trackNumberOfSCTHits']\n",
    "ak_trackChiSquared = event_tree.arrays(filter_name='trackChiSquared')['trackChiSquared']\n",
    "ak_trackNumberDOF = event_tree.arrays(filter_name='trackNumberDOF')['trackNumberDOF']\n",
    "ak_trackD0 = event_tree.arrays(filter_name='trackD0')['trackD0']\n",
    "ak_trackZ0 = event_tree.arrays(filter_name='trackZ0')['trackZ0']"
   ]
  },
  {
   "cell_type": "markdown",
   "id": "8e31c32f",
   "metadata": {},
   "source": [
    "# Filtering Events\n",
    "The purpose of this is to create a list of selected events which index awkward array events which we are interested in"
   ]
  },
  {
   "cell_type": "code",
   "execution_count": null,
   "id": "d8362137",
   "metadata": {},
   "outputs": [],
   "source": [
    "## TO DO: - Use track information and a loop to find an event which has track eta near zero..."
   ]
  },
  {
   "cell_type": "markdown",
   "id": "c7c53695-392f-43af-8254-465eeee73c65",
   "metadata": {},
   "source": [
    "#### Find Barrel Events"
   ]
  },
  {
   "cell_type": "code",
   "execution_count": 12,
   "id": "dd9c283d",
   "metadata": {},
   "outputs": [],
   "source": [
    "N_events = len(ak_cluster_nCells)\n",
    "event_search = range(N_events)\n",
    "\n",
    "# Create list for sampling layers per event!\n",
    "sample_layers = []\n",
    "# list of event indices with one or more clusters in EMB1-3 or TileBar0-2\n",
    "barrel_events = []\n",
    "calo_layer_filter = np.array([1,2,3,12,13,14])\n",
    "\n",
    "for _evt_idx in event_search:\n",
    "    cluster_cell_ID = ak_cluster_cell_ID[\"cluster_cell_ID\"][_evt_idx]\n",
    "    \n",
    "    # create unique list of sampling layers for every cluster\n",
    "    _event_layers = []\n",
    "\n",
    "    # print('Working on event '+str(_evt_idx))\n",
    "    for j in range(len(cluster_cell_ID)):\n",
    "        ''' loop through each cluster of the event '''\n",
    "\n",
    "        for l in range(len(cluster_cell_ID[j])):\n",
    "            ''' loop through the cluster elements searching for new layer numbers'''\n",
    "            # grab the first cell_geo_ID\n",
    "            _cell_geo_tag = cluster_cell_ID[j][l]\n",
    "        \n",
    "            # find the index of the cell_geo_ID, use [0][0] becuase of np.where return\n",
    "            _cell_geo_idx = np.where(cell_geo_ID == _cell_geo_tag)[0][0]\n",
    "\n",
    "            # find the sampling layer based on the index\n",
    "            this_layer = cell_geo_sampling[_cell_geo_idx]\n",
    "\n",
    "            if not np.isin(this_layer, _event_layers):\n",
    "                _event_layers.append(this_layer)      \n",
    "            \n",
    "        # Append the layer to the list, definitely want sample layers to be from each event\n",
    "        sample_layers.extend(_event_layers)\n",
    "        \n",
    "    # add event to list if one is in the barrel layer\n",
    "    if np.any(np.isin(_event_layers, calo_layer_filter)):\n",
    "        barrel_events.append(_evt_idx)\n",
    "        \n",
    "sample_layers = np.array(sample_layers)\n",
    "barrel_events = np.array(barrel_events)"
   ]
  },
  {
   "cell_type": "code",
   "execution_count": 13,
   "id": "5c30a017",
   "metadata": {},
   "outputs": [
    {
     "name": "stdout",
     "output_type": "stream",
     "text": [
      "[ 0  2  3  6  7 11 14 20 22 26 28 29 30 31 32 33 37 38 42 44]\n"
     ]
    }
   ],
   "source": [
    "print(barrel_events[0:20])"
   ]
  },
  {
   "cell_type": "code",
   "execution_count": 14,
   "id": "c01d8f95",
   "metadata": {},
   "outputs": [
    {
     "data": {
      "image/png": "[encoded data removed]",
      "text/plain": [
       "<Figure size 432x288 with 1 Axes>"
      ]
     },
     "metadata": {
      "needs_background": "light"
     },
     "output_type": "display_data"
    },
    {
     "data": {
      "image/png": "[encoded data removed]",
      "text/plain": [
       "<Figure size 432x288 with 1 Axes>"
      ]
     },
     "metadata": {
      "needs_background": "light"
     },
     "output_type": "display_data"
    },
    {
     "data": {
      "text/plain": [
       "' Note: what this histogram is showing is the *unique* calorimeter layer activation per event'"
      ]
     },
     "execution_count": 14,
     "metadata": {},
     "output_type": "execute_result"
    }
   ],
   "source": [
    "bin_list = np.linspace(-.5,23.5,25,endpoint=True)\n",
    "\n",
    "plt.hist(sample_layers, bins=bin_list, color='steelblue', alpha=.75, linewidth=.75, edgecolor='black')\n",
    "plt.title('Calo Layers Per Event', fontsize=16)\n",
    "plt.yscale('log')\n",
    "plt.xlim(-.5,23.5)\n",
    "plt.ylim(1,3e4)\n",
    "plt.xticks(np.arange(0,24))\n",
    "plt.xlabel('Sample Layer',fontsize=12)\n",
    "plt.ylabel('Sampling frequency', fontsize=12)\n",
    "# plt.tight_layout()\n",
    "# plt.savefig('Plots/per_event_calo_sampling_log_OutputStream_000502_root_2021-05-13.png', format='png')\n",
    "plt.show()\n",
    "\n",
    "plt.hist(sample_layers, bins=bin_list, color='steelblue', alpha=.75, linewidth=.75, edgecolor='black')\n",
    "plt.title('Calo Layers Per Event', fontsize=16)\n",
    "plt.xlim(-.5,23.5)\n",
    "plt.ylim(1,23000)\n",
    "plt.xticks(np.arange(0,24))\n",
    "plt.xlabel('Sample Layer',fontsize=12)\n",
    "plt.ylabel('Sampling frequency', fontsize=12)\n",
    "# plt.tight_layout()\n",
    "# plt.savefig('Plots/per_event_calo_sampling_OutputStream_000502_root_2021-05-13.png', format='png')\n",
    "plt.show()\n",
    "''' Note: what this histogram is showing is the *unique* calorimeter layer activation per event'''"
   ]
  },
  {
   "cell_type": "markdown",
   "id": "1e412582",
   "metadata": {},
   "source": [
    "# Event Selection\n",
    "## Apply cuts\n",
    "\n",
    "#### Track ChiSq\n",
    "- Choose tracks with a ChiSq of something? Fake or not, we need to reject the null hypothesis with some confidence\n",
    "\n",
    "#### Track Cluster Separation\n",
    "- Two ways to do this, find closest cluster, or use highest energy cluster\n",
    "- Can do this with summation of all the layers or for each layer\n",
    "\n",
    "#### Track Pt\n",
    "- Make a selection at > 500 MeV\n",
    "\n",
    "#### Silicon hits\n",
    "- Add total number of SCTHits and Pixel hits and make a cut at some minimum"
   ]
  },
  {
   "cell_type": "code",
   "execution_count": 15,
   "id": "0188b26c",
   "metadata": {},
   "outputs": [
    {
     "name": "stdout",
     "output_type": "stream",
     "text": [
      "[2, 3, 6, 7, 11, 14, 20, 22, 26, 28]\n",
      "[119, 139, 166, 287, 308, 451, 824, 852, 1113, 1334]\n",
      "[6, 22, 26, 29, 33, 42, 68, 80, 87, 95]\n"
     ]
    }
   ],
   "source": [
    "## Giant event selection loop ##\n",
    "\n",
    "# Instantiate an index list with multiple tracks to look at later\n",
    "multiple_tracks_barrel = []\n",
    "\n",
    "# For now, just look at single track events\n",
    "single_track_barrel = []\n",
    "\n",
    "# Instantiate overall keep event list\n",
    "filtered_events = []\n",
    "\n",
    "for event in barrel_events:\n",
    "    keep_event = True\n",
    "    \n",
    "    # Track info\n",
    "    _num_tracks = nTrack[event]\n",
    "    if _num_tracks == 1:\n",
    "        single_track_barrel.append(event)\n",
    "        \n",
    "    elif _num_tracks >= 2:\n",
    "        multiple_tracks_barrel.append(event)\n",
    "    \n",
    "    multiple_track_bool = np.full((_num_tracks,), True, dtype=np.bool_)\n",
    "    for i in range(_num_tracks):\n",
    "        \n",
    "        ## trackChiSquared ##\n",
    "        _trackChiSq = ak_trackChiSquared[event][i]\n",
    "        _trackNumberDOF = ak_trackNumberDOF[event][i]\n",
    "        # un-sure yet how to make this ChiSquared cut\n",
    "        \n",
    "        ## Silicon Hits ##\n",
    "        _siliconHits = ak_trackNumberOfPixelHits[event][i]\n",
    "        _siliconHits += ak_trackNumberOfSCTHits[event][i]\n",
    "        if _siliconHits < 3:\n",
    "            multiple_track_bool[i] = False\n",
    "        \n",
    "        ## trackPt ##\n",
    "        _trackPt = ak_trackPt[event][i]\n",
    "        if _trackPt < 500:\n",
    "            multiple_track_bool[i] = False\n",
    "            \n",
    "        ## Track separation doohickey, add helper functions for this\n",
    "        # need to do this for every track I guess\n",
    "        # 1) Find nearest cluster center\n",
    "        # 2) find Delta_r for this\n",
    "        # 3) append Delta_r to list\n",
    "        ''' note finding track separation will be tricky for small r tracks ...'''\n",
    "        \n",
    "    \n",
    "    # If all tracks fail one or more condition tests above then we do not keep the event\n",
    "    if np.all(multiple_track_bool == False):\n",
    "        keep_event = False\n",
    "        \n",
    "    if keep_event:\n",
    "        filtered_events.append(event)\n",
    "\n",
    "## Check events\n",
    "print(single_track_barrel[0:10])\n",
    "print(multiple_tracks_barrel[0:10])\n",
    "print(filtered_events[0:10])"
   ]
  },
  {
   "cell_type": "markdown",
   "id": "728e3001",
   "metadata": {},
   "source": [
    "### Cluster Track Separation"
   ]
  },
  {
   "cell_type": "code",
   "execution_count": 20,
   "id": "233254aa",
   "metadata": {},
   "outputs": [],
   "source": [
    "Delta_r_list = []\n",
    "\n",
    "for _evt in single_track_barrel:\n",
    "    # we know that we are only looking at one track so zero index is safe\n",
    "    _single_track_pos = track_coords(_evt)[0]\n",
    "    _avg_track_pos = track_av(_single_track_pos)\n",
    "    \n",
    "    _num_cluster = nCluster[_evt]\n",
    "    # check through all the cluster centers and find the shortest distance\n",
    "    _dist = np.full((_num_cluster,), 10, dtype = np.float32)\n",
    "    \n",
    "    for i in range(_num_cluster):\n",
    "        _clust_Eta = ak_cluster_Eta[\"cluster_Eta\"][_evt][i]\n",
    "        _clust_Phi = ak_cluster_Phi[\"cluster_Phi\"][_evt][i]\n",
    "        _clust_coord = np.array([_clust_Eta, _clust_Phi])\n",
    "        _dist[i] = DeltaR(_avg_track_pos, _clust_coord)\n",
    "    \n",
    "    Delta_r_list.append(np.min(_dist))\n",
    "\n",
    "Delta_r_list = np.array(Delta_r_list)"
   ]
  },
  {
   "cell_type": "code",
   "execution_count": 34,
   "id": "6eb86417",
   "metadata": {},
   "outputs": [
    {
     "data": {
      "image/png": "[encoded data removed]",
      "text/plain": [
       "<Figure size 432x288 with 1 Axes>"
      ]
     },
     "metadata": {
      "needs_background": "light"
     },
     "output_type": "display_data"
    }
   ],
   "source": [
    "plt.hist(Delta_r_list, bins=30, range=(0,.2), color='red', alpha=.75, linewidth=.75, edgecolor='black')\n",
    "plt.title('$\\Delta r$ for Single Track Events to Nearest Cluster', fontsize=16)\n",
    "plt.xlim(0,.2)\n",
    "plt.ylim(0,650)\n",
    "# plt.xticks(np.arange(0,19))\n",
    "plt.xlabel('$\\Delta r$',fontsize=12)\n",
    "# plt.tight_layout()\n",
    "# plt.savefig('Plots/DeltaR_singleTrack_nearestCluster_OutputStream_000502_root_2021-05-25.png', format='png')\n",
    "plt.show()"
   ]
  },
  {
   "cell_type": "markdown",
   "id": "9aeef2c2",
   "metadata": {},
   "source": [
    "# Visualization of Barrel Events"
   ]
  },
  {
   "cell_type": "code",
   "execution_count": 51,
   "id": "06545698",
   "metadata": {},
   "outputs": [
    {
     "name": "stdout",
     "output_type": "stream",
     "text": [
      "Number of clusters:\n",
      "18\n",
      "\n",
      "Total event cell number:\n",
      "[139, 201, 166, 228, 130, 168, 181, 154, 76, 126, 54, 24, 13, 11, 14, 14, 14, 11]\n",
      "\n",
      "Cluster Cell IDs: \n",
      "[[767580074, 767580072, 767580076, 767579562, ... 769661896, 767570890, 1150174720]]\n",
      "\n",
      "number in cluster (0): 139\n",
      "number in cluster (1): 105\n",
      "number in cluster (2): 147\n",
      "number in cluster (3): 150\n",
      "number in cluster (4): 96\n",
      "number in cluster (5): 149\n",
      "number in cluster (6): 140\n",
      "number in cluster (7): 78\n",
      "number in cluster (8): 49\n",
      "number in cluster (9): 89\n",
      "number in cluster (10): 48\n",
      "number in cluster (11): 18\n",
      "number in cluster (12): 10\n",
      "number in cluster (13): 6\n",
      "number in cluster (14): 8\n",
      "number in cluster (15): 8\n",
      "number in cluster (16): 9\n",
      "number in cluster (17): 7\n"
     ]
    }
   ],
   "source": [
    "# 1) find out how many clusters there are first, then make arrays of these\n",
    "\n",
    "evt_idx = 119 #pick your favorite event\n",
    "\n",
    "event_nCells = ak_cluster_nCells[\"cluster_nCells\"][evt_idx]\n",
    "num_clusters = len(event_nCells)\n",
    "print('Number of clusters:')\n",
    "print(num_clusters);print()\n",
    "print('Total event cell number:')\n",
    "print(event_nCells);print()\n",
    "\n",
    "# This is still an awakward array with variable lengths for the cell IDs from clusters\n",
    "cluster_cell_ID = ak_cluster_cell_ID[\"cluster_cell_ID\"][evt_idx]\n",
    "print('Cluster Cell IDs: ')\n",
    "print(cluster_cell_ID);print()\n",
    "\n",
    "# Initialize a list with all of the cluster cell IDs in a numpy array\n",
    "# eliminates the use of awkward array .. not sure if this is necessary\n",
    "cell_ID_list = []\n",
    "for i in range(num_clusters):\n",
    "    cell_ID_list.append(cluster_cell_ID[i].to_numpy())\n",
    "    print('number in cluster ('+str(i)+'): '+str(len(cluster_cell_ID[i])))"
   ]
  },
  {
   "cell_type": "code",
   "execution_count": 52,
   "id": "42de0a06",
   "metadata": {},
   "outputs": [],
   "source": [
    "# 2) Find corresponding geometry from cluster IDs\n",
    "geo_index_list = []\n",
    "\n",
    "''' loop through the cluster list '''\n",
    "for i in range(num_clusters):\n",
    "    \n",
    "    # figure out the number in the cluster\n",
    "    num_per_clust = len(cell_ID_list[i])\n",
    "    \n",
    "    # creates a temporary array of the indices of each cell ID\n",
    "    _temp_idx_arr = np.zeros(num_per_clust, dtype=int)\n",
    "    \n",
    "    # should return a numpy array with the lists of cell IDs in the cluster\n",
    "    _temp_ID_arr = cell_ID_list[i]\n",
    "    \n",
    "    # loop through the list of cell IDs in a given cluster and find the index in\n",
    "    # ak_cell_geo_ID (main list)\n",
    "    for j in range(num_per_clust):\n",
    "        # extract a single ID from the cluster list\n",
    "        # zero index necessary due to returns of np.where\n",
    "        _temp_idx = np.where(cell_geo_ID == _temp_ID_arr[j])[0]\n",
    "        # need to take the zeroth element of awkward.where to get an array,\n",
    "        # then take the zeroth element of the array which is the index\n",
    "        _temp_idx_arr[j] = _temp_idx\n",
    "    \n",
    "    # insert the numpy index arrays into a tuple with the length of the cluster\n",
    "    geo_index_list.append(_temp_idx_arr)"
   ]
  },
  {
   "cell_type": "code",
   "execution_count": 53,
   "id": "f92550f8",
   "metadata": {},
   "outputs": [
    {
     "name": "stdout",
     "output_type": "stream",
     "text": [
      "Working on cluster 0\n",
      "Number in cluster: 139\n",
      "\n",
      "Working on cluster 1\n",
      "Number in cluster: 105\n",
      "\n",
      "Working on cluster 2\n",
      "Number in cluster: 147\n",
      "\n",
      "Working on cluster 3\n",
      "Number in cluster: 150\n",
      "\n",
      "Working on cluster 4\n",
      "Number in cluster: 96\n",
      "\n",
      "Working on cluster 5\n",
      "Number in cluster: 149\n",
      "\n",
      "Working on cluster 6\n",
      "Number in cluster: 140\n",
      "\n",
      "Working on cluster 7\n",
      "Number in cluster: 78\n",
      "\n",
      "Working on cluster 8\n",
      "Number in cluster: 49\n",
      "\n",
      "Working on cluster 9\n",
      "Number in cluster: 89\n",
      "\n",
      "Working on cluster 10\n",
      "Number in cluster: 48\n",
      "\n",
      "Working on cluster 11\n",
      "Number in cluster: 18\n",
      "\n",
      "Working on cluster 12\n",
      "Number in cluster: 10\n",
      "\n",
      "Working on cluster 13\n",
      "Number in cluster: 6\n",
      "\n",
      "Working on cluster 14\n",
      "Number in cluster: 8\n",
      "\n",
      "Working on cluster 15\n",
      "Number in cluster: 8\n",
      "\n",
      "Working on cluster 16\n",
      "Number in cluster: 9\n",
      "\n",
      "Working on cluster 17\n",
      "Number in cluster: 7\n",
      "\n",
      "[ 7.67580074e+08  1.08691978e+00 -1.04801881e+00  2.00000000e+00\n",
      "  2.50000004e-02  2.45436933e-02  1.76954437e+02]\n"
     ]
    }
   ],
   "source": [
    "# 3) Make lists to hold numpy arrays\n",
    "cluster_array_list = []\n",
    "\n",
    "# 4) use index arrays to find corresponding args for the array\n",
    "\n",
    "for i in range(num_clusters):\n",
    "    print('Working on cluster '+str(i))\n",
    "    num_in_cluster = len(cell_ID_list[i])\n",
    "    print('Number in cluster: '+str(num_in_cluster));print()\n",
    "    \n",
    "    # create a numpy array to be filled in, using number of cell IDs as a length N\n",
    "    _temp_cluster_arr = np.zeros( (num_in_cluster,7) )\n",
    "    \n",
    "    # loop through the number of cells in each cluster\n",
    "    for j in range(num_in_cluster):\n",
    "        # pull cell position index from 'j'th array position in 'i'th list position\n",
    "        _geo_index = geo_index_list[i][j]\n",
    "        \n",
    "        _temp_cluster_arr[j,0] = cell_geo_ID[_geo_index]\n",
    "        _temp_cluster_arr[j,1] = cell_geo_eta[_geo_index]\n",
    "        _temp_cluster_arr[j,2] = cell_geo_phi[_geo_index]\n",
    "        _temp_cluster_arr[j,3] = cell_geo_sampling[_geo_index]\n",
    "        _temp_cluster_arr[j,4] = cell_geo_deta[_geo_index]\n",
    "        _temp_cluster_arr[j,5] = cell_geo_dphi[_geo_index]\n",
    "        # each event index will have i clusters and j entries in each cluster\n",
    "        _temp_cluster_arr[j,6] = ak_cluster_cell_E[\"cluster_cell_E\"][evt_idx][i][j]\n",
    "    \n",
    "    # precautionary measure against shallow copy \n",
    "    cluster_array_list.append(copy.deepcopy(_temp_cluster_arr)) # necessary for deep copy\n",
    "\n",
    "if len(cluster_array_list) != 0:\n",
    "    print(cluster_array_list[0][0,:])\n",
    "else:\n",
    "    print(cluster_array_list)"
   ]
  },
  {
   "cell_type": "markdown",
   "id": "1b0e2b19",
   "metadata": {},
   "source": [
    "## Convert Clusters into Layers\n",
    "Use switch from calo sampling layer, EMB1 = 1, EMB2 = 2, EMB3 = 3, TileBar0 = 12, TileBar1 = 13, TileBar2 = 14"
   ]
  },
  {
   "cell_type": "code",
   "execution_count": 54,
   "id": "a1d3d00d",
   "metadata": {},
   "outputs": [],
   "source": [
    "# initialize lists to go into arrays lata\n",
    "EMB1_clust = []\n",
    "EMB2_clust = []\n",
    "EMB3_clust = []\n",
    "TileBar0_clust = []\n",
    "TileBar1_clust = []\n",
    "TileBar2_clust = []\n",
    "\n",
    "# event is populated with a list of arrays which contain the cluster information\n",
    "for i in range(num_clusters):\n",
    "    \n",
    "    for j in range(len(cluster_array_list[i])):\n",
    "        layer_num = int(cluster_array_list[i][j,3])\n",
    "        if layer_num == 1:\n",
    "            EMB1_clust.append(cluster_array_list[i][j,:])\n",
    "        elif layer_num == 2:\n",
    "            EMB2_clust.append(cluster_array_list[i][j,:])\n",
    "        elif layer_num == 3:\n",
    "            EMB3_clust.append(cluster_array_list[i][j,:])\n",
    "        elif layer_num == 13:\n",
    "            TileBar0_clust.append(cluster_array_list[i][j,:])\n",
    "        elif layer_num == 14:\n",
    "            TileBar1_clust.append(cluster_array_list[i][j,:])\n",
    "        elif layer_num == 15:\n",
    "            TileBar2_clust.append(cluster_array_list[i][j,:])\n",
    "        else:\n",
    "            continue\n",
    "\n",
    "EMB1_clust = concat_array_list(EMB1_clust)\n",
    "EMB2_clust = concat_array_list(EMB2_clust)\n",
    "EMB3_clust = concat_array_list(EMB3_clust)\n",
    "TileBar0_clust = concat_array_list(TileBar0_clust)\n",
    "TileBar1_clust = concat_array_list(TileBar1_clust)\n",
    "TileBar2_clust = concat_array_list(TileBar2_clust)"
   ]
  },
  {
   "cell_type": "markdown",
   "id": "dc612bee",
   "metadata": {},
   "source": [
    "### Find Cluster Center"
   ]
  },
  {
   "cell_type": "code",
   "execution_count": 55,
   "id": "aba079ad",
   "metadata": {},
   "outputs": [
    {
     "name": "stdout",
     "output_type": "stream",
     "text": [
      "[[ 1.0975002  -1.0469439 ]\n",
      " [ 1.0838382  -1.0490068 ]\n",
      " [ 1.1340265  -0.9743436 ]\n",
      " [ 0.93076605 -0.9564627 ]\n",
      " [ 1.1748673  -1.1187581 ]\n",
      " [ 1.047462   -1.158123  ]\n",
      " [ 1.2249416  -1.0447072 ]\n",
      " [ 1.0698297  -1.2287889 ]\n",
      " [ 1.1332898  -1.2004637 ]\n",
      " [ 1.0829347  -0.8415197 ]\n",
      " [ 1.2879274  -1.2418132 ]\n",
      " [ 1.3642886  -1.3279927 ]\n",
      " [ 1.0377319  -1.3312067 ]\n",
      " [ 0.53883785 -0.8496209 ]\n",
      " [ 1.3634461  -0.944268  ]\n",
      " [ 0.93274415 -1.0308228 ]\n",
      " [ 0.98884714 -1.4242069 ]\n",
      " [ 0.62689537 -0.654306  ]]\n"
     ]
    }
   ],
   "source": [
    "## TO DO: Add cluster center\n",
    "num_of_clusters = nCluster[evt_idx]\n",
    "\n",
    "# Create empty numpy array the length of nclusters by 2 for coordinates\n",
    "# Use 5 as coordinate centers as this is nonsense for a topocluster so it is a flag \n",
    "cluster_centers = np.full((num_of_clusters, 2), 5, dtype=np.float32)\n",
    "\n",
    "for i in range(num_of_clusters):\n",
    "    cluster_centers[i,:] = np.array([ak_cluster_Eta[\"cluster_Eta\"][evt_idx][i], ak_cluster_Phi[\"cluster_Phi\"][evt_idx][i]])\n",
    "\n",
    "print(cluster_centers)"
   ]
  },
  {
   "cell_type": "markdown",
   "id": "c6a17c3c",
   "metadata": {},
   "source": [
    "### Display Cluster Center with Cluster in Layer"
   ]
  },
  {
   "cell_type": "code",
   "execution_count": 56,
   "id": "90169ffd",
   "metadata": {},
   "outputs": [
    {
     "data": {
      "image/png": "[encoded data removed]",
      "text/plain": [
       "<Figure size 432x288 with 1 Axes>"
      ]
     },
     "metadata": {
      "needs_background": "light"
     },
     "output_type": "display_data"
    }
   ],
   "source": [
    "plt.scatter(EMB3_clust[:,1], EMB3_clust[:,2], c=np.log(EMB3_clust[:,6]), cmap=cm.viridis)\n",
    "for i in range(len(cluster_centers)):\n",
    "    plt.scatter(cluster_centers[i,0], cluster_centers[i,1], color='red', marker='x', s=150)\n",
    "plt.title('EMB3', fontsize=14)\n",
    "# plt.xlim(.5,1.4)\n",
    "# plt.ylim(-1.5,-.6)\n",
    "plt.xlabel('Eta $\\eta$', fontsize=14)\n",
    "plt.ylabel('Phi $\\phi$', fontsize=14)\n",
    "# plt.tight_layout()\n",
    "# plt.savefig('Plots/EMB3_cluster_scatter_colormap_no_track_logscale_2021_05_12.png', format='png')\n",
    "plt.show()"
   ]
  },
  {
   "cell_type": "markdown",
   "id": "a5fa553b",
   "metadata": {},
   "source": [
    "## Finding Tracking Coordinates"
   ]
  },
  {
   "cell_type": "markdown",
   "id": "f9f3c5cc",
   "metadata": {},
   "source": [
    "#### Track Coordinates of EMB1 -> TileBar2"
   ]
  },
  {
   "cell_type": "code",
   "execution_count": 57,
   "id": "83aa273c",
   "metadata": {},
   "outputs": [
    {
     "name": "stdout",
     "output_type": "stream",
     "text": [
      "[array([[ 1.08743107e+00, -1.04494107e+00],\n",
      "       [ 1.08743107e+00, -1.04496646e+00],\n",
      "       [ 1.08743107e+00, -1.04504156e+00],\n",
      "       [-1.00000000e+09, -1.00000000e+09],\n",
      "       [-1.00000000e+09, -1.00000000e+09],\n",
      "       [-1.00000000e+09, -1.00000000e+09]]), array([[ 1.07803845e+00, -1.06274974e+00],\n",
      "       [ 1.07803953e+00, -1.06256604e+00],\n",
      "       [ 1.07804561e+00, -1.06148183e+00],\n",
      "       [-1.00000000e+09, -1.00000000e+09],\n",
      "       [-1.00000000e+09, -1.00000000e+09],\n",
      "       [-1.00000000e+09, -1.00000000e+09]]), array([[ 1.09778535e+00, -1.10888004e+00],\n",
      "       [ 1.09779394e+00, -1.10831702e+00],\n",
      "       [ 1.09783733e+00, -1.10520148e+00],\n",
      "       [-1.00000000e+09, -1.00000000e+09],\n",
      "       [-1.00000000e+09, -1.00000000e+09],\n",
      "       [-1.00000000e+09, -1.00000000e+09]]), array([[ 1.07722914e+00, -1.02806640e+00],\n",
      "       [ 1.07722986e+00, -1.02825797e+00],\n",
      "       [ 1.07723379e+00, -1.02938867e+00],\n",
      "       [-1.00000000e+09, -1.00000000e+09],\n",
      "       [-1.00000000e+09, -1.00000000e+09],\n",
      "       [-1.00000000e+09, -1.00000000e+09]]), array([[ 9.80271995e-01, -1.31125164e+00],\n",
      "       [ 9.80533242e-01, -1.30850720e+00],\n",
      "       [ 9.82261777e-01, -1.28880119e+00],\n",
      "       [ 9.83635128e-01, -1.26606369e+00],\n",
      "       [-1.00000000e+09, -1.00000000e+09],\n",
      "       [-1.00000000e+09, -1.00000000e+09]]), array([[ 1.07030368e+00, -7.14706063e-01],\n",
      "       [ 1.07066154e+00, -7.18476832e-01],\n",
      "       [ 1.07265341e+00, -7.41947711e-01],\n",
      "       [-1.00000000e+09, -1.00000000e+09],\n",
      "       [-1.00000000e+09, -1.00000000e+09],\n",
      "       [-1.00000000e+09, -1.00000000e+09]]), array([[ 1.09235501e+00, -1.03243899e+00],\n",
      "       [ 1.09235537e+00, -1.03259206e+00],\n",
      "       [ 1.09235752e+00, -1.03343928e+00],\n",
      "       [-1.00000000e+09, -1.00000000e+09],\n",
      "       [-1.00000000e+09, -1.00000000e+09],\n",
      "       [-1.00000000e+09, -1.00000000e+09]]), array([[ 1.03208756e+00, -1.29218411e+00],\n",
      "       [ 1.03237069e+00, -1.28906763e+00],\n",
      "       [ 1.03407109e+00, -1.26842213e+00],\n",
      "       [-1.00000000e+09, -1.00000000e+09],\n",
      "       [-1.00000000e+09, -1.00000000e+09],\n",
      "       [-1.00000000e+09, -1.00000000e+09]]), array([[ 9.59977090e-01, -9.04224753e-01],\n",
      "       [ 9.60011423e-01, -9.05184865e-01],\n",
      "       [ 9.60234582e-01, -9.11873877e-01],\n",
      "       [ 9.60410058e-01, -9.19208229e-01],\n",
      "       [-1.00000000e+09, -1.00000000e+09],\n",
      "       [-1.00000000e+09, -1.00000000e+09]]), array([[ 8.91234279e-01, -3.65684003e-01],\n",
      "       [ 8.92111540e-01, -3.70252252e-01],\n",
      "       [ 8.98687899e-01, -4.06856298e-01],\n",
      "       [ 9.05412495e-01, -4.52430606e-01],\n",
      "       [ 9.16510284e-01, -5.15322804e-01],\n",
      "       [-1.00000000e+09, -1.00000000e+09]]), array([[ 7.81134188e-01,  5.94317794e-01],\n",
      "       [ 7.87283778e-01,  5.81939101e-01],\n",
      "       [ 8.55300963e-01,  4.23763126e-01],\n",
      "       [-1.00000000e+09, -1.00000000e+09],\n",
      "       [-1.00000000e+09, -1.00000000e+09],\n",
      "       [-1.00000000e+09, -1.00000000e+09]]), array([[ 1.27269816e+00, -6.09858155e-01],\n",
      "       [ 1.27362514e+00, -6.17479444e-01],\n",
      "       [ 1.27734840e+00, -6.54263258e-01],\n",
      "       [-1.00000000e+09, -1.00000000e+09],\n",
      "       [-1.00000000e+09, -1.00000000e+09],\n",
      "       [-1.00000000e+09, -1.00000000e+09]]), array([[ 9.46746349e-01, -2.00283575e+00],\n",
      "       [ 9.48624432e-01, -1.99551296e+00],\n",
      "       [ 9.62316155e-01, -1.93668675e+00],\n",
      "       [ 9.75506604e-01, -1.85381246e+00],\n",
      "       [-1.00000000e+09, -1.00000000e+09],\n",
      "       [-1.00000000e+09, -1.00000000e+09]]), array([[ 1.09547853e+00, -1.08166909e+00],\n",
      "       [ 1.09548080e+00, -1.08139181e+00],\n",
      "       [ 1.09549248e+00, -1.07985902e+00],\n",
      "       [-1.00000000e+09, -1.00000000e+09],\n",
      "       [-1.00000000e+09, -1.00000000e+09],\n",
      "       [-1.00000000e+09, -1.00000000e+09]]), array([[ 1.16217792e+00, -9.02408957e-01],\n",
      "       [ 1.16222477e+00, -9.03925776e-01],\n",
      "       [ 1.16244829e+00, -9.12150204e-01],\n",
      "       [-1.00000000e+09, -1.00000000e+09],\n",
      "       [-1.00000000e+09, -1.00000000e+09],\n",
      "       [-1.00000000e+09, -1.00000000e+09]]), array([[ 1.12663710e+00, -1.36295426e+00],\n",
      "       [ 1.12712383e+00, -1.35811210e+00],\n",
      "       [ 1.12953091e+00, -1.33091533e+00],\n",
      "       [-1.00000000e+09, -1.00000000e+09],\n",
      "       [-1.00000000e+09, -1.00000000e+09],\n",
      "       [-1.00000000e+09, -1.00000000e+09]]), array([[-1.e+09, -1.e+09],\n",
      "       [-1.e+09, -1.e+09],\n",
      "       [-1.e+09, -1.e+09],\n",
      "       [-1.e+09, -1.e+09],\n",
      "       [-1.e+09, -1.e+09],\n",
      "       [-1.e+09, -1.e+09]])]\n"
     ]
    }
   ],
   "source": [
    "# testing\n",
    "my_coords = track_coords(_idx=evt_idx)\n",
    "print(my_coords)"
   ]
  },
  {
   "cell_type": "markdown",
   "id": "9396f486",
   "metadata": {},
   "source": [
    "### Plot clusters and tracks together"
   ]
  },
  {
   "cell_type": "code",
   "execution_count": 58,
   "id": "2f79c8b3",
   "metadata": {},
   "outputs": [
    {
     "data": {
      "image/png": "[encoded data removed]",
      "text/plain": [
       "<Figure size 432x288 with 2 Axes>"
      ]
     },
     "metadata": {
      "needs_background": "light"
     },
     "output_type": "display_data"
    }
   ],
   "source": [
    "### EMB 1 ###\n",
    "mynorm = Normalize(vmin=np.min(EMB1_clust[:,6]), vmax=np.max(EMB1_clust[:,6]))\n",
    "plt.scatter(EMB1_clust[:,1], EMB1_clust[:,2], c=np.log(EMB1_clust[:,6]), cmap=cm.viridis, s=50)\n",
    "for m in range(len(my_coords)):\n",
    "    if m == 0:\n",
    "        plt.scatter(my_coords[m][0,0], my_coords[m][0,1], marker='x', color='black', s=150, label='Track')\n",
    "    else:\n",
    "        plt.scatter(my_coords[m][0,0], my_coords[m][0,1], marker='x', color='black', s=150)\n",
    "for i in range(len(cluster_centers)):\n",
    "    if i == 0:\n",
    "        plt.scatter(cluster_centers[i,0], cluster_centers[i,1], color='red', marker='x', s=150,\n",
    "                   label='Cluster Center')\n",
    "    else:\n",
    "        plt.scatter(cluster_centers[i,0], cluster_centers[i,1], color='red', marker='x', s=150)\n",
    "cb = plt.colorbar(cm.ScalarMappable(norm=mynorm, cmap='viridis'), label='Log Scale Energy', location='right')\n",
    "cb.set_label(label='Log Scale Energy', size=12)\n",
    "plt.legend(loc=0, prop={'size':12})\n",
    "plt.title('EMB1', fontsize=14)\n",
    "plt.xlabel('$\\eta$', fontsize=15)\n",
    "plt.ylabel('$\\phi$', fontsize=15)\n",
    "# plt.gca().yaxis.set_label_position('right')\n",
    "# plt.tight_layout()\n",
    "# plt.savefig('Plots/evt22/EMB1_scatter_wTrack_wClusterCenter_logscale_colormap_2021_05_17.png', format='png')\n",
    "plt.show()"
   ]
  },
  {
   "cell_type": "code",
   "execution_count": 45,
   "id": "702fd12a",
   "metadata": {},
   "outputs": [
    {
     "data": {
      "image/png": "[encoded data removed]",
      "text/plain": [
       "<Figure size 432x288 with 2 Axes>"
      ]
     },
     "metadata": {
      "needs_background": "light"
     },
     "output_type": "display_data"
    }
   ],
   "source": [
    "### EMB2 ###\n",
    "mynorm = Normalize(vmin=np.min(EMB2_clust[:,6]), vmax=np.max(EMB2_clust[:,6]))\n",
    "\n",
    "plt.scatter(EMB2_clust[:,1], EMB2_clust[:,2], c=np.log(EMB2_clust[:,6]), cmap=cm.viridis, s=50)\n",
    "for m in range(len(my_coords)):\n",
    "    if m == 0:\n",
    "        plt.scatter(my_coords[m][1,0], my_coords[m][1,1], marker='x', color='black', s=150, label='Track')\n",
    "    else:\n",
    "        plt.scatter(my_coords[m][1,0], my_coords[m][1,1], marker='x', color='black', s=150)\n",
    "for i in range(len(cluster_centers)):\n",
    "    if i == 0:\n",
    "        plt.scatter(cluster_centers[i,0], cluster_centers[i,1], color='red', marker='x', s=150,\n",
    "                   label='Cluster Center')\n",
    "    else:\n",
    "        plt.scatter(cluster_centers[i,0], cluster_centers[i,1], color='red', marker='x', s=150)\n",
    "cb = plt.colorbar(cm.ScalarMappable(norm=mynorm, cmap='viridis'), label='Log Scale Energy', location='right')\n",
    "cb.set_label(label='Log Scale Energy', size=12)\n",
    "plt.legend(loc=0, prop={'size':12})\n",
    "plt.title('EMB2', fontsize=14)\n",
    "plt.xlabel('$\\eta$', fontsize=15)\n",
    "plt.ylabel('$\\phi$', fontsize=15)\n",
    "# plt.tight_layout()\n",
    "# plt.savefig('Plots/evt22/EMB2_scatter_wTrack_wClusterCenter_logscale_colormap_2021_05_17.png', format='png')\n",
    "plt.show()"
   ]
  },
  {
   "cell_type": "code",
   "execution_count": 47,
   "id": "a65d55fd",
   "metadata": {},
   "outputs": [
    {
     "data": {
      "image/png": "[encoded data removed]",
      "text/plain": [
       "<Figure size 432x288 with 2 Axes>"
      ]
     },
     "metadata": {
      "needs_background": "light"
     },
     "output_type": "display_data"
    }
   ],
   "source": [
    "### EMB3 ###\n",
    "mynorm = Normalize(vmin=np.min(EMB3_clust[:,6]), vmax=np.max(EMB3_clust[:,6]))\n",
    "\n",
    "plt.scatter(EMB3_clust[:,1], EMB3_clust[:,2], c=np.log(EMB3_clust[:,6]), cmap=cm.viridis, s=50)\n",
    "for m in range(len(my_coords)):\n",
    "    if m == 0:\n",
    "        plt.scatter(my_coords[m][2,0], my_coords[m][2,1], marker='x', color='black', s=150, label='Track')\n",
    "    else:\n",
    "        plt.scatter(my_coords[m][2,0], my_coords[m][2,1], marker='x', color='black', s=150)\n",
    "for i in range(len(cluster_centers)):\n",
    "    if i == 0:\n",
    "        plt.scatter(cluster_centers[i,0], cluster_centers[i,1], color='red', marker='x', s=150,\n",
    "                   label='Cluster Center')\n",
    "    else:\n",
    "        plt.scatter(cluster_centers[i,0], cluster_centers[i,1], color='red', marker='x', s=150)\n",
    "cb = plt.colorbar(cm.ScalarMappable(norm=mynorm, cmap='viridis'), label='Log Scale Energy', location='right')\n",
    "cb.set_label(label='Log Scale Energy', size=12)\n",
    "plt.legend(loc=0, prop={'size':12})\n",
    "plt.title('EMB3', fontsize=14)\n",
    "plt.xlabel('$\\eta$', fontsize=15)\n",
    "plt.ylabel('$\\phi$', fontsize=15)\n",
    "# plt.xlim(.5,1.4)\n",
    "# plt.ylim(-1.5,-.6)\n",
    "# plt.tight_layout()\n",
    "# plt.savefig('Plots/evt119/EMB3_scatter_wTrack_wClusterCenter_logscale_colormap_2021_05_18.png', format='png')\n",
    "plt.show()"
   ]
  },
  {
   "cell_type": "code",
   "execution_count": 48,
   "id": "a872e504",
   "metadata": {},
   "outputs": [
    {
     "data": {
      "image/png": "[encoded data removed]",
      "text/plain": [
       "<Figure size 432x288 with 2 Axes>"
      ]
     },
     "metadata": {
      "needs_background": "light"
     },
     "output_type": "display_data"
    }
   ],
   "source": [
    "### TileBar0 ###\n",
    "mynorm = Normalize(vmin=np.min(TileBar0_clust[:,6]), vmax=np.max(TileBar0_clust[:,6]))\n",
    "\n",
    "plt.scatter(TileBar0_clust[:,1], TileBar0_clust[:,2], c=np.log(TileBar0_clust[:,6]), cmap=cm.viridis, s=100)\n",
    "for m in range(len(my_coords)):\n",
    "    if m == 0:\n",
    "        plt.scatter(my_coords[m][3,0], my_coords[m][3,1], marker='x', color='black', s=150, label='Track')\n",
    "    else:\n",
    "        plt.scatter(my_coords[m][3,0], my_coords[m][3,1], marker='x', color='black', s=150)\n",
    "for i in range(len(cluster_centers)):\n",
    "    if i == 0:\n",
    "        plt.scatter(cluster_centers[i,0], cluster_centers[i,1], color='red', marker='x', s=150,\n",
    "                   label='Cluster Center')\n",
    "    else:\n",
    "        plt.scatter(cluster_centers[i,0], cluster_centers[i,1], color='red', marker='x', s=150)\n",
    "cb = plt.colorbar(cm.ScalarMappable(norm=mynorm, cmap='viridis'), label='Log Scale Energy', location='right')\n",
    "cb.set_label(label='Log Scale Energy', size=12)\n",
    "plt.legend(loc=3, prop={'size':12})\n",
    "plt.title('TileBar0', fontsize=14)\n",
    "plt.xlabel('$\\eta$', fontsize=15)\n",
    "plt.ylabel('$\\phi$', fontsize=15)\n",
    "# plt.tight_layout()\n",
    "# plt.savefig('Plots/evt22/TileBar0_scatter_wTrack_wClusterCenter_logscale_colormap_2021_05_17.png', format='png')\n",
    "plt.show()"
   ]
  },
  {
   "cell_type": "code",
   "execution_count": 49,
   "id": "a78701e7",
   "metadata": {},
   "outputs": [
    {
     "data": {
      "image/png": "[encoded data removed]",
      "text/plain": [
       "<Figure size 432x288 with 2 Axes>"
      ]
     },
     "metadata": {
      "needs_background": "light"
     },
     "output_type": "display_data"
    }
   ],
   "source": [
    "### TileBar1 ###\n",
    "mynorm = Normalize(vmin=np.min(TileBar1_clust[:,6]), vmax=np.max(TileBar1_clust[:,6]))\n",
    "\n",
    "plt.scatter(TileBar1_clust[:,1], TileBar1_clust[:,2], c=np.log(TileBar1_clust[:,6]), cmap=cm.viridis, s=200)\n",
    "for m in range(len(my_coords)):\n",
    "    if m == 0:\n",
    "        plt.scatter(my_coords[m][4,0], my_coords[m][4,1], marker='x', color='black', s=150, label='Track')\n",
    "    else:\n",
    "        plt.scatter(my_coords[m][4,0], my_coords[m][4,1], marker='x', color='black', s=150)\n",
    "for i in range(len(cluster_centers)):\n",
    "    if i == 0:\n",
    "        plt.scatter(cluster_centers[i,0], cluster_centers[i,1], color='red', marker='x', s=150,\n",
    "                   label='Cluster Center')\n",
    "    else:\n",
    "        plt.scatter(cluster_centers[i,0], cluster_centers[i,1], color='red', marker='x', s=150)\n",
    "cb = plt.colorbar(cm.ScalarMappable(norm=mynorm, cmap='viridis'), label='Log Scale Energy', location='right')\n",
    "cb.set_label(label='Log Scale Energy', size=12)\n",
    "plt.legend(loc=3, prop={'size':12})\n",
    "plt.title('TileBar1', fontsize=14)\n",
    "plt.xlabel('$\\eta$', fontsize=15)\n",
    "plt.ylabel('$\\phi$', fontsize=15)\n",
    "# plt.tight_layout()\n",
    "# plt.savefig('Plots/evt22/TileBar1_scatter_wTrack_wClusterCenter_logscale_colormap_2021_05_17.png', format='png')\n",
    "plt.show()"
   ]
  },
  {
   "cell_type": "code",
   "execution_count": 50,
   "id": "c9cbda38",
   "metadata": {},
   "outputs": [
    {
     "data": {
      "image/png": "[encoded data removed]",
      "text/plain": [
       "<Figure size 432x288 with 2 Axes>"
      ]
     },
     "metadata": {
      "needs_background": "light"
     },
     "output_type": "display_data"
    }
   ],
   "source": [
    "### TileBar2 ###\n",
    "mynorm = Normalize(vmin=np.min(TileBar2_clust[:,6]), vmax=np.max(TileBar2_clust[:,6]))\n",
    "\n",
    "plt.scatter(TileBar2_clust[:,1], TileBar2_clust[:,2], c=np.log(TileBar2_clust[:,6]), cmap=cm.viridis, s=150)\n",
    "for m in range(len(my_coords)):\n",
    "    if m == 0:\n",
    "        plt.scatter(my_coords[m][5,0], my_coords[m][5,1], marker='x', color='black', s=150, label='Track')\n",
    "    else:\n",
    "        plt.scatter(my_coords[m][5,0], my_coords[m][5,1], marker='x', color='black', s=150)\n",
    "for i in range(len(cluster_centers)):\n",
    "    if i == 0:\n",
    "        plt.scatter(cluster_centers[i,0], cluster_centers[i,1], color='red', marker='x', s=150,\n",
    "                   label='Cluster Center')\n",
    "    else:\n",
    "        plt.scatter(cluster_centers[i,0], cluster_centers[i,1], color='red', marker='x', s=150)\n",
    "cb = plt.colorbar(cm.ScalarMappable(norm=mynorm, cmap='viridis'), label='Log Scale Energy', location='right')\n",
    "cb.set_label(label='Log Scale Energy', size=12)\n",
    "plt.legend(loc=1, prop={'size':12})\n",
    "plt.title('TileBar2', fontsize=14)\n",
    "plt.xlabel('$\\eta$', fontsize=15)\n",
    "plt.ylabel('$\\phi$', fontsize=15)\n",
    "# plt.tight_layout()\n",
    "# plt.savefig('Plots/evt22/TileBar2_scatter_wTrack_wClusterCenter_logscale_colormap_2021_05_17.png', format='png')\n",
    "plt.show()"
   ]
  },
  {
   "cell_type": "markdown",
   "id": "9b4517a5",
   "metadata": {},
   "source": [
    "### Now use Imshow"
   ]
  },
  {
   "cell_type": "code",
   "execution_count": 849,
   "id": "41f195af",
   "metadata": {},
   "outputs": [],
   "source": [
    "def create_image(layer, _layer_eta, _layer_phi, _layer_E, _logscale=True):\n",
    "    ''' Takes layer and cluster information to produce a pixel image using binning.\n",
    "    Inputs: _cl_eta, _cl_phi, _cl_E: ordered np arrays of the same dimension representing\n",
    "    layer: string of the layer i.e. 'EMB1', 'TileBar0' etc '''\n",
    "    \n",
    "    _layer_geo = cell_granularity[layer]\n",
    "    \n",
    "    # physical cell dimensions\n",
    "    _cell_size_eta = _layer_geo['cell_size_eta']\n",
    "    \n",
    "    # number of cells\n",
    "    _nPhi = _layer_geo['nPhi']\n",
    "    _nEta = _layer_geo['nEta']\n",
    "    \n",
    "    _eta_range = _nEta*_cell_size_eta\n",
    "    _phi_range = 2*np.pi\n",
    "    \n",
    "    _eta_min = -(_nEta/2) * _cell_size_eta\n",
    "    print('eta min: '+str(_eta_min))\n",
    "    \n",
    "    # fill with np.nan so hopefully imshow wont plot this?\n",
    "    _image = np.full((_nEta, _nPhi), np.nan)\n",
    "    print('image shape '+str(np.shape(_image)))\n",
    "    \n",
    "    for i in range(len(_layer_E)):\n",
    "        \n",
    "        N = int(np.floor( ( (_layer_eta[i] - _eta_min)/_eta_range) *_nEta ))\n",
    "        M = int(np.floor( ( (_layer_phi[i] + np.pi)/(2*np.pi)) *_nPhi ))\n",
    "        \n",
    "        _inbounds = True\n",
    "        if N < 0 or M < 0:\n",
    "            _inbounds = False\n",
    "        if N >= _nEta or M >= _nPhi:\n",
    "            _inbounds = False\n",
    "            \n",
    "        if _inbounds == True:\n",
    "            if _logscale:\n",
    "                _image[N,M] = np.log(_layer_E[i])\n",
    "            else:\n",
    "                _image[N,M] = _layer_E[i]\n",
    "        \n",
    "    return _image"
   ]
  },
  {
   "cell_type": "code",
   "execution_count": 935,
   "id": "8d4cde12",
   "metadata": {},
   "outputs": [
    {
     "name": "stdout",
     "output_type": "stream",
     "text": [
      "eta min: -0.7000000000000001\n",
      "image shape (448, 32)\n",
      "[[        nan         nan         nan ...         nan         nan\n",
      "          nan]\n",
      " [        nan         nan         nan ...         nan         nan\n",
      "          nan]\n",
      " [        nan         nan         nan ... -4.96444954 -3.76930577\n",
      "          nan]\n",
      " ...\n",
      " [        nan         nan         nan ...         nan         nan\n",
      "          nan]\n",
      " [        nan         nan         nan ...         nan         nan\n",
      "          nan]\n",
      " [        nan         nan         nan ...         nan         nan\n",
      "          nan]]\n"
     ]
    },
    {
     "data": {
      "image/png": "[encoded data removed]",
      "text/plain": [
       "<Figure size 1000x1000 with 1 Axes>"
      ]
     },
     "metadata": {
      "needs_background": "light"
     },
     "output_type": "display_data"
    }
   ],
   "source": [
    "temp_EMB1_image = create_image(layer='EMB1', _layer_eta=EMB1_clust[:,1], _layer_phi=EMB1_clust[:,2],\n",
    "                               _layer_E=EMB1_clust[:,6], _logscale=True).transpose()\n",
    "print(temp_EMB1_image)\n",
    "plt.figure(figsize=(10,10), dpi=100)\n",
    "plt.imshow(temp_EMB1_image)\n",
    "current_cmap = plt.cm.get_cmap(\"viridis\").copy()\n",
    "current_cmap.set_bad(color='white')\n",
    "plt.title('EMB1',fontsize=14)\n",
    "# plt.tight_layout()\n",
    "# plt.savefig('Plots/evt22/EMB1_pixel_cluster_2021-05-14.png', format='png')\n",
    "plt.show()"
   ]
  },
  {
   "cell_type": "code",
   "execution_count": 943,
   "id": "ebf05706",
   "metadata": {},
   "outputs": [
    {
     "name": "stdout",
     "output_type": "stream",
     "text": [
      "eta min: -0.7000000000000001\n",
      "image shape (56, 128)\n",
      "[[nan nan nan ... nan nan nan]\n",
      " [nan nan nan ... nan nan nan]\n",
      " [nan nan nan ... nan nan nan]\n",
      " ...\n",
      " [nan nan nan ... nan nan nan]\n",
      " [nan nan nan ... nan nan nan]\n",
      " [nan nan nan ... nan nan nan]]\n"
     ]
    },
    {
     "data": {
      "image/png": "[encoded data removed]",
      "text/plain": [
       "<Figure size 400x400 with 1 Axes>"
      ]
     },
     "metadata": {
      "needs_background": "light"
     },
     "output_type": "display_data"
    }
   ],
   "source": [
    "temp_EMB2_image = create_image(layer='EMB2', _layer_eta=EMB2_clust[:,1], _layer_phi=EMB2_clust[:,2],\n",
    "                               _layer_E=EMB2_clust[:,6], _logscale=True).transpose()\n",
    "print(temp_EMB2_image)\n",
    "plt.figure(figsize=(4,4), dpi=100)\n",
    "plt.imshow(temp_EMB2_image[5:25,40:158])\n",
    "current_cmap = plt.cm.get_cmap(\"viridis\").copy()\n",
    "current_cmap.set_bad(color='white')\n",
    "plt.title('EMB2', fontsize=14)\n",
    "# plt.tight_layout()\n",
    "# plt.savefig('Plots/evt22/EMB2_pixel_cluster_2021-05-14.png', format='png')\n",
    "plt.show()"
   ]
  },
  {
   "cell_type": "code",
   "execution_count": 931,
   "id": "4d96be1f",
   "metadata": {},
   "outputs": [
    {
     "name": "stdout",
     "output_type": "stream",
     "text": [
      "eta min: -0.7000000000000001\n",
      "image shape (28, 128)\n",
      "[[nan nan nan ... nan nan nan]\n",
      " [nan nan nan ... nan nan nan]\n",
      " [nan nan nan ... nan nan nan]\n",
      " ...\n",
      " [nan nan nan ... nan nan nan]\n",
      " [nan nan nan ... nan nan nan]\n",
      " [nan nan nan ... nan nan nan]]\n"
     ]
    },
    {
     "data": {
      "image/png": "[encoded data removed]",
      "text/plain": [
       "<Figure size 400x400 with 1 Axes>"
      ]
     },
     "metadata": {
      "needs_background": "light"
     },
     "output_type": "display_data"
    }
   ],
   "source": [
    "temp_EMB3_image = create_image(layer='EMB3', _layer_eta=EMB3_clust[:,1], _layer_phi=EMB3_clust[:,2],\n",
    "                               _layer_E=EMB3_clust[:,6], _logscale=True).transpose()\n",
    "print(temp_EMB3_image)\n",
    "plt.figure(figsize=(4,4), dpi=100)\n",
    "plt.imshow(temp_EMB3_image[5:25:,16:])\n",
    "current_cmap = plt.cm.get_cmap(\"viridis\").copy()\n",
    "current_cmap.set_bad(color='white')\n",
    "plt.title('EMB3', fontsize=14)\n",
    "# plt.tight_layout()\n",
    "# plt.savefig('Plots/evt22/EMB3_pixel_cluster_2021-05-14.png', format='png')\n",
    "plt.show()"
   ]
  },
  {
   "cell_type": "code",
   "execution_count": 950,
   "id": "b36c1587",
   "metadata": {},
   "outputs": [
    {
     "name": "stdout",
     "output_type": "stream",
     "text": [
      "eta min: -0.7000000000000001\n",
      "image shape (14, 32)\n"
     ]
    },
    {
     "data": {
      "image/png": "[encoded data removed]",
      "text/plain": [
       "<Figure size 400x400 with 1 Axes>"
      ]
     },
     "metadata": {
      "needs_background": "light"
     },
     "output_type": "display_data"
    }
   ],
   "source": [
    "temp_TileBar0_image = create_image(layer='TileBar0', _layer_eta=TileBar0_clust[:,1], _layer_phi=TileBar0_clust[:,2],\n",
    "                               _layer_E=TileBar0_clust[:,6], _logscale=True).transpose()\n",
    "# print(temp_TileBar0_image)\n",
    "plt.figure(figsize=(4,4), dpi=100)\n",
    "plt.imshow(temp_TileBar0_image[0:15,0:15])\n",
    "current_cmap = plt.cm.get_cmap(\"viridis\").copy()\n",
    "current_cmap.set_bad(color='white')\n",
    "plt.title('TileBar0', fontsize=14)\n",
    "# plt.tight_layout()\n",
    "# plt.savefig('Plots/evt22/TileBar0_pixel_cluster_2021-05-14.png', format='png')\n",
    "plt.show()"
   ]
  },
  {
   "cell_type": "code",
   "execution_count": 956,
   "id": "1b541454",
   "metadata": {},
   "outputs": [
    {
     "name": "stdout",
     "output_type": "stream",
     "text": [
      "eta min: -0.7000000000000001\n",
      "image shape (14, 32)\n"
     ]
    },
    {
     "data": {
      "image/png": "[encoded data removed]",
      "text/plain": [
       "<Figure size 400x400 with 1 Axes>"
      ]
     },
     "metadata": {
      "needs_background": "light"
     },
     "output_type": "display_data"
    }
   ],
   "source": [
    "temp_TileBar1_image = create_image(layer='TileBar1', _layer_eta=TileBar1_clust[:,1], _layer_phi=TileBar1_clust[:,2],\n",
    "                               _layer_E=TileBar1_clust[:,6], _logscale=True).transpose()\n",
    "# print(temp_TileBar1_image)\n",
    "plt.figure(figsize=(4,4), dpi=100)\n",
    "plt.imshow(temp_TileBar1_image[0:10,5:15])\n",
    "current_cmap = plt.cm.get_cmap(\"viridis\").copy()\n",
    "current_cmap.set_bad(color='white')\n",
    "plt.title('TileBar1', fontsize=14)\n",
    "# plt.tight_layout()\n",
    "# plt.savefig('Plots/evt22/TileBar1_pixel_cluster_2021-05-14.png', format='png')\n",
    "plt.show()"
   ]
  },
  {
   "cell_type": "code",
   "execution_count": 958,
   "id": "fc6c3e88",
   "metadata": {},
   "outputs": [
    {
     "name": "stdout",
     "output_type": "stream",
     "text": [
      "eta min: -0.8\n",
      "image shape (8, 32)\n"
     ]
    },
    {
     "data": {
      "image/png": "[encoded data removed]",
      "text/plain": [
       "<Figure size 400x400 with 1 Axes>"
      ]
     },
     "metadata": {
      "needs_background": "light"
     },
     "output_type": "display_data"
    }
   ],
   "source": [
    "temp_TileBar2_image = create_image(layer='TileBar2', _layer_eta=TileBar2_clust[:,1], _layer_phi=TileBar2_clust[:,2],\n",
    "                               _layer_E=TileBar2_clust[:,6], _logscale=True).transpose()\n",
    "# print(temp_TileBar2_image)\n",
    "plt.figure(figsize=(4,4), dpi=100)\n",
    "plt.imshow(temp_TileBar2_image)\n",
    "current_cmap = plt.cm.get_cmap(\"viridis\").copy()\n",
    "current_cmap.set_bad(color='white')\n",
    "plt.title('TileBar2', fontsize=14)\n",
    "# plt.tight_layout()\n",
    "# plt.savefig('Plots/evt22/TileBar2_pixel_cluster_2021-05-14.png', format='png')\n",
    "plt.show()"
   ]
  },
  {
   "cell_type": "markdown",
   "id": "6128dc1e",
   "metadata": {},
   "source": [
    "## Six Panel Figure"
   ]
  },
  {
   "cell_type": "code",
   "execution_count": 88,
   "id": "d4611a61",
   "metadata": {},
   "outputs": [
    {
     "data": {
      "image/png": "[encoded data removed]",
      "text/plain": [
       "<Figure size 864x576 with 6 Axes>"
      ]
     },
     "metadata": {
      "needs_background": "light"
     },
     "output_type": "display_data"
    }
   ],
   "source": [
    "fig = plt.figure(figsize=(12,8))\n",
    "ax1 = fig.add_axes([.1,.2,.266,.3])\n",
    "ax2 = fig.add_axes([.416,.2,.266,.3])\n",
    "ax3 = fig.add_axes([.732,.2,.266,.3])\n",
    "ax4 = fig.add_axes([.1,.6,.266,.3])\n",
    "ax5 = fig.add_axes([.416,.6,.266,.3])\n",
    "ax6 = fig.add_axes([.732,.6,.266,.3])\n",
    "\n",
    "ax1.scatter(my_coords[0,0], my_coords[0,1], marker='x', color='black', s=100)\n",
    "ax1.set_xlim(-1,1)\n",
    "ax1.set_ylim(-np.pi/2,np.pi/2)\n",
    "\n",
    "ax2.scatter(my_coords[1,0], my_coords[1,1], marker='x', color='black', s=100)\n",
    "ax2.set_xlim(-1,1)\n",
    "ax2.set_ylim(-np.pi/2,np.pi/2)\n",
    "\n",
    "ax3.scatter(my_coords[2,0], my_coords[2,1], marker='x', color='black', s=100)\n",
    "ax3.set_xlim(-1,1)\n",
    "ax3.set_ylim(-np.pi/2,np.pi/2)\n",
    "\n",
    "ax4.scatter(my_coords[3,0], my_coords[3,1], marker='x', color='black', s=100)\n",
    "ax4.set_xlim(-1,1)\n",
    "ax4.set_ylim(-np.pi/2,np.pi/2)\n",
    "\n",
    "ax5.scatter(my_coords[4,0], my_coords[4,1], marker='x', color='black', s=100)\n",
    "ax5.set_xlim(-1,1)\n",
    "ax5.set_ylim(-np.pi/2,np.pi/2)\n",
    "\n",
    "ax6.scatter(my_coords[5,0], my_coords[5,1], marker='x', color='black', s=100)\n",
    "ax6.set_xlim(-1,1)\n",
    "ax6.set_ylim(-np.pi/2,np.pi/2)\n",
    "\n",
    "plt.show()"
   ]
  },
  {
   "cell_type": "markdown",
   "id": "aa849967",
   "metadata": {},
   "source": [
    "# Tracking Histograms"
   ]
  },
  {
   "cell_type": "code",
   "execution_count": 432,
   "id": "ad5d4f94",
   "metadata": {},
   "outputs": [],
   "source": [
    "## Pull all arrays\n",
    "\n",
    "def empty_to_zero(_rawArr):\n",
    "    ''' Takes a nested array where some of the arrays are empty and returns\n",
    "    a 1-D array with zeros where there are empty arrays. '''\n",
    "    retArr = np.empty(len(_rawArr))\n",
    "    for i in range(len(_rawArr)):\n",
    "        if _rawArr[i].size > 0:\n",
    "            retArr[i] = _rawArr[i][0]\n",
    "        else:\n",
    "            retArr[i] = 0\n",
    "    return retArr\n",
    "\n",
    "raw_trackPt = event_tree[\"trackPt\"].arrays(library=\"np\")['trackPt']\n",
    "nTrack = event_tree[\"nTrack\"].arrays(library=\"np\")['nTrack']\n",
    "raw_trackNumberOfPixelHits = event_tree[\"trackNumberOfPixelHits\"].arrays(library=\"np\")['trackNumberOfPixelHits']\n",
    "raw_trackNumberOfSCTHits = event_tree[\"trackNumberOfSCTHits\"].arrays(library=\"np\")['trackNumberOfSCTHits']\n",
    "raw_trackChiSquared = event_tree[\"trackChiSquared\"].arrays(library=\"np\")['trackChiSquared']\n",
    "raw_trackD0 = event_tree[\"trackD0\"].arrays(library=\"np\")['trackD0']\n",
    "raw_trackZ0 = event_tree[\"trackZ0\"].arrays(library=\"np\")['trackZ0']"
   ]
  },
  {
   "cell_type": "markdown",
   "id": "c6784c02",
   "metadata": {},
   "source": [
    "### Layer Histogram"
   ]
  },
  {
   "cell_type": "code",
   "execution_count": 555,
   "id": "7bb402f2",
   "metadata": {},
   "outputs": [
    {
     "name": "stdout",
     "output_type": "stream",
     "text": [
      "(187650,)\n"
     ]
    }
   ],
   "source": [
    "print(np.shape(cell_geo_sampling))"
   ]
  },
  {
   "cell_type": "markdown",
   "id": "3fabcff7",
   "metadata": {},
   "source": [
    "### Track Z0"
   ]
  },
  {
   "cell_type": "code",
   "execution_count": 452,
   "id": "08cba219",
   "metadata": {},
   "outputs": [
    {
     "name": "stdout",
     "output_type": "stream",
     "text": [
      "[array([], dtype=float32) array([8.018657], dtype=float32)\n",
      " array([-26.080801], dtype=float32) ... array([-55.30402], dtype=float32)\n",
      " array([], dtype=float32) array([-10.402824], dtype=float32)]\n",
      "[  0.           8.01865673 -26.08080101 ... -55.30401993   0.\n",
      " -10.4028244 ]\n"
     ]
    }
   ],
   "source": [
    "print(raw_trackZ0)\n",
    "trackZ0 = empty_to_zero(raw_trackZ0)\n",
    "print(trackZ0)"
   ]
  },
  {
   "cell_type": "code",
   "execution_count": 482,
   "id": "6d8a8227",
   "metadata": {},
   "outputs": [
    {
     "data": {
      "image/png": "[encoded data removed]",
      "text/plain": [
       "<Figure size 432x288 with 1 Axes>"
      ]
     },
     "metadata": {
      "needs_background": "light"
     },
     "output_type": "display_data"
    }
   ],
   "source": [
    "plt.hist(trackZ0, bins=25, range=(-280,280), color='rebeccapurple', alpha=.75, linewidth=.75, edgecolor='black')\n",
    "plt.title('Track $Z_0$', fontsize=16)\n",
    "plt.yscale('log')\n",
    "plt.xlim(-280,280)\n",
    "plt.ylim(.6,2e4)\n",
    "# plt.xticks(np.arange(0,19))\n",
    "plt.xlabel('mm',fontsize=12)\n",
    "# plt.tight_layout()\n",
    "# plt.savefig('Plots/track_Z0_OutputStream_000502_root_2021-05-10.png', format='png')\n",
    "plt.show()"
   ]
  },
  {
   "cell_type": "markdown",
   "id": "663912a3",
   "metadata": {},
   "source": [
    "### Track D0"
   ]
  },
  {
   "cell_type": "code",
   "execution_count": 434,
   "id": "83c5cc77",
   "metadata": {},
   "outputs": [
    {
     "name": "stdout",
     "output_type": "stream",
     "text": [
      "[array([], dtype=float32) array([-0.00386885], dtype=float32)\n",
      " array([-0.01672307], dtype=float32) ...\n",
      " array([0.19795716], dtype=float32) array([], dtype=float32)\n",
      " array([0.00348824], dtype=float32)]\n",
      "[ 0.         -0.00386885 -0.01672307 ...  0.19795716  0.\n",
      "  0.00348824]\n"
     ]
    }
   ],
   "source": [
    "print(raw_trackD0)\n",
    "trackD0 = empty_to_zero(raw_trackD0)\n",
    "print(trackD0)"
   ]
  },
  {
   "cell_type": "code",
   "execution_count": 483,
   "id": "ee4cc979",
   "metadata": {},
   "outputs": [
    {
     "data": {
      "image/png": "[encoded data removed]",
      "text/plain": [
       "<Figure size 432x288 with 1 Axes>"
      ]
     },
     "metadata": {
      "needs_background": "light"
     },
     "output_type": "display_data"
    }
   ],
   "source": [
    "plt.hist(trackD0, bins=26, range=(-10,14), color='crimson', alpha=.75, linewidth=.75, edgecolor='black')\n",
    "plt.title('Track $D_0$', fontsize=16)\n",
    "plt.yscale('log')\n",
    "plt.xlim(-10,14)\n",
    "plt.ylim(.6,4e4)\n",
    "# plt.xticks(np.arange(0,19))\n",
    "plt.xlabel('mm',fontsize=12)\n",
    "# plt.tight_layout()\n",
    "# plt.savefig('Plots/track_D0_OutputStream_000502_root_2021-05-10.png', format='png')\n",
    "plt.show()"
   ]
  },
  {
   "cell_type": "markdown",
   "id": "9f1ba617",
   "metadata": {},
   "source": [
    "### Chi Squared of track fit"
   ]
  },
  {
   "cell_type": "code",
   "execution_count": 426,
   "id": "b422ce66",
   "metadata": {},
   "outputs": [
    {
     "name": "stdout",
     "output_type": "stream",
     "text": [
      "[array([], dtype=float32) array([49.02249], dtype=float32)\n",
      " array([24.274464], dtype=float32) ... array([28.709236], dtype=float32)\n",
      " array([], dtype=float32) array([37.139793], dtype=float32)]\n",
      "[ 0.         49.02249146 24.27446365 ... 28.70923615  0.\n",
      " 37.1397934 ]\n"
     ]
    }
   ],
   "source": [
    "print(raw_trackChiSquared)\n",
    "trackChiSquared = empty_to_zero(raw_trackChiSquared)\n",
    "print(trackChiSquared)"
   ]
  },
  {
   "cell_type": "code",
   "execution_count": 484,
   "id": "d05ff48d",
   "metadata": {},
   "outputs": [
    {
     "data": {
      "image/png": "[encoded data removed]",
      "text/plain": [
       "<Figure size 432x288 with 1 Axes>"
      ]
     },
     "metadata": {
      "needs_background": "light"
     },
     "output_type": "display_data"
    }
   ],
   "source": [
    "plt.hist(trackChiSquared, bins=26, color='darkkhaki', alpha=.75, linewidth=.75, edgecolor='black')\n",
    "plt.title('Chi Squared of Track Fits', fontsize=16)\n",
    "plt.yscale('log')\n",
    "plt.xlim(0,260)\n",
    "plt.ylim(.6,1.2e4)\n",
    "# plt.xticks(np.arange(0,19))\n",
    "plt.xlabel('$\\chi^2$',fontsize=16)\n",
    "# plt.tight_layout()\n",
    "# plt.savefig('Plots/track_Chisq_OutputStream_000502_root_2021-05-10.png', format='png')\n",
    "plt.show()"
   ]
  },
  {
   "cell_type": "markdown",
   "id": "0a107020",
   "metadata": {},
   "source": [
    "### SCT Hits"
   ]
  },
  {
   "cell_type": "code",
   "execution_count": 416,
   "id": "ec785e19",
   "metadata": {},
   "outputs": [
    {
     "name": "stdout",
     "output_type": "stream",
     "text": [
      "[array([], dtype=int32) array([12], dtype=int32) array([9], dtype=int32)\n",
      " ... array([8], dtype=int32) array([], dtype=int32)\n",
      " array([8], dtype=int32)]\n",
      "[ 0 12  9 10  7  9  8  8  8 10  0  8  0  8  8  9  8  0  0  8]\n"
     ]
    }
   ],
   "source": [
    "print(raw_trackNumberOfSCTHits)\n",
    "trackNumberOfSCTHits = empty_to_zero(raw_trackNumberOfSCTHits).astype(np.int32)\n",
    "print(trackNumberOfSCTHits[0:20])"
   ]
  },
  {
   "cell_type": "code",
   "execution_count": 961,
   "id": "3abf33d3",
   "metadata": {},
   "outputs": [
    {
     "name": "stdout",
     "output_type": "stream",
     "text": [
      "[-0.5  0.5  1.5  2.5  3.5  4.5  5.5  6.5  7.5  8.5  9.5 10.5 11.5 12.5\n",
      " 13.5 14.5 15.5 16.5 17.5 18.5]\n"
     ]
    },
    {
     "data": {
      "image/png": "[encoded data removed]",
      "text/plain": [
       "<Figure size 432x288 with 1 Axes>"
      ]
     },
     "metadata": {
      "needs_background": "light"
     },
     "output_type": "display_data"
    }
   ],
   "source": [
    "bin_list = np.linspace(-.5, 18.5, num=20, endpoint=True)\n",
    "print(bin_list)\n",
    "\n",
    "plt.hist(trackNumberOfSCTHits, bins=bin_list, color='orangered', alpha=.75, linewidth=.75, edgecolor='black')\n",
    "plt.title('Number of SCT Hits', fontsize=16)\n",
    "plt.yscale('log')\n",
    "plt.xlim(.5,18.5)\n",
    "plt.ylim(.8,1e4)\n",
    "plt.xticks(np.arange(1,19))\n",
    "# plt.tight_layout()\n",
    "# plt.savefig('Plots/SCTHits_OutputStream_000502_root_2021-05-10.png', format='png')\n",
    "plt.show()"
   ]
  },
  {
   "cell_type": "markdown",
   "id": "f3e5839d",
   "metadata": {},
   "source": [
    "### Pixel Hits"
   ]
  },
  {
   "cell_type": "code",
   "execution_count": 414,
   "id": "d04ef707",
   "metadata": {},
   "outputs": [
    {
     "name": "stdout",
     "output_type": "stream",
     "text": [
      "[array([], dtype=int32) array([5], dtype=int32) array([5], dtype=int32)\n",
      " ... array([4], dtype=int32) array([], dtype=int32)\n",
      " array([4], dtype=int32)]\n",
      "[0 5 5 4 3 6 4 4 5 4 0 3 0 4 4 4 3 0 0 3]\n"
     ]
    }
   ],
   "source": [
    "print(raw_trackNumberOfPixelHits)\n",
    "trackNumberOfPixelHits=empty_to_zero(raw_trackNumberOfPixelHits).astype(np.int32)\n",
    "print(track_NumberOfPixelHits[0:20])"
   ]
  },
  {
   "cell_type": "code",
   "execution_count": 963,
   "id": "6707997a",
   "metadata": {},
   "outputs": [
    {
     "name": "stdout",
     "output_type": "stream",
     "text": [
      "[-0.5  0.5  1.5  2.5  3.5  4.5  5.5  6.5  7.5  8.5  9.5 10.5]\n"
     ]
    },
    {
     "data": {
      "image/png": "[encoded data removed]",
      "text/plain": [
       "<Figure size 432x288 with 1 Axes>"
      ]
     },
     "metadata": {
      "needs_background": "light"
     },
     "output_type": "display_data"
    }
   ],
   "source": [
    "bin_list = np.linspace(-.5, 10.5, num=12, endpoint=True)\n",
    "print(bin_list)\n",
    "\n",
    "plt.hist(trackNumberOfPixelHits, bins=bin_list, color='indianred', alpha=.75, linewidth=.75, edgecolor='black')\n",
    "plt.title('Number of Pixel Hits', fontsize=16)\n",
    "plt.yscale('log')\n",
    "plt.xlim(.5,10.5)\n",
    "plt.ylim(1,1e4)\n",
    "plt.xticks(np.arange(1,11))\n",
    "# plt.tight_layout()\n",
    "# plt.savefig('Plots/PixelHits_OutputStream_000502_root_2021-05-10.png', format='png')\n",
    "plt.show()"
   ]
  },
  {
   "cell_type": "markdown",
   "id": "ee07919a",
   "metadata": {},
   "source": [
    "### Track number"
   ]
  },
  {
   "cell_type": "code",
   "execution_count": 364,
   "id": "fc421746",
   "metadata": {},
   "outputs": [
    {
     "name": "stdout",
     "output_type": "stream",
     "text": [
      "[0 1 1 ... 1 0 1]\n"
     ]
    }
   ],
   "source": [
    "print(nTrack)"
   ]
  },
  {
   "cell_type": "code",
   "execution_count": 487,
   "id": "01111d4d",
   "metadata": {},
   "outputs": [
    {
     "name": "stdout",
     "output_type": "stream",
     "text": [
      "[-0.5  0.5  1.5  2.5  3.5  4.5  5.5  6.5  7.5  8.5  9.5 10.5 11.5]\n"
     ]
    },
    {
     "data": {
      "image/png": "[encoded data removed]",
      "text/plain": [
       "<Figure size 432x288 with 1 Axes>"
      ]
     },
     "metadata": {
      "needs_background": "light"
     },
     "output_type": "display_data"
    }
   ],
   "source": [
    "bin_list = np.linspace(-.5, 11.5, num=13, endpoint=True)\n",
    "print(bin_list)\n",
    "\n",
    "plt.hist(nTrack, bins=bin_list, alpha=.75, color='blue', linewidth=.75, edgecolor='black')\n",
    "plt.title('Number of Tracks', fontsize=16)\n",
    "plt.yscale('log')\n",
    "plt.xlim(-.5,11.5)\n",
    "plt.ylim(2,1.5e4)\n",
    "plt.xticks(np.arange(0,12))\n",
    "# plt.tight_layout()\n",
    "# plt.savefig('Plots/nTracks_OutputStream_000502_root_2021-05-10.png', format='png')\n",
    "plt.show()"
   ]
  },
  {
   "cell_type": "markdown",
   "id": "9b09128e",
   "metadata": {},
   "source": [
    "### Track Pt"
   ]
  },
  {
   "cell_type": "code",
   "execution_count": 387,
   "id": "a53d8f1d",
   "metadata": {},
   "outputs": [
    {
     "name": "stdout",
     "output_type": "stream",
     "text": [
      "Length of trackPt: 20000\n",
      "Maximum trackPt: 2161563.0\n",
      "[  0.         529.78540039   8.8500309  ...   0.78071713   0.\n",
      "  95.6516571 ]\n"
     ]
    }
   ],
   "source": [
    "trackPt = empty_to_zero(raw_trackPt)\n",
    "print('Length of trackPt: '+str(len(raw_trackPt)))\n",
    "print('Maximum trackPt: '+str(np.max(trackPt)))\n",
    "print(trackPt)"
   ]
  },
  {
   "cell_type": "code",
   "execution_count": 964,
   "id": "54f9b772",
   "metadata": {},
   "outputs": [
    {
     "data": {
      "image/png": "[encoded data removed]",
      "text/plain": [
       "<Figure size 432x288 with 1 Axes>"
      ]
     },
     "metadata": {
      "needs_background": "light"
     },
     "output_type": "display_data"
    }
   ],
   "source": [
    "plt.hist(trackPt, bins=20, range=(0,1600), alpha=.75, color='green', edgecolor='black', linewidth=.75)\n",
    "plt.yscale('log')\n",
    "plt.ylim(10,20000)\n",
    "plt.xlim(0,1600)\n",
    "plt.title('Track $p_t$',fontsize=16)\n",
    "plt.xlabel('MeV',fontsize=12)\n",
    "# plt.tight_layout()\n",
    "# plt.savefig('Plots/trackPt_OutputStream_000502_root_2021-05-10.png', format='png')\n",
    "plt.show()"
   ]
  },
  {
   "cell_type": "markdown",
   "id": "004cfd6d",
   "metadata": {},
   "source": [
    "### Cluster information\n",
    "#### use index list in barrel events"
   ]
  },
  {
   "cell_type": "code",
   "execution_count": 795,
   "id": "67ab47c0",
   "metadata": {},
   "outputs": [
    {
     "name": "stdout",
     "output_type": "stream",
     "text": [
      "Time to loop through all clusters: 273.14963006973267\n"
     ]
    }
   ],
   "source": [
    "# create list of all of the phi values of events which are in the barrel\n",
    "barrel_cell_phi = []\n",
    "\n",
    "t1 = t.time()\n",
    "\n",
    "for _evt_idx in barrel_events:\n",
    "\n",
    "    # pull nested array of cluster cell IDs\n",
    "    cluster_cell_ID = ak_cluster_cell_ID[\"cluster_cell_ID\"][_evt_idx]\n",
    "\n",
    "    for j in range(len(cluster_cell_ID)):\n",
    "        ''' loop through each cluster of the event '''\n",
    "\n",
    "        for l in range(len(cluster_cell_ID[j])):\n",
    "            ''' loop through the cluster elements searching for new layer numbers'''\n",
    "            # grab the first cell_geo_ID\n",
    "            _cell_geo_tag = cluster_cell_ID[j][l]\n",
    "        \n",
    "            # find the index of the cell_geo_ID, use [0][0] becuase of np.where return\n",
    "            _cell_geo_idx = np.where(cell_geo_ID == _cell_geo_tag)[0][0]\n",
    "\n",
    "            # find the sampling layer based on the index\n",
    "            this_layer = cell_geo_sampling[_cell_geo_idx]\n",
    "\n",
    "            # check if the cell sampling is in the barrel\n",
    "            if np.isin(this_layer, calo_layer_filter):\n",
    "                barrel_cell_phi.append( cell_geo_phi[_cell_geo_idx] )\n",
    "\n",
    "t2 = t.time()\n",
    "print('Time to loop through all clusters: '+str(t2-t1))"
   ]
  },
  {
   "cell_type": "code",
   "execution_count": 796,
   "id": "694b2228",
   "metadata": {},
   "outputs": [
    {
     "name": "stdout",
     "output_type": "stream",
     "text": [
      "[-2.9282923, -2.952828, -2.9282923, -2.952828, 1.8811033, 1.8565255, 1.9056808, 1.8811022, 1.881104, 1.8565261, 1.9056797, 1.9056815, 1.918034, 1.918034, 1.918034, 1.918034, 1.918034, 1.8810563, 1.881104, 1.8565261, 1.918034, 1.8197051, 1.8197051, 1.8197051, 1.8197051]\n"
     ]
    }
   ],
   "source": [
    "print(barrel_cell_phi[0:25])"
   ]
  },
  {
   "cell_type": "code",
   "execution_count": 799,
   "id": "b493c823",
   "metadata": {},
   "outputs": [
    {
     "data": {
      "image/png": "[encoded data removed]",
      "text/plain": [
       "<Figure size 432x288 with 1 Axes>"
      ]
     },
     "metadata": {
      "needs_background": "light"
     },
     "output_type": "display_data"
    }
   ],
   "source": [
    "barrel_cell_phi = np.array(barrel_cell_phi)\n",
    "\n",
    "plt.hist(barrel_cell_phi, bins=20, range=(-np.pi, np.pi), alpha=.75, color='mediumvioletred',\n",
    "         edgecolor='black', linewidth=.75)\n",
    "# plt.yscale('log')\n",
    "plt.ylim(40000,65000)\n",
    "plt.xlim(-np.pi,np.pi)\n",
    "plt.title('Phi Distribution of Barrel Events',fontsize=16)\n",
    "plt.xlabel('Phi, $\\Phi$',fontsize=12)\n",
    "# plt.tight_layout()\n",
    "# plt.savefig('Plots/trackPt_OutputStream_000502_root_2021-05-10.png', format='png')\n",
    "plt.show()"
   ]
  },
  {
   "cell_type": "code",
   "execution_count": null,
   "id": "230422ca",
   "metadata": {},
   "outputs": [],
   "source": []
  }
 ],
 "metadata": {
  "kernelspec": {
   "display_name": "Python 3 (ipykernel)",
   "language": "python",
   "name": "python3"
  },
  "language_info": {
   "codemirror_mode": {
    "name": "ipython",
    "version": 3
   },
   "file_extension": ".py",
   "mimetype": "text/x-python",
   "name": "python",
   "nbconvert_exporter": "python",
   "pygments_lexer": "ipython3",
   "version": "3.8.10"
  }
 },
 "nbformat": 4,
 "nbformat_minor": 5
}
