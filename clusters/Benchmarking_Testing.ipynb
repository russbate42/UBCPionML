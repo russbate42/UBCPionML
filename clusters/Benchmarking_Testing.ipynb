{
 "cells": [
  {
   "cell_type": "markdown",
   "id": "bc1bb6be-968b-49a8-ba49-7fb2ff05a504",
   "metadata": {},
   "source": [
    "# Bench Marks and Tests for Code"
   ]
  },
  {
   "cell_type": "code",
   "execution_count": 1,
   "id": "6915628f-5295-48f5-bc2a-bd41f2e6b089",
   "metadata": {},
   "outputs": [],
   "source": [
    "import numpy as np\n",
    "import time as t"
   ]
  },
  {
   "cell_type": "code",
   "execution_count": 2,
   "id": "704b7637-dec6-4c93-9ebc-06c343e1e605",
   "metadata": {},
   "outputs": [],
   "source": [
    "def find_index_forloop(_values, _unsorted):\n",
    "    N = len(_values)\n",
    "    _idx = np.zeros(N, dtype=np.int32)\n",
    "    for j in range(N):\n",
    "        _idx[j] = np.argmax(_values[j] == _unsorted)\n",
    "    return _idx\n",
    "\n",
    "def find_index_1D_dict(_values, _dict):\n",
    "    ''' Use a for loop and a dictionary. _values are the IDs to search for. _dict must be in format \n",
    "    (cell IDs: index) '''\n",
    "    _idx_vec = np.zeros(len(_values), dtype=np.int32)\n",
    "    for i in range(len(_values)):\n",
    "        _idx_vec[i] = _dict[_values[i]]\n",
    "    return _idx_vec\n",
    "\n",
    "def find_index_1D_tile(_values, _unsorted):\n",
    "    ''' tile and reshape the array '''\n",
    "    # convert this to rows \n",
    "    _values_2d_T = np.atleast_2d(_values).transpose()\n",
    "    _unsorted_2d = np.tile(_unsorted, (len(_values),1))\n",
    "    _idx_vec = np.argmax(_values_2d_T == _unsorted_2d, axis=1)\n",
    "    return _idx_vec\n",
    "\n",
    "def find_index_1D_repeat(_values, _unsorted):\n",
    "    ''' use repeat instead of tile '''\n",
    "    # convert this to rows\n",
    "    _values_2d_T = np.atleast_2d(_values).transpose()\n",
    "    _unsorted_2d = np.repeat(np.atleast_2d(_unsorted), repeats=len(_values), axis=0)\n",
    "    _idx_vec = np.argmax(_values_2d_T == _unsorted_2d, axis=1)\n",
    "    return _idx_vec"
   ]
  },
  {
   "cell_type": "code",
   "execution_count": 3,
   "id": "b924b03a-47d3-4df2-915b-bb6db5c90a6c",
   "metadata": {},
   "outputs": [
    {
     "name": "stdout",
     "output_type": "stream",
     "text": [
      "Searching for: [2 3]\n",
      "In: [7 0 9 5 4 8 2 6 1 3]\n"
     ]
    }
   ],
   "source": [
    "a = np.arange(10)\n",
    "np.random.shuffle(a)\n",
    "vals = np.array([2,3])\n",
    "print('Searching for: '+str(vals))\n",
    "print('In: '+str(a))"
   ]
  },
  {
   "cell_type": "code",
   "execution_count": 4,
   "id": "94a88d6e-2c21-499e-a22c-c244700943d7",
   "metadata": {},
   "outputs": [
    {
     "name": "stdout",
     "output_type": "stream",
     "text": [
      "[6 9]\n",
      "[6 9]\n",
      "[6 9]\n",
      "[6 9]\n"
     ]
    }
   ],
   "source": [
    "indices = find_index_1D_tile(vals, a)\n",
    "print(indices)\n",
    "indices = find_index_1D_repeat(vals, a)\n",
    "print(indices)\n",
    "indices = find_index_forloop(vals, a)\n",
    "print(indices)\n",
    "\n",
    "idx_dict = dict(zip(a, np.arange(10)))\n",
    "indices = find_index_1D_dict(vals, idx_dict)\n",
    "print(indices)"
   ]
  },
  {
   "cell_type": "markdown",
   "id": "98ed8f7e-5d0f-487b-ac84-b4e32963f4b2",
   "metadata": {},
   "source": [
    "#### Big Loop for benchmarking"
   ]
  },
  {
   "cell_type": "code",
   "execution_count": 7,
   "id": "1c9afaf6-03cb-4c02-a486-7c2e27c40559",
   "metadata": {},
   "outputs": [],
   "source": [
    "loop_num = 100\n",
    "list_size = 250\n",
    "tag_size = 25\n",
    "time_list = []\n",
    "label_list = ['tile', 'repeat', 'dict', 'for loop']\n",
    "\n",
    "unsorted_nums = np.arange(list_size)\n",
    "np.random.shuffle(unsorted_nums)\n",
    "idx_dict = dict(zip(unsorted_nums, np.arange(list_size)))\n",
    "tags = np.arange(tag_size)\n",
    "\n",
    "## TILE ##\n",
    "t0 = t.time()\n",
    "for j in range(loop_num):\n",
    "    indices = find_index_1D_tile(tags, unsorted_nums)\n",
    "t1 = t.time()\n",
    "time_list.append(t1 - t0)\n",
    "\n",
    "## REPEAT ##\n",
    "t0 = t.time()\n",
    "for j in range(loop_num):\n",
    "    indices = find_index_1D_repeat(tags, unsorted_nums)\n",
    "t1 = t.time()\n",
    "time_list.append(t1 - t0)\n",
    "\n",
    "## DICT ##\n",
    "t0 = t.time()\n",
    "for j in range(loop_num):\n",
    "    indices = find_index_1D_dict(tags, idx_dict)\n",
    "t1 = t.time()\n",
    "time_list.append(t1 - t0)\n",
    "\n",
    "## forloop ##\n",
    "t0 = t.time()\n",
    "for j in range(loop_num):\n",
    "    indices = find_index_forloop(tags, unsorted_nums)\n",
    "t1 = t.time()\n",
    "time_list.append(t1 - t0)"
   ]
  },
  {
   "cell_type": "code",
   "execution_count": 8,
   "id": "d2c5622a-ed28-47ad-b9bb-95499cbbb047",
   "metadata": {},
   "outputs": [
    {
     "name": "stdout",
     "output_type": "stream",
     "text": [
      "tile:  0.0\n",
      "repeat:  0.0\n",
      "dict:  0.0\n",
      "for loop:  0.01\n"
     ]
    }
   ],
   "source": [
    "for m in range(len(time_list)):\n",
    "    print(label_list[m]+':  '+str(np.round(time_list[m], 2)))"
   ]
  },
  {
   "cell_type": "code",
   "execution_count": 2,
   "id": "740b3978-e860-4cd8-94dc-bb65615c3d87",
   "metadata": {},
   "outputs": [
    {
     "name": "stdout",
     "output_type": "stream",
     "text": [
      "found it\n"
     ]
    }
   ],
   "source": [
    "import numpy as np\n",
    "my_array = None\n",
    "if my_array is not None:\n",
    "    print('yay')\n",
    "my_array = np.array([1,2,3])\n",
    "if my_array is not None:\n",
    "    print('found it')"
   ]
  },
  {
   "cell_type": "code",
   "execution_count": 3,
   "id": "205eb9d3-efc6-4655-afbb-ca99c801be23",
   "metadata": {},
   "outputs": [
    {
     "name": "stdout",
     "output_type": "stream",
     "text": [
      "[[ 0  1  2  3  4  5]\n",
      " [ 6  7  8  9 10 11]]\n",
      "[[0 0 0 0 0 0]\n",
      " [6 0 0 0 0 0]]\n"
     ]
    }
   ],
   "source": [
    "A = np.arange(12).reshape((2,6))\n",
    "print(A)\n",
    "A[:,1:6] = 0\n",
    "print(A)"
   ]
  },
  {
   "cell_type": "code",
   "execution_count": 4,
   "id": "5c4dda6b-3692-4851-a8c2-77a01a3ab11e",
   "metadata": {},
   "outputs": [
    {
     "name": "stdout",
     "output_type": "stream",
     "text": [
      "[[ 0.  7.  7.  5.  1.  1.]\n",
      " [ 0.  7.  7.  5.  1.  2.]\n",
      " [ 0.  7.  7.  5.  1.  3.]\n",
      " [ 0.  7.  7.  5.  1. 12.]\n",
      " [ 0.  7.  7.  5.  1. 13.]\n",
      " [ 0.  7.  7.  5.  1. 14.]]\n"
     ]
    }
   ],
   "source": [
    "track_sample_layer = np.array([1,2,3,12,13,14])\n",
    "\n",
    "track_arr = np.zeros((6,6))\n",
    "track_arr[:,5] = track_sample_layer\n",
    "# track flag\n",
    "track_arr[:,4] = np.ones((6,))\n",
    "track_arr[:,3] = 5\n",
    "\n",
    "# Fill in eta and phi values\n",
    "# this is complicated - simplify?\n",
    "p, q = 0, 1\n",
    "for j in range(12):\n",
    "    # This gives the key for the track dict\n",
    "    track_arr[p,q] = 7\n",
    "    if j%2 != 0:\n",
    "        p += 1\n",
    "        q = 1\n",
    "    else:\n",
    "        q = 2\n",
    "print(track_arr)"
   ]
  },
  {
   "cell_type": "code",
   "execution_count": 1,
   "id": "a18eb136-71d2-44d3-8710-46384381ec5e",
   "metadata": {},
   "outputs": [
    {
     "name": "stdout",
     "output_type": "stream",
     "text": [
      "175342.08695652173\n"
     ]
    }
   ],
   "source": [
    "print((1008217/46) * 8)"
   ]
  },
  {
   "cell_type": "code",
   "execution_count": 8,
   "id": "9dc66bd2-c482-4ec4-95ed-6f1dd38e501a",
   "metadata": {},
   "outputs": [
    {
     "name": "stdout",
     "output_type": "stream",
     "text": [
      "[[ 0.  7.  7.  5.  1.  1.]\n",
      " [ 0.  7.  7.  5.  1.  2.]\n",
      " [ 0.  7.  7.  5.  1.  3.]\n",
      " [ 0.  7.  7.  5.  1. 12.]\n",
      " [ 0.  7.  7.  5.  1. 13.]\n",
      " [ 0.  7.  7.  5.  1. 14.]]\n"
     ]
    }
   ],
   "source": [
    "C = track_arr[:,:6]\n",
    "print(C)"
   ]
  },
  {
   "cell_type": "code",
   "execution_count": 17,
   "id": "5ccb02aa-29e5-45af-9a6f-3d121a32a92d",
   "metadata": {},
   "outputs": [
    {
     "name": "stdout",
     "output_type": "stream",
     "text": [
      "[                                       ########################################]\n"
     ]
    },
    {
     "data": {
      "text/plain": [
       "2"
      ]
     },
     "execution_count": 17,
     "metadata": {},
     "output_type": "execute_result"
    }
   ],
   "source": [
    "import time\n",
    "import sys\n",
    "\n",
    "toolbar_width = 40\n",
    "\n",
    "# setup toolbar\n",
    "sys.stdout.write(\"[\"+\" \"*toolbar_width+\"]\")\n",
    "sys.stdout.flush()\n",
    "time.sleep(1)\n",
    "for j in range(toolbar_width):\n",
    "    sys.stdout.write(\"\\b\")\n",
    "sys.stdout.flush()\n",
    "\n",
    "for i in range(toolbar_width):\n",
    "    time.sleep(.1) # do real work here\n",
    "    # update the bar\n",
    "    sys.stdout.write(\"#\")\n",
    "    sys.stdout.flush()\n",
    "\n",
    "sys.stdout.write(\"]\\n\") # this ends the progress bar"
   ]
  },
  {
   "cell_type": "code",
   "execution_count": 21,
   "id": "00914a59-2ca3-4c70-9814-844004219103",
   "metadata": {},
   "outputs": [
    {
     "name": "stdout",
     "output_type": "stream",
     "text": [
      "[0, 1, 2, 3, 4, 5, 6, 7, 8, 9]\n",
      "[0]\n",
      "0\n"
     ]
    }
   ],
   "source": [
    "events = [i for i in range(10)]\n",
    "print(events)\n",
    "print(events[:1])\n",
    "print(events[0])"
   ]
  },
  {
   "cell_type": "code",
   "execution_count": 10,
   "id": "430ed470-4dbe-47fc-b826-667ee406ddbb",
   "metadata": {},
   "outputs": [
    {
     "name": "stdout",
     "output_type": "stream",
     "text": [
      "[[0 1 2]\n",
      " [3 4 5]]\n",
      "[0 1 0]\n",
      "(2, 3)\n",
      "(3,)\n",
      "[1 4]\n"
     ]
    }
   ],
   "source": [
    "A = np.arange(6).reshape((2,3))\n",
    "print(A)\n",
    "B = np.array([0,1,0])\n",
    "print(B)\n",
    "print(A.shape)\n",
    "print(B.shape)\n",
    "print(np.dot(A,B))\n"
   ]
  },
  {
   "cell_type": "code",
   "execution_count": 6,
   "id": "1b43a425-f06e-467b-9ce1-32ed9e2c35f3",
   "metadata": {},
   "outputs": [],
   "source": [
    "class callable_class:\n",
    "    \n",
    "    def __init__(self):\n",
    "        self.a = 5\n",
    "        self.b = 7\n",
    "    \n",
    "    def __call__(self, a, b):\n",
    "        self.a = a\n",
    "        self.b = b\n",
    "        \n",
    "class non_callable_class:\n",
    "    \n",
    "    def __init__(self):\n",
    "        self.a = 5\n",
    "        self.b = 7"
   ]
  },
  {
   "cell_type": "code",
   "execution_count": 7,
   "id": "6f70b1b3-1e46-4382-8a61-f8413ac63dfb",
   "metadata": {},
   "outputs": [
    {
     "name": "stdout",
     "output_type": "stream",
     "text": [
      "5 7\n",
      "8 9\n"
     ]
    }
   ],
   "source": [
    "call_obj = callable_class()\n",
    "print(call_obj.a, call_obj.b)\n",
    "\n",
    "call_obj(8,9)\n",
    "print(call_obj.a, call_obj.b)"
   ]
  },
  {
   "cell_type": "code",
   "execution_count": 8,
   "id": "8b23a328-b998-4da6-a72f-54263b547afa",
   "metadata": {},
   "outputs": [],
   "source": [
    "class non_callable_class:\n",
    "    \n",
    "    def __init__(self):\n",
    "        self.a = 5\n",
    "        self.b = 7\n",
    "\n",
    "class return_class:\n",
    "    \n",
    "    def __init__(self):\n",
    "        self.new_object = None\n",
    "        self.build()\n",
    "        \n",
    "    def build(self):\n",
    "        self.new_object = non_callable_class()\n",
    "        return self.new_object"
   ]
  },
  {
   "cell_type": "code",
   "execution_count": 10,
   "id": "f28dc3c6-b01e-41d3-b525-343bcdc43147",
   "metadata": {},
   "outputs": [
    {
     "name": "stdout",
     "output_type": "stream",
     "text": [
      "5\n"
     ]
    }
   ],
   "source": [
    "obj = return_class()\n",
    "print(obj.new_object.a)"
   ]
  },
  {
   "cell_type": "code",
   "execution_count": null,
   "id": "56838728-470f-4afe-90eb-1e9e07318b8f",
   "metadata": {},
   "outputs": [],
   "source": []
  }
 ],
 "metadata": {
  "kernelspec": {
   "display_name": "Python 3 (ipykernel)",
   "language": "python",
   "name": "python3"
  },
  "language_info": {
   "codemirror_mode": {
    "name": "ipython",
    "version": 3
   },
   "file_extension": ".py",
   "mimetype": "text/x-python",
   "name": "python",
   "nbconvert_exporter": "python",
   "pygments_lexer": "ipython3",
   "version": "3.8.10"
  }
 },
 "nbformat": 4,
 "nbformat_minor": 5
}
