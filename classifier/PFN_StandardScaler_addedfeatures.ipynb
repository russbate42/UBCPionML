{
 "cells": [
  {
   "cell_type": "markdown",
   "id": "c38e7ee3-d455-4f13-bbc7-5944448622ac",
   "metadata": {},
   "source": [
    "# 1. Standard Scaler formatting of the new features: sigma & volume"
   ]
  },
  {
   "cell_type": "code",
   "execution_count": null,
   "id": "bd951ebb-9fd4-4d59-b88a-221e317761ae",
   "metadata": {},
   "outputs": [],
   "source": [
    "import uproot as ur\n",
    "import awkward as ak\n",
    "import numpy as np"
   ]
  },
  {
   "cell_type": "code",
   "execution_count": null,
   "id": "72c29beb-71b3-4643-b7f7-c9a1bd49c62e",
   "metadata": {},
   "outputs": [],
   "source": [
    "\n",
    "import os\n",
    "os.environ['CUDA_VISIBLE_DEVICES'] = \"7\"\n",
    "os.environ['TF_FORCE_GPU_ALLOW_GROWTH'] = 'true'"
   ]
  },
  {
   "cell_type": "code",
   "execution_count": null,
   "id": "e565e720-34ed-41e7-a1b8-97a4e9394440",
   "metadata": {},
   "outputs": [],
   "source": [
    "import tensorflow as tf\n",
    "\n",
    "# energyflow imports\n",
    "import energyflow as ef\n",
    "from energyflow.archs import PFN\n",
    "\n",
    "from sklearn.metrics import roc_auc_score, roc_curve, auc\n",
    "import matplotlib.pyplot as plt\n",
    "\n",
    "from energyflow.utils import data_split"
   ]
  },
  {
   "cell_type": "code",
   "execution_count": null,
   "id": "a42d255a-9b0e-4ec9-a1ee-896ff4e23877",
   "metadata": {},
   "outputs": [],
   "source": [
    "# my worspace and directories\n",
    "path_prefix = '/home/dportill/LCStudies/'\n",
    "plotpath = path_prefix+'classifier/Plots_EFN/'\n",
    "modelpath = path_prefix+'classifier/Models_EFN/'\n",
    "\n",
    "\n",
    "data_path = '/fast_scratch/atlas_images/v01-45/'"
   ]
  },
  {
   "cell_type": "code",
   "execution_count": null,
   "id": "0ed970e2-80b4-4cd4-9b20-73bfebe3955a",
   "metadata": {},
   "outputs": [],
   "source": [
    "# import graph utilities\n",
    "import sys\n",
    "sys.path.append(path_prefix)\n",
    "from  util import graph_util as gu\n",
    "from  util import plot_util as pu"
   ]
  },
  {
   "cell_type": "code",
   "execution_count": null,
   "id": "dbf06e32-9169-484b-8cb9-052694a8c720",
   "metadata": {},
   "outputs": [],
   "source": [
    "#X = np.load(data_path+'X_4.npy')\n",
    "X = np.load(path_prefix+'X_added.npy')"
   ]
  },
  {
   "cell_type": "code",
   "execution_count": null,
   "id": "bfb6e4b7-4da4-49a3-b7dc-f0dc038dea09",
   "metadata": {},
   "outputs": [],
   "source": [
    "Y = tf.keras.utils.to_categorical(np.concatenate((np.ones(90000), np.zeros(90000))))"
   ]
  },
  {
   "cell_type": "code",
   "execution_count": 27,
   "id": "b023aaee-e624-458a-b94f-d7443b04ac0f",
   "metadata": {},
   "outputs": [
    {
     "data": {
      "text/plain": [
       "array([ 4.53063501e+00,  4.29472327e-03, -1.81615353e-03,  2.00000000e-01,\n",
       "        2.73519077e+01,  6.52059000e+05])"
      ]
     },
     "execution_count": 27,
     "metadata": {},
     "output_type": "execute_result"
    }
   ],
   "source": [
    "X[0,0]"
   ]
  },
  {
   "cell_type": "markdown",
   "id": "c89a7b65-9c06-4e61-b1d9-de3377f9b1e4",
   "metadata": {},
   "source": [
    "# scaling"
   ]
  },
  {
   "cell_type": "markdown",
   "id": "3eea0293-3840-401f-ad93-2168406a2829",
   "metadata": {},
   "source": [
    "class sklearn.preprocessing.StandardScaler(*, copy=True, with_mean=True, with_std=True)   [link](https://scikit-learn.org/stable/modules/generated/sklearn.preprocessing.StandardScaler.html)\n",
    "\n",
    "\n",
    "Standardize features by removing the mean and scaling to unit variance\n",
    "\n",
    "The standard score of a sample x is calculated as:\n",
    "\n",
    "z = (x - u) / s\n",
    "\n",
    "where u is the mean of the training samples or zero if with_mean=False, and s is the standard deviation of the training samples or one if with_std=False."
   ]
  },
  {
   "cell_type": "code",
   "execution_count": 25,
   "id": "5832ce8f-f4d1-45cd-9e49-6af6bc82d501",
   "metadata": {},
   "outputs": [],
   "source": [
    "from sklearn.preprocessing import StandardScaler"
   ]
  },
  {
   "cell_type": "code",
   "execution_count": 26,
   "id": "a7dc10eb-42c4-48c1-8f5f-6f3d51699439",
   "metadata": {},
   "outputs": [],
   "source": [
    "from energyflow.utils import data_split\n",
    "\n",
    "# do train/val/test split \n",
    "(X_train, X_val, X_test,\n",
    " Y_train, Y_val, Y_test) = data_split(X, Y, val=10000, test=40000)"
   ]
  },
  {
   "cell_type": "markdown",
   "id": "a780eec1-490b-4643-9d76-bc93027e72e9",
   "metadata": {},
   "source": [
    "Use the training sample for getting the mean and the standard deviation"
   ]
  },
  {
   "cell_type": "code",
   "execution_count": 39,
   "id": "237a9ec5-6bf2-4bb1-bfe7-bcfedc78492a",
   "metadata": {},
   "outputs": [
    {
     "data": {
      "text/plain": [
       "array([-1.66614178e+00,  1.40906572e-02, -1.07079029e-01,  1.30000000e+00,\n",
       "        2.26714191e+01,  7.70242400e+07])"
      ]
     },
     "execution_count": 39,
     "metadata": {},
     "output_type": "execute_result"
    }
   ],
   "source": [
    "X_train[0,0]"
   ]
  },
  {
   "cell_type": "code",
   "execution_count": 145,
   "id": "9c84180c-2bd6-4ede-abec-4443d4cd7dfe",
   "metadata": {},
   "outputs": [
    {
     "name": "stdout",
     "output_type": "stream",
     "text": [
      "Train sample:  130000\n",
      "Validation sample:  10000\n",
      "Test sample:  40000\n"
     ]
    }
   ],
   "source": [
    "print(\"Train sample: \", len(X_train))\n",
    "print(\"Validation sample: \", len(X_val))\n",
    "print(\"Test sample: \", len(X_test))"
   ]
  },
  {
   "cell_type": "markdown",
   "id": "35142630-c084-4180-91ee-56cc9abea704",
   "metadata": {},
   "source": [
    "# sigma"
   ]
  },
  {
   "cell_type": "code",
   "execution_count": 40,
   "id": "86494789-3d9f-450b-be71-60a652f387a4",
   "metadata": {},
   "outputs": [
    {
     "data": {
      "text/plain": [
       "array([[22.67141914, 22.99622536, 24.52235603, ...,  0.        ,\n",
       "         0.        ,  0.        ],\n",
       "       [27.89340019, 27.89340019, 27.89340019, ...,  0.        ,\n",
       "         0.        ,  0.        ],\n",
       "       [28.03528786, 28.03528786, 28.03528786, ...,  0.        ,\n",
       "         0.        ,  0.        ],\n",
       "       ...,\n",
       "       [37.78477859, 11.0093174 , 10.97433281, ...,  0.        ,\n",
       "         0.        ,  0.        ],\n",
       "       [29.11943054, 29.11943054, 29.11943054, ...,  0.        ,\n",
       "         0.        ,  0.        ],\n",
       "       [11.22116661, 11.22116661, 11.22116661, ...,  0.        ,\n",
       "         0.        ,  0.        ]])"
      ]
     },
     "execution_count": 40,
     "metadata": {},
     "output_type": "execute_result"
    }
   ],
   "source": [
    "#Sigma\n",
    "X_train[:,:,4]"
   ]
  },
  {
   "cell_type": "markdown",
   "id": "230c54e8-19e9-41d8-b299-719df633e39f",
   "metadata": {},
   "source": [
    "Calculate the mean and the RMS for the non-zero entries"
   ]
  },
  {
   "cell_type": "code",
   "execution_count": 41,
   "id": "6661e8b7-51df-4f50-8a8b-e0ddc9a49e58",
   "metadata": {},
   "outputs": [],
   "source": [
    "X_train_sigma_flat=ak.flatten(X_train[:,:,4])"
   ]
  },
  {
   "cell_type": "code",
   "execution_count": 42,
   "id": "6e621672-c996-48a3-873d-f22093466414",
   "metadata": {},
   "outputs": [
    {
     "data": {
      "text/plain": [
       "<Array [22.7, 23, 24.5, 21.6, ... 0, 0, 0, 0] type='260000000 * float64'>"
      ]
     },
     "execution_count": 42,
     "metadata": {},
     "output_type": "execute_result"
    }
   ],
   "source": [
    "X_train_sigma_flat"
   ]
  },
  {
   "cell_type": "code",
   "execution_count": 62,
   "id": "2eb043f4-b12b-4a7c-bb25-ec36817a1353",
   "metadata": {},
   "outputs": [
    {
     "data": {
      "image/png": "[encoded data removed]",
      "text/plain": [
       "<Figure size 799.992x599.976 with 1 Axes>"
      ]
     },
     "metadata": {},
     "output_type": "display_data"
    }
   ],
   "source": [
    "fig = plt.figure()\n",
    "plt.hist(X_train_sigma_flat, bins=np.linspace(0.0,100.,50,endpoint=True))\n",
    "plt.yscale('log')\n",
    "plt.show()"
   ]
  },
  {
   "cell_type": "code",
   "execution_count": 45,
   "id": "2eecb5f3-ee81-4a47-a9d9-f6340629669e",
   "metadata": {},
   "outputs": [],
   "source": [
    "NonZeroMask = np.invert(X_train_sigma_flat==0)"
   ]
  },
  {
   "cell_type": "code",
   "execution_count": 49,
   "id": "053c586d-aa74-4516-b6a1-aa051c679ef5",
   "metadata": {},
   "outputs": [
    {
     "data": {
      "text/plain": [
       "260000000"
      ]
     },
     "execution_count": 49,
     "metadata": {},
     "output_type": "execute_result"
    }
   ],
   "source": [
    "len(X_train_sigma_flat)"
   ]
  },
  {
   "cell_type": "code",
   "execution_count": 50,
   "id": "f68dd7a0-0dbb-41c8-a96c-601205dfe286",
   "metadata": {},
   "outputs": [],
   "source": [
    "X_train_sigma_flat_nozero = X_train_sigma_flat[NonZeroMask]"
   ]
  },
  {
   "cell_type": "code",
   "execution_count": 53,
   "id": "34ba914d-493b-4164-8ae3-b7a66bdc28f6",
   "metadata": {},
   "outputs": [
    {
     "data": {
      "text/plain": [
       "<Array [22.7, 23, 24.5, ... 11.1, 11.3, 11.3] type='11699234 * float64'>"
      ]
     },
     "execution_count": 53,
     "metadata": {},
     "output_type": "execute_result"
    }
   ],
   "source": [
    "X_train_sigma_flat_nozero"
   ]
  },
  {
   "cell_type": "code",
   "execution_count": 57,
   "id": "1af70059-8b8b-43ab-ab65-ba1a4dc25593",
   "metadata": {},
   "outputs": [
    {
     "name": "stdout",
     "output_type": "stream",
     "text": [
      "Number of zero padded cells: 248300766\n",
      "Number of effective cells: 11699234\n",
      "Percentage of effective cells: 4.4997053846153845\n"
     ]
    }
   ],
   "source": [
    "print(\"Number of zero padded cells:\", len(X_train_sigma_flat) - len(X_train_sigma_flat_nozero))\n",
    "print(\"Number of effective cells:\", len(X_train_sigma_flat_nozero))\n",
    "print(\"Percentage of effective cells:\", (len(X_train_sigma_flat_nozero)*100.)/ len(X_train_sigma_flat))"
   ]
  },
  {
   "cell_type": "code",
   "execution_count": 132,
   "id": "84d67fed-e189-4816-a11b-f902139936ed",
   "metadata": {},
   "outputs": [
    {
     "data": {
      "image/png": "[encoded data removed]",
      "text/plain": [
       "<Figure size 799.992x599.976 with 1 Axes>"
      ]
     },
     "metadata": {},
     "output_type": "display_data"
    }
   ],
   "source": [
    "fig = plt.figure()\n",
    "plt.hist(X_train_sigma_flat_nozero, bins=np.linspace(0.0,100.,50,endpoint=True))\n",
    "plt.yscale('log')\n",
    "plt.show()"
   ]
  },
  {
   "cell_type": "code",
   "execution_count": 66,
   "id": "88213b44-3d33-40d1-82e6-1385f74e5a28",
   "metadata": {},
   "outputs": [],
   "source": [
    "Sum_sigma = np.sum(X_train_sigma_flat_nozero)"
   ]
  },
  {
   "cell_type": "code",
   "execution_count": 74,
   "id": "2045bf27-f321-43fd-8746-d8a1727b76dc",
   "metadata": {},
   "outputs": [
    {
     "data": {
      "text/plain": [
       "230644343.17050552"
      ]
     },
     "execution_count": 74,
     "metadata": {},
     "output_type": "execute_result"
    }
   ],
   "source": [
    "#SUM OF ALL THE VALUES OF SIGMA\n",
    "Sum_sigma"
   ]
  },
  {
   "cell_type": "code",
   "execution_count": 82,
   "id": "6daf6eee-a923-4e2f-9d8f-44c29d53ea6c",
   "metadata": {},
   "outputs": [],
   "source": [
    "mean_sigma = np.mean(X_train_sigma_flat_nozero)"
   ]
  },
  {
   "cell_type": "code",
   "execution_count": 83,
   "id": "80a74b7c-e6cf-4469-9989-8b18da2a4a53",
   "metadata": {},
   "outputs": [
    {
     "name": "stdout",
     "output_type": "stream",
     "text": [
      "Calculated mean:  19.714482432824706\n",
      "Mean from numpy: 19.714482432824706\n",
      "Median from numpy: 21.60210418701172\n"
     ]
    }
   ],
   "source": [
    "print(\"Mean by hand: \", Sum_sigma/len(X_train_sigma_flat_nozero))\n",
    "print(\"Mean from numpy:\" , np.mean(X_train_sigma_flat_nozero))\n",
    "print(\"Median from numpy:\" , np.ma.median(X_train_sigma_flat_nozero))  # he median is the middle value of a sorted copy of V"
   ]
  },
  {
   "cell_type": "code",
   "execution_count": 135,
   "id": "fd7e4244-4ef4-4aff-bd85-c96adde9ce61",
   "metadata": {},
   "outputs": [],
   "source": [
    "std_sigma=np.std(X_train_sigma_flat_nozero)"
   ]
  },
  {
   "cell_type": "code",
   "execution_count": 89,
   "id": "5b333be0-0d75-46d0-ab82-138695e8378d",
   "metadata": {},
   "outputs": [
    {
     "name": "stdout",
     "output_type": "stream",
     "text": [
      "Std from numpy: 7.736588045868299\n",
      "RMS by hand: 21.17818717892602\n",
      "RMS from sklearn: 21.17818717892602\n",
      "Variance:  59.854794591472256\n"
     ]
    }
   ],
   "source": [
    "from sklearn.metrics import mean_squared_error\n",
    "rmse = mean_squared_error(X_train_sigma_flat_nozero,[0 for _ in X_train_sigma_flat_nozero], squared=False)\n",
    "print(\"Std from numpy:\" , np.std(X_train_sigma_flat_nozero))\n",
    "print(\"RMS by hand:\" , np.sqrt(np.mean(X_train_sigma_flat_nozero**2)))\n",
    "print(\"RMS from sklearn:\" , rmse)\n",
    "print(\"Variance: \", np.var(X_train_sigma_flat_nozero,ddof=0))  #std squared"
   ]
  },
  {
   "cell_type": "markdown",
   "id": "8fe52d7a-9d7f-4844-bb8a-67578aee0608",
   "metadata": {},
   "source": [
    "## scale with mean and std pof sigma the complete input X"
   ]
  },
  {
   "cell_type": "code",
   "execution_count": 113,
   "id": "224d8bce-3429-4c90-8ad3-fa946f46420b",
   "metadata": {},
   "outputs": [
    {
     "data": {
      "text/plain": [
       "array([0., 0., 0., 0., 0., 0.])"
      ]
     },
     "execution_count": 113,
     "metadata": {},
     "output_type": "execute_result"
    }
   ],
   "source": [
    "X[0,282] #start to be padded with zero"
   ]
  },
  {
   "cell_type": "code",
   "execution_count": 114,
   "id": "08cfd643-fa66-4b79-8585-86d9ea929690",
   "metadata": {},
   "outputs": [
    {
     "data": {
      "text/plain": [
       "array([ 4.53063501e+00,  4.29472327e-03, -1.81615353e-03,  2.00000000e-01,\n",
       "        2.73519077e+01,  6.52059000e+05])"
      ]
     },
     "execution_count": 114,
     "metadata": {},
     "output_type": "execute_result"
    }
   ],
   "source": [
    "X[0,0] "
   ]
  },
  {
   "cell_type": "code",
   "execution_count": 107,
   "id": "5d1b5229-7cc6-457a-a1fc-f7f353d69296",
   "metadata": {},
   "outputs": [],
   "source": [
    "X_scaled = X"
   ]
  },
  {
   "cell_type": "code",
   "execution_count": 111,
   "id": "ada6d092-6fa6-482a-80b1-e11229d68645",
   "metadata": {},
   "outputs": [
    {
     "data": {
      "text/plain": [
       "array([0., 0., 0., 0., 0., 0.])"
      ]
     },
     "execution_count": 111,
     "metadata": {},
     "output_type": "execute_result"
    }
   ],
   "source": [
    "X_scaled[0,282]"
   ]
  },
  {
   "cell_type": "markdown",
   "id": "d5dddcda-4965-44fd-90e7-1d04e235aaa2",
   "metadata": {},
   "source": [
    "numpy.where(condition[, x, y])\n",
    "\n",
    "\n",
    "condition : Where True, yield x, otherwise yield y."
   ]
  },
  {
   "cell_type": "code",
   "execution_count": 115,
   "id": "bff95f26-4b48-4972-a4db-6fe88e331e7d",
   "metadata": {},
   "outputs": [
    {
     "data": {
      "text/plain": [
       "19.714482432824706"
      ]
     },
     "execution_count": 115,
     "metadata": {},
     "output_type": "execute_result"
    }
   ],
   "source": [
    "mean_sigma"
   ]
  },
  {
   "cell_type": "code",
   "execution_count": 137,
   "id": "4ca431f5-9661-4338-adfb-74c5777dcd44",
   "metadata": {},
   "outputs": [
    {
     "data": {
      "text/plain": [
       "7.736588045868299"
      ]
     },
     "execution_count": 137,
     "metadata": {},
     "output_type": "execute_result"
    }
   ],
   "source": [
    "std_sigma"
   ]
  },
  {
   "cell_type": "code",
   "execution_count": 122,
   "id": "01c4b4e7-8604-43e7-b076-8a2ce4f8d4ab",
   "metadata": {},
   "outputs": [],
   "source": [
    "from tqdm import tqdm"
   ]
  },
  {
   "cell_type": "code",
   "execution_count": 124,
   "id": "a7f31204-e2d2-46e4-9135-3b467899a3f6",
   "metadata": {},
   "outputs": [],
   "source": [
    "X_scaled[:,:,4] = np.where( X[:,:,4] != 0. ,  ( X[:,:,4] - mean_sigma)/ std_sigma , X[:,:,4]    )"
   ]
  },
  {
   "cell_type": "code",
   "execution_count": 125,
   "id": "e24a95b7-15f0-4f10-b6e2-7a0468cd0504",
   "metadata": {},
   "outputs": [
    {
     "data": {
      "text/plain": [
       "array([0., 0., 0., 0., 0., 0.])"
      ]
     },
     "execution_count": 125,
     "metadata": {},
     "output_type": "execute_result"
    }
   ],
   "source": [
    "X_scaled[0,282]"
   ]
  },
  {
   "cell_type": "code",
   "execution_count": 129,
   "id": "7acc09f5-9ddf-45e0-a6b2-f252aa702cd9",
   "metadata": {},
   "outputs": [
    {
     "data": {
      "text/plain": [
       "array([ 4.53063501e+00,  4.29472327e-03, -1.81615353e-03,  2.00000000e-01,\n",
       "        9.87182625e-01,  6.52059000e+05])"
      ]
     },
     "execution_count": 129,
     "metadata": {},
     "output_type": "execute_result"
    }
   ],
   "source": [
    "X_scaled[0,0] "
   ]
  },
  {
   "cell_type": "code",
   "execution_count": 128,
   "id": "cf5b8ac2-8399-4151-8e35-180c3e40d156",
   "metadata": {},
   "outputs": [
    {
     "data": {
      "text/plain": [
       "(180000, 2000, 6)"
      ]
     },
     "execution_count": 128,
     "metadata": {},
     "output_type": "execute_result"
    }
   ],
   "source": [
    "X_scaled.shape"
   ]
  },
  {
   "cell_type": "code",
   "execution_count": 140,
   "id": "4ec1b325-f2ca-47b3-8e1c-07b712f88075",
   "metadata": {},
   "outputs": [
    {
     "data": {
      "image/png": "[encoded data removed]",
      "text/plain": [
       "<Figure size 799.992x599.976 with 1 Axes>"
      ]
     },
     "metadata": {},
     "output_type": "display_data"
    }
   ],
   "source": [
    "fig = plt.figure()\n",
    "plt.hist(ak.flatten(X_scaled[:,:,4]), bins=np.linspace(-10,10,40,endpoint=True))\n",
    "plt.yscale('log')\n",
    "plt.show()"
   ]
  },
  {
   "cell_type": "code",
   "execution_count": null,
   "id": "fcffb12d-5759-4c35-82a7-1ec5b7574fcd",
   "metadata": {},
   "outputs": [],
   "source": []
  },
  {
   "cell_type": "code",
   "execution_count": null,
   "id": "4ce965a4-c66c-4937-abe3-748548eb7fae",
   "metadata": {},
   "outputs": [],
   "source": []
  },
  {
   "cell_type": "markdown",
   "id": "3e3beb02-f830-4395-854d-9f2e56521b65",
   "metadata": {},
   "source": [
    "# Volume"
   ]
  },
  {
   "cell_type": "code",
   "execution_count": 141,
   "id": "6e1e1e6b-6ee5-47bd-9c2b-e9780f99d2f3",
   "metadata": {},
   "outputs": [
    {
     "data": {
      "text/plain": [
       "array([[77024240. , 77024240. , 77024240. , ...,        0. ,        0. ,\n",
       "               0. ],\n",
       "       [  724224. ,   724224. ,   724224. , ...,        0. ,        0. ,\n",
       "               0. ],\n",
       "       [  680446. ,   680446. ,   680446. , ...,        0. ,        0. ,\n",
       "               0. ],\n",
       "       ...,\n",
       "       [       0. ,   101338. ,   101473. , ...,        0. ,        0. ,\n",
       "               0. ],\n",
       "       [  707737. ,   707737. ,   707737. , ...,        0. ,        0. ,\n",
       "               0. ],\n",
       "       [   99135.5,    99135.5,    99135.5, ...,        0. ,        0. ,\n",
       "               0. ]])"
      ]
     },
     "execution_count": 141,
     "metadata": {},
     "output_type": "execute_result"
    }
   ],
   "source": [
    "#Volume\n",
    "X_train[:,:,5]"
   ]
  },
  {
   "cell_type": "markdown",
   "id": "01a88f27-b30b-4ff5-be8b-efd898b29241",
   "metadata": {},
   "source": [
    "Calculate the mean and the RMS for the non-zero entries"
   ]
  },
  {
   "cell_type": "code",
   "execution_count": 142,
   "id": "bfc6b9d3-67da-401e-a6e9-2fec8390ada9",
   "metadata": {},
   "outputs": [],
   "source": [
    "X_train_volume_flat=ak.flatten(X_train[:,:,5])"
   ]
  },
  {
   "cell_type": "code",
   "execution_count": 143,
   "id": "7d2c3b08-c2ea-4ba7-b08b-74a62afc41d3",
   "metadata": {},
   "outputs": [
    {
     "data": {
      "text/plain": [
       "<Array [7.7e+07, 7.7e+07, 7.7e+07, ... 0, 0, 0] type='260000000 * float64'>"
      ]
     },
     "execution_count": 143,
     "metadata": {},
     "output_type": "execute_result"
    }
   ],
   "source": [
    "X_train_volume_flat"
   ]
  },
  {
   "cell_type": "code",
   "execution_count": 148,
   "id": "80f017d9-bbd8-48f4-b027-ef1ff299ee9d",
   "metadata": {},
   "outputs": [
    {
     "data": {
      "image/png": "[encoded data removed]",
      "text/plain": [
       "<Figure size 799.992x599.976 with 1 Axes>"
      ]
     },
     "metadata": {},
     "output_type": "display_data"
    }
   ],
   "source": [
    "fig = plt.figure()\n",
    "plt.hist( X_train_volume_flat, bins=np.linspace(0.0,3.5e8,50,endpoint=True))\n",
    "plt.yscale('log')\n",
    "plt.show()"
   ]
  },
  {
   "cell_type": "markdown",
   "id": "c9242b37-b7c3-4d2e-8266-b6e0e4e721e8",
   "metadata": {},
   "source": [
    "Take out zero padded entries"
   ]
  },
  {
   "cell_type": "code",
   "execution_count": 149,
   "id": "ebe47794-6658-4186-8cee-611b9f44b665",
   "metadata": {},
   "outputs": [],
   "source": [
    "NonZeroMask_vol = np.invert(X_train_volume_flat==0)"
   ]
  },
  {
   "cell_type": "code",
   "execution_count": 150,
   "id": "6e12cad6-a404-4743-adde-cb0ee887a1ab",
   "metadata": {},
   "outputs": [
    {
     "data": {
      "text/plain": [
       "260000000"
      ]
     },
     "execution_count": 150,
     "metadata": {},
     "output_type": "execute_result"
    }
   ],
   "source": [
    "len(X_train_volume_flat)"
   ]
  },
  {
   "cell_type": "code",
   "execution_count": 151,
   "id": "2283209d-e880-489c-9c17-3e8461eff4fb",
   "metadata": {},
   "outputs": [],
   "source": [
    "X_train_volume_flat_nozero = X_train_volume_flat[NonZeroMask_vol]"
   ]
  },
  {
   "cell_type": "code",
   "execution_count": 154,
   "id": "b69cdbe7-a9f7-4c75-958c-7aa9c81dd317",
   "metadata": {},
   "outputs": [
    {
     "data": {
      "text/plain": [
       "<Array [7.7e+07, 7.7e+07, ... 9.9e+04, 9.9e+04] type='11441136 * float64'>"
      ]
     },
     "execution_count": 154,
     "metadata": {},
     "output_type": "execute_result"
    }
   ],
   "source": [
    "X_train_volume_flat_nozero"
   ]
  },
  {
   "cell_type": "code",
   "execution_count": 155,
   "id": "a7aef7da-4424-4c5a-9036-3fcb68a63a9b",
   "metadata": {},
   "outputs": [
    {
     "name": "stdout",
     "output_type": "stream",
     "text": [
      "Number of zero padded cells: 248558864\n",
      "Number of effective cells: 11441136\n",
      "Percentage of effective cells: 4.400436923076923\n"
     ]
    }
   ],
   "source": [
    "print(\"Number of zero padded cells:\", len(X_train_volume_flat) - len(X_train_volume_flat_nozero))\n",
    "print(\"Number of effective cells:\", len(X_train_volume_flat_nozero))\n",
    "print(\"Percentage of effective cells:\", (len(X_train_volume_flat_nozero)*100.)/ len(X_train_volume_flat))"
   ]
  },
  {
   "cell_type": "markdown",
   "id": "590b37a4-c8fc-4a22-ad7e-48afa62b28ca",
   "metadata": {},
   "source": [
    "????????? Why this values are different for volume entry wrt sigma entry"
   ]
  },
  {
   "cell_type": "code",
   "execution_count": 156,
   "id": "ad421123-1d44-433c-b87c-91d7f2f4f07b",
   "metadata": {},
   "outputs": [
    {
     "data": {
      "image/png": "[encoded data removed]",
      "text/plain": [
       "<Figure size 799.992x599.976 with 1 Axes>"
      ]
     },
     "metadata": {},
     "output_type": "display_data"
    }
   ],
   "source": [
    "fig = plt.figure()\n",
    "plt.hist(X_train_volume_flat_nozero, bins=np.linspace(0.0,3.5e8,50,endpoint=True))\n",
    "plt.yscale('log')\n",
    "plt.show()"
   ]
  },
  {
   "cell_type": "code",
   "execution_count": 157,
   "id": "47a1f34b-3302-4995-8c91-007f06cfb0f9",
   "metadata": {},
   "outputs": [],
   "source": [
    "Sum_volume = np.sum(X_train_volume_flat_nozero)"
   ]
  },
  {
   "cell_type": "code",
   "execution_count": 158,
   "id": "121c1f57-de6c-4a6d-a043-dbee8567cca0",
   "metadata": {},
   "outputs": [
    {
     "data": {
      "text/plain": [
       "79580778724926.23"
      ]
     },
     "execution_count": 158,
     "metadata": {},
     "output_type": "execute_result"
    }
   ],
   "source": [
    "#SUM OF ALL THE VALUES OF SIGMA\n",
    "Sum_volume"
   ]
  },
  {
   "cell_type": "code",
   "execution_count": 159,
   "id": "744c5998-0247-4750-a1c3-21ba2739edfc",
   "metadata": {},
   "outputs": [],
   "source": [
    "mean_volume = np.mean(X_train_volume_flat_nozero)"
   ]
  },
  {
   "cell_type": "code",
   "execution_count": 160,
   "id": "d53d26f6-4c9c-4b1d-a129-057021724855",
   "metadata": {},
   "outputs": [
    {
     "data": {
      "text/plain": [
       "6955671.073652672"
      ]
     },
     "execution_count": 160,
     "metadata": {},
     "output_type": "execute_result"
    }
   ],
   "source": [
    "mean_volume"
   ]
  },
  {
   "cell_type": "code",
   "execution_count": 161,
   "id": "5b34a976-dad0-41e1-96f1-87fad9c86793",
   "metadata": {},
   "outputs": [
    {
     "name": "stdout",
     "output_type": "stream",
     "text": [
      "Mean by hand:  6955671.073652672\n",
      "Mean from numpy: 6955671.073652672\n",
      "Median from numpy: 368405.0\n"
     ]
    }
   ],
   "source": [
    "print(\"Mean by hand: \", Sum_volume/len(X_train_volume_flat_nozero))\n",
    "print(\"Mean from numpy:\" , np.mean(X_train_volume_flat_nozero))\n",
    "print(\"Median from numpy:\" , np.ma.median(X_train_volume_flat_nozero))  # he median is the middle value of a sorted copy of V"
   ]
  },
  {
   "cell_type": "code",
   "execution_count": 162,
   "id": "44d051ed-631c-4208-8853-a3c74d5797a2",
   "metadata": {},
   "outputs": [],
   "source": [
    "std_volume=np.std(X_train_volume_flat_nozero)"
   ]
  },
  {
   "cell_type": "code",
   "execution_count": 163,
   "id": "b9bae6e1-06ec-415e-b48f-65d4b3f58c43",
   "metadata": {},
   "outputs": [
    {
     "data": {
      "text/plain": [
       "21670291.344921328"
      ]
     },
     "execution_count": 163,
     "metadata": {},
     "output_type": "execute_result"
    }
   ],
   "source": [
    "std_volume"
   ]
  },
  {
   "cell_type": "code",
   "execution_count": 164,
   "id": "651105d1-a864-4a7d-ac7c-5fc8e15889b9",
   "metadata": {},
   "outputs": [
    {
     "name": "stdout",
     "output_type": "stream",
     "text": [
      "Std from numpy: 21670291.344921328\n",
      "RMS by hand: 22759237.40063848\n",
      "RMS from sklearn: 22759237.40063848\n",
      "Variance:  469601526973772.25\n"
     ]
    }
   ],
   "source": [
    "rmse_volume = mean_squared_error(X_train_volume_flat_nozero,[0 for _ in X_train_volume_flat_nozero], squared=False)\n",
    "print(\"Std from numpy:\" , np.std(X_train_volume_flat_nozero))\n",
    "print(\"RMS by hand:\" , np.sqrt(np.mean(X_train_volume_flat_nozero**2)))\n",
    "print(\"RMS from sklearn:\" , rmse_volume)\n",
    "print(\"Variance: \", np.var(X_train_volume_flat_nozero,ddof=0))  #std squared"
   ]
  },
  {
   "cell_type": "markdown",
   "id": "1ad4fc18-ad8f-4c96-8362-649a9b0157e0",
   "metadata": {},
   "source": [
    "## scale with mean and std of volume the complete input X"
   ]
  },
  {
   "cell_type": "code",
   "execution_count": 165,
   "id": "3c10b49b-4d2f-4dfb-ac72-27324a6fad5f",
   "metadata": {},
   "outputs": [
    {
     "data": {
      "text/plain": [
       "array([0., 0., 0., 0., 0., 0.])"
      ]
     },
     "execution_count": 165,
     "metadata": {},
     "output_type": "execute_result"
    }
   ],
   "source": [
    "X[0,282] #start to be padded with zero"
   ]
  },
  {
   "cell_type": "code",
   "execution_count": 166,
   "id": "9c2c7bfb-8291-48fd-bde0-cb6c9473b90f",
   "metadata": {},
   "outputs": [
    {
     "data": {
      "text/plain": [
       "array([ 4.53063501e+00,  4.29472327e-03, -1.81615353e-03,  2.00000000e-01,\n",
       "        9.87182625e-01,  6.52059000e+05])"
      ]
     },
     "execution_count": 166,
     "metadata": {},
     "output_type": "execute_result"
    }
   ],
   "source": [
    "X[0,0] "
   ]
  },
  {
   "cell_type": "markdown",
   "id": "9adb356c-0d28-4da8-9a2c-6027f1b24d06",
   "metadata": {},
   "source": [
    "numpy.where(condition[, x, y])\n",
    "\n",
    "\n",
    "condition : Where True, yield x, otherwise yield y."
   ]
  },
  {
   "cell_type": "code",
   "execution_count": 168,
   "id": "6d54d9d3-d1de-4153-af30-60e5d77c99d4",
   "metadata": {},
   "outputs": [
    {
     "data": {
      "text/plain": [
       "6955671.073652672"
      ]
     },
     "execution_count": 168,
     "metadata": {},
     "output_type": "execute_result"
    }
   ],
   "source": [
    "mean_volume"
   ]
  },
  {
   "cell_type": "code",
   "execution_count": 169,
   "id": "5a516fcc-3c0f-4cef-ab96-807a11e22c00",
   "metadata": {},
   "outputs": [
    {
     "data": {
      "text/plain": [
       "21670291.344921328"
      ]
     },
     "execution_count": 169,
     "metadata": {},
     "output_type": "execute_result"
    }
   ],
   "source": [
    "std_volume"
   ]
  },
  {
   "cell_type": "code",
   "execution_count": 170,
   "id": "1b80aa7c-62a3-451a-a94c-dc609b999b43",
   "metadata": {},
   "outputs": [],
   "source": [
    "X_scaled[:,:,5] = np.where( X[:,:,5] != 0. ,  ( X[:,:,5] - mean_volume )/ std_volume , X[:,:,5]    )"
   ]
  },
  {
   "cell_type": "code",
   "execution_count": 171,
   "id": "b128c736-bbf6-4ab2-9fff-c6c203a5816d",
   "metadata": {},
   "outputs": [
    {
     "data": {
      "text/plain": [
       "array([0., 0., 0., 0., 0., 0.])"
      ]
     },
     "execution_count": 171,
     "metadata": {},
     "output_type": "execute_result"
    }
   ],
   "source": [
    "X_scaled[0,282]"
   ]
  },
  {
   "cell_type": "code",
   "execution_count": 173,
   "id": "838e2bb1-bae3-44df-b634-ad640a5189e8",
   "metadata": {},
   "outputs": [
    {
     "data": {
      "text/plain": [
       "array([ 4.53063501e+00,  4.29472327e-03, -1.81615353e-03,  2.00000000e-01,\n",
       "        9.87182625e-01, -2.90887279e-01])"
      ]
     },
     "execution_count": 173,
     "metadata": {},
     "output_type": "execute_result"
    }
   ],
   "source": [
    "X_scaled[0,0] "
   ]
  },
  {
   "cell_type": "code",
   "execution_count": 129,
   "id": "b7a55310-e9c5-4a75-b306-90d7ea773b90",
   "metadata": {},
   "outputs": [
    {
     "data": {
      "text/plain": [
       "array([ 4.53063501e+00,  4.29472327e-03, -1.81615353e-03,  2.00000000e-01,\n",
       "        9.87182625e-01,  6.52059000e+05])"
      ]
     },
     "execution_count": 129,
     "metadata": {},
     "output_type": "execute_result"
    }
   ],
   "source": [
    "X_scaled[0,0] #Previous"
   ]
  },
  {
   "cell_type": "code",
   "execution_count": 174,
   "id": "8fcc733a-93a0-4484-a085-e4c62444c302",
   "metadata": {},
   "outputs": [
    {
     "data": {
      "text/plain": [
       "(180000, 2000, 6)"
      ]
     },
     "execution_count": 174,
     "metadata": {},
     "output_type": "execute_result"
    }
   ],
   "source": [
    "X_scaled.shape"
   ]
  },
  {
   "cell_type": "code",
   "execution_count": 182,
   "id": "6012676f-617c-49a4-92e1-54bd205af7ba",
   "metadata": {},
   "outputs": [
    {
     "data": {
      "image/png": "[encoded data removed]",
      "text/plain": [
       "<Figure size 799.992x599.976 with 1 Axes>"
      ]
     },
     "metadata": {},
     "output_type": "display_data"
    }
   ],
   "source": [
    "fig = plt.figure()\n",
    "plt.hist(ak.flatten(X_scaled[:,:,5]), bins=np.linspace(-10,20,60,endpoint=True))\n",
    "plt.yscale('log')\n",
    "plt.show()"
   ]
  },
  {
   "cell_type": "code",
   "execution_count": 184,
   "id": "b2aab699-b85e-450f-997b-4a0a7b7ef9e9",
   "metadata": {},
   "outputs": [],
   "source": [
    "np.save(path_prefix+'X_added_standarscaled.npy', X)"
   ]
  },
  {
   "cell_type": "code",
   "execution_count": null,
   "id": "a9742442-ec64-4a56-a1ec-556894b2d322",
   "metadata": {},
   "outputs": [],
   "source": []
  },
  {
   "cell_type": "markdown",
   "id": "814e1f7e-306c-49c7-9fd6-781603bf93b7",
   "metadata": {},
   "source": [
    "# 1. PFN fwith the new scaled features: sigma & volume"
   ]
  },
  {
   "cell_type": "markdown",
   "id": "f6edb5ce-b804-4174-8fd4-5a31565af7be",
   "metadata": {
    "tags": []
   },
   "source": [
    "## Phi_sizes, F_sizes and latent space dimensions"
   ]
  },
  {
   "cell_type": "markdown",
   "id": "424b7b70-e698-4073-9a86-efab13ac7abd",
   "metadata": {},
   "source": [
    "* Phi_sizes : The sizes of the dense layers in the per-particle frontend module $\\Phi$. The last element will be the number of latent observables that the model defines. Larger latent space dimensions correspond roughly to higher resolution images.\n",
    "* F_sizes : The sizes of the dense layers in the backend module $F$.\n",
    "\n",
    "Default: Phi_sizes, F_sizes = (100, 100, 128), (100, 100, 100) "
   ]
  },
  {
   "cell_type": "code",
   "execution_count": 186,
   "id": "c142a046-059d-43d0-9fec-6ca7b3201a9e",
   "metadata": {},
   "outputs": [],
   "source": [
    "from energyflow.utils import data_split\n",
    "\n",
    "# do train/val/test split \n",
    "(X_train, X_val, X_test,\n",
    " Y_train, Y_val, Y_test) = data_split(X_scaled, Y, val=10000, test=40000)"
   ]
  },
  {
   "cell_type": "code",
   "execution_count": 187,
   "id": "4a7a974d-4af5-4b71-a661-6cab72f4a6f6",
   "metadata": {},
   "outputs": [],
   "source": [
    "Phi_sizes, F_sizes = (100, 100, 128), (100, 100, 100)"
   ]
  },
  {
   "cell_type": "markdown",
   "id": "c1dcf930-2612-4c7a-b999-7ac9d7e9d0f7",
   "metadata": {},
   "source": [
    "## Features in training sample"
   ]
  },
  {
   "cell_type": "code",
   "execution_count": 191,
   "id": "6890b11a-a5fb-4650-bd95-7a7eb702a50a",
   "metadata": {},
   "outputs": [
    {
     "data": {
      "text/plain": [
       "130000"
      ]
     },
     "execution_count": 191,
     "metadata": {},
     "output_type": "execute_result"
    }
   ],
   "source": [
    "len(X_train)"
   ]
  },
  {
   "cell_type": "code",
   "execution_count": 192,
   "id": "aee22179-b1bb-40ea-8780-08789ed7f7af",
   "metadata": {},
   "outputs": [
    {
     "data": {
      "text/plain": [
       "180000"
      ]
     },
     "execution_count": 192,
     "metadata": {},
     "output_type": "execute_result"
    }
   ],
   "source": [
    "len(X_scaled)"
   ]
  },
  {
   "cell_type": "code",
   "execution_count": 198,
   "id": "72206764-798f-45e9-a1c4-8eaf7214e594",
   "metadata": {},
   "outputs": [
    {
     "data": {
      "image/png": "[encoded data removed]",
      "text/plain": [
       "<Figure size 799.992x599.976 with 1 Axes>"
      ]
     },
     "metadata": {},
     "output_type": "display_data"
    }
   ],
   "source": [
    "fig = plt.figure()\n",
    "plt.hist(ak.flatten(X_scaled[:,:,4]), bins=np.linspace(-10,20,60,endpoint=True))\n",
    "plt.hist(ak.flatten(X_train[:,:,4]), bins=np.linspace(-10,10,40,endpoint=True))\n",
    "plt.yscale('log')\n",
    "plt.show()"
   ]
  },
  {
   "cell_type": "code",
   "execution_count": 195,
   "id": "fc706471-4a3b-4d5e-a743-3ed9a6dd6f0d",
   "metadata": {},
   "outputs": [
    {
     "data": {
      "image/png": "[encoded data removed]",
      "text/plain": [
       "<Figure size 799.992x599.976 with 1 Axes>"
      ]
     },
     "metadata": {},
     "output_type": "display_data"
    }
   ],
   "source": [
    "fig = plt.figure()\n",
    "plt.hist(ak.flatten(X_scaled[:,:,5]), bins=np.linspace(-10,20,60,endpoint=True))\n",
    "plt.hist(ak.flatten(X_train[:,:,5]), bins=np.linspace(-10,20,60,endpoint=True))\n",
    "plt.yscale('log')\n",
    "plt.show()"
   ]
  },
  {
   "cell_type": "markdown",
   "id": "99837399-1576-4be0-9f00-5a82d192db90",
   "metadata": {
    "tags": []
   },
   "source": [
    "## PFN with dimension 6 inputs: (log(E),eta,phi,samplerID, cellSignificance, cellVolume)"
   ]
  },
  {
   "cell_type": "code",
   "execution_count": 199,
   "id": "d514816a-637d-4bdb-81e3-ed52bc13891e",
   "metadata": {
    "tags": []
   },
   "outputs": [
    {
     "name": "stdout",
     "output_type": "stream",
     "text": [
      "Model: \"model\"\n",
      "__________________________________________________________________________________________________\n",
      "Layer (type)                    Output Shape         Param #     Connected to                     \n",
      "==================================================================================================\n",
      "input (InputLayer)              [(None, None, 6)]    0                                            \n",
      "__________________________________________________________________________________________________\n",
      "tdist_0 (TimeDistributed)       (None, None, 100)    700         input[0][0]                      \n",
      "__________________________________________________________________________________________________\n",
      "activation (Activation)         (None, None, 100)    0           tdist_0[0][0]                    \n",
      "__________________________________________________________________________________________________\n",
      "tdist_1 (TimeDistributed)       (None, None, 100)    10100       activation[0][0]                 \n",
      "__________________________________________________________________________________________________\n",
      "activation_1 (Activation)       (None, None, 100)    0           tdist_1[0][0]                    \n",
      "__________________________________________________________________________________________________\n",
      "tdist_2 (TimeDistributed)       (None, None, 128)    12928       activation_1[0][0]               \n",
      "__________________________________________________________________________________________________\n",
      "mask (Lambda)                   (None, None)         0           input[0][0]                      \n",
      "__________________________________________________________________________________________________\n",
      "activation_2 (Activation)       (None, None, 128)    0           tdist_2[0][0]                    \n",
      "__________________________________________________________________________________________________\n",
      "sum (Dot)                       (None, 128)          0           mask[0][0]                       \n",
      "                                                                 activation_2[0][0]               \n",
      "__________________________________________________________________________________________________\n",
      "dense_0 (Dense)                 (None, 100)          12900       sum[0][0]                        \n",
      "__________________________________________________________________________________________________\n",
      "activation_3 (Activation)       (None, 100)          0           dense_0[0][0]                    \n",
      "__________________________________________________________________________________________________\n",
      "dense_1 (Dense)                 (None, 100)          10100       activation_3[0][0]               \n",
      "__________________________________________________________________________________________________\n",
      "activation_4 (Activation)       (None, 100)          0           dense_1[0][0]                    \n",
      "__________________________________________________________________________________________________\n",
      "dense_2 (Dense)                 (None, 100)          10100       activation_4[0][0]               \n",
      "__________________________________________________________________________________________________\n",
      "activation_5 (Activation)       (None, 100)          0           dense_2[0][0]                    \n",
      "__________________________________________________________________________________________________\n",
      "output (Dense)                  (None, 2)            202         activation_5[0][0]               \n",
      "__________________________________________________________________________________________________\n",
      "activation_6 (Activation)       (None, 2)            0           output[0][0]                     \n",
      "==================================================================================================\n",
      "Total params: 57,030\n",
      "Trainable params: 57,030\n",
      "Non-trainable params: 0\n",
      "__________________________________________________________________________________________________\n"
     ]
    }
   ],
   "source": [
    "pfn_6dim = PFN(input_dim=X_scaled.shape[-1], Phi_sizes=Phi_sizes, F_sizes=F_sizes)\n"
   ]
  },
  {
   "cell_type": "code",
   "execution_count": null,
   "id": "2ca93896-dfe5-4e38-afce-2faa3d94907d",
   "metadata": {},
   "outputs": [],
   "source": []
  },
  {
   "cell_type": "code",
   "execution_count": 201,
   "id": "a2892f95-1c1b-4879-ac5e-13cc7b784e16",
   "metadata": {
    "collapsed": true,
    "jupyter": {
     "outputs_hidden": true
    },
    "tags": []
   },
   "outputs": [
    {
     "name": "stdout",
     "output_type": "stream",
     "text": [
      "Epoch 1/100\n",
      "260/260 [==============================] - 20s 60ms/step - loss: 9.6695 - acc: 0.7152 - val_loss: 0.3628 - val_acc: 0.8349\n",
      "Epoch 2/100\n",
      "260/260 [==============================] - 15s 59ms/step - loss: 0.4486 - acc: 0.8489 - val_loss: 0.3109 - val_acc: 0.8900\n",
      "Epoch 3/100\n",
      "260/260 [==============================] - 16s 62ms/step - loss: 0.4102 - acc: 0.8628 - val_loss: 0.2990 - val_acc: 0.8922\n",
      "Epoch 4/100\n",
      "260/260 [==============================] - 15s 57ms/step - loss: 0.2907 - acc: 0.8946 - val_loss: 0.2833 - val_acc: 0.8973\n",
      "Epoch 5/100\n",
      "260/260 [==============================] - 15s 57ms/step - loss: 0.2868 - acc: 0.8969 - val_loss: 0.2975 - val_acc: 0.8944\n",
      "Epoch 6/100\n",
      "260/260 [==============================] - 15s 59ms/step - loss: 0.2881 - acc: 0.8952 - val_loss: 0.2761 - val_acc: 0.8997\n",
      "Epoch 7/100\n",
      "260/260 [==============================] - 15s 57ms/step - loss: 0.2658 - acc: 0.9026 - val_loss: 0.2600 - val_acc: 0.9042\n",
      "Epoch 8/100\n",
      "260/260 [==============================] - 15s 59ms/step - loss: 0.2725 - acc: 0.9017 - val_loss: 0.2423 - val_acc: 0.9127\n",
      "Epoch 9/100\n",
      "260/260 [==============================] - 15s 59ms/step - loss: 0.2713 - acc: 0.9026 - val_loss: 0.2417 - val_acc: 0.9109\n",
      "Epoch 10/100\n",
      "260/260 [==============================] - 15s 59ms/step - loss: 0.2461 - acc: 0.9099 - val_loss: 0.2373 - val_acc: 0.9127\n",
      "Epoch 11/100\n",
      "260/260 [==============================] - 15s 59ms/step - loss: 0.2396 - acc: 0.9126 - val_loss: 0.2309 - val_acc: 0.9134\n",
      "Epoch 12/100\n",
      "260/260 [==============================] - 15s 57ms/step - loss: 0.2521 - acc: 0.9099 - val_loss: 0.2192 - val_acc: 0.9186\n",
      "Epoch 13/100\n",
      "260/260 [==============================] - 15s 59ms/step - loss: 0.2225 - acc: 0.9189 - val_loss: 0.2334 - val_acc: 0.9157\n",
      "Epoch 14/100\n",
      "260/260 [==============================] - 15s 57ms/step - loss: 0.2240 - acc: 0.9180 - val_loss: 0.2228 - val_acc: 0.9203\n",
      "Epoch 15/100\n",
      "260/260 [==============================] - 15s 58ms/step - loss: 0.2218 - acc: 0.9186 - val_loss: 0.2105 - val_acc: 0.9232\n",
      "Epoch 16/100\n",
      "260/260 [==============================] - 15s 57ms/step - loss: 0.2170 - acc: 0.9197 - val_loss: 0.2190 - val_acc: 0.9218\n",
      "Epoch 17/100\n",
      "260/260 [==============================] - 15s 58ms/step - loss: 0.2186 - acc: 0.9202 - val_loss: 0.2093 - val_acc: 0.9248\n",
      "Epoch 18/100\n",
      "260/260 [==============================] - 15s 59ms/step - loss: 0.2138 - acc: 0.9224 - val_loss: 0.2058 - val_acc: 0.9254\n",
      "Epoch 19/100\n",
      "260/260 [==============================] - 15s 58ms/step - loss: 0.2102 - acc: 0.9228 - val_loss: 0.2091 - val_acc: 0.9207\n",
      "Epoch 20/100\n",
      "260/260 [==============================] - 15s 57ms/step - loss: 0.2089 - acc: 0.9227 - val_loss: 0.2077 - val_acc: 0.9243\n",
      "Epoch 21/100\n",
      "260/260 [==============================] - 16s 60ms/step - loss: 0.2097 - acc: 0.9229 - val_loss: 0.2011 - val_acc: 0.9258\n",
      "Epoch 22/100\n",
      "260/260 [==============================] - 15s 57ms/step - loss: 0.2084 - acc: 0.9226 - val_loss: 0.2056 - val_acc: 0.9241\n",
      "Epoch 23/100\n",
      "260/260 [==============================] - 14s 56ms/step - loss: 0.2091 - acc: 0.9228 - val_loss: 0.1958 - val_acc: 0.9268\n",
      "Epoch 24/100\n",
      "260/260 [==============================] - 15s 58ms/step - loss: 0.2116 - acc: 0.9217 - val_loss: 0.2039 - val_acc: 0.9234\n",
      "Epoch 25/100\n",
      "260/260 [==============================] - 15s 57ms/step - loss: 0.2106 - acc: 0.9225 - val_loss: 0.1970 - val_acc: 0.9291\n",
      "Epoch 26/100\n",
      "260/260 [==============================] - 15s 57ms/step - loss: 0.2034 - acc: 0.9238 - val_loss: 0.1964 - val_acc: 0.9266\n",
      "Epoch 27/100\n",
      "260/260 [==============================] - 15s 57ms/step - loss: 0.2027 - acc: 0.9254 - val_loss: 0.1949 - val_acc: 0.9264\n",
      "Epoch 28/100\n",
      "260/260 [==============================] - 15s 57ms/step - loss: 0.2041 - acc: 0.9250 - val_loss: 0.1961 - val_acc: 0.9292\n",
      "Epoch 29/100\n",
      "260/260 [==============================] - 15s 57ms/step - loss: 0.1988 - acc: 0.9258 - val_loss: 0.1932 - val_acc: 0.9287\n",
      "Epoch 30/100\n",
      "260/260 [==============================] - 15s 56ms/step - loss: 0.1992 - acc: 0.9253 - val_loss: 0.1957 - val_acc: 0.9259\n",
      "Epoch 31/100\n",
      "260/260 [==============================] - 15s 57ms/step - loss: 0.1995 - acc: 0.9248 - val_loss: 0.1928 - val_acc: 0.9291\n",
      "Epoch 32/100\n",
      "260/260 [==============================] - 15s 57ms/step - loss: 0.1956 - acc: 0.9276 - val_loss: 0.1971 - val_acc: 0.9255\n",
      "Epoch 33/100\n",
      "260/260 [==============================] - 15s 56ms/step - loss: 0.2022 - acc: 0.9243 - val_loss: 0.1945 - val_acc: 0.9281\n",
      "Epoch 34/100\n",
      "260/260 [==============================] - 15s 56ms/step - loss: 0.1986 - acc: 0.9269 - val_loss: 0.1886 - val_acc: 0.9299\n",
      "Epoch 35/100\n",
      "260/260 [==============================] - 15s 57ms/step - loss: 0.1983 - acc: 0.9266 - val_loss: 0.1999 - val_acc: 0.9275\n",
      "Epoch 36/100\n",
      "260/260 [==============================] - 15s 57ms/step - loss: 0.2004 - acc: 0.9258 - val_loss: 0.1940 - val_acc: 0.9287\n",
      "Epoch 37/100\n",
      "260/260 [==============================] - 15s 56ms/step - loss: 0.1950 - acc: 0.9274 - val_loss: 0.1949 - val_acc: 0.9276\n",
      "Epoch 38/100\n",
      "260/260 [==============================] - 15s 57ms/step - loss: 0.1923 - acc: 0.9291 - val_loss: 0.1935 - val_acc: 0.9287\n",
      "Epoch 39/100\n",
      "260/260 [==============================] - 15s 57ms/step - loss: 0.1934 - acc: 0.9280 - val_loss: 0.1906 - val_acc: 0.9292\n",
      "Epoch 40/100\n",
      "260/260 [==============================] - 15s 57ms/step - loss: 0.1947 - acc: 0.9275 - val_loss: 0.1882 - val_acc: 0.9297\n",
      "Epoch 41/100\n",
      "260/260 [==============================] - 15s 56ms/step - loss: 0.1908 - acc: 0.9296 - val_loss: 0.1909 - val_acc: 0.9299\n",
      "Epoch 42/100\n",
      "260/260 [==============================] - 15s 56ms/step - loss: 0.1951 - acc: 0.9275 - val_loss: 0.1986 - val_acc: 0.9276\n",
      "Epoch 43/100\n",
      "260/260 [==============================] - 15s 56ms/step - loss: 0.1938 - acc: 0.9273 - val_loss: 0.1891 - val_acc: 0.9302\n",
      "Epoch 44/100\n",
      "260/260 [==============================] - 14s 55ms/step - loss: 0.1906 - acc: 0.9294 - val_loss: 0.1909 - val_acc: 0.9290\n",
      "Epoch 45/100\n",
      "260/260 [==============================] - 15s 56ms/step - loss: 0.1931 - acc: 0.9278 - val_loss: 0.1870 - val_acc: 0.9304\n",
      "Epoch 46/100\n",
      "260/260 [==============================] - 15s 57ms/step - loss: 0.1895 - acc: 0.9295 - val_loss: 0.1964 - val_acc: 0.9275\n",
      "Epoch 47/100\n",
      "260/260 [==============================] - 15s 56ms/step - loss: 0.1936 - acc: 0.9284 - val_loss: 0.1870 - val_acc: 0.9303\n",
      "Epoch 48/100\n",
      "260/260 [==============================] - 15s 57ms/step - loss: 0.1884 - acc: 0.9300 - val_loss: 0.1998 - val_acc: 0.9251\n",
      "Epoch 49/100\n",
      "260/260 [==============================] - 15s 57ms/step - loss: 0.1873 - acc: 0.9306 - val_loss: 0.1892 - val_acc: 0.9292\n",
      "Epoch 50/100\n",
      "260/260 [==============================] - 15s 57ms/step - loss: 0.1887 - acc: 0.9306 - val_loss: 0.1870 - val_acc: 0.9316\n",
      "Epoch 51/100\n",
      "260/260 [==============================] - 15s 57ms/step - loss: 0.1909 - acc: 0.9284 - val_loss: 0.1837 - val_acc: 0.9321\n",
      "Epoch 52/100\n",
      "260/260 [==============================] - 15s 57ms/step - loss: 0.1882 - acc: 0.9295 - val_loss: 0.1877 - val_acc: 0.9299\n",
      "Epoch 53/100\n",
      "260/260 [==============================] - 15s 57ms/step - loss: 0.1851 - acc: 0.9317 - val_loss: 0.1915 - val_acc: 0.9284\n",
      "Epoch 54/100\n",
      "260/260 [==============================] - 15s 58ms/step - loss: 0.1848 - acc: 0.9314 - val_loss: 0.1836 - val_acc: 0.9330\n",
      "Epoch 55/100\n",
      "260/260 [==============================] - 15s 59ms/step - loss: 0.1872 - acc: 0.9304 - val_loss: 0.1850 - val_acc: 0.9327\n",
      "Epoch 56/100\n",
      "260/260 [==============================] - 15s 57ms/step - loss: 0.1851 - acc: 0.9314 - val_loss: 0.1830 - val_acc: 0.9337\n",
      "Epoch 57/100\n",
      "260/260 [==============================] - 15s 57ms/step - loss: 0.1806 - acc: 0.9328 - val_loss: 0.1903 - val_acc: 0.9304\n",
      "Epoch 58/100\n",
      "260/260 [==============================] - 15s 57ms/step - loss: 0.1834 - acc: 0.9313 - val_loss: 0.1818 - val_acc: 0.9327\n",
      "Epoch 59/100\n",
      "260/260 [==============================] - 15s 58ms/step - loss: 0.1809 - acc: 0.9327 - val_loss: 0.1926 - val_acc: 0.9272\n",
      "Epoch 60/100\n",
      "260/260 [==============================] - 15s 57ms/step - loss: 0.1820 - acc: 0.9332 - val_loss: 0.1831 - val_acc: 0.9333\n",
      "Epoch 61/100\n",
      "260/260 [==============================] - 15s 56ms/step - loss: 0.1804 - acc: 0.9327 - val_loss: 0.1829 - val_acc: 0.9338\n",
      "Epoch 62/100\n",
      "260/260 [==============================] - 15s 56ms/step - loss: 0.1819 - acc: 0.9315 - val_loss: 0.1864 - val_acc: 0.9329\n",
      "Epoch 63/100\n",
      "260/260 [==============================] - 15s 57ms/step - loss: 0.1789 - acc: 0.9343 - val_loss: 0.1850 - val_acc: 0.9331\n",
      "Epoch 64/100\n",
      "260/260 [==============================] - 15s 56ms/step - loss: 0.1778 - acc: 0.9345 - val_loss: 0.1843 - val_acc: 0.9327\n",
      "Epoch 65/100\n",
      "260/260 [==============================] - 15s 56ms/step - loss: 0.1771 - acc: 0.9339 - val_loss: 0.1793 - val_acc: 0.9353\n",
      "Epoch 66/100\n",
      "260/260 [==============================] - 15s 58ms/step - loss: 0.1779 - acc: 0.9334 - val_loss: 0.1818 - val_acc: 0.9357\n",
      "Epoch 67/100\n",
      "260/260 [==============================] - 15s 57ms/step - loss: 0.1779 - acc: 0.9332 - val_loss: 0.1847 - val_acc: 0.9313\n",
      "Epoch 68/100\n",
      "260/260 [==============================] - 15s 58ms/step - loss: 0.1767 - acc: 0.9345 - val_loss: 0.1847 - val_acc: 0.9321\n",
      "Epoch 69/100\n",
      "260/260 [==============================] - 15s 57ms/step - loss: 0.1769 - acc: 0.9343 - val_loss: 0.1914 - val_acc: 0.9321\n",
      "Epoch 70/100\n",
      "260/260 [==============================] - 15s 57ms/step - loss: 0.1752 - acc: 0.9346 - val_loss: 0.1779 - val_acc: 0.9360\n",
      "Epoch 71/100\n",
      "260/260 [==============================] - 15s 58ms/step - loss: 0.1747 - acc: 0.9344 - val_loss: 0.1796 - val_acc: 0.9349\n",
      "Epoch 72/100\n",
      "260/260 [==============================] - 15s 59ms/step - loss: 0.1749 - acc: 0.9342 - val_loss: 0.1872 - val_acc: 0.9334\n",
      "Epoch 73/100\n",
      "260/260 [==============================] - 15s 57ms/step - loss: 0.1761 - acc: 0.9346 - val_loss: 0.1813 - val_acc: 0.9338\n",
      "Epoch 74/100\n",
      "260/260 [==============================] - 15s 58ms/step - loss: 0.1725 - acc: 0.9361 - val_loss: 0.1817 - val_acc: 0.9336\n",
      "Epoch 75/100\n",
      "260/260 [==============================] - 15s 57ms/step - loss: 0.1713 - acc: 0.9358 - val_loss: 0.1771 - val_acc: 0.9355\n",
      "Epoch 76/100\n",
      "260/260 [==============================] - 15s 57ms/step - loss: 0.1724 - acc: 0.9354 - val_loss: 0.1835 - val_acc: 0.9339\n",
      "Epoch 77/100\n",
      "260/260 [==============================] - 15s 58ms/step - loss: 0.1715 - acc: 0.9362 - val_loss: 0.1813 - val_acc: 0.9352\n",
      "Epoch 78/100\n",
      "260/260 [==============================] - 15s 56ms/step - loss: 0.1663 - acc: 0.9386 - val_loss: 0.1815 - val_acc: 0.9331\n",
      "Epoch 79/100\n",
      "260/260 [==============================] - 15s 56ms/step - loss: 0.1740 - acc: 0.9351 - val_loss: 0.1798 - val_acc: 0.9358\n",
      "Epoch 80/100\n",
      "260/260 [==============================] - 15s 57ms/step - loss: 0.1692 - acc: 0.9381 - val_loss: 0.1756 - val_acc: 0.9354\n",
      "Epoch 81/100\n",
      "260/260 [==============================] - 15s 57ms/step - loss: 0.1693 - acc: 0.9364 - val_loss: 0.1776 - val_acc: 0.9348\n",
      "Epoch 82/100\n",
      "260/260 [==============================] - 15s 56ms/step - loss: 0.1673 - acc: 0.9381 - val_loss: 0.1821 - val_acc: 0.9330\n",
      "Epoch 83/100\n",
      "260/260 [==============================] - 15s 56ms/step - loss: 0.1696 - acc: 0.9366 - val_loss: 0.1787 - val_acc: 0.9351\n",
      "Epoch 84/100\n",
      "260/260 [==============================] - 15s 57ms/step - loss: 0.1710 - acc: 0.9369 - val_loss: 0.1788 - val_acc: 0.9362\n",
      "Epoch 85/100\n",
      "260/260 [==============================] - 15s 57ms/step - loss: 0.1684 - acc: 0.9368 - val_loss: 0.1779 - val_acc: 0.9348\n",
      "Epoch 86/100\n",
      "260/260 [==============================] - 15s 57ms/step - loss: 0.1668 - acc: 0.9380 - val_loss: 0.1770 - val_acc: 0.9358\n",
      "Epoch 87/100\n",
      "260/260 [==============================] - 15s 57ms/step - loss: 0.1670 - acc: 0.9381 - val_loss: 0.1795 - val_acc: 0.9367\n",
      "Epoch 88/100\n",
      "260/260 [==============================] - 15s 57ms/step - loss: 0.1682 - acc: 0.9368 - val_loss: 0.1800 - val_acc: 0.9357\n",
      "Epoch 89/100\n",
      "260/260 [==============================] - 15s 57ms/step - loss: 0.1650 - acc: 0.9384 - val_loss: 0.1874 - val_acc: 0.9351\n",
      "Epoch 90/100\n",
      "260/260 [==============================] - 15s 56ms/step - loss: 0.1678 - acc: 0.9382 - val_loss: 0.1806 - val_acc: 0.9323\n",
      "Epoch 91/100\n",
      "260/260 [==============================] - 15s 57ms/step - loss: 0.1654 - acc: 0.9380 - val_loss: 0.1775 - val_acc: 0.9345\n",
      "Epoch 92/100\n",
      "260/260 [==============================] - 15s 58ms/step - loss: 0.1666 - acc: 0.9378 - val_loss: 0.1809 - val_acc: 0.9352\n",
      "Epoch 93/100\n",
      "260/260 [==============================] - 15s 57ms/step - loss: 0.1654 - acc: 0.9374 - val_loss: 0.1793 - val_acc: 0.9344\n",
      "Epoch 94/100\n",
      "260/260 [==============================] - 15s 58ms/step - loss: 0.1624 - acc: 0.9391 - val_loss: 0.1909 - val_acc: 0.9331\n",
      "Epoch 95/100\n",
      "260/260 [==============================] - 15s 59ms/step - loss: 0.1623 - acc: 0.9391 - val_loss: 0.1818 - val_acc: 0.9331\n",
      "Epoch 96/100\n",
      "260/260 [==============================] - 16s 60ms/step - loss: 0.1637 - acc: 0.9399 - val_loss: 0.1769 - val_acc: 0.9370\n",
      "Epoch 97/100\n",
      "260/260 [==============================] - 15s 57ms/step - loss: 0.1589 - acc: 0.9406 - val_loss: 0.1808 - val_acc: 0.9340\n",
      "Epoch 98/100\n",
      "260/260 [==============================] - 15s 57ms/step - loss: 0.1609 - acc: 0.9396 - val_loss: 0.1819 - val_acc: 0.9348\n",
      "Epoch 99/100\n",
      "260/260 [==============================] - 15s 57ms/step - loss: 0.1626 - acc: 0.9388 - val_loss: 0.1832 - val_acc: 0.9341\n",
      "Epoch 100/100\n",
      "260/260 [==============================] - 15s 57ms/step - loss: 0.1612 - acc: 0.9394 - val_loss: 0.1836 - val_acc: 0.9353\n"
     ]
    }
   ],
   "source": [
    "# train model\n",
    "history_6dim = pfn_6dim.fit(X_train, Y_train,\n",
    "        epochs=100,\n",
    "        batch_size=500,\n",
    "        validation_data=(X_val, Y_val),\n",
    "        verbose=1)"
   ]
  },
  {
   "cell_type": "code",
   "execution_count": 202,
   "id": "a86e6ab8-50f6-4f31-b605-a8674bbb27be",
   "metadata": {},
   "outputs": [],
   "source": [
    "pfn_6dim.save(modelpath+'pfn_StandardScaled_6dim.h5')"
   ]
  },
  {
   "cell_type": "code",
   "execution_count": 203,
   "id": "2b18b04e-2998-43db-b606-5d408b70b39a",
   "metadata": {},
   "outputs": [
    {
     "name": "stdout",
     "output_type": "stream",
     "text": [
      "AUC: 0.9782421511046163\n",
      "High efficiency AUC: 0.2319710629408842\n",
      "Rejection at 95% efficiency: 8.477079796264857\n",
      "at efficiency: 0.9500199720391452\n",
      "AUC: inf\n"
     ]
    },
    {
     "name": "stderr",
     "output_type": "stream",
     "text": [
      "<ipython-input-203-db4b63df363d>:8: RuntimeWarning: divide by zero encountered in true_divide\n",
      "  Rej_6dim=1./pfn_fp_6dim\n"
     ]
    }
   ],
   "source": [
    "# get area under the ROC curve\n",
    "preds_6dim = pfn_6dim.predict(X_test, batch_size=1000)\n",
    "auc_6dim = roc_auc_score(Y_test[:,1], preds_6dim[:,1])\n",
    "print('AUC:', auc_6dim)\n",
    "\n",
    "### get ROC curve\n",
    "pfn_fp_6dim, pfn_tp_6dim, threshs_6dim = roc_curve(Y_test[:,1], preds_6dim[:,1])\n",
    "Rej_6dim=1./pfn_fp_6dim\n",
    "highEff=pfn_tp_6dim>0.95\n",
    "pfn_tp_highEff_6dim = pfn_tp_6dim[highEff]\n",
    "Rej_highEff_6dim=Rej_6dim[highEff]\n",
    "print(\"High efficiency AUC:\",auc(pfn_tp_highEff_6dim,Rej_highEff_6dim))\n",
    "print(\"Rejection at 95% efficiency:\", Rej_highEff_6dim[0])\n",
    "\n",
    "print(\"at efficiency:\", pfn_tp_highEff_6dim[0])\n",
    "print(\"AUC:\",auc(pfn_tp_6dim,Rej_6dim))"
   ]
  },
  {
   "cell_type": "code",
   "execution_count": 204,
   "id": "3de4d775-9f46-43a6-abbc-44ce6fc0931a",
   "metadata": {},
   "outputs": [
    {
     "data": {
      "text/plain": [
       "<Figure size 799.992x599.976 with 0 Axes>"
      ]
     },
     "metadata": {},
     "output_type": "display_data"
    },
    {
     "data": {
      "image/png": "[encoded data removed]",
      "text/plain": [
       "<Figure size 799.992x599.976 with 1 Axes>"
      ]
     },
     "metadata": {},
     "output_type": "display_data"
    },
    {
     "data": {
      "image/png": "[encoded data removed]",
      "text/plain": [
       "<Figure size 799.992x599.976 with 1 Axes>"
      ]
     },
     "metadata": {},
     "output_type": "display_data"
    }
   ],
   "source": [
    "plt.cla(); plt.clf()\n",
    "fig = plt.figure()\n",
    "fig.patch.set_facecolor('white')\n",
    "\n",
    "plt.plot(history_6dim.history['acc'])\n",
    "plt.plot(history_6dim.history['val_acc'])\n",
    "plt.title('model accuracy')\n",
    "plt.ylabel('accuracy')\n",
    "plt.xlabel('epoch')\n",
    "plt.legend(['train', 'test'], loc='upper left')\n",
    "# plt.savefig('Plots/accuracy_' + layer + '.pdf')\n",
    "plt.show()\n",
    "\n",
    "\n",
    "# summarize history for loss\n",
    "fig = plt.figure()\n",
    "fig.patch.set_facecolor('white')\n",
    "plt.plot(history_6dim.history['loss'])\n",
    "plt.plot(history_6dim.history['val_loss'])\n",
    "plt.title('model loss')\n",
    "plt.ylabel('loss')\n",
    "plt.xlabel('epoch')\n",
    "plt.yscale('log')\n",
    "plt.legend(['train', 'test'], loc='upper left')\n",
    "# plt.savefig(plotpath + 'loss_' + layer + '.pdf')\n",
    "plt.show()"
   ]
  },
  {
   "cell_type": "code",
   "execution_count": 205,
   "id": "6c27cf07-ca99-4bbe-bfb5-e945f24df8f6",
   "metadata": {},
   "outputs": [
    {
     "name": "stderr",
     "output_type": "stream",
     "text": [
      "<ipython-input-205-bfee9da9f13e>:11: RuntimeWarning: divide by zero encountered in true_divide\n",
      "  plt.plot(pfn_tp_6dim, 1./(pfn_fp_6dim), '-', color='red', label='PFN')\n"
     ]
    },
    {
     "data": {
      "image/png": "[encoded data removed]",
      "text/plain": [
       "<Figure size 799.992x599.976 with 1 Axes>"
      ]
     },
     "metadata": {},
     "output_type": "display_data"
    }
   ],
   "source": [
    "plt.rcParams['font.family'] = 'serif'\n",
    "plt.rcParams['figure.autolayout'] = True\n",
    "\n",
    "#fig, axes = plt.subplots(1, 1, figsize=(5,5))\n",
    "\n",
    "fig = plt.figure()\n",
    "\n",
    "plt.yscale('log')\n",
    "\n",
    "# plot the ROC curves\n",
    "plt.plot(pfn_tp_6dim, 1./(pfn_fp_6dim), '-', color='red', label='PFN')\n",
    "\n",
    "plt.ylabel('$\\pi^{0}$ Rejection')\n",
    "plt.xlabel('$\\pi^{+}$ Efficiency')\n",
    "\n",
    "\n",
    "# axes limits\n",
    "#axes.set_xlim(0.5, 1)\n",
    "#axes.set_ylim(-1, 1000)\n",
    "\n",
    "# make legend and show plot\n",
    "fig.legend(loc='lower left', frameon=False)\n",
    "\n",
    "plt.show()"
   ]
  },
  {
   "cell_type": "code",
   "execution_count": null,
   "id": "ab28d436-f43c-47ce-85d9-85784a1e153b",
   "metadata": {},
   "outputs": [],
   "source": []
  },
  {
   "cell_type": "markdown",
   "id": "79fb014c-9a97-4548-9239-b72c105f8c19",
   "metadata": {
    "tags": []
   },
   "source": [
    "## PFN with dimension 5 inputs: (log(E),eta,phi,samplerID, cellSignificance)"
   ]
  },
  {
   "cell_type": "code",
   "execution_count": 206,
   "id": "9869b641-3d1e-4792-8197-f2cc70720136",
   "metadata": {},
   "outputs": [],
   "source": [
    "# ignore  cellVolume information \n",
    "X_5dim=X_scaled[:,:,:5]"
   ]
  },
  {
   "cell_type": "code",
   "execution_count": 207,
   "id": "192d245b-dc74-43e3-9f69-8f90f277c88a",
   "metadata": {},
   "outputs": [
    {
     "data": {
      "text/plain": [
       "5"
      ]
     },
     "execution_count": 207,
     "metadata": {},
     "output_type": "execute_result"
    }
   ],
   "source": [
    "X_5dim.shape[-1]"
   ]
  },
  {
   "cell_type": "code",
   "execution_count": 210,
   "id": "2df85b6b-ea5e-42e8-ab06-c5852666a1a5",
   "metadata": {
    "collapsed": true,
    "jupyter": {
     "outputs_hidden": true
    },
    "tags": []
   },
   "outputs": [
    {
     "name": "stdout",
     "output_type": "stream",
     "text": [
      "Model: \"model_1\"\n",
      "__________________________________________________________________________________________________\n",
      "Layer (type)                    Output Shape         Param #     Connected to                     \n",
      "==================================================================================================\n",
      "input (InputLayer)              [(None, None, 5)]    0                                            \n",
      "__________________________________________________________________________________________________\n",
      "tdist_0 (TimeDistributed)       (None, None, 100)    600         input[0][0]                      \n",
      "__________________________________________________________________________________________________\n",
      "activation_7 (Activation)       (None, None, 100)    0           tdist_0[0][0]                    \n",
      "__________________________________________________________________________________________________\n",
      "tdist_1 (TimeDistributed)       (None, None, 100)    10100       activation_7[0][0]               \n",
      "__________________________________________________________________________________________________\n",
      "activation_8 (Activation)       (None, None, 100)    0           tdist_1[0][0]                    \n",
      "__________________________________________________________________________________________________\n",
      "tdist_2 (TimeDistributed)       (None, None, 128)    12928       activation_8[0][0]               \n",
      "__________________________________________________________________________________________________\n",
      "mask (Lambda)                   (None, None)         0           input[0][0]                      \n",
      "__________________________________________________________________________________________________\n",
      "activation_9 (Activation)       (None, None, 128)    0           tdist_2[0][0]                    \n",
      "__________________________________________________________________________________________________\n",
      "sum (Dot)                       (None, 128)          0           mask[0][0]                       \n",
      "                                                                 activation_9[0][0]               \n",
      "__________________________________________________________________________________________________\n",
      "dense_0 (Dense)                 (None, 100)          12900       sum[0][0]                        \n",
      "__________________________________________________________________________________________________\n",
      "activation_10 (Activation)      (None, 100)          0           dense_0[0][0]                    \n",
      "__________________________________________________________________________________________________\n",
      "dense_1 (Dense)                 (None, 100)          10100       activation_10[0][0]              \n",
      "__________________________________________________________________________________________________\n",
      "activation_11 (Activation)      (None, 100)          0           dense_1[0][0]                    \n",
      "__________________________________________________________________________________________________\n",
      "dense_2 (Dense)                 (None, 100)          10100       activation_11[0][0]              \n",
      "__________________________________________________________________________________________________\n",
      "activation_12 (Activation)      (None, 100)          0           dense_2[0][0]                    \n",
      "__________________________________________________________________________________________________\n",
      "output (Dense)                  (None, 2)            202         activation_12[0][0]              \n",
      "__________________________________________________________________________________________________\n",
      "activation_13 (Activation)      (None, 2)            0           output[0][0]                     \n",
      "==================================================================================================\n",
      "Total params: 56,930\n",
      "Trainable params: 56,930\n",
      "Non-trainable params: 0\n",
      "__________________________________________________________________________________________________\n"
     ]
    }
   ],
   "source": [
    "pfn_5dim = PFN(input_dim=X_5dim.shape[-1], Phi_sizes=Phi_sizes, F_sizes=F_sizes)"
   ]
  },
  {
   "cell_type": "code",
   "execution_count": 212,
   "id": "2c41dc1c-42eb-47e8-ba3b-e259f09238b9",
   "metadata": {
    "tags": []
   },
   "outputs": [],
   "source": [
    "# do train/val/test split \n",
    "(X_5dim_train, X_5dim_val, X_5dim_test,\n",
    " Y_train, Y_val, Y_test) = data_split(X_5dim, Y, val=10000, test=40000)"
   ]
  },
  {
   "cell_type": "code",
   "execution_count": 214,
   "id": "1dabc57f-7421-4643-93b8-ab807c21439b",
   "metadata": {
    "collapsed": true,
    "jupyter": {
     "outputs_hidden": true
    },
    "tags": []
   },
   "outputs": [
    {
     "name": "stdout",
     "output_type": "stream",
     "text": [
      "Epoch 1/100\n",
      "260/260 [==============================] - 24s 89ms/step - loss: 7.2263 - acc: 0.7230 - val_loss: 0.4669 - val_acc: 0.7822\n",
      "Epoch 2/100\n",
      "260/260 [==============================] - 14s 56ms/step - loss: 0.5233 - acc: 0.8128 - val_loss: 0.3918 - val_acc: 0.8178\n",
      "Epoch 3/100\n",
      "260/260 [==============================] - 14s 55ms/step - loss: 0.3395 - acc: 0.8755 - val_loss: 0.4634 - val_acc: 0.8425\n",
      "Epoch 4/100\n",
      "260/260 [==============================] - 15s 56ms/step - loss: 0.3514 - acc: 0.8749 - val_loss: 0.4779 - val_acc: 0.8649\n",
      "Epoch 5/100\n",
      "260/260 [==============================] - 14s 55ms/step - loss: 0.3700 - acc: 0.8724 - val_loss: 0.3005 - val_acc: 0.8823\n",
      "Epoch 6/100\n",
      "260/260 [==============================] - 15s 58ms/step - loss: 0.2812 - acc: 0.8960 - val_loss: 0.3166 - val_acc: 0.8876\n",
      "Epoch 7/100\n",
      "260/260 [==============================] - 14s 55ms/step - loss: 0.3323 - acc: 0.8834 - val_loss: 0.2864 - val_acc: 0.8852\n",
      "Epoch 8/100\n",
      "260/260 [==============================] - 14s 55ms/step - loss: 0.2708 - acc: 0.9013 - val_loss: 0.2596 - val_acc: 0.9047\n",
      "Epoch 9/100\n",
      "260/260 [==============================] - 14s 55ms/step - loss: 0.2552 - acc: 0.9069 - val_loss: 0.2532 - val_acc: 0.9057\n",
      "Epoch 10/100\n",
      "260/260 [==============================] - 14s 55ms/step - loss: 0.2701 - acc: 0.9023 - val_loss: 0.2841 - val_acc: 0.8917\n",
      "Epoch 11/100\n",
      "260/260 [==============================] - 14s 55ms/step - loss: 0.2579 - acc: 0.9052 - val_loss: 0.2571 - val_acc: 0.8986\n",
      "Epoch 12/100\n",
      "260/260 [==============================] - 14s 55ms/step - loss: 0.2557 - acc: 0.9059 - val_loss: 0.2549 - val_acc: 0.9085\n",
      "Epoch 13/100\n",
      "260/260 [==============================] - 14s 54ms/step - loss: 0.2420 - acc: 0.9109 - val_loss: 0.2648 - val_acc: 0.9045\n",
      "Epoch 14/100\n",
      "260/260 [==============================] - 15s 58ms/step - loss: 0.2333 - acc: 0.9143 - val_loss: 0.2303 - val_acc: 0.9138\n",
      "Epoch 15/100\n",
      "260/260 [==============================] - 15s 56ms/step - loss: 0.2330 - acc: 0.9147 - val_loss: 0.2371 - val_acc: 0.9137\n",
      "Epoch 16/100\n",
      "260/260 [==============================] - 14s 55ms/step - loss: 0.2280 - acc: 0.9160 - val_loss: 0.2286 - val_acc: 0.9174\n",
      "Epoch 17/100\n",
      "260/260 [==============================] - 14s 55ms/step - loss: 0.2231 - acc: 0.9175 - val_loss: 0.2245 - val_acc: 0.9162\n",
      "Epoch 18/100\n",
      "260/260 [==============================] - 15s 58ms/step - loss: 0.2265 - acc: 0.9159 - val_loss: 0.2331 - val_acc: 0.9158\n",
      "Epoch 19/100\n",
      "260/260 [==============================] - 14s 55ms/step - loss: 0.2202 - acc: 0.9194 - val_loss: 0.2401 - val_acc: 0.9089\n",
      "Epoch 20/100\n",
      "260/260 [==============================] - 14s 56ms/step - loss: 0.2231 - acc: 0.9170 - val_loss: 0.2270 - val_acc: 0.9177\n",
      "Epoch 21/100\n",
      "260/260 [==============================] - 14s 56ms/step - loss: 0.2217 - acc: 0.9175 - val_loss: 0.2233 - val_acc: 0.9191\n",
      "Epoch 22/100\n",
      "260/260 [==============================] - 15s 56ms/step - loss: 0.2207 - acc: 0.9184 - val_loss: 0.2294 - val_acc: 0.9154\n",
      "Epoch 23/100\n",
      "260/260 [==============================] - 15s 58ms/step - loss: 0.2201 - acc: 0.9172 - val_loss: 0.2217 - val_acc: 0.9176\n",
      "Epoch 24/100\n",
      "260/260 [==============================] - 15s 58ms/step - loss: 0.2166 - acc: 0.9198 - val_loss: 0.2250 - val_acc: 0.9173\n",
      "Epoch 25/100\n",
      "260/260 [==============================] - 15s 56ms/step - loss: 0.2177 - acc: 0.9201 - val_loss: 0.2354 - val_acc: 0.9120\n",
      "Epoch 26/100\n",
      "260/260 [==============================] - 14s 56ms/step - loss: 0.2193 - acc: 0.9184 - val_loss: 0.2147 - val_acc: 0.9200\n",
      "Epoch 27/100\n",
      "260/260 [==============================] - 15s 56ms/step - loss: 0.2171 - acc: 0.9188 - val_loss: 0.2186 - val_acc: 0.9199\n",
      "Epoch 28/100\n",
      "260/260 [==============================] - 14s 55ms/step - loss: 0.2105 - acc: 0.9227 - val_loss: 0.2207 - val_acc: 0.9210\n",
      "Epoch 29/100\n",
      "260/260 [==============================] - 15s 56ms/step - loss: 0.2101 - acc: 0.9221 - val_loss: 0.2203 - val_acc: 0.9171\n",
      "Epoch 30/100\n",
      "260/260 [==============================] - 14s 55ms/step - loss: 0.2158 - acc: 0.9192 - val_loss: 0.2139 - val_acc: 0.9224\n",
      "Epoch 31/100\n",
      "260/260 [==============================] - 14s 55ms/step - loss: 0.2058 - acc: 0.9235 - val_loss: 0.2170 - val_acc: 0.9210\n",
      "Epoch 32/100\n",
      "260/260 [==============================] - 15s 57ms/step - loss: 0.2147 - acc: 0.9197 - val_loss: 0.2138 - val_acc: 0.9217\n",
      "Epoch 33/100\n",
      "260/260 [==============================] - 14s 55ms/step - loss: 0.2056 - acc: 0.9235 - val_loss: 0.2073 - val_acc: 0.9242\n",
      "Epoch 34/100\n",
      "260/260 [==============================] - 15s 56ms/step - loss: 0.2055 - acc: 0.9240 - val_loss: 0.2132 - val_acc: 0.9219\n",
      "Epoch 35/100\n",
      "260/260 [==============================] - 14s 56ms/step - loss: 0.2054 - acc: 0.9238 - val_loss: 0.2103 - val_acc: 0.9226\n",
      "Epoch 36/100\n",
      "260/260 [==============================] - 15s 58ms/step - loss: 0.1996 - acc: 0.9259 - val_loss: 0.2065 - val_acc: 0.9229\n",
      "Epoch 37/100\n",
      "260/260 [==============================] - 15s 57ms/step - loss: 0.2030 - acc: 0.9246 - val_loss: 0.2070 - val_acc: 0.9224\n",
      "Epoch 38/100\n",
      "260/260 [==============================] - 15s 56ms/step - loss: 0.2033 - acc: 0.9248 - val_loss: 0.2060 - val_acc: 0.9235\n",
      "Epoch 39/100\n",
      "260/260 [==============================] - 15s 56ms/step - loss: 0.1986 - acc: 0.9265 - val_loss: 0.2034 - val_acc: 0.9240\n",
      "Epoch 40/100\n",
      "260/260 [==============================] - 15s 57ms/step - loss: 0.1955 - acc: 0.9277 - val_loss: 0.2073 - val_acc: 0.9221\n",
      "Epoch 41/100\n",
      "260/260 [==============================] - 14s 56ms/step - loss: 0.1987 - acc: 0.9261 - val_loss: 0.2056 - val_acc: 0.9245\n",
      "Epoch 42/100\n",
      "260/260 [==============================] - 14s 56ms/step - loss: 0.1991 - acc: 0.9264 - val_loss: 0.2037 - val_acc: 0.9256\n",
      "Epoch 43/100\n",
      "260/260 [==============================] - 14s 55ms/step - loss: 0.1951 - acc: 0.9286 - val_loss: 0.2013 - val_acc: 0.9252\n",
      "Epoch 44/100\n",
      "260/260 [==============================] - 14s 56ms/step - loss: 0.1971 - acc: 0.9258 - val_loss: 0.2030 - val_acc: 0.9237\n",
      "Epoch 45/100\n",
      "260/260 [==============================] - 14s 55ms/step - loss: 0.1906 - acc: 0.9296 - val_loss: 0.2061 - val_acc: 0.9234\n",
      "Epoch 46/100\n",
      "260/260 [==============================] - 14s 56ms/step - loss: 0.1928 - acc: 0.9291 - val_loss: 0.1989 - val_acc: 0.9252\n",
      "Epoch 47/100\n",
      "260/260 [==============================] - 14s 55ms/step - loss: 0.1911 - acc: 0.9294 - val_loss: 0.2021 - val_acc: 0.9256\n",
      "Epoch 48/100\n",
      "260/260 [==============================] - 14s 55ms/step - loss: 0.1923 - acc: 0.9295 - val_loss: 0.1957 - val_acc: 0.9261\n",
      "Epoch 49/100\n",
      "260/260 [==============================] - 14s 55ms/step - loss: 0.1925 - acc: 0.9294 - val_loss: 0.1956 - val_acc: 0.9258\n",
      "Epoch 50/100\n",
      "260/260 [==============================] - 14s 55ms/step - loss: 0.1906 - acc: 0.9288 - val_loss: 0.1946 - val_acc: 0.9273\n",
      "Epoch 51/100\n",
      "260/260 [==============================] - 15s 56ms/step - loss: 0.1889 - acc: 0.9305 - val_loss: 0.1980 - val_acc: 0.9246\n",
      "Epoch 52/100\n",
      "260/260 [==============================] - 14s 55ms/step - loss: 0.1902 - acc: 0.9303 - val_loss: 0.2106 - val_acc: 0.9266\n",
      "Epoch 53/100\n",
      "260/260 [==============================] - 14s 55ms/step - loss: 0.1881 - acc: 0.9305 - val_loss: 0.2002 - val_acc: 0.9269\n",
      "Epoch 54/100\n",
      "260/260 [==============================] - 14s 56ms/step - loss: 0.1889 - acc: 0.9298 - val_loss: 0.1972 - val_acc: 0.9280\n",
      "Epoch 55/100\n",
      "260/260 [==============================] - 14s 56ms/step - loss: 0.1880 - acc: 0.9303 - val_loss: 0.1990 - val_acc: 0.9272\n",
      "Epoch 56/100\n",
      "260/260 [==============================] - 14s 55ms/step - loss: 0.1889 - acc: 0.9306 - val_loss: 0.1968 - val_acc: 0.9275\n",
      "Epoch 57/100\n",
      "260/260 [==============================] - 14s 55ms/step - loss: 0.1902 - acc: 0.9295 - val_loss: 0.1970 - val_acc: 0.9267\n",
      "Epoch 58/100\n",
      "260/260 [==============================] - 14s 55ms/step - loss: 0.1886 - acc: 0.9297 - val_loss: 0.1955 - val_acc: 0.9268\n",
      "Epoch 59/100\n",
      "260/260 [==============================] - 14s 55ms/step - loss: 0.1876 - acc: 0.9310 - val_loss: 0.1983 - val_acc: 0.9265\n",
      "Epoch 60/100\n",
      "260/260 [==============================] - 15s 56ms/step - loss: 0.1880 - acc: 0.9311 - val_loss: 0.2006 - val_acc: 0.9273\n",
      "Epoch 61/100\n",
      "260/260 [==============================] - 14s 55ms/step - loss: 0.1870 - acc: 0.9308 - val_loss: 0.1970 - val_acc: 0.9279\n",
      "Epoch 62/100\n",
      "260/260 [==============================] - 15s 57ms/step - loss: 0.1864 - acc: 0.9315 - val_loss: 0.1932 - val_acc: 0.9292\n",
      "Epoch 63/100\n",
      "260/260 [==============================] - 14s 56ms/step - loss: 0.1876 - acc: 0.9297 - val_loss: 0.1952 - val_acc: 0.9288\n",
      "Epoch 64/100\n",
      "260/260 [==============================] - 14s 55ms/step - loss: 0.1853 - acc: 0.9321 - val_loss: 0.1964 - val_acc: 0.9268\n",
      "Epoch 65/100\n",
      "260/260 [==============================] - 15s 56ms/step - loss: 0.1830 - acc: 0.9315 - val_loss: 0.2001 - val_acc: 0.9293\n",
      "Epoch 66/100\n",
      "260/260 [==============================] - 14s 56ms/step - loss: 0.1855 - acc: 0.9318 - val_loss: 0.1959 - val_acc: 0.9271\n",
      "Epoch 67/100\n",
      "260/260 [==============================] - 14s 55ms/step - loss: 0.1826 - acc: 0.9321 - val_loss: 0.1992 - val_acc: 0.9272\n",
      "Epoch 68/100\n",
      "260/260 [==============================] - 14s 55ms/step - loss: 0.1844 - acc: 0.9322 - val_loss: 0.1964 - val_acc: 0.9278\n",
      "Epoch 69/100\n",
      "260/260 [==============================] - 14s 55ms/step - loss: 0.1819 - acc: 0.9323 - val_loss: 0.1925 - val_acc: 0.9301\n",
      "Epoch 70/100\n",
      "260/260 [==============================] - 14s 56ms/step - loss: 0.1818 - acc: 0.9334 - val_loss: 0.1913 - val_acc: 0.9303\n",
      "Epoch 71/100\n",
      "260/260 [==============================] - 14s 55ms/step - loss: 0.1792 - acc: 0.9351 - val_loss: 0.1980 - val_acc: 0.9297\n",
      "Epoch 72/100\n",
      "260/260 [==============================] - 14s 55ms/step - loss: 0.1782 - acc: 0.9340 - val_loss: 0.2027 - val_acc: 0.9307\n",
      "Epoch 73/100\n",
      "260/260 [==============================] - 14s 55ms/step - loss: 0.1773 - acc: 0.9338 - val_loss: 0.2024 - val_acc: 0.9296\n",
      "Epoch 74/100\n",
      "260/260 [==============================] - 14s 56ms/step - loss: 0.1815 - acc: 0.9330 - val_loss: 0.2034 - val_acc: 0.9292\n",
      "Epoch 75/100\n",
      "260/260 [==============================] - 14s 56ms/step - loss: 0.1780 - acc: 0.9348 - val_loss: 0.2095 - val_acc: 0.9261\n",
      "Epoch 76/100\n",
      "260/260 [==============================] - 14s 55ms/step - loss: 0.1803 - acc: 0.9339 - val_loss: 0.1968 - val_acc: 0.9313\n",
      "Epoch 77/100\n",
      "260/260 [==============================] - 14s 55ms/step - loss: 0.1804 - acc: 0.9336 - val_loss: 0.2096 - val_acc: 0.9279\n",
      "Epoch 78/100\n",
      "260/260 [==============================] - 15s 56ms/step - loss: 0.1775 - acc: 0.9345 - val_loss: 0.1992 - val_acc: 0.9285\n",
      "Epoch 79/100\n",
      "260/260 [==============================] - 15s 57ms/step - loss: 0.1774 - acc: 0.9342 - val_loss: 0.1957 - val_acc: 0.9303\n",
      "Epoch 80/100\n",
      "260/260 [==============================] - 15s 57ms/step - loss: 0.1781 - acc: 0.9339 - val_loss: 0.1987 - val_acc: 0.9296\n",
      "Epoch 81/100\n",
      "260/260 [==============================] - 15s 56ms/step - loss: 0.1752 - acc: 0.9355 - val_loss: 0.1920 - val_acc: 0.9320\n",
      "Epoch 82/100\n",
      "260/260 [==============================] - 14s 55ms/step - loss: 0.1731 - acc: 0.9362 - val_loss: 0.2013 - val_acc: 0.9310\n",
      "Epoch 83/100\n",
      "260/260 [==============================] - 14s 56ms/step - loss: 0.1776 - acc: 0.9338 - val_loss: 0.1935 - val_acc: 0.9315\n",
      "Epoch 84/100\n",
      "260/260 [==============================] - 14s 55ms/step - loss: 0.1739 - acc: 0.9362 - val_loss: 0.1953 - val_acc: 0.9279\n",
      "Epoch 85/100\n",
      "260/260 [==============================] - 14s 55ms/step - loss: 0.1752 - acc: 0.9353 - val_loss: 0.1932 - val_acc: 0.9297\n",
      "Epoch 86/100\n",
      "260/260 [==============================] - 14s 55ms/step - loss: 0.1734 - acc: 0.9353 - val_loss: 0.1951 - val_acc: 0.9306\n",
      "Epoch 87/100\n",
      "260/260 [==============================] - 14s 55ms/step - loss: 0.1696 - acc: 0.9379 - val_loss: 0.1967 - val_acc: 0.9280\n",
      "Epoch 88/100\n",
      "260/260 [==============================] - 14s 55ms/step - loss: 0.1746 - acc: 0.9359 - val_loss: 0.1918 - val_acc: 0.9301\n",
      "Epoch 89/100\n",
      "260/260 [==============================] - 14s 56ms/step - loss: 0.1730 - acc: 0.9371 - val_loss: 0.1929 - val_acc: 0.9301\n",
      "Epoch 90/100\n",
      "260/260 [==============================] - 15s 56ms/step - loss: 0.1693 - acc: 0.9371 - val_loss: 0.1973 - val_acc: 0.9288\n",
      "Epoch 91/100\n",
      "260/260 [==============================] - 15s 56ms/step - loss: 0.1712 - acc: 0.9369 - val_loss: 0.1960 - val_acc: 0.9303\n",
      "Epoch 92/100\n",
      "260/260 [==============================] - 15s 56ms/step - loss: 0.1729 - acc: 0.9357 - val_loss: 0.1959 - val_acc: 0.9296\n",
      "Epoch 93/100\n",
      "260/260 [==============================] - 14s 55ms/step - loss: 0.1704 - acc: 0.9361 - val_loss: 0.1970 - val_acc: 0.9304\n",
      "Epoch 94/100\n",
      "260/260 [==============================] - 14s 55ms/step - loss: 0.1699 - acc: 0.9375 - val_loss: 0.1953 - val_acc: 0.9313\n",
      "Epoch 95/100\n",
      "260/260 [==============================] - 15s 56ms/step - loss: 0.1675 - acc: 0.9375 - val_loss: 0.2003 - val_acc: 0.9282\n",
      "Epoch 96/100\n",
      "260/260 [==============================] - 15s 56ms/step - loss: 0.1699 - acc: 0.9365 - val_loss: 0.1943 - val_acc: 0.9308\n",
      "Epoch 97/100\n",
      "260/260 [==============================] - 14s 55ms/step - loss: 0.1683 - acc: 0.9378 - val_loss: 0.1963 - val_acc: 0.9304\n",
      "Epoch 98/100\n",
      "260/260 [==============================] - 15s 56ms/step - loss: 0.1658 - acc: 0.9388 - val_loss: 0.2021 - val_acc: 0.9304\n",
      "Epoch 99/100\n",
      "260/260 [==============================] - 15s 56ms/step - loss: 0.1680 - acc: 0.9376 - val_loss: 0.1999 - val_acc: 0.9300\n",
      "Epoch 100/100\n",
      "260/260 [==============================] - 15s 56ms/step - loss: 0.1652 - acc: 0.9397 - val_loss: 0.1964 - val_acc: 0.9307\n"
     ]
    }
   ],
   "source": [
    "# train model\n",
    "history_5dim = pfn_5dim.fit(X_5dim_train, Y_train,\n",
    "        epochs=100,\n",
    "        batch_size=500,\n",
    "        validation_data=(X_5dim_val, Y_val),\n",
    "        verbose=1)"
   ]
  },
  {
   "cell_type": "code",
   "execution_count": 215,
   "id": "4eacb265-f315-49da-8777-eccb17860187",
   "metadata": {},
   "outputs": [],
   "source": [
    "pfn_5dim.save(modelpath+'pfn_StandardScaled_5dim.h5')"
   ]
  },
  {
   "cell_type": "code",
   "execution_count": 216,
   "id": "c23e5d8b-c0c3-456f-98c4-9ee8f8caae3b",
   "metadata": {},
   "outputs": [
    {
     "name": "stdout",
     "output_type": "stream",
     "text": [
      "AUC: 0.9783296587788871\n",
      "High efficiency AUC: 0.22669833391573602\n",
      "Rejection at 95% efficiency: 8.188957055214724\n",
      "at efficiency: 0.95004504955451\n",
      "AUC: inf\n"
     ]
    },
    {
     "name": "stderr",
     "output_type": "stream",
     "text": [
      "<ipython-input-216-90048c455d95>:8: RuntimeWarning: divide by zero encountered in true_divide\n",
      "  Rej_5dim=1./pfn_fp_5dim\n"
     ]
    }
   ],
   "source": [
    "# get area under the ROC curve\n",
    "preds_5dim = pfn_5dim.predict(X_5dim_test, batch_size=1000)\n",
    "auc_5dim = roc_auc_score(Y_test[:,1], preds_5dim[:,1])\n",
    "print('AUC:', auc_5dim)\n",
    "\n",
    "### get ROC curve\n",
    "pfn_fp_5dim, pfn_tp_5dim, threshs_5dim = roc_curve(Y_test[:,1], preds_5dim[:,1])\n",
    "Rej_5dim=1./pfn_fp_5dim\n",
    "highEff=pfn_tp_5dim>0.95\n",
    "pfn_tp_highEff_5dim = pfn_tp_5dim[highEff]\n",
    "Rej_highEff_5dim=Rej_5dim[highEff]\n",
    "print(\"High efficiency AUC:\",auc(pfn_tp_highEff_5dim,Rej_highEff_5dim))\n",
    "print(\"Rejection at 95% efficiency:\", Rej_highEff_5dim[0])\n",
    "\n",
    "print(\"at efficiency:\", pfn_tp_highEff_5dim[0])\n",
    "print(\"AUC:\",auc(pfn_tp_5dim,Rej_5dim))"
   ]
  },
  {
   "cell_type": "code",
   "execution_count": 217,
   "id": "6ccd1331-f742-40ff-a00a-8986326b37b5",
   "metadata": {},
   "outputs": [
    {
     "data": {
      "text/plain": [
       "<Figure size 799.992x599.976 with 0 Axes>"
      ]
     },
     "metadata": {},
     "output_type": "display_data"
    },
    {
     "data": {
      "image/png": "[encoded data removed]",
      "text/plain": [
       "<Figure size 799.992x599.976 with 1 Axes>"
      ]
     },
     "metadata": {},
     "output_type": "display_data"
    },
    {
     "data": {
      "image/png": "[encoded data removed]",
      "text/plain": [
       "<Figure size 799.992x599.976 with 1 Axes>"
      ]
     },
     "metadata": {},
     "output_type": "display_data"
    }
   ],
   "source": [
    "plt.cla(); plt.clf()\n",
    "fig = plt.figure()\n",
    "fig.patch.set_facecolor('white')\n",
    "\n",
    "plt.plot(history_5dim.history['acc'])\n",
    "plt.plot(history_5dim.history['val_acc'])\n",
    "plt.title('model accuracy')\n",
    "plt.ylabel('accuracy')\n",
    "plt.xlabel('epoch')\n",
    "plt.legend(['train', 'test'], loc='upper left')\n",
    "# plt.savefig('Plots/accuracy_' + layer + '.pdf')\n",
    "plt.show()\n",
    "\n",
    "\n",
    "# summarize history for loss\n",
    "fig = plt.figure()\n",
    "fig.patch.set_facecolor('white')\n",
    "plt.plot(history_5dim.history['loss'])\n",
    "plt.plot(history_5dim.history['val_loss'])\n",
    "plt.title('model loss')\n",
    "plt.ylabel('loss')\n",
    "plt.xlabel('epoch')\n",
    "plt.yscale('log')\n",
    "plt.legend(['train', 'test'], loc='upper left')\n",
    "# plt.savefig(plotpath + 'loss_' + layer + '.pdf')\n",
    "plt.show()"
   ]
  },
  {
   "cell_type": "code",
   "execution_count": 218,
   "id": "6e760558-2e0e-4cc7-ae0a-a87ecc32b21d",
   "metadata": {},
   "outputs": [
    {
     "name": "stderr",
     "output_type": "stream",
     "text": [
      "<ipython-input-218-415cd752c546>:9: RuntimeWarning: divide by zero encountered in true_divide\n",
      "  axes.plot(pfn_tp_5dim, 1./(pfn_fp_5dim), '-', color='red', label='PFN')\n",
      "<ipython-input-218-415cd752c546>:17: UserWarning: Attempted to set non-positive bottom ylim on a log-scaled axis.\n",
      "Invalid limit will be ignored.\n",
      "  axes.set_ylim(-1, 1000)\n"
     ]
    },
    {
     "data": {
      "image/png": "[encoded data removed]",
      "text/plain": [
       "<Figure size 360x360 with 1 Axes>"
      ]
     },
     "metadata": {},
     "output_type": "display_data"
    }
   ],
   "source": [
    "plt.rcParams['font.family'] = 'serif'\n",
    "plt.rcParams['figure.autolayout'] = True\n",
    "\n",
    "fig, axes = plt.subplots(1, 1, figsize=(5,5))\n",
    "\n",
    "plt.yscale('log')\n",
    "\n",
    "# plot the ROC curves\n",
    "axes.plot(pfn_tp_5dim, 1./(pfn_fp_5dim), '-', color='red', label='PFN')\n",
    "\n",
    "# axes labels\n",
    "axes.set_xlabel('$\\pi^{+}$ Efficiency')\n",
    "axes.set_ylabel('$\\pi^{0}$ Rejection')\n",
    "\n",
    "# axes limits\n",
    "axes.set_xlim(0.5, 1)\n",
    "axes.set_ylim(-1, 1000)\n",
    "\n",
    "# make legend and show plot\n",
    "axes.legend(loc='lower left', frameon=False)\n",
    "\n",
    "plt.show()"
   ]
  },
  {
   "cell_type": "code",
   "execution_count": null,
   "id": "eb6ded9c-d8d9-49c0-9525-ca55ecab110d",
   "metadata": {},
   "outputs": [],
   "source": []
  },
  {
   "cell_type": "markdown",
   "id": "7834f1c3-25bc-4d5f-94b1-3c97b3027e04",
   "metadata": {
    "tags": []
   },
   "source": [
    "## PFN with dimension 4 inputs: (log(E),eta,phi,samplerID)"
   ]
  },
  {
   "cell_type": "code",
   "execution_count": 219,
   "id": "b52393a2-b35c-4cba-9a00-650e202338d9",
   "metadata": {
    "tags": []
   },
   "outputs": [],
   "source": [
    "# ignore cellSignificance, cellVolume information \n",
    "X_4D=X[:,:,:4]"
   ]
  },
  {
   "cell_type": "code",
   "execution_count": 220,
   "id": "3bbfb507-2d66-41fb-9f5f-00a146c1ffb4",
   "metadata": {},
   "outputs": [
    {
     "data": {
      "text/plain": [
       "4"
      ]
     },
     "execution_count": 220,
     "metadata": {},
     "output_type": "execute_result"
    }
   ],
   "source": [
    "X_4D.shape[-1]"
   ]
  },
  {
   "cell_type": "code",
   "execution_count": 221,
   "id": "daf1533a-731c-4d5c-8228-51798461218c",
   "metadata": {},
   "outputs": [],
   "source": [
    "# do train/val/test split \n",
    "(X_4D_train, X_4D_val, X_4D_test,\n",
    " Y_train, Y_val, Y_test) = data_split(X_4D, Y, val=10000, test=40000)"
   ]
  },
  {
   "cell_type": "code",
   "execution_count": 222,
   "id": "cc973918-16df-4cbd-8abe-f43a683e518f",
   "metadata": {},
   "outputs": [],
   "source": [
    "pfn_4dim=tf.keras.models.load_model(modelpath+'pfn_4dim.h5')"
   ]
  },
  {
   "cell_type": "code",
   "execution_count": null,
   "id": "e9f7fa4a-81dc-408c-a962-cac3ac48b22a",
   "metadata": {},
   "outputs": [],
   "source": []
  },
  {
   "cell_type": "code",
   "execution_count": 223,
   "id": "fadac10a-7753-422b-83ce-e94957a7b20c",
   "metadata": {},
   "outputs": [
    {
     "name": "stdout",
     "output_type": "stream",
     "text": [
      "AUC: 0.9805204617338513\n",
      "High efficiency AUC: 0.25034157358102643\n",
      "Rejection at 95% efficiency: 9.399528301886793\n",
      "at efficiency: 0.9500323818064066\n",
      "AUC: inf\n"
     ]
    },
    {
     "name": "stderr",
     "output_type": "stream",
     "text": [
      "<ipython-input-223-103b5ea18793>:8: RuntimeWarning: divide by zero encountered in true_divide\n",
      "  Rej_4dim=1./pfn_fp_4dim\n"
     ]
    }
   ],
   "source": [
    "# get area under the ROC curve\n",
    "preds_4dim = pfn_4dim.predict(X_4D_test, batch_size=1000)\n",
    "auc_4dim = roc_auc_score(Y_test[:,1], preds_4dim[:,1])\n",
    "print('AUC:', auc_4dim)\n",
    "\n",
    "### get ROC curve\n",
    "pfn_fp_4dim, pfn_tp_4dim, threshs_4dim = roc_curve(Y_test[:,1], preds_4dim[:,1])\n",
    "Rej_4dim=1./pfn_fp_4dim\n",
    "highEff=pfn_tp_4dim>0.95\n",
    "pfn_tp_highEff_4dim = pfn_tp_4dim[highEff]\n",
    "Rej_highEff_4dim=Rej_4dim[highEff]\n",
    "print(\"High efficiency AUC:\",auc(pfn_tp_highEff_4dim,Rej_highEff_4dim))\n",
    "print(\"Rejection at 95% efficiency:\", Rej_highEff_4dim[0])\n",
    "\n",
    "print(\"at efficiency:\", pfn_tp_highEff_4dim[0])\n",
    "print(\"AUC:\",auc(pfn_tp_4dim,Rej_4dim))"
   ]
  },
  {
   "cell_type": "code",
   "execution_count": null,
   "id": "a08c7355-5aff-4dae-b97e-88c12602c7f9",
   "metadata": {},
   "outputs": [],
   "source": []
  },
  {
   "cell_type": "markdown",
   "id": "3916df06-0c5c-490e-acfb-c9562d914ef4",
   "metadata": {
    "tags": []
   },
   "source": [
    "## PFN with dimension 3 inputs: (log(E),eta,phi)"
   ]
  },
  {
   "cell_type": "code",
   "execution_count": 224,
   "id": "c382f1b4-2d1d-438e-bf65-5b888964d838",
   "metadata": {},
   "outputs": [],
   "source": [
    "# ignore cellSignificance, cellVolume information \n",
    "X_3dim=X[:,:,:3]"
   ]
  },
  {
   "cell_type": "code",
   "execution_count": 225,
   "id": "3827c965-5b9b-4c5e-aa7f-2fa1e5d5f438",
   "metadata": {},
   "outputs": [
    {
     "data": {
      "text/plain": [
       "3"
      ]
     },
     "execution_count": 225,
     "metadata": {},
     "output_type": "execute_result"
    }
   ],
   "source": [
    "X_3dim.shape[-1]"
   ]
  },
  {
   "cell_type": "code",
   "execution_count": 226,
   "id": "e0fc24e8-88a6-4545-b9a5-fa41a595e574",
   "metadata": {},
   "outputs": [],
   "source": [
    "# do train/val/test split \n",
    "(X_3dim_train, X_3dim_val, X_3dim_test,\n",
    " Y_train, Y_val, Y_test) = data_split(X_3dim, Y, val=10000, test=40000)"
   ]
  },
  {
   "cell_type": "code",
   "execution_count": 227,
   "id": "b67c5b87-e6c9-4d37-a3d5-2a401bcb2ab1",
   "metadata": {},
   "outputs": [],
   "source": [
    "pfn_3dim=tf.keras.models.load_model(modelpath+'pfn_3dim.h5')"
   ]
  },
  {
   "cell_type": "code",
   "execution_count": null,
   "id": "b863b777-2dee-49b5-a216-69f1b33b684c",
   "metadata": {},
   "outputs": [],
   "source": []
  },
  {
   "cell_type": "code",
   "execution_count": 228,
   "id": "eb45668f-4aae-4a27-964b-5a1cdf384ca7",
   "metadata": {},
   "outputs": [
    {
     "name": "stdout",
     "output_type": "stream",
     "text": [
      "AUC: 0.9732648287145402\n",
      "High efficiency AUC: 0.19020256192465887\n",
      "Rejection at 95% efficiency: 6.301928548846033\n",
      "at efficiency: 0.9500672746299895\n",
      "AUC: inf\n"
     ]
    },
    {
     "name": "stderr",
     "output_type": "stream",
     "text": [
      "<ipython-input-228-fb24a46c3d86>:8: RuntimeWarning: divide by zero encountered in true_divide\n",
      "  Rej_3dim=1./pfn_fp_3dim\n"
     ]
    }
   ],
   "source": [
    "# get area under the ROC curve\n",
    "preds_3dim = pfn_3dim.predict(X_3dim_test, batch_size=1000)\n",
    "auc_3dim = roc_auc_score(Y_test[:,1], preds_3dim[:,1])\n",
    "print('AUC:', auc_3dim)\n",
    "\n",
    "### get ROC curve\n",
    "pfn_fp_3dim, pfn_tp_3dim, threshs_3dim = roc_curve(Y_test[:,1], preds_3dim[:,1])\n",
    "Rej_3dim=1./pfn_fp_3dim\n",
    "highEff=pfn_tp_3dim>0.95\n",
    "pfn_tp_highEff_3dim = pfn_tp_3dim[highEff]\n",
    "Rej_highEff_3dim=Rej_3dim[highEff]\n",
    "print(\"High efficiency AUC:\",auc(pfn_tp_highEff_3dim,Rej_highEff_3dim))\n",
    "print(\"Rejection at 95% efficiency:\", Rej_highEff_3dim[0])\n",
    "\n",
    "print(\"at efficiency:\", pfn_tp_highEff_3dim[0])\n",
    "print(\"AUC:\",auc(pfn_tp_3dim,Rej_3dim))\n"
   ]
  },
  {
   "cell_type": "code",
   "execution_count": 229,
   "id": "53823629-ae20-4236-bfec-f6d5017cde25",
   "metadata": {},
   "outputs": [
    {
     "name": "stderr",
     "output_type": "stream",
     "text": [
      "<ipython-input-229-3d7132f8717f>:9: RuntimeWarning: divide by zero encountered in true_divide\n",
      "  axes.plot(pfn_tp_3dim, 1./(pfn_fp_3dim), '-', color='red', label='PFN')\n",
      "<ipython-input-229-3d7132f8717f>:17: UserWarning: Attempted to set non-positive bottom ylim on a log-scaled axis.\n",
      "Invalid limit will be ignored.\n",
      "  axes.set_ylim(-1, 1000)\n"
     ]
    },
    {
     "data": {
      "image/png": "[encoded data removed]",
      "text/plain": [
       "<Figure size 360x360 with 1 Axes>"
      ]
     },
     "metadata": {},
     "output_type": "display_data"
    }
   ],
   "source": [
    "plt.rcParams['font.family'] = 'serif'\n",
    "plt.rcParams['figure.autolayout'] = True\n",
    "\n",
    "fig, axes = plt.subplots(1, 1, figsize=(5,5))\n",
    "\n",
    "plt.yscale('log')\n",
    "\n",
    "# plot the ROC curves\n",
    "axes.plot(pfn_tp_3dim, 1./(pfn_fp_3dim), '-', color='red', label='PFN')\n",
    "\n",
    "# axes labels\n",
    "axes.set_xlabel('$\\pi^{+}$ Efficiency')\n",
    "axes.set_ylabel('$\\pi^{0}$ Rejection')\n",
    "\n",
    "# axes limits\n",
    "axes.set_xlim(0.5, 1)\n",
    "axes.set_ylim(-1, 1000)\n",
    "\n",
    "# make legend and show plot\n",
    "axes.legend(loc='lower left', frameon=False)\n",
    "\n",
    "plt.show()"
   ]
  },
  {
   "cell_type": "markdown",
   "id": "db5bdd38-4ff4-4dba-8be4-acd6fc8bdf79",
   "metadata": {
    "tags": []
   },
   "source": [
    "## Sumary of the performance"
   ]
  },
  {
   "cell_type": "code",
   "execution_count": 230,
   "id": "ab79a230-720c-4f23-b97e-7c1c4ac56b0c",
   "metadata": {},
   "outputs": [
    {
     "name": "stderr",
     "output_type": "stream",
     "text": [
      "<ipython-input-230-fb9e6022fed4>:12: RuntimeWarning: divide by zero encountered in true_divide\n",
      "  axes.plot(pfn_tp_3dim, 1./(pfn_fp_3dim), '-', color='red', label='3D')\n",
      "<ipython-input-230-fb9e6022fed4>:13: RuntimeWarning: divide by zero encountered in true_divide\n",
      "  axes.plot(pfn_tp_4dim, 1./(pfn_fp_4dim), '-', color='blue', label='3D+samplerID')\n",
      "<ipython-input-230-fb9e6022fed4>:14: RuntimeWarning: divide by zero encountered in true_divide\n",
      "  axes.plot(pfn_tp_5dim, 1./(pfn_fp_5dim), '-', color='black', label='3D+samplerID+Noise')\n",
      "<ipython-input-230-fb9e6022fed4>:15: RuntimeWarning: divide by zero encountered in true_divide\n",
      "  axes.plot(pfn_tp_6dim, 1./(pfn_fp_6dim), '-', color='orange', label='3D+samplerID+Noise+Volume')\n",
      "<ipython-input-230-fb9e6022fed4>:24: UserWarning: Attempted to set non-positive bottom ylim on a log-scaled axis.\n",
      "Invalid limit will be ignored.\n",
      "  axes.set_ylim(-1, 1000)\n"
     ]
    },
    {
     "data": {
      "image/png": "[encoded data removed]",
      "text/plain": [
       "<Figure size 360x360 with 1 Axes>"
      ]
     },
     "metadata": {},
     "output_type": "display_data"
    }
   ],
   "source": [
    "# some nicer plot settings \n",
    "plt.rcParams['font.family'] = 'serif'\n",
    "plt.rcParams['figure.autolayout'] = True\n",
    "\n",
    "fig, axes = plt.subplots(1, 1, figsize=(5,5))\n",
    "\n",
    "######################### ROC Curve Plot #########################\n",
    "\n",
    "plt.yscale('log')\n",
    "\n",
    "# plot the ROC curves\n",
    "axes.plot(pfn_tp_3dim, 1./(pfn_fp_3dim), '-', color='red', label='3D')\n",
    "axes.plot(pfn_tp_4dim, 1./(pfn_fp_4dim), '-', color='blue', label='3D+samplerID')\n",
    "axes.plot(pfn_tp_5dim, 1./(pfn_fp_5dim), '-', color='black', label='3D+samplerID+Noise')\n",
    "axes.plot(pfn_tp_6dim, 1./(pfn_fp_6dim), '-', color='orange', label='3D+samplerID+Noise+Volume')\n",
    "#axes.plot(pfn_tp_l200, 1./(pfn_fp_l200), '-', color='green', label='l=200')\n",
    "\n",
    "# axes labels\n",
    "axes.set_xlabel('$\\pi^{+}$ Efficiency')\n",
    "axes.set_ylabel('$\\pi^{0}$ Rejection')\n",
    "\n",
    "# axes limits\n",
    "axes.set_xlim(0.5, 1)\n",
    "axes.set_ylim(-1, 1000)\n",
    "\n",
    "# make legend and show plot\n",
    "axes.legend(loc='lower left', frameon=False)\n",
    "\n",
    "plt.show()"
   ]
  },
  {
   "cell_type": "code",
   "execution_count": 231,
   "id": "cdf4f759-6be7-4e1f-8605-76af7e63c888",
   "metadata": {},
   "outputs": [
    {
     "data": {
      "text/plain": [
       "array([[[ 4.53063501e+00,  4.29472327e-03, -1.81615353e-03],\n",
       "        [ 1.74413206e+00,  4.29523364e-03, -2.63937712e-02],\n",
       "        [ 3.16158280e+00,  4.29426134e-03,  2.27617025e-02],\n",
       "        ...,\n",
       "        [ 0.00000000e+00,  0.00000000e+00,  0.00000000e+00],\n",
       "        [ 0.00000000e+00,  0.00000000e+00,  0.00000000e+00],\n",
       "        [ 0.00000000e+00,  0.00000000e+00,  0.00000000e+00]],\n",
       "\n",
       "       [[ 1.58833682e-01,  1.01725679e-01, -1.66788459e-01],\n",
       "        [-1.94421643e+00,  1.01725679e-01, -2.64963150e-01],\n",
       "        [-2.24656691e+00,  1.01725679e-01, -6.86136484e-02],\n",
       "        ...,\n",
       "        [ 0.00000000e+00,  0.00000000e+00,  0.00000000e+00],\n",
       "        [ 0.00000000e+00,  0.00000000e+00,  0.00000000e+00],\n",
       "        [ 0.00000000e+00,  0.00000000e+00,  0.00000000e+00]],\n",
       "\n",
       "       [[ 2.11489237e-01, -5.15173003e-02,  1.66359782e-01],\n",
       "        [-7.98282045e-01, -5.15173003e-02,  6.81849718e-02],\n",
       "        [-3.62256720e+00, -5.15173003e-02,  2.64534593e-01],\n",
       "        ...,\n",
       "        [ 0.00000000e+00,  0.00000000e+00,  0.00000000e+00],\n",
       "        [ 0.00000000e+00,  0.00000000e+00,  0.00000000e+00],\n",
       "        [ 0.00000000e+00,  0.00000000e+00,  0.00000000e+00]],\n",
       "\n",
       "       ...,\n",
       "\n",
       "       [[ 3.24734933e+00,  1.77291036e-03, -1.00340843e-02],\n",
       "        [-3.74029392e-01,  1.77794695e-03, -3.45640182e-02],\n",
       "        [ 2.83393070e+00,  1.76791102e-03,  1.44941807e-02],\n",
       "        ...,\n",
       "        [ 0.00000000e+00,  0.00000000e+00,  0.00000000e+00],\n",
       "        [ 0.00000000e+00,  0.00000000e+00,  0.00000000e+00],\n",
       "        [ 0.00000000e+00,  0.00000000e+00,  0.00000000e+00]],\n",
       "\n",
       "       [[ 4.28225163e+00,  4.76050377e-03, -4.33915854e-03],\n",
       "        [ 1.48590828e+00,  4.74658608e-03, -2.89298296e-02],\n",
       "        [ 2.72169820e+00,  4.77400422e-03,  2.02523470e-02],\n",
       "        ...,\n",
       "        [ 0.00000000e+00,  0.00000000e+00,  0.00000000e+00],\n",
       "        [ 0.00000000e+00,  0.00000000e+00,  0.00000000e+00],\n",
       "        [ 0.00000000e+00,  0.00000000e+00,  0.00000000e+00]],\n",
       "\n",
       "       [[ 6.22324271e+00, -1.02344900e-04,  3.79610062e-03],\n",
       "        [ 4.24053001e+00, -1.02655962e-04, -2.07674503e-02],\n",
       "        [ 3.42825522e+00, -1.02029182e-04,  2.83591747e-02],\n",
       "        ...,\n",
       "        [ 0.00000000e+00,  0.00000000e+00,  0.00000000e+00],\n",
       "        [ 0.00000000e+00,  0.00000000e+00,  0.00000000e+00],\n",
       "        [ 0.00000000e+00,  0.00000000e+00,  0.00000000e+00]]])"
      ]
     },
     "execution_count": 231,
     "metadata": {},
     "output_type": "execute_result"
    }
   ],
   "source": [
    "X_3dim"
   ]
  },
  {
   "cell_type": "code",
   "execution_count": null,
   "id": "64fd441f-702f-4ada-94b1-9372eeec2bd7",
   "metadata": {},
   "outputs": [],
   "source": []
  },
  {
   "cell_type": "markdown",
   "id": "1d120eeb-1345-4ee9-b35a-ef2a046edd01",
   "metadata": {},
   "source": [
    "# Add cluster energy and EMProb"
   ]
  },
  {
   "cell_type": "code",
   "execution_count": 232,
   "id": "0d7aeefe-625a-4963-947e-91e9fac84f61",
   "metadata": {},
   "outputs": [],
   "source": [
    "path_pipm = data_path + 'pipm_medium.root'\n",
    "path_pi0  = data_path + 'pi0_medium.root'"
   ]
  },
  {
   "cell_type": "code",
   "execution_count": 233,
   "id": "008053a6-ee40-4b7d-8ef9-649ec5fdbb00",
   "metadata": {},
   "outputs": [],
   "source": [
    "tree_pipm = ur.open(path_pipm)['EventTree']\n",
    "tree_pi0  = ur.open(path_pi0)['EventTree']"
   ]
  },
  {
   "cell_type": "code",
   "execution_count": 235,
   "id": "a81bc78c-e5e9-4bf8-b05a-9137260e9a16",
   "metadata": {},
   "outputs": [
    {
     "data": {
      "text/plain": [
       "['cluster_E',\n",
       " 'cluster_E_LCCalib',\n",
       " 'cluster_Pt',\n",
       " 'cluster_Eta',\n",
       " 'cluster_Phi',\n",
       " 'cluster_nCells',\n",
       " 'cluster_ENG_CALIB_TOT',\n",
       " 'cluster_ENG_CALIB_OUT_T',\n",
       " 'cluster_ENG_CALIB_DEAD_TOT',\n",
       " 'cluster_EM_PROBABILITY',\n",
       " 'cluster_HAD_WEIGHT',\n",
       " 'cluster_OOC_WEIGHT',\n",
       " 'cluster_DM_WEIGHT',\n",
       " 'cluster_CENTER_MAG',\n",
       " 'cluster_FIRST_ENG_DENS',\n",
       " 'cluster_CENTER_LAMBDA',\n",
       " 'cluster_ISOLATION',\n",
       " 'cluster_ENERGY_DigiHSTruth',\n",
       " 'cluster_cell_ID',\n",
       " 'cluster_cell_E',\n",
       " 'cluster_hitsTruthIndex',\n",
       " 'cluster_hitsTruthE']"
      ]
     },
     "execution_count": 235,
     "metadata": {},
     "output_type": "execute_result"
    }
   ],
   "source": [
    "tree_pipm.keys(\"cluster*\")"
   ]
  },
  {
   "cell_type": "code",
   "execution_count": 236,
   "id": "7393a059-21ab-402c-939e-58e5b0d0767c",
   "metadata": {},
   "outputs": [
    {
     "data": {
      "text/plain": [
       "<TBranchElement 'cluster_E' at 0x7ff8118ad430>"
      ]
     },
     "execution_count": 236,
     "metadata": {},
     "output_type": "execute_result"
    }
   ],
   "source": [
    "tree_pipm['cluster_E']"
   ]
  },
  {
   "cell_type": "code",
   "execution_count": null,
   "id": "8aa895b3-88b5-4fd7-805f-a2a891c9016a",
   "metadata": {},
   "outputs": [],
   "source": [
    "fig = plt.figure()\n",
    "plt.hist(ak.flatten(X_scaled[:,:,5]), bins=np.linspace(-10,20,60,endpoint=True))\n",
    "plt.yscale('log')\n",
    "plt.show()"
   ]
  }
 ],
 "metadata": {
  "kernelspec": {
   "display_name": "Python 3 (ipykernel)",
   "language": "python",
   "name": "python3"
  },
  "language_info": {
   "codemirror_mode": {
    "name": "ipython",
    "version": 3
   },
   "file_extension": ".py",
   "mimetype": "text/x-python",
   "name": "python",
   "nbconvert_exporter": "python",
   "pygments_lexer": "ipython3",
   "version": "3.8.10"
  }
 },
 "nbformat": 4,
 "nbformat_minor": 5
}
