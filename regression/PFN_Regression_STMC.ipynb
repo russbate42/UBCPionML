{
 "cells": [
  {
   "cell_type": "markdown",
   "id": "f2368ca4-dcbb-44cc-bde2-94551856ffa4",
   "metadata": {},
   "source": [
    "# Particle Flow Network to Handle Single Track Multiple Cluster Dataset"
   ]
  },
  {
   "cell_type": "code",
   "execution_count": 1,
   "id": "ecc3f24c-dba4-4f38-8079-deefb8e38e14",
   "metadata": {},
   "outputs": [],
   "source": [
    "import numpy as np\n",
    "import matplotlib.pyplot as plt\n",
    "from matplotlib import cm\n",
    "from matplotlib.colors import Normalize\n",
    "from matplotlib.colors import LogNorm\n",
    "import time as t\n",
    "import scipy.constants as spc\n",
    "\n",
    "import sys\n",
    "sys.path.append('/home/russbate/MLPionCollaboration/LCStudies/')\n",
    "from util import resolution_util as ru\n",
    "from util import plot_util as pu\n",
    "from util import deep_set_util as dsu"
   ]
  },
  {
   "cell_type": "markdown",
   "id": "9c36f3a1-b75c-4e52-8ecc-a34b04970a5e",
   "metadata": {},
   "source": [
    "## Declare GPUS - Import TensorFlow"
   ]
  },
  {
   "cell_type": "code",
   "execution_count": 2,
   "id": "10a3c3ca-b24f-438b-b79c-069065c72148",
   "metadata": {},
   "outputs": [],
   "source": [
    "import os\n",
    "os.environ['CUDA_VISIBLE_DEVICES'] = \"5\"\n",
    "\n",
    "import tensorflow as tf\n",
    "from tensorflow import keras\n",
    "from keras import layers\n",
    "from keras import backend as K\n",
    "from tensorflow.python.client import device_lib\n",
    "\n",
    "# def get_available_gpus():\n",
    "#     local_device_protos = device_lib.list_local_devices()\n",
    "#     return [x.name for x in local_device_protos if x.device_type == 'GPU']\n",
    "\n",
    "# get_available_gpus()"
   ]
  },
  {
   "cell_type": "markdown",
   "id": "c0a8b1a6-e49e-4249-b581-115e16cd9ee7",
   "metadata": {},
   "source": [
    "# Import EnergyFlow "
   ]
  },
  {
   "cell_type": "code",
   "execution_count": 3,
   "id": "d44baa27-7fbd-46c3-a4f0-7d6bacbe1d55",
   "metadata": {},
   "outputs": [
    {
     "name": "stdout",
     "output_type": "stream",
     "text": [
      "Energy Flow Version: 1.3.2\n"
     ]
    }
   ],
   "source": [
    "import energyflow as ef\n",
    "from energyflow.archs import PFN\n",
    "print('Energy Flow Version: '+str(ef.__version__))"
   ]
  },
  {
   "cell_type": "markdown",
   "id": "013bd1f8-7cc1-4cfd-bf17-3f8abc33f8f2",
   "metadata": {},
   "source": [
    "# Load Data\n",
    "### Data Including Tracks\n",
    "### X = [Energy, Eta, Phi, rPerp, Track Flag, Layer]\n",
    "### Y = [truthPartE, truthTrackPt, cluster_ENG_CALIB_TOT]"
   ]
  },
  {
   "cell_type": "code",
   "execution_count": 4,
   "id": "fe1063e4-1d7b-47c8-a24e-0d028d2b6f95",
   "metadata": {},
   "outputs": [
    {
     "name": "stdout",
     "output_type": "stream",
     "text": [
      "Time to load memory mapped data: 42.323649644851685 (s)\n",
      "(175000, 1086, 6)\n",
      "(175000, 3)\n"
     ]
    }
   ],
   "source": [
    "t0 = t.time()\n",
    "Xraw = np.load('/data/atlas/rbate/X_STMC_502_files.npy', mmap_mode='r')[:175000,:,:]\n",
    "Yraw = np.load('/data/atlas/rbate/Y_STMC_502_files.npy', mmap_mode='r')[:175000,:]\n",
    "\n",
    "X = np.lib.format.open_memmap('/data/atlas/rbate/X_STMC_notebook.npy',\n",
    "                             mode='w+', dtype=np.float64, shape=(Xraw.shape[0], Xraw.shape[1], 5))\n",
    "np.copyto(dst=X, src=Xraw[:,:,:5], casting='same_kind', where=True)\n",
    "\n",
    "Y = np.lib.format.open_memmap('/data/atlas/rbate/Y_STMC_notebook.npy',\n",
    "                             mode='w+', dtype=np.float64, shape=(Yraw.shape[0]))\n",
    "np.copyto(dst=Y, src=Yraw[:,0], casting='same_kind', where=True)\n",
    "\n",
    "t1 = t.time()\n",
    "print('Time to load memory mapped data: {} (s)'.format(t1-t0))\n",
    "print(Xraw.shape)\n",
    "print(Yraw.shape)"
   ]
  },
  {
   "cell_type": "markdown",
   "id": "6bf5aa91-ce14-4262-a009-5dc069f124ee",
   "metadata": {},
   "source": [
    "# Particle Truth Energy Target"
   ]
  },
  {
   "cell_type": "code",
   "execution_count": 5,
   "id": "942b1bef-7dcd-42fc-be52-59bcd4355a46",
   "metadata": {},
   "outputs": [
    {
     "name": "stdout",
     "output_type": "stream",
     "text": [
      "Any targets below 50 GeV: 0\n",
      "Number of events: 175000\n"
     ]
    }
   ],
   "source": [
    "# the target energy values\n",
    "target_zero_mask = Yraw[:,0] > .05\n",
    "Y = np.log(Yraw[target_zero_mask,0])\n",
    "print('Any targets below 50 GeV: '+str(np.count_nonzero(np.invert(target_zero_mask))))\n",
    "print('Number of events: '+str(len(Y)))"
   ]
  },
  {
   "cell_type": "code",
   "execution_count": 6,
   "id": "529bd36d-9ae4-4b14-bdd3-64ede30d0dc8",
   "metadata": {},
   "outputs": [
    {
     "name": "stderr",
     "output_type": "stream",
     "text": [
      "findfont: Font family ['sans-serif'] not found. Falling back to DejaVu Sans.\n",
      "findfont: Generic family 'sans-serif' not found because none of the following families were found: Tex Gyre Heros, Helvetica, Nimbus Sans, FreeSans, Arial\n",
      "findfont: Font family ['sans-serif'] not found. Falling back to DejaVu Sans.\n",
      "findfont: Generic family 'sans-serif' not found because none of the following families were found: Tex Gyre Heros, Helvetica, Nimbus Sans, FreeSans, Arial\n",
      "findfont: Font family ['sans-serif'] not found. Falling back to DejaVu Sans.\n",
      "findfont: Generic family 'sans-serif' not found because none of the following families were found: Tex Gyre Heros, Helvetica, Nimbus Sans, FreeSans, Arial\n"
     ]
    },
    {
     "data": {
      "image/png": "[encoded data removed]",
      "text/plain": [
       "<Figure size 432x432 with 1 Axes>"
      ]
     },
     "metadata": {},
     "output_type": "display_data"
    },
    {
     "data": {
      "image/png": "[encoded data removed]",
      "text/plain": [
       "<Figure size 432x432 with 1 Axes>"
      ]
     },
     "metadata": {},
     "output_type": "display_data"
    }
   ],
   "source": [
    "## RAW DATA ##\n",
    "#=================================================================\n",
    "fig = plt.figure(figsize=(6,6))\n",
    "bins=np.linspace(0,2000,50,endpoint=True)\n",
    "plt.hist(Yraw[:,0][target_zero_mask], color='orange', bins=bins, density=True, alpha=.5, edgecolor='black',\n",
    "        label='Particle Truth Energy')\n",
    "plt.title('Truth Particle Energy', fontsize=16)\n",
    "plt.xlabel('E [GeV]', fontsize=14)\n",
    "plt.xlim(np.min(bins),np.max(bins))\n",
    "plt.yscale('log')\n",
    "plt.ylim(.00005,.01)\n",
    "plt.xticks(fontsize=13)\n",
    "plt.yticks(fontsize=13)\n",
    "plt.tight_layout()\n",
    "# plt.savefig('Regression_Plots/July/EnergyTargets_STMC_raw_2021-07-26.png', format='png')\n",
    "plt.show()\n",
    "\n",
    "## NORMALIZED DATA ##\n",
    "#=================================================================\n",
    "fig = plt.figure(figsize=(6,6))\n",
    "bins=np.linspace(np.log(.5), np.log(2000), 50, endpoint=True)\n",
    "plt.hist(Y, color='forestgreen', bins=bins, density=True, alpha=.5, edgecolor='black',\n",
    "        label='log')\n",
    "plt.title('Regression Targets', fontsize=16)\n",
    "plt.xlabel('Log(E) [GeV]', fontsize=14)\n",
    "plt.xlim(np.min(bins),np.max(bins))\n",
    "plt.ylim(0,.22)\n",
    "plt.xticks(fontsize=13)\n",
    "plt.yticks(fontsize=13)\n",
    "plt.tight_layout()\n",
    "# plt.savefig('Regression_Plots/July/EnergyTargets_STMC_log_2021-07-26.png', format='png')\n",
    "plt.show()"
   ]
  },
  {
   "cell_type": "markdown",
   "id": "374e6745-beaf-4b38-8a05-b318e90bd93c",
   "metadata": {},
   "source": [
    "## Deep Set Normalization"
   ]
  },
  {
   "cell_type": "code",
   "execution_count": 7,
   "id": "2b3d5169-9da8-40e6-9a52-fb48d9e030ca",
   "metadata": {},
   "outputs": [
    {
     "name": "stdout",
     "output_type": "stream",
     "text": [
      "False\n",
      "Time to Normalize: 29.875126361846924 (s)\n"
     ]
    }
   ],
   "source": [
    "t0 = t.time()\n",
    "## Normalize rPerp to 1/3630\n",
    "rPerp_mask = X[:,:,3] != 0\n",
    "X[:,:,3][rPerp_mask] = X[:,:,3][rPerp_mask]/3630.\n",
    "\n",
    "isnan = np.isnan(X[:,:,0])\n",
    "anytruth = np.any(isnan)\n",
    "print(anytruth)\n",
    "\n",
    "## Energy Values that are not zero!\n",
    "E_nonZeroMask = X[:,:,0] != 0\n",
    "X[:,:,0][E_nonZeroMask] = np.log(X[:,:,0][E_nonZeroMask])\n",
    "cellE_mean = np.mean(X[:,:,0][E_nonZeroMask])\n",
    "cellE_std = np.std(X[:,:,0][E_nonZeroMask])\n",
    "X[:,:,0][E_nonZeroMask] = (X[:,:,0][E_nonZeroMask] - cellE_mean)/cellE_std\n",
    "\n",
    "## Eta and Phi\n",
    "# do nothing for now as a control and check performance\n",
    "eta_mask = X[:,:,1] != 0\n",
    "X[:,:,1][eta_mask] = X[:,:,1][eta_mask]/.7\n",
    "\n",
    "phi_mask = X[:,:,2] != 0\n",
    "cellPhi_std = np.std(X[:,:,2][phi_mask])\n",
    "X[:,:,2][phi_mask] = X[:,:,2][phi_mask]/cellPhi_std\n",
    "t1 = t.time()\n",
    "print('Time to Normalize: '+str(t1-t0)+' (s)')"
   ]
  },
  {
   "cell_type": "markdown",
   "id": "b2de1b1e-82f6-4427-a5e7-584c9ab39de4",
   "metadata": {},
   "source": [
    "## Show Inputs"
   ]
  },
  {
   "cell_type": "code",
   "execution_count": 8,
   "id": "ddb33fa2-b670-456a-b27a-c082ba67c585",
   "metadata": {},
   "outputs": [
    {
     "data": {
      "text/plain": [
       "<Figure size 799.992x599.976 with 0 Axes>"
      ]
     },
     "metadata": {},
     "output_type": "display_data"
    },
    {
     "data": {
      "image/png": "[encoded data removed]",
      "text/plain": [
       "<Figure size 432x432 with 1 Axes>"
      ]
     },
     "metadata": {},
     "output_type": "display_data"
    },
    {
     "data": {
      "text/plain": [
       "<Figure size 799.992x599.976 with 0 Axes>"
      ]
     },
     "metadata": {},
     "output_type": "display_data"
    },
    {
     "data": {
      "image/png": "[encoded data removed]",
      "text/plain": [
       "<Figure size 432x432 with 1 Axes>"
      ]
     },
     "metadata": {},
     "output_type": "display_data"
    },
    {
     "data": {
      "text/plain": [
       "<Figure size 799.992x599.976 with 0 Axes>"
      ]
     },
     "metadata": {},
     "output_type": "display_data"
    },
    {
     "data": {
      "image/png": "[encoded data removed]",
      "text/plain": [
       "<Figure size 432x432 with 1 Axes>"
      ]
     },
     "metadata": {},
     "output_type": "display_data"
    },
    {
     "data": {
      "text/plain": [
       "<Figure size 799.992x599.976 with 0 Axes>"
      ]
     },
     "metadata": {},
     "output_type": "display_data"
    },
    {
     "data": {
      "image/png": "[encoded data removed]",
      "text/plain": [
       "<Figure size 432x432 with 1 Axes>"
      ]
     },
     "metadata": {},
     "output_type": "display_data"
    }
   ],
   "source": [
    "############\n",
    "## ENERGY ##\n",
    "############\n",
    "plt.cla(); plt.clf()\n",
    "fig = plt.figure(figsize=(6,6))\n",
    "ebins = np.linspace(-6,7, 50, endpoint=True)\n",
    "plt.hist(X[:,:,0][E_nonZeroMask], color='plum', bins=ebins, density=True, alpha=.5, edgecolor='black')\n",
    "plt.title('Cluster Cell Energy Inputs', fontsize=16)\n",
    "plt.xlabel('Log(E [GeV])', fontsize=14)\n",
    "plt.xlim(np.min(ebins),np.max(ebins))\n",
    "plt.ylim(0,.55)\n",
    "plt.xticks(fontsize=13)\n",
    "plt.yticks(fontsize=13)\n",
    "plt.tight_layout()\n",
    "# plt.savefig('Regression_Plots/July/X_STMC_E_2021-07-26.png', format='png')\n",
    "plt.show()\n",
    "\n",
    "#########\n",
    "## ETA ##\n",
    "#########\n",
    "plt.cla(); plt.clf()\n",
    "fig = plt.figure(figsize=(6,6))\n",
    "etabins = np.linspace(-1.1,1.1,50, endpoint=True)\n",
    "plt.hist(X[:,:,1][eta_mask], color='chocolate', bins=etabins, density=True, alpha=.5, edgecolor='black')\n",
    "plt.title('Cluster Cell Eta Inputs', fontsize=16)\n",
    "plt.xlabel('Eta', fontsize=14)\n",
    "plt.xlim(np.min(etabins),np.max(etabins))\n",
    "plt.ylim(0,4.5)\n",
    "plt.xticks(fontsize=13)\n",
    "plt.yticks(fontsize=13)\n",
    "plt.tight_layout()\n",
    "# plt.savefig('Regression_Plots/July/X_STMC_Eta_2021-07-26.png', format='png')\n",
    "plt.show()\n",
    "\n",
    "#########\n",
    "## PHI ##\n",
    "#########\n",
    "plt.cla(); plt.clf()\n",
    "fig = plt.figure(figsize=(6,6))\n",
    "phibins = np.linspace(-np.pi/4,np.pi/4,50, endpoint=True)\n",
    "plt.hist(X[:,:,2][phi_mask], color='olive', bins=phibins, density=True, alpha=.5, edgecolor='black')\n",
    "plt.title('Cluster Cell Phi Inputs Flattened', fontsize=16)\n",
    "plt.xlabel('Phi', fontsize=14)\n",
    "plt.xlim(np.min(phibins),np.max(phibins))\n",
    "plt.ylim(0,5)\n",
    "plt.xticks(fontsize=13)\n",
    "plt.yticks(fontsize=13)\n",
    "plt.tight_layout()\n",
    "# plt.savefig('Regression_Plots/July/X_STMC_Phi_2021-07-26.png', format='png')\n",
    "plt.show()\n",
    "\n",
    "###########\n",
    "## RPERP ##\n",
    "###########\n",
    "plt.cla(); plt.clf()\n",
    "fig = plt.figure(figsize=(6,6))\n",
    "Rbins = np.linspace(-0,1.2,50, endpoint=True)\n",
    "plt.hist(X[:,:,3][rPerp_mask], color='gold', bins=Rbins, density=True, alpha=.5, edgecolor='black')\n",
    "plt.title('Cluster Cell rPerp Inputs Flattened', fontsize=16)\n",
    "plt.xlabel('rPerp', fontsize=14)\n",
    "plt.xlim(np.min(Rbins),np.max(Rbins))\n",
    "plt.ylim(0,10)\n",
    "plt.xticks(fontsize=13)\n",
    "plt.yticks(fontsize=13)\n",
    "plt.tight_layout()\n",
    "# plt.savefig('Regression_Plots/July/X_STMC_rPerp_2021-07-26.png', format='png')\n",
    "plt.show()"
   ]
  },
  {
   "cell_type": "markdown",
   "id": "970e6662-d5f0-4d87-93db-b257faabe7f8",
   "metadata": {},
   "source": [
    "### Model Settings"
   ]
  },
  {
   "cell_type": "code",
   "execution_count": 9,
   "id": "84eea6c9-9c7b-413b-b063-713adbb3b5fc",
   "metadata": {},
   "outputs": [
    {
     "name": "stdout",
     "output_type": "stream",
     "text": [
      "train -- val -- test\n",
      "122500 -- 26250 -- 26250\n"
     ]
    }
   ],
   "source": [
    "# EFN regression example uses 75/10/15 split for 100,000 samples\n",
    "train, val, test = dsu.tvt_num(X, tvt=(70, 15, 15))\n",
    "print('train -- val -- test')\n",
    "print(str(train)+' -- '+str(val)+' -- '+str(test))\n",
    "\n",
    "# network architecture parameters\n",
    "Phi_sizes, F_sizes = (100, 100, 128), (100, 100, 100)\n",
    "output_act, output_dim = 'linear', 1\n",
    "loss = 'mse'\n",
    "\n",
    "# network training parameters\n",
    "num_epoch = 100\n",
    "batch_size = 3000"
   ]
  },
  {
   "cell_type": "markdown",
   "id": "8a05a9e7-c401-45fe-a347-2c3130846cee",
   "metadata": {},
   "source": [
    "#### Train/Val/Test Split"
   ]
  },
  {
   "cell_type": "code",
   "execution_count": 10,
   "id": "2839d9df-a844-4013-93b2-f90480d036a0",
   "metadata": {},
   "outputs": [
    {
     "name": "stdout",
     "output_type": "stream",
     "text": [
      "(122500, 1086, 5)\n",
      "(122500,)\n"
     ]
    }
   ],
   "source": [
    "(x_train, x_val, x_test,\n",
    " y_train, y_val, y_test) = ef.utils.data_split(X, Y, val=val, test=test)\n",
    "\n",
    "# Print out tensor shapes\n",
    "print(np.shape(x_train))\n",
    "print(np.shape(y_train))"
   ]
  },
  {
   "cell_type": "markdown",
   "id": "3f0e0743-5876-4c86-b830-237f9098b874",
   "metadata": {},
   "source": [
    "### Build Particle Flow Network"
   ]
  },
  {
   "cell_type": "code",
   "execution_count": 11,
   "id": "bf8af841-a25e-4bac-b989-6ef45bb1043b",
   "metadata": {
    "scrolled": true,
    "tags": []
   },
   "outputs": [
    {
     "name": "stdout",
     "output_type": "stream",
     "text": [
      "Model: \"model\"\n",
      "__________________________________________________________________________________________________\n",
      "Layer (type)                    Output Shape         Param #     Connected to                     \n",
      "==================================================================================================\n",
      "input (InputLayer)              [(None, None, 5)]    0                                            \n",
      "__________________________________________________________________________________________________\n",
      "tdist_0 (TimeDistributed)       (None, None, 100)    600         input[0][0]                      \n",
      "__________________________________________________________________________________________________\n",
      "activation (Activation)         (None, None, 100)    0           tdist_0[0][0]                    \n",
      "__________________________________________________________________________________________________\n",
      "tdist_1 (TimeDistributed)       (None, None, 100)    10100       activation[0][0]                 \n",
      "__________________________________________________________________________________________________\n",
      "activation_1 (Activation)       (None, None, 100)    0           tdist_1[0][0]                    \n",
      "__________________________________________________________________________________________________\n",
      "tdist_2 (TimeDistributed)       (None, None, 128)    12928       activation_1[0][0]               \n",
      "__________________________________________________________________________________________________\n",
      "mask (Lambda)                   (None, None)         0           input[0][0]                      \n",
      "__________________________________________________________________________________________________\n",
      "activation_2 (Activation)       (None, None, 128)    0           tdist_2[0][0]                    \n",
      "__________________________________________________________________________________________________\n",
      "sum (Dot)                       (None, 128)          0           mask[0][0]                       \n",
      "                                                                 activation_2[0][0]               \n",
      "__________________________________________________________________________________________________\n",
      "dense_0 (Dense)                 (None, 100)          12900       sum[0][0]                        \n",
      "__________________________________________________________________________________________________\n",
      "activation_3 (Activation)       (None, 100)          0           dense_0[0][0]                    \n",
      "__________________________________________________________________________________________________\n",
      "dense_1 (Dense)                 (None, 100)          10100       activation_3[0][0]               \n",
      "__________________________________________________________________________________________________\n",
      "activation_4 (Activation)       (None, 100)          0           dense_1[0][0]                    \n",
      "__________________________________________________________________________________________________\n",
      "dense_2 (Dense)                 (None, 100)          10100       activation_4[0][0]               \n",
      "__________________________________________________________________________________________________\n",
      "activation_5 (Activation)       (None, 100)          0           dense_2[0][0]                    \n",
      "__________________________________________________________________________________________________\n",
      "output (Dense)                  (None, 1)            101         activation_5[0][0]               \n",
      "__________________________________________________________________________________________________\n",
      "activation_6 (Activation)       (None, 1)            0           output[0][0]                     \n",
      "==================================================================================================\n",
      "Total params: 56,829\n",
      "Trainable params: 56,829\n",
      "Non-trainable params: 0\n",
      "__________________________________________________________________________________________________\n"
     ]
    },
    {
     "name": "stderr",
     "output_type": "stream",
     "text": [
      "2022-02-08 19:29:26.197049: I tensorflow/core/common_runtime/gpu/gpu_device.cc:1510] Created device /job:localhost/replica:0/task:0/device:GPU:0 with 9672 MB memory:  -> device: 0, name: NVIDIA GeForce RTX 2080 Ti, pci bus id: 0000:89:00.0, compute capability: 7.5\n"
     ]
    }
   ],
   "source": [
    "netOpt = tf.keras.optimizers.Adam(\n",
    "    learning_rate=.002,\n",
    "    beta_1=0.9,\n",
    "    beta_2=0.999,\n",
    "    epsilon=1e-09,\n",
    "    amsgrad=False)\n",
    "\n",
    "pfn = PFN(input_dim=5, Phi_sizes=Phi_sizes, F_sizes=F_sizes, \n",
    "          output_act=output_act, output_dim=output_dim, loss=loss,\n",
    "          optimizer=netOpt, metrics=[])"
   ]
  },
  {
   "cell_type": "markdown",
   "id": "e80449c7-8780-4926-adcc-53e7e33414f1",
   "metadata": {},
   "source": [
    "### Train Model"
   ]
  },
  {
   "cell_type": "code",
   "execution_count": 12,
   "id": "a4867a55-062b-439a-a24f-bd00473e21f2",
   "metadata": {
    "scrolled": true,
    "tags": []
   },
   "outputs": [
    {
     "name": "stderr",
     "output_type": "stream",
     "text": [
      "2022-02-08 19:29:47.162321: W tensorflow/core/framework/cpu_allocator_impl.cc:80] Allocation of 2660700000 exceeds 10% of free system memory.\n",
      "2022-02-08 19:29:50.379786: W tensorflow/core/framework/cpu_allocator_impl.cc:80] Allocation of 2660700000 exceeds 10% of free system memory.\n",
      "2022-02-08 19:29:53.263121: I tensorflow/compiler/mlir/mlir_graph_optimization_pass.cc:185] None of the MLIR Optimization Passes are enabled (registered 2)\n"
     ]
    },
    {
     "name": "stdout",
     "output_type": "stream",
     "text": [
      "Epoch 1/100\n",
      "41/41 [==============================] - 19s 296ms/step - loss: 1188.9471 - val_loss: 11.8070\n",
      "Epoch 2/100\n",
      "41/41 [==============================] - 10s 238ms/step - loss: 7.6617 - val_loss: 5.4958\n",
      "Epoch 3/100\n",
      "41/41 [==============================] - 10s 248ms/step - loss: 4.1463 - val_loss: 3.0618\n",
      "Epoch 4/100\n",
      "41/41 [==============================] - 10s 238ms/step - loss: 2.1215 - val_loss: 1.5507\n",
      "Epoch 5/100\n",
      "41/41 [==============================] - 10s 242ms/step - loss: 1.3647 - val_loss: 1.2976\n",
      "Epoch 6/100\n",
      "41/41 [==============================] - 9s 212ms/step - loss: 1.0450 - val_loss: 1.0641\n",
      "Epoch 7/100\n",
      "41/41 [==============================] - 9s 231ms/step - loss: 0.9272 - val_loss: 1.0217\n",
      "Epoch 8/100\n",
      "41/41 [==============================] - 9s 225ms/step - loss: 0.8206 - val_loss: 1.1045\n",
      "Epoch 9/100\n",
      "41/41 [==============================] - 9s 217ms/step - loss: 0.7388 - val_loss: 0.7618\n",
      "Epoch 10/100\n",
      "41/41 [==============================] - 10s 242ms/step - loss: 0.6009 - val_loss: 0.6211\n",
      "Epoch 11/100\n",
      "41/41 [==============================] - 9s 216ms/step - loss: 0.5298 - val_loss: 0.5467\n",
      "Epoch 12/100\n",
      "41/41 [==============================] - 8s 204ms/step - loss: 0.5264 - val_loss: 0.5651\n",
      "Epoch 13/100\n",
      "41/41 [==============================] - 10s 245ms/step - loss: 0.4780 - val_loss: 0.5014\n",
      "Epoch 14/100\n",
      "41/41 [==============================] - 9s 228ms/step - loss: 0.5000 - val_loss: 0.6852\n",
      "Epoch 15/100\n",
      "41/41 [==============================] - 8s 202ms/step - loss: 0.4318 - val_loss: 0.4337\n",
      "Epoch 16/100\n",
      "41/41 [==============================] - 9s 224ms/step - loss: 0.3892 - val_loss: 0.5524\n",
      "Epoch 17/100\n",
      "41/41 [==============================] - 10s 239ms/step - loss: 0.4489 - val_loss: 0.4698\n",
      "Epoch 18/100\n",
      "41/41 [==============================] - 9s 212ms/step - loss: 0.3944 - val_loss: 0.4468\n",
      "Epoch 19/100\n",
      "41/41 [==============================] - 8s 204ms/step - loss: 0.3607 - val_loss: 0.3661\n",
      "Epoch 20/100\n",
      "41/41 [==============================] - 8s 201ms/step - loss: 0.3890 - val_loss: 0.3860\n",
      "Epoch 21/100\n",
      "41/41 [==============================] - 9s 230ms/step - loss: 0.3650 - val_loss: 0.3516\n",
      "Epoch 22/100\n",
      "41/41 [==============================] - 9s 229ms/step - loss: 0.3148 - val_loss: 0.3100\n",
      "Epoch 23/100\n",
      "15/41 [=========>....................] - ETA: 5s - loss: 0.3329"
     ]
    },
    {
     "name": "stderr",
     "output_type": "stream",
     "text": [
      "2022-02-08 19:33:38.981730: W tensorflow/core/common_runtime/bfc_allocator.cc:463] Allocator (GPU_0_bfc) ran out of memory trying to allocate 1.55GiB (rounded to 1668096000)requested by op gradient_tape/model/sum/MatMul/MatMul_1\n",
      "If the cause is memory fragmentation maybe the environment variable 'TF_GPU_ALLOCATOR=cuda_malloc_async' will improve the situation. \n",
      "Current allocation summary follows.\n",
      "Current allocation summary follows.\n",
      "2022-02-08 19:33:38.981817: I tensorflow/core/common_runtime/bfc_allocator.cc:1013] BFCAllocator dump for GPU_0_bfc\n",
      "2022-02-08 19:33:38.981993: I tensorflow/core/common_runtime/bfc_allocator.cc:1020] Bin (256): \tTotal Chunks: 39, Chunks in use: 39. 9.8KiB allocated for chunks. 9.8KiB in use in bin. 200B client-requested in use in bin.\n",
      "2022-02-08 19:33:38.982046: I tensorflow/core/common_runtime/bfc_allocator.cc:1020] Bin (512): \tTotal Chunks: 21, Chunks in use: 21. 10.5KiB allocated for chunks. 10.5KiB in use in bin. 8.5KiB client-requested in use in bin.\n",
      "2022-02-08 19:33:38.982058: I tensorflow/core/common_runtime/bfc_allocator.cc:1020] Bin (1024): \tTotal Chunks: 1, Chunks in use: 1. 1.2KiB allocated for chunks. 1.2KiB in use in bin. 1.0KiB client-requested in use in bin.\n",
      "2022-02-08 19:33:38.982069: I tensorflow/core/common_runtime/bfc_allocator.cc:1020] Bin (2048): \tTotal Chunks: 4, Chunks in use: 3. 8.0KiB allocated for chunks. 6.0KiB in use in bin. 5.9KiB client-requested in use in bin.\n",
      "2022-02-08 19:33:38.982081: I tensorflow/core/common_runtime/bfc_allocator.cc:1020] Bin (4096): \tTotal Chunks: 0, Chunks in use: 0. 0B allocated for chunks. 0B in use in bin. 0B client-requested in use in bin.\n",
      "2022-02-08 19:33:38.982090: I tensorflow/core/common_runtime/bfc_allocator.cc:1020] Bin (8192): \tTotal Chunks: 0, Chunks in use: 0. 0B allocated for chunks. 0B in use in bin. 0B client-requested in use in bin.\n",
      "2022-02-08 19:33:38.982100: I tensorflow/core/common_runtime/bfc_allocator.cc:1020] Bin (16384): \tTotal Chunks: 1, Chunks in use: 0. 18.0KiB allocated for chunks. 0B in use in bin. 0B client-requested in use in bin.\n",
      "2022-02-08 19:33:38.982114: I tensorflow/core/common_runtime/bfc_allocator.cc:1020] Bin (32768): \tTotal Chunks: 15, Chunks in use: 15. 664.0KiB allocated for chunks. 664.0KiB in use in bin. 651.6KiB client-requested in use in bin.\n",
      "2022-02-08 19:33:38.982125: I tensorflow/core/common_runtime/bfc_allocator.cc:1020] Bin (65536): \tTotal Chunks: 1, Chunks in use: 1. 102.8KiB allocated for chunks. 102.8KiB in use in bin. 102.5KiB client-requested in use in bin.\n",
      "2022-02-08 19:33:38.982135: I tensorflow/core/common_runtime/bfc_allocator.cc:1020] Bin (131072): \tTotal Chunks: 0, Chunks in use: 0. 0B allocated for chunks. 0B in use in bin. 0B client-requested in use in bin.\n",
      "2022-02-08 19:33:38.982146: I tensorflow/core/common_runtime/bfc_allocator.cc:1020] Bin (262144): \tTotal Chunks: 1, Chunks in use: 1. 478.8KiB allocated for chunks. 478.8KiB in use in bin. 478.5KiB client-requested in use in bin.\n",
      "2022-02-08 19:33:38.982155: I tensorflow/core/common_runtime/bfc_allocator.cc:1020] Bin (524288): \tTotal Chunks: 0, Chunks in use: 0. 0B allocated for chunks. 0B in use in bin. 0B client-requested in use in bin.\n",
      "2022-02-08 19:33:38.982170: I tensorflow/core/common_runtime/bfc_allocator.cc:1020] Bin (1048576): \tTotal Chunks: 1, Chunks in use: 1. 1.46MiB allocated for chunks. 1.46MiB in use in bin. 1.46MiB client-requested in use in bin.\n",
      "2022-02-08 19:33:38.982179: I tensorflow/core/common_runtime/bfc_allocator.cc:1020] Bin (2097152): \tTotal Chunks: 1, Chunks in use: 0. 3.75MiB allocated for chunks. 0B in use in bin. 0B client-requested in use in bin.\n",
      "2022-02-08 19:33:38.982189: I tensorflow/core/common_runtime/bfc_allocator.cc:1020] Bin (4194304): \tTotal Chunks: 0, Chunks in use: 0. 0B allocated for chunks. 0B in use in bin. 0B client-requested in use in bin.\n",
      "2022-02-08 19:33:38.982200: I tensorflow/core/common_runtime/bfc_allocator.cc:1020] Bin (8388608): \tTotal Chunks: 1, Chunks in use: 1. 15.54MiB allocated for chunks. 15.54MiB in use in bin. 12.43MiB client-requested in use in bin.\n",
      "2022-02-08 19:33:38.982209: I tensorflow/core/common_runtime/bfc_allocator.cc:1020] Bin (16777216): \tTotal Chunks: 0, Chunks in use: 0. 0B allocated for chunks. 0B in use in bin. 0B client-requested in use in bin.\n",
      "2022-02-08 19:33:38.982220: I tensorflow/core/common_runtime/bfc_allocator.cc:1020] Bin (33554432): \tTotal Chunks: 1, Chunks in use: 1. 62.14MiB allocated for chunks. 62.14MiB in use in bin. 62.14MiB client-requested in use in bin.\n",
      "2022-02-08 19:33:38.982230: I tensorflow/core/common_runtime/bfc_allocator.cc:1020] Bin (67108864): \tTotal Chunks: 0, Chunks in use: 0. 0B allocated for chunks. 0B in use in bin. 0B client-requested in use in bin.\n",
      "2022-02-08 19:33:38.982241: I tensorflow/core/common_runtime/bfc_allocator.cc:1020] Bin (134217728): \tTotal Chunks: 0, Chunks in use: 0. 0B allocated for chunks. 0B in use in bin. 0B client-requested in use in bin.\n",
      "2022-02-08 19:33:38.982251: I tensorflow/core/common_runtime/bfc_allocator.cc:1020] Bin (268435456): \tTotal Chunks: 7, Chunks in use: 5. 9.36GiB allocated for chunks. 6.99GiB in use in bin. 6.99GiB client-requested in use in bin.\n",
      "2022-02-08 19:33:38.982262: I tensorflow/core/common_runtime/bfc_allocator.cc:1036] Bin for 1.55GiB was 256.00MiB, Chunk State: \n",
      "2022-02-08 19:33:38.982282: I tensorflow/core/common_runtime/bfc_allocator.cc:1042]   Size: 1.08GiB | Requested Size: 39.1KiB | in_use: 0 | bin_num: 20, prev:   Size: 1.46MiB | Requested Size: 1.46MiB | in_use: 1 | bin_num: -1\n",
      "2022-02-08 19:33:38.982301: I tensorflow/core/common_runtime/bfc_allocator.cc:1042]   Size: 1.29GiB | Requested Size: 1.46MiB | in_use: 0 | bin_num: 20, prev:   Size: 1.55GiB | Requested Size: 1.55GiB | in_use: 1 | bin_num: -1, next:   Size: 256B | Requested Size: 4B | in_use: 1 | bin_num: -1\n",
      "2022-02-08 19:33:38.982310: I tensorflow/core/common_runtime/bfc_allocator.cc:1049] Next region of size 10142416896\n",
      "2022-02-08 19:33:38.982324: I tensorflow/core/common_runtime/bfc_allocator.cc:1069] InUse at 7f6ed2000000 of size 1280 next 1\n",
      "2022-02-08 19:33:38.982333: I tensorflow/core/common_runtime/bfc_allocator.cc:1069] InUse at 7f6ed2000500 of size 256 next 2\n",
      "2022-02-08 19:33:38.982341: I tensorflow/core/common_runtime/bfc_allocator.cc:1069] InUse at 7f6ed2000600 of size 256 next 3\n",
      "2022-02-08 19:33:38.982349: I tensorflow/core/common_runtime/bfc_allocator.cc:1069] InUse at 7f6ed2000700 of size 256 next 4\n",
      "2022-02-08 19:33:38.982358: I tensorflow/core/common_runtime/bfc_allocator.cc:1069] InUse at 7f6ed2000800 of size 512 next 5\n",
      "2022-02-08 19:33:38.982366: I tensorflow/core/common_runtime/bfc_allocator.cc:1069] InUse at 7f6ed2000a00 of size 256 next 8\n",
      "2022-02-08 19:33:38.982375: I tensorflow/core/common_runtime/bfc_allocator.cc:1069] InUse at 7f6ed2000b00 of size 256 next 9\n",
      "2022-02-08 19:33:38.982382: I tensorflow/core/common_runtime/bfc_allocator.cc:1069] InUse at 7f6ed2000c00 of size 512 next 10\n",
      "2022-02-08 19:33:38.982390: I tensorflow/core/common_runtime/bfc_allocator.cc:1069] InUse at 7f6ed2000e00 of size 512 next 15\n",
      "2022-02-08 19:33:38.982398: I tensorflow/core/common_runtime/bfc_allocator.cc:1069] InUse at 7f6ed2001000 of size 256 next 16\n",
      "2022-02-08 19:33:38.982406: I tensorflow/core/common_runtime/bfc_allocator.cc:1069] InUse at 7f6ed2001100 of size 256 next 17\n",
      "2022-02-08 19:33:38.982413: I tensorflow/core/common_runtime/bfc_allocator.cc:1069] InUse at 7f6ed2001200 of size 512 next 19\n",
      "2022-02-08 19:33:38.982421: I tensorflow/core/common_runtime/bfc_allocator.cc:1069] InUse at 7f6ed2001400 of size 512 next 20\n",
      "2022-02-08 19:33:38.982429: I tensorflow/core/common_runtime/bfc_allocator.cc:1069] InUse at 7f6ed2001600 of size 512 next 6\n",
      "2022-02-08 19:33:38.982437: I tensorflow/core/common_runtime/bfc_allocator.cc:1069] InUse at 7f6ed2001800 of size 2048 next 7\n",
      "2022-02-08 19:33:38.982445: I tensorflow/core/common_runtime/bfc_allocator.cc:1069] InUse at 7f6ed2002000 of size 256 next 23\n",
      "2022-02-08 19:33:38.982453: I tensorflow/core/common_runtime/bfc_allocator.cc:1069] InUse at 7f6ed2002100 of size 256 next 24\n",
      "2022-02-08 19:33:38.982460: I tensorflow/core/common_runtime/bfc_allocator.cc:1069] InUse at 7f6ed2002200 of size 256 next 25\n",
      "2022-02-08 19:33:38.982468: I tensorflow/core/common_runtime/bfc_allocator.cc:1069] InUse at 7f6ed2002300 of size 256 next 26\n",
      "2022-02-08 19:33:38.982476: I tensorflow/core/common_runtime/bfc_allocator.cc:1069] InUse at 7f6ed2002400 of size 256 next 29\n",
      "2022-02-08 19:33:38.982483: I tensorflow/core/common_runtime/bfc_allocator.cc:1069] InUse at 7f6ed2002500 of size 256 next 30\n",
      "2022-02-08 19:33:38.982491: I tensorflow/core/common_runtime/bfc_allocator.cc:1069] InUse at 7f6ed2002600 of size 256 next 27\n",
      "2022-02-08 19:33:38.982500: I tensorflow/core/common_runtime/bfc_allocator.cc:1069] InUse at 7f6ed2002700 of size 512 next 28\n",
      "2022-02-08 19:33:38.982508: I tensorflow/core/common_runtime/bfc_allocator.cc:1069] InUse at 7f6ed2002900 of size 256 next 33\n",
      "2022-02-08 19:33:38.982516: I tensorflow/core/common_runtime/bfc_allocator.cc:1069] InUse at 7f6ed2002a00 of size 256 next 34\n",
      "2022-02-08 19:33:38.982524: I tensorflow/core/common_runtime/bfc_allocator.cc:1069] InUse at 7f6ed2002b00 of size 256 next 35\n",
      "2022-02-08 19:33:38.982532: I tensorflow/core/common_runtime/bfc_allocator.cc:1069] InUse at 7f6ed2002c00 of size 256 next 36\n",
      "2022-02-08 19:33:38.982539: I tensorflow/core/common_runtime/bfc_allocator.cc:1069] InUse at 7f6ed2002d00 of size 256 next 37\n",
      "2022-02-08 19:33:38.982547: I tensorflow/core/common_runtime/bfc_allocator.cc:1069] InUse at 7f6ed2002e00 of size 256 next 38\n",
      "2022-02-08 19:33:38.982555: I tensorflow/core/common_runtime/bfc_allocator.cc:1069] InUse at 7f6ed2002f00 of size 256 next 39\n",
      "2022-02-08 19:33:38.982563: I tensorflow/core/common_runtime/bfc_allocator.cc:1069] InUse at 7f6ed2003000 of size 256 next 40\n",
      "2022-02-08 19:33:38.982570: I tensorflow/core/common_runtime/bfc_allocator.cc:1069] InUse at 7f6ed2003100 of size 2048 next 41\n",
      "2022-02-08 19:33:38.982578: I tensorflow/core/common_runtime/bfc_allocator.cc:1069] InUse at 7f6ed2003900 of size 512 next 42\n",
      "2022-02-08 19:33:38.982586: I tensorflow/core/common_runtime/bfc_allocator.cc:1069] InUse at 7f6ed2003b00 of size 512 next 43\n",
      "2022-02-08 19:33:38.982594: I tensorflow/core/common_runtime/bfc_allocator.cc:1069] InUse at 7f6ed2003d00 of size 512 next 45\n",
      "2022-02-08 19:33:38.982601: I tensorflow/core/common_runtime/bfc_allocator.cc:1069] InUse at 7f6ed2003f00 of size 512 next 47\n",
      "2022-02-08 19:33:38.982609: I tensorflow/core/common_runtime/bfc_allocator.cc:1069] InUse at 7f6ed2004100 of size 512 next 49\n",
      "2022-02-08 19:33:38.982617: I tensorflow/core/common_runtime/bfc_allocator.cc:1069] InUse at 7f6ed2004300 of size 512 next 51\n",
      "2022-02-08 19:33:38.982625: I tensorflow/core/common_runtime/bfc_allocator.cc:1069] InUse at 7f6ed2004500 of size 512 next 52\n",
      "2022-02-08 19:33:38.982633: I tensorflow/core/common_runtime/bfc_allocator.cc:1069] InUse at 7f6ed2004700 of size 256 next 53\n",
      "2022-02-08 19:33:38.982640: I tensorflow/core/common_runtime/bfc_allocator.cc:1069] InUse at 7f6ed2004800 of size 2048 next 54\n",
      "2022-02-08 19:33:38.982648: I tensorflow/core/common_runtime/bfc_allocator.cc:1069] InUse at 7f6ed2005000 of size 512 next 55\n",
      "2022-02-08 19:33:38.982655: I tensorflow/core/common_runtime/bfc_allocator.cc:1069] InUse at 7f6ed2005200 of size 512 next 57\n",
      "2022-02-08 19:33:38.982663: I tensorflow/core/common_runtime/bfc_allocator.cc:1069] InUse at 7f6ed2005400 of size 512 next 59\n",
      "2022-02-08 19:33:38.982670: I tensorflow/core/common_runtime/bfc_allocator.cc:1069] InUse at 7f6ed2005600 of size 512 next 61\n",
      "2022-02-08 19:33:38.982678: I tensorflow/core/common_runtime/bfc_allocator.cc:1069] InUse at 7f6ed2005800 of size 512 next 63\n",
      "2022-02-08 19:33:38.982686: I tensorflow/core/common_runtime/bfc_allocator.cc:1069] InUse at 7f6ed2005a00 of size 512 next 65\n",
      "2022-02-08 19:33:38.982693: I tensorflow/core/common_runtime/bfc_allocator.cc:1069] InUse at 7f6ed2005c00 of size 512 next 66\n",
      "2022-02-08 19:33:38.982701: I tensorflow/core/common_runtime/bfc_allocator.cc:1069] InUse at 7f6ed2005e00 of size 256 next 67\n",
      "2022-02-08 19:33:38.982709: I tensorflow/core/common_runtime/bfc_allocator.cc:1069] InUse at 7f6ed2005f00 of size 256 next 68\n",
      "2022-02-08 19:33:38.982716: I tensorflow/core/common_runtime/bfc_allocator.cc:1069] InUse at 7f6ed2006000 of size 256 next 69\n",
      "2022-02-08 19:33:38.982724: I tensorflow/core/common_runtime/bfc_allocator.cc:1069] InUse at 7f6ed2006100 of size 256 next 70\n",
      "2022-02-08 19:33:38.982732: I tensorflow/core/common_runtime/bfc_allocator.cc:1069] InUse at 7f6ed2006200 of size 256 next 71\n",
      "2022-02-08 19:33:38.982739: I tensorflow/core/common_runtime/bfc_allocator.cc:1069] InUse at 7f6ed2006300 of size 256 next 72\n",
      "2022-02-08 19:33:38.982748: I tensorflow/core/common_runtime/bfc_allocator.cc:1069] InUse at 7f6ed2006400 of size 256 next 73\n",
      "2022-02-08 19:33:38.982756: I tensorflow/core/common_runtime/bfc_allocator.cc:1069] InUse at 7f6ed2006500 of size 256 next 74\n",
      "2022-02-08 19:33:38.982764: I tensorflow/core/common_runtime/bfc_allocator.cc:1069] InUse at 7f6ed2006600 of size 256 next 75\n",
      "2022-02-08 19:33:38.982772: I tensorflow/core/common_runtime/bfc_allocator.cc:1069] InUse at 7f6ed2006700 of size 256 next 76\n",
      "2022-02-08 19:33:38.982780: I tensorflow/core/common_runtime/bfc_allocator.cc:1069] InUse at 7f6ed2006800 of size 256 next 83\n",
      "2022-02-08 19:33:38.982788: I tensorflow/core/common_runtime/bfc_allocator.cc:1069] InUse at 7f6ed2006900 of size 256 next 89\n",
      "2022-02-08 19:33:38.982796: I tensorflow/core/common_runtime/bfc_allocator.cc:1069] Free  at 7f6ed2006a00 of size 18432 next 103\n",
      "2022-02-08 19:33:38.982804: I tensorflow/core/common_runtime/bfc_allocator.cc:1069] InUse at 7f6ed200b200 of size 256 next 80\n",
      "2022-02-08 19:33:38.982812: I tensorflow/core/common_runtime/bfc_allocator.cc:1069] InUse at 7f6ed200b300 of size 256 next 92\n",
      "2022-02-08 19:33:38.982820: I tensorflow/core/common_runtime/bfc_allocator.cc:1069] InUse at 7f6ed200b400 of size 256 next 85\n",
      "2022-02-08 19:33:38.982827: I tensorflow/core/common_runtime/bfc_allocator.cc:1069] Free  at 7f6ed200b500 of size 2048 next 21\n",
      "2022-02-08 19:33:38.982836: I tensorflow/core/common_runtime/bfc_allocator.cc:1069] InUse at 7f6ed200bd00 of size 40192 next 12\n",
      "2022-02-08 19:33:38.982844: I tensorflow/core/common_runtime/bfc_allocator.cc:1069] InUse at 7f6ed2015a00 of size 40192 next 11\n",
      "2022-02-08 19:33:38.982852: I tensorflow/core/common_runtime/bfc_allocator.cc:1069] InUse at 7f6ed201f700 of size 51200 next 14\n",
      "2022-02-08 19:33:38.982860: I tensorflow/core/common_runtime/bfc_allocator.cc:1069] InUse at 7f6ed202bf00 of size 51200 next 13\n",
      "2022-02-08 19:33:38.982867: I tensorflow/core/common_runtime/bfc_allocator.cc:1069] InUse at 7f6ed2038700 of size 51200 next 18\n",
      "2022-02-08 19:33:38.982875: I tensorflow/core/common_runtime/bfc_allocator.cc:1069] InUse at 7f6ed2044f00 of size 40192 next 22\n",
      "2022-02-08 19:33:38.982884: I tensorflow/core/common_runtime/bfc_allocator.cc:1069] InUse at 7f6ed204ec00 of size 2660700160 next 31\n",
      "2022-02-08 19:33:38.982893: I tensorflow/core/common_runtime/bfc_allocator.cc:1069] InUse at 7f6f709bfc00 of size 490240 next 32\n",
      "2022-02-08 19:33:38.982901: I tensorflow/core/common_runtime/bfc_allocator.cc:1069] InUse at 7f6f70a37700 of size 51200 next 44\n",
      "2022-02-08 19:33:38.982909: I tensorflow/core/common_runtime/bfc_allocator.cc:1069] InUse at 7f6f70a43f00 of size 51200 next 46\n",
      "2022-02-08 19:33:38.982917: I tensorflow/core/common_runtime/bfc_allocator.cc:1069] InUse at 7f6f70a50700 of size 40192 next 48\n",
      "2022-02-08 19:33:38.982924: I tensorflow/core/common_runtime/bfc_allocator.cc:1069] InUse at 7f6f70a5a400 of size 40192 next 50\n",
      "2022-02-08 19:33:38.982932: I tensorflow/core/common_runtime/bfc_allocator.cc:1069] InUse at 7f6f70a64100 of size 40192 next 56\n",
      "2022-02-08 19:33:38.982940: I tensorflow/core/common_runtime/bfc_allocator.cc:1069] InUse at 7f6f70a6de00 of size 51200 next 58\n",
      "2022-02-08 19:33:38.982947: I tensorflow/core/common_runtime/bfc_allocator.cc:1069] InUse at 7f6f70a7a600 of size 51200 next 60\n",
      "2022-02-08 19:33:38.982955: I tensorflow/core/common_runtime/bfc_allocator.cc:1069] InUse at 7f6f70a86e00 of size 40192 next 62\n",
      "2022-02-08 19:33:38.982966: I tensorflow/core/common_runtime/bfc_allocator.cc:1069] InUse at 7f6f70a90b00 of size 40192 next 64\n",
      "2022-02-08 19:33:38.982974: I tensorflow/core/common_runtime/bfc_allocator.cc:1069] InUse at 7f6f70a9a800 of size 570150144 next 91\n",
      "2022-02-08 19:33:38.982983: I tensorflow/core/common_runtime/bfc_allocator.cc:1069] InUse at 7f6f92a57500 of size 105216 next 96\n",
      "2022-02-08 19:33:38.982991: I tensorflow/core/common_runtime/bfc_allocator.cc:1069] InUse at 7f6f92a71000 of size 1303200000 next 102\n",
      "2022-02-08 19:33:38.983000: I tensorflow/core/common_runtime/bfc_allocator.cc:1069] InUse at 7f6fe0545100 of size 1668096000 next 105\n",
      "2022-02-08 19:33:38.983009: I tensorflow/core/common_runtime/bfc_allocator.cc:1069] Free  at 7f7043c17100 of size 1390320640 next 81\n",
      "2022-02-08 19:33:38.983017: I tensorflow/core/common_runtime/bfc_allocator.cc:1069] InUse at 7f7096a00d00 of size 256 next 82\n",
      "2022-02-08 19:33:38.983025: I tensorflow/core/common_runtime/bfc_allocator.cc:1069] InUse at 7f7096a00e00 of size 65160192 next 84\n",
      "2022-02-08 19:33:38.983033: I tensorflow/core/common_runtime/bfc_allocator.cc:1069] InUse at 7f709a825200 of size 16290048 next 101\n",
      "2022-02-08 19:33:38.983041: I tensorflow/core/common_runtime/bfc_allocator.cc:1069] InUse at 7f709b7ae300 of size 1303200000 next 95\n",
      "2022-02-08 19:33:38.983050: I tensorflow/core/common_runtime/bfc_allocator.cc:1069] Free  at 7f70e9282400 of size 3936256 next 97\n",
      "2022-02-08 19:33:38.983058: I tensorflow/core/common_runtime/bfc_allocator.cc:1069] InUse at 7f70e9643400 of size 1536000 next 94\n",
      "2022-02-08 19:33:38.983066: I tensorflow/core/common_runtime/bfc_allocator.cc:1069] Free  at 7f70e97ba400 of size 1158503424 next 18446744073709551615\n",
      "2022-02-08 19:33:38.983073: I tensorflow/core/common_runtime/bfc_allocator.cc:1074]      Summary of in-use Chunks by size: \n",
      "2022-02-08 19:33:38.983084: I tensorflow/core/common_runtime/bfc_allocator.cc:1077] 39 Chunks of size 256 totalling 9.8KiB\n",
      "2022-02-08 19:33:38.983094: I tensorflow/core/common_runtime/bfc_allocator.cc:1077] 21 Chunks of size 512 totalling 10.5KiB\n",
      "2022-02-08 19:33:38.983103: I tensorflow/core/common_runtime/bfc_allocator.cc:1077] 1 Chunks of size 1280 totalling 1.2KiB\n",
      "2022-02-08 19:33:38.983116: I tensorflow/core/common_runtime/bfc_allocator.cc:1077] 3 Chunks of size 2048 totalling 6.0KiB\n",
      "2022-02-08 19:33:38.983125: I tensorflow/core/common_runtime/bfc_allocator.cc:1077] 8 Chunks of size 40192 totalling 314.0KiB\n",
      "2022-02-08 19:33:38.983135: I tensorflow/core/common_runtime/bfc_allocator.cc:1077] 7 Chunks of size 51200 totalling 350.0KiB\n",
      "2022-02-08 19:33:38.983144: I tensorflow/core/common_runtime/bfc_allocator.cc:1077] 1 Chunks of size 105216 totalling 102.8KiB\n",
      "2022-02-08 19:33:38.983153: I tensorflow/core/common_runtime/bfc_allocator.cc:1077] 1 Chunks of size 490240 totalling 478.8KiB\n",
      "2022-02-08 19:33:38.983162: I tensorflow/core/common_runtime/bfc_allocator.cc:1077] 1 Chunks of size 1536000 totalling 1.46MiB\n",
      "2022-02-08 19:33:38.983171: I tensorflow/core/common_runtime/bfc_allocator.cc:1077] 1 Chunks of size 16290048 totalling 15.54MiB\n",
      "2022-02-08 19:33:38.983267: I tensorflow/core/common_runtime/bfc_allocator.cc:1077] 1 Chunks of size 65160192 totalling 62.14MiB\n",
      "2022-02-08 19:33:38.983277: I tensorflow/core/common_runtime/bfc_allocator.cc:1077] 1 Chunks of size 570150144 totalling 543.74MiB\n",
      "2022-02-08 19:33:38.983286: I tensorflow/core/common_runtime/bfc_allocator.cc:1077] 2 Chunks of size 1303200000 totalling 2.43GiB\n",
      "2022-02-08 19:33:38.983294: I tensorflow/core/common_runtime/bfc_allocator.cc:1077] 1 Chunks of size 1668096000 totalling 1.55GiB\n",
      "2022-02-08 19:33:38.983303: I tensorflow/core/common_runtime/bfc_allocator.cc:1077] 1 Chunks of size 2660700160 totalling 2.48GiB\n",
      "2022-02-08 19:33:38.983313: I tensorflow/core/common_runtime/bfc_allocator.cc:1081] Sum Total of in-use chunks: 7.07GiB\n",
      "2022-02-08 19:33:38.983321: I tensorflow/core/common_runtime/bfc_allocator.cc:1083] total_region_allocated_bytes_: 10142416896 memory_limit_: 10142416896 available bytes: 0 curr_region_allocation_bytes_: 20284833792\n",
      "2022-02-08 19:33:38.983338: I tensorflow/core/common_runtime/bfc_allocator.cc:1089] Stats: \n",
      "Limit:                     10142416896\n",
      "InUse:                      7589636096\n",
      "MaxInUse:                   9274208768\n",
      "NumAllocs:                       50794\n",
      "MaxAllocSize:               2660700160\n",
      "Reserved:                            0\n",
      "PeakReserved:                        0\n",
      "LargestFreeBlock:                    0\n",
      "\n",
      "2022-02-08 19:33:38.983360: W tensorflow/core/common_runtime/bfc_allocator.cc:474] **************************************************************____________***************___________\n",
      "2022-02-08 19:33:38.983447: W tensorflow/core/framework/op_kernel.cc:1692] OP_REQUIRES failed at matmul_op_impl.h:740 : Resource exhausted: OOM when allocating tensor with shape[3000,1086,128] and type float on /job:localhost/replica:0/task:0/device:GPU:0 by allocator GPU_0_bfc\n"
     ]
    },
    {
     "ename": "ResourceExhaustedError",
     "evalue": " OOM when allocating tensor with shape[3000,1086,128] and type float on /job:localhost/replica:0/task:0/device:GPU:0 by allocator GPU_0_bfc\n\t [[node gradient_tape/model/sum/MatMul/MatMul_1 (defined at usr/local/lib/python3.8/dist-packages/energyflow/archs/archbase.py:370) ]]\nHint: If you want to see a list of allocated tensors when OOM happens, add report_tensor_allocations_upon_oom to RunOptions for current allocation info. This isn't available when running in Eager mode.\n [Op:__inference_train_function_1092]\n\nFunction call stack:\ntrain_function\n",
     "output_type": "error",
     "traceback": [
      "\u001b[0;31m---------------------------------------------------------------------------\u001b[0m",
      "\u001b[0;31mResourceExhaustedError\u001b[0m                    Traceback (most recent call last)",
      "\u001b[0;32m/tmp/ipykernel_50760/1846045014.py\u001b[0m in \u001b[0;36m<module>\u001b[0;34m\u001b[0m\n\u001b[1;32m      1\u001b[0m \u001b[0mt0\u001b[0m \u001b[0;34m=\u001b[0m \u001b[0mt\u001b[0m\u001b[0;34m.\u001b[0m\u001b[0mtime\u001b[0m\u001b[0;34m(\u001b[0m\u001b[0;34m)\u001b[0m\u001b[0;34m\u001b[0m\u001b[0;34m\u001b[0m\u001b[0m\n\u001b[0;32m----> 2\u001b[0;31m history = pfn.fit(x_train, y_train,\n\u001b[0m\u001b[1;32m      3\u001b[0m         \u001b[0mepochs\u001b[0m\u001b[0;34m=\u001b[0m\u001b[0mnum_epoch\u001b[0m\u001b[0;34m,\u001b[0m\u001b[0;34m\u001b[0m\u001b[0;34m\u001b[0m\u001b[0m\n\u001b[1;32m      4\u001b[0m         \u001b[0mbatch_size\u001b[0m\u001b[0;34m=\u001b[0m\u001b[0mbatch_size\u001b[0m\u001b[0;34m,\u001b[0m\u001b[0;34m\u001b[0m\u001b[0;34m\u001b[0m\u001b[0m\n\u001b[1;32m      5\u001b[0m         \u001b[0mvalidation_data\u001b[0m\u001b[0;34m=\u001b[0m\u001b[0;34m(\u001b[0m\u001b[0mx_val\u001b[0m\u001b[0;34m,\u001b[0m \u001b[0my_val\u001b[0m\u001b[0;34m)\u001b[0m\u001b[0;34m,\u001b[0m\u001b[0;34m\u001b[0m\u001b[0;34m\u001b[0m\u001b[0m\n",
      "\u001b[0;32m/usr/local/lib/python3.8/dist-packages/energyflow/archs/archbase.py\u001b[0m in \u001b[0;36mfit\u001b[0;34m(self, *args, **kwargs)\u001b[0m\n\u001b[1;32m    368\u001b[0m \u001b[0;34m\u001b[0m\u001b[0m\n\u001b[1;32m    369\u001b[0m         \u001b[0;31m# do the fitting\u001b[0m\u001b[0;34m\u001b[0m\u001b[0;34m\u001b[0m\u001b[0;34m\u001b[0m\u001b[0m\n\u001b[0;32m--> 370\u001b[0;31m         \u001b[0mhist\u001b[0m \u001b[0;34m=\u001b[0m \u001b[0mself\u001b[0m\u001b[0;34m.\u001b[0m\u001b[0mmodel\u001b[0m\u001b[0;34m.\u001b[0m\u001b[0mfit\u001b[0m\u001b[0;34m(\u001b[0m\u001b[0;34m*\u001b[0m\u001b[0margs\u001b[0m\u001b[0;34m,\u001b[0m \u001b[0;34m**\u001b[0m\u001b[0mkwargs\u001b[0m\u001b[0;34m)\u001b[0m\u001b[0;34m\u001b[0m\u001b[0;34m\u001b[0m\u001b[0m\n\u001b[0m\u001b[1;32m    371\u001b[0m \u001b[0;34m\u001b[0m\u001b[0m\n\u001b[1;32m    372\u001b[0m         \u001b[0;31m# handle saving at the end, if we weren't already saving throughout\u001b[0m\u001b[0;34m\u001b[0m\u001b[0;34m\u001b[0m\u001b[0;34m\u001b[0m\u001b[0m\n",
      "\u001b[0;32m/usr/local/lib/python3.8/dist-packages/keras/engine/training.py\u001b[0m in \u001b[0;36mfit\u001b[0;34m(self, x, y, batch_size, epochs, verbose, callbacks, validation_split, validation_data, shuffle, class_weight, sample_weight, initial_epoch, steps_per_epoch, validation_steps, validation_batch_size, validation_freq, max_queue_size, workers, use_multiprocessing)\u001b[0m\n\u001b[1;32m   1182\u001b[0m                 _r=1):\n\u001b[1;32m   1183\u001b[0m               \u001b[0mcallbacks\u001b[0m\u001b[0;34m.\u001b[0m\u001b[0mon_train_batch_begin\u001b[0m\u001b[0;34m(\u001b[0m\u001b[0mstep\u001b[0m\u001b[0;34m)\u001b[0m\u001b[0;34m\u001b[0m\u001b[0;34m\u001b[0m\u001b[0m\n\u001b[0;32m-> 1184\u001b[0;31m               \u001b[0mtmp_logs\u001b[0m \u001b[0;34m=\u001b[0m \u001b[0mself\u001b[0m\u001b[0;34m.\u001b[0m\u001b[0mtrain_function\u001b[0m\u001b[0;34m(\u001b[0m\u001b[0miterator\u001b[0m\u001b[0;34m)\u001b[0m\u001b[0;34m\u001b[0m\u001b[0;34m\u001b[0m\u001b[0m\n\u001b[0m\u001b[1;32m   1185\u001b[0m               \u001b[0;32mif\u001b[0m \u001b[0mdata_handler\u001b[0m\u001b[0;34m.\u001b[0m\u001b[0mshould_sync\u001b[0m\u001b[0;34m:\u001b[0m\u001b[0;34m\u001b[0m\u001b[0;34m\u001b[0m\u001b[0m\n\u001b[1;32m   1186\u001b[0m                 \u001b[0mcontext\u001b[0m\u001b[0;34m.\u001b[0m\u001b[0masync_wait\u001b[0m\u001b[0;34m(\u001b[0m\u001b[0;34m)\u001b[0m\u001b[0;34m\u001b[0m\u001b[0;34m\u001b[0m\u001b[0m\n",
      "\u001b[0;32m/usr/local/lib/python3.8/dist-packages/tensorflow/python/eager/def_function.py\u001b[0m in \u001b[0;36m__call__\u001b[0;34m(self, *args, **kwds)\u001b[0m\n\u001b[1;32m    883\u001b[0m \u001b[0;34m\u001b[0m\u001b[0m\n\u001b[1;32m    884\u001b[0m       \u001b[0;32mwith\u001b[0m \u001b[0mOptionalXlaContext\u001b[0m\u001b[0;34m(\u001b[0m\u001b[0mself\u001b[0m\u001b[0;34m.\u001b[0m\u001b[0m_jit_compile\u001b[0m\u001b[0;34m)\u001b[0m\u001b[0;34m:\u001b[0m\u001b[0;34m\u001b[0m\u001b[0;34m\u001b[0m\u001b[0m\n\u001b[0;32m--> 885\u001b[0;31m         \u001b[0mresult\u001b[0m \u001b[0;34m=\u001b[0m \u001b[0mself\u001b[0m\u001b[0;34m.\u001b[0m\u001b[0m_call\u001b[0m\u001b[0;34m(\u001b[0m\u001b[0;34m*\u001b[0m\u001b[0margs\u001b[0m\u001b[0;34m,\u001b[0m \u001b[0;34m**\u001b[0m\u001b[0mkwds\u001b[0m\u001b[0;34m)\u001b[0m\u001b[0;34m\u001b[0m\u001b[0;34m\u001b[0m\u001b[0m\n\u001b[0m\u001b[1;32m    886\u001b[0m \u001b[0;34m\u001b[0m\u001b[0m\n\u001b[1;32m    887\u001b[0m       \u001b[0mnew_tracing_count\u001b[0m \u001b[0;34m=\u001b[0m \u001b[0mself\u001b[0m\u001b[0;34m.\u001b[0m\u001b[0mexperimental_get_tracing_count\u001b[0m\u001b[0;34m(\u001b[0m\u001b[0;34m)\u001b[0m\u001b[0;34m\u001b[0m\u001b[0;34m\u001b[0m\u001b[0m\n",
      "\u001b[0;32m/usr/local/lib/python3.8/dist-packages/tensorflow/python/eager/def_function.py\u001b[0m in \u001b[0;36m_call\u001b[0;34m(self, *args, **kwds)\u001b[0m\n\u001b[1;32m    915\u001b[0m       \u001b[0;31m# In this case we have created variables on the first call, so we run the\u001b[0m\u001b[0;34m\u001b[0m\u001b[0;34m\u001b[0m\u001b[0;34m\u001b[0m\u001b[0m\n\u001b[1;32m    916\u001b[0m       \u001b[0;31m# defunned version which is guaranteed to never create variables.\u001b[0m\u001b[0;34m\u001b[0m\u001b[0;34m\u001b[0m\u001b[0;34m\u001b[0m\u001b[0m\n\u001b[0;32m--> 917\u001b[0;31m       \u001b[0;32mreturn\u001b[0m \u001b[0mself\u001b[0m\u001b[0;34m.\u001b[0m\u001b[0m_stateless_fn\u001b[0m\u001b[0;34m(\u001b[0m\u001b[0;34m*\u001b[0m\u001b[0margs\u001b[0m\u001b[0;34m,\u001b[0m \u001b[0;34m**\u001b[0m\u001b[0mkwds\u001b[0m\u001b[0;34m)\u001b[0m  \u001b[0;31m# pylint: disable=not-callable\u001b[0m\u001b[0;34m\u001b[0m\u001b[0;34m\u001b[0m\u001b[0m\n\u001b[0m\u001b[1;32m    918\u001b[0m     \u001b[0;32melif\u001b[0m \u001b[0mself\u001b[0m\u001b[0;34m.\u001b[0m\u001b[0m_stateful_fn\u001b[0m \u001b[0;32mis\u001b[0m \u001b[0;32mnot\u001b[0m \u001b[0;32mNone\u001b[0m\u001b[0;34m:\u001b[0m\u001b[0;34m\u001b[0m\u001b[0;34m\u001b[0m\u001b[0m\n\u001b[1;32m    919\u001b[0m       \u001b[0;31m# Release the lock early so that multiple threads can perform the call\u001b[0m\u001b[0;34m\u001b[0m\u001b[0;34m\u001b[0m\u001b[0;34m\u001b[0m\u001b[0m\n",
      "\u001b[0;32m/usr/local/lib/python3.8/dist-packages/tensorflow/python/eager/function.py\u001b[0m in \u001b[0;36m__call__\u001b[0;34m(self, *args, **kwargs)\u001b[0m\n\u001b[1;32m   3037\u001b[0m       (graph_function,\n\u001b[1;32m   3038\u001b[0m        filtered_flat_args) = self._maybe_define_function(args, kwargs)\n\u001b[0;32m-> 3039\u001b[0;31m     return graph_function._call_flat(\n\u001b[0m\u001b[1;32m   3040\u001b[0m         filtered_flat_args, captured_inputs=graph_function.captured_inputs)  # pylint: disable=protected-access\n\u001b[1;32m   3041\u001b[0m \u001b[0;34m\u001b[0m\u001b[0m\n",
      "\u001b[0;32m/usr/local/lib/python3.8/dist-packages/tensorflow/python/eager/function.py\u001b[0m in \u001b[0;36m_call_flat\u001b[0;34m(self, args, captured_inputs, cancellation_manager)\u001b[0m\n\u001b[1;32m   1961\u001b[0m         and executing_eagerly):\n\u001b[1;32m   1962\u001b[0m       \u001b[0;31m# No tape is watching; skip to running the function.\u001b[0m\u001b[0;34m\u001b[0m\u001b[0;34m\u001b[0m\u001b[0;34m\u001b[0m\u001b[0m\n\u001b[0;32m-> 1963\u001b[0;31m       return self._build_call_outputs(self._inference_function.call(\n\u001b[0m\u001b[1;32m   1964\u001b[0m           ctx, args, cancellation_manager=cancellation_manager))\n\u001b[1;32m   1965\u001b[0m     forward_backward = self._select_forward_and_backward_functions(\n",
      "\u001b[0;32m/usr/local/lib/python3.8/dist-packages/tensorflow/python/eager/function.py\u001b[0m in \u001b[0;36mcall\u001b[0;34m(self, ctx, args, cancellation_manager)\u001b[0m\n\u001b[1;32m    589\u001b[0m       \u001b[0;32mwith\u001b[0m \u001b[0m_InterpolateFunctionError\u001b[0m\u001b[0;34m(\u001b[0m\u001b[0mself\u001b[0m\u001b[0;34m)\u001b[0m\u001b[0;34m:\u001b[0m\u001b[0;34m\u001b[0m\u001b[0;34m\u001b[0m\u001b[0m\n\u001b[1;32m    590\u001b[0m         \u001b[0;32mif\u001b[0m \u001b[0mcancellation_manager\u001b[0m \u001b[0;32mis\u001b[0m \u001b[0;32mNone\u001b[0m\u001b[0;34m:\u001b[0m\u001b[0;34m\u001b[0m\u001b[0;34m\u001b[0m\u001b[0m\n\u001b[0;32m--> 591\u001b[0;31m           outputs = execute.execute(\n\u001b[0m\u001b[1;32m    592\u001b[0m               \u001b[0mstr\u001b[0m\u001b[0;34m(\u001b[0m\u001b[0mself\u001b[0m\u001b[0;34m.\u001b[0m\u001b[0msignature\u001b[0m\u001b[0;34m.\u001b[0m\u001b[0mname\u001b[0m\u001b[0;34m)\u001b[0m\u001b[0;34m,\u001b[0m\u001b[0;34m\u001b[0m\u001b[0;34m\u001b[0m\u001b[0m\n\u001b[1;32m    593\u001b[0m               \u001b[0mnum_outputs\u001b[0m\u001b[0;34m=\u001b[0m\u001b[0mself\u001b[0m\u001b[0;34m.\u001b[0m\u001b[0m_num_outputs\u001b[0m\u001b[0;34m,\u001b[0m\u001b[0;34m\u001b[0m\u001b[0;34m\u001b[0m\u001b[0m\n",
      "\u001b[0;32m/usr/local/lib/python3.8/dist-packages/tensorflow/python/eager/execute.py\u001b[0m in \u001b[0;36mquick_execute\u001b[0;34m(op_name, num_outputs, inputs, attrs, ctx, name)\u001b[0m\n\u001b[1;32m     57\u001b[0m   \u001b[0;32mtry\u001b[0m\u001b[0;34m:\u001b[0m\u001b[0;34m\u001b[0m\u001b[0;34m\u001b[0m\u001b[0m\n\u001b[1;32m     58\u001b[0m     \u001b[0mctx\u001b[0m\u001b[0;34m.\u001b[0m\u001b[0mensure_initialized\u001b[0m\u001b[0;34m(\u001b[0m\u001b[0;34m)\u001b[0m\u001b[0;34m\u001b[0m\u001b[0;34m\u001b[0m\u001b[0m\n\u001b[0;32m---> 59\u001b[0;31m     tensors = pywrap_tfe.TFE_Py_Execute(ctx._handle, device_name, op_name,\n\u001b[0m\u001b[1;32m     60\u001b[0m                                         inputs, attrs, num_outputs)\n\u001b[1;32m     61\u001b[0m   \u001b[0;32mexcept\u001b[0m \u001b[0mcore\u001b[0m\u001b[0;34m.\u001b[0m\u001b[0m_NotOkStatusException\u001b[0m \u001b[0;32mas\u001b[0m \u001b[0me\u001b[0m\u001b[0;34m:\u001b[0m\u001b[0;34m\u001b[0m\u001b[0;34m\u001b[0m\u001b[0m\n",
      "\u001b[0;31mResourceExhaustedError\u001b[0m:  OOM when allocating tensor with shape[3000,1086,128] and type float on /job:localhost/replica:0/task:0/device:GPU:0 by allocator GPU_0_bfc\n\t [[node gradient_tape/model/sum/MatMul/MatMul_1 (defined at usr/local/lib/python3.8/dist-packages/energyflow/archs/archbase.py:370) ]]\nHint: If you want to see a list of allocated tensors when OOM happens, add report_tensor_allocations_upon_oom to RunOptions for current allocation info. This isn't available when running in Eager mode.\n [Op:__inference_train_function_1092]\n\nFunction call stack:\ntrain_function\n"
     ]
    }
   ],
   "source": [
    "t0 = t.time()\n",
    "history = pfn.fit(x_train, y_train,\n",
    "        epochs=num_epoch,\n",
    "        batch_size=batch_size,\n",
    "        validation_data=(x_val, y_val),\n",
    "        verbose=1)\n",
    "t1 = t.time()"
   ]
  },
  {
   "cell_type": "code",
   "execution_count": null,
   "id": "96d9b488-4ac7-4482-bad1-7152f50f6e0d",
   "metadata": {},
   "outputs": [],
   "source": [
    "print('Time to train: {} (s)'.format(t1-t0))\n",
    "print('{} (min)'.format(((t1-t0)/60))\n",
    "print('{} (hour)'.format((t1-t0)/3600))"
   ]
  },
  {
   "cell_type": "markdown",
   "id": "59432b76-ce7d-4a3d-9ae2-0d1a27ba2329",
   "metadata": {},
   "source": [
    "### Loss Curves"
   ]
  },
  {
   "cell_type": "code",
   "execution_count": null,
   "id": "07c8adb8-8074-4a55-82e4-caf447b6f575",
   "metadata": {},
   "outputs": [],
   "source": [
    "fig = plt.figure(figsize=(6,6))\n",
    "plt.plot(history.history['val_loss'], label=\"Validation\")\n",
    "plt.plot(history.history['loss'], label=\"Training\")\n",
    "plt.yscale('log')\n",
    "plt.ylim(.001,10)\n",
    "plt.yticks(fontsize=13)\n",
    "plt.xlim(0,1500)\n",
    "plt.xticks(fontsize=13)\n",
    "plt.xlabel('Epochs', fontsize=14)\n",
    "plt.ylabel('Loss', fontsize=14)\n",
    "plt.legend(loc='upper right', ncol=1)\n",
    "plt.text(1000, 1.5, 'LR=1e-3', fontsize=13)\n",
    "plt.text(1000, 1, 'Batch: 3000', fontsize=13)\n",
    "plt.tight_layout()\n",
    "# plt.savefig('Regression_Plots/January/STMC_lossCurves_3000batch_LR1e-3_2021-07-26.png', format='png')\n",
    "plt.show()"
   ]
  },
  {
   "cell_type": "markdown",
   "id": "f37db5d6-0f37-45ad-adfc-c29f9840b80d",
   "metadata": {},
   "source": [
    "### Predictions"
   ]
  },
  {
   "cell_type": "code",
   "execution_count": null,
   "id": "5a03954d-6faa-476a-9399-ffa1b8bdb14a",
   "metadata": {},
   "outputs": [],
   "source": [
    "preds = np.exp(pfn.predict(x_test, batch_size=3000).flatten())\n",
    "print(preds.shape)"
   ]
  },
  {
   "cell_type": "markdown",
   "id": "f317dcc3-89ae-40d2-b18f-2d73413163b9",
   "metadata": {},
   "source": [
    "#### Histogram of Predictions"
   ]
  },
  {
   "cell_type": "code",
   "execution_count": null,
   "id": "cfc91a49-0749-495f-ab25-e986ecdcbfdb",
   "metadata": {},
   "outputs": [],
   "source": [
    "## PREDICTIONS AND TRUTH ##\n",
    "bins = np.linspace(0,8,50, endpoint=True)\n",
    "fig = plt.figure(figsize=(6,6))\n",
    "plt.hist(np.exp(y_test), color='steelblue', bins=bins, density=True, alpha=.5, edgecolor='black', label='target')\n",
    "plt.hist(preds, color='coral', bins=bins, density=True, alpha=.5, edgecolor='black', label='network')\n",
    "plt.title('Regression Output and Target', fontsize=16)\n",
    "plt.xlabel('Log(E /[GeV])', fontsize=14)\n",
    "plt.xlim(0,8)\n",
    "plt.xticks(fontsize=13)\n",
    "plt.yticks(fontsize=13)\n",
    "plt.legend(loc='upper left')\n",
    "plt.tight_layout()\n",
    "# plt.savefig('Regression_Plots/January/STMC_targetPreds_3000batch_LR1e-3_2021-07-26.png', format='png')\n",
    "plt.show()"
   ]
  },
  {
   "cell_type": "markdown",
   "id": "cdbf322c-ac74-44c1-b299-e45100cbd44b",
   "metadata": {},
   "source": [
    "#### Analytics"
   ]
  },
  {
   "cell_type": "markdown",
   "id": "d66727ca-b4cc-4346-b886-b9993082935a",
   "metadata": {},
   "source": [
    "#### Response Plot"
   ]
  },
  {
   "cell_type": "code",
   "execution_count": null,
   "id": "957f3ac3-3275-450d-8903-bc1c65e35df9",
   "metadata": {},
   "outputs": [],
   "source": [
    "resplot = ru.responsePlot(x=np.exp(y_test), y=preds/np.exp(y_test),\n",
    "                figfile='',\n",
    "                statistic='median', xlabel='Particle Truth Energy', ylabel='Predicted Energy / Particle Truth Energy',\n",
    "                atlas_x=.05, atlas_y=.96, simulation=True, cblabel='',\n",
    "                textlist=[])\n",
    "# Regression_Plots/July/STMC_responsePlot_3000batch_LR1e-3_2021-07-26.png"
   ]
  },
  {
   "cell_type": "markdown",
   "id": "c0045ea9-befd-49ad-a754-7538f2aaeeae",
   "metadata": {},
   "source": [
    "#### Resolution Plot"
   ]
  },
  {
   "cell_type": "code",
   "execution_count": null,
   "id": "f54ff737-c582-4869-b8a9-b027086debfc",
   "metadata": {},
   "outputs": [],
   "source": [
    "resp_plot = ru.resolutionPlot(x=np.exp(y_test), y=preds/np.exp(y_test),\n",
    "                    figfile='',\n",
    "                    statistic='iqrOverMean', xlabel='Particle Truth Energy', ylabel='Energy IQR over Median',\n",
    "                    atlas_x=.05, atlas_y=.96, simulation=True,\n",
    "                    textlist=[])\n",
    "# Regression_Plots/July/STMC_resolutionPlot_3000batch_LR1e-3_2021-07-26.png"
   ]
  },
  {
   "cell_type": "markdown",
   "id": "3691aeee-6da6-414d-9ac1-686ea65fd107",
   "metadata": {},
   "source": [
    "### Save Model and History"
   ]
  },
  {
   "cell_type": "code",
   "execution_count": null,
   "id": "70b06e3a-0b5f-43b2-a0af-818a08d094c2",
   "metadata": {},
   "outputs": [],
   "source": [
    "pfn.save('Models/pfn_base_trained_STMC_122500_2022-01-26')"
   ]
  },
  {
   "cell_type": "code",
   "execution_count": null,
   "id": "3e898983-3870-4b96-9835-acf650a7e51f",
   "metadata": {},
   "outputs": [],
   "source": [
    "import pickle\n",
    "\n",
    "with open('Models/pfn_base_trained_STMC_122500_history_2022-01-26.pickle', \"wb\") as hist_file:\n",
    "    pickle.dump(history, hist_file)"
   ]
  },
  {
   "cell_type": "markdown",
   "id": "de30bd45-0dfc-49cd-9bec-d0116d5a4e73",
   "metadata": {},
   "source": [
    "# Train Custom Models\n",
    "Notebook can be run separately from here"
   ]
  },
  {
   "cell_type": "code",
   "execution_count": 1,
   "id": "13e2c51e-699d-4f9f-ac59-73e4d89861e9",
   "metadata": {},
   "outputs": [],
   "source": [
    "import numpy as np\n",
    "import matplotlib.pyplot as plt\n",
    "from matplotlib import cm\n",
    "from matplotlib.colors import Normalize\n",
    "from matplotlib.colors import LogNorm\n",
    "import time as t\n",
    "import scipy.constants as spc\n",
    "\n",
    "import sys\n",
    "sys.path.append('/home/russbate/MLPionCollaboration/LCStudies/')\n",
    "from util import resolution_util as ru\n",
    "from util import plot_util as pu\n",
    "from util import deep_set_util as dsu"
   ]
  },
  {
   "cell_type": "code",
   "execution_count": 2,
   "id": "7d0e06ab-4f1c-424f-abcd-a6c1639b4e5f",
   "metadata": {},
   "outputs": [],
   "source": [
    "import os\n",
    "os.environ['CUDA_VISIBLE_DEVICES'] = \"5\"\n",
    "os.environ['TF_GPU_ALLOCATOR'] = 'cuda_malloc_async'\n",
    "\n",
    "import tensorflow as tf\n",
    "from tensorflow import keras\n",
    "from keras import layers\n",
    "from keras import backend as K\n",
    "from tensorflow.python.client import device_lib"
   ]
  },
  {
   "cell_type": "markdown",
   "id": "1ccfeb90-b85b-415d-96d3-1280dcf6dd05",
   "metadata": {},
   "source": [
    "## Define 'By Hand' Models"
   ]
  },
  {
   "cell_type": "markdown",
   "id": "fe09a72a-7637-4184-bf93-c4241314b1c1",
   "metadata": {},
   "source": [
    "#### Particle Flow Base"
   ]
  },
  {
   "cell_type": "code",
   "execution_count": 3,
   "id": "c3ba1c26-3f1e-448c-a637-9bf09ab65b69",
   "metadata": {},
   "outputs": [],
   "source": [
    "def point_mask_fn(X, mask_val=0.):\n",
    "    return K.cast(K.any(K.not_equal(X, mask_val), axis=-1), K.dtype(X))\n",
    "\n",
    "def ParticleFlow_base(num_points, num_features, name=\"Russell Flow Network\"):\n",
    "    \n",
    "    inputs = keras.Input(shape=(num_points, num_features), name='input')\n",
    "\n",
    "    #============== Phi Layers ===============================================#\n",
    "    dense_0 = layers.Dense(100)\n",
    "    t_dist_0 = layers.TimeDistributed(dense_0, name='t_dist_0')(inputs)\n",
    "    activation_0 = layers.Activation('relu', name=\"activation_0\")(t_dist_0)\n",
    "    \n",
    "    dense_1 = layers.Dense(100)\n",
    "    t_dist_1 = layers.TimeDistributed(dense_1, name='t_dist_1')(activation_0)\n",
    "    activation_1 = layers.Activation('relu', name='activation_1')(t_dist_1)\n",
    "    \n",
    "    dense_2 = layers.Dense(128)\n",
    "    t_dist_2 = layers.TimeDistributed(dense_2, name='t_dist_2')(activation_1)\n",
    "    activation_2 = layers.Activation('relu', name='activation_2')(t_dist_2)\n",
    "    #=========================================================================#\n",
    "    \n",
    "    #============== Aggregation Function (Sum) ===============================#\n",
    "    lambda_layer = layers.Lambda(point_mask_fn,\n",
    "                                name='mask')(inputs)\n",
    "\n",
    "    sum_layer = layers.Dot(axes=(1,1), name='sum')(\n",
    "        [lambda_layer, activation_2])\n",
    "    #=========================================================================#\n",
    "    \n",
    "    #============== F Layers =================================================#\n",
    "    dense_3 = layers.Dense(100, name='dense_0')(sum_layer)\n",
    "    activation_3 = layers.Activation('relu', name=\"activation_3\")(dense_3)\n",
    "    \n",
    "    dense_4 = layers.Dense(100, name='dense_1')(activation_3)\n",
    "    activation_4 = layers.Activation('relu', name=\"activation_4\")(dense_4)\n",
    "    \n",
    "    dense_5 = layers.Dense(100, name='dense_2')(activation_4)\n",
    "    activation_5 = layers.Activation('relu', name=\"activation_5\")(dense_5)\n",
    "    \n",
    "    dense_6 = layers.Dense(1, name='output')(activation_5)\n",
    "    activation_6 = layers.Activation('linear', name=\"activation_6\")(dense_6)\n",
    "    #=========================================================================#\n",
    "    \n",
    "    return keras.Model(inputs=inputs, outputs=activation_6, name=name)"
   ]
  },
  {
   "cell_type": "markdown",
   "id": "eb01617a-0978-4d55-84ac-b05fa9215a5e",
   "metadata": {},
   "source": [
    "#### Particle Flow With Dropout"
   ]
  },
  {
   "cell_type": "code",
   "execution_count": 4,
   "id": "aabf37ae-4d8d-4086-a7ee-d3f698733bf5",
   "metadata": {},
   "outputs": [],
   "source": [
    "def PFN_wDropout(num_points, num_features, name=\"PFN_w_dropout\"):\n",
    "    \n",
    "    inputs = keras.Input(shape=(num_points, num_features), name='input')\n",
    "\n",
    "    #============== Phi Layers With Dropout ==================================#\n",
    "    dense_0 = layers.Dense(100)\n",
    "    t_dist_0 = layers.TimeDistributed(dense_0, name='t_dist_0')(inputs)\n",
    "    activation_0 = layers.Activation('relu', name=\"activation_0\")(t_dist_0)\n",
    "    dropout_0 = layers.Dropout(rate=.15, name='dropout_0')(activation_0)\n",
    "    \n",
    "    dense_1 = layers.Dense(100)\n",
    "    t_dist_1 = layers.TimeDistributed(dense_1, name='t_dist_1')(dropout_0)\n",
    "    activation_1 = layers.Activation('relu', name='activation_1')(t_dist_1)\n",
    "    dropout_1 = layers.Dropout(rate=.15, name='dropout_1')(activation_1)\n",
    "    \n",
    "    dense_2 = layers.Dense(128)\n",
    "    t_dist_2 = layers.TimeDistributed(dense_2, name='t_dist_2')(dropout_1)\n",
    "    activation_2 = layers.Activation('relu', name='activation_2')(t_dist_2)\n",
    "    dropout_2 = layers.Dropout(rate=.15, name='dropout_2')(activation_2)\n",
    "    #=========================================================================#\n",
    "    \n",
    "    #============== Aggregration Function (Sum) ==============================#\n",
    "    lambda_layer = layers.Lambda(point_mask_fn,\n",
    "                                name='mask')(inputs)\n",
    "\n",
    "    sum_layer = layers.Dot(axes=(1,1), name='sum')([lambda_layer, activation_2])\n",
    "    #=========================================================================#\n",
    "    \n",
    "    #============== F Layers With Dropout ====================================#\n",
    "    dense_3 = layers.Dense(100, name='dense_0')(sum_layer)\n",
    "    activation_3 = layers.Activation('relu', name=\"activation_3\")(dense_3)\n",
    "    dropout_3 = layers.Dropout(rate=.15, name='dropout_3')(activation_3)\n",
    "    \n",
    "    dense_4 = layers.Dense(100, name='dense_1')(dropout_3)\n",
    "    activation_4 = layers.Activation('relu', name=\"activation_4\")(dense_4)\n",
    "    dropout_4 = layers.Dropout(rate=.15, name='dropout_4')(activation_4)\n",
    "    \n",
    "    dense_5 = layers.Dense(100, name='dense_2')(dropout_4)\n",
    "    activation_5 = layers.Activation('relu', name=\"activation_5\")(dense_5)\n",
    "    dropout_5 = layers.Dropout(rate=.15, name='dropout_5')(activation_5)\n",
    "    \n",
    "    dense_6 = layers.Dense(1, name='output')(activation_5)\n",
    "    activation_6 = layers.Activation('linear', name=\"activation_6\")(dense_6)\n",
    "    #=========================================================================#\n",
    "    \n",
    "    return keras.Model(inputs=inputs, outputs=activation_6, name=name)"
   ]
  },
  {
   "cell_type": "markdown",
   "id": "eabb5139-0a06-4918-904e-42d886dbabc9",
   "metadata": {},
   "source": [
    "#### TNet and TDist Block"
   ]
  },
  {
   "cell_type": "code",
   "execution_count": 5,
   "id": "1850d08b-3744-418c-ac42-f1aca638f90b",
   "metadata": {},
   "outputs": [
    {
     "name": "stdout",
     "output_type": "stream",
     "text": [
      "[[5 6 1]\n",
      " [2 5 9]\n",
      " [6 9 5]\n",
      " [8 4 4]]\n",
      "[[7 5 3]\n",
      " [4 2 0]\n",
      " [9 6 0]]\n"
     ]
    },
    {
     "name": "stderr",
     "output_type": "stream",
     "text": [
      "2022-02-10 18:22:21.920523: I tensorflow/core/common_runtime/gpu/gpu_process_state.cc:214] Using CUDA malloc Async allocator for GPU: 0\n",
      "2022-02-10 18:22:21.921026: I tensorflow/core/common_runtime/gpu/gpu_device.cc:1510] Created device /job:localhost/replica:0/task:0/device:GPU:0 with 9672 MB memory:  -> device: 0, name: NVIDIA GeForce RTX 2080 Ti, pci bus id: 0000:89:00.0, compute capability: 7.5\n"
     ]
    },
    {
     "name": "stdout",
     "output_type": "stream",
     "text": [
      "[[ 68.  43.  15.]\n",
      " [115.  74.   6.]\n",
      " [123.  78.  18.]\n",
      " [108.  72.  24.]]\n",
      "tf.Tensor(\n",
      "[[ 68  43  15]\n",
      " [115  74   6]\n",
      " [123  78  18]\n",
      " [108  72  24]], shape=(4, 3), dtype=int64)\n",
      "(1, 4, 3)\n",
      "(1, 3, 3)\n",
      "tf.Tensor(\n",
      "[[[ 68  43  15]\n",
      "  [115  74   6]\n",
      "  [123  78  18]\n",
      "  [108  72  24]]], shape=(1, 4, 3), dtype=int64)\n"
     ]
    }
   ],
   "source": [
    "A = np.random.randint(low=0, high=10, size=(4,3))\n",
    "B = np.random.randint(low=0, high=10, size=(3,3))\n",
    "print(A)\n",
    "print(B)\n",
    "\n",
    "x = K.variable(value=A)\n",
    "y = K.variable(value=B)\n",
    "\n",
    "C = K.eval(K.dot(x,y))\n",
    "print(C)\n",
    "\n",
    "# D = K.eval(K.batch_dot(x,y))\n",
    "# print(D)\n",
    "\n",
    "E = tf.linalg.matmul(A,B)\n",
    "print(E)\n",
    "\n",
    "w = A.reshape((1,A.shape[0],A.shape[1]))\n",
    "q = B.reshape((1,B.shape[0],B.shape[1]))\n",
    "print(w.shape)\n",
    "print(q.shape)\n",
    "# w = K.variable(value=w)\n",
    "# q = K.variable(value=q)\n",
    "F = layers.Dot(axes=(2,1))([w,q])\n",
    "print(F)"
   ]
  },
  {
   "cell_type": "code",
   "execution_count": 6,
   "id": "603bf7c5-402b-4b69-8c06-c82a787a86e4",
   "metadata": {},
   "outputs": [],
   "source": [
    "def tdist_block(x, mask, size: int, number: str):\n",
    "    dense = layers.Dense(size)\n",
    "    x = layers.TimeDistributed(dense, name='t_dist_'+number)(x, mask=mask)\n",
    "    x = layers.Activation('relu', name='activation_'+number)(x)\n",
    "    return x\n",
    "\n",
    "def multiply(tensor1, tensor2):\n",
    "    return K.dot(tensor1,tensor2)"
   ]
  },
  {
   "cell_type": "code",
   "execution_count": 7,
   "id": "591bd975-3e8f-43fa-af9c-4b7315cf6db0",
   "metadata": {},
   "outputs": [],
   "source": [
    "def PFN_wTNet(num_points, num_features, name=\"Russell Flow Network\"):\n",
    "    \n",
    "    inputs = keras.Input(shape=(num_points, num_features), name='input')\n",
    "\n",
    "    #============== Masking for TNet =========================================#\n",
    "    mask_tens = layers.Masking(mask_value=0.0, input_shape=shape)(inputs)\n",
    "    keras_mask = mask_tens._keras_mask\n",
    "    #=========================================================================#\n",
    "\n",
    "    #============== TNet =====================================================#\n",
    "    block_0 = tdist_block(inputs, mask=keras_mask, size=50, number='0')\n",
    "    block_0 = tdist_block(inputs, mask=keras_mask, size=100, number='1')\n",
    "    block_0 = tdist_block(inputs, mask=keras_mask, size=100, number='2')\n",
    "    \n",
    "    max_pool = layers.MaxPool1d(pool_size=num_points, name='tnet_0_MaxPool')(\n",
    "        [block_2])\n",
    "    \n",
    "    tnet_0_block_0 = layers.Dense(100, activation='relu',\n",
    "                                  name='tnet_0_dense_0')(max_pool) \n",
    "    tnet_0_block_1 = layers.Dense(50, activation='relu',\n",
    "                                  name='tnet_0_dense_1')(tnet_0_block_0)\n",
    "    \n",
    "    vector_dense = layers.Dense(\n",
    "        num_features**2,\n",
    "        kernel_initializer='zeros',\n",
    "        bias_initializer=keras.initializers.Constant(\n",
    "            np.eye(num_points).flatten()),\n",
    "        name='pre_matrix_0'\n",
    "    )(mlp_tnet_1)\n",
    "    \n",
    "    mat_layer = layers.Reshape((num_points, num_points),\n",
    "                               name='matrix_0')(vector_dense)\n",
    "    \n",
    "    mat_mul_layer = layers.Dot(axes=(-1,-2), name='matrix_multiply_0')\n",
    "    mod_inputs = layers.TimeDistributed(mat_mul_layer, name='tdist_multiply')(\n",
    "        [inputs, mat_layer])\n",
    "    #=========================================================================#\n",
    "    \n",
    "    #============== T_Dist Phi Block =========================================#\n",
    "    dense_0 = layers.Dense(100)\n",
    "    t_dist_0 = layers.TimeDistributed(dense_0, name='t_dist_0')(mod_inputs)\n",
    "    activation_0 = layers.Activation('relu', name=\"activation_0\")(t_dist_0)\n",
    "    \n",
    "    dense_1 = layers.Dense(100)\n",
    "    t_dist_1 = layers.TimeDistributed(dense_1, name='t_dist_1')(activation_0)\n",
    "    activation_1 = layers.Activation('relu', name='activation_1')(t_dist_1)\n",
    "    \n",
    "    dense_2 = layers.Dense(128)\n",
    "    t_dist_2 = layers.TimeDistributed(dense_2, name='t_dist_2')(activation_1)\n",
    "    activation_2 = layers.Activation('relu', name='activation_2')(t_dist_2)\n",
    "    #=========================================================================#\n",
    "    \n",
    "    #============== Aggregation Function (Summation) =========================#\n",
    "    \n",
    "    # This is important as it produces a layer tensor of 1s and 0s\n",
    "    # to be dotted with the output of the activation\n",
    "    lambda_layer = layers.Lambda(point_mask_fn,\n",
    "                                name='mask')(inputs)\n",
    "\n",
    "    sum_layer = layers.Dot(axes=(-1,-1), name='sum')(\n",
    "        [lambda_layer, activation_2])\n",
    "    #=========================================================================#\n",
    "    \n",
    "    #============== F Block ==================================================#\n",
    "    dense_3 = layers.Dense(100, name='dense_0')(sum_layer)\n",
    "    activation_3 = layers.Activation('relu', name=\"activation_3\")(dense_3)\n",
    "    \n",
    "    dense_4 = layers.Dense(100, name='dense_1')(activation_3)\n",
    "    activation_4 = layers.Activation('relu', name=\"activation_4\")(dense_4)\n",
    "    \n",
    "    dense_5 = layers.Dense(100, name='dense_2')(activation_4)\n",
    "    activation_5 = layers.Activation('relu', name=\"activation_5\")(dense_5)\n",
    "    \n",
    "    dense_6 = layers.Dense(1, name='output')(activation_5)\n",
    "    activation_6 = layers.Activation('linear', name=\"activation_6\")(dense_6)\n",
    "    #=========================================================================#\n",
    "    \n",
    "    return keras.Model(inputs=inputs, outputs=activation_6, name=name)"
   ]
  },
  {
   "cell_type": "markdown",
   "id": "2f3e5366-c429-4ebc-8083-41070dc7dd68",
   "metadata": {},
   "source": [
    "## Load Data Files"
   ]
  },
  {
   "cell_type": "code",
   "execution_count": 8,
   "id": "1d308c20-8977-4dd9-91c3-a012f8b12742",
   "metadata": {},
   "outputs": [
    {
     "name": "stdout",
     "output_type": "stream",
     "text": [
      "Time to load memory mapped data: 4.2631614208221436 (s)\n"
     ]
    }
   ],
   "source": [
    "t0 = t.time()\n",
    "Xraw = np.load('/data/atlas/rbate/X_STMC_502_files.npy', mmap_mode='r')[:50000,:,:]\n",
    "Yraw = np.load('/data/atlas/rbate/Y_STMC_502_files.npy', mmap_mode='r')[:50000,:]\n",
    "\n",
    "X = np.lib.format.open_memmap('/data/atlas/rbate/X_STMC_notebook.npy',\n",
    "                             mode='w+', dtype=np.float64, shape=(Xraw.shape[0], Xraw.shape[1], 5))\n",
    "np.copyto(dst=X, src=Xraw[:,:,:5], casting='same_kind', where=True)\n",
    "\n",
    "Y = np.lib.format.open_memmap('/data/atlas/rbate/Y_STMC_notebook.npy',\n",
    "                             mode='w+', dtype=np.float64, shape=(Yraw.shape[0]))\n",
    "np.copyto(dst=Y, src=Yraw[:,0], casting='same_kind', where=True)\n",
    "\n",
    "t1 = t.time()\n",
    "print('Time to load memory mapped data: '+str(t1-t0)+' (s)')"
   ]
  },
  {
   "cell_type": "code",
   "execution_count": 9,
   "id": "a3aa2549-76ec-4c54-b4db-ad45b50e1075",
   "metadata": {},
   "outputs": [
    {
     "name": "stdout",
     "output_type": "stream",
     "text": [
      "Time to Normalize: 2.2668747901916504 (s)\n"
     ]
    }
   ],
   "source": [
    "t0 = t.time()\n",
    "## Normalize rPerp to 1/3630\n",
    "rPerp_mask = X[:,:,3] != 0\n",
    "X[:,:,3][rPerp_mask] = X[:,:,3][rPerp_mask]/3630.\n",
    "\n",
    "## Energy Values that are not zero!\n",
    "E_nonZeroMask = X[:,:,0] != 0\n",
    "X[:,:,0][E_nonZeroMask] = np.log(X[:,:,0][E_nonZeroMask])\n",
    "cellE_mean = np.mean(X[:,:,0][E_nonZeroMask])\n",
    "cellE_std = np.std(X[:,:,0][E_nonZeroMask])\n",
    "X[:,:,0][E_nonZeroMask] = (X[:,:,0][E_nonZeroMask] - cellE_mean)/cellE_std\n",
    "\n",
    "## Eta and Phi\n",
    "# do nothing for now as a control and check performance\n",
    "eta_mask = X[:,:,1] != 0\n",
    "X[:,:,1][eta_mask] = X[:,:,1][eta_mask]/.7\n",
    "\n",
    "phi_mask = X[:,:,2] != 0\n",
    "cellPhi_std = np.std(X[:,:,2][phi_mask])\n",
    "X[:,:,2][phi_mask] = X[:,:,2][phi_mask]/cellPhi_std\n",
    "t1 = t.time()\n",
    "print('Time to Normalize: '+str(t1-t0)+' (s)')"
   ]
  },
  {
   "cell_type": "code",
   "execution_count": 10,
   "id": "1105a2f3-c543-40d7-a312-fce6a0512cfb",
   "metadata": {},
   "outputs": [
    {
     "name": "stdout",
     "output_type": "stream",
     "text": [
      "Any targets below 50 GeV: 0\n",
      "Number of events: 50000\n"
     ]
    }
   ],
   "source": [
    "# the target energy values\n",
    "target_zero_mask = Yraw[:,0] > .05\n",
    "Y = np.log(Yraw[target_zero_mask,0])\n",
    "print('Any targets below 50 GeV: '+str(np.count_nonzero(np.invert(target_zero_mask))))\n",
    "print('Number of events: '+str(len(Y)))"
   ]
  },
  {
   "cell_type": "markdown",
   "id": "df789566-a217-489a-922f-1f078d1a5702",
   "metadata": {},
   "source": [
    "### Shuffle Split"
   ]
  },
  {
   "cell_type": "code",
   "execution_count": 11,
   "id": "c57aa7b3-b86c-4785-8624-09b466e424e2",
   "metadata": {},
   "outputs": [
    {
     "name": "stdout",
     "output_type": "stream",
     "text": [
      "35000 7500 7500\n"
     ]
    }
   ],
   "source": [
    "train_num, val_num, test_num = dsu.tvt_num(X, tvt=(70,15,15))\n",
    "print(train_num, val_num, test_num)"
   ]
  },
  {
   "cell_type": "code",
   "execution_count": 12,
   "id": "fa3cd867-114a-4254-aa61-360afdca4f6d",
   "metadata": {},
   "outputs": [],
   "source": [
    "indices = np.arange(X.shape[0])\n",
    "np.random.shuffle(indices)\n",
    "\n",
    "X = X[indices,:,:]\n",
    "Y = Y[indices]"
   ]
  },
  {
   "cell_type": "code",
   "execution_count": 13,
   "id": "27c75b9f-294a-4b2a-8fd5-dd28689d86db",
   "metadata": {},
   "outputs": [],
   "source": [
    "X_train = X[:train_num,:,:]\n",
    "Y_train = Y[:train_num].reshape((train_num,1))\n",
    "\n",
    "X_val = X[train_num:train_num+val_num,:,:]\n",
    "Y_val = Y[train_num:train_num+val_num].reshape((val_num,1))\n",
    "\n",
    "X_test = X[train_num+val_num:,:,:]\n",
    "Y_test = Y[train_num+val_num:]"
   ]
  },
  {
   "cell_type": "code",
   "execution_count": 14,
   "id": "1d021058-640c-44a6-afff-854c750f5b6f",
   "metadata": {},
   "outputs": [
    {
     "name": "stdout",
     "output_type": "stream",
     "text": [
      "(35000, 1086, 5)\n",
      "(7500, 1086, 5)\n",
      "(35000, 1)\n",
      "(7500, 1)\n"
     ]
    }
   ],
   "source": [
    "print(X_train.shape)\n",
    "print(X_val.shape)\n",
    "print(Y_train.shape)\n",
    "print(Y_val.shape)"
   ]
  },
  {
   "cell_type": "code",
   "execution_count": 15,
   "id": "37fdfbb7-5c2c-43d3-8610-da16812d0065",
   "metadata": {},
   "outputs": [],
   "source": [
    "import matplotlib.pyplot as plt"
   ]
  },
  {
   "cell_type": "code",
   "execution_count": 16,
   "id": "814fe2bd-f472-44f3-92c5-a0569f542eed",
   "metadata": {},
   "outputs": [
    {
     "name": "stderr",
     "output_type": "stream",
     "text": [
      "findfont: Font family ['sans-serif'] not found. Falling back to DejaVu Sans.\n",
      "findfont: Generic family 'sans-serif' not found because none of the following families were found: Tex Gyre Heros, Helvetica, Nimbus Sans, FreeSans, Arial\n"
     ]
    },
    {
     "data": {
      "image/png": "[encoded data removed]",
      "text/plain": [
       "<Figure size 799.992x599.976 with 1 Axes>"
      ]
     },
     "metadata": {},
     "output_type": "display_data"
    }
   ],
   "source": [
    "plt.hist(Y_train)\n",
    "plt.show()\n"
   ]
  },
  {
   "cell_type": "markdown",
   "id": "3c9a5e21-dce3-417c-b9c3-53f312b883ea",
   "metadata": {},
   "source": [
    "## Compile Model"
   ]
  },
  {
   "cell_type": "code",
   "execution_count": 17,
   "id": "3ea759f8-4e7d-4e1e-9029-a4e4b7dcfcc8",
   "metadata": {
    "scrolled": true,
    "tags": []
   },
   "outputs": [
    {
     "name": "stdout",
     "output_type": "stream",
     "text": [
      "Model: \"pfn_dropout\"\n",
      "__________________________________________________________________________________________________\n",
      "Layer (type)                    Output Shape         Param #     Connected to                     \n",
      "==================================================================================================\n",
      "input (InputLayer)              [(None, 1086, 5)]    0                                            \n",
      "__________________________________________________________________________________________________\n",
      "t_dist_0 (TimeDistributed)      (None, 1086, 100)    600         input[0][0]                      \n",
      "__________________________________________________________________________________________________\n",
      "activation_0 (Activation)       (None, 1086, 100)    0           t_dist_0[0][0]                   \n",
      "__________________________________________________________________________________________________\n",
      "dropout_0 (Dropout)             (None, 1086, 100)    0           activation_0[0][0]               \n",
      "__________________________________________________________________________________________________\n",
      "t_dist_1 (TimeDistributed)      (None, 1086, 100)    10100       dropout_0[0][0]                  \n",
      "__________________________________________________________________________________________________\n",
      "activation_1 (Activation)       (None, 1086, 100)    0           t_dist_1[0][0]                   \n",
      "__________________________________________________________________________________________________\n",
      "dropout_1 (Dropout)             (None, 1086, 100)    0           activation_1[0][0]               \n",
      "__________________________________________________________________________________________________\n",
      "t_dist_2 (TimeDistributed)      (None, 1086, 128)    12928       dropout_1[0][0]                  \n",
      "__________________________________________________________________________________________________\n",
      "mask (Lambda)                   (None, 1086)         0           input[0][0]                      \n",
      "__________________________________________________________________________________________________\n",
      "activation_2 (Activation)       (None, 1086, 128)    0           t_dist_2[0][0]                   \n",
      "__________________________________________________________________________________________________\n",
      "sum (Dot)                       (None, 128)          0           mask[0][0]                       \n",
      "                                                                 activation_2[0][0]               \n",
      "__________________________________________________________________________________________________\n",
      "dense_0 (Dense)                 (None, 100)          12900       sum[0][0]                        \n",
      "__________________________________________________________________________________________________\n",
      "activation_3 (Activation)       (None, 100)          0           dense_0[0][0]                    \n",
      "__________________________________________________________________________________________________\n",
      "dropout_3 (Dropout)             (None, 100)          0           activation_3[0][0]               \n",
      "__________________________________________________________________________________________________\n",
      "dense_1 (Dense)                 (None, 100)          10100       dropout_3[0][0]                  \n",
      "__________________________________________________________________________________________________\n",
      "activation_4 (Activation)       (None, 100)          0           dense_1[0][0]                    \n",
      "__________________________________________________________________________________________________\n",
      "dropout_4 (Dropout)             (None, 100)          0           activation_4[0][0]               \n",
      "__________________________________________________________________________________________________\n",
      "dense_2 (Dense)                 (None, 100)          10100       dropout_4[0][0]                  \n",
      "__________________________________________________________________________________________________\n",
      "activation_5 (Activation)       (None, 100)          0           dense_2[0][0]                    \n",
      "__________________________________________________________________________________________________\n",
      "output (Dense)                  (None, 1)            101         activation_5[0][0]               \n",
      "__________________________________________________________________________________________________\n",
      "activation_6 (Activation)       (None, 1)            0           output[0][0]                     \n",
      "==================================================================================================\n",
      "Total params: 56,829\n",
      "Trainable params: 56,829\n",
      "Non-trainable params: 0\n",
      "__________________________________________________________________________________________________\n"
     ]
    }
   ],
   "source": [
    "pfn_dropout = PFN_wDropout(num_points = X.shape[1], num_features = X.shape[2],\n",
    "                             name=\"pfn_dropout\")\n",
    "pfn_dropout.compile(loss='mse', optimizer=keras.optimizers.Adam(learning_rate=1e-3))\n",
    "pfn_dropout.summary()"
   ]
  },
  {
   "cell_type": "markdown",
   "id": "71269cc9-3431-49d0-a6c4-6467805915bf",
   "metadata": {},
   "source": [
    "## Train Model"
   ]
  },
  {
   "cell_type": "code",
   "execution_count": 18,
   "id": "b24f6154-519e-4a36-9c72-a86673595186",
   "metadata": {},
   "outputs": [
    {
     "name": "stderr",
     "output_type": "stream",
     "text": [
      "2022-02-10 18:23:35.444309: I tensorflow/compiler/mlir/mlir_graph_optimization_pass.cc:185] None of the MLIR Optimization Passes are enabled (registered 2)\n"
     ]
    },
    {
     "name": "stdout",
     "output_type": "stream",
     "text": [
      "Epoch 1/10\n",
      "18/18 [==============================] - 6s 233ms/step - loss: 16.8678 - val_loss: 6.0130\n",
      "Epoch 2/10\n",
      "18/18 [==============================] - 3s 187ms/step - loss: 5.2161 - val_loss: 4.7759\n",
      "Epoch 3/10\n",
      "18/18 [==============================] - 3s 188ms/step - loss: 4.1561 - val_loss: 3.6396\n",
      "Epoch 4/10\n",
      "18/18 [==============================] - 3s 190ms/step - loss: 3.2972 - val_loss: 2.3922\n",
      "Epoch 5/10\n",
      "18/18 [==============================] - 3s 184ms/step - loss: 1.9572 - val_loss: 1.0329\n",
      "Epoch 6/10\n",
      "18/18 [==============================] - 4s 199ms/step - loss: 1.1226 - val_loss: 0.9382\n",
      "Epoch 7/10\n",
      "18/18 [==============================] - 4s 202ms/step - loss: 0.8684 - val_loss: 0.6671\n",
      "Epoch 8/10\n",
      "18/18 [==============================] - 4s 202ms/step - loss: 0.7289 - val_loss: 0.7172\n",
      "Epoch 9/10\n",
      "18/18 [==============================] - 4s 201ms/step - loss: 0.6578 - val_loss: 0.8088\n",
      "Epoch 10/10\n",
      "18/18 [==============================] - 4s 209ms/step - loss: 0.5830 - val_loss: 1.1089\n"
     ]
    }
   ],
   "source": [
    "history_dropout = pfn_dropout.fit(X_train,\n",
    "                       Y_train,\n",
    "                       batch_size=2000,\n",
    "                       validation_data=(X_val, Y_val),\n",
    "                       epochs=10,\n",
    "                       verbose=1)"
   ]
  },
  {
   "cell_type": "markdown",
   "id": "cc2919a9-6e53-46b7-9b44-8ddc6bee0aa7",
   "metadata": {},
   "source": []
  },
  {
   "cell_type": "code",
   "execution_count": null,
   "id": "cbe8f44c-6f82-42b4-901d-76e2102d1e21",
   "metadata": {},
   "outputs": [],
   "source": []
  },
  {
   "cell_type": "code",
   "execution_count": null,
   "id": "5bd042ba-33ac-42e9-93d4-0d09d29f972d",
   "metadata": {},
   "outputs": [],
   "source": []
  },
  {
   "cell_type": "code",
   "execution_count": null,
   "id": "2b90f9b3-89ac-4831-ad58-c6a55d43cfb6",
   "metadata": {},
   "outputs": [],
   "source": []
  },
  {
   "cell_type": "code",
   "execution_count": null,
   "id": "b29e47ba-2b69-428a-9a7b-2005c8d54e04",
   "metadata": {},
   "outputs": [],
   "source": []
  },
  {
   "cell_type": "markdown",
   "id": "6b2c0cff-cd83-4578-b14c-126ae122699f",
   "metadata": {},
   "source": [
    "## Data Pipeline With tf Dataset"
   ]
  },
  {
   "cell_type": "code",
   "execution_count": 26,
   "id": "f85a07ae-dc4e-4d2d-9216-4056942c3670",
   "metadata": {},
   "outputs": [
    {
     "name": "stdout",
     "output_type": "stream",
     "text": [
      "50\n",
      "12500 18750 18750\n"
     ]
    }
   ],
   "source": [
    "tot_evt = X.shape[0]\n",
    "BATCH_SIZE = 1000\n",
    "Nbatch = np.floor(tot_evt/BATCH_SIZE).astype(int)\n",
    "print(Nbatch)\n",
    "\n",
    "train_num, val_num, test_num = dsu.tvt_num(X, tvt=(10,15,15))\n",
    "print(train_num, val_num, test_num)"
   ]
  },
  {
   "cell_type": "code",
   "execution_count": 27,
   "id": "1303220e-b481-4141-814f-f11afbb81f57",
   "metadata": {},
   "outputs": [
    {
     "name": "stdout",
     "output_type": "stream",
     "text": [
      "12500\n",
      "18750\n",
      "18750\n"
     ]
    }
   ],
   "source": [
    "data = tf.data.Dataset.from_tensor_slices((X, Y))\n",
    "data.shuffle(buffer_size = 10000)\n",
    "\n",
    "data_train = data.skip(val_num+test_num)\n",
    "data_test = data.take(val_num+test_num)\n",
    "data_val = data_test.skip(test_num)\n",
    "data_test = data_test.take(test_num)\n",
    "\n",
    "print(data_train.cardinality().numpy())\n",
    "print(data_val.cardinality().numpy())\n",
    "print(data_test.cardinality().numpy())"
   ]
  },
  {
   "cell_type": "markdown",
   "id": "e5786a4f-f156-40fe-9aa2-9ae5651e481b",
   "metadata": {},
   "source": [
    "### Batch Data"
   ]
  },
  {
   "cell_type": "code",
   "execution_count": 19,
   "id": "cbaf5d1e-9d20-41d6-8a36-dfc7f36fc6d5",
   "metadata": {},
   "outputs": [
    {
     "data": {
      "text/plain": [
       "<BatchDataset shapes: ((None, 1086, 5), (None,)), types: (tf.float64, tf.float64)>"
      ]
     },
     "execution_count": 19,
     "metadata": {},
     "output_type": "execute_result"
    }
   ],
   "source": [
    "data_train.batch(batch_size=BATCH_SIZE, drop_remainder=False)\n",
    "data_val.batch(batch_size=BATCH_SIZE, drop_remainder=False)\n",
    "data_test.batch(batch_size=BATCH_SIZE, drop_remainder=False)"
   ]
  },
  {
   "cell_type": "code",
   "execution_count": 28,
   "id": "b018634c-302a-4403-af2f-88744ba5fc22",
   "metadata": {},
   "outputs": [
    {
     "data": {
      "text/plain": [
       "12500"
      ]
     },
     "execution_count": 28,
     "metadata": {},
     "output_type": "execute_result"
    }
   ],
   "source": [
    "data_train.cardinality().numpy()"
   ]
  },
  {
   "cell_type": "code",
   "execution_count": null,
   "id": "719f685c-20de-403a-94de-3958ea8bca2c",
   "metadata": {},
   "outputs": [],
   "source": []
  }
 ],
 "metadata": {
  "kernelspec": {
   "display_name": "Python 3 (ipykernel)",
   "language": "python",
   "name": "python3"
  },
  "language_info": {
   "codemirror_mode": {
    "name": "ipython",
    "version": 3
   },
   "file_extension": ".py",
   "mimetype": "text/x-python",
   "name": "python",
   "nbconvert_exporter": "python",
   "pygments_lexer": "ipython3",
   "version": "3.8.10"
  }
 },
 "nbformat": 4,
 "nbformat_minor": 5
}
