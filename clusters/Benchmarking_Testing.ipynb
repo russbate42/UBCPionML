{
 "cells": [
  {
   "cell_type": "markdown",
   "id": "bc1bb6be-968b-49a8-ba49-7fb2ff05a504",
   "metadata": {},
   "source": [
    "# Bench Marks and Tests for Code"
   ]
  },
  {
   "cell_type": "code",
   "execution_count": 1,
   "id": "6915628f-5295-48f5-bc2a-bd41f2e6b089",
   "metadata": {},
   "outputs": [],
   "source": [
    "import numpy as np\n",
    "import time as t"
   ]
  },
  {
   "cell_type": "code",
   "execution_count": 2,
   "id": "704b7637-dec6-4c93-9ebc-06c343e1e605",
   "metadata": {},
   "outputs": [],
   "source": [
    "def find_index_forloop(_values, _unsorted):\n",
    "    N = len(_values)\n",
    "    _idx = np.zeros(N, dtype=np.int32)\n",
    "    for j in range(N):\n",
    "        _idx[j] = np.argmax(_values[j] == _unsorted)\n",
    "    return _idx\n",
    "\n",
    "def find_index_1D_dict(_values, _dict):\n",
    "    ''' Use a for loop and a dictionary. _values are the IDs to search for. _dict must be in format \n",
    "    (cell IDs: index) '''\n",
    "    _idx_vec = np.zeros(len(_values), dtype=np.int32)\n",
    "    for i in range(len(_values)):\n",
    "        _idx_vec[i] = _dict[_values[i]]\n",
    "    return _idx_vec\n",
    "\n",
    "def find_index_1D_tile(_values, _unsorted):\n",
    "    ''' tile and reshape the array '''\n",
    "    # convert this to rows \n",
    "    _values_2d_T = np.atleast_2d(_values).transpose()\n",
    "    _unsorted_2d = np.tile(_unsorted, (len(_values),1))\n",
    "    _idx_vec = np.argmax(_values_2d_T == _unsorted_2d, axis=1)\n",
    "    return _idx_vec\n",
    "\n",
    "def find_index_1D_repeat(_values, _unsorted):\n",
    "    ''' use repeat instead of tile '''\n",
    "    # convert this to rows\n",
    "    _values_2d_T = np.atleast_2d(_values).transpose()\n",
    "    _unsorted_2d = np.repeat(np.atleast_2d(_unsorted), repeats=len(_values), axis=0)\n",
    "    _idx_vec = np.argmax(_values_2d_T == _unsorted_2d, axis=1)\n",
    "    return _idx_vec"
   ]
  },
  {
   "cell_type": "code",
   "execution_count": 3,
   "id": "b924b03a-47d3-4df2-915b-bb6db5c90a6c",
   "metadata": {},
   "outputs": [
    {
     "name": "stdout",
     "output_type": "stream",
     "text": [
      "Searching for: [2 3]\n",
      "In: [7 6 9 8 2 5 4 3 1 0]\n"
     ]
    }
   ],
   "source": [
    "a = np.arange(10)\n",
    "np.random.shuffle(a)\n",
    "vals = np.array([2,3])\n",
    "print('Searching for: '+str(vals))\n",
    "print('In: '+str(a))"
   ]
  },
  {
   "cell_type": "code",
   "execution_count": 4,
   "id": "94a88d6e-2c21-499e-a22c-c244700943d7",
   "metadata": {},
   "outputs": [
    {
     "name": "stdout",
     "output_type": "stream",
     "text": [
      "[4 7]\n",
      "[4 7]\n",
      "[4 7]\n",
      "[4 7]\n"
     ]
    }
   ],
   "source": [
    "indices = find_index_1D_tile(vals, a)\n",
    "print(indices)\n",
    "indices = find_index_1D_repeat(vals, a)\n",
    "print(indices)\n",
    "indices = find_index_forloop(vals, a)\n",
    "print(indices)\n",
    "\n",
    "idx_dict = dict(zip(a, np.arange(10)))\n",
    "indices = find_index_1D_dict(vals, idx_dict)\n",
    "print(indices)"
   ]
  },
  {
   "cell_type": "markdown",
   "id": "98ed8f7e-5d0f-487b-ac84-b4e32963f4b2",
   "metadata": {},
   "source": [
    "#### Big Loop for benchmarking"
   ]
  },
  {
   "cell_type": "code",
   "execution_count": 5,
   "id": "1c9afaf6-03cb-4c02-a486-7c2e27c40559",
   "metadata": {},
   "outputs": [],
   "source": [
    "loop_num = 100\n",
    "list_size = 250\n",
    "tag_size = 25\n",
    "time_list = []\n",
    "label_list = ['tile', 'repeat', 'dict', 'for loop']\n",
    "\n",
    "unsorted_nums = np.arange(list_size)\n",
    "np.random.shuffle(unsorted_nums)\n",
    "idx_dict = dict(zip(unsorted_nums, np.arange(list_size)))\n",
    "tags = np.arange(tag_size)\n",
    "\n",
    "## TILE ##\n",
    "t0 = t.time()\n",
    "for j in range(loop_num):\n",
    "    indices = find_index_1D_tile(tags, unsorted_nums)\n",
    "t1 = t.time()\n",
    "time_list.append(t1 - t0)\n",
    "\n",
    "## REPEAT ##\n",
    "t0 = t.time()\n",
    "for j in range(loop_num):\n",
    "    indices = find_index_1D_repeat(tags, unsorted_nums)\n",
    "t1 = t.time()\n",
    "time_list.append(t1 - t0)\n",
    "\n",
    "## DICT ##\n",
    "t0 = t.time()\n",
    "for j in range(loop_num):\n",
    "    indices = find_index_1D_dict(tags, idx_dict)\n",
    "t1 = t.time()\n",
    "time_list.append(t1 - t0)\n",
    "\n",
    "## forloop ##\n",
    "t0 = t.time()\n",
    "for j in range(loop_num):\n",
    "    indices = find_index_forloop(tags, unsorted_nums)\n",
    "t1 = t.time()\n",
    "time_list.append(t1 - t0)"
   ]
  },
  {
   "cell_type": "code",
   "execution_count": 6,
   "id": "d2c5622a-ed28-47ad-b9bb-95499cbbb047",
   "metadata": {},
   "outputs": [
    {
     "name": "stdout",
     "output_type": "stream",
     "text": [
      "tile:  0.01\n",
      "repeat:  0.0\n",
      "dict:  0.0\n",
      "for loop:  0.01\n"
     ]
    }
   ],
   "source": [
    "for m in range(len(time_list)):\n",
    "    print(label_list[m]+':  '+str(np.round(time_list[m], 2)))"
   ]
  },
  {
   "cell_type": "code",
   "execution_count": 7,
   "id": "740b3978-e860-4cd8-94dc-bb65615c3d87",
   "metadata": {},
   "outputs": [
    {
     "name": "stdout",
     "output_type": "stream",
     "text": [
      "found it\n"
     ]
    }
   ],
   "source": [
    "import numpy as np\n",
    "my_array = None\n",
    "if my_array is not None:\n",
    "    print('yay')\n",
    "my_array = np.array([1,2,3])\n",
    "if my_array is not None:\n",
    "    print('found it')"
   ]
  },
  {
   "cell_type": "code",
   "execution_count": 8,
   "id": "205eb9d3-efc6-4655-afbb-ca99c801be23",
   "metadata": {},
   "outputs": [
    {
     "name": "stdout",
     "output_type": "stream",
     "text": [
      "[[ 0  1  2  3  4  5]\n",
      " [ 6  7  8  9 10 11]]\n",
      "[[0 0 0 0 0 0]\n",
      " [6 0 0 0 0 0]]\n"
     ]
    }
   ],
   "source": [
    "A = np.arange(12).reshape((2,6))\n",
    "print(A)\n",
    "A[:,1:6] = 0\n",
    "print(A)"
   ]
  },
  {
   "cell_type": "code",
   "execution_count": 9,
   "id": "5c4dda6b-3692-4851-a8c2-77a01a3ab11e",
   "metadata": {},
   "outputs": [
    {
     "name": "stdout",
     "output_type": "stream",
     "text": [
      "[[ 0.  7.  7.  5.  1.  1.]\n",
      " [ 0.  7.  7.  5.  1.  2.]\n",
      " [ 0.  7.  7.  5.  1.  3.]\n",
      " [ 0.  7.  7.  5.  1. 12.]\n",
      " [ 0.  7.  7.  5.  1. 13.]\n",
      " [ 0.  7.  7.  5.  1. 14.]]\n"
     ]
    }
   ],
   "source": [
    "track_sample_layer = np.array([1,2,3,12,13,14])\n",
    "\n",
    "track_arr = np.zeros((6,6))\n",
    "track_arr[:,5] = track_sample_layer\n",
    "# track flag\n",
    "track_arr[:,4] = np.ones((6,))\n",
    "track_arr[:,3] = 5\n",
    "\n",
    "# Fill in eta and phi values\n",
    "# this is complicated - simplify?\n",
    "p, q = 0, 1\n",
    "for j in range(12):\n",
    "    # This gives the key for the track dict\n",
    "    track_arr[p,q] = 7\n",
    "    if j%2 != 0:\n",
    "        p += 1\n",
    "        q = 1\n",
    "    else:\n",
    "        q = 2\n",
    "print(track_arr)"
   ]
  },
  {
   "cell_type": "code",
   "execution_count": 10,
   "id": "a18eb136-71d2-44d3-8710-46384381ec5e",
   "metadata": {},
   "outputs": [
    {
     "name": "stdout",
     "output_type": "stream",
     "text": [
      "175342.08695652173\n"
     ]
    }
   ],
   "source": [
    "print((1008217/46) * 8)"
   ]
  },
  {
   "cell_type": "code",
   "execution_count": 11,
   "id": "9dc66bd2-c482-4ec4-95ed-6f1dd38e501a",
   "metadata": {},
   "outputs": [
    {
     "name": "stdout",
     "output_type": "stream",
     "text": [
      "[[ 0.  7.  7.  5.  1.  1.]\n",
      " [ 0.  7.  7.  5.  1.  2.]\n",
      " [ 0.  7.  7.  5.  1.  3.]\n",
      " [ 0.  7.  7.  5.  1. 12.]\n",
      " [ 0.  7.  7.  5.  1. 13.]\n",
      " [ 0.  7.  7.  5.  1. 14.]]\n"
     ]
    }
   ],
   "source": [
    "C = track_arr[:,:6]\n",
    "print(C)"
   ]
  },
  {
   "cell_type": "code",
   "execution_count": 12,
   "id": "5ccb02aa-29e5-45af-9a6f-3d121a32a92d",
   "metadata": {},
   "outputs": [
    {
     "name": "stdout",
     "output_type": "stream",
     "text": [
      "[                                       ########################################]\n"
     ]
    },
    {
     "data": {
      "text/plain": [
       "2"
      ]
     },
     "execution_count": 12,
     "metadata": {},
     "output_type": "execute_result"
    }
   ],
   "source": [
    "import time\n",
    "import sys\n",
    "\n",
    "toolbar_width = 40\n",
    "\n",
    "# setup toolbar\n",
    "sys.stdout.write(\"[\"+\" \"*toolbar_width+\"]\")\n",
    "sys.stdout.flush()\n",
    "time.sleep(1)\n",
    "for j in range(toolbar_width):\n",
    "    sys.stdout.write(\"\\b\")\n",
    "sys.stdout.flush()\n",
    "\n",
    "for i in range(toolbar_width):\n",
    "    time.sleep(.1) # do real work here\n",
    "    # update the bar\n",
    "    sys.stdout.write(\"#\")\n",
    "    sys.stdout.flush()\n",
    "\n",
    "sys.stdout.write(\"]\\n\") # this ends the progress bar"
   ]
  },
  {
   "cell_type": "code",
   "execution_count": 13,
   "id": "00914a59-2ca3-4c70-9814-844004219103",
   "metadata": {},
   "outputs": [
    {
     "name": "stdout",
     "output_type": "stream",
     "text": [
      "[0, 1, 2, 3, 4, 5, 6, 7, 8, 9]\n",
      "[0]\n",
      "0\n"
     ]
    }
   ],
   "source": [
    "events = [i for i in range(10)]\n",
    "print(events)\n",
    "print(events[:1])\n",
    "print(events[0])"
   ]
  },
  {
   "cell_type": "code",
   "execution_count": 14,
   "id": "430ed470-4dbe-47fc-b826-667ee406ddbb",
   "metadata": {},
   "outputs": [
    {
     "name": "stdout",
     "output_type": "stream",
     "text": [
      "[[0 1 2]\n",
      " [3 4 5]]\n",
      "[0 1 0]\n",
      "(2, 3)\n",
      "(3,)\n",
      "[1 4]\n"
     ]
    }
   ],
   "source": [
    "A = np.arange(6).reshape((2,3))\n",
    "print(A)\n",
    "B = np.array([0,1,0])\n",
    "print(B)\n",
    "print(A.shape)\n",
    "print(B.shape)\n",
    "print(np.dot(A,B))\n"
   ]
  },
  {
   "cell_type": "code",
   "execution_count": 15,
   "id": "1b43a425-f06e-467b-9ce1-32ed9e2c35f3",
   "metadata": {},
   "outputs": [],
   "source": [
    "class callable_class:\n",
    "    \n",
    "    def __init__(self):\n",
    "        self.a = 5\n",
    "        self.b = 7\n",
    "    \n",
    "    def __call__(self, a, b):\n",
    "        self.a = a\n",
    "        self.b = b\n",
    "        \n",
    "class non_callable_class:\n",
    "    \n",
    "    def __init__(self):\n",
    "        self.a = 5\n",
    "        self.b = 7"
   ]
  },
  {
   "cell_type": "code",
   "execution_count": 16,
   "id": "6f70b1b3-1e46-4382-8a61-f8413ac63dfb",
   "metadata": {},
   "outputs": [
    {
     "name": "stdout",
     "output_type": "stream",
     "text": [
      "5 7\n",
      "8 9\n"
     ]
    }
   ],
   "source": [
    "call_obj = callable_class()\n",
    "print(call_obj.a, call_obj.b)\n",
    "\n",
    "call_obj(8,9)\n",
    "print(call_obj.a, call_obj.b)"
   ]
  },
  {
   "cell_type": "code",
   "execution_count": 17,
   "id": "8b23a328-b998-4da6-a72f-54263b547afa",
   "metadata": {},
   "outputs": [],
   "source": [
    "class non_callable_class:\n",
    "    \n",
    "    def __init__(self):\n",
    "        self.a = 5\n",
    "        self.b = 7\n",
    "\n",
    "class return_class:\n",
    "    \n",
    "    def __init__(self):\n",
    "        self.new_object = None\n",
    "        self.build()\n",
    "        \n",
    "    def build(self):\n",
    "        self.new_object = non_callable_class()\n",
    "        return self.new_object"
   ]
  },
  {
   "cell_type": "code",
   "execution_count": 18,
   "id": "f28dc3c6-b01e-41d3-b525-343bcdc43147",
   "metadata": {},
   "outputs": [
    {
     "name": "stdout",
     "output_type": "stream",
     "text": [
      "5\n"
     ]
    }
   ],
   "source": [
    "obj = return_class()\n",
    "print(obj.new_object.a)"
   ]
  },
  {
   "cell_type": "markdown",
   "id": "255a11c4-5585-4510-aa47-6f163e672b19",
   "metadata": {},
   "source": [
    "# Benchmarking uproot Processes"
   ]
  },
  {
   "cell_type": "code",
   "execution_count": 22,
   "id": "6d901e82-7b89-412d-9623-0fc07e72bb5c",
   "metadata": {},
   "outputs": [
    {
     "name": "stdout",
     "output_type": "stream",
     "text": [
      "1.5.0\n",
      "1.21.2\n",
      "4.1.4\n"
     ]
    }
   ],
   "source": [
    "import numpy as np\n",
    "import matplotlib.pyplot as plt\n",
    "import uproot as ur\n",
    "import awkward as ak\n",
    "import time as t\n",
    "from time import perf_counter as cput\n",
    "print(ak.__version__)\n",
    "print(np.__version__)\n",
    "print(ur.__version__)\n",
    "\n",
    "import sys\n",
    "sys.path.append('/home/russbate/MLPionCollaboration/LCStudies/util/')\n",
    "import deep_set_util as dsu"
   ]
  },
  {
   "cell_type": "code",
   "execution_count": 28,
   "id": "e50a54d8-2e57-474c-96cb-85c6ffa9f935",
   "metadata": {},
   "outputs": [
    {
     "name": "stdout",
     "output_type": "stream",
     "text": [
      "['trackEta_EMB1', 'trackPhi_EMB1', 'trackEta_EMB2', 'trackPhi_EMB2', 'trackEta_EMB3', 'trackPhi_EMB3', 'trackEta_TileBar0', 'trackPhi_TileBar0', 'trackEta_TileBar1', 'trackPhi_TileBar1', 'trackEta_TileBar2', 'trackPhi_TileBar2']\n",
      "\n",
      "['cluster_nCells', 'cluster_cell_ID', 'cluster_cell_E', 'cluster_nCells', 'nCluster', 'eventNumber', 'nTrack', 'nTruthPart', 'truthPartPdgId', 'cluster_Eta', 'cluster_Phi', 'trackPt', 'trackP', 'trackMass', 'trackEta', 'trackPhi', 'truthPartE', 'cluster_ENG_CALIB_TOT', 'cluster_E', 'truthPartPt']\n",
      "\n",
      "['cluster_nCells', 'cluster_cell_ID', 'cluster_cell_E', 'cluster_nCells', 'nTruthPart', 'truthPartPdgId', 'cluster_Eta', 'cluster_Phi', 'trackPt', 'trackP', 'trackMass', 'trackEta', 'trackPhi', 'truthPartE', 'cluster_ENG_CALIB_TOT', 'cluster_E', 'truthPartPt', 'cluster_cell_hitsE_EM', 'cluster_cell_hitsE_nonEM']\n",
      "\n",
      "['nCluster', 'eventNumber', 'nTrack', 'nTruthPart']\n",
      "\n"
     ]
    }
   ],
   "source": [
    "print(dsu.track_branches);print()\n",
    "print(dsu.event_branches);print()\n",
    "print(dsu.ak_event_branches);print()\n",
    "print(dsu.np_event_branches);print()"
   ]
  },
  {
   "cell_type": "code",
   "execution_count": 30,
   "id": "4c6aeb18-c905-411b-ba2c-697d9662ab61",
   "metadata": {},
   "outputs": [
    {
     "name": "stdout",
     "output_type": "stream",
     "text": [
      "Time to load file 10: 0.11131463572382927\n",
      "Time to load file 11: 0.246827800758183\n",
      "Time to load file 10 with : 18.39915110450238\n"
     ]
    }
   ],
   "source": [
    "filename10 = '/data/atlas/akong/singlerho-percell/'\\\n",
    "           +'user.akong.26471083.OutputStream._000010.root'\n",
    "\n",
    "filename11 = '/data/atlas/akong/singlerho-percell/'\\\n",
    "           +'user.akong.26471083.OutputStream._000011.root'\n",
    "\n",
    "t0 = cput()\n",
    "with ur.open(filename10) as file10:\n",
    "    event_tree10 = file10['EventTree']\n",
    "t1 = cput()\n",
    "LT_10 = t1 - t0\n",
    "\n",
    "t0 = cput()\n",
    "with ur.open(filename11) as file11:\n",
    "    event_tree11 = file11['EventTree']\n",
    "t1 = cput()\n",
    "LT_11 = t1 - t0\n",
    "\n",
    "t0 = cput()\n",
    "with ur.open(filename10) as file10:\n",
    "    event_tree10 = file10['EventTree']\n",
    "    event_dict = dsu.dict_from_tree(tree=event_tree10, branches=dsu.ak_event_branches,\n",
    "                                    np_branches=dsu.np_event_branches)\n",
    "t1 = cput()\n",
    "LT_10_ = t1 - t0\n",
    "\n",
    "print('Time to load file 10: '+repr(LT_10))\n",
    "print('Time to load file 11: '+repr(LT_11))\n",
    "print('Time to load file 10 with : '+repr(LT_10_))"
   ]
  },
  {
   "cell_type": "code",
   "execution_count": 51,
   "id": "17cdfae0-4165-40b7-b429-a0b56aadaf25",
   "metadata": {},
   "outputs": [],
   "source": [
    "def dict_from_tree2(tree, branches=None, np_branches=None):\n",
    "    ''' Loads branches as default awkward arrays and np_branches as numpy arrays.\n",
    "    Note need to modify this to pass either branches or np branches and still work '''\n",
    "    reg_dict = dict()\n",
    "    if branches is not None:\n",
    "        dictionary = tree.arrays(filter_name=branches)[branches]\n",
    "    \n",
    "    np_dict = dict()\n",
    "    if np_branches is not None:\n",
    "        np_arrays = tree.arrays(filter_name=np_branches)\n",
    "        for np_key in np_branches:\n",
    "            np_dict[np_key] = ak.to_numpy( np_arrays[np_key] )\n",
    "    \n",
    "    if branches is not None and np_branches is not None:\n",
    "        dictionary = {**np_dict, **reg_dict}\n",
    "        \n",
    "    if branches is None and np_branches is None:\n",
    "        raise ValueError(\"No branches passed to function.\")\n",
    "        \n",
    "    return dictionary"
   ]
  },
  {
   "cell_type": "code",
   "execution_count": 53,
   "id": "47a10f6b-fdc2-46b2-a097-d635776d6c0c",
   "metadata": {},
   "outputs": [
    {
     "name": "stdout",
     "output_type": "stream",
     "text": [
      "Time to load file 10: 0.26065381430089474\n",
      "Time to load file 11: 0.14891027193516493\n",
      "Time to load file 10 with old function: 22.98386911675334\n",
      "Time to load file 10 with new function: 7.937120943330228\n",
      "Time to load file 11 with new function: 1364.5884834174067\n",
      "Time to load file 11 with new function and clipped branches: 1338.5896171117201\n"
     ]
    }
   ],
   "source": [
    "filename10 = '/data/atlas/akong/singlerho-percell/'\\\n",
    "           +'user.akong.26471083.OutputStream._000010.root'\n",
    "\n",
    "filename11 = '/data/atlas/akong/singlerho-percell/'\\\n",
    "           +'user.akong.26471083.OutputStream._000011.root'\n",
    "\n",
    "# try loading small file\n",
    "t0 = cput()\n",
    "with ur.open(filename10) as file10:\n",
    "    event_tree10 = file10['EventTree']\n",
    "t1 = cput()\n",
    "LT_10 = t1 - t0\n",
    "\n",
    "# try simply loading bigger file\n",
    "t0 = cput()\n",
    "with ur.open(filename11) as file11:\n",
    "    event_tree11 = file11['EventTree']\n",
    "t1 = cput()\n",
    "LT_11 = t1 - t0\n",
    "\n",
    "# try with old function, small file, all branches\n",
    "t0 = cput()\n",
    "with ur.open(filename10) as file10:\n",
    "    event_tree10 = file10['EventTree']\n",
    "    event_dict = dsu.dict_from_tree(tree=event_tree10, branches=dsu.ak_event_branches,\n",
    "                                    np_branches=dsu.np_event_branches)\n",
    "t1 = cput()\n",
    "LT_10_old = t1 - t0\n",
    "\n",
    "# try with new function, small file, all branches\n",
    "t0 = cput()\n",
    "with ur.open(filename10) as file10:\n",
    "    event_tree10 = file10['EventTree']\n",
    "    event_dict = dict_from_tree2(tree=event_tree10, branches=dsu.ak_event_branches,\n",
    "                                    np_branches=dsu.np_event_branches)\n",
    "t1 = cput()\n",
    "LT_10_new = t1 - t0\n",
    "\n",
    "# try with new function, bigger file, all branches\n",
    "t0 = cput()\n",
    "with ur.open(filename11) as file11:\n",
    "    event_tree11 = file11['EventTree']\n",
    "    event_dict = dict_from_tree2(tree=event_tree11, branches=dsu.ak_event_branches,\n",
    "                                    np_branches=dsu.np_event_branches)\n",
    "t1 = cput()\n",
    "LT_11_newBig = t1 - t0\n",
    "\n",
    "# try with new function, bigger file, REDUCED branches\n",
    "b1 = [\"cluster_cell_ID\", \"cluster_cell_E\", \"cluster_Eta\", \"cluster_Phi\",\n",
    "    \"cluster_cell_hitsE_EM\", \"cluster_cell_hitsE_nonEM\", 'truthPartE',\n",
    "    'cluster_ENG_CALIB_TOT']\n",
    "b2 = [\"nCluster\", \"eventNumber\"]\n",
    "\n",
    "t0 = cput()\n",
    "with ur.open(filename11) as file11:\n",
    "    event_tree11 = file11['EventTree']\n",
    "    event_dict = dict_from_tree2(tree=event_tree11, branches=b1,\n",
    "                                    np_branches=b2)\n",
    "t1 = cput()\n",
    "LT_11_newBigSmall = t1 - t0\n",
    "\n",
    "\n",
    "print('Time to load file 10: '+repr(LT_10))\n",
    "print('Time to load file 11: '+repr(LT_11))\n",
    "print('Time to load file 10 with old function: '+repr(LT_10_old))\n",
    "print('Time to load file 10 with new function: '+repr(LT_10_new))\n",
    "print('Time to load file 11 with new function: '+repr(LT_11_newBig))\n",
    "print('Time to load file 11 with new function and clipped branches: '+repr(LT_11_newBigSmall))"
   ]
  },
  {
   "cell_type": "code",
   "execution_count": 42,
   "id": "2881f655-1ef4-4a7a-9447-008974fe5a05",
   "metadata": {},
   "outputs": [
    {
     "data": {
      "text/plain": [
       "'3.8.10'"
      ]
     },
     "execution_count": 42,
     "metadata": {},
     "output_type": "execute_result"
    }
   ],
   "source": [
    "from platform import python_version\n",
    "python_version()"
   ]
  },
  {
   "cell_type": "code",
   "execution_count": null,
   "id": "75e6adcd-121c-4de3-bf83-73301bab3341",
   "metadata": {},
   "outputs": [],
   "source": []
  }
 ],
 "metadata": {
  "kernelspec": {
   "display_name": "Python 3 (ipykernel)",
   "language": "python",
   "name": "python3"
  },
  "language_info": {
   "codemirror_mode": {
    "name": "ipython",
    "version": 3
   },
   "file_extension": ".py",
   "mimetype": "text/x-python",
   "name": "python",
   "nbconvert_exporter": "python",
   "pygments_lexer": "ipython3",
   "version": "3.8.10"
  }
 },
 "nbformat": 4,
 "nbformat_minor": 5
}
