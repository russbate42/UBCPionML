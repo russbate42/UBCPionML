{
 "cells": [
  {
   "cell_type": "markdown",
   "id": "1f2f96eb-5e82-4e2c-8ede-ef374064b411",
   "metadata": {},
   "source": [
    "# PointNet Implementation\n",
    "## for Semantic Segmentation"
   ]
  },
  {
   "cell_type": "code",
   "execution_count": 1,
   "id": "bdff8187-00bf-4333-8af7-4d52f6af7501",
   "metadata": {},
   "outputs": [],
   "source": [
    "import numpy as np\n",
    "import matplotlib.pyplot as plt\n",
    "from matplotlib import cm\n",
    "from matplotlib.colors import Normalize\n",
    "from matplotlib.colors import LogNorm\n",
    "import time as t\n",
    "import scipy.constants as spc\n",
    "\n",
    "import sys\n",
    "sys.path.append('/home/russbate/MLPionCollaboration/LCStudies/')\n",
    "from util import resolution_util as ru\n",
    "from util import plot_util as pu\n",
    "from util import deep_set_util as dsu"
   ]
  },
  {
   "cell_type": "markdown",
   "id": "6ab46c04-4874-4560-b826-4f726f2f3a53",
   "metadata": {},
   "source": [
    "## Declare GPUs and Import TensorFlow"
   ]
  },
  {
   "cell_type": "code",
   "execution_count": 2,
   "id": "abe0a3c2-5b59-4583-9f3f-bbd00ba8b2dd",
   "metadata": {},
   "outputs": [
    {
     "name": "stderr",
     "output_type": "stream",
     "text": [
      "2021-10-01 13:41:47.456327: I tensorflow/stream_executor/platform/default/dso_loader.cc:49] Successfully opened dynamic library libcudart.so.11.0\n",
      "2021-10-01 13:41:57.160184: I tensorflow/compiler/jit/xla_gpu_device.cc:99] Not creating XLA devices, tf_xla_enable_xla_devices not set\n",
      "2021-10-01 13:41:57.185484: I tensorflow/stream_executor/platform/default/dso_loader.cc:49] Successfully opened dynamic library libcuda.so.1\n",
      "2021-10-01 13:41:57.376155: I tensorflow/core/common_runtime/gpu/gpu_device.cc:1746] Found device 0 with properties: \n",
      "pciBusID: 0000:88:00.0 name: GeForce RTX 2080 Ti computeCapability: 7.5\n",
      "coreClock: 1.545GHz coreCount: 68 deviceMemorySize: 10.76GiB deviceMemoryBandwidth: 573.69GiB/s\n",
      "2021-10-01 13:41:57.376225: I tensorflow/stream_executor/platform/default/dso_loader.cc:49] Successfully opened dynamic library libcudart.so.11.0\n",
      "2021-10-01 13:41:57.445868: I tensorflow/stream_executor/platform/default/dso_loader.cc:49] Successfully opened dynamic library libcublas.so.11\n",
      "2021-10-01 13:41:57.445965: I tensorflow/stream_executor/platform/default/dso_loader.cc:49] Successfully opened dynamic library libcublasLt.so.11\n",
      "2021-10-01 13:41:57.482705: I tensorflow/stream_executor/platform/default/dso_loader.cc:49] Successfully opened dynamic library libcufft.so.10\n",
      "2021-10-01 13:41:57.506890: I tensorflow/stream_executor/platform/default/dso_loader.cc:49] Successfully opened dynamic library libcurand.so.10\n",
      "2021-10-01 13:41:57.530857: I tensorflow/stream_executor/platform/default/dso_loader.cc:49] Successfully opened dynamic library libcusolver.so.11\n",
      "2021-10-01 13:41:57.548089: I tensorflow/stream_executor/platform/default/dso_loader.cc:49] Successfully opened dynamic library libcusparse.so.11\n",
      "2021-10-01 13:41:57.552561: I tensorflow/stream_executor/platform/default/dso_loader.cc:49] Successfully opened dynamic library libcudnn.so.8\n",
      "2021-10-01 13:41:57.566565: I tensorflow/core/common_runtime/gpu/gpu_device.cc:1888] Adding visible gpu devices: 0\n",
      "2021-10-01 13:41:57.570254: I tensorflow/stream_executor/platform/default/dso_loader.cc:49] Successfully opened dynamic library libcudart.so.11.0\n",
      "2021-10-01 13:42:04.998917: I tensorflow/core/common_runtime/gpu/gpu_device.cc:1287] Device interconnect StreamExecutor with strength 1 edge matrix:\n",
      "2021-10-01 13:42:04.999012: I tensorflow/core/common_runtime/gpu/gpu_device.cc:1293]      0 \n",
      "2021-10-01 13:42:04.999024: I tensorflow/core/common_runtime/gpu/gpu_device.cc:1306] 0:   N \n",
      "2021-10-01 13:42:05.012498: W tensorflow/core/common_runtime/gpu/gpu_bfc_allocator.cc:39] Overriding allow_growth setting because the TF_FORCE_GPU_ALLOW_GROWTH environment variable is set. Original config value was 0.\n",
      "2021-10-01 13:42:05.012560: I tensorflow/core/common_runtime/gpu/gpu_device.cc:1432] Created TensorFlow device (/device:GPU:0 with 9666 MB memory) -> physical GPU (device: 0, name: GeForce RTX 2080 Ti, pci bus id: 0000:88:00.0, compute capability: 7.5)\n"
     ]
    },
    {
     "data": {
      "text/plain": [
       "['/device:GPU:0']"
      ]
     },
     "execution_count": 2,
     "metadata": {},
     "output_type": "execute_result"
    }
   ],
   "source": [
    "import os\n",
    "os.environ['CUDA_VISIBLE_DEVICES'] = \"4\"\n",
    "os.environ['TF_FORCE_GPU_ALLOW_GROWTH'] = 'true'\n",
    "\n",
    "import tensorflow as tf\n",
    "from tensorflow.python.client import device_lib\n",
    "\n",
    "def get_available_gpus():\n",
    "    local_device_protos = device_lib.list_local_devices()\n",
    "    return [x.name for x in local_device_protos if x.device_type == 'GPU']\n",
    "\n",
    "get_available_gpus()"
   ]
  },
  {
   "cell_type": "markdown",
   "id": "e4493b1f-ca03-481c-8aed-13d5a80bf0d6",
   "metadata": {},
   "source": [
    "## Load Models for PointNet"
   ]
  },
  {
   "cell_type": "code",
   "execution_count": null,
   "id": "7d9859cc-916f-4798-9c31-65fc819d4dbc",
   "metadata": {},
   "outputs": [],
   "source": []
  },
  {
   "cell_type": "markdown",
   "id": "ac7f3593-9c8e-4038-b174-073b91b1c31f",
   "metadata": {},
   "source": [
    "## Load Data\n",
    "### X = [Energy, Eta, Phi, rPerp]\n",
    "### Y = [EM Energy, non EM Energy]"
   ]
  },
  {
   "cell_type": "code",
   "execution_count": 3,
   "id": "e8c13771-b239-4c4b-8cd4-001dddde5b71",
   "metadata": {},
   "outputs": [
    {
     "name": "stdout",
     "output_type": "stream",
     "text": [
      "(2550, 1078, 4)\n",
      "(2550, 1078, 2)\n",
      "Time to load memory mapped data: 0.4353768825531006 (s)\n"
     ]
    }
   ],
   "source": [
    "t0 = t.time()\n",
    "Xraw = np.load('/data/atlas/rbate/Rho_X_4_files.npy', mmap_mode='r')[:,:,:]\n",
    "Yraw = np.load('/data/atlas/rbate/Rho_Y_4_files.npy', mmap_mode='r')[:,:,:]\n",
    "print(Xraw.shape)\n",
    "print(Yraw.shape)\n",
    "\n",
    "X = np.lib.format.open_memmap('/data/atlas/rbate/XR_notebook.npy',\n",
    "                             mode='w+', dtype=np.float64, shape=(Xraw.shape[0], Xraw.shape[1], Xraw.shape[2]))\n",
    "np.copyto(dst=X, src=Xraw[:,:,:], casting='same_kind', where=True)\n",
    "\n",
    "Y = np.lib.format.open_memmap('/data/atlas/rbate/YR_notebook.npy',\n",
    "                             mode='w+', dtype=np.float64, shape=(Yraw.shape[0], Yraw.shape[1], Yraw.shape[2]))\n",
    "np.copyto(dst=Y, src=Yraw[:,:,:], casting='same_kind', where=True)\n",
    "t1 = t.time()\n",
    "print('Time to load memory mapped data: '+str(t1-t0)+' (s)')"
   ]
  },
  {
   "cell_type": "markdown",
   "id": "3c79cd55-d20a-4732-b5b4-2876fe9496a8",
   "metadata": {},
   "source": [
    "## Show Inputs"
   ]
  },
  {
   "cell_type": "code",
   "execution_count": 22,
   "id": "6b540b84-56df-4987-ac28-cc813ddd0665",
   "metadata": {},
   "outputs": [],
   "source": [
    "E_mask = Xraw[:,:,0] != 0\n",
    "Energies = np.ndarray.copy(Xraw[:,:,0][E_mask])\n",
    "\n",
    "Energy_EM = np.ndarray.copy(Yraw[:,:,0][E_mask])\n",
    "Energy_nonEM = np.ndarray.copy(Yraw[:,:,1][E_mask])"
   ]
  },
  {
   "cell_type": "code",
   "execution_count": 24,
   "id": "16af903f-475c-4da3-b4d9-cce71c471ccc",
   "metadata": {},
   "outputs": [
    {
     "name": "stderr",
     "output_type": "stream",
     "text": [
      "findfont: Font family ['sans-serif'] not found. Falling back to DejaVu Sans.\n",
      "findfont: Generic family 'sans-serif' not found because none of the following families were found: Tex Gyre Heros, Helvetica, Nimbus Sans, FreeSans, Arial\n"
     ]
    },
    {
     "data": {
      "image/png": "[encoded data removed]",
      "text/plain": [
       "<Figure size 864x432 with 1 Axes>"
      ]
     },
     "metadata": {},
     "output_type": "display_data"
    }
   ],
   "source": [
    "fig = plt.figure(figsize=(12,6))\n",
    "\n",
    "Bins = np.linspace(0,1250,50,endpoint=True)\n",
    "\n",
    "ax1 = fig.add_axes([.05,.05,.9,.9])\n",
    "ax1.hist(Energies, bins=Bins, color='goldenrod', edgecolor='black', alpha=.10, linewidth=.75,\n",
    "        histtype='stepfilled', label='Cell Energy')\n",
    "ax1.hist(Energy_EM, bins=Bins, color='red', edgecolor='black', alpha=.15, linewidth=.75,\n",
    "        histtype='stepfilled', label='EM Deposit')\n",
    "ax1.hist(Energy_nonEM, bins=Bins, color='blue', edgecolor='black', alpha=.15, linewidth=.75,\n",
    "        histtype='stepfilled', label='non-EM Deposit')\n",
    "ax1.set_yscale('log')\n",
    "ax1.set_xlim(0,1250)\n",
    "ax1.set_ylim(1,1e6)\n",
    "ax1.legend(loc='upper right', ncol=3, prop={'size':14})\n",
    "\n",
    "plt.show()"
   ]
  },
  {
   "cell_type": "markdown",
   "id": "fe37d3ae-db1f-4d4c-8398-b20435b227e7",
   "metadata": {},
   "source": [
    "## Point Normalization"
   ]
  },
  {
   "cell_type": "code",
   "execution_count": 4,
   "id": "3abf6ca6-b294-481d-9cb4-8a04666ef8d6",
   "metadata": {},
   "outputs": [
    {
     "name": "stdout",
     "output_type": "stream",
     "text": [
      "Time to Normalize: 0.1260688304901123 (s)\n"
     ]
    }
   ],
   "source": [
    "t0 = t.time()\n",
    "## Normalize rPerp to 1/3630\n",
    "rPerp_mask = X[:,:,3] != 0\n",
    "X[:,:,3][rPerp_mask] = X[:,:,3][rPerp_mask]/3630.\n",
    "\n",
    "## Energy Values that are not zero!\n",
    "E_nonZeroMask = X[:,:,0] != 0\n",
    "X[:,:,0][E_nonZeroMask] = np.log(X[:,:,0][E_nonZeroMask])\n",
    "cellE_mean = np.mean(X[:,:,0][E_nonZeroMask])\n",
    "cellE_std = np.std(X[:,:,0][E_nonZeroMask])\n",
    "X[:,:,0][E_nonZeroMask] = (X[:,:,0][E_nonZeroMask] - cellE_mean)/cellE_std\n",
    "\n",
    "## Eta and Phi\n",
    "# do nothing for now as a control and check performance\n",
    "eta_mask = X[:,:,1] != 0\n",
    "X[:,:,1][eta_mask] = X[:,:,1][eta_mask]/.7\n",
    "\n",
    "phi_mask = X[:,:,2] != 0\n",
    "cellPhi_std = np.std(X[:,:,2][phi_mask])\n",
    "X[:,:,2][phi_mask] = X[:,:,2][phi_mask]/cellPhi_std\n",
    "t1 = t.time()\n",
    "print('Time to Normalize: '+str(t1-t0)+' (s)')"
   ]
  },
  {
   "cell_type": "code",
   "execution_count": null,
   "id": "3754f807-2c2c-4638-86e6-d4cdea7441e2",
   "metadata": {},
   "outputs": [],
   "source": []
  }
 ],
 "metadata": {
  "kernelspec": {
   "display_name": "Python 3 (ipykernel)",
   "language": "python",
   "name": "python3"
  },
  "language_info": {
   "codemirror_mode": {
    "name": "ipython",
    "version": 3
   },
   "file_extension": ".py",
   "mimetype": "text/x-python",
   "name": "python",
   "nbconvert_exporter": "python",
   "pygments_lexer": "ipython3",
   "version": "3.8.10"
  }
 },
 "nbformat": 4,
 "nbformat_minor": 5
}
