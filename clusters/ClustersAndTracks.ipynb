{
 "cells": [
  {
   "cell_type": "markdown",
   "id": "cd925baf-0969-4a19-94e2-61d2c4813dd3",
   "metadata": {},
   "source": [
    "# Clusters and Tracking Data\n",
    "The purpose of this notebook is to generate data with corresponding clusters and tracks for both $\\pi^0$ and $\\pi^\\pm$ data sets\n",
    "\n",
    "These data sets can be quickly visualized and then saved into NP format or pickled\n",
    "\n",
    "# Strategy:\n",
    "### Use Single Track Events for Now\n",
    "#### Event Filtering\n",
    "1) Load branches from $\\pi^\\pm$ and $\\pi^0$ data\n",
    "2) Search through events in loop and find selection criteria. Save indices of event, track, and cluster\n",
    "3) Use these indices to create np array of all the necessary data\n",
    "\n",
    "## To Do:\n",
    "1) ~~For now we use loops to select events but we want to vectorize this (maybe? maybe abandon this..)~~\n",
    "2) ~~Create larger loop structure to take events with multiple tracks and match clusters to these~~\n",
    "   - ~~This is done in LargerData_STMC.py and LargerData_STSC.py~~\n",
    "3) ~~vectorize geoID cell search using np.tile() and np.argwhere()~~"
   ]
  },
  {
   "cell_type": "code",
   "execution_count": 1,
   "id": "d2896b3a-26fc-4287-b54d-f1018256e4a2",
   "metadata": {
    "tags": []
   },
   "outputs": [
    {
     "name": "stdout",
     "output_type": "stream",
     "text": [
      "Awkward version: 1.4.0\n",
      "Uproot version: 4.0.11\n"
     ]
    }
   ],
   "source": [
    "import numpy as np\n",
    "import matplotlib.pyplot as plt\n",
    "from matplotlib import cm\n",
    "from matplotlib.colors import Normalize\n",
    "import uproot as ur\n",
    "import awkward as ak\n",
    "import time as t\n",
    "import copy\n",
    "import scipy.constants as spc\n",
    "print(\"Awkward version: \"+str(ak.__version__))\n",
    "print(\"Uproot version: \"+str(ur.__version__))"
   ]
  },
  {
   "cell_type": "markdown",
   "id": "c371e71b-2784-4637-90df-459e840e2a87",
   "metadata": {},
   "source": [
    "#### Data and Branches"
   ]
  },
  {
   "cell_type": "code",
   "execution_count": 2,
   "id": "dea02cea-6557-4a39-a8ba-9fd61a9004ee",
   "metadata": {
    "tags": []
   },
   "outputs": [],
   "source": [
    "track_branches = ['trackEta_EMB1', 'trackPhi_EMB1', 'trackEta_EMB2', 'trackPhi_EMB2', 'trackEta_EMB3', 'trackPhi_EMB3',\n",
    "                  'trackEta_TileBar0', 'trackPhi_TileBar0', 'trackEta_TileBar1', 'trackPhi_TileBar1',\n",
    "                  'trackEta_TileBar2', 'trackPhi_TileBar2']\n",
    "\n",
    "event_branches = [\"cluster_nCells\", \"cluster_cell_ID\", \"cluster_cell_E\", 'cluster_nCells', \"nCluster\", \"eventNumber\",\n",
    "                  \"nTrack\", \"nTruthPart\", \"truthPartPdgId\", \"cluster_Eta\", \"cluster_Phi\", 'trackPt', 'trackP',\n",
    "                  'trackMass', 'trackEta', 'trackPhi', 'truthPartE', 'cluster_ENG_CALIB_TOT', \"cluster_E\", 'truthPartPt']\n",
    "\n",
    "geo_branches = [\"cell_geo_ID\", \"cell_geo_eta\", \"cell_geo_phi\", \"cell_geo_rPerp\", \"cell_geo_sampling\"]"
   ]
  },
  {
   "cell_type": "markdown",
   "id": "9e9afde2-4c1b-436a-9e7b-593d79277bfb",
   "metadata": {
    "tags": []
   },
   "source": [
    "##### Make a calorimetry layer dictionary\n",
    "Useful if we have a \"switch\" for sampling layer"
   ]
  },
  {
   "cell_type": "code",
   "execution_count": 5,
   "id": "4b711642-aff5-4a87-92db-1f5a8009c03a",
   "metadata": {
    "tags": []
   },
   "outputs": [
    {
     "name": "stdout",
     "output_type": "stream",
     "text": [
      "trackEta_EMB1: 1\n",
      "trackPhi_EMB1: 1\n",
      "trackEta_EMB2: 2\n",
      "trackPhi_EMB2: 2\n",
      "trackEta_EMB3: 3\n",
      "trackPhi_EMB3: 3\n",
      "trackEta_TileBar0: 12\n",
      "trackPhi_TileBar0: 12\n",
      "trackEta_TileBar1: 13\n",
      "trackPhi_TileBar1: 13\n",
      "trackEta_TileBar2: 14\n",
      "trackPhi_TileBar2: 14\n"
     ]
    }
   ],
   "source": [
    "sampling_layer_track_list = [1,1,2,2,3,3,12,12,13,13,14,14]\n",
    "track_layer_dict = dict(zip(track_branches, sampling_layer_track_list))\n",
    "\n",
    "for _key in track_branches:\n",
    "    print(_key+': '+str(track_layer_dict[_key]))"
   ]
  },
  {
   "cell_type": "markdown",
   "id": "bf2ab868-52dd-4d22-aab7-39ec53774c1a",
   "metadata": {
    "tags": []
   },
   "source": [
    "## All Functions"
   ]
  },
  {
   "cell_type": "code",
   "execution_count": 26,
   "id": "959d9ae6-a463-4082-ac6f-d93da81de6e2",
   "metadata": {
    "tags": []
   },
   "outputs": [],
   "source": [
    "def DeltaR(coords, ref):\n",
    "    ''' Straight forward function, expects Nx2 inputs for coords, 1x2 input for ref '''\n",
    "    ref = np.tile(ref, (len(coords[:,0]), 1))\n",
    "    DeltaCoords = np.subtract(coords, ref)\n",
    "    return np.sqrt(DeltaCoords[:,0]**2 + DeltaCoords[:,1]**2) \n",
    "\n",
    "def track_av(_arr):\n",
    "    ''' Expects a (6,2) np array for the barrel layers in order of eta, phi '''\n",
    "    _av_Eta = np.sum(_arr[:,0])/6\n",
    "    _av_Phi = np.sum(_arr[:,1])/6\n",
    "    return np.array([_av_Eta, _av_Phi])\n",
    "\n",
    "def find_max_dim(_events, _event_dict):\n",
    "    ''' This function is designed to return the sizes of a numpy array such that we are efficient\n",
    "    with zero padding. Please feel free to write this faster, it can be done. Notes: we add six\n",
    "    to the maximum cluster number such that we have room for track info.\n",
    "    Inputs:\n",
    "        _events: filtered list of events to choose from in an Nx3 format for event, track, cluster index \n",
    "        _event_tree: the event tree dictionary\n",
    "    Returns:\n",
    "        3-tuple consisting of (number of events, maximum cluster_size, 5), 5 because of how we have structured\n",
    "        the X data format in energyFlow to be Eta, Phi, Energy, sampling layer, track flag,\n",
    "        _cluster_ENG_CALIB_TOT, turthPartE '''\n",
    "    _nEvents = len(_events)\n",
    "    _max_clust = 0\n",
    "    for i in range(_nEvents):\n",
    "        _evt = _events[i,0]\n",
    "        _clust_idx = _events[i,2]\n",
    "        _num_in_clust = _event_dict['cluster_nCells'][_evt][_clust_idx]\n",
    "        if _num_in_clust > _max_clust:\n",
    "            _max_clust = _num_in_clust\n",
    "\n",
    "    return (_nEvents, _max_clust+6, 6)\n",
    "\n",
    "def find_max_dim_tuple(events, event_dict):\n",
    "    nEvents = len(events)\n",
    "    max_clust = 0\n",
    "    \n",
    "    for i in range(nEvents):\n",
    "        event = events[i,0]\n",
    "        track_nums = events[i,1]\n",
    "        clust_nums = events[i,2]\n",
    "        \n",
    "        clust_num_total = 0\n",
    "        # set this to six for now to handle single track events, change later\n",
    "        track_num_total = 6\n",
    "        \n",
    "        # Check if there are clusters, None type object may be associated with it\n",
    "        if clust_nums is not None:\n",
    "            # Search through cluster indices\n",
    "            for clst_idx in clust_nums:\n",
    "                nInClust = len(event_dict['cluster_cell_ID'][event][clst_idx])\n",
    "                # add the number in each cluster to the total\n",
    "                clust_num_total += nInClust\n",
    "                \n",
    "#         if track_nums is not None:\n",
    "#             for trck_idx in track_nums:\n",
    "#                 # each track takes up six coordinates\n",
    "#                 track_num_total += 6\n",
    "\n",
    "        total_size = clust_num_total + track_num_total\n",
    "        if total_size > max_clust:\n",
    "            max_clust = total_size\n",
    "    \n",
    "    # 6 for energy, eta, phi, rperp, track flag, sample layer\n",
    "    return (nEvents, max_clust, 6)\n",
    "            \n",
    "            \n",
    "\n",
    "def track_coords(_idx, _event_dict, _track_dict, _track_branches):\n",
    "    ''' Returns a list of numpy arrays which contain the track information in the order of\n",
    "    EMB1->TileBar2. '''    \n",
    "    _num_tracks = _event_dict['nTrack'][_idx]\n",
    "    _track_arr = np.empty((_num_tracks,6,2))\n",
    "    for i in range(_num_tracks):    \n",
    "        _coords = np.empty((12,))\n",
    "        j = 0\n",
    "        for _key in _track_branches:\n",
    "            _coords[j] = _track_dict[_key][_idx][i]\n",
    "            j += 1\n",
    "    _track_arr[i] = _coords.reshape(6,2)\n",
    "    return _track_arr\n",
    "\n",
    "def dict_from_event_tree(_event_tree, _branches):\n",
    "    ''' The purpose for this separate function is to load np arrays where possible. '''\n",
    "    _special_keys = [\"nCluster\", \"eventNumber\", \"nTrack\", \"nTruthPart\"]\n",
    "    _dict = dict()\n",
    "    for _key in _branches:\n",
    "        if _key in _special_keys:\n",
    "            _branch = _event_tree.arrays(filter_name=_key)[_key].to_numpy()\n",
    "        else:\n",
    "            _branch = _event_tree.arrays(filter_name=_key)[_key]\n",
    "        _dict[_key] = _branch\n",
    "    return _dict\n",
    "\n",
    "def dict_from_tree_branches(_tree, _branches):\n",
    "    ''' Helper function to put event data in branches to make things easier to pass to functions,\n",
    "    pretty self explanatory. '''\n",
    "    _dict = dict()\n",
    "    for _key in _branches:\n",
    "        _branch = _tree.arrays(filter_name=_key)[_key]\n",
    "        _dict[_key] = _branch\n",
    "    return _dict\n",
    "\n",
    "def dict_from_tree_branches_np(_tree, _branches):\n",
    "    ''' Helper function to put event data in branches to make things easier to pass to functions,\n",
    "    pretty self explanatory. This always returns np arrays in the dict. '''\n",
    "    _dict = dict()\n",
    "    for _key in _branches:\n",
    "        _branch = np.ndarray.flatten(_tree.arrays(filter_name=_key)[_key].to_numpy())\n",
    "        _dict[_key] = _branch\n",
    "    return _dict\n",
    "\n",
    "def find_central_clusters(_event_dict):\n",
    "    ''' Inputs:\n",
    "        dictionary with events to pull cluster centers from\n",
    "    Returns:\n",
    "        an array of event indices with clusters with eta < .7 '''\n",
    "    # list of event indices with one or more clusters in EMB1-3 or TileBar0-2\n",
    "    _central_events = []\n",
    "    _ak_cluster_cell_ID = _event_dict['cluster_cell_ID']\n",
    "    \n",
    "    for _evt_idx in range(len(_ak_cluster_cell_ID)):\n",
    "        _cluster_Eta = event_dict['cluster_Eta'][_evt_idx].to_numpy()\n",
    "        _cluster_Eta_mask = np.abs(_cluster_Eta) < .7\n",
    "        \n",
    "        if np.any(_cluster_Eta_mask):\n",
    "            _central_events.append(_evt_idx)\n",
    "\n",
    "    return np.array(_central_events)\n",
    "\n",
    "def find_index_1D(values, dictionary):\n",
    "    ''' Use a for loop and a dictionary. values are the IDs to search for. dict must be in format \n",
    "    (cell IDs: index) '''\n",
    "    idx_vec = np.zeros(len(values), dtype=np.int32)\n",
    "    for i in range(len(values)):\n",
    "        idx_vec[i] = dictionary[values[i]]\n",
    "    return idx_vec"
   ]
  },
  {
   "cell_type": "markdown",
   "id": "d3a43271-8603-413b-9502-4a91f3d9a8fd",
   "metadata": {},
   "source": [
    "# Load Data"
   ]
  },
  {
   "cell_type": "code",
   "execution_count": 7,
   "id": "a4d6397f-5117-463e-a5bd-b45182917d4d",
   "metadata": {
    "tags": []
   },
   "outputs": [],
   "source": [
    "# events = '/fast_scratch/atlas_images/v01-45/pipm/'\n",
    "# my_event = ur.open(events+'user.angerami.24559744.OutputStream._000502.root')\n",
    "# my_event.keys()"
   ]
  },
  {
   "cell_type": "code",
   "execution_count": 8,
   "id": "644b5b69-c1a4-47c6-8d4a-85fd732df521",
   "metadata": {
    "tags": []
   },
   "outputs": [
    {
     "data": {
      "text/plain": [
       "['EventTree;1', 'CellGeo;1']"
      ]
     },
     "execution_count": 8,
     "metadata": {},
     "output_type": "execute_result"
    }
   ],
   "source": [
    "events = '/fast_scratch/atlas_images/v01-45/'\n",
    "my_event = ur.open(events+'pipm_medium.root')\n",
    "my_event.keys()"
   ]
  },
  {
   "cell_type": "markdown",
   "id": "c130754d-bd7f-4445-8ca5-60e68b847d59",
   "metadata": {},
   "source": [
    "### Event Tree"
   ]
  },
  {
   "cell_type": "code",
   "execution_count": 9,
   "id": "1f4d2d66-8ce7-4ced-ab20-41ff75a98b06",
   "metadata": {
    "scrolled": true,
    "tags": []
   },
   "outputs": [
    {
     "name": "stdout",
     "output_type": "stream",
     "text": [
      "name                                       | typename                 | interpretation                                              \n",
      "-------------------------------------------+--------------------------+-------------------------------------------------------------\n",
      "runNumber                                  | int32_t                  | AsDtype('>i4')\n",
      "eventNumber                                | int64_t                  | AsDtype('>i8')\n",
      "lumiBlock                                  | int32_t                  | AsDtype('>i4')\n",
      "coreFlags                                  | uint32_t                 | AsDtype('>u4')\n",
      "mcEventNumber                              | int32_t                  | AsDtype('>i4')\n",
      "mcChannelNumber                            | int32_t                  | AsDtype('>i4')\n",
      "mcEventWeight                              | float                    | AsDtype('>f4')\n",
      "nTruthPart                                 | int32_t                  | AsDtype('>i4')\n",
      "G4PreCalo_n_EM                             | int32_t                  | AsDtype('>i4')\n",
      "G4PreCalo_E_EM                             | float                    | AsDtype('>f4')\n",
      "G4PreCalo_n_Had                            | int32_t                  | AsDtype('>i4')\n",
      "G4PreCalo_E_Had                            | float                    | AsDtype('>f4')\n",
      "truthVertexX                               | float                    | AsDtype('>f4')\n",
      "truthVertexY                               | float                    | AsDtype('>f4')\n",
      "truthVertexZ                               | float                    | AsDtype('>f4')\n",
      "truthPartPdgId                             | std::vector<int32_t>     | AsJagged(AsDtype('>i4'), header_bytes=10)\n",
      "truthPartStatus                            | std::vector<int32_t>     | AsJagged(AsDtype('>i4'), header_bytes=10)\n",
      "truthPartBarcode                           | std::vector<int32_t>     | AsJagged(AsDtype('>i4'), header_bytes=10)\n",
      "truthPartPt                                | std::vector<float>       | AsJagged(AsDtype('>f4'), header_bytes=10)\n",
      "truthPartE                                 | std::vector<float>       | AsJagged(AsDtype('>f4'), header_bytes=10)\n",
      "truthPartMass                              | std::vector<float>       | AsJagged(AsDtype('>f4'), header_bytes=10)\n",
      "truthPartEta                               | std::vector<float>       | AsJagged(AsDtype('>f4'), header_bytes=10)\n",
      "truthPartPhi                               | std::vector<float>       | AsJagged(AsDtype('>f4'), header_bytes=10)\n",
      "nTrack                                     | int32_t                  | AsDtype('>i4')\n",
      "trackPt                                    | std::vector<float>       | AsJagged(AsDtype('>f4'), header_bytes=10)\n",
      "trackP                                     | std::vector<float>       | AsJagged(AsDtype('>f4'), header_bytes=10)\n",
      "trackMass                                  | std::vector<float>       | AsJagged(AsDtype('>f4'), header_bytes=10)\n",
      "trackEta                                   | std::vector<float>       | AsJagged(AsDtype('>f4'), header_bytes=10)\n",
      "trackPhi                                   | std::vector<float>       | AsJagged(AsDtype('>f4'), header_bytes=10)\n",
      "trackNumberOfPixelHits                     | std::vector<int32_t>     | AsJagged(AsDtype('>i4'), header_bytes=10)\n",
      "trackNumberOfSCTHits                       | std::vector<int32_t>     | AsJagged(AsDtype('>i4'), header_bytes=10)\n",
      "trackNumberOfPixelDeadSensors              | std::vector<int32_t>     | AsJagged(AsDtype('>i4'), header_bytes=10)\n",
      "trackNumberOfSCTDeadSensors                | std::vector<int32_t>     | AsJagged(AsDtype('>i4'), header_bytes=10)\n",
      "trackNumberOfPixelSharedHits               | std::vector<int32_t>     | AsJagged(AsDtype('>i4'), header_bytes=10)\n",
      "trackNumberOfSCTSharedHits                 | std::vector<int32_t>     | AsJagged(AsDtype('>i4'), header_bytes=10)\n",
      "trackNumberOfPixelHoles                    | std::vector<int32_t>     | AsJagged(AsDtype('>i4'), header_bytes=10)\n",
      "trackNumberOfSCTHoles                      | std::vector<int32_t>     | AsJagged(AsDtype('>i4'), header_bytes=10)\n",
      "trackNumberOfInnermostPixelLayerHits       | std::vector<int32_t>     | AsJagged(AsDtype('>i4'), header_bytes=10)\n",
      "trackNumberOfNextToInnermostPixelLayerHits | std::vector<int32_t>     | AsJagged(AsDtype('>i4'), header_bytes=10)\n",
      "trackExpectInnermostPixelLayerHit          | std::vector<int32_t>     | AsJagged(AsDtype('>i4'), header_bytes=10)\n",
      "trackExpectNextToInnermostPixelLayerHit    | std::vector<int32_t>     | AsJagged(AsDtype('>i4'), header_bytes=10)\n",
      "trackNumberOfTRTHits                       | std::vector<int32_t>     | AsJagged(AsDtype('>i4'), header_bytes=10)\n",
      "trackNumberOfTRTOutliers                   | std::vector<int32_t>     | AsJagged(AsDtype('>i4'), header_bytes=10)\n",
      "trackChiSquared                            | std::vector<float>       | AsJagged(AsDtype('>f4'), header_bytes=10)\n",
      "trackNumberDOF                             | std::vector<int32_t>     | AsJagged(AsDtype('>i4'), header_bytes=10)\n",
      "trackD0                                    | std::vector<float>       | AsJagged(AsDtype('>f4'), header_bytes=10)\n",
      "trackZ0                                    | std::vector<float>       | AsJagged(AsDtype('>f4'), header_bytes=10)\n",
      "trackEta_PreSamplerB                       | std::vector<float>       | AsJagged(AsDtype('>f4'), header_bytes=10)\n",
      "trackPhi_PreSamplerB                       | std::vector<float>       | AsJagged(AsDtype('>f4'), header_bytes=10)\n",
      "trackEta_PreSamplerE                       | std::vector<float>       | AsJagged(AsDtype('>f4'), header_bytes=10)\n",
      "trackPhi_PreSamplerE                       | std::vector<float>       | AsJagged(AsDtype('>f4'), header_bytes=10)\n",
      "trackEta_EMB1                              | std::vector<float>       | AsJagged(AsDtype('>f4'), header_bytes=10)\n",
      "trackPhi_EMB1                              | std::vector<float>       | AsJagged(AsDtype('>f4'), header_bytes=10)\n",
      "trackEta_EMB2                              | std::vector<float>       | AsJagged(AsDtype('>f4'), header_bytes=10)\n",
      "trackPhi_EMB2                              | std::vector<float>       | AsJagged(AsDtype('>f4'), header_bytes=10)\n",
      "trackEta_EMB3                              | std::vector<float>       | AsJagged(AsDtype('>f4'), header_bytes=10)\n",
      "trackPhi_EMB3                              | std::vector<float>       | AsJagged(AsDtype('>f4'), header_bytes=10)\n",
      "trackEta_EME1                              | std::vector<float>       | AsJagged(AsDtype('>f4'), header_bytes=10)\n",
      "trackPhi_EME1                              | std::vector<float>       | AsJagged(AsDtype('>f4'), header_bytes=10)\n",
      "trackEta_EME2                              | std::vector<float>       | AsJagged(AsDtype('>f4'), header_bytes=10)\n",
      "trackPhi_EME2                              | std::vector<float>       | AsJagged(AsDtype('>f4'), header_bytes=10)\n",
      "trackEta_EME3                              | std::vector<float>       | AsJagged(AsDtype('>f4'), header_bytes=10)\n",
      "trackPhi_EME3                              | std::vector<float>       | AsJagged(AsDtype('>f4'), header_bytes=10)\n",
      "trackEta_HEC0                              | std::vector<float>       | AsJagged(AsDtype('>f4'), header_bytes=10)\n",
      "trackPhi_HEC0                              | std::vector<float>       | AsJagged(AsDtype('>f4'), header_bytes=10)\n",
      "trackEta_HEC1                              | std::vector<float>       | AsJagged(AsDtype('>f4'), header_bytes=10)\n",
      "trackPhi_HEC1                              | std::vector<float>       | AsJagged(AsDtype('>f4'), header_bytes=10)\n",
      "trackEta_HEC2                              | std::vector<float>       | AsJagged(AsDtype('>f4'), header_bytes=10)\n",
      "trackPhi_HEC2                              | std::vector<float>       | AsJagged(AsDtype('>f4'), header_bytes=10)\n",
      "trackEta_HEC3                              | std::vector<float>       | AsJagged(AsDtype('>f4'), header_bytes=10)\n",
      "trackPhi_HEC3                              | std::vector<float>       | AsJagged(AsDtype('>f4'), header_bytes=10)\n",
      "trackEta_TileBar0                          | std::vector<float>       | AsJagged(AsDtype('>f4'), header_bytes=10)\n",
      "trackPhi_TileBar0                          | std::vector<float>       | AsJagged(AsDtype('>f4'), header_bytes=10)\n",
      "trackEta_TileBar1                          | std::vector<float>       | AsJagged(AsDtype('>f4'), header_bytes=10)\n",
      "trackPhi_TileBar1                          | std::vector<float>       | AsJagged(AsDtype('>f4'), header_bytes=10)\n",
      "trackEta_TileBar2                          | std::vector<float>       | AsJagged(AsDtype('>f4'), header_bytes=10)\n",
      "trackPhi_TileBar2                          | std::vector<float>       | AsJagged(AsDtype('>f4'), header_bytes=10)\n",
      "trackEta_TileGap1                          | std::vector<float>       | AsJagged(AsDtype('>f4'), header_bytes=10)\n",
      "trackPhi_TileGap1                          | std::vector<float>       | AsJagged(AsDtype('>f4'), header_bytes=10)\n",
      "trackEta_TileGap2                          | std::vector<float>       | AsJagged(AsDtype('>f4'), header_bytes=10)\n",
      "trackPhi_TileGap2                          | std::vector<float>       | AsJagged(AsDtype('>f4'), header_bytes=10)\n",
      "trackEta_TileGap3                          | std::vector<float>       | AsJagged(AsDtype('>f4'), header_bytes=10)\n",
      "trackPhi_TileGap3                          | std::vector<float>       | AsJagged(AsDtype('>f4'), header_bytes=10)\n",
      "trackEta_TileExt0                          | std::vector<float>       | AsJagged(AsDtype('>f4'), header_bytes=10)\n",
      "trackPhi_TileExt0                          | std::vector<float>       | AsJagged(AsDtype('>f4'), header_bytes=10)\n",
      "trackEta_TileExt1                          | std::vector<float>       | AsJagged(AsDtype('>f4'), header_bytes=10)\n",
      "trackPhi_TileExt1                          | std::vector<float>       | AsJagged(AsDtype('>f4'), header_bytes=10)\n",
      "trackEta_TileExt2                          | std::vector<float>       | AsJagged(AsDtype('>f4'), header_bytes=10)\n",
      "trackPhi_TileExt2                          | std::vector<float>       | AsJagged(AsDtype('>f4'), header_bytes=10)\n",
      "AntiKt4EMTopoJetsPt                        | std::vector<float>       | AsJagged(AsDtype('>f4'), header_bytes=10)\n",
      "AntiKt4EMTopoJetsEta                       | std::vector<float>       | AsJagged(AsDtype('>f4'), header_bytes=10)\n",
      "AntiKt4EMTopoJetsPhi                       | std::vector<float>       | AsJagged(AsDtype('>f4'), header_bytes=10)\n",
      "AntiKt4EMTopoJetsE                         | std::vector<float>       | AsJagged(AsDtype('>f4'), header_bytes=10)\n",
      "AntiKt4LCTopoJetsPt                        | std::vector<float>       | AsJagged(AsDtype('>f4'), header_bytes=10)\n",
      "AntiKt4LCTopoJetsEta                       | std::vector<float>       | AsJagged(AsDtype('>f4'), header_bytes=10)\n",
      "AntiKt4LCTopoJetsPhi                       | std::vector<float>       | AsJagged(AsDtype('>f4'), header_bytes=10)\n",
      "AntiKt4LCTopoJetsE                         | std::vector<float>       | AsJagged(AsDtype('>f4'), header_bytes=10)\n",
      "AntiKt4TruthJetsPt                         | std::vector<float>       | AsJagged(AsDtype('>f4'), header_bytes=10)\n",
      "AntiKt4TruthJetsEta                        | std::vector<float>       | AsJagged(AsDtype('>f4'), header_bytes=10)\n",
      "AntiKt4TruthJetsPhi                        | std::vector<float>       | AsJagged(AsDtype('>f4'), header_bytes=10)\n",
      "AntiKt4TruthJetsE                          | std::vector<float>       | AsJagged(AsDtype('>f4'), header_bytes=10)\n",
      "AntiKt4TruthJetsFlavor                     | std::vector<int32_t>     | AsJagged(AsDtype('>i4'), header_bytes=10)\n",
      "nCluster                                   | int32_t                  | AsDtype('>i4')\n",
      "cluster_E                                  | std::vector<float>       | AsJagged(AsDtype('>f4'), header_bytes=10)\n",
      "cluster_E_LCCalib                          | std::vector<float>       | AsJagged(AsDtype('>f4'), header_bytes=10)\n",
      "cluster_Pt                                 | std::vector<float>       | AsJagged(AsDtype('>f4'), header_bytes=10)\n",
      "cluster_Eta                                | std::vector<float>       | AsJagged(AsDtype('>f4'), header_bytes=10)\n",
      "cluster_Phi                                | std::vector<float>       | AsJagged(AsDtype('>f4'), header_bytes=10)\n",
      "cluster_nCells                             | std::vector<int32_t>     | AsJagged(AsDtype('>i4'), header_bytes=10)\n",
      "cluster_ENG_CALIB_TOT                      | std::vector<float>       | AsJagged(AsDtype('>f4'), header_bytes=10)\n",
      "cluster_ENG_CALIB_OUT_T                    | std::vector<float>       | AsJagged(AsDtype('>f4'), header_bytes=10)\n",
      "cluster_ENG_CALIB_DEAD_TOT                 | std::vector<float>       | AsJagged(AsDtype('>f4'), header_bytes=10)\n",
      "cluster_EM_PROBABILITY                     | std::vector<float>       | AsJagged(AsDtype('>f4'), header_bytes=10)\n",
      "cluster_HAD_WEIGHT                         | std::vector<float>       | AsJagged(AsDtype('>f4'), header_bytes=10)\n",
      "cluster_OOC_WEIGHT                         | std::vector<float>       | AsJagged(AsDtype('>f4'), header_bytes=10)\n",
      "cluster_DM_WEIGHT                          | std::vector<float>       | AsJagged(AsDtype('>f4'), header_bytes=10)\n",
      "cluster_CENTER_MAG                         | std::vector<float>       | AsJagged(AsDtype('>f4'), header_bytes=10)\n",
      "cluster_FIRST_ENG_DENS                     | std::vector<float>       | AsJagged(AsDtype('>f4'), header_bytes=10)\n",
      "cluster_CENTER_LAMBDA                      | std::vector<float>       | AsJagged(AsDtype('>f4'), header_bytes=10)\n",
      "cluster_ISOLATION                          | std::vector<float>       | AsJagged(AsDtype('>f4'), header_bytes=10)\n",
      "cluster_ENERGY_DigiHSTruth                 | std::vector<float>       | AsJagged(AsDtype('>f4'), header_bytes=10)\n",
      "cluster_cell_ID                            | std::vector<std::vect... | AsObjects(AsVector(True, AsVector(False, dtype('>u8'))))\n",
      "cluster_cell_E                             | std::vector<std::vect... | AsObjects(AsVector(True, AsVector(False, dtype('>f4'))))\n",
      "cluster_hitsTruthIndex                     | std::vector<std::vect... | AsObjects(AsVector(True, AsVector(False, dtype('>i4'))))\n",
      "cluster_hitsTruthE                         | std::vector<std::vect... | AsObjects(AsVector(True, AsVector(False, dtype('>f4'))))\n"
     ]
    }
   ],
   "source": [
    "event_tree = my_event[\"EventTree\"]\n",
    "event_tree.show(name_width=42,\n",
    "                interpretation_width=60)"
   ]
  },
  {
   "cell_type": "code",
   "execution_count": 10,
   "id": "2f142149-842c-45de-b1ed-cec6e7d09081",
   "metadata": {
    "tags": []
   },
   "outputs": [
    {
     "name": "stdout",
     "output_type": "stream",
     "text": [
      "Number of events: 360000\n"
     ]
    }
   ],
   "source": [
    "event_dict = dict_from_event_tree(event_tree, event_branches)\n",
    "print('Number of events: '+str(len(event_dict['eventNumber'])))"
   ]
  },
  {
   "cell_type": "markdown",
   "id": "9bf0a090-e710-4dc6-95fb-23030b6235a7",
   "metadata": {
    "tags": []
   },
   "source": [
    "#### Load Tracking Information"
   ]
  },
  {
   "cell_type": "code",
   "execution_count": 11,
   "id": "7a7ca6af-cbc0-4378-b066-b3e5038dd1d1",
   "metadata": {
    "tags": []
   },
   "outputs": [],
   "source": [
    "track_dict = dict_from_tree_branches(event_tree, track_branches)"
   ]
  },
  {
   "cell_type": "markdown",
   "id": "2c40b444-d7c2-495b-ac8c-c260cb2f5fd3",
   "metadata": {
    "tags": []
   },
   "source": [
    "### Geometry Tree"
   ]
  },
  {
   "cell_type": "code",
   "execution_count": 12,
   "id": "92dc2ee6-d2e6-4aa1-bc0f-3e80b20cddbf",
   "metadata": {
    "scrolled": true,
    "tags": []
   },
   "outputs": [
    {
     "name": "stdout",
     "output_type": "stream",
     "text": [
      "name                 | typename                 | interpretation                                              \n",
      "---------------------+--------------------------+-------------------------------------------------------------\n",
      "cell_geo_ID          | std::vector<uint64_t>    | AsJagged(AsDtype('>u8'), header_bytes=10)\n",
      "cell_geo_sampling    | std::vector<uint16_t>    | AsJagged(AsDtype('>u2'), header_bytes=10)\n",
      "cell_geo_eta         | std::vector<float>       | AsJagged(AsDtype('>f4'), header_bytes=10)\n",
      "cell_geo_phi         | std::vector<float>       | AsJagged(AsDtype('>f4'), header_bytes=10)\n",
      "cell_geo_rPerp       | std::vector<float>       | AsJagged(AsDtype('>f4'), header_bytes=10)\n",
      "cell_geo_deta        | std::vector<float>       | AsJagged(AsDtype('>f4'), header_bytes=10)\n",
      "cell_geo_dphi        | std::vector<float>       | AsJagged(AsDtype('>f4'), header_bytes=10)\n",
      "cell_geo_volume      | std::vector<float>       | AsJagged(AsDtype('>f4'), header_bytes=10)\n",
      "cell_geo_sigma       | std::vector<float>       | AsJagged(AsDtype('>f4'), header_bytes=10)\n",
      "cell_geo_prevInPhi   | std::vector<int32_t>     | AsJagged(AsDtype('>i4'), header_bytes=10)\n",
      "cell_geo_nextInPhi   | std::vector<int32_t>     | AsJagged(AsDtype('>i4'), header_bytes=10)\n",
      "cell_geo_prevInEta   | std::vector<int32_t>     | AsJagged(AsDtype('>i4'), header_bytes=10)\n",
      "cell_geo_nextInEta   | std::vector<int32_t>     | AsJagged(AsDtype('>i4'), header_bytes=10)\n",
      "cell_geo_prevInSamp  | std::vector<int32_t>     | AsJagged(AsDtype('>i4'), header_bytes=10)\n",
      "cell_geo_nextInSamp  | std::vector<int32_t>     | AsJagged(AsDtype('>i4'), header_bytes=10)\n",
      "cell_geo_prevSubDet  | std::vector<int32_t>     | AsJagged(AsDtype('>i4'), header_bytes=10)\n",
      "cell_geo_nextSubDet  | std::vector<int32_t>     | AsJagged(AsDtype('>i4'), header_bytes=10)\n",
      "cell_geo_prevSupe... | std::vector<int32_t>     | AsJagged(AsDtype('>i4'), header_bytes=10)\n",
      "cell_geo_nextSupe... | std::vector<int32_t>     | AsJagged(AsDtype('>i4'), header_bytes=10)\n"
     ]
    }
   ],
   "source": [
    "geo_file = ur.open('/fast_scratch/atlas_images/v01-45/cell_geo.root')\n",
    "CellGeo_tree = geo_file[\"CellGeo\"]\n",
    "# CellGeo_tree = my_event['CellGeo']\n",
    "CellGeo_tree.show(interpretation_width=60)"
   ]
  },
  {
   "cell_type": "code",
   "execution_count": 13,
   "id": "2f802a4a-6abf-410f-a332-ff1247d48eff",
   "metadata": {
    "tags": []
   },
   "outputs": [],
   "source": [
    "geo_dict = dict_from_tree_branches_np(CellGeo_tree, geo_branches)"
   ]
  },
  {
   "cell_type": "markdown",
   "id": "02deea9e-1519-4ad8-a298-80c6cec9f9a9",
   "metadata": {
    "tags": []
   },
   "source": [
    "## Filter events"
   ]
  },
  {
   "cell_type": "markdown",
   "id": "db6d3a42-7d9f-4452-a50d-256d71751766",
   "metadata": {
    "tags": []
   },
   "source": [
    "### Criteria\n",
    " - [x] Single track events\n",
    " - [x] Track Pt > 500 MeV\n",
    " - [x] Cluster within < .2 DeltaR\n",
    " - [ ] Cluster Energy > 5%\n",
    " - [x] No other tracks with energy >10% of matched cluster"
   ]
  },
  {
   "cell_type": "markdown",
   "id": "70d46b03-7294-4750-955f-7d4019f369a5",
   "metadata": {
    "tags": []
   },
   "source": [
    "#### First select barrel events\n",
    "Notes: Only use central cluster technique. Abandon searching sampling layers as searching for clusters is orders of magnitude faster. (3.56 hours versus .12 minutes for small root file)\n",
    "### TO DO:\n",
    " - Make this a python script and save the output! Too slow otherwise and the connection tears\n",
    " - ~~Fix this to make it faster!!! Right now it's god awful~~\n",
    "   - ~~Still slow as heck. Just ignore this part of the code and skip right to the track selection cuts~~\n",
    " - [x] Index Search using a dictionary, faster than vectorized numpy search"
   ]
  },
  {
   "cell_type": "markdown",
   "id": "01974108-16c8-4d38-b06f-afc72f4f951b",
   "metadata": {},
   "source": [
    "### Events with central clusters"
   ]
  },
  {
   "cell_type": "code",
   "execution_count": 15,
   "id": "bba93a12-d986-4e2b-bd86-8830c3a0c347",
   "metadata": {},
   "outputs": [
    {
     "name": "stdout",
     "output_type": "stream",
     "text": [
      "Time in hours: 0.0\n",
      "Time in minutes: 0.299\n",
      "Time in seconds: 17.92\n"
     ]
    }
   ],
   "source": [
    "t0 = t.time()\n",
    "central_clusters = find_central_clusters(event_dict)\n",
    "t1 = t.time()\n",
    "\n",
    "print('Time in hours: '+str(round(((t1-t0)/3600), 2)))\n",
    "print('Time in minutes: '+str(round( ((t1-t0)/60), 3)))\n",
    "print('Time in seconds: '+str(round((t1-t0), 2) ))"
   ]
  },
  {
   "cell_type": "markdown",
   "id": "ad48e3b0-349f-4dfb-9a2f-03b540b439a1",
   "metadata": {
    "tags": []
   },
   "source": [
    "### Track Filter\n",
    "#### Single Track"
   ]
  },
  {
   "cell_type": "code",
   "execution_count": 16,
   "id": "3f31aa5c-0f72-4323-b20b-62ee89819d27",
   "metadata": {
    "tags": []
   },
   "outputs": [
    {
     "name": "stdout",
     "output_type": "stream",
     "text": [
      "Single Track Indices, shape (218392,)\n",
      "[ 1  2  3  4  7  8 12 15 17 18 19 20 21 23 24 25 27 28 29 30]\n"
     ]
    }
   ],
   "source": [
    "# create ordered list of events to use for index slicing\n",
    "nEvents = len(event_dict['eventNumber'])\n",
    "all_events = np.arange(0,nEvents,1,dtype=np.int32)\n",
    "\n",
    "# SINGLE TRACK CUT\n",
    "single_track_mask = event_dict['nTrack'] == np.full(nEvents, 1)\n",
    "filtered_event = all_events[single_track_mask]\n",
    "print('Single Track Indices, shape '+str(np.shape(filtered_event)))\n",
    "print(filtered_event[0:20])"
   ]
  },
  {
   "cell_type": "markdown",
   "id": "4f7a82ba-c48b-461a-a747-47dc69c5ccc0",
   "metadata": {},
   "source": [
    "#### Central Tracks"
   ]
  },
  {
   "cell_type": "code",
   "execution_count": 17,
   "id": "2a15e329-4d3b-4fcb-b7cb-89d3c9ac48da",
   "metadata": {
    "tags": []
   },
   "outputs": [
    {
     "name": "stdout",
     "output_type": "stream",
     "text": [
      "Central track indices, shape (69414,)\n",
      "[ 3  8 18 20 21 23 27 28 30 34 35 36 41 43 44 50 53 59 63 70]\n"
     ]
    }
   ],
   "source": [
    "trackEta_EMB1 = ak.flatten(track_dict['trackEta_EMB1'][filtered_event]).to_numpy()\n",
    "central_track_mask = np.abs(trackEta_EMB1) < .7\n",
    "filtered_event = filtered_event[central_track_mask]\n",
    "# Save this for processing track only files later\n",
    "central_single_tracks = filtered_event\n",
    "print('Central track indices, shape '+str(np.shape(filtered_event)))\n",
    "print(filtered_event[0:20])"
   ]
  },
  {
   "cell_type": "markdown",
   "id": "45ca1419-d003-44b3-b626-47f891119524",
   "metadata": {},
   "source": [
    "#### Tracks with Clusters"
   ]
  },
  {
   "cell_type": "code",
   "execution_count": 18,
   "id": "fc7e4c22-62ac-41e7-bf95-66437c83b3c2",
   "metadata": {
    "tags": []
   },
   "outputs": [
    {
     "name": "stdout",
     "output_type": "stream",
     "text": [
      "Tracks with clusters, shape (60176,)\n",
      "[ 3  8 18 20 21 23 27 28 34 35 36 41 43 44 50 53 59 63 70 74]\n"
     ]
    }
   ],
   "source": [
    "nCluster = event_dict['nCluster'][filtered_event]\n",
    "filtered_event_mask = nCluster != 0\n",
    "filtered_event = filtered_event[filtered_event_mask]\n",
    "print('Tracks with clusters, shape '+str(np.shape(filtered_event)))\n",
    "print(filtered_event[0:20])"
   ]
  },
  {
   "cell_type": "markdown",
   "id": "ef5d5445-487d-4f56-8d51-addfcf2748cf",
   "metadata": {},
   "source": [
    "#### Momentum Cuts, 500 MeV\n",
    "This is basically useless but here for completeness"
   ]
  },
  {
   "cell_type": "code",
   "execution_count": 19,
   "id": "3b37061c-a5b0-4313-876c-9423080d6bdf",
   "metadata": {
    "tags": []
   },
   "outputs": [
    {
     "name": "stdout",
     "output_type": "stream",
     "text": [
      "Tracks with momentum cuts, shape (60176,)\n",
      "[  3   8  18  20  21  23  27  28  34  35  36  41  43  44  50  53  59  63\n",
      "  70  74  93  99 102 107 112 116 117 122 123 124 135 137 148 149 156 158\n",
      " 161 162 170 174]\n"
     ]
    }
   ],
   "source": [
    "trackP = ak.flatten(event_dict['trackP'][filtered_event]).to_numpy()\n",
    "filtered_event_mask = trackP > .5\n",
    "filtered_event = filtered_event[filtered_event_mask]\n",
    "print('Tracks with momentum cuts, shape '+str(np.shape(filtered_event)))\n",
    "print(filtered_event[0:40])"
   ]
  },
  {
   "cell_type": "markdown",
   "id": "3e61ac17-72ff-4954-85b8-6f8d2b5f165b",
   "metadata": {},
   "source": [
    "## Cluster Track Matching\n",
    "#### Apply $\\Delta R$ cut <.2\n",
    " - All clusters within $\\Delta R < .2$\n",
    " \n",
    "#### To Do:\n",
    " - Use multiple clusters -- combine?\n",
    " \n",
    "#### Notes:\n",
    " - Currently changing notebook to accept multiple clusters as a tuple\n",
    " - This is used as a proxy for multiple tracks"
   ]
  },
  {
   "cell_type": "code",
   "execution_count": 23,
   "id": "95b70e05-b92c-430e-90fe-7b56cf61bebf",
   "metadata": {
    "tags": []
   },
   "outputs": [
    {
     "name": "stdout",
     "output_type": "stream",
     "text": [
      "Time in hours: 0.0\n",
      "Time in minutes: 0.2\n",
      "Time in seconds: 12.01\n",
      "Total number of events: 55163\n",
      "[[3 0 array([0, 1, 2, 3])]\n",
      " [18 0 array([0])]\n",
      " [20 0 array([0])]\n",
      " [21 0 array([0])]\n",
      " [23 0 array([0])]\n",
      " [27 0 array([0, 1])]\n",
      " [34 0 array([0])]\n",
      " [35 0 array([0, 1])]\n",
      " [36 0 array([0])]\n",
      " [41 0 array([0, 1])]]\n"
     ]
    }
   ],
   "source": [
    "# Note we have to keep this a list becuase it may be shorter than filtered events if critera are not met\n",
    "event_indices = []\n",
    "t0 = t.time()\n",
    "\n",
    "for _evt in filtered_event:\n",
    "\n",
    "    # pull cluster number, don't need zero as it's loaded as a np array\n",
    "    _nClust = event_dict[\"nCluster\"][_evt]\n",
    "    cluster_idx = np.arange(_nClust)\n",
    "    \n",
    "    # Notes: this will need to handle more complex scenarios in the future for tracks with\n",
    "    # no clusters\n",
    "    \n",
    "    ## DELTA R ##\n",
    "    # pull coordinates of tracks and clusters from event\n",
    "    # we can get away with the zeroth index because we are working with single track events\n",
    "    _trackCoords = np.array([event_dict[\"trackEta\"][_evt][0],\n",
    "                             event_dict[\"trackPhi\"][_evt][0]])\n",
    "    _clusterCoords = np.stack((event_dict[\"cluster_Eta\"][_evt].to_numpy(),\n",
    "                               event_dict[\"cluster_Phi\"][_evt].to_numpy()), axis=1)\n",
    "\n",
    "    _DeltaR = DeltaR(_clusterCoords, _trackCoords)\n",
    "    _DeltaR_mask = _DeltaR < .2\n",
    "    matched_clusters = cluster_idx[_DeltaR_mask]\n",
    "    \n",
    "    ## CREATE LIST ##\n",
    "    # Note: currently do not have track only events. Do this in the future    \n",
    "    if np.count_nonzero(_DeltaR_mask) > 0:\n",
    "        event_indices.append((_evt, 0, matched_clusters))\n",
    "\n",
    "t1 = t.time()\n",
    "print('Time in hours: '+str(round(((t1-t0)/3600), 2)))\n",
    "print('Time in minutes: '+str(round( ((t1-t0)/60), 3)))\n",
    "print('Time in seconds: '+str(round((t1-t0), 2) ))\n",
    "event_indices = np.array(event_indices, dtype=np.object_)\n",
    "print(\"Total number of events: \"+str(len(event_indices)))\n",
    "print(event_indices[0:10])"
   ]
  },
  {
   "cell_type": "markdown",
   "id": "b9671c21-4808-4523-b62f-ebeb2305080f",
   "metadata": {},
   "source": [
    "## Input Data"
   ]
  },
  {
   "cell_type": "markdown",
   "id": "dd9562a7-e8b0-4e03-be53-4d2649457918",
   "metadata": {},
   "source": [
    "#### Find np.array Dimensions"
   ]
  },
  {
   "cell_type": "code",
   "execution_count": 27,
   "id": "48647020-f3e6-447d-9c25-17c20aaf2721",
   "metadata": {
    "tags": []
   },
   "outputs": [
    {
     "name": "stdout",
     "output_type": "stream",
     "text": [
      "(55163, 888, 6)\n"
     ]
    }
   ],
   "source": [
    "max_dims = find_max_dim_tuple(event_indices, event_dict)\n",
    "print(max_dims)"
   ]
  },
  {
   "cell_type": "code",
   "execution_count": 37,
   "id": "cb3ea8b0-9179-4476-8d05-a5ab13fc68d6",
   "metadata": {
    "tags": []
   },
   "outputs": [
    {
     "name": "stdout",
     "output_type": "stream",
     "text": [
      "Finished constructing X, Y array! :-)\n",
      "Time in hours: 0.02\n",
      "Time in minutes: 0.92\n",
      "Time in seconds: 54.98\n"
     ]
    }
   ],
   "source": [
    "X = np.zeros(max_dims)\n",
    "Y = np.zeros(max_dims[0])\n",
    "# these are only approximate?\n",
    "layer_rPerp = np.array([1540., 1733., 1930., 2450., 3010., 3630.])\n",
    "track_sample_layer = np.array([1,2,3,12,13,14])\n",
    "        \n",
    "# cell geometry data\n",
    "cell_geo_ID = geo_dict['cell_geo_ID']\n",
    "cell_ID_dict = dict(zip(cell_geo_ID, np.arange(len(cell_geo_ID))))\n",
    "\n",
    "t0 = t.time()\n",
    "for i in range(max_dims[0]):\n",
    "    # pull all relevant indices\n",
    "    evt = event_indices[i,0]\n",
    "    track_idx = event_indices[i,1]\n",
    "    # recall this now returns an array\n",
    "    cluster_nums = event_indices[i,2]\n",
    "    \n",
    "    ##############\n",
    "    ## CLUSTERS ##\n",
    "    ##############\n",
    "    if cluster_nums is not None:\n",
    "        \n",
    "        # find averaged center of clusters\n",
    "        cluster_Eta = event_dict['cluster_Eta'][evt].to_numpy()\n",
    "        cluster_Phi = event_dict['cluster_Phi'][evt].to_numpy()\n",
    "        av_Eta = np.mean(cluster_Eta)\n",
    "        av_Phi = np.mean(cluster_Phi)\n",
    "        \n",
    "        nClust_current_total = 0\n",
    "        for c in cluster_nums:            \n",
    "            # cluster data\n",
    "            cluster_cell_ID = event_dict['cluster_cell_ID'][evt][c].to_numpy()\n",
    "            nInClust = len(cluster_cell_ID)\n",
    "            cluster_cell_E = event_dict['cluster_cell_E'][evt][c].to_numpy()            \n",
    "            cell_indices = find_index_1D(cluster_cell_ID, cell_ID_dict)\n",
    "            \n",
    "            cluster_cell_Eta = geo_dict['cell_geo_eta'][cell_indices]\n",
    "            cluster_cell_Phi = geo_dict['cell_geo_phi'][cell_indices]\n",
    "            cluster_cell_rPerp = geo_dict['cell_geo_rPerp'][cell_indices]\n",
    "            cluster_cell_sampling = geo_dict['cell_geo_sampling'][cell_indices]\n",
    "\n",
    "            # input all the data\n",
    "            # note here we leave the fourth entry zeros (zero for flag!!!)\n",
    "            low = nClust_current_total\n",
    "            high = low + nInClust\n",
    "            X[i,low:high,0] = cluster_cell_E\n",
    "            # Normalize to average cluster centers\n",
    "            X[i,low:high,1] = cluster_cell_Eta - av_Eta\n",
    "            X[i,low:high,2] = cluster_cell_Phi - av_Phi\n",
    "            X[i,low:high,3] = cluster_cell_rPerp\n",
    "            X[i,low:high,5] = cluster_cell_sampling\n",
    "            \n",
    "            nClust_current_total += nInClust\n",
    "   \n",
    "    #####################\n",
    "    ## TARGET ENERGIES ##\n",
    "    #####################\n",
    "    truthPartE = event_dict['truthPartE'][evt][0]\n",
    "    Y[i] = truthPartE\n",
    "    \n",
    "    ############\n",
    "    ## TRACKS ##\n",
    "    ############\n",
    "    \n",
    "    trackP = event_dict['trackP'][_evt][track_idx]\n",
    "\n",
    "    track_arr = np.zeros((6,6))\n",
    "    track_arr[:,5] = track_sample_layer\n",
    "    # track flag\n",
    "    track_arr[:,4] = np.ones((6,))\n",
    "    track_arr[:,3] = layer_rPerp\n",
    "    \n",
    "    # Fill in eta and phi values\n",
    "    # this is complicated - simplify?\n",
    "    p, q = 0, 1\n",
    "    for j in range(12):\n",
    "        # This gives the key for the track dict\n",
    "        track_arr[p,q] = track_dict[track_branches[j]][evt][track_idx]\n",
    "        if j%2 != 0:\n",
    "            p += 1\n",
    "            q = 1\n",
    "        else:\n",
    "            q = 2\n",
    "    \n",
    "    # search for NULL track flags\n",
    "    track_eta_null_mask = np.abs(track_arr[:,1]) > 4.9\n",
    "    track_phi_null_mask = np.abs(track_arr[:,2]) >= np.pi\n",
    "    track_flag_null = np.logical_or(track_eta_null_mask, track_phi_null_mask)\n",
    "    \n",
    "    # where the flag is set to null, set values of energy and calo layer to zero\n",
    "    if np.any(track_flag_null):\n",
    "        # number for which to spread the energy out over\n",
    "        p_nums = 6 - np.count_nonzero(track_flag_null)\n",
    "        track_arr[track_flag_null,1:6] = 0\n",
    "        # get where the track exists (not null)\n",
    "        track_arr[np.invert(track_flag_null),0] = trackP/p_nums\n",
    "    # otherwise fill in pt/6 for all\n",
    "    else:\n",
    "        track_arr[:,0] = trackP/6      \n",
    "\n",
    "    X[i,high:high+6,0:6] = track_arr\n",
    "#####################################################\n",
    "t1 = t.time()\n",
    "\n",
    "print('Finished constructing X, Y array! :-)')\n",
    "print('Time in hours: '+str(round( (t1-t0)/3600, 2)))\n",
    "print('Time in minutes: '+str(round( (t1-t0)/60, 2)))\n",
    "print('Time in seconds: '+str(round( (t1-t0), 2)))"
   ]
  },
  {
   "cell_type": "code",
   "execution_count": 36,
   "id": "5a457d14-91b8-47ee-81cb-2782b2c11152",
   "metadata": {},
   "outputs": [],
   "source": [
    "np.savez('XY_tracks_multipleClusters_med', X, Y)"
   ]
  },
  {
   "cell_type": "markdown",
   "id": "85e959a7-cd85-4ada-9d21-cceb67aabab9",
   "metadata": {},
   "source": [
    "#### Using loop search for gell_geo_ID\n",
    "Finished constructing X, Y array! :-)\n",
    "Time in hours: 0.52\n",
    "Time in minutes: 31.28\n",
    "Time in seconds: 1876.53"
   ]
  },
  {
   "cell_type": "markdown",
   "id": "2eda38ae-4ffa-4b12-b0da-c274995dd3b2",
   "metadata": {},
   "source": [
    "## Save Cluster Only Regression Data"
   ]
  },
  {
   "cell_type": "code",
   "execution_count": 16,
   "id": "67cfd97e-a285-4084-a6f5-ffbe7051e777",
   "metadata": {},
   "outputs": [
    {
     "name": "stdout",
     "output_type": "stream",
     "text": [
      "Number of events with central clusters: 82975\n"
     ]
    }
   ],
   "source": [
    "nCentralClusterEvts = len(central_clusters)\n",
    "print('Number of events with central clusters: '+str(nCentralClusterEvts))"
   ]
  },
  {
   "cell_type": "markdown",
   "id": "a8453eac-e8da-4828-b6fa-93b90216d6cf",
   "metadata": {},
   "source": [
    "Further refine this with list of central clusters which are max energy, and find the max size of the list."
   ]
  },
  {
   "cell_type": "code",
   "execution_count": 22,
   "id": "98ad72ad-6fb1-4ae8-9375-dd274ad2b235",
   "metadata": {},
   "outputs": [
    {
     "name": "stdout",
     "output_type": "stream",
     "text": [
      "Max cluster size: 929\n",
      "Shape of single cluster index array: (68516, 2)\n",
      "Time in hours: 0.0\n",
      "Time in minutes: 0.2\n",
      "Time in seconds: 12.15\n"
     ]
    }
   ],
   "source": [
    "max_cluster_size = 0\n",
    "single_cluster_only = []\n",
    "\n",
    "t0 = t.time()\n",
    "for i in range(nCentralClusterEvts):\n",
    "    _evt = central_clusters[i]\n",
    "    \n",
    "    # pull cluster center\n",
    "    _cluster_Eta = event_dict['cluster_Eta'][_evt].to_numpy()\n",
    "    \n",
    "    # check if clusters have eta < .7\n",
    "    _clst_cntr_mask = np.abs(_cluster_Eta) < .7\n",
    "    \n",
    "    # check which cluster is the max energy, make mask\n",
    "    _clstr_E = event_dict['cluster_E'][_evt].to_numpy()\n",
    "    _clstr_E_mask = _clstr_E == np.max(_clstr_E)\n",
    "    \n",
    "    # both max energy and central\n",
    "    _evt_mask = np.logical_and(_clst_cntr_mask, _clstr_E_mask)\n",
    "    \n",
    "    # if both are true pull the index\n",
    "    if np.any(_evt_mask):\n",
    "        _clstr_idx = np.argmax(_evt_mask)\n",
    "        single_cluster_only.append((_evt, _clstr_idx))\n",
    "        \n",
    "    _current_clust_num = len(event_dict['cluster_cell_ID'][_evt][_clstr_idx])\n",
    "    if _current_clust_num > max_cluster_size:\n",
    "        max_cluster_size = _current_clust_num\n",
    "\n",
    "t1 = t.time()\n",
    "single_cluster_only = np.array(single_cluster_only)\n",
    "print('Max cluster size: '+str(max_cluster_size))\n",
    "print('Shape of single cluster index array: '+str(single_cluster_only.shape))\n",
    "print('Time in hours: '+str(round( (t1-t0)/3600, 2)))\n",
    "print('Time in minutes: '+str(round( (t1-t0)/60, 2)))\n",
    "print('Time in seconds: '+str(round( (t1-t0), 2)))"
   ]
  },
  {
   "cell_type": "markdown",
   "id": "8e7205a7-1e12-4178-9885-17fd786f5ed1",
   "metadata": {},
   "source": [
    "#### Create Arrays"
   ]
  },
  {
   "cell_type": "code",
   "execution_count": 32,
   "id": "98c9d630-9351-475e-ac45-af3f68e8a5f0",
   "metadata": {},
   "outputs": [
    {
     "name": "stdout",
     "output_type": "stream",
     "text": [
      "(68516, 929, 5)\n",
      "(68516,)\n",
      "Time in hours: 0.19\n",
      "Time in minutes: 11.2\n",
      "Time in seconds: 671.89\n"
     ]
    }
   ],
   "source": [
    "Y_sc = np.empty(single_cluster_only.shape[0])\n",
    "X_sc = np.zeros((single_cluster_only.shape[0], max_cluster_size, 5))\n",
    "\n",
    "t0 = t.time()\n",
    "for i in range(len(single_cluster_only)):\n",
    "    _evt = single_cluster_only[i,0]\n",
    "    _clstr = single_cluster_only[i,1]\n",
    "    \n",
    "    _cluster_cell_ID = event_dict['cluster_cell_ID'][_evt][_clstr].to_numpy()\n",
    "    _cell_geo_ID = geo_dict['cell_geo_ID']\n",
    "    _cluster_Eta = event_dict['cluster_Eta'][_evt][_clstr]\n",
    "    _cluster_Phi = event_dict['cluster_Phi'][_evt][_clstr]\n",
    "    _nInClust = len(_cluster_cell_ID)\n",
    "#     _geo_idx = find_index_1D(_cluster_cell_ID, geo_dict['cell_geo_ID'])\n",
    "    \n",
    "    _cell_idx = np.zeros(_nInClust, dtype=np.int32)\n",
    "    for j in range(_nInClust):\n",
    "        _cell_ID = _cluster_cell_ID[j]\n",
    "        _cell_idx[j] = np.where(_cell_ID == _cell_geo_ID)[0][0]\n",
    "    \n",
    "    X_sc[i,0:_nInClust,0] = event_dict['cluster_cell_E'][_evt][_clstr].to_numpy()\n",
    "    X_sc[i,0:_nInClust,1] = geo_dict['cell_geo_eta'][_cell_idx] - _cluster_Eta\n",
    "    X_sc[i,0:_nInClust,2] = geo_dict['cell_geo_phi'][_cell_idx] - _cluster_Phi\n",
    "    X_sc[i,0:_nInClust,3] = geo_dict['cell_geo_rPerp'][_cell_idx]\n",
    "    X_sc[i,0:_nInClust,4] = geo_dict['cell_geo_sampling'][_cell_idx]\n",
    "    \n",
    "    # save target\n",
    "    Y_sc[i] = event_dict['cluster_ENG_CALIB_TOT'][_evt][_clstr]\n",
    "t1 = t.time()\n",
    "\n",
    "print(X_sc.shape)\n",
    "print(Y_sc.shape)\n",
    "print('Time in hours: '+str(round( (t1-t0)/3600, 2)))\n",
    "print('Time in minutes: '+str(round( (t1-t0)/60, 2)))\n",
    "print('Time in seconds: '+str(round( (t1-t0), 2)))"
   ]
  },
  {
   "cell_type": "code",
   "execution_count": 34,
   "id": "af3c67a5-2150-4715-a801-5737c093d9d8",
   "metadata": {},
   "outputs": [],
   "source": [
    "# np.savez('/fast_scratch/atlas_images/v01-45/XY_clustersOnly_med', X_sc, Y_sc)"
   ]
  },
  {
   "cell_type": "markdown",
   "id": "4fbd346b-c92e-44b1-b9b8-5696e510bb92",
   "metadata": {},
   "source": [
    "## Save Track Only Regression Data"
   ]
  },
  {
   "cell_type": "code",
   "execution_count": 78,
   "id": "abea7c28-ad11-4dd3-98a6-5deeada57a08",
   "metadata": {},
   "outputs": [
    {
     "name": "stdout",
     "output_type": "stream",
     "text": [
      "Finished constructing track only deep sets !! :-)\n",
      "Time in hours: 0.01\n",
      "Time in minutes: 0.35\n",
      "Time in seconds: 20.94\n"
     ]
    }
   ],
   "source": [
    "nTrackOnlyEvts = len(central_single_tracks)\n",
    "# Deep set information\n",
    "X_tracksOnly_med = np.empty((nTrackOnlyEvts, 6, 5))\n",
    "# Truth to work towards\n",
    "Y_tracksOnly_med = np.empty((nTrackOnlyEvts,))\n",
    "\n",
    "# additional information\n",
    "layer_rPerp = np.array([1540., 1733., 1930., 2450., 3010., 3630.])\n",
    "track_sample_layer = np.array([1,2,3,12,13,14])\n",
    "\n",
    "t0 = t.time()\n",
    "for i in range(len(central_single_tracks)):\n",
    "    \n",
    "    _evt = central_single_tracks[i]\n",
    "    \n",
    "    _track_arr = np.zeros((6,5))\n",
    "    _track_arr[:,4] = track_sample_layer\n",
    "    _track_arr[:,3] = layer_rPerp\n",
    "    \n",
    "    p, q = 0, 1\n",
    "    for j in range(12):\n",
    "        # This gives the key for the track dict\n",
    "        _track_arr[p,q] = track_dict[track_branches[j]][_evt][0]\n",
    "        if j%2 != 0:\n",
    "            p += 1\n",
    "            q = 1\n",
    "        else:\n",
    "            q = 2\n",
    "\n",
    "    ## TRACK MOMENTUM ##\n",
    "    _trackPt = event_dict['trackPt'][_evt][0]\n",
    "    \n",
    "    # search for NULL track flags\n",
    "    _track_eta_null_mask = np.abs(_track_arr[:,1]) > 4.9\n",
    "    _track_phi_null_mask = np.abs(_track_arr[:,2]) >= np.pi\n",
    "    _track_flag_null = np.logical_or(_track_eta_null_mask, _track_phi_null_mask)\n",
    "    \n",
    "    # where the flag is set to null, set values of energy and calo layer to zero\n",
    "    if np.any(_track_flag_null):\n",
    "        # number for which to spread the energy out over\n",
    "        pt_nums = 6 - np.count_nonzero(_track_flag_null)\n",
    "        _track_arr[_track_flag_null,1] = 0\n",
    "        _track_arr[_track_flag_null,2] = 0\n",
    "        # get where the track exists (not null)\n",
    "        _track_arr[np.invert(_track_flag_null),0] = _trackPt/pt_nums\n",
    "    # otherwise fill in pt/6 for all\n",
    "    else:\n",
    "        _track_arr[:,0] = _trackPt/6\n",
    "\n",
    "    X_tracksOnly_med[i,:,:] = _track_arr\n",
    "    Y_tracksOnly_med[i] = event_dict['truthPartPt'][_evt][0]\n",
    "\n",
    "t1 = t.time()\n",
    "print('Finished constructing track only deep sets !! :-)')\n",
    "print('Time in hours: '+str(round( (t1-t0)/3600, 2)))\n",
    "print('Time in minutes: '+str(round( (t1-t0)/60, 2)))\n",
    "print('Time in seconds: '+str(round( (t1-t0), 2)))"
   ]
  },
  {
   "cell_type": "code",
   "execution_count": 80,
   "id": "1962cfc7-2f2e-43df-a748-2a63e9963f6b",
   "metadata": {},
   "outputs": [
    {
     "name": "stdout",
     "output_type": "stream",
     "text": [
      "[[ 5.61663462e+01 -8.56832936e-02  1.34370983e+00  1.54000000e+03\n",
      "   1.00000000e+00]\n",
      " [ 5.61663462e+01 -8.56831744e-02  1.34371960e+00  1.73300000e+03\n",
      "   2.00000000e+00]\n",
      " [ 5.61663462e+01 -8.56830403e-02  1.34372663e+00  1.93000000e+03\n",
      "   3.00000000e+00]\n",
      " [ 5.61663462e+01 -8.56827945e-02  1.34373271e+00  2.45000000e+03\n",
      "   1.20000000e+01]\n",
      " [ 5.61663462e+01 -8.56854618e-02  1.34375322e+00  3.01000000e+03\n",
      "   1.30000000e+01]\n",
      " [ 5.61663462e+01 -8.56948122e-02  1.34380674e+00  3.63000000e+03\n",
      "   1.40000000e+01]]\n"
     ]
    }
   ],
   "source": [
    "print(X_tracksOnly_med[0,:,:])\n",
    "# np.savez('/fast_scratch/atlas_images/v01-45/XY_tracksOnly_Pt_distributed_med', X_tracksOnly_med, Y_tracksOnly_med)"
   ]
  },
  {
   "cell_type": "markdown",
   "id": "e8507fcb-5f06-412b-a771-d33fdc31277a",
   "metadata": {},
   "source": [
    "## Post Event Histograms"
   ]
  },
  {
   "cell_type": "markdown",
   "id": "3e65821e-0fe8-4b06-a22a-0760e290c99c",
   "metadata": {},
   "source": [
    "##### Post cluster cuts"
   ]
  },
  {
   "cell_type": "code",
   "execution_count": 30,
   "id": "bd534bcc-472c-4742-ace0-742d7f58454f",
   "metadata": {},
   "outputs": [],
   "source": [
    "num_plat = len(platinum_events)\n",
    "pe_trackP = np.empty(num_plat)\n",
    "pe_cluster_E = np.empty(num_plat)\n",
    "pe_cluster_ENG_CALIB_TOT = np.empty(num_plat)\n",
    "\n",
    "for i in range(num_plat):\n",
    "    _evt = platinum_events[i,0]\n",
    "    _track_idx = platinum_events[i,1]\n",
    "    _cluster_idx = platinum_events[i,2]\n",
    "    pe_trackP[i] = event_dict['trackP'][_evt][_track_idx]\n",
    "    pe_cluster_E[i] = event_dict['cluster_E'][_evt][_cluster_idx]\n",
    "    pe_cluster_ENG_CALIB_TOT[i] = event_dict['cluster_ENG_CALIB_TOT'][_evt][_cluster_idx]"
   ]
  },
  {
   "cell_type": "markdown",
   "id": "532dcea7-2be3-4c04-8c49-d6da03276055",
   "metadata": {},
   "source": [
    "##### Pre cluster cuts"
   ]
  },
  {
   "cell_type": "code",
   "execution_count": 34,
   "id": "516985de-dda1-48a1-b3ac-5129b4e397bf",
   "metadata": {},
   "outputs": [],
   "source": [
    "num_filt = len(event_indices)\n",
    "ge_trackP = np.empty(num_filt)\n",
    "ge_cluster_E = np.empty(num_filt)\n",
    "ge_cluster_ENG_CALIB_TOT = np.empty(num_filt)\n",
    "\n",
    "for i in range(num_filt):\n",
    "    _evt = event_indices[i,0]\n",
    "    _track_idx = event_indices[i,1]\n",
    "    _cluster_idx = event_indices[i,2]\n",
    "    ge_trackP[i] = event_dict['trackP'][_evt][_track_idx]\n",
    "    ge_cluster_E[i] = event_dict['cluster_E'][_evt][_cluster_idx]\n",
    "    ge_cluster_ENG_CALIB_TOT[i] = event_dict['cluster_ENG_CALIB_TOT'][_evt][_cluster_idx]"
   ]
  },
  {
   "cell_type": "markdown",
   "id": "3bb5870b-e219-41ba-aa82-86ff12b2d033",
   "metadata": {},
   "source": [
    "#### Plots"
   ]
  },
  {
   "cell_type": "code",
   "execution_count": 44,
   "id": "38ff32fc-1aac-41a4-b983-7cd4f41a975b",
   "metadata": {},
   "outputs": [
    {
     "data": {
      "image/png": "[encoded data removed]",
      "text/plain": [
       "<Figure size 432x432 with 1 Axes>"
      ]
     },
     "metadata": {},
     "output_type": "display_data"
    }
   ],
   "source": [
    "fig = plt.figure(figsize=(6,6))\n",
    "fig.patch.set_facecolor('white')\n",
    "plt.scatter(ge_cluster_E, ge_trackP, s=10,edgecolor='black', color='blue')\n",
    "plt.title('Standard single track \\n cluster matched event', fontsize=14)\n",
    "plt.xlabel('cluster_E', fontsize=14)\n",
    "plt.ylabel('trackP', fontsize=14)\n",
    "plt.ylim(0,8e3)\n",
    "plt.xlim(-50,2000)\n",
    "# plt.tight_layout()\n",
    "# plt.savefig('Plots/clusterE_trackP_golden_2021-06-03.png', format='png')\n",
    "plt.show()"
   ]
  },
  {
   "cell_type": "code",
   "execution_count": 50,
   "id": "2a533a07-72ac-4766-bd2f-b0b42864cf0c",
   "metadata": {},
   "outputs": [
    {
     "data": {
      "image/png": "[encoded data removed]",
      "text/plain": [
       "<Figure size 432x432 with 1 Axes>"
      ]
     },
     "metadata": {},
     "output_type": "display_data"
    }
   ],
   "source": [
    "fig = plt.figure(figsize=(6,6))\n",
    "fig.patch.set_facecolor('white')\n",
    "plt.scatter(pe_cluster_E, pe_trackP, s=10,edgecolor='black', color='crimson')\n",
    "plt.title('Standard single track \\n cluster energy veto 10%', fontsize=14)\n",
    "plt.xlabel('cluster_E', fontsize=14)\n",
    "plt.ylabel('trackP', fontsize=14)\n",
    "plt.ylim(0,6e3)\n",
    "plt.xlim(0,2000)\n",
    "# plt.tight_layout()\n",
    "# plt.savefig('Plots/clusterE_trackP_platinum_2021-06-03.png', format='png')\n",
    "plt.show()"
   ]
  },
  {
   "cell_type": "code",
   "execution_count": 51,
   "id": "4cd434b0-234f-4ac1-b55d-a75368fc0069",
   "metadata": {},
   "outputs": [
    {
     "data": {
      "image/png": "[encoded data removed]",
      "text/plain": [
       "<Figure size 432x432 with 1 Axes>"
      ]
     },
     "metadata": {},
     "output_type": "display_data"
    }
   ],
   "source": [
    "fig = plt.figure(figsize=(6,6))\n",
    "fig.patch.set_facecolor('white')\n",
    "plt.scatter(ge_cluster_ENG_CALIB_TOT, ge_trackP, s=10, edgecolor='black', color='blue')\n",
    "plt.title('Standard single track \\n cluster matched event', fontsize=14)\n",
    "plt.xlabel('cluster_ENG_CALIB_TOT', fontsize=14)\n",
    "plt.ylabel('trackP', fontsize=14)\n",
    "plt.ylim(0,6e3)\n",
    "plt.xlim(-50,2000)\n",
    "# plt.tight_layout()\n",
    "# plt.savefig('Plots/cluster_ENG_CALIB_TOT_trackP_gold_2021-06-03.png', format='png')\n",
    "plt.show()"
   ]
  },
  {
   "cell_type": "code",
   "execution_count": 52,
   "id": "cfb188aa-7d4f-49c9-baf7-5e93ab7d696c",
   "metadata": {},
   "outputs": [
    {
     "data": {
      "image/png": "[encoded data removed]",
      "text/plain": [
       "<Figure size 432x432 with 1 Axes>"
      ]
     },
     "metadata": {},
     "output_type": "display_data"
    }
   ],
   "source": [
    "fig = plt.figure(figsize=(6,6))\n",
    "fig.patch.set_facecolor('white')\n",
    "plt.scatter(pe_cluster_ENG_CALIB_TOT, pe_trackP, s=10,edgecolor='black', color='crimson')\n",
    "plt.title('Standard single track \\n cluster energy veto 10%', fontsize=14)\n",
    "plt.xlabel('cluster_ENG_CALIB_TOT', fontsize=14)\n",
    "plt.ylabel('trackP', fontsize=14)\n",
    "plt.ylim(0,6e3)\n",
    "plt.xlim(0,2000)\n",
    "# plt.tight_layout()\n",
    "# plt.savefig('Plots/cluster_ENG_CALIB_TOT_trackP_platinum_2021-06-03.png', format='png')\n",
    "plt.show()"
   ]
  },
  {
   "cell_type": "markdown",
   "id": "e72047d5-dc0b-4972-baaf-92df0f5429aa",
   "metadata": {},
   "source": [
    "#### Histograms"
   ]
  },
  {
   "cell_type": "code",
   "execution_count": 77,
   "id": "5e3e4c7d-3534-4721-9315-ab1831b681bf",
   "metadata": {},
   "outputs": [
    {
     "data": {
      "image/png": "[encoded data removed]",
      "text/plain": [
       "<Figure size 432x432 with 1 Axes>"
      ]
     },
     "metadata": {},
     "output_type": "display_data"
    }
   ],
   "source": [
    "fig = plt.figure(figsize=(6,6))\n",
    "fig.patch.set_facecolor('white')\n",
    "plt.hist(ge_cluster_ENG_CALIB_TOT/ge_trackP, bins=40, range=(0,2), edgecolor='black', alpha=.5, color='green',\n",
    "         label='cluster_ENG_CALIB_TOT')\n",
    "plt.hist(ge_cluster_E/ge_trackP, bins=40, range=(0,2), edgecolor='black', alpha=.5, color='orange',\n",
    "         label='cluster_E')\n",
    "plt.title('Standard single track', fontsize=14)\n",
    "plt.legend()\n",
    "plt.xlim(0,2)\n",
    "plt.xlabel('Energy/TrackP')\n",
    "# plt.tight_layout()\n",
    "# plt.savefig('Plots/E_P_hist_gold_2021-06-03.png', format='png')\n",
    "plt.show()"
   ]
  },
  {
   "cell_type": "code",
   "execution_count": 78,
   "id": "c83f5a4e-1e8e-4aad-a3da-50405894daf1",
   "metadata": {},
   "outputs": [
    {
     "data": {
      "image/png": "[encoded data removed]",
      "text/plain": [
       "<Figure size 432x432 with 1 Axes>"
      ]
     },
     "metadata": {},
     "output_type": "display_data"
    }
   ],
   "source": [
    "fig = plt.figure(figsize=(6,6))\n",
    "fig.patch.set_facecolor('white')\n",
    "plt.hist(pe_cluster_ENG_CALIB_TOT/pe_trackP, bins=40, range=(0,2), edgecolor='black', alpha=.5, color='green',\n",
    "         label='cluster_ENG_CALIB_TOT')\n",
    "plt.hist(pe_cluster_E/pe_trackP, bins=40, range=(0,2), edgecolor='black', alpha=.5, color='orange',\n",
    "         label='cluster_E')\n",
    "plt.title('Standard single track, after cluster cuts', fontsize=14)\n",
    "plt.legend()\n",
    "plt.xlim(0,2)\n",
    "plt.xlabel('Energy/TrackP')\n",
    "# plt.tight_layout()\n",
    "# plt.savefig('Plots/E_P_hist_platinum_2021-06-03.png', format='png')\n",
    "plt.show()"
   ]
  },
  {
   "cell_type": "markdown",
   "id": "b157442d-26d2-447e-bae9-e88d3ad14ffc",
   "metadata": {},
   "source": [
    "# Testing Things: Ignore Below"
   ]
  },
  {
   "cell_type": "markdown",
   "id": "ee7658f4-f9bb-445a-b49c-07008e3b50ed",
   "metadata": {},
   "source": [
    "#### This can only mean that there are repeats in cell_geo_ID !?"
   ]
  },
  {
   "cell_type": "code",
   "execution_count": 48,
   "id": "86d595eb-2e26-4a56-9af2-4e3652a88121",
   "metadata": {},
   "outputs": [
    {
     "name": "stdout",
     "output_type": "stream",
     "text": [
      "Length of cell_geo_ID: 187650\n",
      "Number of unique elements: 187650\n"
     ]
    }
   ],
   "source": [
    "cell_geo_ID = geo_dict['cell_geo_ID']\n",
    "print('Length of cell_geo_ID: '+str(len(cell_geo_ID)))\n",
    "_cell_geo_unique = np.unique(cell_geo_ID)\n",
    "print('Number of unique elements: '+str(len(_cell_geo_unique)))"
   ]
  },
  {
   "cell_type": "code",
   "execution_count": 209,
   "id": "5e49b3c1-12cd-4dd2-a493-e7ec08f852e5",
   "metadata": {},
   "outputs": [
    {
     "name": "stdout",
     "output_type": "stream",
     "text": [
      "[0 1 2 3 4 5 6 7]\n",
      "[3 4 2 2 1 5 0 0]\n",
      "[2 5]\n",
      "[0. 1. 1. 0.]\n"
     ]
    }
   ],
   "source": [
    "sorted_arr = np.arange(0,8,1)\n",
    "unsorted_arr = np.array([3,4,2,2,1,5,0,0])\n",
    "print(sorted_arr)\n",
    "print(unsorted_arr)\n",
    "indices = np.ndarray.flatten(np.argwhere(np.asarray(sorted_arr == unsorted_arr)))\n",
    "print(indices)\n",
    "\n",
    "my_mask = np.array([True, False, False, True])\n",
    "my_array = np.ones(4)\n",
    "my_array[my_mask] = 0\n",
    "print(my_array)"
   ]
  },
  {
   "cell_type": "markdown",
   "id": "ee045bf2-4120-423e-b84b-30c986847ddc",
   "metadata": {},
   "source": [
    "### Vectorize cell ID search"
   ]
  },
  {
   "cell_type": "code",
   "execution_count": 28,
   "id": "550cf28b-b8a5-4dd8-948a-4de6ef1ba876",
   "metadata": {},
   "outputs": [],
   "source": [
    "## Build dictionary here"
   ]
  },
  {
   "cell_type": "code",
   "execution_count": 31,
   "id": "70d86dac-8367-4330-bdd9-33f6fff17026",
   "metadata": {},
   "outputs": [
    {
     "name": "stdout",
     "output_type": "stream",
     "text": [
      "Finding: [2 3 4]\n",
      "In: [0 5 9 6 1 7 2 3 8 4]\n"
     ]
    }
   ],
   "source": [
    "def find_index_1D_dict(_values, _dict):\n",
    "    ''' Use a for loop and a dictionary '''\n",
    "    _shape = (len(_values), len(_unsorted))\n",
    "    # convert this to rows \n",
    "    _values_2D_T = np.atleast_2d(_values).transpose()\n",
    "    _unsorted_2d = np.tile(_unsorted, _shape[0]).reshape(_shape)\n",
    "    _idx_vec = np.argmax(np.asarray(_values_2d == _unsorted_2d), axis=1)\n",
    "    return _idx_vec\n",
    "\n",
    "def find_index_1D_pythonic(_values, _unsorted):\n",
    "    ''' pythonic implementation of stacking array '''\n",
    "    # convert this to rows \n",
    "    _values_2D_T = np.atleast_2d(_values).transpose()\n",
    "    _unsorted_2d = [_unsorted]*len(_values)\n",
    "    _idx_vec = np.nonzero(_values_2d_T == _unsorted_2d, axis=0)\n",
    "    return _idx_vec\n",
    "\n",
    "def find_index_1D_tile(_values, _unsorted):\n",
    "    ''' tile and reshape the array '''\n",
    "    # convert this to rows \n",
    "    _values_2D_T = np.atleast_2d(_values).transpose()\n",
    "    print(_values_2D)\n",
    "    _unsorted_2d = np.tile(_unsorted, (len(_values),1))\n",
    "    print(_unsorted_2d)\n",
    "    _idx_vec = np.nonzero(_values_2d_T == _unsorted_2d, axis=0)\n",
    "    print(_idx_vec)\n",
    "    return _idx_vec\n",
    "\n",
    "def find_index_1D_vstack(_values, _unsorted):\n",
    "    ''' use vstack a bunch '''\n",
    "    _shape = (len(_values), len(_unsorted))\n",
    "    # convert this to rows \n",
    "    _values_2D_T = np.atleast_2d(_values).transpose()\n",
    "    _unsorted_2d = np.tile(_unsorted, _shape[0]).reshape(_shape)\n",
    "    _idx_vec = np.argmax(np.asarray(_values_2d == _unsorted_2d), axis=1)\n",
    "    return _idx_vec"
   ]
  },
  {
   "cell_type": "code",
   "execution_count": 33,
   "id": "eb1b5674-dc68-495a-91d0-fb9ea7927dc7",
   "metadata": {},
   "outputs": [
    {
     "name": "stdout",
     "output_type": "stream",
     "text": [
      "shape\n",
      "(3, 10)\n",
      "values_2d\n",
      "[[2 2 2 2 2 2 2 2 2 2]\n",
      " [3 3 3 3 3 3 3 3 3 3]\n",
      " [4 4 4 4 4 4 4 4 4 4]]\n",
      "unsorted_2d\n",
      "[[0 5 9 6 1 7 2 3 8 4]\n",
      " [0 5 9 6 1 7 2 3 8 4]\n",
      " [0 5 9 6 1 7 2 3 8 4]]\n",
      "index vector\n",
      "[[0 6]\n",
      " [1 7]\n",
      " [2 9]]\n",
      "resulting indices\n",
      "[6 7 9]\n"
     ]
    }
   ],
   "source": [
    "my_find = find_index_1D(_tags, unsorted_array)\n",
    "print('resulting indices')\n",
    "print(my_find)"
   ]
  },
  {
   "cell_type": "code",
   "execution_count": 113,
   "id": "a4e756d7-4ab2-4416-8259-bce5cf0c184a",
   "metadata": {},
   "outputs": [
    {
     "name": "stdout",
     "output_type": "stream",
     "text": [
      "[[2 2 2 2 2 2 2 2]\n",
      " [3 3 3 3 3 3 3 3]]\n",
      "[[2 4 5 0 3 6 1 7]\n",
      " [2 4 5 0 3 6 1 7]]\n",
      "[0 4]\n"
     ]
    }
   ],
   "source": [
    "# Create array of ID elements\n",
    "_tags_2d = np.repeat(_tags, repeats=len(unsorted_array)).reshape((len(_tags), len(unsorted_array)))\n",
    "print(_tags_2d)\n",
    "\n",
    "# Create stacked list of what to compare to\n",
    "unsorted_2d = np.tile(unsorted_array, reps=len(_tags)).reshape((len(_tags), len(unsorted_array)))\n",
    "print(unsorted_2d)\n",
    "\n",
    "# now use comparison\n",
    "idx_vect = np.argwhere(np.asarray( _tags_2d == unsorted_2d ))[:,1]\n",
    "print(idx_vect)"
   ]
  },
  {
   "cell_type": "code",
   "execution_count": 85,
   "id": "65cafea6-62a9-4d73-9ce0-6b03105d4a26",
   "metadata": {},
   "outputs": [
    {
     "ename": "ValueError",
     "evalue": "cannot reshape array of size 2 into shape (2,2)",
     "output_type": "error",
     "traceback": [
      "\u001b[0;31m---------------------------------------------------------------------------\u001b[0m",
      "\u001b[0;31mValueError\u001b[0m                                Traceback (most recent call last)",
      "\u001b[0;32m<ipython-input-85-ed9ecadbeeb3>\u001b[0m in \u001b[0;36m<module>\u001b[0;34m\u001b[0m\n\u001b[0;32m----> 1\u001b[0;31m \u001b[0mtags_tiled\u001b[0m \u001b[0;34m=\u001b[0m \u001b[0m_tags\u001b[0m\u001b[0;34m.\u001b[0m\u001b[0mreshape\u001b[0m\u001b[0;34m(\u001b[0m\u001b[0;34m(\u001b[0m\u001b[0mlen\u001b[0m\u001b[0;34m(\u001b[0m\u001b[0m_tags\u001b[0m\u001b[0;34m)\u001b[0m\u001b[0;34m,\u001b[0m\u001b[0;36m2\u001b[0m\u001b[0;34m)\u001b[0m\u001b[0;34m)\u001b[0m\u001b[0;34m\u001b[0m\u001b[0;34m\u001b[0m\u001b[0m\n\u001b[0m\u001b[1;32m      2\u001b[0m \u001b[0mtags_tiled\u001b[0m \u001b[0;34m=\u001b[0m \u001b[0mnp\u001b[0m\u001b[0;34m.\u001b[0m\u001b[0mrepeat\u001b[0m\u001b[0;34m(\u001b[0m\u001b[0m_tags\u001b[0m\u001b[0;34m,\u001b[0m \u001b[0mrepeats\u001b[0m\u001b[0;34m=\u001b[0m\u001b[0mlen\u001b[0m\u001b[0;34m(\u001b[0m\u001b[0munsorted_array\u001b[0m\u001b[0;34m)\u001b[0m\u001b[0;34m,\u001b[0m \u001b[0maxis\u001b[0m\u001b[0;34m=\u001b[0m\u001b[0;36m1\u001b[0m\u001b[0;34m)\u001b[0m\u001b[0;34m\u001b[0m\u001b[0;34m\u001b[0m\u001b[0m\n\u001b[1;32m      3\u001b[0m \u001b[0munsorted_tiled\u001b[0m \u001b[0;34m=\u001b[0m \u001b[0mnp\u001b[0m\u001b[0;34m.\u001b[0m\u001b[0mtile\u001b[0m\u001b[0;34m(\u001b[0m\u001b[0munsorted_array\u001b[0m\u001b[0;34m,\u001b[0m \u001b[0mlen\u001b[0m\u001b[0;34m(\u001b[0m\u001b[0m_tags\u001b[0m\u001b[0;34m)\u001b[0m\u001b[0;34m)\u001b[0m\u001b[0;34m\u001b[0m\u001b[0;34m\u001b[0m\u001b[0m\n\u001b[1;32m      4\u001b[0m \u001b[0mprint\u001b[0m\u001b[0;34m(\u001b[0m\u001b[0;34m'Tags:'\u001b[0m\u001b[0;34m)\u001b[0m\u001b[0;34m\u001b[0m\u001b[0;34m\u001b[0m\u001b[0m\n\u001b[1;32m      5\u001b[0m \u001b[0mprint\u001b[0m\u001b[0;34m(\u001b[0m\u001b[0mtags_tiled\u001b[0m\u001b[0;34m)\u001b[0m\u001b[0;34m\u001b[0m\u001b[0;34m\u001b[0m\u001b[0m\n",
      "\u001b[0;31mValueError\u001b[0m: cannot reshape array of size 2 into shape (2,2)"
     ]
    }
   ],
   "source": [
    "\n",
    "unsorted_tiled = np.tile(unsorted_array, len(_tags))\n",
    "print('Tags:')\n",
    "print(tags_tiled)\n",
    "print('Unsorted array')\n",
    "print(unsorted_array)"
   ]
  },
  {
   "cell_type": "markdown",
   "id": "36396800-cc51-4d71-b36c-333542660d13",
   "metadata": {},
   "source": [
    "##### Using np.where()"
   ]
  },
  {
   "cell_type": "code",
   "execution_count": 75,
   "id": "1a523988-e121-4157-85ba-c20dfc43ae77",
   "metadata": {},
   "outputs": [
    {
     "name": "stdout",
     "output_type": "stream",
     "text": [
      "(array([], dtype=int64),)\n"
     ]
    },
    {
     "name": "stderr",
     "output_type": "stream",
     "text": [
      "<ipython-input-75-379848478688>:1: DeprecationWarning: elementwise comparison failed; this will raise an error in the future.\n",
      "  _tag_mask = np.where(unsorted_array == _tags)\n"
     ]
    }
   ],
   "source": [
    "_tag_mask = np.where(unsorted_array == _tags)\n",
    "print(_tag_mask)"
   ]
  },
  {
   "cell_type": "markdown",
   "id": "99ee398f-4d3f-4157-ba63-00e66ba8195a",
   "metadata": {},
   "source": [
    "##### Using argwhere"
   ]
  },
  {
   "cell_type": "code",
   "execution_count": 78,
   "id": "ed017dcb-1d26-4b73-b95a-d81f1f2c9c07",
   "metadata": {},
   "outputs": [
    {
     "name": "stdout",
     "output_type": "stream",
     "text": [
      "[]\n"
     ]
    },
    {
     "name": "stderr",
     "output_type": "stream",
     "text": [
      "<ipython-input-78-866f63f4dfa9>:1: DeprecationWarning: elementwise comparison failed; this will raise an error in the future.\n",
      "  indices = np.ndarray.flatten(np.argwhere(np.asarray(unsorted_array == _tags)))\n"
     ]
    }
   ],
   "source": [
    "indices = np.ndarray.flatten(np.argwhere(np.asarray(unsorted_array == _tags)))\n",
    "print(indices)"
   ]
  },
  {
   "cell_type": "markdown",
   "id": "551b9a4b-dbb2-45e9-a626-18437bc9f4da",
   "metadata": {},
   "source": [
    "##### Check this speed against dictionaries"
   ]
  },
  {
   "cell_type": "code",
   "execution_count": 71,
   "id": "3e5d2a30-a821-415f-a490-64f21f1e146a",
   "metadata": {},
   "outputs": [
    {
     "name": "stdout",
     "output_type": "stream",
     "text": [
      "740294656\n",
      "740294658\n",
      "740294660\n",
      "740294662\n",
      "740294664\n",
      "740294666\n",
      "For element 740294660 this produces index: 2\n"
     ]
    }
   ],
   "source": [
    "cellGeoDict = {}\n",
    "_tag_idx = 0\n",
    "for _cell_tag in geo_dict['cell_geo_ID'][0:10]:\n",
    "    if _tag_idx <= 5:\n",
    "        print(_cell_tag)\n",
    "    cellGeoDict[_cell_tag] = _tag_idx\n",
    "    _tag_idx += 1\n",
    "\n",
    "# 740294660 this should be index three\n",
    "print('For element 740294660 this produces index: '+str(cellGeoDict[740294660]))"
   ]
  }
 ],
 "metadata": {
  "kernelspec": {
   "display_name": "Python 3 (ipykernel)",
   "language": "python",
   "name": "python3"
  },
  "language_info": {
   "codemirror_mode": {
    "name": "ipython",
    "version": 3
   },
   "file_extension": ".py",
   "mimetype": "text/x-python",
   "name": "python",
   "nbconvert_exporter": "python",
   "pygments_lexer": "ipython3",
   "version": "3.8.10"
  }
 },
 "nbformat": 4,
 "nbformat_minor": 5
}
