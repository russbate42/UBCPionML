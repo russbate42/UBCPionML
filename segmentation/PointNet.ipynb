{
 "cells": [
  {
   "cell_type": "markdown",
   "id": "1f2f96eb-5e82-4e2c-8ede-ef374064b411",
   "metadata": {},
   "source": [
    "# PointNet Implementation\n",
    "## for Semantic Segmentation"
   ]
  },
  {
   "cell_type": "code",
   "execution_count": 1,
   "id": "bdff8187-00bf-4333-8af7-4d52f6af7501",
   "metadata": {},
   "outputs": [],
   "source": [
    "import numpy as np\n",
    "import matplotlib.pyplot as plt\n",
    "from matplotlib import cm\n",
    "from matplotlib.colors import Normalize\n",
    "from matplotlib.colors import LogNorm\n",
    "import time as t\n",
    "import scipy.constants as spc\n",
    "import matplotlib.ticker as ticker\n",
    "\n",
    "import sys\n",
    "sys.path.append('/home/russbate/MLPionCollaboration/LCStudies/')\n",
    "from util import resolution_util as ru\n",
    "from util import plot_util as pu\n",
    "from util import deep_set_util as dsu\n",
    "\n",
    "plotpath = '/home/russbate/MLPionCollaboration/LCStudies/segmentation/Plots/October/'"
   ]
  },
  {
   "cell_type": "markdown",
   "id": "6ab46c04-4874-4560-b826-4f726f2f3a53",
   "metadata": {},
   "source": [
    "## Declare GPUs and Import TensorFlow"
   ]
  },
  {
   "cell_type": "code",
   "execution_count": 2,
   "id": "abe0a3c2-5b59-4583-9f3f-bbd00ba8b2dd",
   "metadata": {},
   "outputs": [],
   "source": [
    "import os\n",
    "os.environ['CUDA_VISIBLE_DEVICES'] = \"4\"\n",
    "os.environ['TF_FORCE_GPU_ALLOW_GROWTH'] = 'true'\n",
    "os.environ['TF_GPU_ALLOCATOR']='cuda_malloc_async'\n",
    "\n",
    "import tensorflow as tf\n",
    "from tensorflow.python.client import device_lib\n",
    "\n",
    "# def get_available_gpus():\n",
    "#     local_device_protos = device_lib.list_local_devices()\n",
    "#     return [x.name for x in local_device_protos if x.device_type == 'GPU']\n",
    "\n",
    "# get_available_gpus()"
   ]
  },
  {
   "cell_type": "markdown",
   "id": "e4493b1f-ca03-481c-8aed-13d5a80bf0d6",
   "metadata": {},
   "source": [
    "## Load Models for PointNet\n",
    " - [ ] Add working models as bench marks into python scrips and import below"
   ]
  },
  {
   "cell_type": "code",
   "execution_count": 3,
   "id": "0d6647bd-81eb-476f-b7d5-2f1126a2cf4f",
   "metadata": {},
   "outputs": [],
   "source": [
    "from segmentation import PointNet_models"
   ]
  },
  {
   "cell_type": "markdown",
   "id": "ac7f3593-9c8e-4038-b174-073b91b1c31f",
   "metadata": {},
   "source": [
    "## Load Data\n",
    "### X = [Energy, Eta, Phi, rPerp]\n",
    "### Y = [EM Energy, non EM Energy]"
   ]
  },
  {
   "cell_type": "code",
   "execution_count": 4,
   "id": "e8c13771-b239-4c4b-8cd4-001dddde5b71",
   "metadata": {},
   "outputs": [
    {
     "name": "stdout",
     "output_type": "stream",
     "text": [
      "(2550, 1078, 4)\n",
      "(2550, 1078, 2)\n",
      "(2550, 1078)\n",
      "527667\n",
      "Time to load memory mapped data: 0.0722811222076416 (s)\n"
     ]
    }
   ],
   "source": [
    "t0 = t.time()\n",
    "Xraw = np.load('/data/atlas/rbate/Rho_X_4_files.npy', mmap_mode='r')[:,:,:]\n",
    "Yraw = np.load('/data/atlas/rbate/Rho_Y_4_files.npy', mmap_mode='r')[:,:,:]\n",
    "print(Xraw.shape)\n",
    "print(Yraw.shape)\n",
    "\n",
    "X = np.lib.format.open_memmap('/data/atlas/rbate/XR_notebook.npy',\n",
    "                             mode='w+', dtype=np.float64, shape=(Xraw.shape[0], Xraw.shape[1], Xraw.shape[2]))\n",
    "\n",
    "Y = np.lib.format.open_memmap('/data/atlas/rbate/YR_notebook.npy',\n",
    "                             mode='w+', dtype=np.float64, shape=(Yraw.shape[0], Yraw.shape[1], Yraw.shape[2]))\n",
    "np.copyto(dst=Y, src=Yraw[:,:,:], casting='same_kind', where=True)\n",
    "t1 = t.time()\n",
    "\n",
    "Energy_EM = np.ndarray.copy(Yraw[:,:,0])\n",
    "Energy_nonEM = np.ndarray.copy(Yraw[:,:,1])\n",
    "nz_mask = (Energy_EM + Energy_nonEM) != 0\n",
    "\n",
    "print(np.shape(nz_mask))\n",
    "print(np.count_nonzero(nz_mask))\n",
    "\n",
    "# Make sure that non-zero elements are copied as zeros due to mis-match\n",
    "np.copyto(dst=X, src=Xraw, casting='same_kind', where=True)\n",
    "X[np.invert(nz_mask),:] = 0\n",
    "\n",
    "print('Time to load memory mapped data: '+str(t1-t0)+' (s)')"
   ]
  },
  {
   "cell_type": "markdown",
   "id": "3e39c5f5-0ed3-431e-be7c-7dcb0796e9a6",
   "metadata": {},
   "source": [
    "## Create Categorization Labels\n",
    "Still don't know what to do with the mismatch between truth and reported cells"
   ]
  },
  {
   "cell_type": "code",
   "execution_count": 5,
   "id": "269049c0-e9b8-4e1d-b0c3-be5e68ae77f4",
   "metadata": {},
   "outputs": [
    {
     "name": "stdout",
     "output_type": "stream",
     "text": [
      "Number EM: 389638\n",
      "Number NON-EM: 18871\n",
      "Number MIX: 2340391\n"
     ]
    }
   ],
   "source": [
    "EM = np.full(nz_mask.shape, np.nan)\n",
    "nonEM = np.full(nz_mask.shape, np.nan)\n",
    "target_ratio = np.full((nz_mask.shape), np.nan)\n",
    "\n",
    "EM[nz_mask] = np.ndarray.copy(Yraw[nz_mask,0])\n",
    "nonEM[nz_mask] = np.ndarray.copy(Yraw[nz_mask,1])\n",
    "\n",
    "target_labels = np.full((nz_mask.shape[0],nz_mask.shape[1],3), 0)\n",
    "target_ratio[nz_mask] = EM[nz_mask] / (EM[nz_mask] + nonEM[nz_mask])\n",
    "\n",
    "em_mask = target_ratio > .8\n",
    "nonem_mask = target_ratio < .2\n",
    "mix_mask = np.invert(np.logical_or(em_mask, nonem_mask))\n",
    "\n",
    "target_labels[em_mask,0] = 1\n",
    "target_labels[mix_mask,1] = 1\n",
    "target_labels[nonem_mask,2] = 1\n",
    "\n",
    "print('Number EM: '+str(np.count_nonzero(em_mask)))\n",
    "print('Number NON-EM: '+str(np.count_nonzero(nonem_mask)))\n",
    "print('Number MIX: '+str(np.count_nonzero(mix_mask)))\n",
    "\n",
    "# change the pointer for Y to the target labels\n",
    "Y = target_labels"
   ]
  },
  {
   "cell_type": "markdown",
   "id": "8bc08711-bfd8-43bb-96f8-db34edc39693",
   "metadata": {},
   "source": [
    "#### Troubleshooting step:\n",
    " - [x] Make sure that target ratio and inputs have no nan values\n",
    " - [x] make sure that the X array is using the nz_mask so there are no mis-matches\n",
    "   - This seems to be the problem, the mis-matches between values were yielding nans in the training!"
   ]
  },
  {
   "cell_type": "markdown",
   "id": "fe37d3ae-db1f-4d4c-8398-b20435b227e7",
   "metadata": {},
   "source": [
    "## Point Normalization\n",
    " - [x] Convert to x,y,z\n",
    " - [x] Investigate Inputs (Rho_Pre-processing.ipynb)\n",
    " - [ ] Speed up the normalization process!"
   ]
  },
  {
   "cell_type": "code",
   "execution_count": 6,
   "id": "e6f8c046-73c7-4dd2-af08-31589f7b782e",
   "metadata": {},
   "outputs": [
    {
     "name": "stdout",
     "output_type": "stream",
     "text": [
      "(527667, 3)\n",
      "Time to convert to xyz: 0.16160106658935547 (s)\n",
      "Time to normalize: 0.09522557258605957 (s)\n",
      "Total time: 0.25682663917541504 (s)\n",
      "Target shape: (2550, 1078, 3)\n",
      "Input shape: (2550, 1078, 4)\n"
     ]
    }
   ],
   "source": [
    "print(X[nz_mask, :3].shape)\n",
    "\n",
    "t0 = t.time()\n",
    "X[:,:,1:4] = dsu.to_xyz(np.ndarray.copy(Xraw[:,:,1:4]), nz_mask)\n",
    "t1 = t.time()\n",
    "\n",
    "## ENERGY ##\n",
    "log_E_mask = Xraw[:,:,0] > 0\n",
    "X[log_E_mask,0] = np.log(np.ndarray.copy(Xraw[log_E_mask,0]))\n",
    "\n",
    "## X ##\n",
    "X[:,:,1] = X[:,:,1]/3000\n",
    "\n",
    "## Y ##\n",
    "X[:,:,2] = X[:,:,2]/1000\n",
    "\n",
    "## Z ##\n",
    "X[:,:,3] = X[:,:,3]/1000\n",
    "t2 = t.time()\n",
    "\n",
    "print('Time to convert to xyz: '+str(t1-t0)+' (s)')\n",
    "print('Time to normalize: '+str(t2-t1)+' (s)')\n",
    "print('Total time: '+str(t2-t0)+' (s)')\n",
    "print('Target shape: '+str(Y.shape))\n",
    "print('Input shape: '+str(X.shape))"
   ]
  },
  {
   "cell_type": "markdown",
   "id": "ee9ec8ca-0445-4ede-934e-24b3ff61c696",
   "metadata": {},
   "source": [
    "### More Data Pre-Processing\n",
    "Working on solution for points of varying input, this should be taken care of with the max pooling layer"
   ]
  },
  {
   "cell_type": "code",
   "execution_count": 7,
   "id": "15b1f4d9-3d10-465c-a15e-91a41d4f6377",
   "metadata": {},
   "outputs": [],
   "source": [
    "NUM_POINTS = X.shape[1]\n",
    "NUM_CLASSES = 3"
   ]
  },
  {
   "cell_type": "markdown",
   "id": "eed83db9-d573-426e-a4e4-5ed15faacd22",
   "metadata": {},
   "source": [
    "## Build Model"
   ]
  },
  {
   "cell_type": "markdown",
   "id": "c19c4538-8bac-4120-988f-21c3a6b74ac9",
   "metadata": {},
   "source": [
    "## Model with NxK Outputs"
   ]
  },
  {
   "cell_type": "code",
   "execution_count": 8,
   "id": "d5d016de-de57-4dee-b353-0d50877462bd",
   "metadata": {},
   "outputs": [],
   "source": [
    "import tensorflow as tf\n",
    "from tensorflow import keras\n",
    "from tensorflow.keras import layers\n",
    "\n",
    "def conv_block(x, filters: int, name: str):\n",
    "    x = layers.Conv1D(filters, kernel_size=1, padding=\"valid\", name=f\"{name}_conv\")(x)\n",
    "    x = layers.BatchNormalization(momentum=0.0, name=f\"{name}_batch_norm\")(x)\n",
    "    return layers.Activation(\"relu\", name=f\"{name}_relu\")(x)\n",
    "\n",
    "def mlp_block(x: tf.Tensor, size: int, name: str):\n",
    "    x = layers.Dense(size, name=f\"{name}_dense\")(x)\n",
    "    x = layers.BatchNormalization(momentum=0.0, name=f\"{name}_batch_norm\")(x)\n",
    "    return layers.Activation(\"relu\", name=f\"{name}_relu\")(x)\n",
    "\n",
    "class OrthogonalRegularizer(keras.regularizers.Regularizer):\n",
    "    \"\"\"Reference: https://keras.io/examples/vision/pointnet/#build-a-model\"\"\"\n",
    "\n",
    "    def __init__(self, num_features, l2reg=0.001):\n",
    "        self.num_features = num_features\n",
    "        self.l2reg = l2reg\n",
    "        self.identity = tf.eye(num_features)\n",
    "\n",
    "    def __call__(self, x):\n",
    "        x = tf.reshape(x, (-1, self.num_features, self.num_features))\n",
    "        xxt = tf.tensordot(x, x, axes=(2, 2))\n",
    "        xxt = tf.reshape(xxt, (-1, self.num_features, self.num_features))\n",
    "        return tf.reduce_sum(self.l2reg * tf.square(xxt - self.identity))\n",
    "\n",
    "    def get_config(self):\n",
    "        config = super(TransformerEncoder, self).get_config()\n",
    "        config.update({\"num_features\": self.num_features, \"l2reg_strength\": self.l2reg})\n",
    "        return config\n",
    "    \n",
    "def Tnet(inputs, num_features: int, name: str):\n",
    "    x = conv_block(inputs, filters=32, name=f\"{name}_1\")\n",
    "    x = conv_block(x, filters=64, name=f\"{name}_2\")\n",
    "    x = conv_block(x, filters=512, name=f\"{name}_3\")\n",
    "    x = layers.GlobalMaxPooling1D()(x)\n",
    "    x = mlp_block(x, size=256, name=f\"{name}_1_1\")\n",
    "    x = mlp_block(x, size=128, name=f\"{name}_2_1\")\n",
    "    return layers.Dense(\n",
    "        num_features * num_features,\n",
    "        kernel_initializer=\"zeros\",\n",
    "        bias_initializer=keras.initializers.Constant(np.eye(num_features).flatten()),\n",
    "        activity_regularizer=OrthogonalRegularizer(num_features),\n",
    "        name=f\"{name}_final\",\n",
    "    )(x)\n",
    "\n",
    "\n",
    "def T_block(inputs: tf.Tensor, num_features: int, name: str) -> tf.Tensor:\n",
    "    transformed_features = Tnet(inputs, num_features, name=name)\n",
    "    transformed_features = layers.Reshape((num_features, num_features))(\n",
    "        transformed_features\n",
    "    )\n",
    "    return layers.Dot(axes=(2, 1), name=f\"{name}_mm\")([inputs, transformed_features])"
   ]
  },
  {
   "cell_type": "code",
   "execution_count": 45,
   "id": "3af123c7-af4e-430b-9575-3b1bf7423298",
   "metadata": {},
   "outputs": [],
   "source": [
    "class keras_PointNet_segmentation:\n",
    "    \n",
    "    def __init__(self, num_points=None, num_features=4, num_classes=3) -> keras.Model:\n",
    "        \n",
    "        self.num_points = num_points\n",
    "        self.num_classes = num_classes\n",
    "        self.num_features = num_features\n",
    "        self.model = None\n",
    "        \n",
    "    def build(self):\n",
    "        \n",
    "        input_points = keras.Input(shape=(self.num_points, self.num_features))\n",
    "        \n",
    "        # Masking Section\n",
    "        masked_input = layers.Masking(mask_value=0.0)(input_points)\n",
    "\n",
    "        # PointNet Classification Network.\n",
    "        transformed_inputs = T_block(\n",
    "            masked_input, num_features=self.num_features, name=\"inf_transf_block\"\n",
    "        )\n",
    "        \n",
    "        features_32_1= mlp_block(transformed_inputs, size=64, name=\"features_32_1\")\n",
    "        features_32_2 = mlp_block(features_32_1, size=64, name=\"features_32_2\")\n",
    "        \n",
    "        transformed_features = T_block(\n",
    "            features_32_2, num_features=64, name=\"transformed_features\"\n",
    "        )\n",
    "        \n",
    "        mlp_64 = mlp_block(transformed_features, size=64, name=\"mlp_64\")\n",
    "        mlp_128 = mlp_block(mlp_64, size=128, name=\"mlp_128\")\n",
    "        mlp_1024 = mlp_block(mlp_128, size=1024, name=\"mlp_1024\")\n",
    "        \n",
    "        # make sure this is on the correct axis!!!\n",
    "        global_features = layers.MaxPool1D(pool_size=self.num_points, name=\"global_features\")(\n",
    "            mlp_1024\n",
    "        )\n",
    "        \n",
    "        # okay tile in order to concatenate, this basically means repeats\n",
    "        global_features = tf.tile(global_features, [1, self.num_points, 1])\n",
    "\n",
    "        # SEGMENTATION INPUT TENSOR\n",
    "        segmentation_input = layers.Concatenate(name=\"segm_input\")(\n",
    "            [transformed_features, global_features]\n",
    "        )\n",
    "        \n",
    "        ## SEGMENTATION MLP STAGR\n",
    "        segmentation_1 = mlp_block(segmentation_input, size=512, name=\"segm_1\")\n",
    "        segmentation_2 = mlp_block(segmentation_1, size=256, name=\"segm_2\")\n",
    "        segmentation_3 = mlp_block(segmentation_2, size=128, name=\"segm_3\")\n",
    "        \n",
    "        \n",
    "        outputs = layers.Dense(3, activation=\"softmax\", name=\"segm_tail\"\n",
    "        )(segmentation_3)\n",
    "        \n",
    "        self.model = keras.Model(inputs=input_points, outputs=outputs)\n",
    "        return self.model"
   ]
  },
  {
   "cell_type": "code",
   "execution_count": 46,
   "id": "3d31e245-8529-4676-a593-ed7c6b807ec0",
   "metadata": {
    "scrolled": true,
    "tags": []
   },
   "outputs": [
    {
     "name": "stdout",
     "output_type": "stream",
     "text": [
      "Model: \"model_3\"\n",
      "__________________________________________________________________________________________________\n",
      "Layer (type)                    Output Shape         Param #     Connected to                     \n",
      "==================================================================================================\n",
      "input_5 (InputLayer)            [(None, 1078, 4)]    0                                            \n",
      "__________________________________________________________________________________________________\n",
      "masking_4 (Masking)             (None, 1078, 4)      0           input_5[0][0]                    \n",
      "__________________________________________________________________________________________________\n",
      "inf_transf_block_1_conv (Conv1D (None, 1078, 32)     160         masking_4[0][0]                  \n",
      "__________________________________________________________________________________________________\n",
      "inf_transf_block_1_batch_norm ( (None, 1078, 32)     128         inf_transf_block_1_conv[0][0]    \n",
      "__________________________________________________________________________________________________\n",
      "inf_transf_block_1_relu (Activa (None, 1078, 32)     0           inf_transf_block_1_batch_norm[0][\n",
      "__________________________________________________________________________________________________\n",
      "inf_transf_block_2_conv (Conv1D (None, 1078, 64)     2112        inf_transf_block_1_relu[0][0]    \n",
      "__________________________________________________________________________________________________\n",
      "inf_transf_block_2_batch_norm ( (None, 1078, 64)     256         inf_transf_block_2_conv[0][0]    \n",
      "__________________________________________________________________________________________________\n",
      "inf_transf_block_2_relu (Activa (None, 1078, 64)     0           inf_transf_block_2_batch_norm[0][\n",
      "__________________________________________________________________________________________________\n",
      "inf_transf_block_3_conv (Conv1D (None, 1078, 512)    33280       inf_transf_block_2_relu[0][0]    \n",
      "__________________________________________________________________________________________________\n",
      "inf_transf_block_3_batch_norm ( (None, 1078, 512)    2048        inf_transf_block_3_conv[0][0]    \n",
      "__________________________________________________________________________________________________\n",
      "inf_transf_block_3_relu (Activa (None, 1078, 512)    0           inf_transf_block_3_batch_norm[0][\n",
      "__________________________________________________________________________________________________\n",
      "global_max_pooling1d_6 (GlobalM (None, 512)          0           inf_transf_block_3_relu[0][0]    \n",
      "__________________________________________________________________________________________________\n",
      "inf_transf_block_1_1_dense (Den (None, 256)          131328      global_max_pooling1d_6[0][0]     \n",
      "__________________________________________________________________________________________________\n",
      "inf_transf_block_1_1_batch_norm (None, 256)          1024        inf_transf_block_1_1_dense[0][0] \n",
      "__________________________________________________________________________________________________\n",
      "inf_transf_block_1_1_relu (Acti (None, 256)          0           inf_transf_block_1_1_batch_norm[0\n",
      "__________________________________________________________________________________________________\n",
      "inf_transf_block_2_1_dense (Den (None, 128)          32896       inf_transf_block_1_1_relu[0][0]  \n",
      "__________________________________________________________________________________________________\n",
      "inf_transf_block_2_1_batch_norm (None, 128)          512         inf_transf_block_2_1_dense[0][0] \n",
      "__________________________________________________________________________________________________\n",
      "inf_transf_block_2_1_relu (Acti (None, 128)          0           inf_transf_block_2_1_batch_norm[0\n",
      "__________________________________________________________________________________________________\n",
      "inf_transf_block_final (Dense)  (None, 16)           2064        inf_transf_block_2_1_relu[0][0]  \n",
      "__________________________________________________________________________________________________\n",
      "reshape_6 (Reshape)             (None, 4, 4)         0           inf_transf_block_final[0][0]     \n",
      "__________________________________________________________________________________________________\n",
      "inf_transf_block_mm (Dot)       (None, 1078, 4)      0           masking_4[0][0]                  \n",
      "                                                                 reshape_6[0][0]                  \n",
      "__________________________________________________________________________________________________\n",
      "features_32_1_dense (Dense)     (None, 1078, 64)     320         inf_transf_block_mm[0][0]        \n",
      "__________________________________________________________________________________________________\n",
      "features_32_1_batch_norm (Batch (None, 1078, 64)     256         features_32_1_dense[0][0]        \n",
      "__________________________________________________________________________________________________\n",
      "features_32_1_relu (Activation) (None, 1078, 64)     0           features_32_1_batch_norm[0][0]   \n",
      "__________________________________________________________________________________________________\n",
      "features_32_2_dense (Dense)     (None, 1078, 64)     4160        features_32_1_relu[0][0]         \n",
      "__________________________________________________________________________________________________\n",
      "features_32_2_batch_norm (Batch (None, 1078, 64)     256         features_32_2_dense[0][0]        \n",
      "__________________________________________________________________________________________________\n",
      "features_32_2_relu (Activation) (None, 1078, 64)     0           features_32_2_batch_norm[0][0]   \n",
      "__________________________________________________________________________________________________\n",
      "transformed_features_1_conv (Co (None, 1078, 32)     2080        features_32_2_relu[0][0]         \n",
      "__________________________________________________________________________________________________\n",
      "transformed_features_1_batch_no (None, 1078, 32)     128         transformed_features_1_conv[0][0]\n",
      "__________________________________________________________________________________________________\n",
      "transformed_features_1_relu (Ac (None, 1078, 32)     0           transformed_features_1_batch_norm\n",
      "__________________________________________________________________________________________________\n",
      "transformed_features_2_conv (Co (None, 1078, 64)     2112        transformed_features_1_relu[0][0]\n",
      "__________________________________________________________________________________________________\n",
      "transformed_features_2_batch_no (None, 1078, 64)     256         transformed_features_2_conv[0][0]\n",
      "__________________________________________________________________________________________________\n",
      "transformed_features_2_relu (Ac (None, 1078, 64)     0           transformed_features_2_batch_norm\n",
      "__________________________________________________________________________________________________\n",
      "transformed_features_3_conv (Co (None, 1078, 512)    33280       transformed_features_2_relu[0][0]\n",
      "__________________________________________________________________________________________________\n",
      "transformed_features_3_batch_no (None, 1078, 512)    2048        transformed_features_3_conv[0][0]\n",
      "__________________________________________________________________________________________________\n",
      "transformed_features_3_relu (Ac (None, 1078, 512)    0           transformed_features_3_batch_norm\n",
      "__________________________________________________________________________________________________\n",
      "global_max_pooling1d_7 (GlobalM (None, 512)          0           transformed_features_3_relu[0][0]\n",
      "__________________________________________________________________________________________________\n",
      "transformed_features_1_1_dense  (None, 256)          131328      global_max_pooling1d_7[0][0]     \n",
      "__________________________________________________________________________________________________\n",
      "transformed_features_1_1_batch_ (None, 256)          1024        transformed_features_1_1_dense[0]\n",
      "__________________________________________________________________________________________________\n",
      "transformed_features_1_1_relu ( (None, 256)          0           transformed_features_1_1_batch_no\n",
      "__________________________________________________________________________________________________\n",
      "transformed_features_2_1_dense  (None, 128)          32896       transformed_features_1_1_relu[0][\n",
      "__________________________________________________________________________________________________\n",
      "transformed_features_2_1_batch_ (None, 128)          512         transformed_features_2_1_dense[0]\n",
      "__________________________________________________________________________________________________\n",
      "transformed_features_2_1_relu ( (None, 128)          0           transformed_features_2_1_batch_no\n",
      "__________________________________________________________________________________________________\n",
      "transformed_features_final (Den (None, 4096)         528384      transformed_features_2_1_relu[0][\n",
      "__________________________________________________________________________________________________\n",
      "reshape_7 (Reshape)             (None, 64, 64)       0           transformed_features_final[0][0] \n",
      "__________________________________________________________________________________________________\n",
      "transformed_features_mm (Dot)   (None, 1078, 64)     0           features_32_2_relu[0][0]         \n",
      "                                                                 reshape_7[0][0]                  \n",
      "__________________________________________________________________________________________________\n",
      "mlp_64_dense (Dense)            (None, 1078, 64)     4160        transformed_features_mm[0][0]    \n",
      "__________________________________________________________________________________________________\n",
      "mlp_64_batch_norm (BatchNormali (None, 1078, 64)     256         mlp_64_dense[0][0]               \n",
      "__________________________________________________________________________________________________\n",
      "mlp_64_relu (Activation)        (None, 1078, 64)     0           mlp_64_batch_norm[0][0]          \n",
      "__________________________________________________________________________________________________\n",
      "mlp_128_dense (Dense)           (None, 1078, 128)    8320        mlp_64_relu[0][0]                \n",
      "__________________________________________________________________________________________________\n",
      "mlp_128_batch_norm (BatchNormal (None, 1078, 128)    512         mlp_128_dense[0][0]              \n",
      "__________________________________________________________________________________________________\n",
      "mlp_128_relu (Activation)       (None, 1078, 128)    0           mlp_128_batch_norm[0][0]         \n",
      "__________________________________________________________________________________________________\n",
      "mlp_1024_dense (Dense)          (None, 1078, 1024)   132096      mlp_128_relu[0][0]               \n",
      "__________________________________________________________________________________________________\n",
      "mlp_1024_batch_norm (BatchNorma (None, 1078, 1024)   4096        mlp_1024_dense[0][0]             \n",
      "__________________________________________________________________________________________________\n",
      "mlp_1024_relu (Activation)      (None, 1078, 1024)   0           mlp_1024_batch_norm[0][0]        \n",
      "__________________________________________________________________________________________________\n",
      "global_features (MaxPooling1D)  (None, 1, 1024)      0           mlp_1024_relu[0][0]              \n",
      "__________________________________________________________________________________________________\n",
      "tf.tile_3 (TFOpLambda)          (None, 1078, 1024)   0           global_features[0][0]            \n",
      "__________________________________________________________________________________________________\n",
      "segm_input (Concatenate)        (None, 1078, 1088)   0           transformed_features_mm[0][0]    \n",
      "                                                                 tf.tile_3[0][0]                  \n",
      "__________________________________________________________________________________________________\n",
      "segm_1_dense (Dense)            (None, 1078, 512)    557568      segm_input[0][0]                 \n",
      "__________________________________________________________________________________________________\n",
      "segm_1_batch_norm (BatchNormali (None, 1078, 512)    2048        segm_1_dense[0][0]               \n",
      "__________________________________________________________________________________________________\n",
      "segm_1_relu (Activation)        (None, 1078, 512)    0           segm_1_batch_norm[0][0]          \n",
      "__________________________________________________________________________________________________\n",
      "segm_2_dense (Dense)            (None, 1078, 256)    131328      segm_1_relu[0][0]                \n",
      "__________________________________________________________________________________________________\n",
      "segm_2_batch_norm (BatchNormali (None, 1078, 256)    1024        segm_2_dense[0][0]               \n",
      "__________________________________________________________________________________________________\n",
      "segm_2_relu (Activation)        (None, 1078, 256)    0           segm_2_batch_norm[0][0]          \n",
      "__________________________________________________________________________________________________\n",
      "segm_3_dense (Dense)            (None, 1078, 128)    32896       segm_2_relu[0][0]                \n",
      "__________________________________________________________________________________________________\n",
      "segm_3_batch_norm (BatchNormali (None, 1078, 128)    512         segm_3_dense[0][0]               \n",
      "__________________________________________________________________________________________________\n",
      "segm_3_relu (Activation)        (None, 1078, 128)    0           segm_3_batch_norm[0][0]          \n",
      "__________________________________________________________________________________________________\n",
      "segm_tail (Dense)               (None, 1078, 3)      387         segm_3_relu[0][0]                \n",
      "==================================================================================================\n",
      "Total params: 1,820,051\n",
      "Trainable params: 1,811,603\n",
      "Non-trainable params: 8,448\n",
      "__________________________________________________________________________________________________\n"
     ]
    }
   ],
   "source": [
    "russ_model = keras_PointNet_segmentation(num_points=NUM_POINTS, num_classes=NUM_CLASSES, num_features=4).build()\n",
    "russ_model.summary()"
   ]
  },
  {
   "cell_type": "markdown",
   "id": "8c687b8d-04e9-45f0-ad95-ffb2e8604983",
   "metadata": {},
   "source": [
    "#### Compile Model"
   ]
  },
  {
   "cell_type": "code",
   "execution_count": 47,
   "id": "e21596d5-272f-42a9-8509-f6b5bb3bb871",
   "metadata": {},
   "outputs": [],
   "source": [
    "point_loss = keras.losses.CategoricalCrossentropy(\n",
    "    from_logits=False,\n",
    "    label_smoothing=0,\n",
    "    reduction=\"auto\",\n",
    "    name=\"categorical_crossentropy\",\n",
    ")\n",
    "\n",
    "point_optimizer = keras.optimizers.Adam(learning_rate=0.005)\n",
    "\n",
    "russ_model.compile(loss=point_loss, optimizer=point_optimizer)"
   ]
  },
  {
   "cell_type": "markdown",
   "id": "15dcfc7b-e86f-43b5-921a-ce8bb08d9ceb",
   "metadata": {},
   "source": [
    "## Set up Datasets and Shuffle"
   ]
  },
  {
   "cell_type": "code",
   "execution_count": 48,
   "id": "771a3058-39ff-4b04-acc6-8e4d628e937a",
   "metadata": {},
   "outputs": [
    {
     "name": "stdout",
     "output_type": "stream",
     "text": [
      "Number of training samples: 1785\n",
      "Number of validation samples: 382\n",
      "Number of test samples: 383\n"
     ]
    }
   ],
   "source": [
    "train_num, val_num, test_num = dsu.tvt_num(X, tvt=(70,15,15))\n",
    "print('Number of training samples: '+str(train_num))\n",
    "print('Number of validation samples: '+str(val_num))\n",
    "print('Number of test samples: '+str(test_num))"
   ]
  },
  {
   "cell_type": "markdown",
   "id": "539885e4-e631-48c1-9773-60f995458ad8",
   "metadata": {},
   "source": [
    "### Using TF DataSets"
   ]
  },
  {
   "cell_type": "code",
   "execution_count": 49,
   "id": "a566ab47-5297-4a47-8c35-4e75a8cf5334",
   "metadata": {},
   "outputs": [],
   "source": [
    "# dataset = tf.data.Dataset.from_tensor_slices((X,Y))\n",
    "\n",
    "# example_dataset = dataset.as_numpy_iterator()\n",
    "# element = example_dataset.next()\n",
    "# Xa, Ya = element\n",
    "\n",
    "# dat_tr = dataset.skip(val_num+test_num)\n",
    "# dat_test = dataset.take(test_num+val_num)\n",
    "# dat_val = dat_test.skip(test_num)\n",
    "# dat_test = dataset.take(test_num)\n",
    "\n",
    "# print(dat_tr.cardinality())\n",
    "# print(dat_test.cardinality())\n",
    "# print(dat_val.cardinality())"
   ]
  },
  {
   "cell_type": "code",
   "execution_count": 50,
   "id": "ee90e8e1-008a-4a5d-8037-020dfef1796a",
   "metadata": {},
   "outputs": [],
   "source": [
    "# Nbatches = int(np.ceil(1785/382))\n",
    "# print(Nbatches)\n",
    "# batch_size=int(np.floor(1785/Nbatches))\n",
    "# print(batch_size)\n",
    "\n",
    "# dat_tr = dat_tr.batch(Nbatches, drop_remainder=True)\n",
    "# dat_val = dat_val.batch(Nbatches, drop_remainder=True)\n",
    "# dat_test = dat_test.batch(Nbatches, drop_remainder=True)"
   ]
  },
  {
   "cell_type": "markdown",
   "id": "d3a53f87-b5fd-4f10-9d53-f540c6182d6f",
   "metadata": {},
   "source": [
    "### Using numpy arrays"
   ]
  },
  {
   "cell_type": "code",
   "execution_count": 51,
   "id": "cac52480-3c97-4c8e-a05b-a56bb8ab4fe1",
   "metadata": {},
   "outputs": [],
   "source": [
    "X_train = np.ndarray.copy(X[:train_num,:,:])\n",
    "Y_train = np.ndarray.copy(Y[:train_num,:,:])\n",
    "\n",
    "X_val = np.ndarray.copy(X[train_num:train_num+val_num,:,:])\n",
    "Y_val = np.ndarray.copy(Y[train_num:train_num+val_num,:,:])\n",
    "\n",
    "X_test = np.ndarray.copy(X[train_num+val_num:,:,:])\n",
    "Y_test = np.ndarray.copy(Y[train_num+val_num:,:,:])"
   ]
  },
  {
   "cell_type": "code",
   "execution_count": 52,
   "id": "b87cedde-34e0-4936-92a2-3d4023653891",
   "metadata": {},
   "outputs": [
    {
     "name": "stdout",
     "output_type": "stream",
     "text": [
      "(1785, 1078, 3)\n",
      "(1785, 1078, 4)\n"
     ]
    }
   ],
   "source": [
    "print(Y_train.shape)\n",
    "print(X_train.shape)"
   ]
  },
  {
   "cell_type": "markdown",
   "id": "836a257d-f705-44c9-8f61-5dfe82035e39",
   "metadata": {},
   "source": [
    "### Train"
   ]
  },
  {
   "cell_type": "code",
   "execution_count": 53,
   "id": "74ac1647-1c4e-462a-a8c3-56f1f9ba26b0",
   "metadata": {},
   "outputs": [],
   "source": [
    "# tf.keras.backend."
   ]
  },
  {
   "cell_type": "code",
   "execution_count": 54,
   "id": "f31d1294-cba9-47f4-85fc-5b5bef90fbcc",
   "metadata": {
    "scrolled": true,
    "tags": []
   },
   "outputs": [
    {
     "name": "stdout",
     "output_type": "stream",
     "text": [
      "Epoch 1/30\n",
      "18/18 [==============================] - 6s 328ms/step - loss: 30.7370 - val_loss: 49.6009\n",
      "Epoch 2/30\n",
      "18/18 [==============================] - 6s 326ms/step - loss: 9.5657 - val_loss: 8.0281\n",
      "Epoch 3/30\n",
      "18/18 [==============================] - 6s 326ms/step - loss: 7.8503 - val_loss: 7.6452\n",
      "Epoch 4/30\n",
      "18/18 [==============================] - 6s 338ms/step - loss: 7.3104 - val_loss: 7.2468\n",
      "Epoch 5/30\n",
      "18/18 [==============================] - 6s 326ms/step - loss: 6.9092 - val_loss: 6.8907\n",
      "Epoch 6/30\n",
      "18/18 [==============================] - 6s 325ms/step - loss: 6.9147 - val_loss: 6.8520\n",
      "Epoch 7/30\n",
      "18/18 [==============================] - 6s 326ms/step - loss: 6.8217 - val_loss: 6.8404\n",
      "Epoch 8/30\n",
      "18/18 [==============================] - 6s 327ms/step - loss: 6.8339 - val_loss: 7.6345\n",
      "Epoch 9/30\n",
      "18/18 [==============================] - 6s 324ms/step - loss: 6.7807 - val_loss: 6.6919\n",
      "Epoch 10/30\n",
      "18/18 [==============================] - 6s 327ms/step - loss: 6.7393 - val_loss: 6.5632\n",
      "Epoch 11/30\n",
      "18/18 [==============================] - 6s 328ms/step - loss: 6.7566 - val_loss: 6.6365\n",
      "Epoch 12/30\n",
      "18/18 [==============================] - 6s 328ms/step - loss: 6.7450 - val_loss: 6.5910\n",
      "Epoch 13/30\n",
      "18/18 [==============================] - 6s 325ms/step - loss: 6.7282 - val_loss: 6.6821\n",
      "Epoch 14/30\n",
      "18/18 [==============================] - 6s 326ms/step - loss: 6.7341 - val_loss: 6.7193\n",
      "Epoch 15/30\n",
      "18/18 [==============================] - 6s 326ms/step - loss: 6.7128 - val_loss: 7.1311\n",
      "Epoch 16/30\n",
      "18/18 [==============================] - 6s 327ms/step - loss: 6.7050 - val_loss: 6.5359\n",
      "Epoch 17/30\n",
      "18/18 [==============================] - 6s 326ms/step - loss: 6.7081 - val_loss: 6.4951\n",
      "Epoch 18/30\n",
      "18/18 [==============================] - 6s 329ms/step - loss: 6.7067 - val_loss: 6.5036\n",
      "Epoch 19/30\n",
      "18/18 [==============================] - 6s 341ms/step - loss: 6.7043 - val_loss: 6.5011\n",
      "Epoch 20/30\n",
      "18/18 [==============================] - 6s 327ms/step - loss: 6.7028 - val_loss: 6.4975\n",
      "Epoch 21/30\n",
      "18/18 [==============================] - 6s 327ms/step - loss: 6.7009 - val_loss: 6.7801\n",
      "Epoch 22/30\n",
      "18/18 [==============================] - 6s 327ms/step - loss: 6.7045 - val_loss: 23.5503\n",
      "Epoch 23/30\n",
      "18/18 [==============================] - 6s 327ms/step - loss: 6.7003 - val_loss: 6.6049\n",
      "Epoch 24/30\n",
      "18/18 [==============================] - 6s 327ms/step - loss: 6.7044 - val_loss: 6.5189\n",
      "Epoch 25/30\n",
      "18/18 [==============================] - 6s 327ms/step - loss: 6.7249 - val_loss: 16.2214\n",
      "Epoch 26/30\n",
      "18/18 [==============================] - 6s 327ms/step - loss: 6.7145 - val_loss: 6.5398\n",
      "Epoch 27/30\n",
      "18/18 [==============================] - 6s 327ms/step - loss: 6.7084 - val_loss: 7.3957\n",
      "Epoch 28/30\n",
      "18/18 [==============================] - 6s 325ms/step - loss: 6.6977 - val_loss: 6.5694\n",
      "Epoch 29/30\n",
      "18/18 [==============================] - 6s 325ms/step - loss: 6.7009 - val_loss: 11.0997\n",
      "Epoch 30/30\n",
      "18/18 [==============================] - 6s 327ms/step - loss: 6.6968 - val_loss: 11.2305\n"
     ]
    }
   ],
   "source": [
    "history_2 = russ_model.fit(x=X_train, y=Y_train,\n",
    "                           epochs=30,\n",
    "                           batch_size=100,\n",
    "                           validation_data=(X_val, Y_val),\n",
    "                           verbose=1)"
   ]
  },
  {
   "cell_type": "code",
   "execution_count": 57,
   "id": "7e80dd3d-a455-4d01-80cf-f7fef84a609e",
   "metadata": {},
   "outputs": [
    {
     "data": {
      "image/png": "[encoded data removed]",
      "text/plain": [
       "<Figure size 576x432 with 1 Axes>"
      ]
     },
     "metadata": {},
     "output_type": "display_data"
    }
   ],
   "source": [
    "yrange = 15\n",
    "xrange = len(history_2.history['loss'])-1\n",
    "# yticks = [y for y in np.arange(2-np.log10(2), yrange, np.log10(2))]\n",
    "# ylabels = ['{:3.1f}'.format(num) for num in yticks]\n",
    "# print(ylabels)\n",
    "\n",
    "fig = plt.figure(figsize=(8,6))\n",
    "ax = plt.gca()\n",
    "ax.plot(history_2.history['val_loss'], label=\"Validation\")\n",
    "ax.plot(history_2.history['loss'], label=\"Training\")\n",
    "plt.rcParams['font.family'] = 'DejaVu Sans'\n",
    "\n",
    "# y axis\n",
    "ax.set_yscale('log')\n",
    "# ax.set_yticks(yticks)\n",
    "# ax.set_yticklabels(ylabels, fontsize=12)\n",
    "ax.set_ylim(2,15)\n",
    "# ax.yaxis.set_major_locator(ticker.LogLocator(base=10, numticks=10))\n",
    "# ax.yaxis.set_minor_locator(ticker.LogLocator(base=10, numticks=10))\n",
    "ax.set_xlim(0,xrange)\n",
    "ax.set_xlabel('Epochs', fontsize=12)\n",
    "ax.set_ylabel('Loss', fontsize=12)\n",
    "ax.legend(loc='upper right', ncol=1, prop={\"family\":'DejaVu Sans', 'size':'14'})\n",
    "ax.text(13, 8.5, 'LR=5e-3', fontsize=14)\n",
    "ax.text(13, 9.5, 'Batch: 100', fontsize=14)\n",
    "plt.tight_layout()\n",
    "plt.savefig('Plots/November21/PointNet_base_lossCurves_100batch_LR5e-3_2021-11-08.png', format='png')\n",
    "plt.show()"
   ]
  },
  {
   "cell_type": "markdown",
   "id": "93a070c0-2929-4017-934d-194bd6656b85",
   "metadata": {},
   "source": [
    "### Producing plots of predictions versus truth"
   ]
  },
  {
   "cell_type": "code",
   "execution_count": 20,
   "id": "28fc42ba-ae75-4d3f-ae94-a0bf471c16f6",
   "metadata": {},
   "outputs": [],
   "source": [
    "# print(dat_test.cardinality())\n",
    "\n",
    "# dat_test.get_single_element()\n",
    "# # print(tf.rank(dat_test))\n",
    "# print('Batch size: '+str(int(batch_size)))\n",
    "# keras.backend.int_shape(dat_test)"
   ]
  },
  {
   "cell_type": "code",
   "execution_count": 21,
   "id": "87532635-c5b6-4a6a-a4a9-24ccd72000da",
   "metadata": {},
   "outputs": [],
   "source": [
    "preds_1 = russ_model.predict(X_test)"
   ]
  },
  {
   "cell_type": "code",
   "execution_count": 22,
   "id": "bd416c24-0d4c-49c7-98fa-090f2e925528",
   "metadata": {
    "scrolled": true,
    "tags": []
   },
   "outputs": [
    {
     "name": "stdout",
     "output_type": "stream",
     "text": [
      "(383, 1078, 3)\n",
      "[[ 2.26115141e+00  4.48378857e-01  9.72888053e-01 -1.50733932e+00]\n",
      " [ 2.93400870e+00  5.68697662e-01  8.90211674e-03  4.36339691e-02]\n",
      " [ 4.21150598e+00  5.75559000e-01 -5.31511239e-03  2.05950890e-02]\n",
      " [ 3.45566830e+00  6.39201516e-01 -4.35872125e-02  6.84481156e-03]\n",
      " [ 2.74772395e+00  5.74348982e-01  3.02939311e-02 -4.23553963e-02]\n",
      " [ 3.89586635e+00  5.64766578e-01  1.40259564e-02 -6.16439132e-02]\n",
      " [ 4.82986362e+00  1.66644474e-01 -3.88196524e-02 -7.66856166e-02]\n",
      " [-6.79471847e-01  8.11210437e-01 -2.82734223e-01 -6.06363399e-01]\n",
      " [ 5.84666834e+00  1.85412246e-01 -1.22486447e-02 -3.66685175e-03]\n",
      " [ 5.08018102e+00  5.55980380e-01  8.93161422e-02 -1.44726499e-01]]\n",
      "[1 0 0]\n",
      "[[0.66507524 0.2656677  0.06925705]\n",
      " [0.66925627 0.26337877 0.06736503]\n",
      " [0.6406358  0.28645492 0.07290926]\n",
      " [0.656623   0.2748919  0.06848506]\n",
      " [0.6744961  0.26166263 0.06384122]\n",
      " [0.6730578  0.26307607 0.0638661 ]\n",
      " [0.70034313 0.2412539  0.05840293]\n",
      " [0.68811566 0.25119716 0.06068716]\n",
      " [0.70922565 0.23373832 0.05703599]\n",
      " [0.7349482  0.21364081 0.05141089]\n",
      " [0.727285   0.22171026 0.05100469]\n",
      " [0.699681   0.24261522 0.05770382]\n",
      " [0.7026211  0.24035613 0.05702275]\n",
      " [0.70259976 0.24035126 0.05704896]\n",
      " [0.73008174 0.21853368 0.05138459]\n",
      " [0.7347531  0.21353446 0.05171252]\n",
      " [0.73588485 0.21248716 0.051628  ]\n",
      " [0.7149019  0.2190778  0.0660203 ]\n",
      " [0.71131766 0.23279311 0.05588924]\n",
      " [0.7264182  0.21987891 0.0537029 ]\n",
      " [0.72168016 0.22326772 0.05505206]\n",
      " [0.7389761  0.212243   0.04878083]\n",
      " [0.7087841  0.23595524 0.0552606 ]\n",
      " [0.6695776  0.26503536 0.06538709]\n",
      " [0.6982844  0.24282894 0.05888661]\n",
      " [0.6691029  0.26555547 0.06534158]\n",
      " [0.70222723 0.24078701 0.05698567]\n",
      " [0.734065   0.21645024 0.04948468]\n",
      " [0.73636883 0.2132753  0.0503558 ]\n",
      " [0.7163259  0.21990687 0.06376725]\n",
      " [0.7109177  0.23257637 0.05650592]\n",
      " [0.7120798  0.23209627 0.05582389]\n",
      " [0.7218284  0.22143565 0.05673593]\n",
      " [0.7114078  0.22225393 0.06633832]\n",
      " [0.72653353 0.21964167 0.05382479]\n",
      " [0.7382314  0.20860158 0.05316697]\n",
      " [0.72453284 0.22148061 0.05398659]\n",
      " [0.71780753 0.21298246 0.06921001]\n",
      " [0.74427307 0.20275752 0.05296948]\n",
      " [0.74141866 0.20322204 0.0553593 ]\n",
      " [0.7424137  0.20625465 0.05133165]\n",
      " [0.74196905 0.20704496 0.05098596]\n",
      " [0.739368   0.20994408 0.05068794]\n",
      " [0.737654   0.20944464 0.05290149]\n",
      " [0.7471867  0.20278263 0.0500306 ]\n",
      " [0.74749213 0.20163558 0.05087231]\n",
      " [0.74667704 0.20096654 0.0523564 ]\n",
      " [0.7466134  0.20311296 0.0502737 ]\n",
      " [0.746987   0.2018167  0.05119631]\n",
      " [0.7450055  0.20470676 0.05028774]\n",
      " [0.7423023  0.20802088 0.04967684]\n",
      " [0.73982036 0.21015428 0.05002537]\n",
      " [0.7255836  0.21701297 0.0574034 ]\n",
      " [0.74044275 0.20731464 0.05224264]\n",
      " [0.74134225 0.20442413 0.05423362]\n",
      " [0.7401255  0.20708448 0.05279006]\n",
      " [0.7399379  0.20719755 0.05286446]\n",
      " [0.7400033  0.20617415 0.05382254]\n",
      " [0.7131728  0.21545441 0.07137283]\n",
      " [0.7092645  0.23309933 0.05763618]\n",
      " [0.7291573  0.21413624 0.05670642]\n",
      " [0.7279934  0.20888352 0.063123  ]\n",
      " [0.7335301  0.21243669 0.05403313]\n",
      " [0.73110336 0.21162309 0.05727364]\n",
      " [0.73964024 0.20997222 0.05038752]\n",
      " [0.74082756 0.20813519 0.05103726]\n",
      " [0.741068   0.20777066 0.05116132]\n",
      " [0.74245477 0.20651644 0.05102886]\n",
      " [0.7429351  0.2049319  0.05213301]\n",
      " [0.73382735 0.20604795 0.06012471]\n",
      " [0.7435181  0.20349415 0.05298772]\n",
      " [0.73152953 0.20707956 0.0613909 ]\n",
      " [0.7201721  0.21216767 0.06766016]\n",
      " [0.7253409  0.20993716 0.06472193]\n",
      " [0.73726577 0.20546699 0.05726723]\n",
      " [0.7162159  0.21454115 0.06924296]\n",
      " [0.72061855 0.22595419 0.05342725]\n",
      " [0.6874679  0.2521981  0.06033404]\n",
      " [0.7028189  0.24031216 0.05686902]\n",
      " [0.69108576 0.24942842 0.05948584]\n",
      " [0.7398973  0.21261026 0.04749241]\n",
      " [0.7481885  0.20050456 0.05130694]\n",
      " [0.74867374 0.20186001 0.04946623]\n",
      " [0.7469037  0.2006994  0.05239689]\n",
      " [0.73382056 0.2127176  0.05346192]\n",
      " [0.74461174 0.2014989  0.05388935]\n",
      " [0.7245384  0.20967332 0.0657883 ]\n",
      " [0.735261   0.21196377 0.05277522]\n",
      " [0.7635689  0.19331138 0.04311974]\n",
      " [0.72407526 0.22045816 0.05546651]\n",
      " [0.72481555 0.22043027 0.0547542 ]\n",
      " [0.7110418  0.2185914  0.07036683]\n",
      " [0.72879505 0.21116294 0.06004204]\n",
      " [0.71679795 0.21322973 0.06997238]\n",
      " [0.73977935 0.2076006  0.05262011]\n",
      " [0.7327569  0.21408008 0.05316293]\n",
      " [0.73199975 0.21447517 0.05352506]\n",
      " [0.74529904 0.20202062 0.05268046]\n",
      " [0.74494624 0.20336716 0.0516866 ]\n",
      " [0.7438954  0.204766   0.05133858]]\n"
     ]
    }
   ],
   "source": [
    "print(np.shape(preds_1))\n",
    "print(X_test[:10,0,:])\n",
    "print(Y_test[0,0,:])\n",
    "print(preds_1[0,0:100,:])"
   ]
  },
  {
   "cell_type": "code",
   "execution_count": 23,
   "id": "ac02955d-348f-4217-b8cc-723280365ca6",
   "metadata": {},
   "outputs": [
    {
     "name": "stdout",
     "output_type": "stream",
     "text": [
      "1.0\n"
     ]
    }
   ],
   "source": [
    "print(np.sum(preds_1[0,0,:]))"
   ]
  },
  {
   "cell_type": "code",
   "execution_count": null,
   "id": "716484ae-ac3c-4847-92c9-a9326cc88add",
   "metadata": {},
   "outputs": [],
   "source": []
  }
 ],
 "metadata": {
  "kernelspec": {
   "display_name": "Python 3 (ipykernel)",
   "language": "python",
   "name": "python3"
  },
  "language_info": {
   "codemirror_mode": {
    "name": "ipython",
    "version": 3
   },
   "file_extension": ".py",
   "mimetype": "text/x-python",
   "name": "python",
   "nbconvert_exporter": "python",
   "pygments_lexer": "ipython3",
   "version": "3.8.10"
  }
 },
 "nbformat": 4,
 "nbformat_minor": 5
}
